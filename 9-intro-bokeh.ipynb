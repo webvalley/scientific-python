{
 "cells": [
  {
   "cell_type": "markdown",
   "metadata": {},
   "source": [
    "# Bokeh: quick (and partial) summary\n",
    "Giuseppe Jurman\n",
    "\n",
    "April, 29th 2019\n",
    "\n",
    "(partially abridged from [Data Visualisation with Bokeh](https://github.com/ernestoarbitrio/bokeh-data-visualisation))"
   ]
  },
  {
   "cell_type": "markdown",
   "metadata": {},
   "source": [
    "**Bokeh** is a `Python` interactive visualization library that targets modern web browsers for presentation. Bokeh provides elegant, concise construction of novel graphics with high-performance interactivity over very large or streaming datasets in a quick and easy way.\n",
    "\n",
    "To offer both simplicity and the powerful and flexible features needed for advanced customizations, Bokeh exposes two interface levels to users:\n",
    "\n",
    "- a low-level bokeh.models interface that provides the most flexibility to application developers.\n",
    "- an higher-level bokeh.plotting interface centered around composing visual glyphs.\n",
    "\n",
    "This Introduction focuses on the bokeh.plotting interface."
   ]
  },
  {
   "cell_type": "markdown",
   "metadata": {},
   "source": [
    "## Defining key concepts\n",
    "\n",
    "### Glossary\n",
    "\n",
    "In order to make the best use of this User Guide, it is important to have context for some high level concepts and terms. Here is a small glossary of some of the most important concepts in Bokeh.\n",
    "\n",
    "**Application**\n",
    "\n",
    "A Bokeh application is a rendered Bokeh document, running in a browser.\n",
    "\n",
    "**BokehJS**\n",
    "\n",
    "The JavaScript client library that actually renders the visuals and handles the UI interactions for Bokeh plots and widgets in the browser. Typically, users will not have to think about this aspect of Bokeh much (“We write the JavaScript, so you don’t have to!”) but it is good to have basic knowledge of this dichotomy. For full details, see the BokehJS chapter of the Developer Guide.\n",
    "\n",
    "**Documents**\n",
    "\n",
    "An organizing data structure for Bokeh applications. Documents contain all the Bokeh Models and data needed to render an interactive visualization or application in the browser.\n",
    "\n",
    "**Embedding**\n",
    "\n",
    "Various methods of including Bokeh plots and widgets into web apps and pages, or the IPython notebook. See Embedding Plots and Apps for more details.\n",
    "\n",
    "**Glyphs**\n",
    "\n",
    "The basic visual building blocks of Bokeh plots, e.g. lines, rectangles, squares, wedges, patches, etc. The bokeh.plotting interface provides a convenient way to create plots centered around glyphs. See Plotting with Basic Glyphs for more information.\n",
    "\n",
    "**Models**\n",
    "\n",
    "The lowest-level objects that comprise Bokeh “scenegraphs”. These live in the bokeh.models interface. Most users will not use this level of interface to assemble plots directly. However, ultimately all Bokeh plots consist of collections of models, so it is important to understand them enough to configure their attributes and properties. See Styling Visual Attributes for more information.\n",
    "\n",
    "**Server**\n",
    "\n",
    "The Bokeh server is an optional component that can be used for sharing and publishing Bokeh plots and apps, for handling streaming of large data sets, or for enabling sophisticated user interactions based off of widgets and selections. See Running a Bokeh Server for more explanation.\n",
    "\n",
    "**Widgets**\n",
    "\n",
    "User interface elements outside of a Bokeh plot such as sliders, drop down menus, buttons, etc. Events and updates from widgets can inform additional computations, or cause Bokeh plots to update. Widgets can be used in both standalone applications or with the Bokeh server. For examples and information, see Adding Interactions."
   ]
  },
  {
   "cell_type": "markdown",
   "metadata": {},
   "source": [
    "### Getting Started\n",
    "\n",
    "Let’s begin with some examples.\n",
    "\n",
    "Anyway Bokeh is composed by a lot of capabilities and functions. In this tutorial we will see a little part of the library, so for more detailed information please consult the full [User Guide](http://bokeh.pydata.org/en/latest/docs/user_guide.html#userguide).\n",
    "\n",
    "Plotting data in basic Python lists as a line plot including zoom, pan, save, and other tools is simple and straightforward:"
   ]
  },
  {
   "cell_type": "code",
   "execution_count": 1,
   "metadata": {},
   "outputs": [],
   "source": [
    "import bokeh"
   ]
  },
  {
   "cell_type": "code",
   "execution_count": 2,
   "metadata": {},
   "outputs": [
    {
     "data": {
      "text/plain": [
       "'1.2.0'"
      ]
     },
     "execution_count": 2,
     "metadata": {},
     "output_type": "execute_result"
    }
   ],
   "source": [
    "bokeh.__version__"
   ]
  },
  {
   "cell_type": "code",
   "execution_count": 3,
   "metadata": {},
   "outputs": [
    {
     "data": {
      "text/html": [
       "\n",
       "    <div class=\"bk-root\">\n",
       "        <a href=\"https://bokeh.pydata.org\" target=\"_blank\" class=\"bk-logo bk-logo-small bk-logo-notebook\"></a>\n",
       "        <span id=\"1001\">Loading BokehJS ...</span>\n",
       "    </div>"
      ]
     },
     "metadata": {},
     "output_type": "display_data"
    },
    {
     "data": {
      "application/javascript": [
       "\n",
       "(function(root) {\n",
       "  function now() {\n",
       "    return new Date();\n",
       "  }\n",
       "\n",
       "  var force = true;\n",
       "\n",
       "  if (typeof root._bokeh_onload_callbacks === \"undefined\" || force === true) {\n",
       "    root._bokeh_onload_callbacks = [];\n",
       "    root._bokeh_is_loading = undefined;\n",
       "  }\n",
       "\n",
       "  var JS_MIME_TYPE = 'application/javascript';\n",
       "  var HTML_MIME_TYPE = 'text/html';\n",
       "  var EXEC_MIME_TYPE = 'application/vnd.bokehjs_exec.v0+json';\n",
       "  var CLASS_NAME = 'output_bokeh rendered_html';\n",
       "\n",
       "  /**\n",
       "   * Render data to the DOM node\n",
       "   */\n",
       "  function render(props, node) {\n",
       "    var script = document.createElement(\"script\");\n",
       "    node.appendChild(script);\n",
       "  }\n",
       "\n",
       "  /**\n",
       "   * Handle when an output is cleared or removed\n",
       "   */\n",
       "  function handleClearOutput(event, handle) {\n",
       "    var cell = handle.cell;\n",
       "\n",
       "    var id = cell.output_area._bokeh_element_id;\n",
       "    var server_id = cell.output_area._bokeh_server_id;\n",
       "    // Clean up Bokeh references\n",
       "    if (id != null && id in Bokeh.index) {\n",
       "      Bokeh.index[id].model.document.clear();\n",
       "      delete Bokeh.index[id];\n",
       "    }\n",
       "\n",
       "    if (server_id !== undefined) {\n",
       "      // Clean up Bokeh references\n",
       "      var cmd = \"from bokeh.io.state import curstate; print(curstate().uuid_to_server['\" + server_id + \"'].get_sessions()[0].document.roots[0]._id)\";\n",
       "      cell.notebook.kernel.execute(cmd, {\n",
       "        iopub: {\n",
       "          output: function(msg) {\n",
       "            var id = msg.content.text.trim();\n",
       "            if (id in Bokeh.index) {\n",
       "              Bokeh.index[id].model.document.clear();\n",
       "              delete Bokeh.index[id];\n",
       "            }\n",
       "          }\n",
       "        }\n",
       "      });\n",
       "      // Destroy server and session\n",
       "      var cmd = \"import bokeh.io.notebook as ion; ion.destroy_server('\" + server_id + \"')\";\n",
       "      cell.notebook.kernel.execute(cmd);\n",
       "    }\n",
       "  }\n",
       "\n",
       "  /**\n",
       "   * Handle when a new output is added\n",
       "   */\n",
       "  function handleAddOutput(event, handle) {\n",
       "    var output_area = handle.output_area;\n",
       "    var output = handle.output;\n",
       "\n",
       "    // limit handleAddOutput to display_data with EXEC_MIME_TYPE content only\n",
       "    if ((output.output_type != \"display_data\") || (!output.data.hasOwnProperty(EXEC_MIME_TYPE))) {\n",
       "      return\n",
       "    }\n",
       "\n",
       "    var toinsert = output_area.element.find(\".\" + CLASS_NAME.split(' ')[0]);\n",
       "\n",
       "    if (output.metadata[EXEC_MIME_TYPE][\"id\"] !== undefined) {\n",
       "      toinsert[toinsert.length - 1].firstChild.textContent = output.data[JS_MIME_TYPE];\n",
       "      // store reference to embed id on output_area\n",
       "      output_area._bokeh_element_id = output.metadata[EXEC_MIME_TYPE][\"id\"];\n",
       "    }\n",
       "    if (output.metadata[EXEC_MIME_TYPE][\"server_id\"] !== undefined) {\n",
       "      var bk_div = document.createElement(\"div\");\n",
       "      bk_div.innerHTML = output.data[HTML_MIME_TYPE];\n",
       "      var script_attrs = bk_div.children[0].attributes;\n",
       "      for (var i = 0; i < script_attrs.length; i++) {\n",
       "        toinsert[toinsert.length - 1].firstChild.setAttribute(script_attrs[i].name, script_attrs[i].value);\n",
       "      }\n",
       "      // store reference to server id on output_area\n",
       "      output_area._bokeh_server_id = output.metadata[EXEC_MIME_TYPE][\"server_id\"];\n",
       "    }\n",
       "  }\n",
       "\n",
       "  function register_renderer(events, OutputArea) {\n",
       "\n",
       "    function append_mime(data, metadata, element) {\n",
       "      // create a DOM node to render to\n",
       "      var toinsert = this.create_output_subarea(\n",
       "        metadata,\n",
       "        CLASS_NAME,\n",
       "        EXEC_MIME_TYPE\n",
       "      );\n",
       "      this.keyboard_manager.register_events(toinsert);\n",
       "      // Render to node\n",
       "      var props = {data: data, metadata: metadata[EXEC_MIME_TYPE]};\n",
       "      render(props, toinsert[toinsert.length - 1]);\n",
       "      element.append(toinsert);\n",
       "      return toinsert\n",
       "    }\n",
       "\n",
       "    /* Handle when an output is cleared or removed */\n",
       "    events.on('clear_output.CodeCell', handleClearOutput);\n",
       "    events.on('delete.Cell', handleClearOutput);\n",
       "\n",
       "    /* Handle when a new output is added */\n",
       "    events.on('output_added.OutputArea', handleAddOutput);\n",
       "\n",
       "    /**\n",
       "     * Register the mime type and append_mime function with output_area\n",
       "     */\n",
       "    OutputArea.prototype.register_mime_type(EXEC_MIME_TYPE, append_mime, {\n",
       "      /* Is output safe? */\n",
       "      safe: true,\n",
       "      /* Index of renderer in `output_area.display_order` */\n",
       "      index: 0\n",
       "    });\n",
       "  }\n",
       "\n",
       "  // register the mime type if in Jupyter Notebook environment and previously unregistered\n",
       "  if (root.Jupyter !== undefined) {\n",
       "    var events = require('base/js/events');\n",
       "    var OutputArea = require('notebook/js/outputarea').OutputArea;\n",
       "\n",
       "    if (OutputArea.prototype.mime_types().indexOf(EXEC_MIME_TYPE) == -1) {\n",
       "      register_renderer(events, OutputArea);\n",
       "    }\n",
       "  }\n",
       "\n",
       "  \n",
       "  if (typeof (root._bokeh_timeout) === \"undefined\" || force === true) {\n",
       "    root._bokeh_timeout = Date.now() + 5000;\n",
       "    root._bokeh_failed_load = false;\n",
       "  }\n",
       "\n",
       "  var NB_LOAD_WARNING = {'data': {'text/html':\n",
       "     \"<div style='background-color: #fdd'>\\n\"+\n",
       "     \"<p>\\n\"+\n",
       "     \"BokehJS does not appear to have successfully loaded. If loading BokehJS from CDN, this \\n\"+\n",
       "     \"may be due to a slow or bad network connection. Possible fixes:\\n\"+\n",
       "     \"</p>\\n\"+\n",
       "     \"<ul>\\n\"+\n",
       "     \"<li>re-rerun `output_notebook()` to attempt to load from CDN again, or</li>\\n\"+\n",
       "     \"<li>use INLINE resources instead, as so:</li>\\n\"+\n",
       "     \"</ul>\\n\"+\n",
       "     \"<code>\\n\"+\n",
       "     \"from bokeh.resources import INLINE\\n\"+\n",
       "     \"output_notebook(resources=INLINE)\\n\"+\n",
       "     \"</code>\\n\"+\n",
       "     \"</div>\"}};\n",
       "\n",
       "  function display_loaded() {\n",
       "    var el = document.getElementById(\"1001\");\n",
       "    if (el != null) {\n",
       "      el.textContent = \"BokehJS is loading...\";\n",
       "    }\n",
       "    if (root.Bokeh !== undefined) {\n",
       "      if (el != null) {\n",
       "        el.textContent = \"BokehJS \" + root.Bokeh.version + \" successfully loaded.\";\n",
       "      }\n",
       "    } else if (Date.now() < root._bokeh_timeout) {\n",
       "      setTimeout(display_loaded, 100)\n",
       "    }\n",
       "  }\n",
       "\n",
       "\n",
       "  function run_callbacks() {\n",
       "    try {\n",
       "      root._bokeh_onload_callbacks.forEach(function(callback) {\n",
       "        if (callback != null)\n",
       "          callback();\n",
       "      });\n",
       "    } finally {\n",
       "      delete root._bokeh_onload_callbacks\n",
       "    }\n",
       "    console.debug(\"Bokeh: all callbacks have finished\");\n",
       "  }\n",
       "\n",
       "  function load_libs(css_urls, js_urls, callback) {\n",
       "    if (css_urls == null) css_urls = [];\n",
       "    if (js_urls == null) js_urls = [];\n",
       "\n",
       "    root._bokeh_onload_callbacks.push(callback);\n",
       "    if (root._bokeh_is_loading > 0) {\n",
       "      console.debug(\"Bokeh: BokehJS is being loaded, scheduling callback at\", now());\n",
       "      return null;\n",
       "    }\n",
       "    if (js_urls == null || js_urls.length === 0) {\n",
       "      run_callbacks();\n",
       "      return null;\n",
       "    }\n",
       "    console.debug(\"Bokeh: BokehJS not loaded, scheduling load and callback at\", now());\n",
       "    root._bokeh_is_loading = css_urls.length + js_urls.length;\n",
       "\n",
       "    function on_load() {\n",
       "      root._bokeh_is_loading--;\n",
       "      if (root._bokeh_is_loading === 0) {\n",
       "        console.debug(\"Bokeh: all BokehJS libraries/stylesheets loaded\");\n",
       "        run_callbacks()\n",
       "      }\n",
       "    }\n",
       "\n",
       "    function on_error() {\n",
       "      console.error(\"failed to load \" + url);\n",
       "    }\n",
       "\n",
       "    for (var i = 0; i < css_urls.length; i++) {\n",
       "      var url = css_urls[i];\n",
       "      const element = document.createElement(\"link\");\n",
       "      element.onload = on_load;\n",
       "      element.onerror = on_error;\n",
       "      element.rel = \"stylesheet\";\n",
       "      element.type = \"text/css\";\n",
       "      element.href = url;\n",
       "      console.debug(\"Bokeh: injecting link tag for BokehJS stylesheet: \", url);\n",
       "      document.body.appendChild(element);\n",
       "    }\n",
       "\n",
       "    for (var i = 0; i < js_urls.length; i++) {\n",
       "      var url = js_urls[i];\n",
       "      var element = document.createElement('script');\n",
       "      element.onload = on_load;\n",
       "      element.onerror = on_error;\n",
       "      element.async = false;\n",
       "      element.src = url;\n",
       "      console.debug(\"Bokeh: injecting script tag for BokehJS library: \", url);\n",
       "      document.head.appendChild(element);\n",
       "    }\n",
       "  };var element = document.getElementById(\"1001\");\n",
       "  if (element == null) {\n",
       "    console.error(\"Bokeh: ERROR: autoload.js configured with elementid '1001' but no matching script tag was found. \")\n",
       "    return false;\n",
       "  }\n",
       "\n",
       "  function inject_raw_css(css) {\n",
       "    const element = document.createElement(\"style\");\n",
       "    element.appendChild(document.createTextNode(css));\n",
       "    document.body.appendChild(element);\n",
       "  }\n",
       "\n",
       "  var js_urls = [\"https://cdn.pydata.org/bokeh/release/bokeh-1.2.0.min.js\", \"https://cdn.pydata.org/bokeh/release/bokeh-widgets-1.2.0.min.js\", \"https://cdn.pydata.org/bokeh/release/bokeh-tables-1.2.0.min.js\", \"https://cdn.pydata.org/bokeh/release/bokeh-gl-1.2.0.min.js\"];\n",
       "  var css_urls = [\"https://cdn.pydata.org/bokeh/release/bokeh-1.2.0.min.css\", \"https://cdn.pydata.org/bokeh/release/bokeh-widgets-1.2.0.min.css\", \"https://cdn.pydata.org/bokeh/release/bokeh-tables-1.2.0.min.css\"];\n",
       "\n",
       "  var inline_js = [\n",
       "    function(Bokeh) {\n",
       "      Bokeh.set_log_level(\"info\");\n",
       "    },\n",
       "    \n",
       "    function(Bokeh) {\n",
       "      \n",
       "    },\n",
       "    function(Bokeh) {} // ensure no trailing comma for IE\n",
       "  ];\n",
       "\n",
       "  function run_inline_js() {\n",
       "    \n",
       "    if ((root.Bokeh !== undefined) || (force === true)) {\n",
       "      for (var i = 0; i < inline_js.length; i++) {\n",
       "        inline_js[i].call(root, root.Bokeh);\n",
       "      }if (force === true) {\n",
       "        display_loaded();\n",
       "      }} else if (Date.now() < root._bokeh_timeout) {\n",
       "      setTimeout(run_inline_js, 100);\n",
       "    } else if (!root._bokeh_failed_load) {\n",
       "      console.log(\"Bokeh: BokehJS failed to load within specified timeout.\");\n",
       "      root._bokeh_failed_load = true;\n",
       "    } else if (force !== true) {\n",
       "      var cell = $(document.getElementById(\"1001\")).parents('.cell').data().cell;\n",
       "      cell.output_area.append_execute_result(NB_LOAD_WARNING)\n",
       "    }\n",
       "\n",
       "  }\n",
       "\n",
       "  if (root._bokeh_is_loading === 0) {\n",
       "    console.debug(\"Bokeh: BokehJS loaded, going straight to plotting\");\n",
       "    run_inline_js();\n",
       "  } else {\n",
       "    load_libs(css_urls, js_urls, function() {\n",
       "      console.debug(\"Bokeh: BokehJS plotting callback run at\", now());\n",
       "      run_inline_js();\n",
       "    });\n",
       "  }\n",
       "}(window));"
      ],
      "application/vnd.bokehjs_load.v0+json": "\n(function(root) {\n  function now() {\n    return new Date();\n  }\n\n  var force = true;\n\n  if (typeof root._bokeh_onload_callbacks === \"undefined\" || force === true) {\n    root._bokeh_onload_callbacks = [];\n    root._bokeh_is_loading = undefined;\n  }\n\n  \n\n  \n  if (typeof (root._bokeh_timeout) === \"undefined\" || force === true) {\n    root._bokeh_timeout = Date.now() + 5000;\n    root._bokeh_failed_load = false;\n  }\n\n  var NB_LOAD_WARNING = {'data': {'text/html':\n     \"<div style='background-color: #fdd'>\\n\"+\n     \"<p>\\n\"+\n     \"BokehJS does not appear to have successfully loaded. If loading BokehJS from CDN, this \\n\"+\n     \"may be due to a slow or bad network connection. Possible fixes:\\n\"+\n     \"</p>\\n\"+\n     \"<ul>\\n\"+\n     \"<li>re-rerun `output_notebook()` to attempt to load from CDN again, or</li>\\n\"+\n     \"<li>use INLINE resources instead, as so:</li>\\n\"+\n     \"</ul>\\n\"+\n     \"<code>\\n\"+\n     \"from bokeh.resources import INLINE\\n\"+\n     \"output_notebook(resources=INLINE)\\n\"+\n     \"</code>\\n\"+\n     \"</div>\"}};\n\n  function display_loaded() {\n    var el = document.getElementById(\"1001\");\n    if (el != null) {\n      el.textContent = \"BokehJS is loading...\";\n    }\n    if (root.Bokeh !== undefined) {\n      if (el != null) {\n        el.textContent = \"BokehJS \" + root.Bokeh.version + \" successfully loaded.\";\n      }\n    } else if (Date.now() < root._bokeh_timeout) {\n      setTimeout(display_loaded, 100)\n    }\n  }\n\n\n  function run_callbacks() {\n    try {\n      root._bokeh_onload_callbacks.forEach(function(callback) {\n        if (callback != null)\n          callback();\n      });\n    } finally {\n      delete root._bokeh_onload_callbacks\n    }\n    console.debug(\"Bokeh: all callbacks have finished\");\n  }\n\n  function load_libs(css_urls, js_urls, callback) {\n    if (css_urls == null) css_urls = [];\n    if (js_urls == null) js_urls = [];\n\n    root._bokeh_onload_callbacks.push(callback);\n    if (root._bokeh_is_loading > 0) {\n      console.debug(\"Bokeh: BokehJS is being loaded, scheduling callback at\", now());\n      return null;\n    }\n    if (js_urls == null || js_urls.length === 0) {\n      run_callbacks();\n      return null;\n    }\n    console.debug(\"Bokeh: BokehJS not loaded, scheduling load and callback at\", now());\n    root._bokeh_is_loading = css_urls.length + js_urls.length;\n\n    function on_load() {\n      root._bokeh_is_loading--;\n      if (root._bokeh_is_loading === 0) {\n        console.debug(\"Bokeh: all BokehJS libraries/stylesheets loaded\");\n        run_callbacks()\n      }\n    }\n\n    function on_error() {\n      console.error(\"failed to load \" + url);\n    }\n\n    for (var i = 0; i < css_urls.length; i++) {\n      var url = css_urls[i];\n      const element = document.createElement(\"link\");\n      element.onload = on_load;\n      element.onerror = on_error;\n      element.rel = \"stylesheet\";\n      element.type = \"text/css\";\n      element.href = url;\n      console.debug(\"Bokeh: injecting link tag for BokehJS stylesheet: \", url);\n      document.body.appendChild(element);\n    }\n\n    for (var i = 0; i < js_urls.length; i++) {\n      var url = js_urls[i];\n      var element = document.createElement('script');\n      element.onload = on_load;\n      element.onerror = on_error;\n      element.async = false;\n      element.src = url;\n      console.debug(\"Bokeh: injecting script tag for BokehJS library: \", url);\n      document.head.appendChild(element);\n    }\n  };var element = document.getElementById(\"1001\");\n  if (element == null) {\n    console.error(\"Bokeh: ERROR: autoload.js configured with elementid '1001' but no matching script tag was found. \")\n    return false;\n  }\n\n  function inject_raw_css(css) {\n    const element = document.createElement(\"style\");\n    element.appendChild(document.createTextNode(css));\n    document.body.appendChild(element);\n  }\n\n  var js_urls = [\"https://cdn.pydata.org/bokeh/release/bokeh-1.2.0.min.js\", \"https://cdn.pydata.org/bokeh/release/bokeh-widgets-1.2.0.min.js\", \"https://cdn.pydata.org/bokeh/release/bokeh-tables-1.2.0.min.js\", \"https://cdn.pydata.org/bokeh/release/bokeh-gl-1.2.0.min.js\"];\n  var css_urls = [\"https://cdn.pydata.org/bokeh/release/bokeh-1.2.0.min.css\", \"https://cdn.pydata.org/bokeh/release/bokeh-widgets-1.2.0.min.css\", \"https://cdn.pydata.org/bokeh/release/bokeh-tables-1.2.0.min.css\"];\n\n  var inline_js = [\n    function(Bokeh) {\n      Bokeh.set_log_level(\"info\");\n    },\n    \n    function(Bokeh) {\n      \n    },\n    function(Bokeh) {} // ensure no trailing comma for IE\n  ];\n\n  function run_inline_js() {\n    \n    if ((root.Bokeh !== undefined) || (force === true)) {\n      for (var i = 0; i < inline_js.length; i++) {\n        inline_js[i].call(root, root.Bokeh);\n      }if (force === true) {\n        display_loaded();\n      }} else if (Date.now() < root._bokeh_timeout) {\n      setTimeout(run_inline_js, 100);\n    } else if (!root._bokeh_failed_load) {\n      console.log(\"Bokeh: BokehJS failed to load within specified timeout.\");\n      root._bokeh_failed_load = true;\n    } else if (force !== true) {\n      var cell = $(document.getElementById(\"1001\")).parents('.cell').data().cell;\n      cell.output_area.append_execute_result(NB_LOAD_WARNING)\n    }\n\n  }\n\n  if (root._bokeh_is_loading === 0) {\n    console.debug(\"Bokeh: BokehJS loaded, going straight to plotting\");\n    run_inline_js();\n  } else {\n    load_libs(css_urls, js_urls, function() {\n      console.debug(\"Bokeh: BokehJS plotting callback run at\", now());\n      run_inline_js();\n    });\n  }\n}(window));"
     },
     "metadata": {},
     "output_type": "display_data"
    }
   ],
   "source": [
    "from bokeh.plotting import figure, output_notebook, show\n",
    "output_notebook()"
   ]
  },
  {
   "cell_type": "code",
   "execution_count": 4,
   "metadata": {},
   "outputs": [
    {
     "data": {
      "text/html": [
       "\n",
       "\n",
       "\n",
       "\n",
       "\n",
       "\n",
       "  <div class=\"bk-root\" id=\"1b75dc6b-4ca4-4e69-b3ca-c8cc95dbabda\" data-root-id=\"1002\"></div>\n"
      ]
     },
     "metadata": {},
     "output_type": "display_data"
    },
    {
     "data": {
      "application/javascript": [
       "(function(root) {\n",
       "  function embed_document(root) {\n",
       "    \n",
       "  var docs_json = {\"914eae0d-1471-4831-beae-a6352241bdbf\":{\"roots\":{\"references\":[{\"attributes\":{\"below\":[{\"id\":\"1011\",\"type\":\"LinearAxis\"}],\"center\":[{\"id\":\"1015\",\"type\":\"Grid\"},{\"id\":\"1020\",\"type\":\"Grid\"}],\"left\":[{\"id\":\"1016\",\"type\":\"LinearAxis\"}],\"plot_height\":400,\"plot_width\":400,\"renderers\":[{\"id\":\"1037\",\"type\":\"GlyphRenderer\"}],\"title\":{\"id\":\"1039\",\"type\":\"Title\"},\"toolbar\":{\"id\":\"1027\",\"type\":\"Toolbar\"},\"x_range\":{\"id\":\"1003\",\"type\":\"DataRange1d\"},\"x_scale\":{\"id\":\"1007\",\"type\":\"LinearScale\"},\"y_range\":{\"id\":\"1005\",\"type\":\"DataRange1d\"},\"y_scale\":{\"id\":\"1009\",\"type\":\"LinearScale\"}},\"id\":\"1002\",\"subtype\":\"Figure\",\"type\":\"Plot\"},{\"attributes\":{},\"id\":\"1045\",\"type\":\"Selection\"},{\"attributes\":{},\"id\":\"1026\",\"type\":\"HelpTool\"},{\"attributes\":{\"callback\":null},\"id\":\"1003\",\"type\":\"DataRange1d\"},{\"attributes\":{\"active_drag\":\"auto\",\"active_inspect\":\"auto\",\"active_multi\":null,\"active_scroll\":\"auto\",\"active_tap\":\"auto\",\"tools\":[{\"id\":\"1021\",\"type\":\"PanTool\"},{\"id\":\"1022\",\"type\":\"WheelZoomTool\"},{\"id\":\"1023\",\"type\":\"BoxZoomTool\"},{\"id\":\"1024\",\"type\":\"SaveTool\"},{\"id\":\"1025\",\"type\":\"ResetTool\"},{\"id\":\"1026\",\"type\":\"HelpTool\"}]},\"id\":\"1027\",\"type\":\"Toolbar\"},{\"attributes\":{\"callback\":null},\"id\":\"1005\",\"type\":\"DataRange1d\"},{\"attributes\":{},\"id\":\"1007\",\"type\":\"LinearScale\"},{\"attributes\":{},\"id\":\"1043\",\"type\":\"BasicTickFormatter\"},{\"attributes\":{\"data_source\":{\"id\":\"1034\",\"type\":\"ColumnDataSource\"},\"glyph\":{\"id\":\"1035\",\"type\":\"Circle\"},\"hover_glyph\":null,\"muted_glyph\":null,\"nonselection_glyph\":{\"id\":\"1036\",\"type\":\"Circle\"},\"selection_glyph\":null,\"view\":{\"id\":\"1038\",\"type\":\"CDSView\"}},\"id\":\"1037\",\"type\":\"GlyphRenderer\"},{\"attributes\":{},\"id\":\"1009\",\"type\":\"LinearScale\"},{\"attributes\":{\"source\":{\"id\":\"1034\",\"type\":\"ColumnDataSource\"}},\"id\":\"1038\",\"type\":\"CDSView\"},{\"attributes\":{\"formatter\":{\"id\":\"1043\",\"type\":\"BasicTickFormatter\"},\"ticker\":{\"id\":\"1012\",\"type\":\"BasicTicker\"}},\"id\":\"1011\",\"type\":\"LinearAxis\"},{\"attributes\":{},\"id\":\"1012\",\"type\":\"BasicTicker\"},{\"attributes\":{},\"id\":\"1046\",\"type\":\"UnionRenderers\"},{\"attributes\":{\"ticker\":{\"id\":\"1012\",\"type\":\"BasicTicker\"}},\"id\":\"1015\",\"type\":\"Grid\"},{\"attributes\":{},\"id\":\"1041\",\"type\":\"BasicTickFormatter\"},{\"attributes\":{\"bottom_units\":\"screen\",\"fill_alpha\":{\"value\":0.5},\"fill_color\":{\"value\":\"lightgrey\"},\"left_units\":\"screen\",\"level\":\"overlay\",\"line_alpha\":{\"value\":1.0},\"line_color\":{\"value\":\"black\"},\"line_dash\":[4,4],\"line_width\":{\"value\":2},\"render_mode\":\"css\",\"right_units\":\"screen\",\"top_units\":\"screen\"},\"id\":\"1047\",\"type\":\"BoxAnnotation\"},{\"attributes\":{\"formatter\":{\"id\":\"1041\",\"type\":\"BasicTickFormatter\"},\"ticker\":{\"id\":\"1017\",\"type\":\"BasicTicker\"}},\"id\":\"1016\",\"type\":\"LinearAxis\"},{\"attributes\":{},\"id\":\"1017\",\"type\":\"BasicTicker\"},{\"attributes\":{\"dimension\":1,\"ticker\":{\"id\":\"1017\",\"type\":\"BasicTicker\"}},\"id\":\"1020\",\"type\":\"Grid\"},{\"attributes\":{\"fill_alpha\":{\"value\":0.5},\"fill_color\":{\"value\":\"navy\"},\"line_alpha\":{\"value\":0.5},\"line_color\":{\"value\":\"navy\"},\"size\":{\"units\":\"screen\",\"value\":20},\"x\":{\"field\":\"x\"},\"y\":{\"field\":\"y\"}},\"id\":\"1035\",\"type\":\"Circle\"},{\"attributes\":{\"fill_alpha\":{\"value\":0.1},\"fill_color\":{\"value\":\"#1f77b4\"},\"line_alpha\":{\"value\":0.1},\"line_color\":{\"value\":\"#1f77b4\"},\"size\":{\"units\":\"screen\",\"value\":20},\"x\":{\"field\":\"x\"},\"y\":{\"field\":\"y\"}},\"id\":\"1036\",\"type\":\"Circle\"},{\"attributes\":{},\"id\":\"1021\",\"type\":\"PanTool\"},{\"attributes\":{},\"id\":\"1022\",\"type\":\"WheelZoomTool\"},{\"attributes\":{\"overlay\":{\"id\":\"1047\",\"type\":\"BoxAnnotation\"}},\"id\":\"1023\",\"type\":\"BoxZoomTool\"},{\"attributes\":{\"text\":\"\"},\"id\":\"1039\",\"type\":\"Title\"},{\"attributes\":{},\"id\":\"1024\",\"type\":\"SaveTool\"},{\"attributes\":{\"callback\":null,\"data\":{\"x\":[1,2,3,4,5],\"y\":[6,7,2,4,5]},\"selected\":{\"id\":\"1045\",\"type\":\"Selection\"},\"selection_policy\":{\"id\":\"1046\",\"type\":\"UnionRenderers\"}},\"id\":\"1034\",\"type\":\"ColumnDataSource\"},{\"attributes\":{},\"id\":\"1025\",\"type\":\"ResetTool\"}],\"root_ids\":[\"1002\"]},\"title\":\"Bokeh Application\",\"version\":\"1.2.0\"}};\n",
       "  var render_items = [{\"docid\":\"914eae0d-1471-4831-beae-a6352241bdbf\",\"roots\":{\"1002\":\"1b75dc6b-4ca4-4e69-b3ca-c8cc95dbabda\"}}];\n",
       "  root.Bokeh.embed.embed_items_notebook(docs_json, render_items);\n",
       "\n",
       "  }\n",
       "  if (root.Bokeh !== undefined) {\n",
       "    embed_document(root);\n",
       "  } else {\n",
       "    var attempts = 0;\n",
       "    var timer = setInterval(function(root) {\n",
       "      if (root.Bokeh !== undefined) {\n",
       "        embed_document(root);\n",
       "        clearInterval(timer);\n",
       "      }\n",
       "      attempts++;\n",
       "      if (attempts > 100) {\n",
       "        console.log(\"Bokeh: ERROR: Unable to run BokehJS code because BokehJS library is missing\");\n",
       "        clearInterval(timer);\n",
       "      }\n",
       "    }, 10, root)\n",
       "  }\n",
       "})(window);"
      ],
      "application/vnd.bokehjs_exec.v0+json": ""
     },
     "metadata": {
      "application/vnd.bokehjs_exec.v0+json": {
       "id": "1002"
      }
     },
     "output_type": "display_data"
    }
   ],
   "source": [
    "p = figure(plot_width=400, plot_height=400)\n",
    "\n",
    "# add a circle renderer with a size, color, and alpha\n",
    "p.circle([1, 2, 3, 4, 5], [6, 7, 2, 4, 5], size=20, color=\"navy\", alpha=0.5)\n",
    "\n",
    "# show the results\n",
    "show(p)"
   ]
  },
  {
   "cell_type": "markdown",
   "metadata": {},
   "source": [
    "### Multiple lines"
   ]
  },
  {
   "cell_type": "code",
   "execution_count": 5,
   "metadata": {},
   "outputs": [
    {
     "data": {
      "text/html": [
       "\n",
       "\n",
       "\n",
       "\n",
       "\n",
       "\n",
       "  <div class=\"bk-root\" id=\"ace90ec4-2579-44b8-9bbc-c990c0790f8f\" data-root-id=\"1102\"></div>\n"
      ]
     },
     "metadata": {},
     "output_type": "display_data"
    },
    {
     "data": {
      "application/javascript": [
       "(function(root) {\n",
       "  function embed_document(root) {\n",
       "    \n",
       "  var docs_json = {\"4c4288e6-99ad-49eb-a7fa-8e34df2b9019\":{\"roots\":{\"references\":[{\"attributes\":{\"below\":[{\"id\":\"1111\",\"type\":\"LinearAxis\"}],\"center\":[{\"id\":\"1115\",\"type\":\"Grid\"},{\"id\":\"1120\",\"type\":\"Grid\"}],\"left\":[{\"id\":\"1116\",\"type\":\"LinearAxis\"}],\"plot_height\":400,\"plot_width\":400,\"renderers\":[{\"id\":\"1137\",\"type\":\"GlyphRenderer\"}],\"title\":{\"id\":\"1148\",\"type\":\"Title\"},\"toolbar\":{\"id\":\"1127\",\"type\":\"Toolbar\"},\"x_range\":{\"id\":\"1103\",\"type\":\"DataRange1d\"},\"x_scale\":{\"id\":\"1107\",\"type\":\"LinearScale\"},\"y_range\":{\"id\":\"1105\",\"type\":\"DataRange1d\"},\"y_scale\":{\"id\":\"1109\",\"type\":\"LinearScale\"}},\"id\":\"1102\",\"subtype\":\"Figure\",\"type\":\"Plot\"},{\"attributes\":{\"bottom_units\":\"screen\",\"fill_alpha\":{\"value\":0.5},\"fill_color\":{\"value\":\"lightgrey\"},\"left_units\":\"screen\",\"level\":\"overlay\",\"line_alpha\":{\"value\":1.0},\"line_color\":{\"value\":\"black\"},\"line_dash\":[4,4],\"line_width\":{\"value\":2},\"render_mode\":\"css\",\"right_units\":\"screen\",\"top_units\":\"screen\"},\"id\":\"1156\",\"type\":\"BoxAnnotation\"},{\"attributes\":{},\"id\":\"1155\",\"type\":\"UnionRenderers\"},{\"attributes\":{},\"id\":\"1150\",\"type\":\"BasicTickFormatter\"},{\"attributes\":{},\"id\":\"1154\",\"type\":\"Selection\"},{\"attributes\":{\"callback\":null},\"id\":\"1103\",\"type\":\"DataRange1d\"},{\"attributes\":{\"text\":\"\"},\"id\":\"1148\",\"type\":\"Title\"},{\"attributes\":{},\"id\":\"1121\",\"type\":\"PanTool\"},{\"attributes\":{},\"id\":\"1124\",\"type\":\"SaveTool\"},{\"attributes\":{\"callback\":null,\"data\":{\"line_alpha\":[0.8,0.3],\"line_color\":[\"firebrick\",\"navy\"],\"xs\":[[1,3,2],[3,4,6,6]],\"ys\":[[2,1,4],[4,7,8,5]]},\"selected\":{\"id\":\"1154\",\"type\":\"Selection\"},\"selection_policy\":{\"id\":\"1155\",\"type\":\"UnionRenderers\"}},\"id\":\"1134\",\"type\":\"ColumnDataSource\"},{\"attributes\":{\"line_alpha\":{\"value\":0.1},\"line_color\":{\"value\":\"#1f77b4\"},\"line_width\":{\"value\":4},\"xs\":{\"field\":\"xs\"},\"ys\":{\"field\":\"ys\"}},\"id\":\"1136\",\"type\":\"MultiLine\"},{\"attributes\":{},\"id\":\"1125\",\"type\":\"ResetTool\"},{\"attributes\":{},\"id\":\"1107\",\"type\":\"LinearScale\"},{\"attributes\":{\"callback\":null},\"id\":\"1105\",\"type\":\"DataRange1d\"},{\"attributes\":{\"data_source\":{\"id\":\"1134\",\"type\":\"ColumnDataSource\"},\"glyph\":{\"id\":\"1135\",\"type\":\"MultiLine\"},\"hover_glyph\":null,\"muted_glyph\":null,\"nonselection_glyph\":{\"id\":\"1136\",\"type\":\"MultiLine\"},\"selection_glyph\":null,\"view\":{\"id\":\"1138\",\"type\":\"CDSView\"}},\"id\":\"1137\",\"type\":\"GlyphRenderer\"},{\"attributes\":{\"line_alpha\":{\"field\":\"line_alpha\"},\"line_color\":{\"field\":\"line_color\"},\"line_width\":{\"value\":4},\"xs\":{\"field\":\"xs\"},\"ys\":{\"field\":\"ys\"}},\"id\":\"1135\",\"type\":\"MultiLine\"},{\"attributes\":{\"overlay\":{\"id\":\"1156\",\"type\":\"BoxAnnotation\"}},\"id\":\"1123\",\"type\":\"BoxZoomTool\"},{\"attributes\":{},\"id\":\"1109\",\"type\":\"LinearScale\"},{\"attributes\":{\"formatter\":{\"id\":\"1152\",\"type\":\"BasicTickFormatter\"},\"ticker\":{\"id\":\"1112\",\"type\":\"BasicTicker\"}},\"id\":\"1111\",\"type\":\"LinearAxis\"},{\"attributes\":{},\"id\":\"1112\",\"type\":\"BasicTicker\"},{\"attributes\":{},\"id\":\"1122\",\"type\":\"WheelZoomTool\"},{\"attributes\":{\"active_drag\":\"auto\",\"active_inspect\":\"auto\",\"active_multi\":null,\"active_scroll\":\"auto\",\"active_tap\":\"auto\",\"tools\":[{\"id\":\"1121\",\"type\":\"PanTool\"},{\"id\":\"1122\",\"type\":\"WheelZoomTool\"},{\"id\":\"1123\",\"type\":\"BoxZoomTool\"},{\"id\":\"1124\",\"type\":\"SaveTool\"},{\"id\":\"1125\",\"type\":\"ResetTool\"},{\"id\":\"1126\",\"type\":\"HelpTool\"}]},\"id\":\"1127\",\"type\":\"Toolbar\"},{\"attributes\":{},\"id\":\"1126\",\"type\":\"HelpTool\"},{\"attributes\":{\"ticker\":{\"id\":\"1112\",\"type\":\"BasicTicker\"}},\"id\":\"1115\",\"type\":\"Grid\"},{\"attributes\":{\"formatter\":{\"id\":\"1150\",\"type\":\"BasicTickFormatter\"},\"ticker\":{\"id\":\"1117\",\"type\":\"BasicTicker\"}},\"id\":\"1116\",\"type\":\"LinearAxis\"},{\"attributes\":{\"dimension\":1,\"ticker\":{\"id\":\"1117\",\"type\":\"BasicTicker\"}},\"id\":\"1120\",\"type\":\"Grid\"},{\"attributes\":{},\"id\":\"1117\",\"type\":\"BasicTicker\"},{\"attributes\":{\"source\":{\"id\":\"1134\",\"type\":\"ColumnDataSource\"}},\"id\":\"1138\",\"type\":\"CDSView\"},{\"attributes\":{},\"id\":\"1152\",\"type\":\"BasicTickFormatter\"}],\"root_ids\":[\"1102\"]},\"title\":\"Bokeh Application\",\"version\":\"1.2.0\"}};\n",
       "  var render_items = [{\"docid\":\"4c4288e6-99ad-49eb-a7fa-8e34df2b9019\",\"roots\":{\"1102\":\"ace90ec4-2579-44b8-9bbc-c990c0790f8f\"}}];\n",
       "  root.Bokeh.embed.embed_items_notebook(docs_json, render_items);\n",
       "\n",
       "  }\n",
       "  if (root.Bokeh !== undefined) {\n",
       "    embed_document(root);\n",
       "  } else {\n",
       "    var attempts = 0;\n",
       "    var timer = setInterval(function(root) {\n",
       "      if (root.Bokeh !== undefined) {\n",
       "        embed_document(root);\n",
       "        clearInterval(timer);\n",
       "      }\n",
       "      attempts++;\n",
       "      if (attempts > 100) {\n",
       "        console.log(\"Bokeh: ERROR: Unable to run BokehJS code because BokehJS library is missing\");\n",
       "        clearInterval(timer);\n",
       "      }\n",
       "    }, 10, root)\n",
       "  }\n",
       "})(window);"
      ],
      "application/vnd.bokehjs_exec.v0+json": ""
     },
     "metadata": {
      "application/vnd.bokehjs_exec.v0+json": {
       "id": "1102"
      }
     },
     "output_type": "display_data"
    }
   ],
   "source": [
    "p = figure(plot_width=400, plot_height=400)\n",
    "p.multi_line([[1, 3, 2], [3, 4, 6, 6]], [[2, 1, 4], [4, 7, 8, 5]],\n",
    "             color=[\"firebrick\", \"navy\"], alpha=[0.8, 0.3], line_width=4)\n",
    "show(p)"
   ]
  },
  {
   "cell_type": "markdown",
   "metadata": {},
   "source": [
    "### Plotting bars"
   ]
  },
  {
   "cell_type": "code",
   "execution_count": 6,
   "metadata": {},
   "outputs": [
    {
     "data": {
      "text/html": [
       "\n",
       "\n",
       "\n",
       "\n",
       "\n",
       "\n",
       "  <div class=\"bk-root\" id=\"3908843d-5f01-477b-bccd-72685378832b\" data-root-id=\"1211\"></div>\n"
      ]
     },
     "metadata": {},
     "output_type": "display_data"
    },
    {
     "data": {
      "application/javascript": [
       "(function(root) {\n",
       "  function embed_document(root) {\n",
       "    \n",
       "  var docs_json = {\"ead90bec-71c2-427a-be37-51f09bb5affb\":{\"roots\":{\"references\":[{\"attributes\":{\"below\":[{\"id\":\"1220\",\"type\":\"LinearAxis\"}],\"center\":[{\"id\":\"1224\",\"type\":\"Grid\"},{\"id\":\"1229\",\"type\":\"Grid\"}],\"left\":[{\"id\":\"1225\",\"type\":\"LinearAxis\"}],\"plot_height\":400,\"plot_width\":400,\"renderers\":[{\"id\":\"1246\",\"type\":\"GlyphRenderer\"}],\"title\":{\"id\":\"1266\",\"type\":\"Title\"},\"toolbar\":{\"id\":\"1236\",\"type\":\"Toolbar\"},\"x_range\":{\"id\":\"1212\",\"type\":\"DataRange1d\"},\"x_scale\":{\"id\":\"1216\",\"type\":\"LinearScale\"},\"y_range\":{\"id\":\"1214\",\"type\":\"DataRange1d\"},\"y_scale\":{\"id\":\"1218\",\"type\":\"LinearScale\"}},\"id\":\"1211\",\"subtype\":\"Figure\",\"type\":\"Plot\"},{\"attributes\":{\"data_source\":{\"id\":\"1243\",\"type\":\"ColumnDataSource\"},\"glyph\":{\"id\":\"1244\",\"type\":\"VBar\"},\"hover_glyph\":null,\"muted_glyph\":null,\"nonselection_glyph\":{\"id\":\"1245\",\"type\":\"VBar\"},\"selection_glyph\":null,\"view\":{\"id\":\"1247\",\"type\":\"CDSView\"}},\"id\":\"1246\",\"type\":\"GlyphRenderer\"},{\"attributes\":{\"callback\":null},\"id\":\"1212\",\"type\":\"DataRange1d\"},{\"attributes\":{\"source\":{\"id\":\"1243\",\"type\":\"ColumnDataSource\"}},\"id\":\"1247\",\"type\":\"CDSView\"},{\"attributes\":{},\"id\":\"1216\",\"type\":\"LinearScale\"},{\"attributes\":{\"overlay\":{\"id\":\"1274\",\"type\":\"BoxAnnotation\"}},\"id\":\"1232\",\"type\":\"BoxZoomTool\"},{\"attributes\":{\"callback\":null},\"id\":\"1214\",\"type\":\"DataRange1d\"},{\"attributes\":{\"formatter\":{\"id\":\"1270\",\"type\":\"BasicTickFormatter\"},\"ticker\":{\"id\":\"1221\",\"type\":\"BasicTicker\"}},\"id\":\"1220\",\"type\":\"LinearAxis\"},{\"attributes\":{\"fill_alpha\":{\"value\":0.1},\"fill_color\":{\"value\":\"#1f77b4\"},\"line_alpha\":{\"value\":0.1},\"line_color\":{\"value\":\"#1f77b4\"},\"top\":{\"field\":\"top\"},\"width\":{\"value\":0.5},\"x\":{\"field\":\"x\"}},\"id\":\"1245\",\"type\":\"VBar\"},{\"attributes\":{},\"id\":\"1234\",\"type\":\"ResetTool\"},{\"attributes\":{\"callback\":null,\"data\":{\"top\":[1.2,2.5,3.7],\"x\":[1,2,3]},\"selected\":{\"id\":\"1272\",\"type\":\"Selection\"},\"selection_policy\":{\"id\":\"1273\",\"type\":\"UnionRenderers\"}},\"id\":\"1243\",\"type\":\"ColumnDataSource\"},{\"attributes\":{\"active_drag\":\"auto\",\"active_inspect\":\"auto\",\"active_multi\":null,\"active_scroll\":\"auto\",\"active_tap\":\"auto\",\"tools\":[{\"id\":\"1230\",\"type\":\"PanTool\"},{\"id\":\"1231\",\"type\":\"WheelZoomTool\"},{\"id\":\"1232\",\"type\":\"BoxZoomTool\"},{\"id\":\"1233\",\"type\":\"SaveTool\"},{\"id\":\"1234\",\"type\":\"ResetTool\"},{\"id\":\"1235\",\"type\":\"HelpTool\"}]},\"id\":\"1236\",\"type\":\"Toolbar\"},{\"attributes\":{},\"id\":\"1218\",\"type\":\"LinearScale\"},{\"attributes\":{},\"id\":\"1270\",\"type\":\"BasicTickFormatter\"},{\"attributes\":{\"ticker\":{\"id\":\"1221\",\"type\":\"BasicTicker\"}},\"id\":\"1224\",\"type\":\"Grid\"},{\"attributes\":{},\"id\":\"1233\",\"type\":\"SaveTool\"},{\"attributes\":{},\"id\":\"1235\",\"type\":\"HelpTool\"},{\"attributes\":{},\"id\":\"1221\",\"type\":\"BasicTicker\"},{\"attributes\":{\"formatter\":{\"id\":\"1268\",\"type\":\"BasicTickFormatter\"},\"ticker\":{\"id\":\"1226\",\"type\":\"BasicTicker\"}},\"id\":\"1225\",\"type\":\"LinearAxis\"},{\"attributes\":{},\"id\":\"1268\",\"type\":\"BasicTickFormatter\"},{\"attributes\":{\"bottom_units\":\"screen\",\"fill_alpha\":{\"value\":0.5},\"fill_color\":{\"value\":\"lightgrey\"},\"left_units\":\"screen\",\"level\":\"overlay\",\"line_alpha\":{\"value\":1.0},\"line_color\":{\"value\":\"black\"},\"line_dash\":[4,4],\"line_width\":{\"value\":2},\"render_mode\":\"css\",\"right_units\":\"screen\",\"top_units\":\"screen\"},\"id\":\"1274\",\"type\":\"BoxAnnotation\"},{\"attributes\":{\"dimension\":1,\"ticker\":{\"id\":\"1226\",\"type\":\"BasicTicker\"}},\"id\":\"1229\",\"type\":\"Grid\"},{\"attributes\":{\"fill_color\":{\"value\":\"red\"},\"line_color\":{\"value\":\"red\"},\"top\":{\"field\":\"top\"},\"width\":{\"value\":0.5},\"x\":{\"field\":\"x\"}},\"id\":\"1244\",\"type\":\"VBar\"},{\"attributes\":{},\"id\":\"1272\",\"type\":\"Selection\"},{\"attributes\":{},\"id\":\"1273\",\"type\":\"UnionRenderers\"},{\"attributes\":{},\"id\":\"1230\",\"type\":\"PanTool\"},{\"attributes\":{\"text\":\"\"},\"id\":\"1266\",\"type\":\"Title\"},{\"attributes\":{},\"id\":\"1226\",\"type\":\"BasicTicker\"},{\"attributes\":{},\"id\":\"1231\",\"type\":\"WheelZoomTool\"}],\"root_ids\":[\"1211\"]},\"title\":\"Bokeh Application\",\"version\":\"1.2.0\"}};\n",
       "  var render_items = [{\"docid\":\"ead90bec-71c2-427a-be37-51f09bb5affb\",\"roots\":{\"1211\":\"3908843d-5f01-477b-bccd-72685378832b\"}}];\n",
       "  root.Bokeh.embed.embed_items_notebook(docs_json, render_items);\n",
       "\n",
       "  }\n",
       "  if (root.Bokeh !== undefined) {\n",
       "    embed_document(root);\n",
       "  } else {\n",
       "    var attempts = 0;\n",
       "    var timer = setInterval(function(root) {\n",
       "      if (root.Bokeh !== undefined) {\n",
       "        embed_document(root);\n",
       "        clearInterval(timer);\n",
       "      }\n",
       "      attempts++;\n",
       "      if (attempts > 100) {\n",
       "        console.log(\"Bokeh: ERROR: Unable to run BokehJS code because BokehJS library is missing\");\n",
       "        clearInterval(timer);\n",
       "      }\n",
       "    }, 10, root)\n",
       "  }\n",
       "})(window);"
      ],
      "application/vnd.bokehjs_exec.v0+json": ""
     },
     "metadata": {
      "application/vnd.bokehjs_exec.v0+json": {
       "id": "1211"
      }
     },
     "output_type": "display_data"
    }
   ],
   "source": [
    "p = figure(plot_width=400, plot_height=400)\n",
    "p.vbar(x=[1, 2, 3], width=0.5, bottom=0,\n",
    "       top=[1.2, 2.5, 3.7], color=\"red\")\n",
    "show(p)"
   ]
  },
  {
   "cell_type": "code",
   "execution_count": 7,
   "metadata": {},
   "outputs": [
    {
     "data": {
      "text/html": [
       "\n",
       "\n",
       "\n",
       "\n",
       "\n",
       "\n",
       "  <div class=\"bk-root\" id=\"d5967740-dc51-456d-a3c8-3b09900a838a\" data-root-id=\"1329\"></div>\n"
      ]
     },
     "metadata": {},
     "output_type": "display_data"
    },
    {
     "data": {
      "application/javascript": [
       "(function(root) {\n",
       "  function embed_document(root) {\n",
       "    \n",
       "  var docs_json = {\"e48d170f-f3ca-476e-9a83-3f47f3194792\":{\"roots\":{\"references\":[{\"attributes\":{\"below\":[{\"id\":\"1338\",\"type\":\"LinearAxis\"}],\"center\":[{\"id\":\"1342\",\"type\":\"Grid\"},{\"id\":\"1347\",\"type\":\"Grid\"}],\"left\":[{\"id\":\"1343\",\"type\":\"LinearAxis\"}],\"plot_height\":400,\"plot_width\":400,\"renderers\":[{\"id\":\"1364\",\"type\":\"GlyphRenderer\"}],\"title\":{\"id\":\"1393\",\"type\":\"Title\"},\"toolbar\":{\"id\":\"1354\",\"type\":\"Toolbar\"},\"x_range\":{\"id\":\"1330\",\"type\":\"DataRange1d\"},\"x_scale\":{\"id\":\"1334\",\"type\":\"LinearScale\"},\"y_range\":{\"id\":\"1332\",\"type\":\"DataRange1d\"},\"y_scale\":{\"id\":\"1336\",\"type\":\"LinearScale\"}},\"id\":\"1329\",\"subtype\":\"Figure\",\"type\":\"Plot\"},{\"attributes\":{},\"id\":\"1348\",\"type\":\"PanTool\"},{\"attributes\":{},\"id\":\"1349\",\"type\":\"WheelZoomTool\"},{\"attributes\":{\"overlay\":{\"id\":\"1401\",\"type\":\"BoxAnnotation\"}},\"id\":\"1350\",\"type\":\"BoxZoomTool\"},{\"attributes\":{},\"id\":\"1399\",\"type\":\"Selection\"},{\"attributes\":{\"callback\":null,\"data\":{\"right\":[1.2,2.5,3.7],\"y\":[1,2,3]},\"selected\":{\"id\":\"1399\",\"type\":\"Selection\"},\"selection_policy\":{\"id\":\"1400\",\"type\":\"UnionRenderers\"}},\"id\":\"1361\",\"type\":\"ColumnDataSource\"},{\"attributes\":{},\"id\":\"1351\",\"type\":\"SaveTool\"},{\"attributes\":{},\"id\":\"1352\",\"type\":\"ResetTool\"},{\"attributes\":{\"fill_alpha\":{\"value\":0.1},\"fill_color\":{\"value\":\"#1f77b4\"},\"height\":{\"value\":0.5},\"line_alpha\":{\"value\":0.1},\"line_color\":{\"value\":\"#1f77b4\"},\"right\":{\"field\":\"right\"},\"y\":{\"field\":\"y\"}},\"id\":\"1363\",\"type\":\"HBar\"},{\"attributes\":{},\"id\":\"1353\",\"type\":\"HelpTool\"},{\"attributes\":{\"callback\":null},\"id\":\"1330\",\"type\":\"DataRange1d\"},{\"attributes\":{\"active_drag\":\"auto\",\"active_inspect\":\"auto\",\"active_multi\":null,\"active_scroll\":\"auto\",\"active_tap\":\"auto\",\"tools\":[{\"id\":\"1348\",\"type\":\"PanTool\"},{\"id\":\"1349\",\"type\":\"WheelZoomTool\"},{\"id\":\"1350\",\"type\":\"BoxZoomTool\"},{\"id\":\"1351\",\"type\":\"SaveTool\"},{\"id\":\"1352\",\"type\":\"ResetTool\"},{\"id\":\"1353\",\"type\":\"HelpTool\"}]},\"id\":\"1354\",\"type\":\"Toolbar\"},{\"attributes\":{\"callback\":null},\"id\":\"1332\",\"type\":\"DataRange1d\"},{\"attributes\":{},\"id\":\"1334\",\"type\":\"LinearScale\"},{\"attributes\":{\"source\":{\"id\":\"1361\",\"type\":\"ColumnDataSource\"}},\"id\":\"1365\",\"type\":\"CDSView\"},{\"attributes\":{},\"id\":\"1336\",\"type\":\"LinearScale\"},{\"attributes\":{\"formatter\":{\"id\":\"1397\",\"type\":\"BasicTickFormatter\"},\"ticker\":{\"id\":\"1339\",\"type\":\"BasicTicker\"}},\"id\":\"1338\",\"type\":\"LinearAxis\"},{\"attributes\":{},\"id\":\"1339\",\"type\":\"BasicTicker\"},{\"attributes\":{\"ticker\":{\"id\":\"1339\",\"type\":\"BasicTicker\"}},\"id\":\"1342\",\"type\":\"Grid\"},{\"attributes\":{\"text\":\"\"},\"id\":\"1393\",\"type\":\"Title\"},{\"attributes\":{\"formatter\":{\"id\":\"1395\",\"type\":\"BasicTickFormatter\"},\"ticker\":{\"id\":\"1344\",\"type\":\"BasicTicker\"}},\"id\":\"1343\",\"type\":\"LinearAxis\"},{\"attributes\":{},\"id\":\"1395\",\"type\":\"BasicTickFormatter\"},{\"attributes\":{},\"id\":\"1344\",\"type\":\"BasicTicker\"},{\"attributes\":{},\"id\":\"1397\",\"type\":\"BasicTickFormatter\"},{\"attributes\":{\"dimension\":1,\"ticker\":{\"id\":\"1344\",\"type\":\"BasicTicker\"}},\"id\":\"1347\",\"type\":\"Grid\"},{\"attributes\":{},\"id\":\"1400\",\"type\":\"UnionRenderers\"},{\"attributes\":{\"fill_color\":{\"value\":\"navy\"},\"height\":{\"value\":0.5},\"line_color\":{\"value\":\"navy\"},\"right\":{\"field\":\"right\"},\"y\":{\"field\":\"y\"}},\"id\":\"1362\",\"type\":\"HBar\"},{\"attributes\":{\"bottom_units\":\"screen\",\"fill_alpha\":{\"value\":0.5},\"fill_color\":{\"value\":\"lightgrey\"},\"left_units\":\"screen\",\"level\":\"overlay\",\"line_alpha\":{\"value\":1.0},\"line_color\":{\"value\":\"black\"},\"line_dash\":[4,4],\"line_width\":{\"value\":2},\"render_mode\":\"css\",\"right_units\":\"screen\",\"top_units\":\"screen\"},\"id\":\"1401\",\"type\":\"BoxAnnotation\"},{\"attributes\":{\"data_source\":{\"id\":\"1361\",\"type\":\"ColumnDataSource\"},\"glyph\":{\"id\":\"1362\",\"type\":\"HBar\"},\"hover_glyph\":null,\"muted_glyph\":null,\"nonselection_glyph\":{\"id\":\"1363\",\"type\":\"HBar\"},\"selection_glyph\":null,\"view\":{\"id\":\"1365\",\"type\":\"CDSView\"}},\"id\":\"1364\",\"type\":\"GlyphRenderer\"}],\"root_ids\":[\"1329\"]},\"title\":\"Bokeh Application\",\"version\":\"1.2.0\"}};\n",
       "  var render_items = [{\"docid\":\"e48d170f-f3ca-476e-9a83-3f47f3194792\",\"roots\":{\"1329\":\"d5967740-dc51-456d-a3c8-3b09900a838a\"}}];\n",
       "  root.Bokeh.embed.embed_items_notebook(docs_json, render_items);\n",
       "\n",
       "  }\n",
       "  if (root.Bokeh !== undefined) {\n",
       "    embed_document(root);\n",
       "  } else {\n",
       "    var attempts = 0;\n",
       "    var timer = setInterval(function(root) {\n",
       "      if (root.Bokeh !== undefined) {\n",
       "        embed_document(root);\n",
       "        clearInterval(timer);\n",
       "      }\n",
       "      attempts++;\n",
       "      if (attempts > 100) {\n",
       "        console.log(\"Bokeh: ERROR: Unable to run BokehJS code because BokehJS library is missing\");\n",
       "        clearInterval(timer);\n",
       "      }\n",
       "    }, 10, root)\n",
       "  }\n",
       "})(window);"
      ],
      "application/vnd.bokehjs_exec.v0+json": ""
     },
     "metadata": {
      "application/vnd.bokehjs_exec.v0+json": {
       "id": "1329"
      }
     },
     "output_type": "display_data"
    }
   ],
   "source": [
    "p = figure(plot_width=400, plot_height=400)\n",
    "p.hbar(y=[1, 2, 3], height=0.5, left=0,\n",
    "       right=[1.2, 2.5, 3.7], color=\"navy\")\n",
    "show(p)"
   ]
  },
  {
   "cell_type": "markdown",
   "metadata": {},
   "source": [
    "### Plotting line"
   ]
  },
  {
   "cell_type": "code",
   "execution_count": 8,
   "metadata": {},
   "outputs": [
    {
     "data": {
      "text/html": [
       "\n",
       "\n",
       "\n",
       "\n",
       "\n",
       "\n",
       "  <div class=\"bk-root\" id=\"749b97c6-4c79-471f-b96d-c0e888c6f935\" data-root-id=\"1456\"></div>\n"
      ]
     },
     "metadata": {},
     "output_type": "display_data"
    },
    {
     "data": {
      "application/javascript": [
       "(function(root) {\n",
       "  function embed_document(root) {\n",
       "    \n",
       "  var docs_json = {\"02bda567-f34e-48d9-925d-894bf89b4ea0\":{\"roots\":{\"references\":[{\"attributes\":{\"below\":[{\"id\":\"1467\",\"type\":\"LinearAxis\"}],\"center\":[{\"id\":\"1471\",\"type\":\"Grid\"},{\"id\":\"1476\",\"type\":\"Grid\"},{\"id\":\"1501\",\"type\":\"Legend\"}],\"left\":[{\"id\":\"1472\",\"type\":\"LinearAxis\"}],\"plot_height\":400,\"plot_width\":500,\"renderers\":[{\"id\":\"1493\",\"type\":\"GlyphRenderer\"}],\"title\":{\"id\":\"1457\",\"type\":\"Title\"},\"toolbar\":{\"id\":\"1483\",\"type\":\"Toolbar\"},\"x_range\":{\"id\":\"1459\",\"type\":\"DataRange1d\"},\"x_scale\":{\"id\":\"1463\",\"type\":\"LinearScale\"},\"y_range\":{\"id\":\"1461\",\"type\":\"DataRange1d\"},\"y_scale\":{\"id\":\"1465\",\"type\":\"LinearScale\"}},\"id\":\"1456\",\"subtype\":\"Figure\",\"type\":\"Plot\"},{\"attributes\":{\"line_alpha\":0.1,\"line_color\":\"#1f77b4\",\"line_width\":2,\"x\":{\"field\":\"x\"},\"y\":{\"field\":\"y\"}},\"id\":\"1492\",\"type\":\"Line\"},{\"attributes\":{\"callback\":null,\"data\":{\"x\":[1,2,3,4,5,6,7],\"y\":[6,7,2,4,5,10,4]},\"selected\":{\"id\":\"1544\",\"type\":\"Selection\"},\"selection_policy\":{\"id\":\"1545\",\"type\":\"UnionRenderers\"}},\"id\":\"1490\",\"type\":\"ColumnDataSource\"},{\"attributes\":{\"data_source\":{\"id\":\"1490\",\"type\":\"ColumnDataSource\"},\"glyph\":{\"id\":\"1491\",\"type\":\"Line\"},\"hover_glyph\":null,\"muted_glyph\":null,\"nonselection_glyph\":{\"id\":\"1492\",\"type\":\"Line\"},\"selection_glyph\":null,\"view\":{\"id\":\"1494\",\"type\":\"CDSView\"}},\"id\":\"1493\",\"type\":\"GlyphRenderer\"},{\"attributes\":{\"callback\":null},\"id\":\"1459\",\"type\":\"DataRange1d\"},{\"attributes\":{},\"id\":\"1496\",\"type\":\"BasicTickFormatter\"},{\"attributes\":{},\"id\":\"1482\",\"type\":\"HelpTool\"},{\"attributes\":{\"axis_label\":\"x\",\"formatter\":{\"id\":\"1498\",\"type\":\"BasicTickFormatter\"},\"ticker\":{\"id\":\"1468\",\"type\":\"BasicTicker\"}},\"id\":\"1467\",\"type\":\"LinearAxis\"},{\"attributes\":{},\"id\":\"1465\",\"type\":\"LinearScale\"},{\"attributes\":{\"active_drag\":\"auto\",\"active_inspect\":\"auto\",\"active_multi\":null,\"active_scroll\":\"auto\",\"active_tap\":\"auto\",\"tools\":[{\"id\":\"1477\",\"type\":\"PanTool\"},{\"id\":\"1478\",\"type\":\"WheelZoomTool\"},{\"id\":\"1479\",\"type\":\"BoxZoomTool\"},{\"id\":\"1480\",\"type\":\"SaveTool\"},{\"id\":\"1481\",\"type\":\"ResetTool\"},{\"id\":\"1482\",\"type\":\"HelpTool\"}]},\"id\":\"1483\",\"type\":\"Toolbar\"},{\"attributes\":{},\"id\":\"1463\",\"type\":\"LinearScale\"},{\"attributes\":{},\"id\":\"1477\",\"type\":\"PanTool\"},{\"attributes\":{\"callback\":null},\"id\":\"1461\",\"type\":\"DataRange1d\"},{\"attributes\":{},\"id\":\"1468\",\"type\":\"BasicTicker\"},{\"attributes\":{\"line_color\":\"#1f77b4\",\"line_width\":2,\"x\":{\"field\":\"x\"},\"y\":{\"field\":\"y\"}},\"id\":\"1491\",\"type\":\"Line\"},{\"attributes\":{\"label\":{\"value\":\"Temp.\"},\"renderers\":[{\"id\":\"1493\",\"type\":\"GlyphRenderer\"}]},\"id\":\"1502\",\"type\":\"LegendItem\"},{\"attributes\":{\"source\":{\"id\":\"1490\",\"type\":\"ColumnDataSource\"}},\"id\":\"1494\",\"type\":\"CDSView\"},{\"attributes\":{},\"id\":\"1481\",\"type\":\"ResetTool\"},{\"attributes\":{\"axis_label\":\"y\",\"formatter\":{\"id\":\"1496\",\"type\":\"BasicTickFormatter\"},\"ticker\":{\"id\":\"1473\",\"type\":\"BasicTicker\"}},\"id\":\"1472\",\"type\":\"LinearAxis\"},{\"attributes\":{},\"id\":\"1544\",\"type\":\"Selection\"},{\"attributes\":{},\"id\":\"1473\",\"type\":\"BasicTicker\"},{\"attributes\":{\"dimension\":1,\"ticker\":{\"id\":\"1473\",\"type\":\"BasicTicker\"}},\"id\":\"1476\",\"type\":\"Grid\"},{\"attributes\":{\"text\":\"line example\"},\"id\":\"1457\",\"type\":\"Title\"},{\"attributes\":{},\"id\":\"1498\",\"type\":\"BasicTickFormatter\"},{\"attributes\":{\"ticker\":{\"id\":\"1468\",\"type\":\"BasicTicker\"}},\"id\":\"1471\",\"type\":\"Grid\"},{\"attributes\":{},\"id\":\"1545\",\"type\":\"UnionRenderers\"},{\"attributes\":{},\"id\":\"1478\",\"type\":\"WheelZoomTool\"},{\"attributes\":{},\"id\":\"1480\",\"type\":\"SaveTool\"},{\"attributes\":{\"bottom_units\":\"screen\",\"fill_alpha\":{\"value\":0.5},\"fill_color\":{\"value\":\"lightgrey\"},\"left_units\":\"screen\",\"level\":\"overlay\",\"line_alpha\":{\"value\":1.0},\"line_color\":{\"value\":\"black\"},\"line_dash\":[4,4],\"line_width\":{\"value\":2},\"render_mode\":\"css\",\"right_units\":\"screen\",\"top_units\":\"screen\"},\"id\":\"1500\",\"type\":\"BoxAnnotation\"},{\"attributes\":{\"overlay\":{\"id\":\"1500\",\"type\":\"BoxAnnotation\"}},\"id\":\"1479\",\"type\":\"BoxZoomTool\"},{\"attributes\":{\"items\":[{\"id\":\"1502\",\"type\":\"LegendItem\"}]},\"id\":\"1501\",\"type\":\"Legend\"}],\"root_ids\":[\"1456\"]},\"title\":\"Bokeh Application\",\"version\":\"1.2.0\"}};\n",
       "  var render_items = [{\"docid\":\"02bda567-f34e-48d9-925d-894bf89b4ea0\",\"roots\":{\"1456\":\"749b97c6-4c79-471f-b96d-c0e888c6f935\"}}];\n",
       "  root.Bokeh.embed.embed_items_notebook(docs_json, render_items);\n",
       "\n",
       "  }\n",
       "  if (root.Bokeh !== undefined) {\n",
       "    embed_document(root);\n",
       "  } else {\n",
       "    var attempts = 0;\n",
       "    var timer = setInterval(function(root) {\n",
       "      if (root.Bokeh !== undefined) {\n",
       "        embed_document(root);\n",
       "        clearInterval(timer);\n",
       "      }\n",
       "      attempts++;\n",
       "      if (attempts > 100) {\n",
       "        console.log(\"Bokeh: ERROR: Unable to run BokehJS code because BokehJS library is missing\");\n",
       "        clearInterval(timer);\n",
       "      }\n",
       "    }, 10, root)\n",
       "  }\n",
       "})(window);"
      ],
      "application/vnd.bokehjs_exec.v0+json": ""
     },
     "metadata": {
      "application/vnd.bokehjs_exec.v0+json": {
       "id": "1456"
      }
     },
     "output_type": "display_data"
    }
   ],
   "source": [
    "# prepare some demo data\n",
    "x = [1, 2, 3, 4, 5, 6, 7]\n",
    "y = [6, 7, 2, 4, 5, 10, 4]\n",
    "\n",
    "# create a new plot with a title and axis labels\n",
    "p = figure(title=\"line example\", x_axis_label='x', y_axis_label='y', width=500, height=400)\n",
    "\n",
    "# add a line renderer with legend and line thickness\n",
    "p.line(x, y, legend=\"Temp.\", line_width=2)\n",
    "\n",
    "# show the results\n",
    "show(p)"
   ]
  },
  {
   "cell_type": "markdown",
   "metadata": {},
   "source": [
    "### Twin Axes"
   ]
  },
  {
   "cell_type": "code",
   "execution_count": 9,
   "metadata": {},
   "outputs": [
    {
     "data": {
      "text/html": [
       "\n",
       "\n",
       "\n",
       "\n",
       "\n",
       "\n",
       "  <div class=\"bk-root\" id=\"ab5484d8-f380-44e0-b302-0e47ad287c5b\" data-root-id=\"1595\"></div>\n"
      ]
     },
     "metadata": {},
     "output_type": "display_data"
    },
    {
     "data": {
      "application/javascript": [
       "(function(root) {\n",
       "  function embed_document(root) {\n",
       "    \n",
       "  var docs_json = {\"5fdb40ff-0d68-4a06-8d5e-4ded95b3ffa7\":{\"roots\":{\"references\":[{\"attributes\":{\"below\":[{\"id\":\"1604\",\"type\":\"LinearAxis\"}],\"center\":[{\"id\":\"1608\",\"type\":\"Grid\"},{\"id\":\"1613\",\"type\":\"Grid\"}],\"extra_y_ranges\":{\"foo\":{\"id\":\"1632\",\"type\":\"Range1d\"}},\"left\":[{\"id\":\"1609\",\"type\":\"LinearAxis\"},{\"id\":\"1638\",\"type\":\"LinearAxis\"}],\"renderers\":[{\"id\":\"1630\",\"type\":\"GlyphRenderer\"},{\"id\":\"1636\",\"type\":\"GlyphRenderer\"}],\"title\":{\"id\":\"1683\",\"type\":\"Title\"},\"toolbar\":{\"id\":\"1620\",\"type\":\"Toolbar\"},\"x_range\":{\"id\":\"1596\",\"type\":\"Range1d\"},\"x_scale\":{\"id\":\"1600\",\"type\":\"LinearScale\"},\"y_range\":{\"id\":\"1598\",\"type\":\"Range1d\"},\"y_scale\":{\"id\":\"1602\",\"type\":\"LinearScale\"}},\"id\":\"1595\",\"subtype\":\"Figure\",\"type\":\"Plot\"},{\"attributes\":{},\"id\":\"1689\",\"type\":\"BasicTickFormatter\"},{\"attributes\":{\"fill_color\":{\"value\":\"red\"},\"line_color\":{\"value\":\"red\"},\"x\":{\"field\":\"x\"},\"y\":{\"field\":\"y\"}},\"id\":\"1628\",\"type\":\"Circle\"},{\"attributes\":{\"fill_color\":{\"value\":\"blue\"},\"line_color\":{\"value\":\"blue\"},\"x\":{\"field\":\"x\"},\"y\":{\"field\":\"y\"}},\"id\":\"1634\",\"type\":\"Circle\"},{\"attributes\":{},\"id\":\"1691\",\"type\":\"Selection\"},{\"attributes\":{},\"id\":\"1687\",\"type\":\"BasicTickFormatter\"},{\"attributes\":{},\"id\":\"1692\",\"type\":\"UnionRenderers\"},{\"attributes\":{},\"id\":\"1614\",\"type\":\"PanTool\"},{\"attributes\":{},\"id\":\"1693\",\"type\":\"Selection\"},{\"attributes\":{},\"id\":\"1615\",\"type\":\"WheelZoomTool\"},{\"attributes\":{},\"id\":\"1694\",\"type\":\"UnionRenderers\"},{\"attributes\":{\"overlay\":{\"id\":\"1695\",\"type\":\"BoxAnnotation\"}},\"id\":\"1616\",\"type\":\"BoxZoomTool\"},{\"attributes\":{\"callback\":null,\"data\":{\"x\":{\"__ndarray__\":\"GC1EVPshGcCyxt3tlLsYwExgd4cuVRjA5vkQIcjuF8CAk6q6YYgXwBotRFT7IRfAtMbd7ZS7FsBOYHeHLlUWwOj5ECHI7hXAgpOqumGIFcAcLURU+yEVwLbG3e2UuxTAUGB3hy5VFMDq+RAhyO4TwISTqrphiBPAHi1EVPshE8C4xt3tlLsSwFJgd4cuVRLA7PkQIcjuEcCGk6q6YYgRwCAtRFT7IRHAusbd7ZS7EMBUYHeHLlUQwNzzIUKQ3Q/AECdVdcMQD8BEWoio9kMOwHiNu9spdw3ArMDuDl2qDMDg8yFCkN0LwBQnVXXDEAvASFqIqPZDCsB8jbvbKXcJwLDA7g5dqgjA5PMhQpDdB8AYJ1V1wxAHwExaiKj2QwbAgI272yl3BcC0wO4OXaoEwOjzIUKQ3QPAHCdVdcMQA8BQWoio9kMCwISNu9spdwHAuMDuDl2qAMDY50OEILv/v0BOquqGIf6/qLQQUe2H/L8QG3e3U+76v3iB3R26VPm/4OdDhCC7979ITqrqhiH2v7C0EFHth/S/GBt3t1Pu8r+Agd0dulTxv9DPhwhBdu+/oJxU1Q1D7L9waSGi2g/pv0A27m6n3OW/EAO7O3Sp4r/Anw8Rguzev2A5qaobhti/ANNCRLUf0r9A2bi7nXLHvwAZ2N2hS7W/AAIG7943kT8AGltVkee9P8BZeneVwMs/QJMjIrFG1D+g+YmIF63aPwAwePe+ieA/MGOrKvK84z9glt5dJfDmP5DJEZFYI+o/wPxExItW7T/4F7x730TwP5CxVRV53vE/KEvvrhJ48z/A5IhIrBH1P1h+IuJFq/Y/8Be8e99E+D+IsVUVed75PyBL764SePs/uOSISKwR/T9QfiLiRav+P/QL3r1vIgBAwNiqijzvAECMpXdXCbwBQFhyRCTWiAJAJD8R8aJVA0DwC969byIEQLzYqoo87wRAiKV3Vwm8BUBUckQk1ogGQCA/EfGiVQdA7AvevW8iCEC42KqKPO8IQISld1cJvAlAUHJEJNaICkAcPxHxolULQOgL3r1vIgxAtNiqijzvDECApXdXCbwNQExyRCTWiA5AGD8R8aJVD0DyBe/eNxEQQFhsVUWedxBAvtK7qwTeEEAkOSISa0QRQIqfiHjRqhFA8AXv3jcREkBWbFVFnncSQLzSu6sE3hJAIjkiEmtEE0CIn4h40aoTQO4F7943ERRAVGxVRZ53FEC60rurBN4UQCA5IhJrRBVAhp+IeNGqFUDsBe/eNxEWQFJsVUWedxZAuNK7qwTeFkAeOSISa0QXQISfiHjRqhdA6gXv3jcRGEBQbFVFnncYQLbSu6sE3hhA\",\"dtype\":\"float64\",\"shape\":[126]},\"y\":{\"__ndarray__\":\"B1wUMyamsTwky4vLro65P6zSPSP/bck/Jbq6lc3p0j9XZyvpOuzYP9cFS3Tort4/S0GlF40R4j+pGUZpbp3kP7z+v8KU9OY/MKhdmAMR6T/eDAmPVO3qPyhjLUzFhOw/t1UaokPT7T9AHsX5d9XuP/vgRN/NiO8/iG0sm3rr7z/HQuDHgfzvP72YL9e3u+8//RW9gcIp7z9qOBofF0juP2C00er2GO0/HHPrP2mf6z8w16rZM9/pP1IvWC3R3Oc/0tHD9WSd5T/vys8NrybjPwGGoLv8fuA/p6ckJDFa2z9q5l0jcnDVP0AySNa4n84/z9a2bTgQwj9JFpiCD0qlP9km6Dk3462/9Aq3ygIxxL+fS/8QyVrQv1Fhun47c9a/JdHwQ0FS3L/dGi7savTgv0DA7P9WlOO/crMfLS4C5r9cHtzduTfov3DI4npTL+q/lhLQ3/Lj67/wiQE6O1Htv8QoRTGGc+6/Y0DHPe1H77+p7F0TUczvv1HsNw9f/++/DT4MmpTg77/B6yJ2QHDvv2CZ4PWBr+6/+CLYHEag7b8lJbqyQkXsv5cSvFTvoeq/3gUyl3y66L/SsApOyZPmv0H2lhdWM+S/OMh6STef4b8a4Y7HCrzdv3u+C2SY7de/LaSwivHh0b9m/jPXGVHHv0bTvttYRbW/xSXLwqk3kT/JIzUvK9a9PxjIxkANics//AfpL0vw0z91hzWkD+nZP4cP6pqNn98/CxrYG5SC4j9hCW3CCAblP+5iZOG2U+c/hMjjJbpl6T/Mcx3cxjbrP44pBXs3wuw/3a38hhgE7j/R9xCtMvnuPzNU7vwSn+8/IbeALBH07z+1XzrVU/fvP6DPKKDSqO8/pbRJW1YJ7z+JM+n3dhruP8RhK3eX3uw/Jvgtz99Y6z+f2l/YNI3pP+WxtFcugOc/zaIuPws35T/F08pCpLfiP3g4I+RcCOA/mTEMNiZg2j8025+JG2zUPwOg1R2oh8w/rDXOvj7cvz+YZ0Soul6ZPxMepJQaPbO/RLIVCFdQxr8Pn7GuhmTRv7Nrs+BkdNe/PLQgoURI3b9ITvP1nmjhv9zlVSmUAOS/XGXQmV9l5r9YNdHU4ZDov+OMb++Nfeq/d0LwuHcm7L9QJSxSYIftv8TXognBnO6/SRtzYNRj779HhCYhndrvv+yTLnbr/++/NaAP81/T77/KpXWIbFXvv+6vwmBTh+6/2k8AqCNr7b+D929HtAPsv7RWM6KcVOq/8K2gZSti6L8bWsKEWzHmvw8RMHvHx+O/52bX95or4b9I9bkoBsfcv2FS64I67da/RcPLJ8rY0L9F3NCChDLFvyPcIcx4+rC/\",\"dtype\":\"float64\",\"shape\":[126]}},\"selected\":{\"id\":\"1691\",\"type\":\"Selection\"},\"selection_policy\":{\"id\":\"1692\",\"type\":\"UnionRenderers\"}},\"id\":\"1627\",\"type\":\"ColumnDataSource\"},{\"attributes\":{\"callback\":null,\"end\":100},\"id\":\"1632\",\"type\":\"Range1d\"},{\"attributes\":{\"bottom_units\":\"screen\",\"fill_alpha\":{\"value\":0.5},\"fill_color\":{\"value\":\"lightgrey\"},\"left_units\":\"screen\",\"level\":\"overlay\",\"line_alpha\":{\"value\":1.0},\"line_color\":{\"value\":\"black\"},\"line_dash\":[4,4],\"line_width\":{\"value\":2},\"render_mode\":\"css\",\"right_units\":\"screen\",\"top_units\":\"screen\"},\"id\":\"1695\",\"type\":\"BoxAnnotation\"},{\"attributes\":{},\"id\":\"1617\",\"type\":\"SaveTool\"},{\"attributes\":{\"data_source\":{\"id\":\"1627\",\"type\":\"ColumnDataSource\"},\"glyph\":{\"id\":\"1628\",\"type\":\"Circle\"},\"hover_glyph\":null,\"muted_glyph\":null,\"nonselection_glyph\":{\"id\":\"1629\",\"type\":\"Circle\"},\"selection_glyph\":null,\"view\":{\"id\":\"1631\",\"type\":\"CDSView\"}},\"id\":\"1630\",\"type\":\"GlyphRenderer\"},{\"attributes\":{},\"id\":\"1618\",\"type\":\"ResetTool\"},{\"attributes\":{},\"id\":\"1619\",\"type\":\"HelpTool\"},{\"attributes\":{\"callback\":null,\"end\":6.5,\"start\":-6.5},\"id\":\"1596\",\"type\":\"Range1d\"},{\"attributes\":{\"dimension\":1,\"ticker\":{\"id\":\"1610\",\"type\":\"BasicTicker\"}},\"id\":\"1613\",\"type\":\"Grid\"},{\"attributes\":{\"active_drag\":\"auto\",\"active_inspect\":\"auto\",\"active_multi\":null,\"active_scroll\":\"auto\",\"active_tap\":\"auto\",\"tools\":[{\"id\":\"1614\",\"type\":\"PanTool\"},{\"id\":\"1615\",\"type\":\"WheelZoomTool\"},{\"id\":\"1616\",\"type\":\"BoxZoomTool\"},{\"id\":\"1617\",\"type\":\"SaveTool\"},{\"id\":\"1618\",\"type\":\"ResetTool\"},{\"id\":\"1619\",\"type\":\"HelpTool\"}]},\"id\":\"1620\",\"type\":\"Toolbar\"},{\"attributes\":{\"text\":\"\"},\"id\":\"1683\",\"type\":\"Title\"},{\"attributes\":{},\"id\":\"1610\",\"type\":\"BasicTicker\"},{\"attributes\":{\"formatter\":{\"id\":\"1687\",\"type\":\"BasicTickFormatter\"},\"ticker\":{\"id\":\"1688\",\"type\":\"BasicTicker\"},\"y_range_name\":\"foo\"},\"id\":\"1638\",\"type\":\"LinearAxis\"},{\"attributes\":{\"fill_alpha\":{\"value\":0.1},\"fill_color\":{\"value\":\"#1f77b4\"},\"line_alpha\":{\"value\":0.1},\"line_color\":{\"value\":\"#1f77b4\"},\"x\":{\"field\":\"x\"},\"y\":{\"field\":\"y\"}},\"id\":\"1635\",\"type\":\"Circle\"},{\"attributes\":{\"source\":{\"id\":\"1627\",\"type\":\"ColumnDataSource\"}},\"id\":\"1631\",\"type\":\"CDSView\"},{\"attributes\":{\"formatter\":{\"id\":\"1685\",\"type\":\"BasicTickFormatter\"},\"ticker\":{\"id\":\"1610\",\"type\":\"BasicTicker\"}},\"id\":\"1609\",\"type\":\"LinearAxis\"},{\"attributes\":{\"data_source\":{\"id\":\"1633\",\"type\":\"ColumnDataSource\"},\"glyph\":{\"id\":\"1634\",\"type\":\"Circle\"},\"hover_glyph\":null,\"muted_glyph\":null,\"nonselection_glyph\":{\"id\":\"1635\",\"type\":\"Circle\"},\"selection_glyph\":null,\"view\":{\"id\":\"1637\",\"type\":\"CDSView\"},\"y_range_name\":\"foo\"},\"id\":\"1636\",\"type\":\"GlyphRenderer\"},{\"attributes\":{\"callback\":null,\"end\":1.1,\"start\":-1.1},\"id\":\"1598\",\"type\":\"Range1d\"},{\"attributes\":{},\"id\":\"1600\",\"type\":\"LinearScale\"},{\"attributes\":{\"source\":{\"id\":\"1633\",\"type\":\"ColumnDataSource\"}},\"id\":\"1637\",\"type\":\"CDSView\"},{\"attributes\":{\"callback\":null,\"data\":{\"x\":{\"__ndarray__\":\"GC1EVPshGcCyxt3tlLsYwExgd4cuVRjA5vkQIcjuF8CAk6q6YYgXwBotRFT7IRfAtMbd7ZS7FsBOYHeHLlUWwOj5ECHI7hXAgpOqumGIFcAcLURU+yEVwLbG3e2UuxTAUGB3hy5VFMDq+RAhyO4TwISTqrphiBPAHi1EVPshE8C4xt3tlLsSwFJgd4cuVRLA7PkQIcjuEcCGk6q6YYgRwCAtRFT7IRHAusbd7ZS7EMBUYHeHLlUQwNzzIUKQ3Q/AECdVdcMQD8BEWoio9kMOwHiNu9spdw3ArMDuDl2qDMDg8yFCkN0LwBQnVXXDEAvASFqIqPZDCsB8jbvbKXcJwLDA7g5dqgjA5PMhQpDdB8AYJ1V1wxAHwExaiKj2QwbAgI272yl3BcC0wO4OXaoEwOjzIUKQ3QPAHCdVdcMQA8BQWoio9kMCwISNu9spdwHAuMDuDl2qAMDY50OEILv/v0BOquqGIf6/qLQQUe2H/L8QG3e3U+76v3iB3R26VPm/4OdDhCC7979ITqrqhiH2v7C0EFHth/S/GBt3t1Pu8r+Agd0dulTxv9DPhwhBdu+/oJxU1Q1D7L9waSGi2g/pv0A27m6n3OW/EAO7O3Sp4r/Anw8Rguzev2A5qaobhti/ANNCRLUf0r9A2bi7nXLHvwAZ2N2hS7W/AAIG7943kT8AGltVkee9P8BZeneVwMs/QJMjIrFG1D+g+YmIF63aPwAwePe+ieA/MGOrKvK84z9glt5dJfDmP5DJEZFYI+o/wPxExItW7T/4F7x730TwP5CxVRV53vE/KEvvrhJ48z/A5IhIrBH1P1h+IuJFq/Y/8Be8e99E+D+IsVUVed75PyBL764SePs/uOSISKwR/T9QfiLiRav+P/QL3r1vIgBAwNiqijzvAECMpXdXCbwBQFhyRCTWiAJAJD8R8aJVA0DwC969byIEQLzYqoo87wRAiKV3Vwm8BUBUckQk1ogGQCA/EfGiVQdA7AvevW8iCEC42KqKPO8IQISld1cJvAlAUHJEJNaICkAcPxHxolULQOgL3r1vIgxAtNiqijzvDECApXdXCbwNQExyRCTWiA5AGD8R8aJVD0DyBe/eNxEQQFhsVUWedxBAvtK7qwTeEEAkOSISa0QRQIqfiHjRqhFA8AXv3jcREkBWbFVFnncSQLzSu6sE3hJAIjkiEmtEE0CIn4h40aoTQO4F7943ERRAVGxVRZ53FEC60rurBN4UQCA5IhJrRBVAhp+IeNGqFUDsBe/eNxEWQFJsVUWedxZAuNK7qwTeFkAeOSISa0QXQISfiHjRqhdA6gXv3jcRGEBQbFVFnncYQLbSu6sE3hhA\",\"dtype\":\"float64\",\"shape\":[126]},\"y\":{\"__ndarray__\":\"AAAAAAAAAACamZmZmZnpP5qZmZmZmfk/NDMzMzMzA0CamZmZmZkJQAAAAAAAABBANDMzMzMzE0BnZmZmZmYWQJqZmZmZmRlAzczMzMzMHEAAAAAAAAAgQJqZmZmZmSFANDMzMzMzI0DNzMzMzMwkQGdmZmZmZiZAAAAAAAAAKECamZmZmZkpQDQzMzMzMytAzczMzMzMLEBnZmZmZmYuQAAAAAAAADBAzczMzMzMMECamZmZmZkxQGdmZmZmZjJANDMzMzMzM0AAAAAAAAA0QM3MzMzMzDRAmpmZmZmZNUBnZmZmZmY2QDQzMzMzMzdAAAAAAAAAOEDNzMzMzMw4QJqZmZmZmTlAZ2ZmZmZmOkA0MzMzMzM7QAAAAAAAADxAzczMzMzMPECamZmZmZk9QGdmZmZmZj5ANDMzMzMzP0AAAAAAAABAQGdmZmZmZkBAzczMzMzMQEAzMzMzMzNBQJqZmZmZmUFAAAAAAAAAQkBnZmZmZmZCQM3MzMzMzEJANDMzMzMzQ0CamZmZmZlDQAAAAAAAAERAZ2ZmZmZmREDNzMzMzMxEQDQzMzMzM0VAmpmZmZmZRUAAAAAAAABGQGdmZmZmZkZAzczMzMzMRkA0MzMzMzNHQJqZmZmZmUdAAAAAAAAASEBnZmZmZmZIQM3MzMzMzEhANDMzMzMzSUCamZmZmZlJQAAAAAAAAEpAZ2ZmZmZmSkDNzMzMzMxKQDQzMzMzM0tAmpmZmZmZS0AAAAAAAABMQGdmZmZmZkxAzczMzMzMTEA0MzMzMzNNQJqZmZmZmU1AAAAAAAAATkBnZmZmZmZOQM3MzMzMzE5ANDMzMzMzT0CamZmZmZlPQAAAAAAAAFBAMzMzMzMzUEBnZmZmZmZQQJqZmZmZmVBAzczMzMzMUEAAAAAAAABRQDMzMzMzM1FAZ2ZmZmZmUUCamZmZmZlRQM3MzMzMzFFAAAAAAAAAUkAzMzMzMzNSQGdmZmZmZlJAmpmZmZmZUkDNzMzMzMxSQAAAAAAAAFNANDMzMzMzU0BnZmZmZmZTQJqZmZmZmVNAzczMzMzMU0AAAAAAAABUQDQzMzMzM1RAZ2ZmZmZmVECamZmZmZlUQM3MzMzMzFRAAAAAAAAAVUA0MzMzMzNVQGdmZmZmZlVAmpmZmZmZVUDNzMzMzMxVQAAAAAAAAFZANDMzMzMzVkBnZmZmZmZWQJqZmZmZmVZAzczMzMzMVkAAAAAAAABXQDQzMzMzM1dAZ2ZmZmZmV0CamZmZmZlXQM3MzMzMzFdAAAAAAAAAWEA0MzMzMzNYQGdmZmZmZlhAmpmZmZmZWEDNzMzMzMxYQAAAAAAAAFlA\",\"dtype\":\"float64\",\"shape\":[126]}},\"selected\":{\"id\":\"1693\",\"type\":\"Selection\"},\"selection_policy\":{\"id\":\"1694\",\"type\":\"UnionRenderers\"}},\"id\":\"1633\",\"type\":\"ColumnDataSource\"},{\"attributes\":{},\"id\":\"1602\",\"type\":\"LinearScale\"},{\"attributes\":{\"fill_alpha\":{\"value\":0.1},\"fill_color\":{\"value\":\"#1f77b4\"},\"line_alpha\":{\"value\":0.1},\"line_color\":{\"value\":\"#1f77b4\"},\"x\":{\"field\":\"x\"},\"y\":{\"field\":\"y\"}},\"id\":\"1629\",\"type\":\"Circle\"},{\"attributes\":{\"formatter\":{\"id\":\"1689\",\"type\":\"BasicTickFormatter\"},\"ticker\":{\"id\":\"1605\",\"type\":\"BasicTicker\"}},\"id\":\"1604\",\"type\":\"LinearAxis\"},{\"attributes\":{},\"id\":\"1685\",\"type\":\"BasicTickFormatter\"},{\"attributes\":{},\"id\":\"1605\",\"type\":\"BasicTicker\"},{\"attributes\":{\"ticker\":{\"id\":\"1605\",\"type\":\"BasicTicker\"}},\"id\":\"1608\",\"type\":\"Grid\"},{\"attributes\":{},\"id\":\"1688\",\"type\":\"BasicTicker\"}],\"root_ids\":[\"1595\"]},\"title\":\"Bokeh Application\",\"version\":\"1.2.0\"}};\n",
       "  var render_items = [{\"docid\":\"5fdb40ff-0d68-4a06-8d5e-4ded95b3ffa7\",\"roots\":{\"1595\":\"ab5484d8-f380-44e0-b302-0e47ad287c5b\"}}];\n",
       "  root.Bokeh.embed.embed_items_notebook(docs_json, render_items);\n",
       "\n",
       "  }\n",
       "  if (root.Bokeh !== undefined) {\n",
       "    embed_document(root);\n",
       "  } else {\n",
       "    var attempts = 0;\n",
       "    var timer = setInterval(function(root) {\n",
       "      if (root.Bokeh !== undefined) {\n",
       "        embed_document(root);\n",
       "        clearInterval(timer);\n",
       "      }\n",
       "      attempts++;\n",
       "      if (attempts > 100) {\n",
       "        console.log(\"Bokeh: ERROR: Unable to run BokehJS code because BokehJS library is missing\");\n",
       "        clearInterval(timer);\n",
       "      }\n",
       "    }, 10, root)\n",
       "  }\n",
       "})(window);"
      ],
      "application/vnd.bokehjs_exec.v0+json": ""
     },
     "metadata": {
      "application/vnd.bokehjs_exec.v0+json": {
       "id": "1595"
      }
     },
     "output_type": "display_data"
    }
   ],
   "source": [
    "from numpy import pi, arange, sin, linspace\n",
    "from bokeh.models import LinearAxis, Range1d\n",
    "\n",
    "x = arange(-2*pi, 2*pi, 0.1)\n",
    "y = sin(x)\n",
    "y2 = linspace(0, 100, len(y))\n",
    "\n",
    "p = figure(x_range=(-6.5, 6.5), y_range=(-1.1, 1.1))\n",
    "\n",
    "p.circle(x, y, color=\"red\")\n",
    "\n",
    "p.extra_y_ranges = {\"foo\": Range1d(start=0, end=100)}\n",
    "p.circle(x, y2, color=\"blue\", y_range_name=\"foo\")\n",
    "p.add_layout(LinearAxis(y_range_name=\"foo\"), 'left')\n",
    "\n",
    "show(p)"
   ]
  },
  {
   "cell_type": "markdown",
   "metadata": {},
   "source": [
    "The basic steps to creating plots with the [bokeh.plotting](http://bokeh.pydata.org/en/latest/docs/reference/plotting.html#bokeh-plotting) interface are:\n",
    "\n",
    " - Prepare some data (in this case plain python lists).\n",
    " - Tell Bokeh where to generate output (in this case using `output_notebook()`).\n",
    " - Call `figure()` to create a plot with some overall options like title, tools and axes labels.\n",
    " - Add renderers (in this case, `Figure.line`) for our data, with visual customizations like colors, legends and widths  to the plot.\n",
    " - Ask Bokeh to `show()` or `save()` the results.\n",
    "\n",
    "Steps three and four can be repeated to create more than one plot, as shown in some of the examples below.\n",
    "\n",
    "The [bokeh.plotting](http://bokeh.pydata.org/en/latest/docs/reference/plotting.html#bokeh-plotting) interface is also quite handy if we need to customize the output a bit more by adding more data series, glyphs, logarithmic axis, and so on. It’s also possible to easily combine multiple glyphs together on one plot as shown below:"
   ]
  },
  {
   "cell_type": "code",
   "execution_count": 10,
   "metadata": {},
   "outputs": [
    {
     "data": {
      "text/html": [
       "\n",
       "\n",
       "\n",
       "\n",
       "\n",
       "\n",
       "  <div class=\"bk-root\" id=\"7820cad8-9731-42dd-8665-bc0112033872\" data-root-id=\"1774\"></div>\n"
      ]
     },
     "metadata": {},
     "output_type": "display_data"
    },
    {
     "data": {
      "application/javascript": [
       "(function(root) {\n",
       "  function embed_document(root) {\n",
       "    \n",
       "  var docs_json = {\"69138750-0314-465c-82b6-7e3ca591b0eb\":{\"roots\":{\"references\":[{\"attributes\":{\"below\":[{\"id\":\"1785\",\"type\":\"LinearAxis\"}],\"center\":[{\"id\":\"1789\",\"type\":\"Grid\"},{\"id\":\"1794\",\"type\":\"Grid\"},{\"id\":\"1815\",\"type\":\"Legend\"}],\"left\":[{\"id\":\"1790\",\"type\":\"LogAxis\"}],\"plot_height\":350,\"plot_width\":700,\"renderers\":[{\"id\":\"1807\",\"type\":\"GlyphRenderer\"},{\"id\":\"1820\",\"type\":\"GlyphRenderer\"},{\"id\":\"1833\",\"type\":\"GlyphRenderer\"},{\"id\":\"1849\",\"type\":\"GlyphRenderer\"},{\"id\":\"1867\",\"type\":\"GlyphRenderer\"},{\"id\":\"1886\",\"type\":\"GlyphRenderer\"}],\"title\":{\"id\":\"1775\",\"type\":\"Title\"},\"toolbar\":{\"id\":\"1799\",\"type\":\"Toolbar\"},\"x_range\":{\"id\":\"1777\",\"type\":\"DataRange1d\"},\"x_scale\":{\"id\":\"1781\",\"type\":\"LinearScale\"},\"y_range\":{\"id\":\"1779\",\"type\":\"DataRange1d\"},\"y_scale\":{\"id\":\"1783\",\"type\":\"LogScale\"}},\"id\":\"1774\",\"subtype\":\"Figure\",\"type\":\"Plot\"},{\"attributes\":{\"source\":{\"id\":\"1830\",\"type\":\"ColumnDataSource\"}},\"id\":\"1834\",\"type\":\"CDSView\"},{\"attributes\":{\"callback\":null},\"id\":\"1779\",\"type\":\"DataRange1d\"},{\"attributes\":{},\"id\":\"1843\",\"type\":\"UnionRenderers\"},{\"attributes\":{\"source\":{\"id\":\"1804\",\"type\":\"ColumnDataSource\"}},\"id\":\"1808\",\"type\":\"CDSView\"},{\"attributes\":{\"line_alpha\":0.1,\"line_color\":\"#1f77b4\",\"line_dash\":[4,4],\"x\":{\"field\":\"x\"},\"y\":{\"field\":\"y\"}},\"id\":\"1885\",\"type\":\"Line\"},{\"attributes\":{},\"id\":\"1781\",\"type\":\"LinearScale\"},{\"attributes\":{\"label\":{\"value\":\"y=x^2\"},\"renderers\":[{\"id\":\"1833\",\"type\":\"GlyphRenderer\"}]},\"id\":\"1845\",\"type\":\"LegendItem\"},{\"attributes\":{\"data_source\":{\"id\":\"1883\",\"type\":\"ColumnDataSource\"},\"glyph\":{\"id\":\"1884\",\"type\":\"Line\"},\"hover_glyph\":null,\"muted_glyph\":null,\"nonselection_glyph\":{\"id\":\"1885\",\"type\":\"Line\"},\"selection_glyph\":null,\"view\":{\"id\":\"1887\",\"type\":\"CDSView\"}},\"id\":\"1886\",\"type\":\"GlyphRenderer\"},{\"attributes\":{\"ticker\":null},\"id\":\"1810\",\"type\":\"LogTickFormatter\"},{\"attributes\":{},\"id\":\"1783\",\"type\":\"LogScale\"},{\"attributes\":{\"source\":{\"id\":\"1883\",\"type\":\"ColumnDataSource\"}},\"id\":\"1887\",\"type\":\"CDSView\"},{\"attributes\":{\"line_color\":\"red\",\"x\":{\"field\":\"x\"},\"y\":{\"field\":\"y\"}},\"id\":\"1847\",\"type\":\"Line\"},{\"attributes\":{},\"id\":\"1812\",\"type\":\"BasicTickFormatter\"},{\"attributes\":{\"axis_label\":\"sections\",\"formatter\":{\"id\":\"1812\",\"type\":\"BasicTickFormatter\"},\"ticker\":{\"id\":\"1786\",\"type\":\"BasicTicker\"}},\"id\":\"1785\",\"type\":\"LinearAxis\"},{\"attributes\":{\"callback\":null,\"data\":{\"x\":[0.1,0.5,1.0,1.5,2.0,2.5,3.0],\"y\":[1.2589254117941673,3.1622776601683795,10.0,31.622776601683793,100.0,316.22776601683796,1000.0]},\"selected\":{\"id\":\"1901\",\"type\":\"Selection\"},\"selection_policy\":{\"id\":\"1902\",\"type\":\"UnionRenderers\"}},\"id\":\"1864\",\"type\":\"ColumnDataSource\"},{\"attributes\":{\"label\":{\"value\":\"y=10^x^2\"},\"renderers\":[{\"id\":\"1886\",\"type\":\"GlyphRenderer\"}]},\"id\":\"1904\",\"type\":\"LegendItem\"},{\"attributes\":{\"items\":[{\"id\":\"1816\",\"type\":\"LegendItem\"},{\"id\":\"1845\",\"type\":\"LegendItem\"},{\"id\":\"1863\",\"type\":\"LegendItem\"},{\"id\":\"1904\",\"type\":\"LegendItem\"}]},\"id\":\"1815\",\"type\":\"Legend\"},{\"attributes\":{\"line_alpha\":0.1,\"line_color\":\"#1f77b4\",\"x\":{\"field\":\"x\"},\"y\":{\"field\":\"y\"}},\"id\":\"1848\",\"type\":\"Line\"},{\"attributes\":{},\"id\":\"1786\",\"type\":\"BasicTicker\"},{\"attributes\":{},\"id\":\"1902\",\"type\":\"UnionRenderers\"},{\"attributes\":{\"label\":{\"value\":\"y=x\"},\"renderers\":[{\"id\":\"1807\",\"type\":\"GlyphRenderer\"},{\"id\":\"1820\",\"type\":\"GlyphRenderer\"}]},\"id\":\"1816\",\"type\":\"LegendItem\"},{\"attributes\":{\"data_source\":{\"id\":\"1846\",\"type\":\"ColumnDataSource\"},\"glyph\":{\"id\":\"1847\",\"type\":\"Line\"},\"hover_glyph\":null,\"muted_glyph\":null,\"nonselection_glyph\":{\"id\":\"1848\",\"type\":\"Line\"},\"selection_glyph\":null,\"view\":{\"id\":\"1850\",\"type\":\"CDSView\"}},\"id\":\"1849\",\"type\":\"GlyphRenderer\"},{\"attributes\":{\"ticker\":{\"id\":\"1786\",\"type\":\"BasicTicker\"}},\"id\":\"1789\",\"type\":\"Grid\"},{\"attributes\":{\"callback\":null,\"data\":{\"x\":[0.1,0.5,1.0,1.5,2.0,2.5,3.0],\"y\":[0.010000000000000002,0.25,1.0,2.25,4.0,6.25,9.0]},\"selected\":{\"id\":\"1860\",\"type\":\"Selection\"},\"selection_policy\":{\"id\":\"1861\",\"type\":\"UnionRenderers\"}},\"id\":\"1830\",\"type\":\"ColumnDataSource\"},{\"attributes\":{\"axis_label\":\"particles\",\"formatter\":{\"id\":\"1810\",\"type\":\"LogTickFormatter\"},\"ticker\":{\"id\":\"1791\",\"type\":\"LogTicker\"}},\"id\":\"1790\",\"type\":\"LogAxis\"},{\"attributes\":{\"source\":{\"id\":\"1846\",\"type\":\"ColumnDataSource\"}},\"id\":\"1850\",\"type\":\"CDSView\"},{\"attributes\":{\"fill_color\":{\"value\":\"white\"},\"line_color\":{\"value\":\"#1f77b4\"},\"size\":{\"units\":\"screen\",\"value\":8},\"x\":{\"field\":\"x\"},\"y\":{\"field\":\"y\"}},\"id\":\"1818\",\"type\":\"Circle\"},{\"attributes\":{},\"id\":\"1977\",\"type\":\"Selection\"},{\"attributes\":{\"num_minor_ticks\":10},\"id\":\"1791\",\"type\":\"LogTicker\"},{\"attributes\":{\"bottom_units\":\"screen\",\"fill_alpha\":{\"value\":0.5},\"fill_color\":{\"value\":\"lightgrey\"},\"left_units\":\"screen\",\"level\":\"overlay\",\"line_alpha\":{\"value\":1.0},\"line_color\":{\"value\":\"black\"},\"line_dash\":[4,4],\"line_width\":{\"value\":2},\"render_mode\":\"css\",\"right_units\":\"screen\",\"top_units\":\"screen\"},\"id\":\"1814\",\"type\":\"BoxAnnotation\"},{\"attributes\":{\"fill_alpha\":{\"value\":0.1},\"fill_color\":{\"value\":\"#1f77b4\"},\"line_alpha\":{\"value\":0.1},\"line_color\":{\"value\":\"#1f77b4\"},\"size\":{\"units\":\"screen\",\"value\":8},\"x\":{\"field\":\"x\"},\"y\":{\"field\":\"y\"}},\"id\":\"1819\",\"type\":\"Circle\"},{\"attributes\":{},\"id\":\"1978\",\"type\":\"UnionRenderers\"},{\"attributes\":{\"dimension\":1,\"ticker\":{\"id\":\"1791\",\"type\":\"LogTicker\"}},\"id\":\"1794\",\"type\":\"Grid\"},{\"attributes\":{},\"id\":\"1861\",\"type\":\"UnionRenderers\"},{\"attributes\":{\"data_source\":{\"id\":\"1817\",\"type\":\"ColumnDataSource\"},\"glyph\":{\"id\":\"1818\",\"type\":\"Circle\"},\"hover_glyph\":null,\"muted_glyph\":null,\"nonselection_glyph\":{\"id\":\"1819\",\"type\":\"Circle\"},\"selection_glyph\":null,\"view\":{\"id\":\"1821\",\"type\":\"CDSView\"}},\"id\":\"1820\",\"type\":\"GlyphRenderer\"},{\"attributes\":{},\"id\":\"1901\",\"type\":\"Selection\"},{\"attributes\":{\"label\":{\"value\":\"y=10^x\"},\"renderers\":[{\"id\":\"1849\",\"type\":\"GlyphRenderer\"},{\"id\":\"1867\",\"type\":\"GlyphRenderer\"}]},\"id\":\"1863\",\"type\":\"LegendItem\"},{\"attributes\":{},\"id\":\"1860\",\"type\":\"Selection\"},{\"attributes\":{\"source\":{\"id\":\"1817\",\"type\":\"ColumnDataSource\"}},\"id\":\"1821\",\"type\":\"CDSView\"},{\"attributes\":{\"callback\":null,\"data\":{\"x\":[0.1,0.5,1.0,1.5,2.0,2.5,3.0],\"y\":[0.1,0.5,1.0,1.5,2.0,2.5,3.0]},\"selected\":{\"id\":\"1842\",\"type\":\"Selection\"},\"selection_policy\":{\"id\":\"1843\",\"type\":\"UnionRenderers\"}},\"id\":\"1817\",\"type\":\"ColumnDataSource\"},{\"attributes\":{\"callback\":null,\"data\":{\"x\":[0.1,0.5,1.0,1.5,2.0,2.5,3.0],\"y\":[1.023292992280754,1.7782794100389228,10.0,177.82794100389228,10000.0,1778279.410038923,1000000000.0]},\"selected\":{\"id\":\"1977\",\"type\":\"Selection\"},\"selection_policy\":{\"id\":\"1978\",\"type\":\"UnionRenderers\"}},\"id\":\"1883\",\"type\":\"ColumnDataSource\"},{\"attributes\":{},\"id\":\"1827\",\"type\":\"Selection\"},{\"attributes\":{\"fill_color\":{\"value\":\"red\"},\"line_color\":{\"value\":\"red\"},\"size\":{\"units\":\"screen\",\"value\":6},\"x\":{\"field\":\"x\"},\"y\":{\"field\":\"y\"}},\"id\":\"1865\",\"type\":\"Circle\"},{\"attributes\":{},\"id\":\"1842\",\"type\":\"Selection\"},{\"attributes\":{},\"id\":\"1795\",\"type\":\"PanTool\"},{\"attributes\":{},\"id\":\"1828\",\"type\":\"UnionRenderers\"},{\"attributes\":{\"fill_alpha\":{\"value\":0.1},\"fill_color\":{\"value\":\"#1f77b4\"},\"line_alpha\":{\"value\":0.1},\"line_color\":{\"value\":\"#1f77b4\"},\"size\":{\"units\":\"screen\",\"value\":6},\"x\":{\"field\":\"x\"},\"y\":{\"field\":\"y\"}},\"id\":\"1866\",\"type\":\"Circle\"},{\"attributes\":{\"line_color\":\"orange\",\"line_dash\":[4,4],\"x\":{\"field\":\"x\"},\"y\":{\"field\":\"y\"}},\"id\":\"1884\",\"type\":\"Line\"},{\"attributes\":{\"overlay\":{\"id\":\"1814\",\"type\":\"BoxAnnotation\"}},\"id\":\"1796\",\"type\":\"BoxZoomTool\"},{\"attributes\":{\"data_source\":{\"id\":\"1864\",\"type\":\"ColumnDataSource\"},\"glyph\":{\"id\":\"1865\",\"type\":\"Circle\"},\"hover_glyph\":null,\"muted_glyph\":null,\"nonselection_glyph\":{\"id\":\"1866\",\"type\":\"Circle\"},\"selection_glyph\":null,\"view\":{\"id\":\"1868\",\"type\":\"CDSView\"}},\"id\":\"1867\",\"type\":\"GlyphRenderer\"},{\"attributes\":{},\"id\":\"1797\",\"type\":\"ResetTool\"},{\"attributes\":{\"callback\":null,\"data\":{\"x\":[0.1,0.5,1.0,1.5,2.0,2.5,3.0],\"y\":[1.2589254117941673,3.1622776601683795,10.0,31.622776601683793,100.0,316.22776601683796,1000.0]},\"selected\":{\"id\":\"1880\",\"type\":\"Selection\"},\"selection_policy\":{\"id\":\"1881\",\"type\":\"UnionRenderers\"}},\"id\":\"1846\",\"type\":\"ColumnDataSource\"},{\"attributes\":{\"source\":{\"id\":\"1864\",\"type\":\"ColumnDataSource\"}},\"id\":\"1868\",\"type\":\"CDSView\"},{\"attributes\":{\"callback\":null},\"id\":\"1777\",\"type\":\"DataRange1d\"},{\"attributes\":{\"line_color\":\"#1f77b4\",\"line_width\":3,\"x\":{\"field\":\"x\"},\"y\":{\"field\":\"y\"}},\"id\":\"1831\",\"type\":\"Line\"},{\"attributes\":{},\"id\":\"1798\",\"type\":\"SaveTool\"},{\"attributes\":{},\"id\":\"1880\",\"type\":\"Selection\"},{\"attributes\":{\"text\":\"log axis example\"},\"id\":\"1775\",\"type\":\"Title\"},{\"attributes\":{\"line_alpha\":0.1,\"line_color\":\"#1f77b4\",\"line_width\":3,\"x\":{\"field\":\"x\"},\"y\":{\"field\":\"y\"}},\"id\":\"1832\",\"type\":\"Line\"},{\"attributes\":{\"active_drag\":\"auto\",\"active_inspect\":\"auto\",\"active_multi\":null,\"active_scroll\":\"auto\",\"active_tap\":\"auto\",\"tools\":[{\"id\":\"1795\",\"type\":\"PanTool\"},{\"id\":\"1796\",\"type\":\"BoxZoomTool\"},{\"id\":\"1797\",\"type\":\"ResetTool\"},{\"id\":\"1798\",\"type\":\"SaveTool\"}]},\"id\":\"1799\",\"type\":\"Toolbar\"},{\"attributes\":{\"line_alpha\":0.1,\"line_color\":\"#1f77b4\",\"x\":{\"field\":\"x\"},\"y\":{\"field\":\"y\"}},\"id\":\"1806\",\"type\":\"Line\"},{\"attributes\":{},\"id\":\"1881\",\"type\":\"UnionRenderers\"},{\"attributes\":{\"data_source\":{\"id\":\"1830\",\"type\":\"ColumnDataSource\"},\"glyph\":{\"id\":\"1831\",\"type\":\"Line\"},\"hover_glyph\":null,\"muted_glyph\":null,\"nonselection_glyph\":{\"id\":\"1832\",\"type\":\"Line\"},\"selection_glyph\":null,\"view\":{\"id\":\"1834\",\"type\":\"CDSView\"}},\"id\":\"1833\",\"type\":\"GlyphRenderer\"},{\"attributes\":{\"callback\":null,\"data\":{\"x\":[0.1,0.5,1.0,1.5,2.0,2.5,3.0],\"y\":[0.1,0.5,1.0,1.5,2.0,2.5,3.0]},\"selected\":{\"id\":\"1827\",\"type\":\"Selection\"},\"selection_policy\":{\"id\":\"1828\",\"type\":\"UnionRenderers\"}},\"id\":\"1804\",\"type\":\"ColumnDataSource\"},{\"attributes\":{\"data_source\":{\"id\":\"1804\",\"type\":\"ColumnDataSource\"},\"glyph\":{\"id\":\"1805\",\"type\":\"Line\"},\"hover_glyph\":null,\"muted_glyph\":null,\"nonselection_glyph\":{\"id\":\"1806\",\"type\":\"Line\"},\"selection_glyph\":null,\"view\":{\"id\":\"1808\",\"type\":\"CDSView\"}},\"id\":\"1807\",\"type\":\"GlyphRenderer\"},{\"attributes\":{\"line_color\":\"#1f77b4\",\"x\":{\"field\":\"x\"},\"y\":{\"field\":\"y\"}},\"id\":\"1805\",\"type\":\"Line\"}],\"root_ids\":[\"1774\"]},\"title\":\"Bokeh Application\",\"version\":\"1.2.0\"}};\n",
       "  var render_items = [{\"docid\":\"69138750-0314-465c-82b6-7e3ca591b0eb\",\"roots\":{\"1774\":\"7820cad8-9731-42dd-8665-bc0112033872\"}}];\n",
       "  root.Bokeh.embed.embed_items_notebook(docs_json, render_items);\n",
       "\n",
       "  }\n",
       "  if (root.Bokeh !== undefined) {\n",
       "    embed_document(root);\n",
       "  } else {\n",
       "    var attempts = 0;\n",
       "    var timer = setInterval(function(root) {\n",
       "      if (root.Bokeh !== undefined) {\n",
       "        embed_document(root);\n",
       "        clearInterval(timer);\n",
       "      }\n",
       "      attempts++;\n",
       "      if (attempts > 100) {\n",
       "        console.log(\"Bokeh: ERROR: Unable to run BokehJS code because BokehJS library is missing\");\n",
       "        clearInterval(timer);\n",
       "      }\n",
       "    }, 10, root)\n",
       "  }\n",
       "})(window);"
      ],
      "application/vnd.bokehjs_exec.v0+json": ""
     },
     "metadata": {
      "application/vnd.bokehjs_exec.v0+json": {
       "id": "1774"
      }
     },
     "output_type": "display_data"
    }
   ],
   "source": [
    "# prepare some data\n",
    "x = [0.1, 0.5, 1.0, 1.5, 2.0, 2.5, 3.0]\n",
    "y0 = [i**2 for i in x]\n",
    "y1 = [10**i for i in x]\n",
    "y2 = [10**(i**2) for i in x]\n",
    "\n",
    "# create a new plot\n",
    "p = figure(\n",
    "    tools=\"pan,box_zoom,reset,save\",\n",
    "    y_axis_type=\"log\", title=\"log axis example\",\n",
    "    x_axis_label='sections', y_axis_label='particles',\n",
    "    width=700, height=350)\n",
    "\n",
    "\n",
    "# add some renderers\n",
    "p.line(x, x, legend=\"y=x\")\n",
    "p.circle(x, x, legend=\"y=x\", fill_color=\"white\", size=8)\n",
    "\n",
    "p.line(x, y0, legend=\"y=x^2\", line_width=3)\n",
    "\n",
    "p.line(x, y1, legend=\"y=10^x\", line_color=\"red\")\n",
    "p.circle(x, y1, legend=\"y=10^x\", fill_color=\"red\", line_color=\"red\", size=6)\n",
    "\n",
    "p.line(x, y2, legend=\"y=10^x^2\", line_color=\"orange\", line_dash=\"4 4\")\n",
    "\n",
    "# show the results\n",
    "show(p)"
   ]
  },
  {
   "cell_type": "markdown",
   "metadata": {},
   "source": [
    "From the 0.12.9 it's possible to define the click policy on the legend. So for example if you want to hide the series you click on the legend:"
   ]
  },
  {
   "cell_type": "code",
   "execution_count": 11,
   "metadata": {},
   "outputs": [],
   "source": [
    "p.legend.location = \"top_left\"\n",
    "p.legend.click_policy=\"hide\" # >mute< is the other option"
   ]
  },
  {
   "cell_type": "code",
   "execution_count": 12,
   "metadata": {},
   "outputs": [
    {
     "data": {
      "text/html": [
       "\n",
       "\n",
       "\n",
       "\n",
       "\n",
       "\n",
       "  <div class=\"bk-root\" id=\"3746878d-d784-4c93-858d-052798263832\" data-root-id=\"1774\"></div>\n"
      ]
     },
     "metadata": {},
     "output_type": "display_data"
    },
    {
     "data": {
      "application/javascript": [
       "(function(root) {\n",
       "  function embed_document(root) {\n",
       "    \n",
       "  var docs_json = {\"8857b74d-0aae-44b2-afa4-6afbfeb74880\":{\"roots\":{\"references\":[{\"attributes\":{\"below\":[{\"id\":\"1785\",\"type\":\"LinearAxis\"}],\"center\":[{\"id\":\"1789\",\"type\":\"Grid\"},{\"id\":\"1794\",\"type\":\"Grid\"},{\"id\":\"1815\",\"type\":\"Legend\"}],\"left\":[{\"id\":\"1790\",\"type\":\"LogAxis\"}],\"plot_height\":350,\"plot_width\":700,\"renderers\":[{\"id\":\"1807\",\"type\":\"GlyphRenderer\"},{\"id\":\"1820\",\"type\":\"GlyphRenderer\"},{\"id\":\"1833\",\"type\":\"GlyphRenderer\"},{\"id\":\"1849\",\"type\":\"GlyphRenderer\"},{\"id\":\"1867\",\"type\":\"GlyphRenderer\"},{\"id\":\"1886\",\"type\":\"GlyphRenderer\"}],\"title\":{\"id\":\"1775\",\"type\":\"Title\"},\"toolbar\":{\"id\":\"1799\",\"type\":\"Toolbar\"},\"x_range\":{\"id\":\"1777\",\"type\":\"DataRange1d\"},\"x_scale\":{\"id\":\"1781\",\"type\":\"LinearScale\"},\"y_range\":{\"id\":\"1779\",\"type\":\"DataRange1d\"},\"y_scale\":{\"id\":\"1783\",\"type\":\"LogScale\"}},\"id\":\"1774\",\"subtype\":\"Figure\",\"type\":\"Plot\"},{\"attributes\":{\"source\":{\"id\":\"1830\",\"type\":\"ColumnDataSource\"}},\"id\":\"1834\",\"type\":\"CDSView\"},{\"attributes\":{\"callback\":null},\"id\":\"1779\",\"type\":\"DataRange1d\"},{\"attributes\":{},\"id\":\"1843\",\"type\":\"UnionRenderers\"},{\"attributes\":{\"source\":{\"id\":\"1804\",\"type\":\"ColumnDataSource\"}},\"id\":\"1808\",\"type\":\"CDSView\"},{\"attributes\":{\"line_alpha\":0.1,\"line_color\":\"#1f77b4\",\"line_dash\":[4,4],\"x\":{\"field\":\"x\"},\"y\":{\"field\":\"y\"}},\"id\":\"1885\",\"type\":\"Line\"},{\"attributes\":{},\"id\":\"1781\",\"type\":\"LinearScale\"},{\"attributes\":{\"label\":{\"value\":\"y=x^2\"},\"renderers\":[{\"id\":\"1833\",\"type\":\"GlyphRenderer\"}]},\"id\":\"1845\",\"type\":\"LegendItem\"},{\"attributes\":{\"data_source\":{\"id\":\"1883\",\"type\":\"ColumnDataSource\"},\"glyph\":{\"id\":\"1884\",\"type\":\"Line\"},\"hover_glyph\":null,\"muted_glyph\":null,\"nonselection_glyph\":{\"id\":\"1885\",\"type\":\"Line\"},\"selection_glyph\":null,\"view\":{\"id\":\"1887\",\"type\":\"CDSView\"}},\"id\":\"1886\",\"type\":\"GlyphRenderer\"},{\"attributes\":{\"ticker\":null},\"id\":\"1810\",\"type\":\"LogTickFormatter\"},{\"attributes\":{},\"id\":\"1783\",\"type\":\"LogScale\"},{\"attributes\":{\"source\":{\"id\":\"1883\",\"type\":\"ColumnDataSource\"}},\"id\":\"1887\",\"type\":\"CDSView\"},{\"attributes\":{\"line_color\":\"red\",\"x\":{\"field\":\"x\"},\"y\":{\"field\":\"y\"}},\"id\":\"1847\",\"type\":\"Line\"},{\"attributes\":{},\"id\":\"1812\",\"type\":\"BasicTickFormatter\"},{\"attributes\":{\"axis_label\":\"sections\",\"formatter\":{\"id\":\"1812\",\"type\":\"BasicTickFormatter\"},\"ticker\":{\"id\":\"1786\",\"type\":\"BasicTicker\"}},\"id\":\"1785\",\"type\":\"LinearAxis\"},{\"attributes\":{\"callback\":null,\"data\":{\"x\":[0.1,0.5,1.0,1.5,2.0,2.5,3.0],\"y\":[1.2589254117941673,3.1622776601683795,10.0,31.622776601683793,100.0,316.22776601683796,1000.0]},\"selected\":{\"id\":\"1901\",\"type\":\"Selection\"},\"selection_policy\":{\"id\":\"1902\",\"type\":\"UnionRenderers\"}},\"id\":\"1864\",\"type\":\"ColumnDataSource\"},{\"attributes\":{\"label\":{\"value\":\"y=10^x^2\"},\"renderers\":[{\"id\":\"1886\",\"type\":\"GlyphRenderer\"}]},\"id\":\"1904\",\"type\":\"LegendItem\"},{\"attributes\":{\"click_policy\":\"hide\",\"items\":[{\"id\":\"1816\",\"type\":\"LegendItem\"},{\"id\":\"1845\",\"type\":\"LegendItem\"},{\"id\":\"1863\",\"type\":\"LegendItem\"},{\"id\":\"1904\",\"type\":\"LegendItem\"}],\"location\":\"top_left\"},\"id\":\"1815\",\"type\":\"Legend\"},{\"attributes\":{\"line_alpha\":0.1,\"line_color\":\"#1f77b4\",\"x\":{\"field\":\"x\"},\"y\":{\"field\":\"y\"}},\"id\":\"1848\",\"type\":\"Line\"},{\"attributes\":{},\"id\":\"1786\",\"type\":\"BasicTicker\"},{\"attributes\":{},\"id\":\"1902\",\"type\":\"UnionRenderers\"},{\"attributes\":{\"label\":{\"value\":\"y=x\"},\"renderers\":[{\"id\":\"1807\",\"type\":\"GlyphRenderer\"},{\"id\":\"1820\",\"type\":\"GlyphRenderer\"}]},\"id\":\"1816\",\"type\":\"LegendItem\"},{\"attributes\":{\"data_source\":{\"id\":\"1846\",\"type\":\"ColumnDataSource\"},\"glyph\":{\"id\":\"1847\",\"type\":\"Line\"},\"hover_glyph\":null,\"muted_glyph\":null,\"nonselection_glyph\":{\"id\":\"1848\",\"type\":\"Line\"},\"selection_glyph\":null,\"view\":{\"id\":\"1850\",\"type\":\"CDSView\"}},\"id\":\"1849\",\"type\":\"GlyphRenderer\"},{\"attributes\":{\"ticker\":{\"id\":\"1786\",\"type\":\"BasicTicker\"}},\"id\":\"1789\",\"type\":\"Grid\"},{\"attributes\":{\"callback\":null,\"data\":{\"x\":[0.1,0.5,1.0,1.5,2.0,2.5,3.0],\"y\":[0.010000000000000002,0.25,1.0,2.25,4.0,6.25,9.0]},\"selected\":{\"id\":\"1860\",\"type\":\"Selection\"},\"selection_policy\":{\"id\":\"1861\",\"type\":\"UnionRenderers\"}},\"id\":\"1830\",\"type\":\"ColumnDataSource\"},{\"attributes\":{\"axis_label\":\"particles\",\"formatter\":{\"id\":\"1810\",\"type\":\"LogTickFormatter\"},\"ticker\":{\"id\":\"1791\",\"type\":\"LogTicker\"}},\"id\":\"1790\",\"type\":\"LogAxis\"},{\"attributes\":{\"source\":{\"id\":\"1846\",\"type\":\"ColumnDataSource\"}},\"id\":\"1850\",\"type\":\"CDSView\"},{\"attributes\":{\"fill_color\":{\"value\":\"white\"},\"line_color\":{\"value\":\"#1f77b4\"},\"size\":{\"units\":\"screen\",\"value\":8},\"x\":{\"field\":\"x\"},\"y\":{\"field\":\"y\"}},\"id\":\"1818\",\"type\":\"Circle\"},{\"attributes\":{},\"id\":\"1977\",\"type\":\"Selection\"},{\"attributes\":{\"num_minor_ticks\":10},\"id\":\"1791\",\"type\":\"LogTicker\"},{\"attributes\":{\"bottom_units\":\"screen\",\"fill_alpha\":{\"value\":0.5},\"fill_color\":{\"value\":\"lightgrey\"},\"left_units\":\"screen\",\"level\":\"overlay\",\"line_alpha\":{\"value\":1.0},\"line_color\":{\"value\":\"black\"},\"line_dash\":[4,4],\"line_width\":{\"value\":2},\"render_mode\":\"css\",\"right_units\":\"screen\",\"top_units\":\"screen\"},\"id\":\"1814\",\"type\":\"BoxAnnotation\"},{\"attributes\":{\"fill_alpha\":{\"value\":0.1},\"fill_color\":{\"value\":\"#1f77b4\"},\"line_alpha\":{\"value\":0.1},\"line_color\":{\"value\":\"#1f77b4\"},\"size\":{\"units\":\"screen\",\"value\":8},\"x\":{\"field\":\"x\"},\"y\":{\"field\":\"y\"}},\"id\":\"1819\",\"type\":\"Circle\"},{\"attributes\":{},\"id\":\"1978\",\"type\":\"UnionRenderers\"},{\"attributes\":{\"dimension\":1,\"ticker\":{\"id\":\"1791\",\"type\":\"LogTicker\"}},\"id\":\"1794\",\"type\":\"Grid\"},{\"attributes\":{},\"id\":\"1861\",\"type\":\"UnionRenderers\"},{\"attributes\":{\"data_source\":{\"id\":\"1817\",\"type\":\"ColumnDataSource\"},\"glyph\":{\"id\":\"1818\",\"type\":\"Circle\"},\"hover_glyph\":null,\"muted_glyph\":null,\"nonselection_glyph\":{\"id\":\"1819\",\"type\":\"Circle\"},\"selection_glyph\":null,\"view\":{\"id\":\"1821\",\"type\":\"CDSView\"}},\"id\":\"1820\",\"type\":\"GlyphRenderer\"},{\"attributes\":{},\"id\":\"1901\",\"type\":\"Selection\"},{\"attributes\":{\"label\":{\"value\":\"y=10^x\"},\"renderers\":[{\"id\":\"1849\",\"type\":\"GlyphRenderer\"},{\"id\":\"1867\",\"type\":\"GlyphRenderer\"}]},\"id\":\"1863\",\"type\":\"LegendItem\"},{\"attributes\":{},\"id\":\"1860\",\"type\":\"Selection\"},{\"attributes\":{\"source\":{\"id\":\"1817\",\"type\":\"ColumnDataSource\"}},\"id\":\"1821\",\"type\":\"CDSView\"},{\"attributes\":{\"callback\":null,\"data\":{\"x\":[0.1,0.5,1.0,1.5,2.0,2.5,3.0],\"y\":[0.1,0.5,1.0,1.5,2.0,2.5,3.0]},\"selected\":{\"id\":\"1842\",\"type\":\"Selection\"},\"selection_policy\":{\"id\":\"1843\",\"type\":\"UnionRenderers\"}},\"id\":\"1817\",\"type\":\"ColumnDataSource\"},{\"attributes\":{\"callback\":null,\"data\":{\"x\":[0.1,0.5,1.0,1.5,2.0,2.5,3.0],\"y\":[1.023292992280754,1.7782794100389228,10.0,177.82794100389228,10000.0,1778279.410038923,1000000000.0]},\"selected\":{\"id\":\"1977\",\"type\":\"Selection\"},\"selection_policy\":{\"id\":\"1978\",\"type\":\"UnionRenderers\"}},\"id\":\"1883\",\"type\":\"ColumnDataSource\"},{\"attributes\":{},\"id\":\"1827\",\"type\":\"Selection\"},{\"attributes\":{\"fill_color\":{\"value\":\"red\"},\"line_color\":{\"value\":\"red\"},\"size\":{\"units\":\"screen\",\"value\":6},\"x\":{\"field\":\"x\"},\"y\":{\"field\":\"y\"}},\"id\":\"1865\",\"type\":\"Circle\"},{\"attributes\":{},\"id\":\"1842\",\"type\":\"Selection\"},{\"attributes\":{},\"id\":\"1795\",\"type\":\"PanTool\"},{\"attributes\":{},\"id\":\"1828\",\"type\":\"UnionRenderers\"},{\"attributes\":{\"fill_alpha\":{\"value\":0.1},\"fill_color\":{\"value\":\"#1f77b4\"},\"line_alpha\":{\"value\":0.1},\"line_color\":{\"value\":\"#1f77b4\"},\"size\":{\"units\":\"screen\",\"value\":6},\"x\":{\"field\":\"x\"},\"y\":{\"field\":\"y\"}},\"id\":\"1866\",\"type\":\"Circle\"},{\"attributes\":{\"line_color\":\"orange\",\"line_dash\":[4,4],\"x\":{\"field\":\"x\"},\"y\":{\"field\":\"y\"}},\"id\":\"1884\",\"type\":\"Line\"},{\"attributes\":{\"overlay\":{\"id\":\"1814\",\"type\":\"BoxAnnotation\"}},\"id\":\"1796\",\"type\":\"BoxZoomTool\"},{\"attributes\":{\"data_source\":{\"id\":\"1864\",\"type\":\"ColumnDataSource\"},\"glyph\":{\"id\":\"1865\",\"type\":\"Circle\"},\"hover_glyph\":null,\"muted_glyph\":null,\"nonselection_glyph\":{\"id\":\"1866\",\"type\":\"Circle\"},\"selection_glyph\":null,\"view\":{\"id\":\"1868\",\"type\":\"CDSView\"}},\"id\":\"1867\",\"type\":\"GlyphRenderer\"},{\"attributes\":{},\"id\":\"1797\",\"type\":\"ResetTool\"},{\"attributes\":{\"callback\":null,\"data\":{\"x\":[0.1,0.5,1.0,1.5,2.0,2.5,3.0],\"y\":[1.2589254117941673,3.1622776601683795,10.0,31.622776601683793,100.0,316.22776601683796,1000.0]},\"selected\":{\"id\":\"1880\",\"type\":\"Selection\"},\"selection_policy\":{\"id\":\"1881\",\"type\":\"UnionRenderers\"}},\"id\":\"1846\",\"type\":\"ColumnDataSource\"},{\"attributes\":{\"source\":{\"id\":\"1864\",\"type\":\"ColumnDataSource\"}},\"id\":\"1868\",\"type\":\"CDSView\"},{\"attributes\":{\"callback\":null},\"id\":\"1777\",\"type\":\"DataRange1d\"},{\"attributes\":{\"line_color\":\"#1f77b4\",\"line_width\":3,\"x\":{\"field\":\"x\"},\"y\":{\"field\":\"y\"}},\"id\":\"1831\",\"type\":\"Line\"},{\"attributes\":{},\"id\":\"1798\",\"type\":\"SaveTool\"},{\"attributes\":{},\"id\":\"1880\",\"type\":\"Selection\"},{\"attributes\":{\"text\":\"log axis example\"},\"id\":\"1775\",\"type\":\"Title\"},{\"attributes\":{\"line_alpha\":0.1,\"line_color\":\"#1f77b4\",\"line_width\":3,\"x\":{\"field\":\"x\"},\"y\":{\"field\":\"y\"}},\"id\":\"1832\",\"type\":\"Line\"},{\"attributes\":{\"active_drag\":\"auto\",\"active_inspect\":\"auto\",\"active_multi\":null,\"active_scroll\":\"auto\",\"active_tap\":\"auto\",\"tools\":[{\"id\":\"1795\",\"type\":\"PanTool\"},{\"id\":\"1796\",\"type\":\"BoxZoomTool\"},{\"id\":\"1797\",\"type\":\"ResetTool\"},{\"id\":\"1798\",\"type\":\"SaveTool\"}]},\"id\":\"1799\",\"type\":\"Toolbar\"},{\"attributes\":{\"line_alpha\":0.1,\"line_color\":\"#1f77b4\",\"x\":{\"field\":\"x\"},\"y\":{\"field\":\"y\"}},\"id\":\"1806\",\"type\":\"Line\"},{\"attributes\":{},\"id\":\"1881\",\"type\":\"UnionRenderers\"},{\"attributes\":{\"data_source\":{\"id\":\"1830\",\"type\":\"ColumnDataSource\"},\"glyph\":{\"id\":\"1831\",\"type\":\"Line\"},\"hover_glyph\":null,\"muted_glyph\":null,\"nonselection_glyph\":{\"id\":\"1832\",\"type\":\"Line\"},\"selection_glyph\":null,\"view\":{\"id\":\"1834\",\"type\":\"CDSView\"}},\"id\":\"1833\",\"type\":\"GlyphRenderer\"},{\"attributes\":{\"callback\":null,\"data\":{\"x\":[0.1,0.5,1.0,1.5,2.0,2.5,3.0],\"y\":[0.1,0.5,1.0,1.5,2.0,2.5,3.0]},\"selected\":{\"id\":\"1827\",\"type\":\"Selection\"},\"selection_policy\":{\"id\":\"1828\",\"type\":\"UnionRenderers\"}},\"id\":\"1804\",\"type\":\"ColumnDataSource\"},{\"attributes\":{\"data_source\":{\"id\":\"1804\",\"type\":\"ColumnDataSource\"},\"glyph\":{\"id\":\"1805\",\"type\":\"Line\"},\"hover_glyph\":null,\"muted_glyph\":null,\"nonselection_glyph\":{\"id\":\"1806\",\"type\":\"Line\"},\"selection_glyph\":null,\"view\":{\"id\":\"1808\",\"type\":\"CDSView\"}},\"id\":\"1807\",\"type\":\"GlyphRenderer\"},{\"attributes\":{\"line_color\":\"#1f77b4\",\"x\":{\"field\":\"x\"},\"y\":{\"field\":\"y\"}},\"id\":\"1805\",\"type\":\"Line\"}],\"root_ids\":[\"1774\"]},\"title\":\"Bokeh Application\",\"version\":\"1.2.0\"}};\n",
       "  var render_items = [{\"docid\":\"8857b74d-0aae-44b2-afa4-6afbfeb74880\",\"roots\":{\"1774\":\"3746878d-d784-4c93-858d-052798263832\"}}];\n",
       "  root.Bokeh.embed.embed_items_notebook(docs_json, render_items);\n",
       "\n",
       "  }\n",
       "  if (root.Bokeh !== undefined) {\n",
       "    embed_document(root);\n",
       "  } else {\n",
       "    var attempts = 0;\n",
       "    var timer = setInterval(function(root) {\n",
       "      if (root.Bokeh !== undefined) {\n",
       "        embed_document(root);\n",
       "        clearInterval(timer);\n",
       "      }\n",
       "      attempts++;\n",
       "      if (attempts > 100) {\n",
       "        console.log(\"Bokeh: ERROR: Unable to run BokehJS code because BokehJS library is missing\");\n",
       "        clearInterval(timer);\n",
       "      }\n",
       "    }, 10, root)\n",
       "  }\n",
       "})(window);"
      ],
      "application/vnd.bokehjs_exec.v0+json": ""
     },
     "metadata": {
      "application/vnd.bokehjs_exec.v0+json": {
       "id": "1774"
      }
     },
     "output_type": "display_data"
    }
   ],
   "source": [
    "show(p)"
   ]
  },
  {
   "cell_type": "markdown",
   "metadata": {},
   "source": [
    "## Sample Data\n",
    "Some of the examples included in the Bokeh source make use of sample data files that are distributed separately. To download this data, execute the following commands at a Bash or Windows command prompt:\n",
    "\n",
    "```bash\n",
    "bokeh sampledata\n",
    "```"
   ]
  },
  {
   "cell_type": "markdown",
   "metadata": {},
   "source": [
    "## Concepts\n",
    "\n",
    "Let’s consider the plots above, and use them to help define some core concepts.\n",
    "\n",
    "### Plot\n",
    "\n",
    "Plots are a central concept in Bokeh. They are containers that hold all the various objects (renderers, guides, data, and tools) that comprise the final visualization that is presented to users. The bokeh.plotting interface provides a Figure class to help with assembling all the necessary objects, and a convenience function figure() for creating Figure objects.\n",
    "\n",
    "### Glyphs\n",
    "\n",
    "Glyphs are the basic visual marks that Bokeh can display. At the lowest level, there are glyph objects, such as Line. If you are using the low-level bokeh.models interface, it is your responsibility to create and coordinate all the various Bokeh objects, including glyph objects and their data sources. To make life easier, the bokeh.plotting interface exposes higher level glyph methods such as the Figure.line method used in the first example. The second example also adds in calls to Figure.circle to display circle and line glyphs together on the same plot. Besides lines and circles, Bokeh makes many additional glyphs and markers available.\n",
    "\n",
    "The visual appearance of a glyph is tied directly to the data values that are associated with the glyph’s various attributes. In the example above we see that positional attributes like x and y can be set to vectors of data. But glyphs also have some combination of Line Properties, Fill Properties, and Text Properties to control their appearance. All of these attributes can be set with “vectorized” values as well. We will show examples of this below.\n",
    "\n",
    "### Guides and Annotations\n",
    "\n",
    "Bokeh plots can also have other visual components that aid presentation or help the user make comparisons. These fall into two categories. Guides are visual aids that help users judge distances, angles, etc. These include grid lines or bands, axes (such as linear, log, or datetime) that may have ticks and tick labels as well. Annotations are visual aids that label or name parts of the plot. These include titles, legends, etc.\n",
    "\n",
    "### Ranges\n",
    "\n",
    "Ranges describe the data-space bounds of a plot. By default, plots generated with the bokeh.plotting interface come configured with DataRange1d objects that try to automatically set the plot bounds to encompass all the available data. But it is possible to supply explicit Range1d objects for fixed bounds. As a convenience these can also typically be spelled as 2-tuples or lists:\n",
    "\n",
    "`p = figure(x_range=[0,10], y_range=(10, 20))`\n",
    "\n",
    "\n",
    "### Resources\n",
    "\n",
    "To generate plots, the client library BokehJS JavaScript and CSS code must be loaded into the browser. By default, the output_file() function will load BokehJS from http://cdn.pydata.org . However, you can also configure Bokeh to generate static HTML files with BokehJS resources embedded directly inside, by passing the argument mode=\"inline\" to the output_file() function.\n",
    "\n",
    "### More examples¶\n",
    "\n",
    "Here are a few more examples to demonstrate other common tasks and use-cases with the bokeh.plotting interface.\n",
    "Vectorized colors and sizes¶\n",
    "\n",
    "This example shows how it is possible to provide sequences of data values for glyph attributes like fill_color and radius. Other things to look out for in this example:\n",
    "- supplying an explicit list of tool names to figure()\n",
    "- fetching BokehJS resources from CDN using the mode argument\n",
    "- setting the x_range and y_range explicitly\n",
    "- turning a line off (by setting its value to None)\n",
    "- using NumPy arrays for supplying data"
   ]
  },
  {
   "cell_type": "code",
   "execution_count": 13,
   "metadata": {},
   "outputs": [
    {
     "data": {
      "text/html": [
       "\n",
       "\n",
       "\n",
       "\n",
       "\n",
       "\n",
       "  <div class=\"bk-root\" id=\"9ef59649-cec8-4634-a8c3-cde003478ae8\" data-root-id=\"2196\"></div>\n"
      ]
     },
     "metadata": {},
     "output_type": "display_data"
    },
    {
     "data": {
      "application/javascript": [
       "(function(root) {\n",
       "  function embed_document(root) {\n",
       "    \n",
       "  var docs_json = {\"7ce09eed-8f70-48d5-8ded-23aab3e21d9b\":{\"roots\":{\"references\":[{\"attributes\":{\"below\":[{\"id\":\"2205\",\"type\":\"LinearAxis\"}],\"center\":[{\"id\":\"2209\",\"type\":\"Grid\"},{\"id\":\"2214\",\"type\":\"Grid\"}],\"left\":[{\"id\":\"2210\",\"type\":\"LinearAxis\"}],\"plot_height\":500,\"plot_width\":500,\"renderers\":[{\"id\":\"2233\",\"type\":\"GlyphRenderer\"}],\"title\":{\"id\":\"2310\",\"type\":\"Title\"},\"toolbar\":{\"id\":\"2222\",\"type\":\"Toolbar\"},\"x_range\":{\"id\":\"2197\",\"type\":\"Range1d\"},\"x_scale\":{\"id\":\"2201\",\"type\":\"LinearScale\"},\"y_range\":{\"id\":\"2199\",\"type\":\"Range1d\"},\"y_scale\":{\"id\":\"2203\",\"type\":\"LinearScale\"}},\"id\":\"2196\",\"subtype\":\"Figure\",\"type\":\"Plot\"},{\"attributes\":{\"source\":{\"id\":\"2230\",\"type\":\"ColumnDataSource\"}},\"id\":\"2234\",\"type\":\"CDSView\"},{\"attributes\":{\"data_source\":{\"id\":\"2230\",\"type\":\"ColumnDataSource\"},\"glyph\":{\"id\":\"2231\",\"type\":\"Circle\"},\"hover_glyph\":null,\"muted_glyph\":null,\"nonselection_glyph\":{\"id\":\"2232\",\"type\":\"Circle\"},\"selection_glyph\":null,\"view\":{\"id\":\"2234\",\"type\":\"CDSView\"}},\"id\":\"2233\",\"type\":\"GlyphRenderer\"},{\"attributes\":{\"formatter\":{\"id\":\"2314\",\"type\":\"BasicTickFormatter\"},\"ticker\":{\"id\":\"2206\",\"type\":\"BasicTicker\"}},\"id\":\"2205\",\"type\":\"LinearAxis\"},{\"attributes\":{},\"id\":\"2312\",\"type\":\"BasicTickFormatter\"},{\"attributes\":{\"text\":\"\"},\"id\":\"2310\",\"type\":\"Title\"},{\"attributes\":{},\"id\":\"2206\",\"type\":\"BasicTicker\"},{\"attributes\":{\"ticker\":{\"id\":\"2206\",\"type\":\"BasicTicker\"}},\"id\":\"2209\",\"type\":\"Grid\"},{\"attributes\":{\"bottom_units\":\"screen\",\"fill_alpha\":{\"value\":0.5},\"fill_color\":{\"value\":\"lightgrey\"},\"left_units\":\"screen\",\"level\":\"overlay\",\"line_alpha\":{\"value\":1.0},\"line_color\":{\"value\":\"black\"},\"line_dash\":[4,4],\"line_width\":{\"value\":2},\"render_mode\":\"css\",\"right_units\":\"screen\",\"top_units\":\"screen\"},\"id\":\"2318\",\"type\":\"BoxAnnotation\"},{\"attributes\":{\"bottom_units\":\"screen\",\"fill_alpha\":{\"value\":0.5},\"fill_color\":{\"value\":\"lightgrey\"},\"left_units\":\"screen\",\"level\":\"overlay\",\"line_alpha\":{\"value\":1.0},\"line_color\":{\"value\":\"black\"},\"line_dash\":[4,4],\"line_width\":{\"value\":2},\"render_mode\":\"css\",\"right_units\":\"screen\",\"top_units\":\"screen\"},\"id\":\"2319\",\"type\":\"BoxAnnotation\"},{\"attributes\":{\"formatter\":{\"id\":\"2312\",\"type\":\"BasicTickFormatter\"},\"ticker\":{\"id\":\"2211\",\"type\":\"BasicTicker\"}},\"id\":\"2210\",\"type\":\"LinearAxis\"},{\"attributes\":{\"callback\":null,\"data\":{\"fill_color\":[\"#e79396\",\"#69b496\",\"#a29696\",\"#3d4f96\",\"#6e5f96\",\"#8b6a96\",\"#994c96\",\"#6da196\",\"#dd4b96\",\"#a23796\",\"#976796\",\"#97cb96\",\"#abb096\",\"#c8b296\",\"#828196\",\"#658d96\",\"#95b796\",\"#882a96\",\"#7ca596\",\"#9fc896\",\"#507796\",\"#e3ac96\",\"#73ad96\",\"#633196\",\"#d94096\",\"#d87b96\",\"#d96196\",\"#5ba796\",\"#87e296\",\"#d06e96\",\"#805296\",\"#ea7496\",\"#ae8c96\",\"#919096\",\"#7d9196\",\"#994a96\",\"#c94f96\",\"#df5a96\",\"#b9a896\",\"#ec5c96\",\"#a17c96\",\"#dfb496\",\"#923596\",\"#647896\",\"#6fda96\",\"#ca2796\",\"#55d296\",\"#707f96\",\"#d4ca96\",\"#cd6c96\",\"#b7be96\",\"#c5a696\",\"#609896\",\"#f14c96\",\"#d3dc96\",\"#634b96\",\"#4c7396\",\"#a07b96\",\"#f6cf96\",\"#493c96\",\"#dda196\",\"#ac5496\",\"#9c6a96\",\"#df8796\",\"#c22096\",\"#cee196\",\"#8bc996\",\"#e4c196\",\"#947d96\",\"#f3a096\",\"#43c296\",\"#546f96\",\"#634a96\",\"#9b9d96\",\"#33e396\",\"#df9d96\",\"#8c1f96\",\"#929196\",\"#519296\",\"#a12696\",\"#477296\",\"#62c196\",\"#6a7b96\",\"#417d96\",\"#713796\",\"#bc3296\",\"#9abd96\",\"#983696\",\"#f89696\",\"#60b396\",\"#9dc796\",\"#8ec896\",\"#329196\",\"#9a9796\",\"#79c896\",\"#b97d96\",\"#3ba796\",\"#64db96\",\"#546896\",\"#875f96\",\"#e38f96\",\"#e92696\",\"#99c496\",\"#7f3296\",\"#48a096\",\"#e8e596\",\"#a44096\",\"#acaf96\",\"#ec2e96\",\"#6a9996\",\"#387596\",\"#865296\",\"#c49c96\",\"#e26b96\",\"#593d96\",\"#6aa596\",\"#d8cb96\",\"#437396\",\"#6e7696\",\"#7ea296\",\"#a7c896\",\"#3a3396\",\"#73ad96\",\"#719196\",\"#abc096\",\"#7b4096\",\"#df3996\",\"#e0a096\",\"#5b8396\",\"#e12796\",\"#8ec596\",\"#9d9196\",\"#472296\",\"#999896\",\"#a55b96\",\"#5fd196\",\"#b8c296\",\"#ae6b96\",\"#a1df96\",\"#d28996\",\"#986296\",\"#355496\",\"#decf96\",\"#757f96\",\"#4e6596\",\"#a0e596\",\"#f23496\",\"#3d3396\",\"#d08896\",\"#554396\",\"#61dd96\",\"#9ebc96\",\"#5ce196\",\"#dee396\",\"#5e6996\",\"#7ecf96\",\"#b2a396\",\"#9a1f96\",\"#a0b896\",\"#576196\",\"#445596\",\"#6f1f96\",\"#bf4396\",\"#359496\",\"#b63896\",\"#bf3f96\",\"#dbc296\",\"#822d96\",\"#9db496\",\"#a9d296\",\"#bb5496\",\"#56a996\",\"#3fab96\",\"#b57796\",\"#7b5c96\",\"#bdbc96\",\"#a73296\",\"#c23096\",\"#daa696\",\"#967e96\",\"#42df96\",\"#4c6d96\",\"#3c6f96\",\"#923e96\",\"#663c96\",\"#b63896\",\"#4c6096\",\"#367e96\",\"#682996\",\"#ed5496\",\"#487096\",\"#e8cd96\",\"#419296\",\"#aa4896\",\"#374596\",\"#5dc996\",\"#aecb96\",\"#5e5596\",\"#959c96\",\"#3bde96\",\"#df8896\",\"#b0d896\",\"#88a996\",\"#c02e96\",\"#a3c596\",\"#9b5996\",\"#d68096\",\"#d98b96\",\"#c16c96\",\"#855e96\",\"#e78a96\",\"#9d5996\",\"#386c96\",\"#8dc596\",\"#e6c096\",\"#983d96\",\"#9b9496\",\"#5c8196\",\"#3db396\",\"#ea2796\",\"#73a196\",\"#3e4096\",\"#488196\",\"#d86296\",\"#756296\",\"#7dad96\",\"#427b96\",\"#e05a96\",\"#ec9296\",\"#a86096\",\"#d14a96\",\"#383b96\",\"#735796\",\"#769c96\",\"#9cba96\",\"#523396\",\"#d64196\",\"#d54696\",\"#4e7496\",\"#e6d196\",\"#5de196\",\"#bb6796\",\"#8ace96\",\"#b2c596\",\"#c8aa96\",\"#328696\",\"#5b6b96\",\"#76bb96\",\"#b93596\",\"#da7c96\",\"#f3e096\",\"#6c4c96\",\"#f9d896\",\"#ef2d96\",\"#533996\",\"#9d8396\",\"#f96496\",\"#908f96\",\"#bfc096\",\"#395f96\",\"#ed9796\",\"#692c96\",\"#f94096\",\"#b91e96\",\"#4c8596\",\"#717b96\",\"#6ed496\",\"#998496\",\"#cf8396\",\"#d15096\",\"#634896\",\"#387196\",\"#7fc796\",\"#bba096\",\"#922196\",\"#d65b96\",\"#c86d96\",\"#d1ad96\",\"#526a96\",\"#8da196\",\"#f7bb96\",\"#c6db96\",\"#d27a96\",\"#677196\",\"#cf5696\",\"#e26996\",\"#82c296\",\"#78b096\",\"#c28496\",\"#607896\",\"#5b9396\",\"#ef3c96\",\"#4fac96\",\"#e86f96\",\"#b6b296\",\"#e9b596\",\"#9e6996\",\"#e37696\",\"#442296\",\"#b53896\",\"#76af96\",\"#c03696\",\"#e23796\",\"#e07d96\",\"#88e196\",\"#99dc96\",\"#bdab96\",\"#d74296\",\"#44c596\",\"#a46196\",\"#e88b96\",\"#82bd96\",\"#7f5796\",\"#862e96\",\"#399996\",\"#c05096\",\"#4db096\",\"#e67596\",\"#e74196\",\"#335a96\",\"#bd6796\",\"#45cf96\",\"#bd8296\",\"#995796\",\"#806196\",\"#c28296\",\"#969e96\",\"#6f9496\",\"#93c196\",\"#bccd96\",\"#4f4a96\",\"#5f7596\",\"#ede396\",\"#f94f96\",\"#634796\",\"#a45996\",\"#995196\",\"#839696\",\"#cd4f96\",\"#c8ba96\",\"#3c6396\",\"#75ab96\",\"#9aaf96\",\"#9e6b96\",\"#6a3896\",\"#c92996\",\"#dc8e96\",\"#a27796\",\"#ad7a96\",\"#bcba96\",\"#5a9c96\",\"#426d96\",\"#c25596\",\"#7ee596\",\"#bb2d96\",\"#c5e196\",\"#388196\",\"#611e96\",\"#bb7c96\",\"#902f96\",\"#ceb696\",\"#d9d196\",\"#996496\",\"#666896\",\"#ddb996\",\"#d8b096\",\"#d28d96\",\"#a48396\",\"#614b96\",\"#36d796\",\"#4d9796\",\"#dbbc96\",\"#a6d496\",\"#917f96\",\"#3cb196\",\"#f68496\",\"#99cf96\",\"#59d496\",\"#698396\",\"#8d8a96\",\"#82dc96\",\"#c0ae96\",\"#98c796\",\"#5a5696\",\"#708696\",\"#6d2b96\",\"#cbae96\",\"#653596\",\"#417496\",\"#c87296\",\"#71a996\",\"#61b496\",\"#747896\",\"#384896\",\"#449f96\",\"#54b096\",\"#d3b496\",\"#3fa096\",\"#35b596\",\"#875996\",\"#42c296\",\"#f79696\",\"#a6c996\",\"#3cba96\",\"#82e396\",\"#79b996\",\"#3de496\",\"#7eae96\",\"#3c2d96\",\"#387896\",\"#5a2d96\",\"#bd9e96\",\"#ef7d96\",\"#ddae96\",\"#9a9a96\",\"#c0db96\",\"#77d596\",\"#d25d96\",\"#7c9796\",\"#e75396\",\"#dead96\",\"#e73c96\",\"#614096\",\"#5a6b96\",\"#54b296\",\"#eb6296\",\"#7b8596\",\"#3e9696\",\"#b2b596\",\"#4dd396\",\"#8b4996\",\"#7c3496\",\"#67a196\",\"#bbb496\",\"#8b3996\",\"#405496\",\"#583096\",\"#325b96\",\"#4c7d96\",\"#badf96\",\"#43be96\",\"#8f2596\",\"#f64596\",\"#eda596\",\"#ae6296\",\"#b78296\",\"#eadc96\",\"#ee8e96\",\"#328b96\",\"#92c596\",\"#629896\",\"#e78a96\",\"#453e96\",\"#eb3f96\",\"#c26696\",\"#c54596\",\"#3c2096\",\"#b33596\",\"#823396\",\"#e49e96\",\"#714996\",\"#d5ba96\",\"#723796\",\"#92cf96\",\"#9b5696\",\"#d98296\",\"#e89e96\",\"#505d96\",\"#622c96\",\"#f62896\",\"#777396\",\"#718096\",\"#3c3396\",\"#9cc896\",\"#3ea796\",\"#f4c896\",\"#7ba096\",\"#c57a96\",\"#7f8a96\",\"#829396\",\"#5f2096\",\"#8b3796\",\"#cf2796\",\"#90cb96\",\"#48d296\",\"#8aa596\",\"#c24096\",\"#4b7c96\",\"#55d796\",\"#f97896\",\"#7dc696\",\"#78d296\",\"#c66096\",\"#45b096\",\"#cc3996\",\"#cf6d96\",\"#788d96\",\"#9b7c96\",\"#de3e96\",\"#bb9e96\",\"#8fdf96\",\"#6e9d96\",\"#ca5296\",\"#6eac96\",\"#df5a96\",\"#563896\",\"#bfa396\",\"#d47e96\",\"#b43f96\",\"#904b96\",\"#347696\",\"#7fa896\",\"#d29a96\",\"#ed3f96\",\"#4fcd96\",\"#dc5096\",\"#d86896\",\"#36d296\",\"#b68e96\",\"#9e4e96\",\"#5bc896\",\"#97a896\",\"#37c796\",\"#afce96\",\"#d33996\",\"#a21f96\",\"#f94e96\",\"#3abf96\",\"#a86996\",\"#6f9796\",\"#55ad96\",\"#8c9a96\",\"#a5c696\",\"#4f2796\",\"#d96396\",\"#d17b96\",\"#df4d96\",\"#c6b896\",\"#5abe96\",\"#dc9b96\",\"#b2be96\",\"#53a796\",\"#68d796\",\"#a3c696\",\"#abe596\",\"#9c9f96\",\"#425696\",\"#7c5796\",\"#863096\",\"#392c96\",\"#818a96\",\"#66dd96\",\"#a7db96\",\"#c16196\",\"#b98396\",\"#442496\",\"#cfcf96\",\"#409496\",\"#d8ca96\",\"#b63396\",\"#658896\",\"#45df96\",\"#3b6a96\",\"#5dd996\",\"#e4d896\",\"#914796\",\"#857896\",\"#323896\",\"#448596\",\"#6fce96\",\"#7ca296\",\"#53cf96\",\"#643296\",\"#bc8896\",\"#d1b296\",\"#462596\",\"#686896\",\"#794f96\",\"#362c96\",\"#f0ce96\",\"#5fb596\",\"#9b4096\",\"#d58f96\",\"#667696\",\"#cf7396\",\"#b63996\",\"#9cd596\",\"#d64d96\",\"#d23c96\",\"#5a2996\",\"#c48696\",\"#4bd796\",\"#854696\",\"#897796\",\"#4c9896\",\"#c28696\",\"#ed6c96\",\"#643296\",\"#86ac96\",\"#b09e96\",\"#7bbb96\",\"#ba4696\",\"#b69d96\",\"#8e6996\",\"#6b8396\",\"#605996\",\"#da1e96\",\"#39bc96\",\"#96d296\",\"#47bc96\",\"#4f5b96\",\"#c7ac96\",\"#de3496\",\"#508596\",\"#c92496\",\"#485896\",\"#484b96\",\"#a78896\",\"#96e396\",\"#bdc996\",\"#5d3d96\",\"#e37196\",\"#a0cb96\",\"#714f96\",\"#61c296\",\"#4a7b96\",\"#555c96\",\"#f49c96\",\"#85b796\",\"#f98d96\",\"#d33296\",\"#c5b696\",\"#b6c196\",\"#c56996\",\"#d87c96\",\"#66c096\",\"#a4cf96\",\"#557596\",\"#c2a196\",\"#524b96\",\"#8f7196\",\"#80ce96\",\"#c8e496\",\"#982b96\",\"#f02996\",\"#a55e96\",\"#384196\",\"#6a2196\",\"#b4a896\",\"#7cce96\",\"#eda996\",\"#377e96\",\"#a15c96\",\"#7b2396\",\"#cab796\",\"#e57b96\",\"#7fba96\",\"#423596\",\"#b36e96\",\"#a94396\",\"#892f96\",\"#88a896\",\"#f68596\",\"#702396\",\"#acd596\",\"#867896\",\"#4d7796\",\"#644096\",\"#c63096\",\"#60cc96\",\"#b49d96\",\"#b83496\",\"#d41e96\",\"#c74496\",\"#b99596\",\"#6d2996\",\"#a76896\",\"#d4cb96\",\"#9d9c96\",\"#987196\",\"#8bda96\",\"#964596\",\"#b16296\",\"#de4b96\",\"#d74996\",\"#6a9e96\",\"#4a5496\",\"#aab396\",\"#b16f96\",\"#f66c96\",\"#7a7896\",\"#aa4896\",\"#e18996\",\"#5a2f96\",\"#e88796\",\"#dbcf96\",\"#73d296\",\"#486a96\",\"#34a796\",\"#873c96\",\"#8ea496\",\"#3f6396\",\"#ca9196\",\"#9e5296\",\"#9b5596\",\"#61bc96\",\"#7a4996\",\"#a0c796\",\"#eabd96\",\"#3a9996\",\"#9ae196\",\"#91c296\",\"#9fa696\",\"#795096\",\"#469296\",\"#87ce96\",\"#c26496\",\"#eb1f96\",\"#d3a996\",\"#db5996\",\"#976296\",\"#8c4096\",\"#e3e296\",\"#d5b096\",\"#8c3396\",\"#8b9a96\",\"#795096\",\"#95da96\",\"#736096\",\"#e34c96\",\"#c97a96\",\"#575a96\",\"#9bda96\",\"#cf7696\",\"#6eaa96\",\"#8d3596\",\"#72ba96\",\"#b89496\",\"#606e96\",\"#568f96\",\"#3e7d96\",\"#5a5e96\",\"#cc7496\",\"#618396\",\"#448496\",\"#955a96\",\"#cbc096\",\"#86e596\",\"#3d5b96\",\"#b04496\",\"#355796\",\"#e37796\",\"#e69996\",\"#b5a196\",\"#54ba96\",\"#eb8996\",\"#db6f96\",\"#7ad496\",\"#359596\",\"#b46096\",\"#ea9b96\",\"#714096\",\"#978096\",\"#d1ce96\",\"#8ecf96\",\"#d26f96\",\"#3e4696\",\"#5a3496\",\"#a55796\",\"#505596\",\"#f68796\",\"#42c596\",\"#64be96\",\"#c2a396\",\"#e66c96\",\"#a56b96\",\"#c64896\",\"#877496\",\"#64d096\",\"#6fb496\",\"#8d3096\",\"#7bcf96\",\"#44a596\",\"#d29196\",\"#b88296\",\"#7ba396\",\"#6d8f96\",\"#75e496\",\"#b4b796\",\"#8f9e96\",\"#db6a96\",\"#85bc96\",\"#479496\",\"#bf8896\",\"#a68096\",\"#416d96\",\"#a4b696\",\"#b6c696\",\"#783896\",\"#3d9296\",\"#7ac396\",\"#de5d96\",\"#523196\",\"#aaa796\",\"#a53696\",\"#b1e296\",\"#a16596\",\"#348296\",\"#553396\",\"#eb8f96\",\"#cac896\",\"#e38596\",\"#3ebe96\",\"#e15096\",\"#ed2996\",\"#544e96\",\"#f46696\",\"#7da496\",\"#9dd996\",\"#e95796\",\"#996c96\",\"#c45b96\",\"#518396\",\"#bab796\",\"#8d9896\",\"#712a96\",\"#b5b096\",\"#6dcf96\",\"#c12396\",\"#9b9c96\",\"#aa5896\",\"#9a8596\",\"#afdf96\",\"#b6bc96\",\"#3f4896\",\"#72c596\",\"#582596\",\"#5f3496\",\"#934a96\",\"#a97d96\",\"#35dc96\",\"#d72e96\",\"#ec7a96\",\"#843896\",\"#b07e96\",\"#504496\",\"#39a596\",\"#c35796\",\"#d1cf96\",\"#d48296\",\"#52e596\",\"#d74d96\",\"#683496\",\"#479296\",\"#3cc596\",\"#8c2596\",\"#f86e96\",\"#cb5896\",\"#ebae96\",\"#d02696\",\"#4c9c96\",\"#f2c096\",\"#86cd96\",\"#be4b96\",\"#7fc196\",\"#cb9a96\",\"#564296\",\"#f72a96\",\"#f3a796\",\"#552496\",\"#b37696\",\"#48c296\",\"#ae4696\",\"#3b9e96\",\"#963196\",\"#c63896\",\"#e63496\",\"#bb7596\",\"#362c96\",\"#bb6396\",\"#376b96\",\"#cf9996\",\"#53a996\",\"#325d96\",\"#b39996\",\"#a78b96\",\"#f16596\",\"#db2296\",\"#e56196\",\"#d27996\",\"#c27696\",\"#64a796\",\"#699d96\",\"#dc7996\",\"#7fde96\",\"#ae5c96\",\"#765596\",\"#ea5d96\",\"#3f9696\",\"#348e96\",\"#a49996\",\"#e7ca96\",\"#85be96\",\"#38ac96\",\"#bee196\",\"#dde496\",\"#359396\",\"#3d4e96\",\"#819b96\",\"#918e96\",\"#684096\",\"#c05096\",\"#4b8f96\",\"#605096\",\"#622e96\",\"#3e5496\",\"#4c5c96\",\"#a82496\",\"#ade496\",\"#f2c396\",\"#8f9096\",\"#8a2496\",\"#4b3d96\",\"#edd296\",\"#af6696\",\"#8ebc96\",\"#61cd96\",\"#9e8396\",\"#e08896\",\"#738f96\",\"#6e8496\",\"#ee2896\",\"#60ab96\",\"#6b5e96\",\"#8d4896\",\"#9ec596\",\"#337696\",\"#bcd796\",\"#3dc896\",\"#b69996\",\"#9a4096\",\"#c68e96\",\"#b56296\",\"#e6c396\",\"#763196\",\"#dd1f96\",\"#556696\",\"#3c8596\",\"#deb096\",\"#bf2996\",\"#acbf96\",\"#8f1e96\",\"#b27e96\",\"#c07f96\",\"#876496\",\"#7a7896\",\"#db2b96\",\"#58e296\",\"#b47a96\",\"#559d96\",\"#ca2396\",\"#f1d296\",\"#492f96\",\"#b7a796\",\"#c74f96\",\"#9ed796\",\"#3d7196\",\"#7dd796\",\"#df7096\",\"#8c8a96\",\"#564696\",\"#a79896\",\"#5c4b96\",\"#4dc196\",\"#952596\",\"#ec4b96\",\"#66c996\",\"#e37996\",\"#a06f96\",\"#c77796\",\"#867196\",\"#77cf96\",\"#cc9796\",\"#8b6f96\",\"#915b96\",\"#a0de96\",\"#c7d096\",\"#d09596\",\"#e46496\",\"#b89996\",\"#3b5196\",\"#3b7596\",\"#9d9496\",\"#a2a196\",\"#58ac96\",\"#567f96\",\"#e34f96\",\"#ddbb96\",\"#a48996\",\"#567196\",\"#e2de96\",\"#41bb96\",\"#937b96\",\"#8a8296\",\"#7d5896\",\"#4fe296\",\"#b52b96\",\"#3b6796\",\"#756d96\",\"#567896\",\"#889996\",\"#f19696\",\"#50cf96\",\"#7d8b96\",\"#713e96\",\"#d3bd96\",\"#6fa396\",\"#5fb196\",\"#4e2296\",\"#d2b196\",\"#d45a96\",\"#48e196\",\"#5c7496\",\"#c66c96\",\"#e33d96\",\"#38a996\",\"#b58096\",\"#d4de96\",\"#399296\",\"#809f96\",\"#ead396\",\"#f4b196\",\"#9d6696\",\"#8b7e96\",\"#3e2e96\",\"#c89496\",\"#b1e196\",\"#3fcd96\",\"#513d96\",\"#47c896\",\"#a4c896\",\"#d83696\",\"#dcad96\",\"#433f96\",\"#818896\",\"#598596\",\"#619496\",\"#448996\",\"#85a696\",\"#acbf96\",\"#45d896\",\"#af5096\",\"#f27596\",\"#e07296\",\"#799196\",\"#44a596\",\"#724996\",\"#8b3c96\",\"#e17c96\",\"#91be96\",\"#b87f96\",\"#68c296\",\"#cf6e96\",\"#6eb896\",\"#427796\",\"#861e96\",\"#378e96\",\"#b0a096\",\"#d38a96\",\"#6e6596\",\"#b24796\",\"#c85196\",\"#a78d96\",\"#f32796\",\"#e63b96\",\"#c3b996\",\"#c6c696\",\"#dccc96\",\"#d9d496\",\"#388d96\",\"#5ba596\",\"#7bce96\",\"#f56c96\",\"#d35696\",\"#34d796\",\"#6d4a96\",\"#8f3996\",\"#a17a96\",\"#4a2796\",\"#f55096\",\"#86a996\",\"#ac3c96\",\"#dfac96\",\"#a0ce96\",\"#5ce096\",\"#9fc096\",\"#9e4196\",\"#9db796\",\"#50d996\",\"#5b4196\",\"#729b96\",\"#e9c696\",\"#675f96\",\"#f38c96\",\"#98a096\",\"#ac7a96\",\"#3cd196\",\"#b18796\",\"#d3e196\",\"#784c96\",\"#83ac96\",\"#646996\",\"#7fdd96\",\"#819596\",\"#b0e496\",\"#953b96\",\"#d87e96\",\"#d26996\",\"#e96396\",\"#502d96\",\"#d1ab96\",\"#b05296\",\"#8bc296\",\"#b89f96\",\"#884596\",\"#b03a96\",\"#82b396\",\"#a1ac96\",\"#86dc96\",\"#5e3a96\",\"#d48596\",\"#43c996\",\"#e13496\",\"#ed7d96\",\"#855096\",\"#bec896\",\"#488b96\",\"#eb6196\",\"#684b96\",\"#3d8296\",\"#c85496\",\"#779e96\",\"#b54c96\",\"#a4d396\",\"#7cb296\",\"#513796\",\"#c44496\",\"#d64a96\",\"#cf3a96\",\"#865196\",\"#934e96\",\"#f37596\",\"#c38596\",\"#b1a596\",\"#689596\",\"#a52796\",\"#e86a96\",\"#4eab96\",\"#838296\",\"#d42c96\",\"#d5d096\",\"#3a6896\",\"#a6ac96\",\"#d75796\",\"#d42596\",\"#f5bf96\",\"#38b696\",\"#632d96\",\"#bbdc96\",\"#f12e96\",\"#4a8a96\",\"#469b96\",\"#6b8a96\",\"#a6be96\",\"#522896\",\"#e56896\",\"#7f4a96\",\"#9a9796\",\"#4c1f96\",\"#434696\",\"#c68396\",\"#74cd96\",\"#7fd196\",\"#725296\",\"#535696\",\"#c25b96\",\"#a7ba96\",\"#e72b96\",\"#394496\",\"#9b9996\",\"#603996\",\"#5a3896\",\"#bedd96\",\"#463b96\",\"#cb8a96\",\"#a2a896\",\"#66b496\",\"#c89e96\",\"#cb5c96\",\"#798296\",\"#594e96\",\"#567396\",\"#475596\",\"#d4a896\",\"#505796\",\"#5fcd96\",\"#8b3b96\",\"#f14996\",\"#dbaa96\",\"#da7a96\",\"#464896\",\"#7e6d96\",\"#ce9b96\",\"#ae6696\",\"#c9e496\",\"#782796\",\"#b7d396\",\"#962396\",\"#cb4196\",\"#85a696\",\"#49e196\",\"#84af96\",\"#cba496\",\"#4e3996\",\"#903996\",\"#5e6a96\",\"#99dd96\",\"#52ae96\",\"#683796\",\"#7ce096\",\"#e6e396\",\"#9f4f96\",\"#467696\",\"#777c96\",\"#76d296\",\"#4d6996\",\"#7d3596\",\"#e3c096\",\"#379396\",\"#53c296\",\"#393096\",\"#d77496\",\"#8f7596\",\"#9a7496\",\"#c59996\",\"#c2b696\",\"#854c96\",\"#f26896\",\"#a3be96\",\"#f23b96\",\"#e29296\",\"#3a5296\",\"#7a5f96\",\"#5ae396\",\"#976a96\",\"#4bd296\",\"#b54196\",\"#cb9896\",\"#cb2896\",\"#33c596\",\"#74b796\",\"#388496\",\"#379696\",\"#f62c96\",\"#354696\",\"#5a7f96\",\"#ecd596\",\"#526696\",\"#73ba96\",\"#68ab96\",\"#8ed596\",\"#ef6496\",\"#bb9096\",\"#a87996\",\"#f95896\",\"#ec8e96\",\"#af1e96\",\"#954196\",\"#e8c596\",\"#e0d296\",\"#9cba96\",\"#a76a96\",\"#ee9e96\",\"#959f96\",\"#694196\",\"#854896\",\"#c2a696\",\"#334496\",\"#d6bb96\",\"#e09a96\",\"#f28296\",\"#923d96\",\"#bbbb96\",\"#94ca96\",\"#4ee296\",\"#a93996\",\"#ee2d96\",\"#db2896\",\"#d26096\",\"#f29896\",\"#f36d96\",\"#b38796\",\"#a28196\",\"#4bc496\",\"#7d8596\",\"#bb7b96\",\"#d8dc96\",\"#cfc296\",\"#47c696\",\"#572596\",\"#cb3296\",\"#493b96\",\"#ee7d96\",\"#7d6f96\",\"#603196\",\"#748196\",\"#3f6896\",\"#ac9e96\",\"#55cc96\",\"#4b4b96\",\"#a68c96\",\"#f2d896\",\"#b05a96\",\"#56d996\",\"#ea4c96\",\"#d77796\",\"#588496\",\"#d65896\",\"#5d2696\",\"#c4d196\",\"#866196\",\"#d12796\",\"#c84096\",\"#8d6196\",\"#e9e496\",\"#d8e296\",\"#957696\",\"#b99596\",\"#8dd896\",\"#52c596\",\"#6cd896\",\"#5e8496\",\"#f4d596\",\"#bfcd96\",\"#972996\",\"#7ea896\",\"#f64f96\",\"#dbb096\",\"#82e396\",\"#e8b596\",\"#ba7c96\",\"#98c596\",\"#a14596\",\"#682f96\",\"#d9a196\",\"#bc2696\",\"#68dc96\",\"#368796\",\"#c6af96\",\"#6b4696\",\"#b22496\",\"#456496\",\"#3f7596\",\"#c1ad96\",\"#58bb96\",\"#575e96\",\"#888596\",\"#9da196\",\"#326a96\",\"#e2cd96\",\"#c98396\",\"#be8596\",\"#dfd496\",\"#815796\",\"#cf1e96\",\"#4d3996\",\"#585396\",\"#dc1e96\",\"#d15996\",\"#4a7b96\",\"#8ea996\",\"#be5296\",\"#8d3a96\",\"#43e596\",\"#6ccf96\",\"#c93196\",\"#b7e196\",\"#c54396\",\"#c96c96\",\"#4cc096\",\"#992f96\",\"#eb3796\",\"#92bc96\",\"#788096\",\"#3d4096\",\"#5a4196\",\"#be5d96\",\"#328896\",\"#7b6796\",\"#7f7e96\",\"#d98696\",\"#ed4396\",\"#9ae096\",\"#ec5a96\",\"#4a2b96\",\"#658996\",\"#f3c796\",\"#a34e96\",\"#ce1e96\",\"#aadb96\",\"#8f8e96\",\"#e06796\",\"#8dad96\",\"#8d2296\",\"#627496\",\"#f12196\",\"#c0c796\",\"#35d796\",\"#38b096\",\"#d7d296\",\"#d73c96\",\"#848e96\",\"#54ca96\",\"#491f96\",\"#e94e96\",\"#ae6b96\",\"#b15b96\",\"#ab6e96\",\"#96aa96\",\"#7f8096\",\"#cc2f96\",\"#eddc96\",\"#e13f96\",\"#efb496\",\"#8ca796\",\"#80b296\",\"#baa696\",\"#7a8f96\",\"#906296\",\"#b29f96\",\"#f97f96\",\"#a3ba96\",\"#912d96\",\"#d7c096\",\"#539096\",\"#f64496\",\"#f96496\",\"#c04096\",\"#c09996\",\"#b37d96\",\"#a7b096\",\"#454196\",\"#6f3996\",\"#c23a96\",\"#4d3f96\",\"#e47b96\",\"#e1e096\",\"#8b6796\",\"#5bb296\",\"#e4d496\",\"#f68096\",\"#908396\",\"#d0d196\",\"#aba196\",\"#ce6d96\",\"#c75696\",\"#a2af96\",\"#75a996\",\"#6ccb96\",\"#3a2596\",\"#afd996\",\"#a6aa96\",\"#353296\",\"#594796\",\"#3bd596\",\"#abdf96\",\"#bf2096\",\"#d63496\",\"#67c096\",\"#f3a596\",\"#c73b96\",\"#d9b596\",\"#5bba96\",\"#aea796\",\"#cd8096\",\"#b06096\",\"#7b4596\",\"#508896\",\"#e5df96\",\"#568196\",\"#77b396\",\"#c9b296\",\"#cd3596\",\"#4a6796\",\"#515896\",\"#c99e96\",\"#508696\",\"#b9ab96\",\"#947e96\",\"#e4e096\",\"#517c96\",\"#db8596\",\"#eed196\",\"#4ee196\",\"#c42296\",\"#485896\",\"#904c96\",\"#73cf96\",\"#699d96\",\"#83a496\",\"#b78196\",\"#3a9496\",\"#64bf96\",\"#bd5096\",\"#bbaa96\",\"#90d896\",\"#5d2b96\",\"#ab2296\",\"#de9196\",\"#3bb796\",\"#64a996\",\"#973196\",\"#be4a96\",\"#e19896\",\"#384896\",\"#b09f96\",\"#e29796\",\"#60be96\",\"#c4df96\",\"#c87c96\",\"#441e96\",\"#8a9496\",\"#a9b196\",\"#448196\",\"#6ec196\",\"#5dbc96\",\"#6d6096\",\"#6fa396\",\"#95de96\",\"#b6cf96\",\"#486596\",\"#64d996\",\"#f05496\",\"#5f8496\",\"#6c9d96\",\"#6fda96\",\"#499a96\",\"#e34996\",\"#cdd396\",\"#b1bb96\",\"#bbe596\",\"#b03596\",\"#9eae96\",\"#b49c96\",\"#f02796\",\"#b9af96\",\"#738c96\",\"#e82896\",\"#632496\",\"#71ad96\",\"#d55796\",\"#3a4696\",\"#b8a496\",\"#636d96\",\"#56e096\",\"#c27a96\",\"#815d96\",\"#cf8b96\",\"#a07796\",\"#cbe396\",\"#a47496\",\"#7f6996\",\"#479396\",\"#9c8196\",\"#ce8f96\",\"#3f2896\",\"#5e7896\",\"#527c96\",\"#db2296\",\"#a04296\",\"#917d96\",\"#a31e96\",\"#d8bc96\",\"#eb9e96\",\"#636d96\",\"#ef2396\",\"#c2d796\",\"#e4c596\",\"#e0e596\",\"#f92196\",\"#352396\",\"#ee4796\",\"#45af96\",\"#a24c96\",\"#974e96\",\"#3f2496\",\"#95bb96\",\"#f84496\",\"#f4c196\",\"#bdcc96\",\"#7a4496\",\"#97d496\",\"#b6c196\",\"#5e7896\",\"#a5b896\",\"#8f3996\",\"#d82396\",\"#41e396\",\"#cbd196\",\"#ed9596\",\"#c14596\",\"#e56296\",\"#41da96\",\"#c64096\",\"#554896\",\"#588196\",\"#c77296\",\"#6f3296\",\"#89c696\",\"#6cd896\",\"#ca2b96\",\"#a19696\",\"#5ee496\",\"#835c96\",\"#9d4396\",\"#df8096\",\"#e74b96\",\"#886096\",\"#77af96\",\"#73a996\",\"#7f6596\",\"#873c96\",\"#e61e96\",\"#cf8396\",\"#b62e96\",\"#614396\",\"#8e4296\",\"#8b9696\",\"#9f4096\",\"#8e3e96\",\"#f1c796\",\"#ef2c96\",\"#e27c96\",\"#f44f96\",\"#6c7296\",\"#6d6596\",\"#d9e396\",\"#8bc096\",\"#95b496\",\"#847b96\",\"#ece596\",\"#812c96\",\"#9e8896\",\"#7e8396\",\"#e48e96\",\"#f44496\",\"#b2a396\",\"#5cd896\",\"#c8af96\",\"#b06596\",\"#6d1e96\",\"#6a7996\",\"#f3e496\",\"#6f8b96\",\"#e29e96\",\"#c73b96\",\"#8ea996\",\"#572d96\",\"#922396\",\"#e5b296\",\"#e4db96\",\"#5bdc96\",\"#5d3196\",\"#bb9196\",\"#b58296\",\"#eb5196\",\"#a32d96\",\"#ca5c96\",\"#a4c796\",\"#453696\",\"#e75096\",\"#ce9c96\",\"#f9bb96\",\"#4ba296\",\"#f34196\",\"#dd4996\",\"#ce3b96\",\"#da2096\",\"#524896\",\"#5eb896\",\"#b47a96\",\"#e09c96\",\"#a36696\",\"#84db96\",\"#a07c96\",\"#c15296\",\"#e7de96\",\"#9cb396\",\"#863496\",\"#8e3296\",\"#cbba96\",\"#87dd96\",\"#76ba96\",\"#bec496\",\"#635b96\",\"#505b96\",\"#f5b696\",\"#983a96\",\"#eb7096\",\"#509796\",\"#caa796\",\"#442996\",\"#7b4396\",\"#b9c096\",\"#746996\",\"#687796\",\"#a34496\",\"#c92596\",\"#c1d796\",\"#486a96\",\"#447096\",\"#376396\",\"#cfd396\",\"#9fd896\",\"#92cb96\",\"#97dd96\",\"#4cc396\",\"#b14696\",\"#a49096\",\"#865596\",\"#b48796\",\"#a98f96\",\"#c98996\",\"#b2e296\",\"#bf7896\",\"#63b596\",\"#6edc96\",\"#c14b96\",\"#bc5296\",\"#eaa496\",\"#6e8296\",\"#c45b96\",\"#639496\",\"#d52996\",\"#f47e96\",\"#998896\",\"#a12d96\",\"#e57596\",\"#49dc96\",\"#425996\",\"#d74c96\",\"#d24b96\",\"#473496\",\"#822996\",\"#55ae96\",\"#579196\",\"#4f3c96\",\"#b74f96\",\"#6b6196\",\"#754596\",\"#c4c296\",\"#449996\",\"#b59896\",\"#f9b696\",\"#5b5c96\",\"#939296\",\"#dbc396\",\"#c84696\",\"#d3c596\",\"#933096\",\"#d77a96\",\"#3e7896\",\"#d15896\",\"#363c96\",\"#894796\",\"#90dc96\",\"#677796\",\"#4ed496\",\"#655396\",\"#b46096\",\"#a4db96\",\"#568496\",\"#43b496\",\"#f46296\",\"#b4ae96\",\"#3daf96\",\"#8eb996\",\"#c93896\",\"#a0cc96\",\"#988796\",\"#8f6e96\",\"#eed996\",\"#895396\",\"#a9c596\",\"#92a496\",\"#6c6496\",\"#a42796\",\"#614f96\",\"#a5d896\",\"#dcc596\",\"#362c96\",\"#c03a96\",\"#822f96\",\"#d1d496\",\"#dc8996\",\"#f79e96\",\"#677696\",\"#4d8c96\",\"#b6a296\",\"#974196\",\"#68a496\",\"#d87e96\",\"#6a8496\",\"#3cd796\",\"#cd4496\",\"#a38c96\",\"#6f3f96\",\"#979396\",\"#9b4a96\",\"#722a96\",\"#3a2696\",\"#329496\",\"#b78796\",\"#6a9496\",\"#84de96\",\"#c84196\",\"#883396\",\"#4d4f96\",\"#796796\",\"#7e7c96\",\"#8b7696\",\"#42b796\",\"#462896\",\"#a27996\",\"#36ad96\",\"#518b96\",\"#abc396\",\"#c75096\",\"#9f5596\",\"#55cc96\",\"#c84996\",\"#3c2d96\",\"#9d5a96\",\"#b39696\",\"#7b2796\",\"#d05396\",\"#50a796\",\"#5c5c96\",\"#3a8796\",\"#a5ca96\",\"#5bc396\",\"#807c96\",\"#b54296\",\"#b8af96\",\"#72cf96\",\"#a53096\",\"#366196\",\"#a08d96\",\"#a84096\",\"#ba2996\",\"#81ab96\",\"#cb5496\",\"#4ba696\",\"#d29196\",\"#bb3f96\",\"#f47a96\",\"#d6e496\",\"#638296\",\"#954096\",\"#d1c996\",\"#a89196\",\"#4a5a96\",\"#b04696\",\"#d4d796\",\"#d68c96\",\"#3a3096\",\"#e75796\",\"#a98596\",\"#dc2896\",\"#9d4296\",\"#b04196\",\"#958096\",\"#b13996\",\"#7a6096\",\"#9ac496\",\"#874b96\",\"#bea796\",\"#916896\",\"#d5d396\",\"#67c396\",\"#c49096\",\"#cdd496\",\"#a0ab96\",\"#91df96\",\"#74e296\",\"#789396\",\"#e45396\",\"#70e596\",\"#32a796\",\"#392496\",\"#60c796\",\"#523f96\",\"#d36196\",\"#b37d96\",\"#959196\",\"#748896\",\"#a28896\",\"#3d6a96\",\"#6f6396\",\"#6eb496\",\"#3c8d96\",\"#ebb096\",\"#d49c96\",\"#424496\",\"#7a9096\",\"#73c796\",\"#f09c96\",\"#d4d896\",\"#ad2d96\",\"#813196\",\"#55d596\",\"#cb5c96\",\"#f18a96\",\"#37a496\",\"#b35596\",\"#b5bd96\",\"#e74c96\",\"#5f3e96\",\"#afdd96\",\"#b97496\",\"#b95396\",\"#4c5b96\",\"#7c9b96\",\"#423296\",\"#8e9096\",\"#b84f96\",\"#c5b896\",\"#867996\",\"#ca5e96\",\"#976c96\",\"#9b3396\",\"#3a7896\",\"#683296\",\"#38d096\",\"#566996\",\"#6d3f96\",\"#cd6696\",\"#c28596\",\"#ca2196\",\"#493296\",\"#77b296\",\"#a79b96\",\"#a1e196\",\"#ac7e96\",\"#512d96\",\"#e8d396\",\"#413f96\",\"#612d96\",\"#8dc796\",\"#369996\",\"#dc3096\",\"#3bd096\",\"#7dab96\",\"#f22b96\",\"#c2c896\",\"#afca96\",\"#3ebb96\",\"#ae7896\",\"#65d396\",\"#7dcc96\",\"#daad96\",\"#a32296\",\"#a25696\",\"#afd896\",\"#a39e96\",\"#8e7b96\",\"#d72296\",\"#69b796\",\"#6e1e96\",\"#d33c96\",\"#a99f96\",\"#724896\",\"#bd9996\",\"#c85e96\",\"#e61f96\",\"#d19c96\",\"#487396\",\"#ea9c96\",\"#967396\",\"#cfb596\",\"#409796\",\"#83ac96\",\"#819796\",\"#7d7a96\",\"#70e096\",\"#df8d96\",\"#ecbc96\",\"#8fdb96\",\"#75cd96\",\"#bac196\",\"#cd1f96\",\"#eddc96\",\"#61d896\",\"#af9196\",\"#403b96\",\"#c1ce96\",\"#785d96\",\"#be3596\",\"#9c9d96\",\"#586e96\",\"#89a696\",\"#6cdc96\",\"#711e96\",\"#a93896\",\"#74c796\",\"#439396\",\"#b99396\",\"#a6ad96\",\"#6a4f96\",\"#8f6796\",\"#6b7296\",\"#73b996\",\"#71cf96\",\"#803796\",\"#947b96\",\"#f88396\",\"#7d9096\",\"#5e4196\",\"#a83c96\",\"#afaf96\",\"#d86d96\",\"#968296\",\"#d8c696\",\"#852796\",\"#598f96\",\"#924e96\",\"#c04896\",\"#dacc96\",\"#f14b96\",\"#cd8996\",\"#eb9296\",\"#848696\",\"#e68996\",\"#e04296\",\"#713696\",\"#e64096\",\"#8fdc96\",\"#80a696\",\"#91b696\",\"#d38c96\",\"#d73e96\",\"#bb7a96\",\"#814f96\",\"#a38096\",\"#e67796\",\"#8a4d96\",\"#9a6c96\",\"#8f4996\",\"#8bb896\",\"#5fdc96\",\"#703996\",\"#63a796\",\"#8f7696\",\"#e5e496\",\"#ae8f96\",\"#c3b396\",\"#f39696\",\"#d4b496\",\"#f28996\",\"#a73196\",\"#4e5396\",\"#b09496\",\"#5a7796\",\"#743196\",\"#715496\",\"#618896\",\"#c92d96\",\"#929196\",\"#5f6b96\",\"#c17996\",\"#698896\",\"#39bf96\",\"#b2b996\",\"#974e96\",\"#64e096\",\"#927996\",\"#4e2896\",\"#5cd096\",\"#b2c096\",\"#4b9796\",\"#4d7696\",\"#4c5996\",\"#5c4e96\",\"#eb8f96\",\"#bfa096\",\"#899796\",\"#8d3e96\",\"#b99596\",\"#7d2b96\",\"#ab7696\",\"#e24996\",\"#bd9196\",\"#c37b96\",\"#964696\",\"#c36a96\",\"#a03796\",\"#b8d596\",\"#885a96\",\"#b78196\",\"#acc896\",\"#e8b996\",\"#dc7296\",\"#3dd396\",\"#6f8196\",\"#b78096\",\"#795196\",\"#6b2096\",\"#a74696\",\"#963a96\",\"#616496\",\"#932e96\",\"#cccc96\",\"#7c5c96\",\"#46df96\",\"#ad5796\",\"#834f96\",\"#7ccd96\",\"#a16a96\",\"#3b7e96\",\"#9e4c96\",\"#519b96\",\"#667596\",\"#e01e96\",\"#e4d796\",\"#946d96\",\"#e9d196\",\"#eb4896\",\"#499996\",\"#32c796\",\"#a56296\",\"#7ede96\",\"#b03596\",\"#895896\",\"#645e96\",\"#965e96\",\"#6e8f96\",\"#a29b96\",\"#debc96\",\"#e44696\",\"#a6d096\",\"#612d96\",\"#f11f96\",\"#3c3196\",\"#955f96\",\"#d19a96\",\"#e05d96\",\"#423896\",\"#662996\",\"#44b996\",\"#f7be96\",\"#bfa296\",\"#843896\",\"#4aaa96\",\"#de3696\",\"#bcde96\",\"#b8c896\",\"#e8c896\",\"#48aa96\",\"#e83896\",\"#a82a96\",\"#f8bb96\",\"#a94596\",\"#999096\",\"#385a96\",\"#b68296\",\"#d57796\",\"#a53f96\",\"#75ba96\",\"#9ed796\",\"#475d96\",\"#e31e96\",\"#cddf96\",\"#8b4a96\",\"#8bb396\",\"#b88696\",\"#f87a96\",\"#d2aa96\",\"#bf3b96\",\"#45c796\",\"#59df96\",\"#654196\",\"#eb1e96\",\"#69e396\",\"#423596\",\"#ea4296\",\"#98a696\",\"#af5496\",\"#5a2c96\",\"#f05596\",\"#4f7396\",\"#34d296\",\"#9fca96\",\"#5c7396\",\"#cbd996\",\"#5f5696\",\"#67da96\",\"#58c896\",\"#e0b196\",\"#536596\",\"#acce96\",\"#9f3a96\",\"#a3bd96\",\"#b5c096\",\"#d99b96\",\"#be5896\",\"#592b96\",\"#773c96\",\"#b76396\",\"#dca296\",\"#f44c96\",\"#84a996\",\"#923796\",\"#9db396\",\"#417696\",\"#e12996\",\"#6e5a96\",\"#9e4896\",\"#953096\",\"#cbe196\",\"#7a9e96\",\"#662896\",\"#332296\",\"#d77196\",\"#8ccc96\",\"#d82e96\",\"#363296\",\"#a72f96\",\"#cd8796\",\"#a0ce96\",\"#71ba96\",\"#a6bf96\",\"#cf2296\",\"#e53d96\",\"#47c996\",\"#abdd96\",\"#e3e496\",\"#573596\",\"#c83e96\",\"#d86296\",\"#97c496\",\"#d87696\",\"#9a5896\",\"#81d196\",\"#efd996\",\"#d2a796\",\"#ef4696\",\"#be3b96\",\"#e97296\",\"#b23396\",\"#4fb696\",\"#728496\",\"#f8b996\",\"#78d296\",\"#639296\",\"#7c9b96\",\"#4b6396\",\"#d7b696\",\"#64b896\",\"#7d2d96\",\"#9ee296\",\"#b57396\",\"#dfae96\",\"#522b96\",\"#c46996\",\"#5f8f96\",\"#bfdd96\",\"#7ab196\",\"#995796\",\"#f7ad96\",\"#dedc96\",\"#3a7296\",\"#4f4796\",\"#d6a096\",\"#56d896\",\"#bc7296\",\"#888d96\",\"#62da96\",\"#b06596\",\"#62a796\",\"#716496\",\"#625996\",\"#3c3b96\",\"#a38e96\",\"#d22296\",\"#469c96\",\"#cc9e96\",\"#937496\",\"#becb96\",\"#462896\",\"#50b396\",\"#a59f96\",\"#f17396\",\"#e5c196\",\"#55b396\",\"#591f96\",\"#3e8996\",\"#d9ac96\",\"#af5a96\",\"#6d8496\",\"#df8496\",\"#6d6c96\",\"#9bc796\",\"#4c3f96\",\"#493496\",\"#db7e96\",\"#809d96\",\"#915396\",\"#b87896\",\"#457496\",\"#cb5896\",\"#34d196\",\"#b13f96\",\"#364196\",\"#689e96\",\"#d95296\",\"#cc7c96\",\"#6c3296\",\"#9e7496\",\"#627496\",\"#dc8896\",\"#eeb096\",\"#7b9496\",\"#59c896\",\"#c68996\",\"#d9a496\",\"#789c96\",\"#636c96\",\"#951e96\",\"#603296\",\"#667d96\",\"#bd5196\",\"#f0af96\",\"#e3e196\",\"#644096\",\"#aea296\",\"#83c296\",\"#a62d96\",\"#42bf96\",\"#7b6e96\",\"#42b196\",\"#9d2696\",\"#a96496\",\"#f29f96\",\"#54d596\",\"#9db696\",\"#9ace96\",\"#8bd696\",\"#3ae096\",\"#52ad96\",\"#9fd096\",\"#ee3096\",\"#aaaf96\",\"#952a96\",\"#87c596\",\"#e94f96\",\"#92d096\",\"#527a96\",\"#7c3a96\",\"#568596\",\"#e45396\",\"#cf4896\",\"#3f2696\",\"#747196\",\"#3f6f96\",\"#c39c96\",\"#936996\",\"#b7e396\",\"#69c696\",\"#344596\",\"#d46496\",\"#d6cf96\",\"#e6cd96\",\"#f07096\",\"#913396\",\"#cde196\",\"#33a496\",\"#c85b96\",\"#9cb796\",\"#35b196\",\"#683096\",\"#e5de96\",\"#6a6696\",\"#396d96\",\"#696796\",\"#4fc296\",\"#77b396\",\"#5f6796\",\"#c5de96\",\"#f5db96\",\"#bc9396\",\"#91e196\",\"#71ca96\",\"#68b396\",\"#978996\",\"#d2a796\",\"#966096\",\"#7bad96\",\"#3fc396\",\"#667c96\",\"#49b596\",\"#71d196\",\"#4aa296\",\"#eeb496\",\"#e33996\",\"#809396\",\"#348e96\",\"#9c4096\",\"#9b7e96\",\"#f3bf96\",\"#6ee496\",\"#f26b96\",\"#e99196\",\"#b15896\",\"#3ba896\",\"#442b96\",\"#a17a96\",\"#a55096\",\"#e1d296\",\"#3c7896\",\"#436496\",\"#649496\",\"#c02296\",\"#76a596\",\"#e35c96\",\"#ccca96\",\"#e62396\",\"#6b2696\",\"#744f96\",\"#d19896\",\"#643596\",\"#ceb396\",\"#848796\",\"#363696\",\"#59a796\",\"#862396\",\"#533996\",\"#e37e96\",\"#e8df96\",\"#c5bc96\",\"#90d596\",\"#607496\",\"#c14396\",\"#54e396\",\"#c26496\",\"#53bc96\",\"#9c4f96\",\"#35ac96\",\"#6fab96\",\"#925796\",\"#972796\",\"#568096\",\"#eedd96\",\"#953096\",\"#ac3796\",\"#c49196\",\"#668596\",\"#e9ae96\",\"#6a4296\",\"#e68196\",\"#eebd96\",\"#cb4b96\",\"#989e96\",\"#483596\",\"#77d796\",\"#667b96\",\"#c76696\",\"#ecb596\",\"#73af96\",\"#b66496\",\"#93bd96\",\"#e9dd96\",\"#47be96\",\"#742d96\",\"#a24696\",\"#e67096\",\"#f36396\",\"#e46996\",\"#eca196\",\"#ed5896\",\"#39e496\",\"#e58796\",\"#509b96\",\"#e7bd96\",\"#ea9596\",\"#d41e96\",\"#6e6896\",\"#bb4a96\",\"#b0c196\",\"#bf5a96\",\"#3b2496\",\"#3f8e96\",\"#925696\",\"#dfe396\",\"#3d8596\",\"#efde96\",\"#c2c896\",\"#902996\",\"#881f96\",\"#d85996\",\"#54a296\",\"#3e4196\",\"#59b196\",\"#738a96\",\"#b33996\",\"#58bb96\",\"#c96096\",\"#93df96\",\"#6cdc96\",\"#b11e96\",\"#65cc96\",\"#f28296\",\"#b1a296\",\"#d39996\",\"#f97996\",\"#f84d96\",\"#ac8e96\",\"#713d96\",\"#c8d796\",\"#f84596\",\"#a86b96\",\"#37cb96\",\"#95c496\",\"#bfa196\",\"#bfc296\",\"#753396\",\"#4dd696\",\"#34cb96\",\"#9a2696\",\"#43c496\",\"#a07d96\",\"#cc9496\",\"#433996\",\"#ab1f96\",\"#ee9e96\",\"#9a3f96\",\"#56ae96\",\"#714396\",\"#c97a96\",\"#899c96\",\"#a93d96\",\"#ab4e96\",\"#b88a96\",\"#924096\",\"#682896\",\"#80bc96\",\"#636896\",\"#5a5596\",\"#a58b96\",\"#382f96\",\"#6fe096\",\"#a44a96\",\"#778896\",\"#e12196\",\"#983796\",\"#6d7596\",\"#e46796\",\"#325b96\",\"#584c96\",\"#997196\",\"#823196\",\"#af8396\",\"#574396\",\"#95a596\",\"#b35796\",\"#c0a996\",\"#982d96\",\"#36b596\",\"#85b696\",\"#d16f96\",\"#72e196\",\"#bd3d96\",\"#b33a96\",\"#a6b996\",\"#de4f96\",\"#dd3196\",\"#beac96\",\"#3a7596\",\"#f32b96\",\"#b08e96\",\"#854e96\",\"#347196\",\"#d14796\",\"#5a3496\",\"#c76996\",\"#6b2296\",\"#a7e196\",\"#7ce196\",\"#598996\",\"#836d96\",\"#7ab796\",\"#947d96\",\"#768496\",\"#64ae96\",\"#ad7596\",\"#b85b96\",\"#625296\",\"#a15b96\",\"#88ab96\",\"#78c896\",\"#b86496\",\"#785f96\",\"#a8b196\",\"#db6896\",\"#6a6396\",\"#41cd96\",\"#8edc96\",\"#32c796\",\"#724d96\",\"#8d7696\",\"#969896\",\"#762096\",\"#8b7d96\",\"#4fac96\",\"#f7e196\",\"#d8ce96\",\"#84a196\",\"#d83696\",\"#75cb96\",\"#898c96\",\"#414c96\",\"#92b796\",\"#9bc496\",\"#dbca96\",\"#929e96\",\"#997496\",\"#bfe596\",\"#9c6396\",\"#6f5d96\",\"#664696\",\"#5da696\",\"#8b1f96\",\"#ab6996\",\"#408196\",\"#9a4696\",\"#dd8796\",\"#ea8096\",\"#996496\",\"#ca4996\",\"#d44a96\",\"#c25a96\",\"#f92196\",\"#4fc396\",\"#ae4496\",\"#d9c896\",\"#db3696\",\"#572f96\",\"#c83b96\",\"#f76396\",\"#8e3696\",\"#f37b96\",\"#505196\",\"#544496\",\"#d4a896\",\"#4b2496\",\"#b7b496\",\"#322d96\",\"#779796\",\"#f3bb96\",\"#b83496\",\"#7adf96\",\"#d73496\",\"#81aa96\",\"#9b8f96\",\"#e96f96\",\"#dad696\",\"#9ae296\",\"#ca5496\",\"#c25d96\",\"#c3a196\",\"#822696\",\"#bf5796\",\"#a38796\",\"#5bd896\",\"#7d4196\",\"#643196\",\"#91af96\",\"#b63f96\",\"#e96e96\",\"#dd6696\",\"#9f7196\",\"#654c96\",\"#a95c96\",\"#b5a596\",\"#506096\",\"#e5e396\",\"#64d796\",\"#603596\",\"#e54996\",\"#6ee396\",\"#a7b796\",\"#444896\",\"#f43e96\",\"#d99d96\",\"#e02f96\",\"#6c5f96\",\"#59e596\",\"#8e4a96\",\"#3c4896\",\"#875796\",\"#8f8b96\",\"#7a7596\",\"#c1dd96\",\"#f7be96\",\"#a19e96\",\"#95b896\",\"#c54796\",\"#b6a196\",\"#934f96\",\"#5de596\",\"#b72096\",\"#798096\",\"#5e6796\",\"#f9a796\",\"#856b96\",\"#f2ae96\",\"#b8b096\",\"#8f8996\",\"#945496\",\"#599796\",\"#449596\",\"#60c096\",\"#681e96\",\"#3a6e96\",\"#94db96\",\"#51c996\",\"#b8c796\",\"#569896\",\"#f86096\",\"#436c96\",\"#4cc996\",\"#bd3a96\",\"#91b896\",\"#bb2d96\",\"#75a396\",\"#519596\",\"#5f9896\",\"#ef3996\",\"#c4e096\",\"#6c2a96\",\"#6dbb96\",\"#5ea596\",\"#b3cc96\",\"#74aa96\",\"#ac2396\",\"#cfda96\",\"#c14796\",\"#9c3996\",\"#c98696\",\"#c94796\",\"#712996\",\"#706096\",\"#ba3f96\",\"#592396\",\"#457d96\",\"#4b8496\",\"#d22e96\",\"#557c96\",\"#4a6c96\",\"#4bc596\",\"#6c9796\",\"#44ca96\",\"#773596\",\"#3f4896\",\"#afd696\",\"#964896\",\"#a64896\",\"#943b96\",\"#466a96\",\"#799b96\",\"#a17c96\",\"#d34f96\",\"#329696\",\"#7b2196\",\"#d29296\",\"#c66f96\",\"#6f1f96\",\"#f3be96\",\"#c55696\",\"#3bcb96\",\"#57a696\",\"#c11f96\",\"#929d96\",\"#ea7a96\",\"#b35296\",\"#ee2496\",\"#d1aa96\",\"#b79796\",\"#bc8896\",\"#8ec996\",\"#799796\",\"#de6396\",\"#cb5696\",\"#ac4b96\",\"#d8e496\",\"#eaba96\",\"#3c6896\",\"#e53a96\",\"#3e3696\",\"#9db396\",\"#4d8b96\",\"#529096\",\"#c94696\",\"#7ed496\",\"#8ebc96\",\"#356d96\",\"#a04096\",\"#d54f96\",\"#bf6796\",\"#b6d596\",\"#c7d996\",\"#94c996\",\"#b95e96\",\"#c0a096\",\"#425396\",\"#d77a96\",\"#ea3b96\",\"#75b196\",\"#47dd96\",\"#d0b296\",\"#599296\",\"#ab6a96\",\"#5a8a96\",\"#895996\",\"#f69d96\",\"#b28396\",\"#bea796\",\"#414e96\",\"#cb8896\",\"#4e9f96\",\"#db4896\",\"#c86196\",\"#f8b796\",\"#d0cf96\",\"#da4696\",\"#6f5896\",\"#89e196\",\"#db4096\",\"#843196\",\"#9b4896\",\"#88c796\",\"#882d96\",\"#32dd96\",\"#77e396\",\"#b54a96\",\"#814396\",\"#692496\",\"#856c96\",\"#356f96\",\"#8c4196\",\"#eddd96\",\"#f4b496\",\"#4b7f96\",\"#6d4e96\",\"#9a9b96\",\"#906d96\",\"#b49f96\",\"#3d3f96\",\"#d7c396\",\"#dad996\",\"#efbc96\",\"#446696\",\"#a35496\",\"#aeb296\",\"#337696\",\"#613b96\",\"#5c7596\",\"#32c696\",\"#b9c596\",\"#7a2896\",\"#54c096\",\"#a57196\",\"#cca296\",\"#6e9896\",\"#d4b396\",\"#b0d796\",\"#92b896\",\"#9e2996\",\"#b28896\",\"#d54296\",\"#9b9e96\",\"#ea9996\",\"#995096\",\"#d44796\",\"#6d7b96\",\"#a83c96\",\"#d3dc96\",\"#aed796\",\"#77b096\",\"#f0a296\",\"#a3b096\",\"#887a96\",\"#ea6c96\",\"#957b96\",\"#c85196\",\"#6c3396\",\"#5b9796\",\"#b52c96\",\"#4e2d96\",\"#f6d096\",\"#d47296\",\"#ab8696\",\"#4d4f96\",\"#d49296\",\"#c5e396\",\"#768296\",\"#713896\",\"#a88f96\",\"#8fb396\",\"#8c8696\",\"#c72296\",\"#cb3a96\",\"#473b96\",\"#c6cd96\",\"#f38e96\",\"#972a96\",\"#a4df96\",\"#65d896\",\"#9b7e96\",\"#40c096\",\"#b6ce96\",\"#ea9696\",\"#494096\",\"#69e396\",\"#927496\",\"#8e7b96\",\"#c96796\",\"#e96996\",\"#cabb96\",\"#8b6b96\",\"#7fd196\",\"#b4c096\",\"#b04b96\",\"#53a496\",\"#e49896\",\"#7b9696\",\"#cc5496\",\"#6c1e96\",\"#a32e96\",\"#612496\",\"#779296\",\"#3ea896\",\"#7aa996\",\"#7dd096\",\"#dddb96\",\"#9d9896\",\"#83b096\",\"#8b5196\",\"#a6b496\",\"#877696\",\"#836d96\",\"#4b8396\",\"#63b896\",\"#c32c96\",\"#f68396\",\"#a07b96\",\"#ddc296\",\"#cb4b96\",\"#da8996\",\"#c2be96\",\"#a2ac96\",\"#e27496\",\"#d06096\",\"#a63996\",\"#37d096\",\"#b47196\",\"#5ed296\",\"#7e3396\",\"#973e96\",\"#634196\",\"#37b296\",\"#a35896\",\"#edb396\",\"#8f6c96\",\"#61b196\",\"#badb96\",\"#f6e196\",\"#a75696\",\"#8ee496\",\"#f66996\",\"#cb3596\",\"#362596\",\"#c9ac96\",\"#92c096\",\"#b75c96\",\"#cfce96\",\"#bbde96\",\"#ac6f96\",\"#9b4496\",\"#986996\",\"#c85596\",\"#d84c96\",\"#ba5996\",\"#e07f96\",\"#7fc496\",\"#9f2e96\",\"#ca5b96\",\"#c15496\",\"#4be296\",\"#ae5d96\",\"#779d96\",\"#6e3a96\",\"#b28d96\",\"#9f7c96\",\"#77bb96\",\"#9dd396\",\"#9bc396\",\"#37a596\",\"#619b96\",\"#83aa96\",\"#513896\",\"#8d2696\",\"#356496\",\"#5bc096\",\"#d0de96\",\"#6c5296\",\"#efc696\",\"#502e96\",\"#d5d496\",\"#7d9d96\",\"#488696\",\"#a23096\",\"#a07996\",\"#c06c96\",\"#aed596\",\"#d2c896\",\"#cae196\",\"#73b896\",\"#f32b96\",\"#5dcb96\",\"#a91e96\",\"#3e7d96\",\"#c72596\",\"#675c96\",\"#4f8a96\",\"#5e9f96\",\"#458996\",\"#f6cc96\",\"#b3e196\",\"#f39896\",\"#546096\",\"#dee496\",\"#95b796\",\"#653396\",\"#4a8e96\",\"#5e9d96\",\"#e57f96\",\"#ce6f96\",\"#bfc796\",\"#474e96\",\"#99c296\",\"#e9be96\",\"#b1b596\",\"#4cce96\",\"#71e396\",\"#6c6196\",\"#ba4e96\",\"#814d96\",\"#aa4396\",\"#986396\",\"#d46196\",\"#516596\",\"#8dd996\",\"#9b3496\",\"#c5c196\",\"#7f2996\",\"#5ccd96\",\"#f74a96\",\"#f96996\",\"#5a9f96\",\"#dcb896\",\"#6b7796\",\"#b19996\",\"#338196\",\"#e27896\",\"#34a096\",\"#99ad96\",\"#5d8e96\",\"#774596\",\"#64e096\",\"#bd9e96\",\"#604496\",\"#e14c96\",\"#879996\",\"#a1d596\",\"#3a9c96\",\"#565f96\",\"#a7b296\",\"#4b5396\",\"#d23b96\",\"#7e3996\",\"#a43196\",\"#9aba96\",\"#dc6a96\",\"#f82596\",\"#ec3a96\",\"#4b2896\",\"#c19d96\",\"#ca7496\",\"#e23b96\",\"#e87796\",\"#c4c396\",\"#b86596\",\"#d82996\",\"#dd6d96\",\"#f2dc96\",\"#832c96\",\"#795e96\",\"#b23096\",\"#a56f96\",\"#98b796\",\"#d24896\",\"#43d496\",\"#ed7c96\",\"#afba96\",\"#5aa196\",\"#a57696\",\"#c22a96\",\"#ed5496\",\"#555396\",\"#d93196\",\"#7e5a96\",\"#d7d896\",\"#84b796\",\"#523196\",\"#9f4496\",\"#a7c996\",\"#378e96\",\"#7d2f96\",\"#858196\",\"#f37e96\",\"#7acd96\",\"#8cd096\",\"#cbe196\",\"#36a796\",\"#72c596\",\"#ea9696\",\"#db2696\",\"#ac2596\",\"#5ac496\",\"#9d3596\",\"#95a496\",\"#6b7396\",\"#b8b596\",\"#729f96\",\"#d89496\",\"#8c8096\",\"#aaa096\",\"#358e96\",\"#74c896\",\"#658296\",\"#8e5896\",\"#d4a196\",\"#366b96\",\"#66db96\",\"#836f96\",\"#658696\",\"#c42a96\",\"#5e8d96\",\"#6e5c96\",\"#c13896\",\"#a46796\",\"#835b96\",\"#ac5e96\",\"#33e196\",\"#81c596\",\"#c75b96\",\"#90cc96\",\"#918996\",\"#b36196\",\"#e67e96\",\"#8b9396\",\"#9c5896\",\"#f6c996\",\"#65b696\",\"#c79996\",\"#6adb96\",\"#4a4696\",\"#e38696\",\"#7da996\",\"#ee5a96\",\"#e7a296\",\"#9e6c96\",\"#517a96\",\"#a1ca96\",\"#f4cd96\",\"#513c96\",\"#3e7e96\",\"#95bb96\",\"#af5c96\",\"#873296\",\"#d77d96\",\"#639696\",\"#b78596\",\"#938c96\",\"#dec196\",\"#f02a96\",\"#4aaf96\",\"#ed9a96\",\"#a04a96\",\"#832796\",\"#832696\",\"#b92696\",\"#53b196\",\"#629d96\",\"#ca7496\",\"#a63b96\",\"#503296\",\"#d5c796\",\"#34c396\",\"#72e296\",\"#f67496\",\"#71ae96\",\"#9f8396\",\"#593596\",\"#365c96\",\"#484b96\",\"#c1db96\",\"#958496\",\"#b67296\",\"#9b5996\",\"#49c396\",\"#ee9896\",\"#53c696\",\"#5cde96\",\"#da2096\",\"#ca3a96\",\"#4ac396\",\"#6f5596\",\"#87b996\",\"#338b96\",\"#4c3896\",\"#6a7d96\",\"#bdbd96\",\"#4edc96\",\"#e45596\",\"#854096\",\"#786996\",\"#a74596\",\"#48dc96\",\"#9ba296\",\"#3bb796\",\"#3f7e96\",\"#469496\",\"#968896\",\"#d25496\",\"#f79296\",\"#6f2296\",\"#7fe096\",\"#42c996\",\"#782e96\",\"#8dd496\",\"#858a96\",\"#e69796\",\"#889496\",\"#695a96\",\"#bbdd96\",\"#e5d896\",\"#d36e96\",\"#357496\",\"#6fd096\",\"#76b696\",\"#466096\",\"#704396\",\"#aa2d96\",\"#e9ac96\",\"#757a96\",\"#cc9a96\",\"#c43096\",\"#975696\",\"#edd996\",\"#b6e396\",\"#9fc496\",\"#835596\",\"#ebae96\",\"#c2af96\",\"#4a5396\",\"#717896\",\"#ed7696\",\"#3aa196\",\"#8ab796\",\"#623496\",\"#668996\",\"#464796\",\"#62bc96\",\"#7d8c96\",\"#f1e396\",\"#9fe596\",\"#d4a596\",\"#e0d696\",\"#4d8496\",\"#857996\",\"#f8bf96\",\"#379e96\",\"#a03896\",\"#bb5f96\",\"#f2ba96\",\"#a09c96\",\"#aed896\",\"#73cf96\",\"#417e96\",\"#ae9096\",\"#dd7696\",\"#484596\",\"#b6a596\",\"#6f6896\",\"#43cb96\",\"#8a2596\",\"#c12596\",\"#d4d496\",\"#726196\",\"#4b6f96\",\"#3e7296\",\"#624c96\",\"#8d2a96\",\"#322596\",\"#b53c96\",\"#ad2796\",\"#c95f96\",\"#458796\",\"#d17a96\",\"#bb5e96\",\"#6dc096\",\"#86c096\",\"#c08996\",\"#d81f96\",\"#f31f96\",\"#882796\",\"#78cb96\",\"#6f6896\",\"#c77a96\",\"#81bb96\",\"#9cab96\",\"#48ca96\",\"#d39f96\",\"#3f3a96\",\"#49e596\",\"#dbd996\",\"#8c6596\",\"#ec4196\",\"#f65796\",\"#e16a96\",\"#51bd96\",\"#ef9696\",\"#6cdb96\",\"#7e8296\",\"#59d096\",\"#dec396\",\"#8a2c96\",\"#928096\",\"#82a296\",\"#6f4996\",\"#64de96\",\"#5f3896\",\"#6f6496\",\"#50d396\",\"#5bd296\",\"#c32196\",\"#da4b96\",\"#522396\",\"#b93a96\",\"#398196\",\"#39dc96\",\"#96b896\",\"#4eac96\",\"#d45d96\",\"#48a896\",\"#352896\",\"#b6da96\",\"#9d7d96\",\"#84d396\",\"#8aad96\",\"#b45d96\",\"#99df96\",\"#87b696\",\"#f7e096\",\"#f25a96\",\"#cbc896\",\"#626596\",\"#ae5796\",\"#773896\",\"#425096\",\"#a1cd96\",\"#b16696\",\"#a4aa96\",\"#ef8f96\",\"#34a396\",\"#c7c396\",\"#e35496\",\"#af4e96\",\"#4fdb96\",\"#8ee496\",\"#f6de96\",\"#3d8196\",\"#454a96\",\"#e18b96\",\"#42cb96\",\"#71ad96\",\"#843796\",\"#91ab96\",\"#e07d96\",\"#338a96\",\"#919396\",\"#81ae96\",\"#40e396\",\"#32ae96\",\"#3c5696\",\"#85a496\",\"#f3cb96\",\"#966996\",\"#b76d96\",\"#c6c496\",\"#327896\",\"#b03196\",\"#4ccd96\",\"#f34c96\",\"#85e496\",\"#a44f96\",\"#4c3f96\",\"#ebb996\",\"#55a896\",\"#7dc396\",\"#4ea096\",\"#b4e296\",\"#9a4096\",\"#65b396\",\"#9f5c96\",\"#f87596\",\"#7f2a96\",\"#b03296\",\"#dc7496\",\"#3a9196\",\"#ce3796\",\"#e69b96\",\"#9ca196\",\"#645c96\",\"#c6ba96\",\"#e52096\",\"#5ca896\",\"#686496\",\"#743d96\",\"#6ca196\",\"#876896\",\"#b23496\",\"#589496\",\"#f82696\",\"#932696\",\"#4db996\",\"#9ca196\",\"#7d7e96\",\"#6f6096\",\"#b86396\",\"#9b4996\",\"#327a96\",\"#d0b596\",\"#c39696\",\"#839d96\",\"#f17b96\",\"#bb8496\",\"#3b4a96\",\"#c78e96\",\"#4ad096\",\"#f2c396\",\"#7f5096\",\"#606f96\",\"#575f96\",\"#e8dd96\",\"#49e096\",\"#674b96\",\"#8cc896\",\"#4bb696\",\"#63ac96\",\"#85c496\",\"#ab3496\",\"#b1e496\",\"#947e96\",\"#5ab996\",\"#ccc396\",\"#c66c96\",\"#8ba896\",\"#772896\",\"#c76f96\",\"#8f6a96\",\"#e24f96\",\"#c96f96\",\"#edae96\",\"#f88596\",\"#672496\",\"#b44196\",\"#472896\",\"#b89296\",\"#832896\",\"#de3096\",\"#d34796\",\"#d97196\",\"#db3296\",\"#f9ad96\",\"#56d696\",\"#47d696\",\"#7de296\",\"#669796\",\"#c33796\",\"#7fb096\",\"#d34996\",\"#848b96\",\"#e66196\",\"#e8bb96\",\"#94c496\",\"#ae3596\",\"#504f96\",\"#a57596\",\"#cf3096\",\"#a26896\",\"#8f7896\",\"#887d96\",\"#bc9296\",\"#978a96\",\"#ce6496\",\"#99d496\",\"#b1cd96\",\"#86a196\",\"#c48f96\",\"#70b296\",\"#d6c696\",\"#ec7996\",\"#75b196\",\"#c39196\",\"#785b96\",\"#748f96\",\"#8f4496\",\"#b63d96\",\"#d37996\",\"#b55496\",\"#734a96\",\"#643e96\",\"#934796\",\"#f26d96\",\"#343b96\",\"#a48296\",\"#b15c96\",\"#b6c196\",\"#aa4b96\",\"#867896\",\"#96b996\",\"#5c6e96\",\"#482996\",\"#eb6d96\",\"#f88f96\",\"#98b096\",\"#a88e96\",\"#ec4996\",\"#43b596\",\"#615e96\",\"#403996\",\"#50a096\",\"#b8ce96\",\"#e6e296\",\"#5c7396\",\"#4e4f96\",\"#56d996\",\"#61ce96\",\"#5a9b96\",\"#d82e96\",\"#a64996\",\"#7a5196\",\"#617b96\",\"#92c996\",\"#733e96\",\"#ea9996\",\"#439696\",\"#e32396\",\"#e28e96\",\"#78c396\",\"#63dc96\",\"#6f4d96\",\"#e46296\",\"#346596\",\"#c96396\",\"#9cd796\",\"#3bda96\",\"#3d2a96\",\"#ad7796\",\"#ae4196\",\"#4e2c96\",\"#8f7b96\",\"#a52496\",\"#bfa396\",\"#dd2696\",\"#8f4996\",\"#f24596\",\"#b7bf96\",\"#623296\",\"#c14f96\",\"#3ae096\",\"#c0db96\",\"#b63596\",\"#3bcf96\",\"#6ad996\",\"#4d7096\",\"#5c9b96\",\"#7dc896\",\"#48b896\",\"#74d896\",\"#4a4996\",\"#61b596\",\"#7c6e96\",\"#a89196\",\"#c6d496\",\"#8b3c96\",\"#6ba496\",\"#357a96\",\"#eb3796\",\"#836b96\",\"#ba8a96\",\"#59b396\",\"#3fe496\",\"#907e96\",\"#3f3d96\",\"#845d96\",\"#a2c696\",\"#bdac96\",\"#355596\",\"#607496\",\"#f78196\",\"#a7dd96\",\"#b96c96\",\"#e8a396\",\"#9c4396\",\"#785796\",\"#ef4a96\",\"#8b8b96\",\"#af5596\",\"#396496\",\"#bedd96\",\"#b63396\",\"#82ba96\",\"#3f8196\",\"#437596\",\"#e32796\",\"#8cdb96\",\"#682e96\",\"#d23696\",\"#7ba696\",\"#7a4096\",\"#c87396\",\"#c0e296\",\"#e58296\",\"#47db96\",\"#5eac96\",\"#b14296\",\"#be3796\",\"#5de196\",\"#8baf96\",\"#b5d196\",\"#7bde96\",\"#502796\",\"#875b96\",\"#c1c096\",\"#35af96\",\"#97c796\",\"#de8296\",\"#bd9596\",\"#c78196\",\"#82ba96\",\"#727796\",\"#52a096\",\"#dbab96\",\"#6e2696\",\"#a15196\",\"#ce3996\",\"#706c96\",\"#c96596\",\"#445296\",\"#a8d896\",\"#904996\",\"#4b7a96\",\"#489996\",\"#f12596\",\"#892796\",\"#da8f96\",\"#e5cc96\",\"#7e4296\",\"#822196\",\"#915c96\",\"#bf3396\",\"#7f5996\",\"#866196\",\"#c07e96\",\"#c58b96\",\"#be4d96\",\"#805b96\",\"#38ca96\",\"#8f2e96\",\"#737196\",\"#3a3096\",\"#f1da96\",\"#deb596\",\"#705f96\",\"#f4bb96\",\"#eee196\",\"#cd6696\",\"#6cbc96\",\"#438396\",\"#886896\",\"#556e96\",\"#544b96\",\"#a3a296\",\"#64ca96\",\"#99d396\",\"#3ec496\",\"#73a696\",\"#424396\",\"#667e96\",\"#874996\",\"#b9a996\",\"#3c3396\",\"#68d496\",\"#b92a96\",\"#704796\",\"#76e596\",\"#f07796\",\"#447596\",\"#95b696\",\"#77ce96\",\"#9cd196\",\"#bed396\",\"#e79796\",\"#975096\",\"#c62896\",\"#9ddd96\",\"#999496\",\"#773c96\",\"#424996\",\"#e1d196\",\"#60bb96\",\"#a63296\",\"#f35196\",\"#44ba96\",\"#3c3696\",\"#ec3b96\",\"#8f9096\",\"#715596\",\"#88c696\",\"#ecc396\",\"#f57d96\",\"#a33a96\",\"#c47396\",\"#983296\",\"#ddd596\",\"#932f96\",\"#b65796\",\"#739096\",\"#5cbb96\",\"#d24e96\",\"#9fa196\",\"#826f96\",\"#d1c696\",\"#676b96\",\"#d65496\",\"#63e496\",\"#f26596\",\"#419896\",\"#476c96\",\"#4ee496\",\"#334796\",\"#cf9996\",\"#6fe196\",\"#aada96\",\"#ad6896\",\"#9a5e96\",\"#aa6f96\",\"#7a3c96\",\"#bb7a96\",\"#7c4296\",\"#a18696\",\"#afc196\",\"#c8df96\",\"#9bcd96\",\"#341f96\",\"#d81f96\",\"#da7696\",\"#733596\",\"#4a7396\",\"#3ba396\",\"#d8dd96\",\"#472d96\",\"#d99896\",\"#de2096\",\"#66c096\",\"#e35e96\",\"#c6a696\",\"#834496\",\"#aa2996\",\"#533796\",\"#bd7896\",\"#cab896\",\"#3fe596\",\"#aca696\",\"#366196\",\"#e4ac96\",\"#4fb396\",\"#548296\",\"#583496\",\"#437696\",\"#51b596\",\"#c02696\",\"#3b3096\",\"#493e96\",\"#356896\",\"#874396\",\"#f57396\",\"#345096\",\"#807896\",\"#b64b96\",\"#9f8c96\",\"#dda196\",\"#7de196\",\"#847d96\",\"#3db596\",\"#502c96\",\"#8b5596\",\"#9d4e96\",\"#ae2196\",\"#5cdb96\",\"#babb96\",\"#4e7d96\",\"#3d3796\",\"#89aa96\",\"#ea3c96\",\"#925496\",\"#c84f96\",\"#df4896\",\"#cb6896\",\"#3f7596\",\"#799996\",\"#7d7996\",\"#825b96\",\"#4caa96\",\"#c07696\",\"#ed4196\",\"#f53896\",\"#e38f96\",\"#3cb396\",\"#474096\",\"#be7d96\",\"#438b96\",\"#b1d796\",\"#4dad96\",\"#70a196\",\"#79d396\",\"#b75496\",\"#7a3b96\",\"#e33596\",\"#4dac96\",\"#d1c696\",\"#3e7996\",\"#6d3496\",\"#65c296\",\"#72dc96\",\"#96b796\",\"#8b6296\",\"#8a6896\",\"#f22b96\",\"#d7d696\",\"#6c9a96\",\"#eeb096\",\"#5d8996\",\"#c18996\",\"#559d96\",\"#6f3796\",\"#cb7496\",\"#802a96\",\"#904396\",\"#d5c996\",\"#6a6696\",\"#526096\",\"#7aa896\",\"#eeac96\",\"#91d596\",\"#c84396\",\"#44be96\",\"#f75596\",\"#5e4396\",\"#d18696\",\"#905696\",\"#4b2296\",\"#e23c96\",\"#7b4196\",\"#a53696\",\"#4d5496\",\"#6e6596\",\"#eddb96\",\"#9a6196\",\"#855096\",\"#cbc196\",\"#847296\",\"#c02c96\",\"#713a96\",\"#5dd396\",\"#455d96\",\"#a26596\",\"#905096\",\"#887296\",\"#bcbd96\",\"#42ad96\",\"#826d96\",\"#aeb196\",\"#dcd396\",\"#bc3896\",\"#404296\",\"#97a696\",\"#f5a596\",\"#d47a96\",\"#a5b196\",\"#c35196\",\"#4caf96\",\"#63b196\",\"#4dda96\",\"#373b96\",\"#627996\",\"#e05596\",\"#e09f96\",\"#b72396\",\"#4ad996\",\"#bbd896\",\"#bc6096\",\"#cfc396\",\"#5ee196\",\"#e5e296\",\"#72ab96\",\"#785b96\",\"#cb8296\",\"#ea9596\",\"#3e2196\",\"#ce2396\",\"#cbdc96\",\"#75a196\",\"#74b096\",\"#32ac96\",\"#50e396\",\"#889496\",\"#a66896\",\"#796f96\",\"#874996\",\"#d82596\",\"#3bda96\",\"#346696\",\"#4ca096\",\"#36ce96\",\"#d09696\",\"#a74d96\",\"#503896\",\"#bd6496\",\"#5ad296\",\"#836f96\",\"#974996\",\"#ee5c96\",\"#9ea996\",\"#bc2296\",\"#687d96\",\"#675096\",\"#64af96\",\"#384096\",\"#c15796\",\"#e9b296\",\"#967c96\",\"#3f2c96\",\"#b7c596\",\"#3b1e96\",\"#473e96\",\"#9e3a96\",\"#ab8596\",\"#d4cc96\",\"#c72996\",\"#53e296\",\"#3db796\",\"#3a2396\",\"#f3a696\",\"#8bb296\",\"#8ecc96\",\"#98bc96\",\"#99c696\",\"#db4996\",\"#703096\",\"#a1b896\",\"#4d8f96\",\"#dab896\",\"#b5d996\",\"#932796\",\"#92b296\",\"#b57296\"],\"radius\":{\"__ndarray__\":\"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\",\"dtype\":\"float64\",\"shape\":[4000]},\"x\":{\"__ndarray__\":\"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\",\"dtype\":\"float64\",\"shape\":[4000]},\"y\":{\"__ndarray__\":\"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\",\"dtype\":\"float64\",\"shape\":[4000]}},\"selected\":{\"id\":\"2316\",\"type\":\"Selection\"},\"selection_policy\":{\"id\":\"2317\",\"type\":\"UnionRenderers\"}},\"id\":\"2230\",\"type\":\"ColumnDataSource\"},{\"attributes\":{},\"id\":\"2314\",\"type\":\"BasicTickFormatter\"},{\"attributes\":{},\"id\":\"2316\",\"type\":\"Selection\"},{\"attributes\":{},\"id\":\"2211\",\"type\":\"BasicTicker\"},{\"attributes\":{\"dimension\":1,\"ticker\":{\"id\":\"2211\",\"type\":\"BasicTicker\"}},\"id\":\"2214\",\"type\":\"Grid\"},{\"attributes\":{\"active_drag\":\"auto\",\"active_inspect\":\"auto\",\"active_multi\":null,\"active_scroll\":\"auto\",\"active_tap\":\"auto\",\"tools\":[{\"id\":\"2215\",\"type\":\"CrosshairTool\"},{\"id\":\"2216\",\"type\":\"PanTool\"},{\"id\":\"2217\",\"type\":\"WheelZoomTool\"},{\"id\":\"2218\",\"type\":\"BoxZoomTool\"},{\"id\":\"2219\",\"type\":\"ResetTool\"},{\"id\":\"2220\",\"type\":\"BoxSelectTool\"},{\"id\":\"2221\",\"type\":\"LassoSelectTool\"}]},\"id\":\"2222\",\"type\":\"Toolbar\"},{\"attributes\":{},\"id\":\"2215\",\"type\":\"CrosshairTool\"},{\"attributes\":{},\"id\":\"2216\",\"type\":\"PanTool\"},{\"attributes\":{},\"id\":\"2217\",\"type\":\"WheelZoomTool\"},{\"attributes\":{},\"id\":\"2201\",\"type\":\"LinearScale\"},{\"attributes\":{\"overlay\":{\"id\":\"2318\",\"type\":\"BoxAnnotation\"}},\"id\":\"2218\",\"type\":\"BoxZoomTool\"},{\"attributes\":{},\"id\":\"2219\",\"type\":\"ResetTool\"},{\"attributes\":{\"callback\":null,\"overlay\":{\"id\":\"2319\",\"type\":\"BoxAnnotation\"}},\"id\":\"2220\",\"type\":\"BoxSelectTool\"},{\"attributes\":{\"callback\":null,\"overlay\":{\"id\":\"2320\",\"type\":\"PolyAnnotation\"}},\"id\":\"2221\",\"type\":\"LassoSelectTool\"},{\"attributes\":{\"callback\":null,\"end\":100},\"id\":\"2197\",\"type\":\"Range1d\"},{\"attributes\":{\"callback\":null,\"end\":100},\"id\":\"2199\",\"type\":\"Range1d\"},{\"attributes\":{\"fill_alpha\":{\"value\":0.6},\"fill_color\":{\"field\":\"fill_color\"},\"line_color\":{\"value\":null},\"radius\":{\"field\":\"radius\",\"units\":\"data\"},\"x\":{\"field\":\"x\"},\"y\":{\"field\":\"y\"}},\"id\":\"2231\",\"type\":\"Circle\"},{\"attributes\":{},\"id\":\"2317\",\"type\":\"UnionRenderers\"},{\"attributes\":{},\"id\":\"2203\",\"type\":\"LinearScale\"},{\"attributes\":{\"fill_alpha\":{\"value\":0.1},\"fill_color\":{\"value\":\"#1f77b4\"},\"line_alpha\":{\"value\":0.1},\"line_color\":{\"value\":\"#1f77b4\"},\"radius\":{\"field\":\"radius\",\"units\":\"data\"},\"x\":{\"field\":\"x\"},\"y\":{\"field\":\"y\"}},\"id\":\"2232\",\"type\":\"Circle\"},{\"attributes\":{\"fill_alpha\":{\"value\":0.5},\"fill_color\":{\"value\":\"lightgrey\"},\"level\":\"overlay\",\"line_alpha\":{\"value\":1.0},\"line_color\":{\"value\":\"black\"},\"line_dash\":[4,4],\"line_width\":{\"value\":2},\"xs_units\":\"screen\",\"ys_units\":\"screen\"},\"id\":\"2320\",\"type\":\"PolyAnnotation\"}],\"root_ids\":[\"2196\"]},\"title\":\"Bokeh Application\",\"version\":\"1.2.0\"}};\n",
       "  var render_items = [{\"docid\":\"7ce09eed-8f70-48d5-8ded-23aab3e21d9b\",\"roots\":{\"2196\":\"9ef59649-cec8-4634-a8c3-cde003478ae8\"}}];\n",
       "  root.Bokeh.embed.embed_items_notebook(docs_json, render_items);\n",
       "\n",
       "  }\n",
       "  if (root.Bokeh !== undefined) {\n",
       "    embed_document(root);\n",
       "  } else {\n",
       "    var attempts = 0;\n",
       "    var timer = setInterval(function(root) {\n",
       "      if (root.Bokeh !== undefined) {\n",
       "        embed_document(root);\n",
       "        clearInterval(timer);\n",
       "      }\n",
       "      attempts++;\n",
       "      if (attempts > 100) {\n",
       "        console.log(\"Bokeh: ERROR: Unable to run BokehJS code because BokehJS library is missing\");\n",
       "        clearInterval(timer);\n",
       "      }\n",
       "    }, 10, root)\n",
       "  }\n",
       "})(window);"
      ],
      "application/vnd.bokehjs_exec.v0+json": ""
     },
     "metadata": {
      "application/vnd.bokehjs_exec.v0+json": {
       "id": "2196"
      }
     },
     "output_type": "display_data"
    }
   ],
   "source": [
    "import numpy as np\n",
    "\n",
    "from bokeh.plotting import figure, output_file, show\n",
    "\n",
    "# prepare some data\n",
    "N = 4000\n",
    "x = np.random.random(size=N) * 100\n",
    "y = np.random.random(size=N) * 100\n",
    "radii = np.random.random(size=N) * 1.5\n",
    "colors = [\n",
    "    \"#%02x%02x%02x\" % (int(r), int(g), 150) for r, g in zip(50+2*x, 30+2*y)\n",
    "]\n",
    "\n",
    "TOOLS=\"crosshair,pan,wheel_zoom,box_zoom,reset,box_select,lasso_select\"\n",
    "\n",
    "# create a new plot with the tools above, and explicit ranges\n",
    "p = figure(tools=TOOLS, x_range=(0,100), y_range=(0,100), width=500, height=500)\n",
    "\n",
    "# add a circle renderer with vectorized colors and sizes\n",
    "p.circle(x,y, radius=radii, fill_color=colors, fill_alpha=0.6, line_color=None)\n",
    "\n",
    "# show the results\n",
    "show(p)"
   ]
  },
  {
   "cell_type": "markdown",
   "metadata": {},
   "source": [
    "# Data Sources and Transformations"
   ]
  },
  {
   "cell_type": "markdown",
   "metadata": {},
   "source": [
    "We've seen how Bokeh can work well with Python lists, NumPy arrays, Pandas series, etc. At lower levels, these inputs are converted to a Bokeh `ColumnDataSource`. This data type is the central data source object used throughout Bokeh. Although Bokeh often creates them for us transparently, there are times when it is useful to create them explicitly.\n",
    "\n",
    "In later sections we will see features like hover tooltips, computed transforms, and CustomJS interactions that make use of the `ColumnDataSource`, so let's take a quick look now."
   ]
  },
  {
   "cell_type": "markdown",
   "metadata": {},
   "source": [
    "## Creating with Python Dicts\n",
    "The `ColumnDataSource` can be imported from `bokeh.models`:"
   ]
  },
  {
   "cell_type": "code",
   "execution_count": 14,
   "metadata": {},
   "outputs": [],
   "source": [
    "from bokeh.models import ColumnDataSource"
   ]
  },
  {
   "cell_type": "markdown",
   "metadata": {},
   "source": [
    "The `ColumnDataSource` is a mapping of column names (strings) to sequences of values. Here is a simple example. The mapping is provided by passing a Python `dict` with string keys and simple Python lists as values. The values could also be NumPy arrays, or Pandas sequences.\n",
    "\n",
    "***NOTE: ALL the columns in a `ColumnDataSource` must always be the SAME length.***\n"
   ]
  },
  {
   "cell_type": "code",
   "execution_count": 15,
   "metadata": {},
   "outputs": [],
   "source": [
    "source = ColumnDataSource(data={\n",
    "    'x' : [1, 2, 3, 4, 5],\n",
    "    'y' : [3, 7, 8, 5, 1],\n",
    "})"
   ]
  },
  {
   "cell_type": "markdown",
   "metadata": {},
   "source": [
    "Up until now we have called functions like `p.circle` by passing in literal lists or arrays of data directly, when we do this, Bokeh creates a `ColumnDataSource` for us, automatically. But it is possible to specify a `ColumnDataSource` explicitly by passing it as the `source` argument to a glyph method. Whenever we do this, if we want a property (like `\"x\"` or `\"y\"` or `\"fill_color\"`) to have a sequence of values, we pass the ***name of the column*** that we would like to use for a property:"
   ]
  },
  {
   "cell_type": "code",
   "execution_count": 16,
   "metadata": {},
   "outputs": [
    {
     "data": {
      "text/html": [
       "\n",
       "\n",
       "\n",
       "\n",
       "\n",
       "\n",
       "  <div class=\"bk-root\" id=\"b5c06f9f-02c3-4277-9342-fadb54a714eb\" data-root-id=\"2388\"></div>\n"
      ]
     },
     "metadata": {},
     "output_type": "display_data"
    },
    {
     "data": {
      "application/javascript": [
       "(function(root) {\n",
       "  function embed_document(root) {\n",
       "    \n",
       "  var docs_json = {\"ce6f5001-aa2e-4e51-bfb7-f33d7caf29d2\":{\"roots\":{\"references\":[{\"attributes\":{\"below\":[{\"id\":\"2397\",\"type\":\"LinearAxis\"}],\"center\":[{\"id\":\"2401\",\"type\":\"Grid\"},{\"id\":\"2406\",\"type\":\"Grid\"}],\"left\":[{\"id\":\"2402\",\"type\":\"LinearAxis\"}],\"plot_height\":400,\"plot_width\":400,\"renderers\":[{\"id\":\"2423\",\"type\":\"GlyphRenderer\"}],\"title\":{\"id\":\"2511\",\"type\":\"Title\"},\"toolbar\":{\"id\":\"2413\",\"type\":\"Toolbar\"},\"x_range\":{\"id\":\"2389\",\"type\":\"DataRange1d\"},\"x_scale\":{\"id\":\"2393\",\"type\":\"LinearScale\"},\"y_range\":{\"id\":\"2391\",\"type\":\"DataRange1d\"},\"y_scale\":{\"id\":\"2395\",\"type\":\"LinearScale\"}},\"id\":\"2388\",\"subtype\":\"Figure\",\"type\":\"Plot\"},{\"attributes\":{},\"id\":\"2403\",\"type\":\"BasicTicker\"},{\"attributes\":{\"dimension\":1,\"ticker\":{\"id\":\"2403\",\"type\":\"BasicTicker\"}},\"id\":\"2406\",\"type\":\"Grid\"},{\"attributes\":{\"bottom_units\":\"screen\",\"fill_alpha\":{\"value\":0.5},\"fill_color\":{\"value\":\"lightgrey\"},\"left_units\":\"screen\",\"level\":\"overlay\",\"line_alpha\":{\"value\":1.0},\"line_color\":{\"value\":\"black\"},\"line_dash\":[4,4],\"line_width\":{\"value\":2},\"render_mode\":\"css\",\"right_units\":\"screen\",\"top_units\":\"screen\"},\"id\":\"2519\",\"type\":\"BoxAnnotation\"},{\"attributes\":{\"callback\":null,\"data\":{\"x\":[1,2,3,4,5],\"y\":[3,7,8,5,1]},\"selected\":{\"id\":\"2517\",\"type\":\"Selection\"},\"selection_policy\":{\"id\":\"2518\",\"type\":\"UnionRenderers\"}},\"id\":\"2387\",\"type\":\"ColumnDataSource\"},{\"attributes\":{\"fill_color\":{\"value\":\"#1f77b4\"},\"line_color\":{\"value\":\"#1f77b4\"},\"size\":{\"units\":\"screen\",\"value\":20},\"x\":{\"field\":\"x\"},\"y\":{\"field\":\"y\"}},\"id\":\"2421\",\"type\":\"Circle\"},{\"attributes\":{},\"id\":\"2407\",\"type\":\"PanTool\"},{\"attributes\":{\"source\":{\"id\":\"2387\",\"type\":\"ColumnDataSource\"}},\"id\":\"2424\",\"type\":\"CDSView\"},{\"attributes\":{},\"id\":\"2408\",\"type\":\"WheelZoomTool\"},{\"attributes\":{\"overlay\":{\"id\":\"2519\",\"type\":\"BoxAnnotation\"}},\"id\":\"2409\",\"type\":\"BoxZoomTool\"},{\"attributes\":{},\"id\":\"2410\",\"type\":\"SaveTool\"},{\"attributes\":{\"data_source\":{\"id\":\"2387\",\"type\":\"ColumnDataSource\"},\"glyph\":{\"id\":\"2421\",\"type\":\"Circle\"},\"hover_glyph\":null,\"muted_glyph\":null,\"nonselection_glyph\":{\"id\":\"2422\",\"type\":\"Circle\"},\"selection_glyph\":null,\"view\":{\"id\":\"2424\",\"type\":\"CDSView\"}},\"id\":\"2423\",\"type\":\"GlyphRenderer\"},{\"attributes\":{},\"id\":\"2411\",\"type\":\"ResetTool\"},{\"attributes\":{\"callback\":null},\"id\":\"2389\",\"type\":\"DataRange1d\"},{\"attributes\":{\"text\":\"\"},\"id\":\"2511\",\"type\":\"Title\"},{\"attributes\":{},\"id\":\"2412\",\"type\":\"HelpTool\"},{\"attributes\":{\"callback\":null},\"id\":\"2391\",\"type\":\"DataRange1d\"},{\"attributes\":{},\"id\":\"2518\",\"type\":\"UnionRenderers\"},{\"attributes\":{\"active_drag\":\"auto\",\"active_inspect\":\"auto\",\"active_multi\":null,\"active_scroll\":\"auto\",\"active_tap\":\"auto\",\"tools\":[{\"id\":\"2407\",\"type\":\"PanTool\"},{\"id\":\"2408\",\"type\":\"WheelZoomTool\"},{\"id\":\"2409\",\"type\":\"BoxZoomTool\"},{\"id\":\"2410\",\"type\":\"SaveTool\"},{\"id\":\"2411\",\"type\":\"ResetTool\"},{\"id\":\"2412\",\"type\":\"HelpTool\"}]},\"id\":\"2413\",\"type\":\"Toolbar\"},{\"attributes\":{},\"id\":\"2393\",\"type\":\"LinearScale\"},{\"attributes\":{\"fill_alpha\":{\"value\":0.1},\"fill_color\":{\"value\":\"#1f77b4\"},\"line_alpha\":{\"value\":0.1},\"line_color\":{\"value\":\"#1f77b4\"},\"size\":{\"units\":\"screen\",\"value\":20},\"x\":{\"field\":\"x\"},\"y\":{\"field\":\"y\"}},\"id\":\"2422\",\"type\":\"Circle\"},{\"attributes\":{},\"id\":\"2515\",\"type\":\"BasicTickFormatter\"},{\"attributes\":{},\"id\":\"2395\",\"type\":\"LinearScale\"},{\"attributes\":{\"formatter\":{\"id\":\"2515\",\"type\":\"BasicTickFormatter\"},\"ticker\":{\"id\":\"2398\",\"type\":\"BasicTicker\"}},\"id\":\"2397\",\"type\":\"LinearAxis\"},{\"attributes\":{},\"id\":\"2398\",\"type\":\"BasicTicker\"},{\"attributes\":{\"ticker\":{\"id\":\"2398\",\"type\":\"BasicTicker\"}},\"id\":\"2401\",\"type\":\"Grid\"},{\"attributes\":{},\"id\":\"2517\",\"type\":\"Selection\"},{\"attributes\":{},\"id\":\"2513\",\"type\":\"BasicTickFormatter\"},{\"attributes\":{\"formatter\":{\"id\":\"2513\",\"type\":\"BasicTickFormatter\"},\"ticker\":{\"id\":\"2403\",\"type\":\"BasicTicker\"}},\"id\":\"2402\",\"type\":\"LinearAxis\"}],\"root_ids\":[\"2388\"]},\"title\":\"Bokeh Application\",\"version\":\"1.2.0\"}};\n",
       "  var render_items = [{\"docid\":\"ce6f5001-aa2e-4e51-bfb7-f33d7caf29d2\",\"roots\":{\"2388\":\"b5c06f9f-02c3-4277-9342-fadb54a714eb\"}}];\n",
       "  root.Bokeh.embed.embed_items_notebook(docs_json, render_items);\n",
       "\n",
       "  }\n",
       "  if (root.Bokeh !== undefined) {\n",
       "    embed_document(root);\n",
       "  } else {\n",
       "    var attempts = 0;\n",
       "    var timer = setInterval(function(root) {\n",
       "      if (root.Bokeh !== undefined) {\n",
       "        embed_document(root);\n",
       "        clearInterval(timer);\n",
       "      }\n",
       "      attempts++;\n",
       "      if (attempts > 100) {\n",
       "        console.log(\"Bokeh: ERROR: Unable to run BokehJS code because BokehJS library is missing\");\n",
       "        clearInterval(timer);\n",
       "      }\n",
       "    }, 10, root)\n",
       "  }\n",
       "})(window);"
      ],
      "application/vnd.bokehjs_exec.v0+json": ""
     },
     "metadata": {
      "application/vnd.bokehjs_exec.v0+json": {
       "id": "2388"
      }
     },
     "output_type": "display_data"
    }
   ],
   "source": [
    "p = figure(plot_width=400, plot_height=400)\n",
    "p.circle('x', 'y', size=20, source=source)\n",
    "show(p)"
   ]
  },
  {
   "cell_type": "markdown",
   "metadata": {},
   "source": [
    "## Creating with Pandas DataFrames\n",
    "\n",
    "It's also simple to create `ColumnDataSource` objects directly from Pandas data frames. To do this, just pass the data frame to  `ColumnDataSource` when you create it:"
   ]
  },
  {
   "cell_type": "code",
   "execution_count": 17,
   "metadata": {},
   "outputs": [
    {
     "data": {
      "text/html": [
       "\n",
       "\n",
       "\n",
       "\n",
       "\n",
       "\n",
       "  <div class=\"bk-root\" id=\"95ed0424-8a4b-439a-8e5b-bf8834c4b0dc\" data-root-id=\"2575\"></div>\n"
      ]
     },
     "metadata": {},
     "output_type": "display_data"
    },
    {
     "data": {
      "application/javascript": [
       "(function(root) {\n",
       "  function embed_document(root) {\n",
       "    \n",
       "  var docs_json = {\"c05d332b-b644-4208-9ce4-d3fd33db9651\":{\"roots\":{\"references\":[{\"attributes\":{\"below\":[{\"id\":\"2584\",\"type\":\"LinearAxis\"}],\"center\":[{\"id\":\"2588\",\"type\":\"Grid\"},{\"id\":\"2593\",\"type\":\"Grid\"}],\"left\":[{\"id\":\"2589\",\"type\":\"LinearAxis\"}],\"plot_height\":400,\"plot_width\":400,\"renderers\":[{\"id\":\"2610\",\"type\":\"GlyphRenderer\"}],\"title\":{\"id\":\"2707\",\"type\":\"Title\"},\"toolbar\":{\"id\":\"2600\",\"type\":\"Toolbar\"},\"x_range\":{\"id\":\"2576\",\"type\":\"DataRange1d\"},\"x_scale\":{\"id\":\"2580\",\"type\":\"LinearScale\"},\"y_range\":{\"id\":\"2578\",\"type\":\"DataRange1d\"},\"y_scale\":{\"id\":\"2582\",\"type\":\"LinearScale\"}},\"id\":\"2575\",\"subtype\":\"Figure\",\"type\":\"Plot\"},{\"attributes\":{\"ticker\":{\"id\":\"2585\",\"type\":\"BasicTicker\"}},\"id\":\"2588\",\"type\":\"Grid\"},{\"attributes\":{},\"id\":\"2711\",\"type\":\"BasicTickFormatter\"},{\"attributes\":{\"callback\":null,\"data\":{\"index\":[0,1,2,3,4,5,6,7,8,9,10,11,12,13,14,15,16,17,18,19,20,21,22,23,24,25,26,27,28,29,30,31,32,33,34,35,36,37,38,39,40,41,42,43,44,45,46,47,48,49,50,51,52,53,54,55,56,57,58,59,60,61,62,63,64,65,66,67,68,69,70,71,72,73,74,75,76,77,78,79,80,81,82,83,84,85,86,87,88,89,90,91,92,93,94,95,96,97,98,99,100,101,102,103,104,105,106,107,108,109,110,111,112,113,114,115,116,117,118,119,120,121,122,123,124,125,126,127,128,129,130,131,132,133,134,135,136,137,138,139,140,141,142,143,144,145,146,147,148,149],\"petal_length\":{\"__ndarray__\":\"ZmZmZmZm9j9mZmZmZmb2P83MzMzMzPQ/AAAAAAAA+D9mZmZmZmb2PzMzMzMzM/s/ZmZmZmZm9j8AAAAAAAD4P2ZmZmZmZvY/AAAAAAAA+D8AAAAAAAD4P5qZmZmZmfk/ZmZmZmZm9j+amZmZmZnxPzMzMzMzM/M/AAAAAAAA+D/NzMzMzMz0P2ZmZmZmZvY/MzMzMzMz+z8AAAAAAAD4PzMzMzMzM/s/AAAAAAAA+D8AAAAAAADwPzMzMzMzM/s/ZmZmZmZm/j+amZmZmZn5P5qZmZmZmfk/AAAAAAAA+D9mZmZmZmb2P5qZmZmZmfk/mpmZmZmZ+T8AAAAAAAD4PwAAAAAAAPg/ZmZmZmZm9j8AAAAAAAD4PzMzMzMzM/M/zczMzMzM9D9mZmZmZmb2P83MzMzMzPQ/AAAAAAAA+D/NzMzMzMz0P83MzMzMzPQ/zczMzMzM9D+amZmZmZn5P2ZmZmZmZv4/ZmZmZmZm9j+amZmZmZn5P2ZmZmZmZvY/AAAAAAAA+D9mZmZmZmb2P83MzMzMzBJAAAAAAAAAEkCamZmZmZkTQAAAAAAAABBAZmZmZmZmEkAAAAAAAAASQM3MzMzMzBJAZmZmZmZmCkBmZmZmZmYSQDMzMzMzMw9AAAAAAAAADEDNzMzMzMwQQAAAAAAAABBAzczMzMzMEkDNzMzMzMwMQJqZmZmZmRFAAAAAAAAAEkBmZmZmZmYQQAAAAAAAABJAMzMzMzMzD0AzMzMzMzMTQAAAAAAAABBAmpmZmZmZE0DNzMzMzMwSQDMzMzMzMxFAmpmZmZmZEUAzMzMzMzMTQAAAAAAAABRAAAAAAAAAEkAAAAAAAAAMQGZmZmZmZg5AmpmZmZmZDUAzMzMzMzMPQGZmZmZmZhRAAAAAAAAAEkAAAAAAAAASQM3MzMzMzBJAmpmZmZmZEUBmZmZmZmYQQAAAAAAAABBAmpmZmZmZEUBmZmZmZmYSQAAAAAAAABBAZmZmZmZmCkDNzMzMzMwQQM3MzMzMzBBAzczMzMzMEEAzMzMzMzMRQAAAAAAAAAhAZmZmZmZmEEAAAAAAAAAYQGZmZmZmZhRAmpmZmZmZF0BmZmZmZmYWQDMzMzMzMxdAZmZmZmZmGkAAAAAAAAASQDMzMzMzMxlAMzMzMzMzF0BmZmZmZmYYQGZmZmZmZhRAMzMzMzMzFUAAAAAAAAAWQAAAAAAAABRAZmZmZmZmFEAzMzMzMzMVQAAAAAAAABZAzczMzMzMGkCamZmZmZkbQAAAAAAAABRAzczMzMzMFkCamZmZmZkTQM3MzMzMzBpAmpmZmZmZE0DNzMzMzMwWQAAAAAAAABhAMzMzMzMzE0CamZmZmZkTQGZmZmZmZhZAMzMzMzMzF0BmZmZmZmYYQJqZmZmZmRlAZmZmZmZmFkBmZmZmZmYUQGZmZmZmZhZAZmZmZmZmGEBmZmZmZmYWQAAAAAAAABZAMzMzMzMzE0CamZmZmZkVQGZmZmZmZhZAZmZmZmZmFEBmZmZmZmYUQJqZmZmZmRdAzczMzMzMFkDNzMzMzMwUQAAAAAAAABRAzczMzMzMFECamZmZmZkVQGZmZmZmZhRA\",\"dtype\":\"float64\",\"shape\":[150]},\"petal_width\":{\"__ndarray__\":\"mpmZmZmZyT+amZmZmZnJP5qZmZmZmck/mpmZmZmZyT+amZmZmZnJP5qZmZmZmdk/MzMzMzMz0z+amZmZmZnJP5qZmZmZmck/mpmZmZmZuT+amZmZmZnJP5qZmZmZmck/mpmZmZmZuT+amZmZmZm5P5qZmZmZmck/mpmZmZmZ2T+amZmZmZnZPzMzMzMzM9M/MzMzMzMz0z8zMzMzMzPTP5qZmZmZmck/mpmZmZmZ2T+amZmZmZnJPwAAAAAAAOA/mpmZmZmZyT+amZmZmZnJP5qZmZmZmdk/mpmZmZmZyT+amZmZmZnJP5qZmZmZmck/mpmZmZmZyT+amZmZmZnZP5qZmZmZmbk/mpmZmZmZyT+amZmZmZnJP5qZmZmZmck/mpmZmZmZyT+amZmZmZm5P5qZmZmZmck/mpmZmZmZyT8zMzMzMzPTPzMzMzMzM9M/mpmZmZmZyT8zMzMzMzPjP5qZmZmZmdk/MzMzMzMz0z+amZmZmZnJP5qZmZmZmck/mpmZmZmZyT+amZmZmZnJP2ZmZmZmZvY/AAAAAAAA+D8AAAAAAAD4P83MzMzMzPQ/AAAAAAAA+D/NzMzMzMz0P5qZmZmZmfk/AAAAAAAA8D/NzMzMzMz0P2ZmZmZmZvY/AAAAAAAA8D8AAAAAAAD4PwAAAAAAAPA/ZmZmZmZm9j/NzMzMzMz0P2ZmZmZmZvY/AAAAAAAA+D8AAAAAAADwPwAAAAAAAPg/mpmZmZmZ8T/NzMzMzMz8P83MzMzMzPQ/AAAAAAAA+D8zMzMzMzPzP83MzMzMzPQ/ZmZmZmZm9j9mZmZmZmb2PzMzMzMzM/s/AAAAAAAA+D8AAAAAAADwP5qZmZmZmfE/AAAAAAAA8D8zMzMzMzPzP5qZmZmZmfk/AAAAAAAA+D+amZmZmZn5PwAAAAAAAPg/zczMzMzM9D/NzMzMzMz0P83MzMzMzPQ/MzMzMzMz8z9mZmZmZmb2PzMzMzMzM/M/AAAAAAAA8D/NzMzMzMz0PzMzMzMzM/M/zczMzMzM9D/NzMzMzMz0P5qZmZmZmfE/zczMzMzM9D8AAAAAAAAEQGZmZmZmZv4/zczMzMzMAEDNzMzMzMz8P5qZmZmZmQFAzczMzMzMAEAzMzMzMzP7P83MzMzMzPw/zczMzMzM/D8AAAAAAAAEQAAAAAAAAABAZmZmZmZm/j/NzMzMzMwAQAAAAAAAAABAMzMzMzMzA0BmZmZmZmYCQM3MzMzMzPw/mpmZmZmZAUBmZmZmZmYCQAAAAAAAAPg/ZmZmZmZmAkAAAAAAAAAAQAAAAAAAAABAzczMzMzM/D/NzMzMzMwAQM3MzMzMzPw/zczMzMzM/D/NzMzMzMz8P83MzMzMzABAmpmZmZmZ+T9mZmZmZmb+PwAAAAAAAABAmpmZmZmZAUAAAAAAAAD4P2ZmZmZmZvY/ZmZmZmZmAkAzMzMzMzMDQM3MzMzMzPw/zczMzMzM/D/NzMzMzMwAQDMzMzMzMwNAZmZmZmZmAkBmZmZmZmb+P2ZmZmZmZgJAAAAAAAAABEBmZmZmZmYCQGZmZmZmZv4/AAAAAAAAAEBmZmZmZmYCQM3MzMzMzPw/\",\"dtype\":\"float64\",\"shape\":[150]},\"sepal_length\":{\"__ndarray__\":\"ZmZmZmZmFECamZmZmZkTQM3MzMzMzBJAZmZmZmZmEkAAAAAAAAAUQJqZmZmZmRVAZmZmZmZmEkAAAAAAAAAUQJqZmZmZmRFAmpmZmZmZE0CamZmZmZkVQDMzMzMzMxNAMzMzMzMzE0AzMzMzMzMRQDMzMzMzMxdAzczMzMzMFkCamZmZmZkVQGZmZmZmZhRAzczMzMzMFkBmZmZmZmYUQJqZmZmZmRVAZmZmZmZmFEBmZmZmZmYSQGZmZmZmZhRAMzMzMzMzE0AAAAAAAAAUQAAAAAAAABRAzczMzMzMFEDNzMzMzMwUQM3MzMzMzBJAMzMzMzMzE0CamZmZmZkVQM3MzMzMzBRAAAAAAAAAFkCamZmZmZkTQAAAAAAAABRAAAAAAAAAFkCamZmZmZkTQJqZmZmZmRFAZmZmZmZmFEAAAAAAAAAUQAAAAAAAABJAmpmZmZmZEUAAAAAAAAAUQGZmZmZmZhRAMzMzMzMzE0BmZmZmZmYUQGZmZmZmZhJAMzMzMzMzFUAAAAAAAAAUQAAAAAAAABxAmpmZmZmZGUCamZmZmZkbQAAAAAAAABZAAAAAAAAAGkDNzMzMzMwWQDMzMzMzMxlAmpmZmZmZE0BmZmZmZmYaQM3MzMzMzBRAAAAAAAAAFECamZmZmZkXQAAAAAAAABhAZmZmZmZmGEBmZmZmZmYWQM3MzMzMzBpAZmZmZmZmFkAzMzMzMzMXQM3MzMzMzBhAZmZmZmZmFkCamZmZmZkXQGZmZmZmZhhAMzMzMzMzGUBmZmZmZmYYQJqZmZmZmRlAZmZmZmZmGkAzMzMzMzMbQM3MzMzMzBpAAAAAAAAAGEDNzMzMzMwWQAAAAAAAABZAAAAAAAAAFkAzMzMzMzMXQAAAAAAAABhAmpmZmZmZFUAAAAAAAAAYQM3MzMzMzBpAMzMzMzMzGUBmZmZmZmYWQAAAAAAAABZAAAAAAAAAFkBmZmZmZmYYQDMzMzMzMxdAAAAAAAAAFEBmZmZmZmYWQM3MzMzMzBZAzczMzMzMFkDNzMzMzMwYQGZmZmZmZhRAzczMzMzMFkAzMzMzMzMZQDMzMzMzMxdAZmZmZmZmHEAzMzMzMzMZQAAAAAAAABpAZmZmZmZmHkCamZmZmZkTQDMzMzMzMx1AzczMzMzMGkDNzMzMzMwcQAAAAAAAABpAmpmZmZmZGUAzMzMzMzMbQM3MzMzMzBZAMzMzMzMzF0CamZmZmZkZQAAAAAAAABpAzczMzMzMHkDNzMzMzMweQAAAAAAAABhAmpmZmZmZG0BmZmZmZmYWQM3MzMzMzB5AMzMzMzMzGUDNzMzMzMwaQM3MzMzMzBxAzczMzMzMGEBmZmZmZmYYQJqZmZmZmRlAzczMzMzMHECamZmZmZkdQJqZmZmZmR9AmpmZmZmZGUAzMzMzMzMZQGZmZmZmZhhAzczMzMzMHkAzMzMzMzMZQJqZmZmZmRlAAAAAAAAAGECamZmZmZkbQM3MzMzMzBpAmpmZmZmZG0AzMzMzMzMXQDMzMzMzMxtAzczMzMzMGkDNzMzMzMwaQDMzMzMzMxlAAAAAAAAAGkDNzMzMzMwYQJqZmZmZmRdA\",\"dtype\":\"float64\",\"shape\":[150]},\"sepal_width\":{\"__ndarray__\":\"AAAAAAAADEAAAAAAAAAIQJqZmZmZmQlAzczMzMzMCEDNzMzMzMwMQDMzMzMzMw9AMzMzMzMzC0AzMzMzMzMLQDMzMzMzMwdAzczMzMzMCECamZmZmZkNQDMzMzMzMwtAAAAAAAAACEAAAAAAAAAIQAAAAAAAABBAmpmZmZmZEUAzMzMzMzMPQAAAAAAAAAxAZmZmZmZmDkBmZmZmZmYOQDMzMzMzMwtAmpmZmZmZDUDNzMzMzMwMQGZmZmZmZgpAMzMzMzMzC0AAAAAAAAAIQDMzMzMzMwtAAAAAAAAADEAzMzMzMzMLQJqZmZmZmQlAzczMzMzMCEAzMzMzMzMLQGZmZmZmZhBAzczMzMzMEEDNzMzMzMwIQJqZmZmZmQlAAAAAAAAADEDNzMzMzMwMQAAAAAAAAAhAMzMzMzMzC0AAAAAAAAAMQGZmZmZmZgJAmpmZmZmZCUAAAAAAAAAMQGZmZmZmZg5AAAAAAAAACEBmZmZmZmYOQJqZmZmZmQlAmpmZmZmZDUBmZmZmZmYKQJqZmZmZmQlAmpmZmZmZCUDNzMzMzMwIQGZmZmZmZgJAZmZmZmZmBkBmZmZmZmYGQGZmZmZmZgpAMzMzMzMzA0AzMzMzMzMHQJqZmZmZmQVAAAAAAAAAAEAAAAAAAAAIQJqZmZmZmQFAMzMzMzMzB0AzMzMzMzMHQM3MzMzMzAhAAAAAAAAACECamZmZmZkFQJqZmZmZmQFAAAAAAAAABECamZmZmZkJQGZmZmZmZgZAAAAAAAAABEBmZmZmZmYGQDMzMzMzMwdAAAAAAAAACEBmZmZmZmYGQAAAAAAAAAhAMzMzMzMzB0DNzMzMzMwEQDMzMzMzMwNAMzMzMzMzA0CamZmZmZkFQJqZmZmZmQVAAAAAAAAACEAzMzMzMzMLQM3MzMzMzAhAZmZmZmZmAkAAAAAAAAAIQAAAAAAAAARAzczMzMzMBEAAAAAAAAAIQM3MzMzMzARAZmZmZmZmAkCamZmZmZkFQAAAAAAAAAhAMzMzMzMzB0AzMzMzMzMHQAAAAAAAAARAZmZmZmZmBkBmZmZmZmYKQJqZmZmZmQVAAAAAAAAACEAzMzMzMzMHQAAAAAAAAAhAAAAAAAAACEAAAAAAAAAEQDMzMzMzMwdAAAAAAAAABEDNzMzMzMwMQJqZmZmZmQlAmpmZmZmZBUAAAAAAAAAIQAAAAAAAAARAZmZmZmZmBkCamZmZmZkJQAAAAAAAAAhAZmZmZmZmDkDNzMzMzMwEQJqZmZmZmQFAmpmZmZmZCUBmZmZmZmYGQGZmZmZmZgZAmpmZmZmZBUBmZmZmZmYKQJqZmZmZmQlAZmZmZmZmBkAAAAAAAAAIQGZmZmZmZgZAAAAAAAAACEBmZmZmZmYGQGZmZmZmZg5AZmZmZmZmBkBmZmZmZmYGQM3MzMzMzARAAAAAAAAACEAzMzMzMzMLQM3MzMzMzAhAAAAAAAAACEDNzMzMzMwIQM3MzMzMzAhAzczMzMzMCECamZmZmZkFQJqZmZmZmQlAZmZmZmZmCkAAAAAAAAAIQAAAAAAAAARAAAAAAAAACEAzMzMzMzMLQAAAAAAAAAhA\",\"dtype\":\"float64\",\"shape\":[150]},\"species\":[\"setosa\",\"setosa\",\"setosa\",\"setosa\",\"setosa\",\"setosa\",\"setosa\",\"setosa\",\"setosa\",\"setosa\",\"setosa\",\"setosa\",\"setosa\",\"setosa\",\"setosa\",\"setosa\",\"setosa\",\"setosa\",\"setosa\",\"setosa\",\"setosa\",\"setosa\",\"setosa\",\"setosa\",\"setosa\",\"setosa\",\"setosa\",\"setosa\",\"setosa\",\"setosa\",\"setosa\",\"setosa\",\"setosa\",\"setosa\",\"setosa\",\"setosa\",\"setosa\",\"setosa\",\"setosa\",\"setosa\",\"setosa\",\"setosa\",\"setosa\",\"setosa\",\"setosa\",\"setosa\",\"setosa\",\"setosa\",\"setosa\",\"setosa\",\"versicolor\",\"versicolor\",\"versicolor\",\"versicolor\",\"versicolor\",\"versicolor\",\"versicolor\",\"versicolor\",\"versicolor\",\"versicolor\",\"versicolor\",\"versicolor\",\"versicolor\",\"versicolor\",\"versicolor\",\"versicolor\",\"versicolor\",\"versicolor\",\"versicolor\",\"versicolor\",\"versicolor\",\"versicolor\",\"versicolor\",\"versicolor\",\"versicolor\",\"versicolor\",\"versicolor\",\"versicolor\",\"versicolor\",\"versicolor\",\"versicolor\",\"versicolor\",\"versicolor\",\"versicolor\",\"versicolor\",\"versicolor\",\"versicolor\",\"versicolor\",\"versicolor\",\"versicolor\",\"versicolor\",\"versicolor\",\"versicolor\",\"versicolor\",\"versicolor\",\"versicolor\",\"versicolor\",\"versicolor\",\"versicolor\",\"versicolor\",\"virginica\",\"virginica\",\"virginica\",\"virginica\",\"virginica\",\"virginica\",\"virginica\",\"virginica\",\"virginica\",\"virginica\",\"virginica\",\"virginica\",\"virginica\",\"virginica\",\"virginica\",\"virginica\",\"virginica\",\"virginica\",\"virginica\",\"virginica\",\"virginica\",\"virginica\",\"virginica\",\"virginica\",\"virginica\",\"virginica\",\"virginica\",\"virginica\",\"virginica\",\"virginica\",\"virginica\",\"virginica\",\"virginica\",\"virginica\",\"virginica\",\"virginica\",\"virginica\",\"virginica\",\"virginica\",\"virginica\",\"virginica\",\"virginica\",\"virginica\",\"virginica\",\"virginica\",\"virginica\",\"virginica\",\"virginica\",\"virginica\",\"virginica\"]},\"selected\":{\"id\":\"2713\",\"type\":\"Selection\"},\"selection_policy\":{\"id\":\"2714\",\"type\":\"UnionRenderers\"}},\"id\":\"2574\",\"type\":\"ColumnDataSource\"},{\"attributes\":{},\"id\":\"2713\",\"type\":\"Selection\"},{\"attributes\":{\"formatter\":{\"id\":\"2709\",\"type\":\"BasicTickFormatter\"},\"ticker\":{\"id\":\"2590\",\"type\":\"BasicTicker\"}},\"id\":\"2589\",\"type\":\"LinearAxis\"},{\"attributes\":{},\"id\":\"2580\",\"type\":\"LinearScale\"},{\"attributes\":{},\"id\":\"2714\",\"type\":\"UnionRenderers\"},{\"attributes\":{},\"id\":\"2590\",\"type\":\"BasicTicker\"},{\"attributes\":{\"bottom_units\":\"screen\",\"fill_alpha\":{\"value\":0.5},\"fill_color\":{\"value\":\"lightgrey\"},\"left_units\":\"screen\",\"level\":\"overlay\",\"line_alpha\":{\"value\":1.0},\"line_color\":{\"value\":\"black\"},\"line_dash\":[4,4],\"line_width\":{\"value\":2},\"render_mode\":\"css\",\"right_units\":\"screen\",\"top_units\":\"screen\"},\"id\":\"2715\",\"type\":\"BoxAnnotation\"},{\"attributes\":{\"dimension\":1,\"ticker\":{\"id\":\"2590\",\"type\":\"BasicTicker\"}},\"id\":\"2593\",\"type\":\"Grid\"},{\"attributes\":{\"fill_alpha\":{\"value\":0.1},\"fill_color\":{\"value\":\"#1f77b4\"},\"line_alpha\":{\"value\":0.1},\"line_color\":{\"value\":\"#1f77b4\"},\"x\":{\"field\":\"petal_length\"},\"y\":{\"field\":\"petal_width\"}},\"id\":\"2609\",\"type\":\"Circle\"},{\"attributes\":{\"text\":\"\"},\"id\":\"2707\",\"type\":\"Title\"},{\"attributes\":{\"fill_color\":{\"value\":\"#1f77b4\"},\"line_color\":{\"value\":\"#1f77b4\"},\"x\":{\"field\":\"petal_length\"},\"y\":{\"field\":\"petal_width\"}},\"id\":\"2608\",\"type\":\"Circle\"},{\"attributes\":{\"data_source\":{\"id\":\"2574\",\"type\":\"ColumnDataSource\"},\"glyph\":{\"id\":\"2608\",\"type\":\"Circle\"},\"hover_glyph\":null,\"muted_glyph\":null,\"nonselection_glyph\":{\"id\":\"2609\",\"type\":\"Circle\"},\"selection_glyph\":null,\"view\":{\"id\":\"2611\",\"type\":\"CDSView\"}},\"id\":\"2610\",\"type\":\"GlyphRenderer\"},{\"attributes\":{},\"id\":\"2594\",\"type\":\"PanTool\"},{\"attributes\":{\"callback\":null},\"id\":\"2578\",\"type\":\"DataRange1d\"},{\"attributes\":{},\"id\":\"2595\",\"type\":\"WheelZoomTool\"},{\"attributes\":{},\"id\":\"2582\",\"type\":\"LinearScale\"},{\"attributes\":{\"overlay\":{\"id\":\"2715\",\"type\":\"BoxAnnotation\"}},\"id\":\"2596\",\"type\":\"BoxZoomTool\"},{\"attributes\":{},\"id\":\"2597\",\"type\":\"SaveTool\"},{\"attributes\":{},\"id\":\"2598\",\"type\":\"ResetTool\"},{\"attributes\":{},\"id\":\"2599\",\"type\":\"HelpTool\"},{\"attributes\":{},\"id\":\"2585\",\"type\":\"BasicTicker\"},{\"attributes\":{\"active_drag\":\"auto\",\"active_inspect\":\"auto\",\"active_multi\":null,\"active_scroll\":\"auto\",\"active_tap\":\"auto\",\"tools\":[{\"id\":\"2594\",\"type\":\"PanTool\"},{\"id\":\"2595\",\"type\":\"WheelZoomTool\"},{\"id\":\"2596\",\"type\":\"BoxZoomTool\"},{\"id\":\"2597\",\"type\":\"SaveTool\"},{\"id\":\"2598\",\"type\":\"ResetTool\"},{\"id\":\"2599\",\"type\":\"HelpTool\"}]},\"id\":\"2600\",\"type\":\"Toolbar\"},{\"attributes\":{\"formatter\":{\"id\":\"2711\",\"type\":\"BasicTickFormatter\"},\"ticker\":{\"id\":\"2585\",\"type\":\"BasicTicker\"}},\"id\":\"2584\",\"type\":\"LinearAxis\"},{\"attributes\":{\"source\":{\"id\":\"2574\",\"type\":\"ColumnDataSource\"}},\"id\":\"2611\",\"type\":\"CDSView\"},{\"attributes\":{\"callback\":null},\"id\":\"2576\",\"type\":\"DataRange1d\"},{\"attributes\":{},\"id\":\"2709\",\"type\":\"BasicTickFormatter\"}],\"root_ids\":[\"2575\"]},\"title\":\"Bokeh Application\",\"version\":\"1.2.0\"}};\n",
       "  var render_items = [{\"docid\":\"c05d332b-b644-4208-9ce4-d3fd33db9651\",\"roots\":{\"2575\":\"95ed0424-8a4b-439a-8e5b-bf8834c4b0dc\"}}];\n",
       "  root.Bokeh.embed.embed_items_notebook(docs_json, render_items);\n",
       "\n",
       "  }\n",
       "  if (root.Bokeh !== undefined) {\n",
       "    embed_document(root);\n",
       "  } else {\n",
       "    var attempts = 0;\n",
       "    var timer = setInterval(function(root) {\n",
       "      if (root.Bokeh !== undefined) {\n",
       "        embed_document(root);\n",
       "        clearInterval(timer);\n",
       "      }\n",
       "      attempts++;\n",
       "      if (attempts > 100) {\n",
       "        console.log(\"Bokeh: ERROR: Unable to run BokehJS code because BokehJS library is missing\");\n",
       "        clearInterval(timer);\n",
       "      }\n",
       "    }, 10, root)\n",
       "  }\n",
       "})(window);"
      ],
      "application/vnd.bokehjs_exec.v0+json": ""
     },
     "metadata": {
      "application/vnd.bokehjs_exec.v0+json": {
       "id": "2575"
      }
     },
     "output_type": "display_data"
    }
   ],
   "source": [
    "from bokeh.sampledata.iris import flowers as df\n",
    "\n",
    "source = ColumnDataSource(df)\n",
    "\n",
    "p = figure(plot_width=400, plot_height=400)\n",
    "p.circle('petal_length', 'petal_width', source=source)\n",
    "show(p)"
   ]
  },
  {
   "cell_type": "markdown",
   "metadata": {},
   "source": [
    "## Automatic Conversion\n",
    "\n",
    "If you do not need to share data sources, it may be convenient to pass dicts, Pandas `DataFrame` or `GroupBy` objects directly to glhyph methods, without explicitly creating a `ColumnDataSource`. In this case, a `ColumnDataSource` will be created automatically."
   ]
  },
  {
   "cell_type": "code",
   "execution_count": 18,
   "metadata": {},
   "outputs": [
    {
     "data": {
      "text/html": [
       "\n",
       "\n",
       "\n",
       "\n",
       "\n",
       "\n",
       "  <div class=\"bk-root\" id=\"535ff8ca-4fbc-4acb-94b5-135120790316\" data-root-id=\"2770\"></div>\n"
      ]
     },
     "metadata": {},
     "output_type": "display_data"
    },
    {
     "data": {
      "application/javascript": [
       "(function(root) {\n",
       "  function embed_document(root) {\n",
       "    \n",
       "  var docs_json = {\"f046f758-470d-4fb0-9bdb-3030847d5cfa\":{\"roots\":{\"references\":[{\"attributes\":{\"below\":[{\"id\":\"2779\",\"type\":\"LinearAxis\"}],\"center\":[{\"id\":\"2783\",\"type\":\"Grid\"},{\"id\":\"2788\",\"type\":\"Grid\"}],\"left\":[{\"id\":\"2784\",\"type\":\"LinearAxis\"}],\"plot_height\":400,\"plot_width\":400,\"renderers\":[{\"id\":\"2806\",\"type\":\"GlyphRenderer\"}],\"title\":{\"id\":\"2912\",\"type\":\"Title\"},\"toolbar\":{\"id\":\"2795\",\"type\":\"Toolbar\"},\"x_range\":{\"id\":\"2771\",\"type\":\"DataRange1d\"},\"x_scale\":{\"id\":\"2775\",\"type\":\"LinearScale\"},\"y_range\":{\"id\":\"2773\",\"type\":\"DataRange1d\"},\"y_scale\":{\"id\":\"2777\",\"type\":\"LinearScale\"}},\"id\":\"2770\",\"subtype\":\"Figure\",\"type\":\"Plot\"},{\"attributes\":{\"bottom_units\":\"screen\",\"fill_alpha\":{\"value\":0.5},\"fill_color\":{\"value\":\"lightgrey\"},\"left_units\":\"screen\",\"level\":\"overlay\",\"line_alpha\":{\"value\":1.0},\"line_color\":{\"value\":\"black\"},\"line_dash\":[4,4],\"line_width\":{\"value\":2},\"render_mode\":\"css\",\"right_units\":\"screen\",\"top_units\":\"screen\"},\"id\":\"2920\",\"type\":\"BoxAnnotation\"},{\"attributes\":{},\"id\":\"2916\",\"type\":\"BasicTickFormatter\"},{\"attributes\":{\"callback\":null,\"data\":{\"index\":[0,1,2,3,4,5,6,7,8,9,10,11,12,13,14,15,16,17,18,19,20,21,22,23,24,25,26,27,28,29,30,31,32,33,34,35,36,37,38,39,40,41,42,43,44,45,46,47,48,49,50,51,52,53,54,55,56,57,58,59,60,61,62,63,64,65,66,67,68,69,70,71,72,73,74,75,76,77,78,79,80,81,82,83,84,85,86,87,88,89,90,91,92,93,94,95,96,97,98,99,100,101,102,103,104,105,106,107,108,109,110,111,112,113,114,115,116,117,118,119,120,121,122,123,124,125,126,127,128,129,130,131,132,133,134,135,136,137,138,139,140,141,142,143,144,145,146,147,148,149],\"petal_length\":{\"__ndarray__\":\"ZmZmZmZm9j9mZmZmZmb2P83MzMzMzPQ/AAAAAAAA+D9mZmZmZmb2PzMzMzMzM/s/ZmZmZmZm9j8AAAAAAAD4P2ZmZmZmZvY/AAAAAAAA+D8AAAAAAAD4P5qZmZmZmfk/ZmZmZmZm9j+amZmZmZnxPzMzMzMzM/M/AAAAAAAA+D/NzMzMzMz0P2ZmZmZmZvY/MzMzMzMz+z8AAAAAAAD4PzMzMzMzM/s/AAAAAAAA+D8AAAAAAADwPzMzMzMzM/s/ZmZmZmZm/j+amZmZmZn5P5qZmZmZmfk/AAAAAAAA+D9mZmZmZmb2P5qZmZmZmfk/mpmZmZmZ+T8AAAAAAAD4PwAAAAAAAPg/ZmZmZmZm9j8AAAAAAAD4PzMzMzMzM/M/zczMzMzM9D9mZmZmZmb2P83MzMzMzPQ/AAAAAAAA+D/NzMzMzMz0P83MzMzMzPQ/zczMzMzM9D+amZmZmZn5P2ZmZmZmZv4/ZmZmZmZm9j+amZmZmZn5P2ZmZmZmZvY/AAAAAAAA+D9mZmZmZmb2P83MzMzMzBJAAAAAAAAAEkCamZmZmZkTQAAAAAAAABBAZmZmZmZmEkAAAAAAAAASQM3MzMzMzBJAZmZmZmZmCkBmZmZmZmYSQDMzMzMzMw9AAAAAAAAADEDNzMzMzMwQQAAAAAAAABBAzczMzMzMEkDNzMzMzMwMQJqZmZmZmRFAAAAAAAAAEkBmZmZmZmYQQAAAAAAAABJAMzMzMzMzD0AzMzMzMzMTQAAAAAAAABBAmpmZmZmZE0DNzMzMzMwSQDMzMzMzMxFAmpmZmZmZEUAzMzMzMzMTQAAAAAAAABRAAAAAAAAAEkAAAAAAAAAMQGZmZmZmZg5AmpmZmZmZDUAzMzMzMzMPQGZmZmZmZhRAAAAAAAAAEkAAAAAAAAASQM3MzMzMzBJAmpmZmZmZEUBmZmZmZmYQQAAAAAAAABBAmpmZmZmZEUBmZmZmZmYSQAAAAAAAABBAZmZmZmZmCkDNzMzMzMwQQM3MzMzMzBBAzczMzMzMEEAzMzMzMzMRQAAAAAAAAAhAZmZmZmZmEEAAAAAAAAAYQGZmZmZmZhRAmpmZmZmZF0BmZmZmZmYWQDMzMzMzMxdAZmZmZmZmGkAAAAAAAAASQDMzMzMzMxlAMzMzMzMzF0BmZmZmZmYYQGZmZmZmZhRAMzMzMzMzFUAAAAAAAAAWQAAAAAAAABRAZmZmZmZmFEAzMzMzMzMVQAAAAAAAABZAzczMzMzMGkCamZmZmZkbQAAAAAAAABRAzczMzMzMFkCamZmZmZkTQM3MzMzMzBpAmpmZmZmZE0DNzMzMzMwWQAAAAAAAABhAMzMzMzMzE0CamZmZmZkTQGZmZmZmZhZAMzMzMzMzF0BmZmZmZmYYQJqZmZmZmRlAZmZmZmZmFkBmZmZmZmYUQGZmZmZmZhZAZmZmZmZmGEBmZmZmZmYWQAAAAAAAABZAMzMzMzMzE0CamZmZmZkVQGZmZmZmZhZAZmZmZmZmFEBmZmZmZmYUQJqZmZmZmRdAzczMzMzMFkDNzMzMzMwUQAAAAAAAABRAzczMzMzMFECamZmZmZkVQGZmZmZmZhRA\",\"dtype\":\"float64\",\"shape\":[150]},\"petal_width\":{\"__ndarray__\":\"mpmZmZmZyT+amZmZmZnJP5qZmZmZmck/mpmZmZmZyT+amZmZmZnJP5qZmZmZmdk/MzMzMzMz0z+amZmZmZnJP5qZmZmZmck/mpmZmZmZuT+amZmZmZnJP5qZmZmZmck/mpmZmZmZuT+amZmZmZm5P5qZmZmZmck/mpmZmZmZ2T+amZmZmZnZPzMzMzMzM9M/MzMzMzMz0z8zMzMzMzPTP5qZmZmZmck/mpmZmZmZ2T+amZmZmZnJPwAAAAAAAOA/mpmZmZmZyT+amZmZmZnJP5qZmZmZmdk/mpmZmZmZyT+amZmZmZnJP5qZmZmZmck/mpmZmZmZyT+amZmZmZnZP5qZmZmZmbk/mpmZmZmZyT+amZmZmZnJP5qZmZmZmck/mpmZmZmZyT+amZmZmZm5P5qZmZmZmck/mpmZmZmZyT8zMzMzMzPTPzMzMzMzM9M/mpmZmZmZyT8zMzMzMzPjP5qZmZmZmdk/MzMzMzMz0z+amZmZmZnJP5qZmZmZmck/mpmZmZmZyT+amZmZmZnJP2ZmZmZmZvY/AAAAAAAA+D8AAAAAAAD4P83MzMzMzPQ/AAAAAAAA+D/NzMzMzMz0P5qZmZmZmfk/AAAAAAAA8D/NzMzMzMz0P2ZmZmZmZvY/AAAAAAAA8D8AAAAAAAD4PwAAAAAAAPA/ZmZmZmZm9j/NzMzMzMz0P2ZmZmZmZvY/AAAAAAAA+D8AAAAAAADwPwAAAAAAAPg/mpmZmZmZ8T/NzMzMzMz8P83MzMzMzPQ/AAAAAAAA+D8zMzMzMzPzP83MzMzMzPQ/ZmZmZmZm9j9mZmZmZmb2PzMzMzMzM/s/AAAAAAAA+D8AAAAAAADwP5qZmZmZmfE/AAAAAAAA8D8zMzMzMzPzP5qZmZmZmfk/AAAAAAAA+D+amZmZmZn5PwAAAAAAAPg/zczMzMzM9D/NzMzMzMz0P83MzMzMzPQ/MzMzMzMz8z9mZmZmZmb2PzMzMzMzM/M/AAAAAAAA8D/NzMzMzMz0PzMzMzMzM/M/zczMzMzM9D/NzMzMzMz0P5qZmZmZmfE/zczMzMzM9D8AAAAAAAAEQGZmZmZmZv4/zczMzMzMAEDNzMzMzMz8P5qZmZmZmQFAzczMzMzMAEAzMzMzMzP7P83MzMzMzPw/zczMzMzM/D8AAAAAAAAEQAAAAAAAAABAZmZmZmZm/j/NzMzMzMwAQAAAAAAAAABAMzMzMzMzA0BmZmZmZmYCQM3MzMzMzPw/mpmZmZmZAUBmZmZmZmYCQAAAAAAAAPg/ZmZmZmZmAkAAAAAAAAAAQAAAAAAAAABAzczMzMzM/D/NzMzMzMwAQM3MzMzMzPw/zczMzMzM/D/NzMzMzMz8P83MzMzMzABAmpmZmZmZ+T9mZmZmZmb+PwAAAAAAAABAmpmZmZmZAUAAAAAAAAD4P2ZmZmZmZvY/ZmZmZmZmAkAzMzMzMzMDQM3MzMzMzPw/zczMzMzM/D/NzMzMzMwAQDMzMzMzMwNAZmZmZmZmAkBmZmZmZmb+P2ZmZmZmZgJAAAAAAAAABEBmZmZmZmYCQGZmZmZmZv4/AAAAAAAAAEBmZmZmZmYCQM3MzMzMzPw/\",\"dtype\":\"float64\",\"shape\":[150]},\"sepal_length\":{\"__ndarray__\":\"ZmZmZmZmFECamZmZmZkTQM3MzMzMzBJAZmZmZmZmEkAAAAAAAAAUQJqZmZmZmRVAZmZmZmZmEkAAAAAAAAAUQJqZmZmZmRFAmpmZmZmZE0CamZmZmZkVQDMzMzMzMxNAMzMzMzMzE0AzMzMzMzMRQDMzMzMzMxdAzczMzMzMFkCamZmZmZkVQGZmZmZmZhRAzczMzMzMFkBmZmZmZmYUQJqZmZmZmRVAZmZmZmZmFEBmZmZmZmYSQGZmZmZmZhRAMzMzMzMzE0AAAAAAAAAUQAAAAAAAABRAzczMzMzMFEDNzMzMzMwUQM3MzMzMzBJAMzMzMzMzE0CamZmZmZkVQM3MzMzMzBRAAAAAAAAAFkCamZmZmZkTQAAAAAAAABRAAAAAAAAAFkCamZmZmZkTQJqZmZmZmRFAZmZmZmZmFEAAAAAAAAAUQAAAAAAAABJAmpmZmZmZEUAAAAAAAAAUQGZmZmZmZhRAMzMzMzMzE0BmZmZmZmYUQGZmZmZmZhJAMzMzMzMzFUAAAAAAAAAUQAAAAAAAABxAmpmZmZmZGUCamZmZmZkbQAAAAAAAABZAAAAAAAAAGkDNzMzMzMwWQDMzMzMzMxlAmpmZmZmZE0BmZmZmZmYaQM3MzMzMzBRAAAAAAAAAFECamZmZmZkXQAAAAAAAABhAZmZmZmZmGEBmZmZmZmYWQM3MzMzMzBpAZmZmZmZmFkAzMzMzMzMXQM3MzMzMzBhAZmZmZmZmFkCamZmZmZkXQGZmZmZmZhhAMzMzMzMzGUBmZmZmZmYYQJqZmZmZmRlAZmZmZmZmGkAzMzMzMzMbQM3MzMzMzBpAAAAAAAAAGEDNzMzMzMwWQAAAAAAAABZAAAAAAAAAFkAzMzMzMzMXQAAAAAAAABhAmpmZmZmZFUAAAAAAAAAYQM3MzMzMzBpAMzMzMzMzGUBmZmZmZmYWQAAAAAAAABZAAAAAAAAAFkBmZmZmZmYYQDMzMzMzMxdAAAAAAAAAFEBmZmZmZmYWQM3MzMzMzBZAzczMzMzMFkDNzMzMzMwYQGZmZmZmZhRAzczMzMzMFkAzMzMzMzMZQDMzMzMzMxdAZmZmZmZmHEAzMzMzMzMZQAAAAAAAABpAZmZmZmZmHkCamZmZmZkTQDMzMzMzMx1AzczMzMzMGkDNzMzMzMwcQAAAAAAAABpAmpmZmZmZGUAzMzMzMzMbQM3MzMzMzBZAMzMzMzMzF0CamZmZmZkZQAAAAAAAABpAzczMzMzMHkDNzMzMzMweQAAAAAAAABhAmpmZmZmZG0BmZmZmZmYWQM3MzMzMzB5AMzMzMzMzGUDNzMzMzMwaQM3MzMzMzBxAzczMzMzMGEBmZmZmZmYYQJqZmZmZmRlAzczMzMzMHECamZmZmZkdQJqZmZmZmR9AmpmZmZmZGUAzMzMzMzMZQGZmZmZmZhhAzczMzMzMHkAzMzMzMzMZQJqZmZmZmRlAAAAAAAAAGECamZmZmZkbQM3MzMzMzBpAmpmZmZmZG0AzMzMzMzMXQDMzMzMzMxtAzczMzMzMGkDNzMzMzMwaQDMzMzMzMxlAAAAAAAAAGkDNzMzMzMwYQJqZmZmZmRdA\",\"dtype\":\"float64\",\"shape\":[150]},\"sepal_width\":{\"__ndarray__\":\"AAAAAAAADEAAAAAAAAAIQJqZmZmZmQlAzczMzMzMCEDNzMzMzMwMQDMzMzMzMw9AMzMzMzMzC0AzMzMzMzMLQDMzMzMzMwdAzczMzMzMCECamZmZmZkNQDMzMzMzMwtAAAAAAAAACEAAAAAAAAAIQAAAAAAAABBAmpmZmZmZEUAzMzMzMzMPQAAAAAAAAAxAZmZmZmZmDkBmZmZmZmYOQDMzMzMzMwtAmpmZmZmZDUDNzMzMzMwMQGZmZmZmZgpAMzMzMzMzC0AAAAAAAAAIQDMzMzMzMwtAAAAAAAAADEAzMzMzMzMLQJqZmZmZmQlAzczMzMzMCEAzMzMzMzMLQGZmZmZmZhBAzczMzMzMEEDNzMzMzMwIQJqZmZmZmQlAAAAAAAAADEDNzMzMzMwMQAAAAAAAAAhAMzMzMzMzC0AAAAAAAAAMQGZmZmZmZgJAmpmZmZmZCUAAAAAAAAAMQGZmZmZmZg5AAAAAAAAACEBmZmZmZmYOQJqZmZmZmQlAmpmZmZmZDUBmZmZmZmYKQJqZmZmZmQlAmpmZmZmZCUDNzMzMzMwIQGZmZmZmZgJAZmZmZmZmBkBmZmZmZmYGQGZmZmZmZgpAMzMzMzMzA0AzMzMzMzMHQJqZmZmZmQVAAAAAAAAAAEAAAAAAAAAIQJqZmZmZmQFAMzMzMzMzB0AzMzMzMzMHQM3MzMzMzAhAAAAAAAAACECamZmZmZkFQJqZmZmZmQFAAAAAAAAABECamZmZmZkJQGZmZmZmZgZAAAAAAAAABEBmZmZmZmYGQDMzMzMzMwdAAAAAAAAACEBmZmZmZmYGQAAAAAAAAAhAMzMzMzMzB0DNzMzMzMwEQDMzMzMzMwNAMzMzMzMzA0CamZmZmZkFQJqZmZmZmQVAAAAAAAAACEAzMzMzMzMLQM3MzMzMzAhAZmZmZmZmAkAAAAAAAAAIQAAAAAAAAARAzczMzMzMBEAAAAAAAAAIQM3MzMzMzARAZmZmZmZmAkCamZmZmZkFQAAAAAAAAAhAMzMzMzMzB0AzMzMzMzMHQAAAAAAAAARAZmZmZmZmBkBmZmZmZmYKQJqZmZmZmQVAAAAAAAAACEAzMzMzMzMHQAAAAAAAAAhAAAAAAAAACEAAAAAAAAAEQDMzMzMzMwdAAAAAAAAABEDNzMzMzMwMQJqZmZmZmQlAmpmZmZmZBUAAAAAAAAAIQAAAAAAAAARAZmZmZmZmBkCamZmZmZkJQAAAAAAAAAhAZmZmZmZmDkDNzMzMzMwEQJqZmZmZmQFAmpmZmZmZCUBmZmZmZmYGQGZmZmZmZgZAmpmZmZmZBUBmZmZmZmYKQJqZmZmZmQlAZmZmZmZmBkAAAAAAAAAIQGZmZmZmZgZAAAAAAAAACEBmZmZmZmYGQGZmZmZmZg5AZmZmZmZmBkBmZmZmZmYGQM3MzMzMzARAAAAAAAAACEAzMzMzMzMLQM3MzMzMzAhAAAAAAAAACEDNzMzMzMwIQM3MzMzMzAhAzczMzMzMCECamZmZmZkFQJqZmZmZmQlAZmZmZmZmCkAAAAAAAAAIQAAAAAAAAARAAAAAAAAACEAzMzMzMzMLQAAAAAAAAAhA\",\"dtype\":\"float64\",\"shape\":[150]},\"species\":[\"setosa\",\"setosa\",\"setosa\",\"setosa\",\"setosa\",\"setosa\",\"setosa\",\"setosa\",\"setosa\",\"setosa\",\"setosa\",\"setosa\",\"setosa\",\"setosa\",\"setosa\",\"setosa\",\"setosa\",\"setosa\",\"setosa\",\"setosa\",\"setosa\",\"setosa\",\"setosa\",\"setosa\",\"setosa\",\"setosa\",\"setosa\",\"setosa\",\"setosa\",\"setosa\",\"setosa\",\"setosa\",\"setosa\",\"setosa\",\"setosa\",\"setosa\",\"setosa\",\"setosa\",\"setosa\",\"setosa\",\"setosa\",\"setosa\",\"setosa\",\"setosa\",\"setosa\",\"setosa\",\"setosa\",\"setosa\",\"setosa\",\"setosa\",\"versicolor\",\"versicolor\",\"versicolor\",\"versicolor\",\"versicolor\",\"versicolor\",\"versicolor\",\"versicolor\",\"versicolor\",\"versicolor\",\"versicolor\",\"versicolor\",\"versicolor\",\"versicolor\",\"versicolor\",\"versicolor\",\"versicolor\",\"versicolor\",\"versicolor\",\"versicolor\",\"versicolor\",\"versicolor\",\"versicolor\",\"versicolor\",\"versicolor\",\"versicolor\",\"versicolor\",\"versicolor\",\"versicolor\",\"versicolor\",\"versicolor\",\"versicolor\",\"versicolor\",\"versicolor\",\"versicolor\",\"versicolor\",\"versicolor\",\"versicolor\",\"versicolor\",\"versicolor\",\"versicolor\",\"versicolor\",\"versicolor\",\"versicolor\",\"versicolor\",\"versicolor\",\"versicolor\",\"versicolor\",\"versicolor\",\"versicolor\",\"virginica\",\"virginica\",\"virginica\",\"virginica\",\"virginica\",\"virginica\",\"virginica\",\"virginica\",\"virginica\",\"virginica\",\"virginica\",\"virginica\",\"virginica\",\"virginica\",\"virginica\",\"virginica\",\"virginica\",\"virginica\",\"virginica\",\"virginica\",\"virginica\",\"virginica\",\"virginica\",\"virginica\",\"virginica\",\"virginica\",\"virginica\",\"virginica\",\"virginica\",\"virginica\",\"virginica\",\"virginica\",\"virginica\",\"virginica\",\"virginica\",\"virginica\",\"virginica\",\"virginica\",\"virginica\",\"virginica\",\"virginica\",\"virginica\",\"virginica\",\"virginica\",\"virginica\",\"virginica\",\"virginica\",\"virginica\",\"virginica\",\"virginica\"]},\"selected\":{\"id\":\"2918\",\"type\":\"Selection\"},\"selection_policy\":{\"id\":\"2919\",\"type\":\"UnionRenderers\"}},\"id\":\"2802\",\"type\":\"ColumnDataSource\"},{\"attributes\":{\"data_source\":{\"id\":\"2802\",\"type\":\"ColumnDataSource\"},\"glyph\":{\"id\":\"2804\",\"type\":\"Circle\"},\"hover_glyph\":null,\"muted_glyph\":null,\"nonselection_glyph\":{\"id\":\"2805\",\"type\":\"Circle\"},\"selection_glyph\":null,\"view\":{\"id\":\"2807\",\"type\":\"CDSView\"}},\"id\":\"2806\",\"type\":\"GlyphRenderer\"},{\"attributes\":{},\"id\":\"2785\",\"type\":\"BasicTicker\"},{\"attributes\":{},\"id\":\"2914\",\"type\":\"BasicTickFormatter\"},{\"attributes\":{\"formatter\":{\"id\":\"2914\",\"type\":\"BasicTickFormatter\"},\"ticker\":{\"id\":\"2785\",\"type\":\"BasicTicker\"}},\"id\":\"2784\",\"type\":\"LinearAxis\"},{\"attributes\":{\"dimension\":1,\"ticker\":{\"id\":\"2785\",\"type\":\"BasicTicker\"}},\"id\":\"2788\",\"type\":\"Grid\"},{\"attributes\":{\"ticker\":{\"id\":\"2780\",\"type\":\"BasicTicker\"}},\"id\":\"2783\",\"type\":\"Grid\"},{\"attributes\":{},\"id\":\"2918\",\"type\":\"Selection\"},{\"attributes\":{},\"id\":\"2793\",\"type\":\"ResetTool\"},{\"attributes\":{\"fill_alpha\":{\"value\":0.1},\"fill_color\":{\"value\":\"#1f77b4\"},\"line_alpha\":{\"value\":0.1},\"line_color\":{\"value\":\"#1f77b4\"},\"x\":{\"field\":\"petal_length\"},\"y\":{\"field\":\"petal_width\"}},\"id\":\"2805\",\"type\":\"Circle\"},{\"attributes\":{\"callback\":null},\"id\":\"2771\",\"type\":\"DataRange1d\"},{\"attributes\":{\"active_drag\":\"auto\",\"active_inspect\":\"auto\",\"active_multi\":null,\"active_scroll\":\"auto\",\"active_tap\":\"auto\",\"tools\":[{\"id\":\"2789\",\"type\":\"PanTool\"},{\"id\":\"2790\",\"type\":\"WheelZoomTool\"},{\"id\":\"2791\",\"type\":\"BoxZoomTool\"},{\"id\":\"2792\",\"type\":\"SaveTool\"},{\"id\":\"2793\",\"type\":\"ResetTool\"},{\"id\":\"2794\",\"type\":\"HelpTool\"}]},\"id\":\"2795\",\"type\":\"Toolbar\"},{\"attributes\":{\"formatter\":{\"id\":\"2916\",\"type\":\"BasicTickFormatter\"},\"ticker\":{\"id\":\"2780\",\"type\":\"BasicTicker\"}},\"id\":\"2779\",\"type\":\"LinearAxis\"},{\"attributes\":{},\"id\":\"2794\",\"type\":\"HelpTool\"},{\"attributes\":{},\"id\":\"2780\",\"type\":\"BasicTicker\"},{\"attributes\":{\"source\":{\"id\":\"2802\",\"type\":\"ColumnDataSource\"}},\"id\":\"2807\",\"type\":\"CDSView\"},{\"attributes\":{\"fill_color\":{\"value\":\"green\"},\"line_color\":{\"value\":\"green\"},\"x\":{\"field\":\"petal_length\"},\"y\":{\"field\":\"petal_width\"}},\"id\":\"2804\",\"type\":\"Circle\"},{\"attributes\":{},\"id\":\"2919\",\"type\":\"UnionRenderers\"},{\"attributes\":{},\"id\":\"2777\",\"type\":\"LinearScale\"},{\"attributes\":{\"text\":\"\"},\"id\":\"2912\",\"type\":\"Title\"},{\"attributes\":{\"overlay\":{\"id\":\"2920\",\"type\":\"BoxAnnotation\"}},\"id\":\"2791\",\"type\":\"BoxZoomTool\"},{\"attributes\":{},\"id\":\"2775\",\"type\":\"LinearScale\"},{\"attributes\":{},\"id\":\"2789\",\"type\":\"PanTool\"},{\"attributes\":{\"callback\":null},\"id\":\"2773\",\"type\":\"DataRange1d\"},{\"attributes\":{},\"id\":\"2790\",\"type\":\"WheelZoomTool\"},{\"attributes\":{},\"id\":\"2792\",\"type\":\"SaveTool\"}],\"root_ids\":[\"2770\"]},\"title\":\"Bokeh Application\",\"version\":\"1.2.0\"}};\n",
       "  var render_items = [{\"docid\":\"f046f758-470d-4fb0-9bdb-3030847d5cfa\",\"roots\":{\"2770\":\"535ff8ca-4fbc-4acb-94b5-135120790316\"}}];\n",
       "  root.Bokeh.embed.embed_items_notebook(docs_json, render_items);\n",
       "\n",
       "  }\n",
       "  if (root.Bokeh !== undefined) {\n",
       "    embed_document(root);\n",
       "  } else {\n",
       "    var attempts = 0;\n",
       "    var timer = setInterval(function(root) {\n",
       "      if (root.Bokeh !== undefined) {\n",
       "        embed_document(root);\n",
       "        clearInterval(timer);\n",
       "      }\n",
       "      attempts++;\n",
       "      if (attempts > 100) {\n",
       "        console.log(\"Bokeh: ERROR: Unable to run BokehJS code because BokehJS library is missing\");\n",
       "        clearInterval(timer);\n",
       "      }\n",
       "    }, 10, root)\n",
       "  }\n",
       "})(window);"
      ],
      "application/vnd.bokehjs_exec.v0+json": ""
     },
     "metadata": {
      "application/vnd.bokehjs_exec.v0+json": {
       "id": "2770"
      }
     },
     "output_type": "display_data"
    }
   ],
   "source": [
    "from bokeh.sampledata.iris import flowers as df\n",
    "\n",
    "p = figure(plot_width=400, plot_height=400)\n",
    "p.circle('petal_length', 'petal_width', source=df, color='green')\n",
    "show(p)"
   ]
  },
  {
   "cell_type": "markdown",
   "metadata": {},
   "source": [
    "## Deal with datetime and categorical axes"
   ]
  },
  {
   "cell_type": "markdown",
   "metadata": {},
   "source": [
    "### Datetime axes\n",
    "Dealing with date and time series is another common task. Bokeh has a sophisticated `DatetimeAxis` that can change the displayed ticks based on the current scale of the plot. There are some inputs for which Bokeh will automatically default to DatetimeAxis, but you can always explicitly ask for one by passing the value \"datetime\" to the `x_axis_type` or `y_axis_type` parameters to `figure()`. A few things of interest to look out for in this example:\n",
    "\n",
    "- setting the width and height arguments to figure()\n",
    "- customizing plots and other objects by assigning values to their attributes\n",
    "- accessing guides and annotations with convenience Figure attributes: `legend, grid, xgrid, ygrid, axis, xaxis, yaxis`"
   ]
  },
  {
   "cell_type": "code",
   "execution_count": 19,
   "metadata": {},
   "outputs": [],
   "source": [
    "from bokeh.sampledata.stocks import AAPL"
   ]
  },
  {
   "cell_type": "code",
   "execution_count": 20,
   "metadata": {},
   "outputs": [
    {
     "data": {
      "text/html": [
       "\n",
       "\n",
       "\n",
       "\n",
       "\n",
       "\n",
       "  <div class=\"bk-root\" id=\"e36ee49e-c4a4-4565-9a70-98ca04b4b6ff\" data-root-id=\"2975\"></div>\n"
      ]
     },
     "metadata": {},
     "output_type": "display_data"
    },
    {
     "data": {
      "application/javascript": [
       "(function(root) {\n",
       "  function embed_document(root) {\n",
       "    \n",
       "  var docs_json = {\"e5addeec-3b2c-4807-a6c3-5a6365c14969\":{\"roots\":{\"references\":[{\"attributes\":{\"below\":[{\"id\":\"2984\",\"type\":\"DatetimeAxis\"}],\"center\":[{\"id\":\"2988\",\"type\":\"Grid\"},{\"id\":\"2993\",\"type\":\"Grid\"},{\"id\":\"3031\",\"type\":\"Legend\"}],\"left\":[{\"id\":\"2989\",\"type\":\"LinearAxis\"}],\"plot_height\":350,\"plot_width\":800,\"renderers\":[{\"id\":\"3010\",\"type\":\"GlyphRenderer\"},{\"id\":\"3036\",\"type\":\"GlyphRenderer\"}],\"title\":{\"id\":\"3012\",\"type\":\"Title\"},\"toolbar\":{\"id\":\"3000\",\"type\":\"Toolbar\"},\"x_range\":{\"id\":\"2976\",\"type\":\"DataRange1d\"},\"x_scale\":{\"id\":\"2980\",\"type\":\"LinearScale\"},\"y_range\":{\"id\":\"2978\",\"type\":\"DataRange1d\"},\"y_scale\":{\"id\":\"2982\",\"type\":\"LinearScale\"}},\"id\":\"2975\",\"subtype\":\"Figure\",\"type\":\"Plot\"},{\"attributes\":{\"active_drag\":\"auto\",\"active_inspect\":\"auto\",\"active_multi\":null,\"active_scroll\":\"auto\",\"active_tap\":\"auto\",\"tools\":[{\"id\":\"2994\",\"type\":\"PanTool\"},{\"id\":\"2995\",\"type\":\"WheelZoomTool\"},{\"id\":\"2996\",\"type\":\"BoxZoomTool\"},{\"id\":\"2997\",\"type\":\"SaveTool\"},{\"id\":\"2998\",\"type\":\"ResetTool\"},{\"id\":\"2999\",\"type\":\"HelpTool\"}]},\"id\":\"3000\",\"type\":\"Toolbar\"},{\"attributes\":{\"callback\":null},\"id\":\"2976\",\"type\":\"DataRange1d\"},{\"attributes\":{\"months\":[0,6]},\"id\":\"3028\",\"type\":\"MonthsTicker\"},{\"attributes\":{\"fill_alpha\":{\"value\":0.1},\"fill_color\":{\"value\":\"#1f77b4\"},\"line_alpha\":{\"value\":0.1},\"line_color\":{\"value\":\"#1f77b4\"},\"x\":{\"field\":\"x\"},\"y\":{\"field\":\"y\"}},\"id\":\"3009\",\"type\":\"Circle\"},{\"attributes\":{},\"id\":\"3029\",\"type\":\"YearsTicker\"},{\"attributes\":{\"callback\":null},\"id\":\"2978\",\"type\":\"DataRange1d\"},{\"attributes\":{\"bottom_units\":\"screen\",\"fill_alpha\":{\"value\":0.5},\"fill_color\":{\"value\":\"lightgrey\"},\"left_units\":\"screen\",\"level\":\"overlay\",\"line_alpha\":{\"value\":1.0},\"line_color\":{\"value\":\"black\"},\"line_dash\":[4,4],\"line_width\":{\"value\":2},\"render_mode\":\"css\",\"right_units\":\"screen\",\"top_units\":\"screen\"},\"id\":\"3030\",\"type\":\"BoxAnnotation\"},{\"attributes\":{\"data_source\":{\"id\":\"3007\",\"type\":\"ColumnDataSource\"},\"glyph\":{\"id\":\"3008\",\"type\":\"Circle\"},\"hover_glyph\":null,\"muted_glyph\":null,\"nonselection_glyph\":{\"id\":\"3009\",\"type\":\"Circle\"},\"selection_glyph\":null,\"view\":{\"id\":\"3011\",\"type\":\"CDSView\"}},\"id\":\"3010\",\"type\":\"GlyphRenderer\"},{\"attributes\":{},\"id\":\"2980\",\"type\":\"LinearScale\"},{\"attributes\":{\"click_policy\":\"hide\",\"items\":[{\"id\":\"3032\",\"type\":\"LegendItem\"},{\"id\":\"3059\",\"type\":\"LegendItem\"}],\"location\":\"top_left\"},\"id\":\"3031\",\"type\":\"Legend\"},{\"attributes\":{\"source\":{\"id\":\"3007\",\"type\":\"ColumnDataSource\"}},\"id\":\"3011\",\"type\":\"CDSView\"},{\"attributes\":{},\"id\":\"2982\",\"type\":\"LinearScale\"},{\"attributes\":{\"label\":{\"value\":\"close\"},\"renderers\":[{\"id\":\"3010\",\"type\":\"GlyphRenderer\"}]},\"id\":\"3032\",\"type\":\"LegendItem\"},{\"attributes\":{\"text\":\"AAPL One-Month Average\"},\"id\":\"3012\",\"type\":\"Title\"},{\"attributes\":{\"axis_label\":\"Date\",\"formatter\":{\"id\":\"3016\",\"type\":\"DatetimeTickFormatter\"},\"ticker\":{\"id\":\"2985\",\"type\":\"DatetimeTicker\"}},\"id\":\"2984\",\"type\":\"DatetimeAxis\"},{\"attributes\":{},\"id\":\"3014\",\"type\":\"BasicTickFormatter\"},{\"attributes\":{},\"id\":\"3016\",\"type\":\"DatetimeTickFormatter\"},{\"attributes\":{\"grid_line_alpha\":0,\"ticker\":{\"id\":\"2985\",\"type\":\"DatetimeTicker\"}},\"id\":\"2988\",\"type\":\"Grid\"},{\"attributes\":{\"line_color\":\"red\",\"x\":{\"field\":\"x\"},\"y\":{\"field\":\"y\"}},\"id\":\"3034\",\"type\":\"Line\"},{\"attributes\":{\"num_minor_ticks\":5,\"tickers\":[{\"id\":\"3018\",\"type\":\"AdaptiveTicker\"},{\"id\":\"3019\",\"type\":\"AdaptiveTicker\"},{\"id\":\"3020\",\"type\":\"AdaptiveTicker\"},{\"id\":\"3021\",\"type\":\"DaysTicker\"},{\"id\":\"3022\",\"type\":\"DaysTicker\"},{\"id\":\"3023\",\"type\":\"DaysTicker\"},{\"id\":\"3024\",\"type\":\"DaysTicker\"},{\"id\":\"3025\",\"type\":\"MonthsTicker\"},{\"id\":\"3026\",\"type\":\"MonthsTicker\"},{\"id\":\"3027\",\"type\":\"MonthsTicker\"},{\"id\":\"3028\",\"type\":\"MonthsTicker\"},{\"id\":\"3029\",\"type\":\"YearsTicker\"}]},\"id\":\"2985\",\"type\":\"DatetimeTicker\"},{\"attributes\":{\"mantissas\":[1,2,5],\"max_interval\":500.0,\"num_minor_ticks\":0},\"id\":\"3018\",\"type\":\"AdaptiveTicker\"},{\"attributes\":{\"axis_label\":\"Price\",\"formatter\":{\"id\":\"3014\",\"type\":\"BasicTickFormatter\"},\"ticker\":{\"id\":\"2990\",\"type\":\"BasicTicker\"}},\"id\":\"2989\",\"type\":\"LinearAxis\"},{\"attributes\":{\"line_alpha\":0.1,\"line_color\":\"#1f77b4\",\"x\":{\"field\":\"x\"},\"y\":{\"field\":\"y\"}},\"id\":\"3035\",\"type\":\"Line\"},{\"attributes\":{\"data_source\":{\"id\":\"3033\",\"type\":\"ColumnDataSource\"},\"glyph\":{\"id\":\"3034\",\"type\":\"Line\"},\"hover_glyph\":null,\"muted_glyph\":null,\"nonselection_glyph\":{\"id\":\"3035\",\"type\":\"Line\"},\"selection_glyph\":null,\"view\":{\"id\":\"3037\",\"type\":\"CDSView\"}},\"id\":\"3036\",\"type\":\"GlyphRenderer\"},{\"attributes\":{},\"id\":\"2990\",\"type\":\"BasicTicker\"},{\"attributes\":{\"base\":60,\"mantissas\":[1,2,5,10,15,20,30],\"max_interval\":1800000.0,\"min_interval\":1000.0,\"num_minor_ticks\":0},\"id\":\"3019\",\"type\":\"AdaptiveTicker\"},{\"attributes\":{\"band_fill_alpha\":0.1,\"band_fill_color\":\"gray\",\"dimension\":1,\"grid_line_alpha\":0,\"ticker\":{\"id\":\"2990\",\"type\":\"BasicTicker\"}},\"id\":\"2993\",\"type\":\"Grid\"},{\"attributes\":{\"source\":{\"id\":\"3033\",\"type\":\"ColumnDataSource\"}},\"id\":\"3037\",\"type\":\"CDSView\"},{\"attributes\":{\"base\":24,\"mantissas\":[1,2,4,6,8,12],\"max_interval\":43200000.0,\"min_interval\":3600000.0,\"num_minor_ticks\":0},\"id\":\"3020\",\"type\":\"AdaptiveTicker\"},{\"attributes\":{},\"id\":\"3044\",\"type\":\"Selection\"},{\"attributes\":{},\"id\":\"3183\",\"type\":\"UnionRenderers\"},{\"attributes\":{\"days\":[1,2,3,4,5,6,7,8,9,10,11,12,13,14,15,16,17,18,19,20,21,22,23,24,25,26,27,28,29,30,31]},\"id\":\"3021\",\"type\":\"DaysTicker\"},{\"attributes\":{},\"id\":\"3182\",\"type\":\"Selection\"},{\"attributes\":{},\"id\":\"3045\",\"type\":\"UnionRenderers\"},{\"attributes\":{\"days\":[1,4,7,10,13,16,19,22,25,28]},\"id\":\"3022\",\"type\":\"DaysTicker\"},{\"attributes\":{\"fill_alpha\":{\"value\":0.2},\"fill_color\":{\"value\":\"darkgrey\"},\"line_alpha\":{\"value\":0.2},\"line_color\":{\"value\":\"darkgrey\"},\"x\":{\"field\":\"x\"},\"y\":{\"field\":\"y\"}},\"id\":\"3008\",\"type\":\"Circle\"},{\"attributes\":{\"label\":{\"value\":\"avg\"},\"renderers\":[{\"id\":\"3036\",\"type\":\"GlyphRenderer\"}]},\"id\":\"3059\",\"type\":\"LegendItem\"},{\"attributes\":{\"days\":[1,8,15,22]},\"id\":\"3023\",\"type\":\"DaysTicker\"},{\"attributes\":{},\"id\":\"2994\",\"type\":\"PanTool\"},{\"attributes\":{\"days\":[1,15]},\"id\":\"3024\",\"type\":\"DaysTicker\"},{\"attributes\":{},\"id\":\"2995\",\"type\":\"WheelZoomTool\"},{\"attributes\":{\"months\":[0,1,2,3,4,5,6,7,8,9,10,11]},\"id\":\"3025\",\"type\":\"MonthsTicker\"},{\"attributes\":{\"overlay\":{\"id\":\"3030\",\"type\":\"BoxAnnotation\"}},\"id\":\"2996\",\"type\":\"BoxZoomTool\"},{\"attributes\":{\"months\":[0,2,4,6,8,10]},\"id\":\"3026\",\"type\":\"MonthsTicker\"},{\"attributes\":{},\"id\":\"2997\",\"type\":\"SaveTool\"},{\"attributes\":{\"callback\":null,\"data\":{\"x\":{\"__ndarray__\":\"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\",\"dtype\":\"float64\",\"shape\":[3270]},\"y\":{\"__ndarray__\":\"rkfhehSuP0ApXI/C9ag9QB+F61G4Hj9Aj8L1KFyPPkAfhetRuN49QClcj8L1qD1AuB6F61G4PUBSuB6F65E+QAAAAAAAgD1ASOF6FK7HO0DD9Shcj0I8QI/C9Shcjz1ApHA9CtdjPkApXI/C9eg9QEjhehSuZ0BASOF6FK6HQUCuR+F6FC5BQFyPwvUo3EBA16NwPQr3QEAK16NwPepAQGZmZmZmhkBAUrgeheuRPkDD9Shcj4JAQBSuR+F6NEBAMzMzMzPzPkAzMzMzM7M/QHE9CtejcD5ApHA9CtcDQECkcD0K12M+QArXo3A9Cj1Aj8L1KFyPOkDsUbgehas7QDMzMzMzMztAH4XrUbgePkCamZmZmdk+QDMzMzMzcz1AZmZmZmbmPEDNzMzMzEw9QDMzMzMzMz9AAAAAAACAPUBSuB6F69E+QClcj8L1KD5AuB6F61E4PkApXI/C9ag8QHsUrkfh+jtAKVyPwvXoOkAAAAAAAIA7QIXrUbgexTpApHA9CtejOUBmZmZmZiY4QAAAAAAAADlA7FG4HoUrOkCPwvUoXI84QDMzMzMzszlAZmZmZmamOEAAAAAAAIA4QJqZmZmZ2TZAH4XrUbjeNUBcj8L1KNw0QFK4HoXrUTVAuB6F61E4NUAAAAAAAAA1QArXo3A9SjVA7FG4HoVrNEDsUbgehas1QAAAAAAAgDZAMzMzMzMzNkAUrkfhepQ2QHsUrkfhejdAzczMzMwMN0BI4XoUrkc3QOxRuB6FKzZAexSuR+H6NkA9CtejcP01QPYoXI/CdTZA7FG4HoUrNkA9CtejcH03QB+F61G4njhAzczMzMwMO0CkcD0K1yM6QKRwPQrXIzlAUrgehetROkApXI/C9Sg5QLgehetReDpA7FG4HoXrOEC4HoXrUXg5QOxRuB6F6zlAXI/C9SgcOUBxPQrXozA5QLgehetReDpASOF6FK7HO0BxPQrXo7A7QOF6FK5HoTxAuB6F61F4O0DNzMzMzAw8QJqZmZmZWTxA16NwPQrXO0AfhetRuJ45QI/C9ShczzpACtejcD0KOkCuR+F6FK43QNejcD0KVzhA16NwPQpXOEAK16NwPUo5QD0K16NwfTdA9ihcj8K1OEB7FK5H4fo3QHsUrkfh+jZA16NwPQpXN0AK16NwPQo3QI/C9ShcTzdAexSuR+G6NkCamZmZmRk3QOF6FK5HITdAcT0K16MwN0DhehSuR+E2QDMzMzMzszZAFK5H4XqUN0DD9ShcjwI5QI/C9ShcTzhAj8L1KFyPOECkcD0K1yM5QClcj8L1aDpASOF6FK5HO0DhehSuR6E7QHsUrkfhOjxASOF6FK7HPECuR+F6FO48QOF6FK5HoT1AmpmZmZnZPkBcj8L1KFw+QOxRuB6FazxAZmZmZmYmPkDhehSuR6E8QOxRuB6FazxAFK5H4XoUPEAzMzMzMzM8QGZmZmZmpjtAXI/C9SjcOkAAAAAAAIA9QGZmZmZmJj1AcT0K16OwPUBSuB6F65E7QOF6FK5HYTlAhetRuB4FOkDD9ShcjwI5QM3MzMzMzDdAhetRuB4FOkAK16NwPQopQBSuR+F6lCdAMzMzMzOzJUB7FK5H4fomQPYoXI/CdSVAFK5H4XqUJUApXI/C9SglQM3MzMzMTCRAFK5H4XoUI0D2KFyPwnUjQPYoXI/CdSVAZmZmZmbmJECPwvUoXI8jQI/C9ShcjyNA7FG4HoVrIkD2KFyPwvUiQFK4HoXr0SNAXI/C9ShcIkAAAAAAAAAiQAAAAAAAACJAj8L1KFwPIkBI4XoUrsciQIXrUbgeBSNAcT0K16PwI0AzMzMzM7MlQKRwPQrXoyVAXI/C9SjcJEC4HoXrUbgkQAAAAAAAgCNApHA9CtejI0AK16NwPYoiQNejcD0K1yJAMzMzMzOzI0BSuB6F61EjQHsUrkfheiJAAAAAAAAAIkDsUbgehWsiQM3MzMzMTCJAAAAAAAAAIkBI4XoUrsciQK5H4XoULiJACtejcD2KIUAUrkfhehQhQArXo3A9CiBAmpmZmZmZIEA9CtejcD0gQArXo3A9iiBA16NwPQrXG0DXo3A9CtcbQEjhehSuRx1Aj8L1KFyPHUDsUbgehesdQClcj8L1KB1AFK5H4XoUHEBcj8L1KFwbQLgehetRuBtAPQrXo3A9G0D2KFyPwvUbQFyPwvUoXBtAKVyPwvUoHUCPwvUoXI8cQM3MzMzMzBxAzczMzMzMHED2KFyPwvUcQPYoXI/C9RxA16NwPQrXH0CamZmZmZkgQNejcD0K1x9AmpmZmZkZIEC4HoXrUbggQJqZmZmZGSBAAAAAAACAIUC4HoXrUbggQClcj8L1qCBA16NwPQpXIECuR+F6FC4iQPYoXI/C9SJAuB6F61G4IkBxPQrXo/AjQHE9Ctej8CNAZmZmZmZmI0CF61G4HgUjQJqZmZmZGSVAKVyPwvUoJUCF61G4HgUlQArXo3A9iiRAj8L1KFwPJECkcD0K16MjQArXo3A9iiRArkfhehQuJECuR+F6FC4kQJqZmZmZmSJApHA9CtcjI0CamZmZmZkiQPYoXI/C9SJAAAAAAACAI0B7FK5H4XoiQM3MzMzMzCFAXI/C9ShcIkDNzMzMzEwiQM3MzMzMTCJA9ihcj8L1IkDXo3A9CtciQD0K16NwvSFAPQrXo3A9IkC4HoXrUbgiQFK4HoXr0SNAZmZmZmbmJEApXI/C9agkQD0K16NwPSRAMzMzMzOzI0CamZmZmRkiQIXrUbgeBSNA4XoUrkfhI0CkcD0K1yMjQBSuR+F6FCNAAAAAAAAAJECkcD0K1yMjQI/C9ShcjyNAhetRuB4FJUBcj8L1KFwmQK5H4XoULiVAPQrXo3A9JkCPwvUoXI8lQOxRuB6F6yVA9ihcj8J1JUAAAAAAAAAlQK5H4XoUriNA9ihcj8L1IkDNzMzMzEwkQIXrUbgeBSRAexSuR+H6I0BxPQrXo3AlQDMzMzMzMyVAzczMzMzMJUBcj8L1KNwkQNejcD0K1yNAKVyPwvUoJkCF61G4HgUpQFyPwvUoXChAFK5H4XqUJ0DhehSuR2EnQArXo3A9CihAhetRuB4FKEB7FK5H4XopQM3MzMzMzChAuB6F61E4KUBcj8L1KNwpQEjhehSuRyhACtejcD0KKUBI4XoUrkcoQGZmZmZm5idAUrgehetRJ0Bcj8L1KFwmQLgehetROCZAKVyPwvWoJkAK16NwPYomQHE9CtejcCdAZmZmZmbmJkDhehSuR+EmQOxRuB6F6yZAXI/C9SjcJkCamZmZmZkmQI/C9ShcjyZApHA9CtcjJkDhehSuR+EkQD0K16NwPSNAZmZmZmZmI0BSuB6F61EkQJqZmZmZGSRAXI/C9ShcJEApXI/C9SgkQI/C9ShcDyVAPQrXo3C9JEB7FK5H4XojQMP1KFyPwiNAZmZmZmbmI0DXo3A9ClcjQOF6FK5H4SNASOF6FK7HI0CkcD0K16MjQBSuR+F6FCVA4XoUrkfhJUCkcD0K16MlQNejcD0KVydAmpmZmZkZJ0AzMzMzM7MmQGZmZmZm5iZAH4XrUbieJkA9CtejcD0nQK5H4XoULidAj8L1KFyPJkDsUbgehWslQBSuR+F6FCZAj8L1KFyPJEDsUbgeheslQDMzMzMzsydAKVyPwvUoKEDNzMzMzEwnQOxRuB6FayhAuB6F61E4JEDsUbgehWsjQHE9CtejcCNAAAAAAAAAI0CPwvUoXI8iQPYoXI/C9SFAFK5H4XoUIkBxPQrXo3AiQOxRuB6FayJASOF6FK5HIkAK16NwPYoiQEjhehSuRyNA9ihcj8L1IkCamZmZmZkiQLgehetRuCJA4XoUrkdhIkCF61G4HoUiQAAAAAAAgCJAj8L1KFyPIkC4HoXrUTgiQHE9Ctej8CFApHA9CtcjIkAUrkfhepQhQB+F61G4niFA7FG4HoVrIUC4HoXrUbghQFK4HoXrUSFAj8L1KFwPIkBmZmZmZmYiQGZmZmZm5iFA16NwPQpXIUDXo3A9ClchQArXo3A9CiJAPQrXo3C9IUAK16NwPQoiQD0K16NwPSFAzczMzMzMIEBmZmZmZuYgQIXrUbgehSBArkfhehSuH0CPwvUoXI8gQHsUrkfheh5AmpmZmZmZHkAAAAAAAAAgQD0K16NwPR5AexSuR+F6HUApXI/C9SgeQClcj8L1KB5APQrXo3A9HkBI4XoUrkcdQB+F61G4Hh1A4XoUrkfhHkBmZmZmZmYfQIXrUbgehR9AH4XrUbgeH0Bcj8L1KFwgQMP1KFyPQiFAhetRuB6FIUAAAAAAAIAhQIXrUbgehSFAhetRuB6FIEAAAAAAAIAhQM3MzMzMzCFAAAAAAACAIkCkcD0K16MhQOxRuB6FayJAKVyPwvWoIkApXI/C9SgiQKRwPQrXIyFAH4XrUbgeIUAUrkfhehQhQBSuR+F6FCJAj8L1KFwPIkAK16NwPYoiQArXo3A9CiNAj8L1KFwPI0AzMzMzMzMiQDMzMzMzMyJAPQrXo3A9IkDXo3A9CtciQBSuR+F6FCNA7FG4HoXrIkBxPQrXo3AiQPYoXI/CdSNAAAAAAAAAI0CkcD0K1yMjQM3MzMzMTCNASOF6FK7HJEDsUbgehWskQPYoXI/C9SNAXI/C9SjcI0C4HoXrUbgkQHsUrkfheiRASOF6FK7HJUCamZmZmRknQClcj8L1KCZA7FG4HoXrJUDsUbgeheslQK5H4XoULiVAZmZmZmbmJEDsUbgehWskQNejcD0K1yNAj8L1KFwPJEBxPQrXo3AkQIXrUbgeBSVAmpmZmZkZJEDsUbgehWskQEjhehSuxyRAZmZmZmbmJED2KFyPwnUlQFK4HoXr0SVAzczMzMxMJUApXI/C9agmQHE9Ctej8CZACtejcD0KJ0BI4XoUrkcmQHsUrkfh+iVAj8L1KFwPJUCkcD0K16MkQHsUrkfheiRAj8L1KFyPJECamZmZmRklQDMzMzMzMyRAXI/C9SjcJUCPwvUoXI8lQLgehetROCVA4XoUrkdhJkAUrkfhepQmQB+F61G4niZApHA9CtejJkBxPQrXo3AmQOxRuB6FaydACtejcD0KKEA9CtejcL0nQClcj8L1qChAw/UoXI/CKEAAAAAAAAAoQKRwPQrXoydA4XoUrkdhJ0DNzMzMzEwoQArXo3A9CihAUrgehetRKEDsUbgehesnQD0K16NwPSdAAAAAAAAAJkAAAAAAAIAmQGZmZmZm5iRAH4XrUbgeJkApXI/C9SgnQIXrUbgeBSdAXI/C9ShcJUCamZmZmRklQM3MzMzMzCZAH4XrUbieJ0DhehSuR+EmQGZmZmZmZidAuB6F61G4J0B7FK5H4fonQOF6FK5HYShACtejcD0KKEBSuB6F69EnQMP1KFyPwidAw/UoXI9CKECPwvUoXA8oQClcj8L1KChAPQrXo3A9KECamZmZmZknQOxRuB6FaydAMzMzMzOzJkBSuB6F69EmQFK4HoXr0SZAhetRuB4FJ0BI4XoUrscnQGZmZmZmZidAmpmZmZkZJ0C4HoXrUTgoQI/C9ShcDyhA4XoUrkfhJ0BxPQrXo3AnQHsUrkfh+idArkfhehQuKEDhehSuR2EoQFK4HoXrUShACtejcD0KKUBmZmZmZmYpQLgehetRuChAzczMzMxMKEBcj8L1KNwnQBSuR+F6lCdAH4XrUbgeJ0D2KFyPwnUnQOF6FK5HYSZAzczMzMxMJ0CamZmZmZknQFK4HoXrUSdACtejcD0KJ0Bcj8L1KNwmQIXrUbgeBSZAXI/C9SjcJUAzMzMzM7MnQIXrUbgehSdArkfhehSuJkBI4XoUrkcnQGZmZmZm5ihAFK5H4XqUKECF61G4HoUoQFK4HoXrUShAj8L1KFwPKEBSuB6F69EmQClcj8L1qCdAexSuR+F6KEB7FK5H4XonQFK4HoXrUSdAUrgehetRJ0AK16NwPYonQClcj8L1qCZASOF6FK5HJkApXI/C9SgmQJqZmZmZGSZAj8L1KFyPJUBSuB6F69EkQGZmZmZm5iRAZmZmZmbmI0AK16NwPYojQAAAAAAAACNACtejcD2KI0B7FK5H4fojQJqZmZmZmSNAKVyPwvWoIECkcD0K16MgQOF6FK5HYSBAzczMzMzMIEApXI/C9aggQJqZmZmZGSBAmpmZmZmZIEA9CtejcD0hQJqZmZmZmSBAexSuR+F6IECPwvUoXA8hQLgehetROCJAhetRuB6FIUAK16NwPQohQNejcD0K1yBAzczMzMzMIUCF61G4HgUhQLgehetRuCFAXI/C9ShcIUBmZmZmZmYeQClcj8L1KB1AFK5H4XoUHUAK16NwPQodQClcj8L1KBxAj8L1KFyPHUDsUbgehesbQOF6FK5H4RtAMzMzMzMzHUAAAAAAAAAeQK5H4XoUrh1AzczMzMzMHEAfhetRuB4cQDMzMzMzMxtArkfhehSuHEA9CtejcD0dQMP1KFyPwh1AKVyPwvUoHUApXI/C9SgdQFyPwvUoXBxAhetRuB6FHUBcj8L1KFweQMP1KFyPwh5AFK5H4XoUH0D2KFyPwvUeQFyPwvUoXB9AFK5H4XoUH0CamZmZmZkeQDMzMzMzMx5A4XoUrkfhHECamZmZmZkcQJqZmZmZmRxArkfhehSuHEBSuB6F61EbQClcj8L1KBxAmpmZmZmZG0D2KFyPwvUbQPYoXI/C9RtA4XoUrkfhG0DNzMzMzMwbQIXrUbgehRtAj8L1KFyPG0AzMzMzMzMcQM3MzMzMzBxAMzMzMzMzHUBcj8L1KFwcQOxRuB6F6xxA4XoUrkfhHEB7FK5H4XocQArXo3A9Ch1AmpmZmZmZHECkcD0K16McQDMzMzMzMxxAPQrXo3A9HECPwvUoXI8bQM3MzMzMzBtASOF6FK5HG0DNzMzMzMwaQJqZmZmZmRpAcT0K16NwGkBxPQrXo3AbQD0K16NwPRxAuB6F61G4HEB7FK5H4XodQFK4HoXrURxAcT0K16NwG0DhehSuR+EbQFK4HoXrURxAmpmZmZmZHED2KFyPwvUcQI/C9ShcjxxAAAAAAAAAHkBcj8L1KFweQArXo3A9Ch5AFK5H4XoUH0A9CtejcD0fQNejcD0K1x9A7FG4HoVrIEBxPQrXo3AgQD0K16NwvSBAH4XrUbgeH0DNzMzMzMweQHsUrkfheh1AcT0K16NwHkBSuB6F61EeQLgehetRuB9ACtejcD0KH0BxPQrXo3AeQLgehetRuB1AMzMzMzMzHkDNzMzMzMwfQClcj8L1KB9AFK5H4XoUH0D2KFyPwvUdQI/C9Shcjx5AKVyPwvUoHkCF61G4HoUdQHsUrkfheh1AH4XrUbgeHUBxPQrXo3AcQBSuR+F6FB1ArkfhehSuHEC4HoXrUbgdQB+F61G4Hh5Aj8L1KFyPHUDD9Shcj8IcQOF6FK5H4RxAUrgehetRHUBcj8L1KFwcQKRwPQrXoxtAhetRuB6FG0AzMzMzMzMcQOxRuB6F6xtAAAAAAAAAHEBcj8L1KFwbQFyPwvUoXBtA4XoUrkfhG0DNzMzMzMwcQAAAAAAAAB1AAAAAAAAAHUDhehSuR+EcQFK4HoXrURxAj8L1KFyPHECkcD0K16McQHE9CtejcBxAZmZmZmZmHEAUrkfhehQcQHE9CtejcBxAcT0K16NwG0BI4XoUrkcbQAAAAAAAABtAj8L1KFyPG0DXo3A9CtcaQHsUrkfhehtAXI/C9ShcHEAK16NwPQodQNejcD0K1xtA7FG4HoXrG0CF61G4HoUcQGZmZmZmZhxAH4XrUbgeHEAUrkfhehQcQIXrUbgehRtA7FG4HoXrG0DsUbgehesbQAAAAAAAABxASOF6FK5HHECF61G4HoUcQLgehetRuB1A4XoUrkfhHEC4HoXrUbgcQClcj8L1KB1ArkfhehSuHEAzMzMzMzMdQDMzMzMzMxxA7FG4HoXrHEAzMzMzMzMdQHsUrkfhehxAUrgehetRHEBxPQrXo3AcQFK4HoXrURxASOF6FK5HHED2KFyPwvUbQK5H4XoUrhtApHA9CtejG0CkcD0K16McQMP1KFyPwhxAMzMzMzMzHUApXI/C9SgdQBSuR+F6FB1AAAAAAAAAHUApXI/C9SgdQPYoXI/C9RtAUrgehetRHEAK16NwPQocQDMzMzMzMxxAXI/C9ShcHECF61G4HoUbQI/C9ShcjxtAZmZmZmZmHEAfhetRuB4cQArXo3A9ChxAMzMzMzMzHEAfhetRuB4cQJqZmZmZmRtA9ihcj8L1G0CuR+F6FK4ZQGZmZmZmZhpACtejcD0KGkDD9Shcj8IZQIXrUbgehRlAj8L1KFyPGUBI4XoUrkcaQGZmZmZmZhpAKVyPwvUoGkD2KFyPwvUZQPYoXI/C9RpAXI/C9ShcG0CkcD0K16MbQOxRuB6F6xtAH4XrUbgeHEBI4XoUrkcfQIXrUbgeBSFAKVyPwvUoIUAAAAAAAIAhQM3MzMzMzCFAj8L1KFwPIkApXI/C9SgiQArXo3A9CiJAuB6F61E4IkBI4XoUrkciQJqZmZmZmSFAzczMzMxMIUBcj8L1KFwhQD0K16NwvSFAUrgehevRIUBcj8L1KFwiQEjhehSuxyFAmpmZmZmZIUD2KFyPwnUhQHsUrkfh+iBA16NwPQrXIEAfhetRuB4hQClcj8L1KCFArkfhehSuIEBSuB6F61EgQDMzMzMzsyBAexSuR+H6IEBI4XoUrkchQHE9Ctej8CBAw/UoXI/CIUAzMzMzM7MhQJqZmZmZmSJAH4XrUbieIkCuR+F6FK4iQArXo3A9iiJAw/UoXI9CIkCPwvUoXI8iQMP1KFyPwiJAuB6F61E4IkAK16NwPYoiQI/C9ShcjyJAPQrXo3C9IkCamZmZmZkiQFK4HoXrUSNA16NwPQrXI0DXo3A9ClcjQArXo3A9CiNAzczMzMxMI0Bcj8L1KFwjQBSuR+F6FCNAUrgehetRI0BSuB6F61EkQEjhehSuRyRACtejcD0KJEC4HoXrUTgkQLgehetROCRAcT0K16PwI0BxPQrXo/AkQOxRuB6FayRAKVyPwvUoJEC4HoXrUbgjQAAAAAAAgCRAKVyPwvUoJEAfhetRuJ4kQFK4HoXr0SNAmpmZmZkZI0DhehSuR2EjQJqZmZmZGSNAH4XrUbgeI0ApXI/C9SgjQB+F61G4niNA7FG4HoVrI0ApXI/C9SgjQEjhehSuxyNAw/UoXI/CI0BxPQrXo3AkQBSuR+F6FCVAzczMzMxMJEBI4XoUrkckQHsUrkfheiRAZmZmZmbmJEAUrkfhepQlQHsUrkfh+iVAuB6F61E4JkBSuB6F61EmQDMzMzMzMyZA4XoUrkfhJUAfhetRuB4mQMP1KFyPwiVAFK5H4XqUJUBxPQrXo/AlQPYoXI/CdSZAmpmZmZmZJUA9CtejcL0lQIXrUbgehSVAw/UoXI9CJkD2KFyPwvUlQHsUrkfheiVAUrgehevRJUA9CtejcL0kQFyPwvUo3CNAH4XrUbgeJEC4HoXrUbgkQClcj8L1KCRAuB6F61E4JEAAAAAAAAAkQJqZmZmZGSVArkfhehSuJUAUrkfhepQmQOxRuB6FayZAzczMzMzMJkAK16NwPQonQK5H4XoUridA4XoUrkfhJ0CkcD0K1yMoQB+F61G4niZAH4XrUbgeJkAUrkfhepQmQArXo3A9iiZApHA9CtcjJkBcj8L1KFwmQHsUrkfh+iVAexSuR+H6JUCPwvUoXA8nQArXo3A9CidA9ihcj8J1JkDD9Shcj0ImQIXrUbgehSZASOF6FK5HJkBmZmZmZmYmQHsUrkfheiZA4XoUrkfhJUDNzMzMzEwlQHE9Ctej8CRAuB6F61G4JUDNzMzMzMwlQOF6FK5H4SRAj8L1KFyPJEDXo3A9CtcjQFyPwvUo3CNAUrgehevRI0C4HoXrUbgjQI/C9ShcjyRAH4XrUbgeJEApXI/C9SgkQNejcD0KVyRAH4XrUbgeJUBxPQrXo/AkQPYoXI/CdSRAj8L1KFyPJEBI4XoUrkckQHsUrkfheiRA4XoUrkfhI0BSuB6F69EjQB+F61G4niRAUrgehetRJEAfhetRuJ4jQI/C9ShcjyNA16NwPQpXI0B7FK5H4XojQClcj8L1KCNAzczMzMxMI0DD9Shcj0IjQNejcD0K1yNAMzMzMzMzJECPwvUoXI8kQDMzMzMzsyRASOF6FK7HJEAzMzMzM7MkQI/C9ShcjyVAexSuR+F6JUD2KFyPwvUlQLgehetRuCZAXI/C9ShcJkAUrkfhehQnQPYoXI/CdSdACtejcD2KJ0C4HoXrUTgmQJqZmZmZGSZAmpmZmZkZJkB7FK5H4folQBSuR+F6lCVAcT0K16PwJUDhehSuR2EmQHE9CtejcCZAZmZmZmbmJUCPwvUoXA8mQHE9Ctej8CVAMzMzMzOzJUCkcD0K16MlQDMzMzMzMyVAzczMzMzMJUAUrkfhehQmQArXo3A9CiZA16NwPQpXJkCkcD0K1yMnQBSuR+F6FCdAXI/C9ShcJkCF61G4HoUmQB+F61G4niZAXI/C9SjcJUBI4XoUrsclQBSuR+F6lCVAPQrXo3C9JUCuR+F6FC4mQGZmZmZmZiZAw/UoXI9CJ0Bcj8L1KFwnQClcj8L1KCdAw/UoXI9CJ0D2KFyPwnUoQAAAAAAAACpASOF6FK5HKUBcj8L1KFwqQOxRuB6F6ypAZmZmZmZmKkDNzMzMzMwqQLgehetRuClAH4XrUbgeKUB7FK5H4XopQPYoXI/C9ShAKVyPwvUoKUApXI/C9SgpQJqZmZmZmShAzczMzMzMKECkcD0K1yMqQM3MzMzMTCpApHA9CtcjK0ApXI/C9SgrQM3MzMzMTCpAXI/C9ShcKkA9CtejcL0qQArXo3A9iitAj8L1KFwPK0CPwvUoXI8qQEjhehSuxypASOF6FK5HK0AzMzMzMzMqQGZmZmZm5ilAAAAAAACALEDhehSuR2EsQBSuR+F6lCtA9ihcj8L1KkD2KFyPwvUqQIXrUbgeBStAcT0K16PwKkDhehSuR2EqQDMzMzMzMypAuB6F61G4KUAK16NwPQoqQBSuR+F6FClAXI/C9ShcKUDsUbgehWspQOxRuB6F6ylAXI/C9SjcKUBxPQrXo/ApQI/C9ShcjylAZmZmZmZmKkCPwvUoXI8qQHE9CtejcCpAUrgehetRKkBmZmZmZuYpQFK4HoXrUSpAPQrXo3C9KUB7FK5H4fopQFyPwvUoXCpAFK5H4XqUKkCkcD0K16MrQLgehetRuCtAZmZmZmZmK0BI4XoUrkcrQEjhehSuRytAH4XrUbgeLEAfhetRuJ4rQAAAAAAAACxAAAAAAAAALUCF61G4HoUtQOF6FK5HYS1AZmZmZmbmLUDNzMzMzEwtQNejcD0K1y1A16NwPQrXL0BmZmZmZuYvQAAAAAAAADBAcT0K16NwL0DNzMzMzAwwQKRwPQrXYzBA4XoUrkchMECkcD0K12MwQJqZmZmZmS9AmpmZmZmZL0CkcD0K16MvQOxRuB6Fay9AuB6F61E4LkCamZmZmRkuQI/C9Shcjy1AUrgehetRLUAzMzMzMzMtQNejcD0KVyxA7FG4HoVrLEDD9Shcj8IsQMP1KFyPAjBAUrgehetRL0CamZmZmRkvQFK4HoXrUS9Aw/UoXI/CLkBSuB6F69EuQFyPwvUo3C1AZmZmZmZmLkAK16NwPYovQOF6FK5HYS9APQrXo3C9L0D2KFyPwnUvQLgehetRuC5AcT0K16NwLkDsUbgehesuQIXrUbgehS5A9ihcj8L1LED2KFyPwnUtQClcj8L1qC5AKVyPwvUoLkAK16NwPYotQAAAAAAAAC5AcT0K16PwLUCF61G4HgUuQFyPwvUo3C5AXI/C9SjcLUD2KFyPwvUtQLgehetROC5AFK5H4XoUL0BSuB6F6xEwQJqZmZmZ2TBAMzMzMzOzMEDXo3A9CpcwQIXrUbgexTBAcT0K16NwMUDXo3A9ClcxQOF6FK5HITFApHA9CtdjMUCuR+F6FK4xQFyPwvUoXDFAcT0K16NwMUCPwvUoXE8xQMP1KFyPQjFAH4XrUbgeMUCuR+F6FK4xQI/C9ShcDzJA16NwPQpXMkB7FK5H4XoyQDMzMzMz8zFAH4XrUbgeMkDhehSuRyEyQAAAAAAAQDJAAAAAAACAMkCPwvUoXM8yQNejcD0K1zJAzczMzMzMMkBcj8L1KNwyQKRwPQrXIzNAw/UoXI/CM0CF61G4HkUzQD0K16Nw/TJAhetRuB7FMkAfhetRuJ4yQBSuR+F6VDNAH4XrUbjeNUDhehSuRyE2QLgehetRODdAj8L1KFwPN0AUrkfhehQ3QI/C9ShcTzdAzczMzMwMN0AfhetRuB43QBSuR+F6VDdA9ihcj8J1OEDhehSuR2E5QHsUrkfhejlAw/UoXI+COUCF61G4HgU6QGZmZmZm5jpAexSuR+F6OkBcj8L1KJw6QHE9CtejcDpASOF6FK5HOkAfhetRuJ46QKRwPQrX4zpAPQrXo3D9OkBcj8L1KNw6QLgehetRuDpAMzMzMzOzOkCuR+F6FO46QBSuR+F61DpAFK5H4XrUPUAK16NwPco9QGZmZmZmJj9ApHA9CtdjP0CkcD0K16NAQM3MzMzMTEBAexSuR+F6QED2KFyPwrU/QHsUrkfhej5APQrXo3D9P0AUrkfhepQ+QIXrUbgexT5AH4XrUbgeP0CuR+F6FK4/QI/C9Shcjz9AAAAAAADAP0B7FK5H4bo/QFK4HoXrMUBAmpmZmZmZP0AAAAAAAIA+QLgehetR+D5AAAAAAAAAP0DhehSuRyE/QPYoXI/CtT5A9ihcj8I1P0DXo3A9Clc/QMP1KFyPgj9AUrgehetRP0BI4XoUrsc+QNejcD0KFz9AXI/C9ShcP0CkcD0K12M/QPYoXI/C1UBApHA9CtfDQECkcD0K12M/QBSuR+F61D9AuB6F61H4QEBSuB6F6xFBQK5H4XoULkFAPQrXo3D9QEDhehSuRyFBQKRwPQrXI0FAFK5H4Xo0QUCF61G4HoVBQHE9CtejkEFAKVyPwvWoQUBcj8L1KPxBQFK4HoXrsUJAmpmZmZnZQkBcj8L1KFxDQOxRuB6F60JA7FG4HoUrQ0BSuB6F6zFDQOxRuB6Fq0NAhetRuB4lQ0DNzMzMzAxDQB+F61G4vkNAMzMzMzOTREAfhetRuH5FQArXo3A96kVAmpmZmZlZRUB7FK5H4RpFQFyPwvUovERAMzMzMzNzRUAfhetRuJ5FQMP1KFyPokVAcT0K16PQRUCkcD0K16NFQBSuR+F6dEVAUrgehetRREBxPQrXo9BEQArXo3A9ykRA9ihcj8K1Q0DD9ShcjyJDQB+F61G4XkNAFK5H4XqUQ0B7FK5H4ZpDQOxRuB6F60NAZmZmZmYGREDsUbgehYtEQKRwPQrX40RAAAAAAABARUAzMzMzM9NEQHE9CtejsERACtejcD2qRECuR+F6FK5EQM3MzMzMTERAcT0K16PQRECkcD0K10NEQMP1KFyP4kNAexSuR+H6Q0AfhetRuF5EQPYoXI/ClURArkfhehQuRUCF61G4HkVFQMP1KFyPYkRAH4XrUbi+REAUrkfhevRDQB+F61G4HkJAcT0K16MwQUBSuB6F61FBQClcj8L1CEJAhetRuB5FQUAUrkfhehRCQKRwPQrXQ0FAXI/C9Sj8QUCamZmZmZlBQHsUrkfhekFASOF6FK5HQUApXI/C9YhBQNejcD0Kt0FAXI/C9SicQUBxPQrXoxBCQPYoXI/C1UFAXI/C9SgcQkB7FK5H4fpBQPYoXI/CtUFAcT0K16NQQUC4HoXrUZhAQClcj8L16EBAKVyPwvVIQUBSuB6F6zFBQK5H4XoUbkFAw/UoXI9CQkDD9Shcj0JCQPYoXI/CVUNArkfhehROQ0C4HoXrUVhDQI/C9Shcz0NAmpmZmZm5Q0D2KFyPwlVDQLgehetRmENAuB6F61F4Q0C4HoXrUZhCQHE9CtejcEJAhetRuB7FQUAUrkfhevRBQI/C9ShcT0JACtejcD1qQUAUrkfhenRBQOF6FK5HgUFArkfhehQOQkC4HoXrUXhCQOF6FK5HoUJACtejcD1KQkApXI/C9WhCQB+F61G4vkJAKVyPwvXoQkBcj8L1KFxCQArXo3A9CkJAhetRuB4lQkCPwvUoXK9BQGZmZmZm5kFAAAAAAADAQUC4HoXrUXhCQK5H4XoULkJAzczMzMxMQkCamZmZmZlCQGZmZmZmhkJAuB6F61GYQkBmZmZmZqZCQHE9Ctej0ENAFK5H4Xo0REDNzMzMzCxEQAAAAAAAAEVA16NwPQo3RUDNzMzMzAxFQIXrUbgeZUVArkfhehRORUDXo3A9CjdFQKRwPQrXY0VAzczMzMxMRUA9CtejcL1EQArXo3A9ykRAAAAAAAAARUCkcD0K1wNFQIXrUbgexURASOF6FK7nREA9CtejcL1EQI/C9ShcT0VAuB6F61EYRUCF61G4HmVFQArXo3A9akZAj8L1KFwvR0A9CtejcH1GQK5H4XoU7kZApHA9CteDRkApXI/C9UhGQK5H4XoUTkZAPQrXo3A9RkDhehSuR0FGQGZmZmZmZkZAPQrXo3A9RkAK16NwPUpGQIXrUbgepUZAzczMzMzMRkAfhetRuH5GQJqZmZmZeUZAexSuR+G6R0DsUbgehatHQBSuR+F6NEhAMzMzMzPzSEAfhetRuP5IQNejcD0Kt0hAAAAAAAAgSEAAAAAAAEBIQGZmZmZm5khAmpmZmZmZSUA9CtejcN1JQNejcD0KV0lAPQrXo3A9SUAfhetRuN5JQK5H4XoULkpAXI/C9Sj8SUDXo3A9CtdIQDMzMzMzc0lAUrgehesRSkCamZmZmXlKQMP1KFyPIkpACtejcD2qSUCkcD0K1yNJQFK4HoXr8UhAH4XrUbh+SED2KFyPwhVJQDMzMzMz80dAw/UoXI8iSkDD9Shcj0JKQFyPwvUo/ElApHA9CtdjSUDXo3A9CrdKQM3MzMzMTEtAcT0K16MQS0A9CtejcJ1LQEjhehSuR0tAexSuR+G6S0BSuB6F6/FKQFyPwvUofEpA4XoUrkcBTED2KFyPwvVLQGZmZmZmJk1AMzMzMzMTTkBcj8L1KLxNQArXo3A9Sk1A4XoUrkchTUB7FK5H4TpNQAAAAAAAwE1AzczMzMzsTUDhehSuR+FNQClcj8L1SE5A9ihcj8KVT0AAAAAAAGBPQIXrUbgeZU9A16NwPQqXT0Bcj8L1KCxQQOF6FK5HUVBAXI/C9SjcUEAAAAAAAPBQQB+F61G4jlBAPQrXo3B9UEC4HoXrUWhRQClcj8L1qFFAZmZmZmZ2UUDhehSuRwFSQHsUrkfh+lFAMzMzMzMDUkDD9ShcjxJSQGZmZmZmNlJAexSuR+E6UkBSuB6F64FRQM3MzMzMjFFACtejcD1KUUB7FK5H4VpRQLgehetRiFFAH4XrUbjeUUCPwvUoXP9RQPYoXI/C1VFAXI/C9SgMUkAzMzMzM+NRQI/C9ShcX1FAexSuR+F6UUDNzMzMzCxSQArXo3A9OlJA9ihcj8IVUkA9CtejcI1SQD0K16NwfVJAKVyPwvWoU0BmZmZmZmZUQB+F61G4flRAj8L1KFzPVEC4HoXrUZhUQB+F61G4DlRASOF6FK43U0AAAAAAAIBSQMP1KFyP4lJAzczMzMx8UkAK16NwPQpSQPYoXI/ClVFAMzMzMzODUUBcj8L1KDxSQFyPwvUoXFJAZmZmZmZWUkBI4XoUrodRQLgehetReFFAzczMzMxcUECPwvUoXG9QQHsUrkfhulBA9ihcj8KVT0A9CtejcF1QQNejcD0Kd09AUrgehetxUEAUrkfhetRQQLgehetRKFFA16NwPQoXUUDsUbgehctQQNejcD0KV1FAUrgehetxUUAAAAAAAGBRQMP1KFyPQlFA16NwPQqnUEDNzMzMzMxQQM3MzMzM7FBA16NwPQp3UEDXo3A9CtdPQI/C9ShcH1BArkfhehTuT0DXo3A9ChdPQHsUrkfhuk5AcT0K16PwT0CuR+F6FF5QQArXo3A9GlBAhetRuB5FT0BSuB6F63FPQD0K16NwHU9ArkfhehQOTkA9CtejcP1NQOF6FK5HQU1ASOF6FK4nTUBxPQrXo/BMQM3MzMzMjExAj8L1KFxPTkCkcD0K14NOQAAAAAAAgE5A16NwPQp3TkAfhetRuL5NQEjhehSuV1BAUrgehetRUUBI4XoUrvdQQMP1KFyPslBASOF6FK6HUEC4HoXrUThQQJqZmZmZKVBApHA9CteDT0CamZmZmRlQQM3MzMzM7E9A4XoUrkdxUEDNzMzMzExQQJqZmZmZ+U9AZmZmZmYWUEBSuB6F65FQQD0K16Nw3VBAPQrXo3AdUUBcj8L1KOxQQJqZmZmZaVFAXI/C9ShMUUDsUbgehUtRQHsUrkfhelFAexSuR+F6UUCF61G4HkVRQArXo3A9KlFAUrgeheuRUED2KFyPwnVQQOxRuB6Fe1BAmpmZmZmZT0Bcj8L1KLxPQJqZmZmZuU5AH4XrUbheT0BSuB6F69FOQPYoXI/CtU5AzczMzMzMTkBI4XoUrkdPQEjhehSu505AhetRuB7FTUBxPQrXoxBNQHsUrkfhOk5AXI/C9Sj8TUDNzMzMzCxNQArXo3A9Ck1AmpmZmZl5TEDsUbgehYtNQK5H4XoUzkxAuB6F61G4S0A9CtejcF1MQKRwPQrXA0xAAAAAAADgTEA9CtejcP1LQHE9Ctej0EtAUrgehevxS0DD9ShcjyJMQLgehetR+ExAXI/C9SicTECPwvUoXK9MQM3MzMzM7EtAPQrXo3A9S0DNzMzMzKxMQJqZmZmZ2UtArkfhehQuTEC4HoXrUbhLQB+F61G4HktAcT0K16PwSkAfhetRuL5KQI/C9ShcD0tA4XoUrkfBSUApXI/C9WhJQKRwPQrXo0hA16NwPQp3SUCamZmZmblJQI/C9ShcT0pA7FG4HoVrTUBmZmZmZoZNQD0K16Nw3U1APQrXo3AdTkCPwvUoXA9PQBSuR+F61E5AhetRuB7lT0D2KFyPwoVQQPYoXI/CVVBAw/UoXI+SUEDsUbgehetQQOxRuB6Fm1BASOF6FK5XUEAAAAAAAIBPQOxRuB6F605ASOF6FK4nT0AzMzMzM/NOQLgehetRGE9AuB6F61EoUEDXo3A9CodQQB+F61G4blBAMzMzMzODUEAfhetRuC5QQHE9CtejcFBAPQrXo3BdUEDNzMzMzHxQQNejcD0Kt1BAKVyPwvVIUEAK16NwPSpQQEjhehSuR1BAj8L1KFx/UEAAAAAAAKBQQOF6FK5HYVFA16NwPQoHUUAzMzMzM7NRQFK4HoXroVFAcT0K16OgUUApXI/C9ahRQArXo3A9ClJAuB6F61EIUkAUrkfhegRSQNejcD0K91FAAAAAAADwUUBcj8L1KExSQGZmZmZmJlJAAAAAAADAUUB7FK5H4WpSQB+F61G43lJApHA9CteTUkCamZmZmblSQEjhehSut1JApHA9CtczUkAzMzMzMwNSQKRwPQrXU1JAUrgehesxUkDsUbgehQtSQIXrUbgeJVJAUrgehevxUUCuR+F6FM5RQFyPwvUoTFJAPQrXo3A9UkCF61G4HlVSQAAAAAAAEFJAH4XrUbgeUkAUrkfhejRTQHE9CtejcFNArkfhehTOU0CF61G4HrVTQFyPwvUo3FNA7FG4HoX7U0DNzMzMzIxTQD0K16NwjVNAZmZmZma2U0CPwvUoXD9TQKRwPQrXM1NAKVyPwvUIU0DhehSuR2FTQDMzMzMzk1NAXI/C9SgMVEAzMzMzM0NUQPYoXI/CNVRAUrgeheuBVEB7FK5H4apUQI/C9Shcb1RAcT0K16PQVECPwvUoXN9UQGZmZmZmBlVAexSuR+GKVUCF61G4HvVVQEjhehSuR1ZAhetRuB7FVUDD9Shcj1JWQFK4HoXrUVZAKVyPwvVIVkCkcD0K1zNWQEjhehSuJ1ZAcT0K16MwVkDXo3A9CtdVQJqZmZmZKVVA9ihcj8J1VUCkcD0K15NVQFK4HoXr8VRA16NwPQqnVUBI4XoUrodVQKRwPQrXU1VASOF6FK7HVEBcj8L1KPxUQOxRuB6Fm1RASOF6FK4nVEBcj8L1KPxTQOF6FK5H0VNAUrgehevRU0CamZmZmalTQHE9CtejoFRAAAAAAABgVECkcD0K19NUQK5H4XoUrlRASOF6FK7HVEBSuB6F64FWQPYoXI/ClVdAexSuR+FKV0DhehSuRwFXQOxRuB6Fm1dA9ihcj8IVV0C4HoXrUahVQBSuR+F6hFVACtejcD0aVUBmZmZmZtZUQBSuR+F6FFVAuB6F61H4VEDD9Shcj8JUQIXrUbge5VRAzczMzMzMVEC4HoXrUdhUQArXo3A9mlRAexSuR+GaVEApXI/C9WhUQPYoXI/CdVRAw/UoXI/yVECkcD0K1/NUQB+F61G4PlRAMzMzMzOjVEC4HoXrUZhUQD0K16NwvVRASOF6FK63VEAAAAAAAKBUQMP1KFyP4lRAAAAAAACwVUAzMzMzM8NVQLgehetRqFVAhetRuB6FVUC4HoXrUWhUQMP1KFyPklRAexSuR+EqVUAUrkfhesRUQM3MzMzM/FRA4XoUrkdxVUCkcD0K11NVQIXrUbgeZVVApHA9CtdjVUCamZmZmdlVQK5H4XoUflVAUrgehevhVUDXo3A9CsdVQLgehetRyFVAuB6F61EoVkCuR+F6FD5WQMP1KFyP0lZAuB6F61HYVkDNzMzMzLxWQK5H4XoUTldA9ihcj8I1V0DsUbgehatWQOxRuB6Fy1ZA16NwPQqXVkCF61G4HsVWQArXo3A9+lZA7FG4HoXrVkCF61G4HgVXQIXrUbgexVZACtejcD3qVkAzMzMzM4NWQArXo3A9alZAcT0K16PwVUB7FK5H4TpWQEjhehSu91VAexSuR+H6VUDD9Shcj/JVQK5H4XoUHlZAXI/C9Si8VkDsUbgehatWQB+F61G4LldAuB6F61EIWEDsUbgehUtYQKRwPQrXQ1hAj8L1KFwvWEC4HoXrUWhYQClcj8L1aFhAw/UoXI+CWEAUrkfhekRZQOxRuB6Fi1lAzczMzMz8WUApXI/C9RhaQHE9CtejcFpA16NwPQqXWkAUrkfheiRaQClcj8L1GFpAXI/C9SicWkAAAAAAAMBaQArXo3A9OltAexSuR+GaW0DD9Shcj3JbQJqZmZmZ6VpAAAAAAACgW0A9CtejcM1bQHE9Ctej4FxA16NwPQp3XUCamZmZmclcQAAAAAAAgF1AMzMzMzPTXUAAAAAAABBeQArXo3A9Kl5AFK5H4XpEXkApXI/C9ThdQIXrUbgeRV1A4XoUrkeRXECPwvUoXN9cQFyPwvUoTF1ACtejcD1qXkDhehSuRxFeQD0K16NwjV1AAAAAAAAgXkBI4XoUruddQB+F61G4vl1ASOF6FK4XXUDD9Shcj6JdQAAAAAAAUF1AXI/C9SisXUDsUbgehXtdQOxRuB6F615A7FG4HoUjYEA9CtejcBVgQAAAAAAAsF9A16NwPQoXYEC4HoXrURhgQBSuR+F6TGBAZmZmZma+YEBSuB6F68lgQDMzMzMz42BAw/UoXI/KYECF61G4HgVhQJqZmZmZeWFAuB6F61F4YUCuR+F6FGZgQEjhehSur2BASOF6FK6/YUDNzMzMzHxhQJqZmZmZMWFAFK5H4XoEYEDhehSuR2lgQEjhehSul2BAj8L1KFwHYEDhehSuR3FgQArXo3A9amBAw/UoXI9KYEB7FK5H4bpeQBSuR+F6ZF5AUrgehesRX0C4HoXrUSheQNejcD0KJ11A9ihcj8J1XEA9CtejcK1dQEjhehSut11AFK5H4XoEX0CkcD0K1xtgQK5H4XoU3l9AexSuR+FyYECkcD0K1xNgQPYoXI/C1V5AzczMzMxMYEC4HoXrUZBgQPYoXI/C1WBAZmZmZmaGYUC4HoXrUaBgQJqZmZmZaWBAzczMzMwEYEAfhetRuJ5gQHE9CtejeGBAexSuR+GiYED2KFyPwq1gQAAAAAAA4GBA7FG4HoXTYECamZmZmSFhQIXrUbgeHWFAH4XrUbgOYUCuR+F6FIZhQB+F61G4BmJAj8L1KFyfYkDD9Shcj5JiQLgehetRyGJAuB6F61GoYkCamZmZmQFjQDMzMzMzQ2NAexSuR+EyY0BmZmZmZv5iQHE9CtejoGNAmpmZmZlpZEAAAAAAAGhkQB+F61G4RmRAKVyPwvW4Y0CF61G4HlVkQM3MzMzMTGRA9ihcj8KdZEC4HoXrUQBlQEjhehSuF2VASOF6FK63ZEAK16NwPTJlQJqZmZmZoWZAw/UoXI+aZkC4HoXrUThmQFyPwvUodGZAuB6F61GAZkCkcD0K17tmQEjhehSuF2dAmpmZmZnJZkAfhetRuNZmQArXo3A9omZAKVyPwvVQZ0CuR+F6FKZmQM3MzMzMVGVAw/UoXI8aZEDhehSuR7FiQJqZmZmZqWRAmpmZmZkxZEDhehSuR/ljQArXo3A9OmRAZmZmZmbuY0DXo3A9CodkQHsUrkfhemRAw/UoXI/aZECamZmZmflkQLgehetRQGVAcT0K16PoZUCPwvUoXGdmQNejcD0KJ2ZAZmZmZma+ZUCkcD0K19tlQIXrUbgejWZASOF6FK4XZ0DXo3A9Cp9nQFyPwvUonGdApHA9CtfrZkCkcD0K1zNnQFK4HoXrUWdAhetRuB4lZ0B7FK5H4WpmQB+F61G4PmZAexSuR+FCZkAK16NwPcJmQHsUrkfhkmdAexSuR+EqaEBI4XoUri9oQKRwPQrXI2hAMzMzMzNLaEAUrkfhehRoQEjhehSur2dAw/UoXI+yZ0DsUbgeheNlQLgehetRmGVAmpmZmZnRZECPwvUoXM9lQFyPwvUopGVAZmZmZmb+ZECkcD0K17tlQM3MzMzMjGRAuB6F61FoY0DXo3A9Co9jQPYoXI/CnWNApHA9CtfrYkAAAAAAAOhgQFyPwvUofGBAXI/C9SicX0Bcj8L1KJxfQOxRuB6F+19AmpmZmZkRYEAUrkfhenRgQMP1KFyPQmBA4XoUrkcBYECkcD0K13NfQJqZmZmZqV1ACtejcD16XUDD9Shcj4JeQJqZmZmZeV9A7FG4HoVbXkBmZmZmZnZfQD0K16Nw/V5APQrXo3BNXkCF61G4HrVdQHsUrkfhGl5AzczMzMyMXUDsUbgehQtdQM3MzMzMHF1AuB6F61H4XED2KFyPwuVdQPYoXI/ClV9A9ihcj8JlXkApXI/C9ZhdQM3MzMzMTF5AFK5H4XpEXkDXo3A9CmddQClcj8L1uF1AmpmZmZkZXUBmZmZmZvZeQBSuR+F6pF5A7FG4HoUbX0C4HoXrUcheQAAAAAAA0F5APQrXo3AlYEDXo3A9CodfQOxRuB6FM2BAZmZmZmb2YEDsUbgehSNhQMP1KFyPomFAzczMzMwMYUDD9Shcj2JhQFK4HoXrcWFA9ihcj8ItYkCuR+F6FO5hQGZmZmZmbmJAXI/C9SicYkDsUbgehfNiQBSuR+F6lGJAKVyPwvVoYkBSuB6F68liQDMzMzMz42FA16NwPQr3YUBSuB6F6wliQI/C9Shcr2JAAAAAAADIYkCkcD0K15NjQOF6FK5HcWRAmpmZmZl5Y0A9CtejcM1jQJqZmZmZiWRACtejcD2iZEC4HoXrUfBkQAAAAAAASGVA9ihcj8IlZUBSuB6F6+FlQNejcD0K/2VAhetRuB51ZkDhehSuR7FmQMP1KFyPMmZAj8L1KFx/ZkCF61G4Hk1mQAAAAAAA4GZAAAAAAAAYZ0DNzMzMzKRmQHE9CtejEGdA16NwPQrPZkBSuB6F61FmQJqZmZmZmWZAmpmZmZmpZUCuR+F6FIZlQGZmZmZmBmZAUrgeheupZkBcj8L1KLxmQArXo3A9smZACtejcD3yZkBI4XoUrp9mQClcj8L1iGZA7FG4HoWDZkCPwvUoXAdnQOF6FK5HkWZAXI/C9SgUZkDhehSuR5FmQDMzMzMz+2VAAAAAAAAQZUAUrkfhevRkQEjhehSuf2VAZmZmZmYOZkB7FK5H4bplQPYoXI/C/WVAH4XrUbhOZUCF61G4Hg1lQEjhehSuD2VAcT0K16OQZUAUrkfhenRkQD0K16NwrWRAexSuR+FaZEAUrkfhejxlQFK4HoXrcWRAZmZmZmauZEAzMzMzM0tlQKRwPQrX02VA16NwPQovZUApXI/C9XhlQHsUrkfh+mRA7FG4HoUjZUCPwvUoXJ9kQArXo3A9AmVAexSuR+HiZECkcD0K1xNkQI/C9ShcN2RACtejcD2yY0BmZmZmZjZkQD0K16NwVWNAPQrXo3C1Y0CF61G4HsViQHE9CtejGGNASOF6FK5vY0B7FK5H4VJjQOxRuB6FC2NAcT0K16OgYkCPwvUoXIdjQPYoXI/C9WNAw/UoXI/iY0DNzMzMzJxkQJqZmZmZGWVAXI/C9Sh8ZUBcj8L1KMxlQM3MzMzMzGVAPQrXo3BdZUDD9Shcj1JlQHE9CtejGGVAuB6F61FgZUC4HoXrUTBlQK5H4XoUfmVAUrgehev5ZECkcD0K1xtlQFyPwvUoPGVA16NwPQofZUBcj8L1KJxkQFyPwvUoNGRAXI/C9ShMZEDhehSuR5ljQClcj8L1eGNAexSuR+EyY0BxPQrXo3BiQGZmZmZmbmJAH4XrUbiOYkAzMzMzMxtiQLgehetREGFA4XoUrkcBYUAUrkfhehRfQIXrUbgeTWBA4XoUrkchYUDNzMzMzNxfQNejcD0K115A7FG4HoVLX0BSuB6F6wlgQK5H4XoULl9ASOF6FK6XWUDD9Shcj6JbQEjhehSuh1pAZmZmZmZWWEAK16NwPZpXQM3MzMzM3FdAPQrXo3CtVUCF61G4HtVVQDMzMzMzk1VAKVyPwvWIV0AfhetRuM5aQK5H4XoUTllAcT0K16PQV0D2KFyPwsVYQB+F61G4rldAj8L1KFzvV0AfhetRuD5WQD0K16NwjVdAUrgehevhV0AfhetRuG5XQKRwPQrXY1ZAexSuR+FKWEDsUbgehWtZQI/C9Shc/1pAKVyPwvUoWkDhehSuRwFaQFyPwvUo/FpAPQrXo3AdWUC4HoXrURhYQMP1KFyP4ldAAAAAAABQV0B7FK5H4QpXQJqZmZmZ6VVAw/UoXI9yV0BxPQrXo/BVQK5H4XoUblVAXI/C9SjcVUB7FK5H4fpUQFK4HoXrkVNApHA9CtcTVECamZmZmZlWQKRwPQrXE1ZAKVyPwvUYV0C4HoXrUYhWQI/C9Shcn1VA7FG4HoV7VkDhehSuR1FXQJqZmZmZOVZAexSuR+HaVkAfhetRuD5YQKRwPQrXU1hAcT0K16PgV0ApXI/C9RhXQBSuR+F65FdAmpmZmZkJV0CkcD0K1zNXQD0K16NwrVVAH4XrUbi+VUBSuB6F6+FVQClcj8L12FRAcT0K16MAVUA9CtejcK1UQM3MzMzM3FRAH4XrUbgOVUB7FK5H4fpUQHE9CtejwFRAcT0K16MQVkAfhetRuP5WQK5H4XoUnlZAcT0K16MgVkAK16NwPYpWQPYoXI/CBVZAH4XrUbiOVUAzMzMzM1NVQI/C9Shcv1RA9ihcj8JFVEAUrkfhegRUQDMzMzMzA1NApHA9CtcjVEDsUbgehXtVQOxRuB6Fe1VA7FG4HoXLVUCPwvUoXA9WQNejcD0K51ZAzczMzMycVkAK16NwPepVQAAAAAAAQFZA7FG4HoWbVkAfhetRuL5WQKRwPQrXc1dAH4XrUbg+WEDNzMzMzOxYQClcj8L1yFdACtejcD2KV0AzMzMzMyNYQFyPwvUoHFhAXI/C9Sj8VkBSuB6F6/FWQJqZmZmZCVZAzczMzMwsVkCkcD0K1yNVQOF6FK5H8VVACtejcD0qVkCPwvUoXK9VQNejcD0Kt1VAUrgehethVUBcj8L1KHxVQHsUrkfhKlZAmpmZmZmZVUA9CtejcL1UQIXrUbgeNVRAzczMzMyMVUApXI/C9YhWQD0K16NwbVdAMzMzMzNTV0AzMzMzMzNXQHsUrkfhOlhAH4XrUbiuWECF61G4HrVYQDMzMzMzs1hAPQrXo3AtWkCF61G4HuVZQBSuR+F65FlAZmZmZma2WkB7FK5H4fpZQEjhehSuZ1lAH4XrUbiOWUA9CtejcG1aQEjhehSuZ1tApHA9CtczXEDNzMzMzMxcQPYoXI/C9VtAuB6F61FIXEDD9ShcjxJdQHsUrkfhOl1ApHA9CtfDXEAK16NwPZpcQEjhehSuh11AUrgehesBXkBcj8L1KExdQHsUrkfhml1AexSuR+GKXUA9CtejcH1eQAAAAAAAIF5ApHA9CtdTXkAAAAAAACBeQD0K16NwbV5AuB6F61GYXkAAAAAAAPBeQGZmZmZmDmBACtejcD0iYEDsUbgehRtgQOF6FK5HYV9AKVyPwvVoX0BxPQrXo4BfQHE9CtejQF5APQrXo3ANXUCF61G4HuVdQKRwPQrXw11AexSuR+HKXkDNzMzMzPxeQHsUrkfhml5A4XoUrkcxXkApXI/C9chdQFyPwvUozF9AzczMzMwsYEDsUbgehWtgQMP1KFyPgmBAKVyPwvXwYECF61G4HvVgQMP1KFyPImFA4XoUrkd5YUBmZmZmZpZhQM3MzMzMfGFAmpmZmZlZYUDNzMzMzAxhQOxRuB6FA2FAH4XrUbimYEAzMzMzM4tgQOxRuB6Fk2BA7FG4HoV7YEDNzMzMzIRgQM3MzMzM9GBAMzMzMzOzYEDD9Shcj0pgQI/C9Shcj2BAcT0K16MAYUApXI/C9VBhQArXo3A9QmFAcT0K16NQYUCF61G4Hl1hQPYoXI/CBWFAUrgehevZYED2KFyPwnVgQGZmZmZmrmBApHA9CteTYEDXo3A9CtdgQPYoXI/CTWFApHA9CtdLYUAzMzMzM9thQNejcD0K72FAw/UoXI9yYkAfhetRuJZiQDMzMzMza2JArkfhehQOY0BI4XoUri9jQDMzMzMzc2NAH4XrUbh2Y0DsUbgehXNjQBSuR+F6dGNACtejcD3KY0CF61G4Ht1jQOxRuB6FO2RAuB6F61EgZEDD9ShcjxJkQIXrUbge7WNA16NwPQofZEBmZmZmZgZkQOxRuB6Fy2NAcT0K16MYZECamZmZmXlkQGZmZmZmRmRAH4XrUbhmY0AAAAAAAPBjQMP1KFyPAmRAuB6F61E4ZEDD9Shcj5JkQD0K16NwjWRAAAAAAACYZEAK16NwPVpkQJqZmZmZmWRAXI/C9SisZEB7FK5H4XJkQLgehetRGGRAzczMzMwUZECPwvUoXD9kQBSuR+F6tGRA9ihcj8IFZUCuR+F6FM5kQArXo3A9+mRA9ihcj8LtZEBmZmZmZh5lQDMzMzMzS2VAXI/C9SgcZkCPwvUoXG9mQK5H4XoUfmZA16NwPQpfZkA9CtejcG1mQIXrUbgejWZAcT0K16NYZkDsUbgehStmQOF6FK5HoWZA4XoUrkeJZkC4HoXrUYhmQM3MzMzM/GVAw/UoXI96ZkCF61G4Hp1mQOF6FK5HGWdAKVyPwvUgZ0DD9ShcjwJnQEjhehSuJ2dACtejcD0yZ0CamZmZmRlnQOF6FK5HQWdAw/UoXI8qZ0AUrkfhetxmQM3MzMzMFGdAmpmZmZkpaECamZmZmeloQArXo3A98mhAexSuR+HKaEA9CtejcJ1oQGZmZmZm/mdApHA9CtdjZ0AfhetRuN5nQMP1KFyP6mZA7FG4HoUDZ0AK16NwPfJmQArXo3A9MmdAZmZmZmaWZ0C4HoXrUaBnQPYoXI/CfWhAhetRuB6taEA9CtejcLVoQGZmZmZmjmhAexSuR+HaaEAfhetRuB5pQArXo3A9KmlAUrgehesJaUC4HoXrUWBoQPYoXI/CTWhAj8L1KFwHaUDD9Shcj9poQHsUrkfh0mhAw/UoXI9iaEA9CtejcE1oQFK4HoXr8WdAexSuR+HaZ0B7FK5H4eJnQLgehetRgGdAuB6F61H4ZkCF61G4HhVnQKRwPQrXC2hA4XoUrkfhZ0DD9Shcj6pnQArXo3A98mdAexSuR+GaZ0D2KFyPwrVnQHsUrkfhUmdACtejcD3CZ0DhehSuRxloQOxRuB6FW2hAmpmZmZmRaECamZmZmWlpQJqZmZmZuWlA7FG4HoVraUDD9Shcj7ppQGZmZmZmnmlAFK5H4XoEakAAAAAAABBqQPYoXI/CpWlAmpmZmZmZaUCF61G4HsVpQHsUrkfhimlAcT0K16NAaUCkcD0K15tpQPYoXI/CdWlAKVyPwvUIaUAUrkfheiRqQD0K16NwvWlA7FG4HoVLaUAK16NwPQpoQAAAAAAAsGhA4XoUrkcJaUA9CtejcEVpQArXo3A9OmhA4XoUrkdZZ0AUrkfheqxnQI/C9Shcz2dAuB6F61E4aEApXI/C9VhnQDMzMzMzw2dA4XoUrkeZZ0BSuB6F69lnQLgehetRuGdA16NwPQonaEBcj8L1KFxoQArXo3A9umhASOF6FK6faEDsUbgehatoQFyPwvUohGhAPQrXo3BdaEDNzMzMzPRnQM3MzMzMZGhAH4XrUbiOaEAAAAAAAOBoQAAAAAAAaGlApHA9CtdjaUDD9Shcj3JpQPYoXI/CnWlArkfhehSeakAK16NwPaJqQM3MzMzMHGtAPQrXo3BVa0BSuB6F62lrQFyPwvUojGtAZmZmZmY2a0DhehSuR0lrQNejcD0KP2tAj8L1KFxPa0DNzMzMzARrQMP1KFyPUmtAexSuR+HCa0AK16NwPeJrQPYoXI/CjWtAUrgehesRbEC4HoXrUUBsQFyPwvUorGxAmpmZmZmRbEBI4XoUrq9sQK5H4XoU/mxA16NwPQofbUAAAAAAAEBtQOxRuB6FK21AzczMzMxkbUAUrkfhenRtQClcj8L1eG1AZmZmZmbebUB7FK5H4UJuQOxRuB6FE25A4XoUrkcJbkBcj8L1KLxtQOxRuB6Fg29Aw/UoXI8ycEBmZmZmZnZwQJqZmZmZYXBAMzMzMzPbb0A9CtejcM1vQLgehetRVHBAPQrXo3C9b0BxPQrXozBwQMP1KFyPcm9AH4XrUbgeb0BI4XoUru9tQBSuR+F6rGxAcT0K16PgbkCPwvUoXC9vQM3MzMzM3G9AcT0K16Nob0AzMzMzM9tuQEjhehSu525A9ihcj8KtbkBxPQrXozBuQI/C9Shc52xAPQrXo3B1bUBI4XoUrv9tQEjhehSuz21AhetRuB6tbUDNzMzMzMxuQMP1KFyPOm9APQrXo3C1b0CPwvUoXAtwQM3MzMzM/G9A9ihcj8Idb0CamZmZmYFuQEjhehSuT25AcT0K16OQbUBcj8L1KHRuQJqZmZmZ0W5AmpmZmZnpbkBSuB6F65FvQMP1KFyPPnBAw/UoXI+GcEDNzMzMzKhwQAAAAAAAbHBA4XoUrkelcEAUrkfhenhwQFK4HoXrWXBArkfhehQ2cEDXo3A9Ck9wQBSuR+F6JG9AXI/C9SiUbkCF61G4HjVuQIXrUbgeBW5AUrgehes5bkAK16NwPXJvQLgehetRYG9ASOF6FK6Pb0CPwvUoXEdvQBSuR+F6nG5A4XoUrke5bkCamZmZmZFuQOF6FK5HYW5AexSuR+HabUCPwvUoXJ9uQLgehetR6G5AhetRuB59b0BSuB6F65lvQIXrUbgehW9A4XoUrkcNcECamZmZmblvQClcj8L1YG9ArkfhehRGb0CF61G4HtVvQEjhehSu129AuB6F61H4b0BxPQrXo9BvQGZmZmZmnm9ACtejcD3Sb0DhehSuR4lvQArXo3A9am5AXI/C9SicbkC4HoXrUUhuQHsUrkfhGm5AmpmZmZmhbkCkcD0K18NuQHE9CtejYG5A4XoUrkdZbkCamZmZmeFtQHsUrkfhKm1A16NwPQqHbUCuR+F6FDZtQEjhehSuX21AexSuR+F6bUD2KFyPwo1tQB+F61G4bm5AAAAAAACobkA9CtejcHVvQI/C9ShcV29AZmZmZmb2b0AzMzMzM/tvQHsUrkfhAnBAj8L1KFw7cEAzMzMzM0twQM3MzMzMbHBASOF6FK7PcEApXI/C9bxwQI/C9ShcN3FASOF6FK4/cUCamZmZmX1xQKRwPQrXj3FAzczMzMzEcUAfhetRuLJxQKRwPQrXb3FASOF6FK53cUCPwvUoXD9xQLgehetRLHFApHA9CtfvcEBcj8L1KJBxQAAAAAAAlHFAFK5H4XqUcUAAAAAAAOBxQAAAAAAA9HFAmpmZmZklckBmZmZmZj5yQFyPwvUoYHJAmpmZmZkhc0C4HoXrUVRzQAAAAAAA0HJAXI/C9SjgckC4HoXrUdByQBSuR+F6sHJA9ihcj8LFckA9CtejcLlyQK5H4XoUtnJA9ihcj8KNckDsUbgehUtyQOF6FK5HfXJAUrgehevNckCPwvUoXANzQBSuR+F6WHNAexSuR+FGc0BSuB6F611zQGZmZmZmNnNAzczMzMxUc0CPwvUoXD9zQOF6FK5HuXJA9ihcj8KpckApXI/C9VRyQAAAAAAARHJAj8L1KFy/ckApXI/C9aRyQFyPwvUoDHNAXI/C9SjEckDD9ShcjyJzQJqZmZmZJXNAH4XrUbhCc0D2KFyPwulyQOxRuB6FO3NAH4XrUbhWc0BI4XoUrktzQPYoXI/CdXNASOF6FK5Xc0AzMzMzM4NzQEjhehSub3NAXI/C9Sh8c0A9CtejcI1zQAAAAAAAeHNAhetRuB55c0B7FK5H4YZzQClcj8L1fHNAUrgeheuVc0DNzMzMzLRzQKRwPQrXw3NA7FG4HoWrc0C4HoXrUbxzQHE9CtejyHNA9ihcj8LFc0AUrkfheqxzQI/C9Shcm3NAuB6F61EIdEAzMzMzMyN0QOF6FK5HTXRAhetRuB5JdEAK16NwPW50QM3MzMzM0HRAXI/C9SjEdEDsUbgehe90QNejcD0KA3VAH4XrUbgudUDNzMzMzLR0QHE9CtejmHRAzczMzMw4dEAAAAAAANxzQNejcD0Kg3RAFK5H4XrAdEDD9Shcj+Z0QHE9Ctej3HRArkfhehRudEBcj8L1KKB0QClcj8L1+HRAUrgehevtdEBcj8L1KOB0QKRwPQrXD3VA7FG4HoVjdUAzMzMzM5d1QOF6FK5HxXVAKVyPwvWMdUApXI/C9bB1QIXrUbge1XVAuB6F61HgdUDD9ShcjxJ2QOxRuB6Fx3VA16NwPQpPdUCF61G4HpV0QOxRuB6F03RA7FG4HoXXdECamZmZmSl1QLgehetReHVA7FG4HoU7dUCPwvUoXGd1QNejcD0K23VAUrgehevhdUD2KFyPwpl1QAAAAAAAoHVAzczMzMxsdUBmZmZmZhJ1QOF6FK5HZXVA9ihcj8J9dUAzMzMzM/90QDMzMzMzD3RAj8L1KFxXdEA9CtejcBl0QKRwPQrXn3RAPQrXo3C9dECuR+F6FJ50QAAAAAAA+HRACtejcD1edUCF61G4Hk11QOF6FK5HVXVAKVyPwvUwdUDXo3A9Ci91QJqZmZmZ8XRA4XoUrke9dEA9CtejcJl0QFyPwvUojHRAzczMzMyMdED2KFyPwl10QOxRuB6FG3RAFK5H4Xo0dEBmZmZmZm50QM3MzMzMNHRA7FG4HoXnc0CkcD0K1yt0QD0K16NwiXRAXI/C9SjQdECF61G4HlF1QIXrUbgedXVAzczMzMxMdUBxPQrXo0h1QEjhehSuE3VAuB6F61FIdUAUrkfhegx1QArXo3A9KnVASOF6FK4/dUBI4XoUrhN1QGZmZmZmEnVAKVyPwvUgdUD2KFyPwj11QDMzMzMzG3VAKVyPwvUQdUBmZmZmZrJ0QGZmZmZmQnRAw/UoXI9udEBxPQrXo6h0QHsUrkfhsnRAuB6F61FgdEDsUbgehVN0QIXrUbgeMXRAcT0K16N4dEApXI/C9Vx0QGZmZmZmgnRAFK5H4XokdUAUrkfhegB1QJqZmZmZCXVAXI/C9SjgdEBcj8L1KIx0QHsUrkfhLnRAUrgehesxdEAK16NwPSZ0QI/C9Shcz3NACtejcD3ac0CF61G4HjV0QBSuR+F63HNApHA9CtfDc0DsUbgehXdzQB+F61G4KnNAUrgehevFc0Bcj8L1KJxzQArXo3A9InRACtejcD3Wc0B7FK5H4S50QClcj8L1YHRAUrgehetNdECPwvUoXGd0QD0K16Nw3XRAPQrXo3A9dUD2KFyPwmF1QGZmZmZmtnVAPQrXo3DddUAUrkfheoR1QHE9CtejgHVA16NwPQrDdUAzMzMzM791QGZmZmZmLnZAcT0K16O4dkBcj8L1KOh2QBSuR+F6hHdAw/UoXI+Kd0Bcj8L1KOh3QClcj8L1OHhAPQrXo3CFeEApXI/C9dx3QIXrUbge0XdAXI/C9Si8d0D2KFyPwh14QKRwPQrXo3dAzczMzMzcd0Bcj8L1KPB2QFK4HoXrtXZAuB6F61F4dUCkcD0K17t2QI/C9ShcG3ZA16NwPQq3dkAK16NwPep2QArXo3A9TndAcT0K16Mgd0AAAAAAACB3QAAAAAAAQHZAXI/C9SikdUDD9Shcj6p1QJqZmZmZtXZAmpmZmZnddkCPwvUoXLd2QM3MzMzMUHdAuB6F61G0d0BxPQrXo7R3QLgehetRZHdAhetRuB4pd0AUrkfherx2QIXrUbgeFXdACtejcD1Wd0CamZmZmVl3QFK4HoXr8XZAXI/C9SgYd0ApXI/C9WB3QPYoXI/CqXdAH4XrUbjid0Bcj8L1KFh4QOF6FK5HBXlAmpmZmZkheUDhehSuRw15QHE9CtejbHhAMzMzMzOTeECamZmZmYF4QM3MzMzMRHhA9ihcj8IheECamZmZmb13QJqZmZmZLXdAhetRuB7FdkAUrkfheqR2QFK4HoXr/XZAXI/C9SjwdkBmZmZmZnp2QArXo3A9ondAzczMzMxUeEBmZmZmZnJ4QOxRuB6F03hAH4XrUbimeUCPwvUoXId5QGZmZmZmqnlAexSuR+E6eECPwvUoXAd4QD0K16Nw4XdArkfhehSqeECamZmZmS14QJqZmZmZWXhA4XoUrkeZeEA9CtejcJ14QB+F61G4mnhArkfhehQaeEAAAAAAACh4QFyPwvUogHhAAAAAAABUeEBcj8L1KEx4QOF6FK5HsXhAexSuR+EGeEBmZmZmZmp3QClcj8L1YHdAmpmZmZkNd0DD9Shcj6J3QI/C9ShcY3dAzczMzMzwdkBmZmZmZsp2QK5H4XoUbnZAexSuR+HidkAfhetRuE52QD0K16NwGXZAzczMzMzcdkCPwvUoXK92QI/C9ShcO3dAFK5H4XqUd0AAAAAAALB3QOxRuB6F43dA7FG4HoXDd0DD9Shcj6Z3QNejcD0Kv3dAhetRuB7td0A9CtejcNF3QArXo3A9ondAAAAAAAAcd0BxPQrXowh3QClcj8L1KHdA7FG4HoU7d0DhehSuRxF4QIXrUbgeGXhA9ihcj8I5eEBcj8L1KIR4QFK4HoXrtXhAPQrXo3B5eEAAAAAAAKB4QK5H4XoUnnhA16NwPQr/eEA9CtejcCF5QClcj8L1aHlAKVyPwvWseUBmZmZmZqJ5QFK4HoXruXlAMzMzMzOveUCF61G4Hp15QHE9CtejhHlAcT0K16PQeUDhehSuRxV6QFyPwvUoAHpAXI/C9SiMeUB7FK5H4fp5QFK4HoXrjXlAZmZmZmYme0B7FK5H4QZ7QAAAAAAAMHtA4XoUrkeJe0AzMzMzM797QB+F61G4untArkfhehSqe0ApXI/C9fB7QKRwPQrXM3xAj8L1KFx/fECamZmZmfl8QK5H4XoU+n1ArkfhehT+fUApXI/C9Yx+QEjhehSu935AXI/C9ShAfkB7FK5H4YZ+QD0K16NwhX5A7FG4HoVLf0CPwvUoXC9/QOxRuB6FY39AhetRuB7Bf0DhehSuR/V/QEjhehSuRYBAZmZmZmZ8gEAK16NwPYyAQPYoXI/CkYBACtejcD00gEBI4XoUrh2AQClcj8L1IIBAexSuR+F4gEBI4XoUrpGAQM3MzMzMxoBArkfhehREgUAzMzMzM+uBQFK4HoXry4FAAAAAAADMgUDNzMzMzESCQHE9CtejaoJASOF6FK5PgkCF61G4HjeCQOxRuB6FHYJAw/UoXI9ygkB7FK5H4ayCQI/C9ShcxYJAKVyPwvWIgkAfhetRuDiCQDMzMzMzzYJAZmZmZmYgg0CPwvUoXPmCQLgehetRQoNAXI/C9ShWg0DsUbgehRmDQK5H4XoUCINAPQrXo3DtgkApXI/C9WSCQEjhehSuoYFA9ihcj8KHgkCF61G4Hn2CQMP1KFyP2oFAAAAAAABqgUCuR+F6FGCBQDMzMzMzB4FArkfhehSKgkBcj8L1KHiCQJqZmZmZU4JAmpmZmZm/gUAzMzMzM7GBQDMzMzMzz4FAzczMzMyugUBSuB6F6y2BQM3MzMzMToFAH4XrUbhEgUAUrkfhekyBQHsUrkfhVoFA4XoUrkc5gUAzMzMzM/eAQFK4HoXrz4BAH4XrUbiYgEDD9ShcjxyAQMP1KFyPHoBAKVyPwvUOgUA9CtejcO2AQDMzMzMzV4FAZmZmZmYugUB7FK5H4RaBQBSuR+F6ZIFAXI/C9SiagUApXI/C9Y6BQB+F61G4DIFAZmZmZmYmgUDXo3A9ChuBQArXo3A9XoFACtejcD1ggUCF61G4HqOBQFK4HoXrW4FAzczMzMyCgUBI4XoUrmOBQB+F61G4XoFAKVyPwvVygUCamZmZmc2BQLgehetR2oFA4XoUrkfNgUAUrkfheo6BQClcj8L1sIFAzczMzMxYgUBxPQrXo2KBQKRwPQrXdYFAPQrXo3BLgUD2KFyPwr+BQK5H4XoUAoJASOF6FK43gkCamZmZmYmCQAAAAAAAaoJAuB6F61GogkBcj8L1KHyCQB+F61G4XoJASOF6FK4zgkApXI/C9WKCQAAAAAAAcoJACtejcD1ygkApXI/C9WyCQEjhehSuq4JASOF6FK5dgkCuR+F6FFqCQD0K16NwQ4JA7FG4HoV5gUDNzMzMzHiBQM3MzMzMyIFAmpmZmZkVgkAAAAAAAJCCQDMzMzMzcYJAexSuR+F4gkBmZmZmZraCQEjhehSu64JAKVyPwvXegkDNzMzMzNaCQArXo3A98oJApHA9Ctf5gkAfhetRuDqDQFK4HoXrR4NAMzMzMzNBg0AK16NwPWyDQArXo3A9yINAj8L1KFxNhEC4HoXrUQaEQGZmZmZmaoRASOF6FK45hEC4HoXrUT6EQEjhehSun4RAzczMzMyYhEBmZmZmZo6EQI/C9ShcQ4RArkfhehROhECuR+F6FJqEQNejcD0KdYRACtejcD2khEB7FK5H4cSEQMP1KFyPOoRA9ihcj8IphECamZmZmXGEQB+F61G42IRA7FG4HoUZhUAAAAAAAFyFQHE9CtejbIVArkfhehRuhUDsUbgehVOFQGZmZmZmXoVASOF6FK4VhUApXI/C9Y6EQJqZmZmZTYRASOF6FK7LhEBxPQrXo1yEQGZmZmZmIIRAj8L1KFwvhEDD9Shcj36EQArXo3A9WoRAMzMzMzPrg0DD9Shcj3qDQGZmZmZmaINAAAAAAACQg0CkcD0K1yuDQBSuR+F6OINAUrgehetfg0CPwvUoXNWDQHsUrkfhrINAj8L1KFxPg0AzMzMzM52CQArXo3A9WoNAH4XrUbi4gkCkcD0K19OCQHsUrkfhmoJA7FG4HoVvgkD2KFyPwiuCQOF6FK5HNYJA16NwPQqbgUBcj8L1KNiBQLgehetRyoFAAAAAAAAcgUDXo3A9Cn2AQFyPwvUoxoBAKVyPwvWkgEDsUbgehaWAQArXo3A9doBApHA9CtcdgEAAAAAAAC6AQB+F61G4WIFAexSuR+EygUDXo3A9CjmBQAAAAAAAhoFA7FG4HoUTgkAK16NwPe6BQPYoXI/C34FAXI/C9SgSgkBcj8L1KPKBQOF6FK5H+YFAXI/C9SiogUDhehSuR4WAQJqZmZmZx4BA9ihcj8JZgEDNzMzMzD6AQEjhehSumYBAexSuR+GGgECkcD0K1z2AQDMzMzMzQ39AhetRuB7Rf0B7FK5H4V6AQOF6FK5HI4BAH4XrUbj+f0ApXI/C9dh/QArXo3A95n9AmpmZmZl1f0BSuB6F65V/QAAAAAAAQH9A4XoUrkdRgECamZmZmdWAQDMzMzMzn4BAH4XrUbgogEBmZmZmZhCAQD0K16NwG4BAUrgeheu1f0DhehSuRw2AQFyPwvUo6H9AKVyPwvXEfkAUrkfhesx9QIXrUbgeCX9A7FG4HoXTfkA9CtejcKl+QBSuR+F69H5APQrXo3CFf0AUrkfheqB7QPYoXI/C+XpAUrgeheuVe0BmZmZmZhp8QKRwPQrXA3xAH4XrUbjue0A9CtejcNF7QAAAAAAAIHtASOF6FK4TfEAAAAAAAAx8QD0K16Nw4XxAXI/C9ShMfUBmZmZmZpp9QLgehetR3HxAZmZmZmbOfEBI4XoUrsd8QArXo3A9YnxA7FG4HoVffEDsUbgeha97QOxRuB6Fg3tAw/UoXI/Oe0AAAAAAAFB7QD0K16NwsXtAAAAAAABse0BSuB6F6zl7QOF6FK5HjXpA\",\"dtype\":\"float64\",\"shape\":[3270]}},\"selected\":{\"id\":\"3044\",\"type\":\"Selection\"},\"selection_policy\":{\"id\":\"3045\",\"type\":\"UnionRenderers\"}},\"id\":\"3007\",\"type\":\"ColumnDataSource\"},{\"attributes\":{\"months\":[0,4,8]},\"id\":\"3027\",\"type\":\"MonthsTicker\"},{\"attributes\":{},\"id\":\"2998\",\"type\":\"ResetTool\"},{\"attributes\":{},\"id\":\"2999\",\"type\":\"HelpTool\"},{\"attributes\":{\"callback\":null,\"data\":{\"x\":{\"__ndarray__\":\"AACAp/mza0IAAABznrRrQgAAgD5DtWtCAAAAoTG3a0IAAIBs1rdrQgAAADh7uGtCAACAAyC5a0IAAADPxLlrQgAAgDGzu2tCAAAA/Ve8a0IAAIDI/LxrQgAAAJShvWtCAACAX0a+a0IAAADCNMBrQgAAgI3ZwGtCAAAAWX7Ba0IAAIAkI8JrQgAAAPDHwmtCAACAUrbEa0IAAAAeW8VrQgAAgOn/xWtCAAAAtaTGa0IAAICAScdrQgAAAOM3yWtCAACArtzJa0IAAAB6gcprQgAAgEUmy2tCAAAAEcvLa0IAAIBzuc1rQgAAAD9ezmtCAACACgPPa0IAAADWp89rQgAAgKFM0GtCAAAABDvSa0IAAIDP39JrQgAAAJuE02tCAACAZinUa0IAAICUvNZrQgAAAGBh12tCAACAKwbYa0IAAAD3qthrQgAAgMJP2WtCAAAAJT7ba0IAAIDw4ttrQgAAALyH3GtCAACAhyzda0IAAABT0d1rQgAAgLW/32tCAAAAgWTga0IAAIBMCeFrQgAAABiu4WtCAACA41Lia0IAAABGQeRrQgAAgBHm5GtCAAAA3Yrla0IAAICoL+ZrQgAAAHTU5mtCAACA1sLoa0IAAACiZ+lrQgAAgG0M6mtCAAAAObHqa0IAAIAEVutrQgAAgDLp7WtCAAAA/o3ua0IAAIDJMu9rQgAAAJXX72tCAACA98Xxa0IAAADDavJrQgAAgI4P82tCAAAAWrTza0IAAIAlWfRrQgAAAIhH9mtCAACAU+z2a0IAAAAfkfdrQgAAgOo1+GtCAAAAttr4a0IAAIAYyfprQgAAAORt+2tCAACArxL8a0IAAAB7t/xrQgAAgEZc/WtCAAAAqUr/a0IAAIB07/9rQgAAAECUAGxCAACACzkBbEIAAADX3QFsQgAAgDnMA2xCAACA0BUFbEIAAACcugVsQgAAgGdfBmxCAAAAyk0IbEIAAICV8ghsQgAAAGGXCWxCAACALDwKbEIAAAD44ApsQgAAgFrPDGxCAAAAJnQNbEIAAIDxGA5sQgAAAL29DmxCAACAiGIPbEIAAADrUBFsQgAAgLb1EWxCAAAAgpoSbEIAAIBNPxNsQgAAABnkE2xCAACAe9IVbEIAAABHdxZsQgAAgBIcF2xCAAAA3sAXbEIAAICpZRhsQgAAAAxUGmxCAACA1/gabEIAAACjnRtsQgAAgG5CHGxCAAAAOuccbEIAAICc1R5sQgAAAGh6H2xCAACAMx8gbEIAAAD/wyBsQgAAgMpoIWxCAAAALVcjbEIAAID4+yNsQgAAAMSgJGxCAACAj0UlbEIAAABb6iVsQgAAgL3YJ2xCAAAAiX0obEIAAIBUIilsQgAAACDHKWxCAACA62sqbEIAAIAZ/yxsQgAAAOWjLWxCAACAsEgubEIAAAB87S5sQgAAgN7bMGxCAAAAqoAxbEIAAIB1JTJsQgAAAEHKMmxCAACADG8zbEIAAABvXTVsQgAAgDoCNmxCAAAABqc2bEIAAIDRSzdsQgAAAJ3wN2xCAACA/945bEIAAADLgzpsQgAAgJYoO2xCAAAAYs07bEIAAIAtcjxsQgAAAJBgPmxCAACAWwU/bEIAAAAnqj9sQgAAgPJOQGxCAAAAvvNAbEIAAIAg4kJsQgAAAOyGQ2xCAACAtytEbEIAAACD0ERsQgAAgE51RWxCAAAAsWNHbEIAAIB8CEhsQgAAAEitSGxCAACAE1JJbEIAAADf9klsQgAAgEHlS2xCAAAADYpMbEIAAIDYLk1sQgAAAKTTTWxCAACAb3hObEIAAADSZlBsQgAAgJ0LUWxCAAAAabBRbEIAAIA0VVJsQgAAAAD6UmxCAACAYuhUbEIAAAAujVVsQgAAgPkxVmxCAAAAxdZWbEIAAICQe1dsQgAAAPNpWWxCAACAvg5abEIAAACKs1psQgAAgFVYW2xCAAAAIf1bbEIAAICD611sQgAAAE+QXmxCAACAGjVfbEIAAICxfmBsQgAAABRtYmxCAACA3xFjbEIAAACrtmNsQgAAgHZbZGxCAAAAQgBlbEIAAICk7mZsQgAAAHCTZ2xCAACAOzhobEIAAAAH3WhsQgAAgNKBaWxCAAAANXBrbEIAAIAAFWxsQgAAAMy5bGxCAACAl15tbEIAAABjA25sQgAAgMXxb2xCAAAAkZZwbEIAAIBcO3FsQgAAACjgcWxCAACA84RybEIAAIAhGHVsQgAAAO28dWxCAACAuGF2bEIAAACEBndsQgAAALKZeWxCAACAfT56bEIAAABJ43psQgAAgBSIe2xCAAAAd3Z9bEIAAIBCG35sQgAAAA7AfmxCAACA2WR/bEIAAAClCYBsQgAAANOcgmxCAACAnkGDbEIAAABq5oNsQgAAgDWLhGxCAAAAmHmGbEIAAIBjHodsQgAAAC/Dh2xCAACA+meIbEIAAADGDIlsQgAAgCj7imxCAAAA9J+LbEIAAIC/RIxsQgAAAIvpjGxCAACAVo6NbEIAAAC5fI9sQgAAgIQhkGxCAAAAUMaQbEIAAIAba5FsQgAAAOcPkmxCAACASf6TbEIAAAAVo5RsQgAAgOBHlWxCAAAArOyVbEIAAIB3kZZsQgAAgKUkmWxCAAAAccmZbEIAAIA8bppsQgAAAAgTm2xCAACAagGdbEIAAAA2pp1sQgAAgAFLnmxCAAAAze+ebEIAAICYlJ9sQgAAAPuCoWxCAACAxieibEIAAACSzKJsQgAAgF1xo2xCAAAAKRakbEIAAICLBKZsQgAAAFeppmxCAACAIk6nbEIAAADu8qdsQgAAgLmXqGxCAAAAHIaqbEIAAIDnKqtsQgAAALPPq2xCAACAfnSsbEIAAABKGa1sQgAAgKwHr2xCAAAAeKyvbEIAAIBDUbBsQgAAAA/2sGxCAACA2pqxbEIAAAA9ibNsQgAAgAgutGxCAAAA1NK0bEIAAICfd7VsQgAAAGsctmxCAACAzQq4bEIAAACZr7hsQgAAgGRUuWxCAAAAMPm5bEIAAABejLxsQgAAgCkxvWxCAAAA9dW9bEIAAIDAer5sQgAAAIwfv2xCAACA7g3BbEIAAAC6ssFsQgAAgIVXwmxCAAAAUfzCbEIAAIAcocNsQgAAAH+PxWxCAACASjTGbEIAAAAW2cZsQgAAgOF9x2xCAAAArSLIbEIAAIAPEcpsQgAAANu1ymxCAACAplrLbEIAAABy/8tsQgAAgD2kzGxCAAAAoJLObEIAAIBrN89sQgAAADfcz2xCAACAAoHQbEIAAADOJdFsQgAAgDAU02xCAAAA/LjTbEIAAIDHXdRsQgAAAJMC1WxCAACAXqfVbEIAAICMOthsQgAAAFjf2GxCAACAI4TZbEIAAADvKNpsQgAAgFEX3GxCAAAAHbzcbEIAAIDoYN1sQgAAALQF3mxCAACAf6rebEIAAADimOBsQgAAgK094WxCAAAAeeLhbEIAAIBEh+JsQgAAABAs42xCAACAchrlbEIAAAA+v+VsQgAAgAlk5mxCAAAA1QjnbEIAAICgredsQgAAAAOc6WxCAACAzkDqbEIAAACa5epsQgAAgGWK62xCAAAAMS/sbEIAAICTHe5sQgAAAF/C7mxCAAAA9gvwbEIAAIDBsPBsQgAAACSf8mxCAACA70PzbEIAAAC76PNsQgAAgIaN9GxCAAAAUjL1bEIAAIC0IPdsQgAAAIDF92xCAACAS2r4bEIAAAAXD/lsQgAAgOKz+WxCAAAARaL7bEIAAIAQR/xsQgAAANzr/GxCAACAp5D9bEIAAABzNf5sQgAAgNUjAG1CAAAAocgAbUIAAIBsbQFtQgAAADgSAm1CAACAA7cCbUIAAABmpQRtQgAAgDFKBW1CAAAA/e4FbUIAAIDIkwZtQgAAAJQ4B21CAACA9iYJbUIAAADCywltQgAAgI1wCm1CAAAAWRULbUIAAIAkugttQgAAAIeoDW1CAACAUk0ObUIAAAAe8g5tQgAAgOmWD21CAAAAtTsQbUIAAIAXKhJtQgAAAOPOEm1CAACArnMTbUIAAAB6GBRtQgAAgEW9FG1CAACAc1AXbUIAAAA/9RdtQgAAgAqaGG1CAAAA1j4ZbUIAAIA4LRttQgAAAMmuH21CAACAlFMgbUIAAABg+CBtQgAAgCudIW1CAAAA90EibUIAAIBZMCRtQgAAACXVJG1CAACA8HklbUIAAAC8HiZtQgAAgIfDJm1CAAAA6rEobUIAAIC1ViltQgAAAIH7KW1CAACATKAqbUIAAAAYRSttQgAAgHozLW1CAAAARtgtbUIAAIARfS5tQgAAAN0hL21CAACAqMYvbUIAAAALtTFtQgAAgNZZMm1CAAAAov4ybUIAAIBtozNtQgAAADlING1CAACAmzY2bUIAAABn2zZtQgAAgDKAN21CAAAA/iQ4bUIAAIDJyThtQgAAACy4Om1CAACA91w7bUIAAADDATxtQgAAgI6mPG1CAAAAWks9bUIAAIC8OT9tQgAAAIjeP21CAACAU4NAbUIAAAAfKEFtQgAAgOrMQW1CAAAATbtDbUIAAIAYYERtQgAAAOQERW1CAACAr6lFbUIAAAB7TkZtQgAAgN08SG1CAAAAqeFIbUIAAIB0hkltQgAAgAvQSm1CAAAAbr5MbUIAAIA5Y01tQgAAAAUITm1CAACA0KxObUIAAACcUU9tQgAAgP4/UW1CAAAAyuRRbUIAAICViVJtQgAAAGEuU21CAACALNNTbUIAAACPwVVtQgAAgFpmVm1CAAAAJgtXbUIAAIDxr1dtQgAAAL1UWG1CAACAH0NabUIAAADr51ptQgAAgLaMW21CAAAAgjFcbUIAAIBN1lxtQgAAALDEXm1CAAAARw5gbUIAAIASs2BtQgAAAN5XYW1CAACAQEZjbUIAAIDXj2RtQgAAAKM0ZW1CAACAbtllbUIAAADRx2dtQgAAgJxsaG1CAAAAaBFpbUIAAIAztmltQgAAAP9aam1CAACAYUlsbUIAAAAt7mxtQgAAgPiSbW1CAAAAxDdubUIAAICP3G5tQgAAgL1vcW1CAAAAiRRybUIAAIBUuXJtQgAAACBec21CAACAgkx1bUIAAABO8XVtQgAAgBmWdm1CAAAA5Tp3bUIAAICw33dtQgAAABPOeW1CAACA3nJ6bUIAAACqF3ttQgAAgHW8e21CAAAAQWF8bUIAAICjT35tQgAAAG/0fm1CAACAOpl/bUIAAAAGPoBtQgAAgNHigG1CAACA/3WDbUIAAADLGoRtQgAAgJa/hG1CAAAAYmSFbUIAAIDEUodtQgAAAJD3h21CAACAW5yIbUIAAAAnQYltQgAAgPLliW1CAAAAVdSLbUIAAIAgeYxtQgAAAOwdjW1CAACAt8KNbUIAAACDZ45tQgAAgOVVkG1CAAAAsfqQbUIAAIB8n5FtQgAAAEhEkm1CAACAE+mSbUIAAAB215RtQgAAgEF8lW1CAAAADSGWbUIAAIDYxZZtQgAAAKRql21CAACABlmZbUIAAADS/ZltQgAAgJ2imm1CAAAAaUebbUIAAACX2p1tQgAAgGJ/nm1CAAAALiSfbUIAAID5yJ9tQgAAAMVtoG1CAACAJ1yibUIAAADzAKNtQgAAgL6lo21CAAAAikqkbUIAAIBV76RtQgAAALjdpm1CAACAg4KnbUIAAABPJ6htQgAAgBrMqG1CAAAA5nCpbUIAAIBIX6ttQgAAABQErG1CAACA36isbUIAAACrTa1tQgAAgHbyrW1CAAAA2eCvbUIAAICkhbBtQgAAAHAqsW1CAACAO8+xbUIAAAAHdLJtQgAAgGlitG1CAAAANQe1bUIAAIAArLVtQgAAAMxQtm1CAACAl/W2bUIAAAD647htQgAAgMWIuW1CAAAAkS26bUIAAIBc0rptQgAAACh3u21CAACAimW9bUIAAABWCr5tQgAAgCGvvm1CAAAA7VO/bUIAAIC4+L9tQgAAgOaLwm1CAAAAsjDDbUIAAIB91cNtQgAAAEl6xG1CAACAq2jGbUIAAAB3DcdtQgAAgEKyx21CAAAADlfIbUIAAIDZ+8htQgAAADzqym1CAACAB4/LbUIAAADTM8xtQgAAgJ7YzG1CAAAAan3NbUIAAIDMa89tQgAAAJgQ0G1CAACAY7XQbUIAAAAvWtFtQgAAgPr+0W1CAAAAXe3TbUIAAIAoktRtQgAAAPQ21W1CAACAv9vVbUIAAACLgNZtQgAAgO1u2G1CAAAAuRPZbUIAAICEuNltQgAAgBsC221CAAAAfvDcbUIAAIBJld1tQgAAABU63m1CAACA4N7ebUIAAACsg99tQgAAgA5y4W1CAAAA2hbibUIAAIClu+JtQgAAAHFg421CAACAPAXkbUIAAACf8+VtQgAAgGqY5m1CAAAANj3nbUIAAIAB4udtQgAAAM2G6G1CAACAL3XqbUIAAAD7GettQgAAgMa+621CAAAAkmPsbUIAAIBdCO1tQgAAAMD27m1CAACAi5vvbUIAAABXQPBtQgAAgCLl8G1CAAAA7onxbUIAAIBQePNtQgAAABwd9G1CAACA58H0bUIAAACzZvVtQgAAgH4L9m1CAAAA4fn3bUIAAICsnvhtQgAAAHhD+W1CAACAQ+j5bUIAAAAPjfptQgAAgHF7/G1CAAAAPSD9bUIAAIAIxf1tQgAAANRp/m1CAACAnw7/bUIAAIDNoQFuQgAAAJlGAm5CAACAZOsCbkIAAAAwkANuQgAAgJJ+BW5CAAAAXiMGbkIAAIApyAZuQgAAAPVsB25CAACAwBEIbkIAAAAjAApuQgAAgO6kCm5CAAAAukkLbkIAAICF7gtuQgAAAFGTDG5CAACAs4EObkIAAAB/Jg9uQgAAgErLD25CAAAAFnAQbkIAAIDhFBFuQgAAAEQDE25CAACAD6gTbkIAAADbTBRuQgAAgKbxFG5CAAAAcpYVbkIAAIDUhBduQgAAAKApGG5CAACAa84YbkIAAAA3cxluQgAAgAIYGm5CAAAAZQYcbkIAAIAwqxxuQgAAAPxPHW5CAACAx/QdbkIAAACTmR5uQgAAgPWHIG5CAAAAwSwhbkIAAICM0SFuQgAAAFh2Im5CAACAIxsjbkIAAACGCSVuQgAAgFGuJW5CAAAAHVMmbkIAAIDo9yZuQgAAALScJ25CAACAFospbkIAAADiLypuQgAAgK3UKm5CAAAAeXkrbkIAAIBEHixuQgAAAKcMLm5CAACAcrEubkIAAAA+Vi9uQgAAgAn7L25CAAAA1Z8wbkIAAIA3jjJuQgAAAAMzM25CAACAztczbkIAAACafDRuQgAAgGUhNW5CAAAAyA83bkIAAICTtDduQgAAAF9ZOG5CAAAA9qI5bkIAAIBYkTtuQgAAACQ2PG5CAACA79o8bkIAAAC7fz1uQgAAgIYkPm5CAAAA6RJAbkIAAIC0t0BuQgAAAIBcQW5CAACASwFCbkIAAAAXpkJuQgAAgHmURG5CAAAARTlFbkIAAIAQ3kVuQgAAANyCRm5CAACApydHbkIAAAAKFkluQgAAgNW6SW5CAACAbARLbkIAAAA4qUtuQgAAgJqXTW5CAAAAZjxObkIAAAD9hU9uQgAAgMgqUG5CAAAAKxlSbkIAAID2vVJuQgAAAMJiU25CAACAjQdUbkIAAABZrFRuQgAAgLuaVm5CAAAAhz9XbkIAAIBS5FduQgAAAB6JWG5CAACA6S1ZbkIAAIAXwVtuQgAAAONlXG5CAACArgpdbkIAAAB6r11uQgAAgNydX25CAAAAqEJgbkIAAIBz52BuQgAAAD+MYW5CAACACjFibkIAAABtH2RuQgAAgDjEZG5CAAAABGllbkIAAIDPDWZuQgAAAJuyZm5CAACA/aBobkIAAADJRWluQgAAgJTqaW5CAAAAYI9qbkIAAIArNGtuQgAAgFnHbW5CAAAAJWxubkIAAIDwEG9uQgAAALy1b25CAACAHqRxbkIAAADqSHJuQgAAgLXtcm5CAAAAgZJzbkIAAIBMN3RuQgAAAK8ldm5CAACAesp2bkIAAABGb3duQgAAgBEUeG5CAAAA3bh4bkIAAIA/p3puQgAAAAtMe25CAACA1vB7bkIAAACilXxuQgAAgG06fW5CAAAA0Ch/bkIAAICbzX9uQgAAAGdygG5CAACAMheBbkIAAAD+u4FuQgAAgGCqg25CAAAALE+EbkIAAID384RuQgAAAMOYhW5CAACAjj2GbkIAAADxK4huQgAAgLzQiG5CAAAAiHWJbkIAAIBTGopuQgAAAB+/im5CAACAga2MbkIAAABNUo1uQgAAgBj3jW5CAAAA5JuObkIAAICvQI9uQgAAABIvkW5CAACA3dORbkIAAACpeJJuQgAAgHQdk25CAACAorCVbkIAAABuVZZuQgAAgDn6lm5CAAAABZ+XbkIAAIDQQ5huQgAAADMymm5CAACA/taabkIAAADKe5tuQgAAgJUgnG5CAAAAYcWcbkIAAIDDs55uQgAAAI9Yn25CAACAWv2fbkIAAAAmoqBuQgAAgPFGoW5CAAAAVDWjbkIAAIAf2qNuQgAAAOt+pG5CAACAtiOlbkIAAACCyKVuQgAAgOS2p25CAAAAsFuobkIAAIB7AKluQgAAAEelqW5CAACAEkqqbkIAAIBA3axuQgAAAAyCrW5CAACA1yaubkIAAACjy65uQgAAgAW6sG5CAAAA0V6xbkIAAICcA7JuQgAAAGiosm5CAACAM02zbkIAAACWO7VuQgAAgGHgtW5CAAAALYW2bkIAAID4KbduQgAAAMTOt25CAACAJr25bkIAAADyYbpuQgAAgL0Gu25CAAAAiau7bkIAAIBUULxuQgAAALc+vm5CAACAguO+bkIAAABOiL9uQgAAgBktwG5CAAAA5dHAbkIAAIBHwMJuQgAAABNlw25CAACA3gnEbkIAAACqrsRuQgAAANhBx25CAACAo+bHbkIAAABvi8huQgAAgDowyW5CAAAABtXJbkIAAIBow8tuQgAAADRozG5CAACA/wzNbkIAAADLsc1uQgAAgJZWzm5CAAAA+UTQbkIAAIDE6dBuQgAAAJCO0W5CAACAWzPSbkIAAAAn2NJuQgAAgInG1G5CAAAAVWvVbkIAAIAgENZuQgAAAOy01m5CAACAt1nXbkIAAAAaSNluQgAAgOXs2W5CAAAAsZHabkIAAIB8NttuQgAAAEjb225CAACAqsndbkIAAAB2bt5uQgAAgEET325CAAAADbjfbkIAAIDYXOBuQgAAADtL4m5CAACABvDibkIAAADSlONuQgAAgJ055G5CAAAAad7kbkIAAIDLzOZuQgAAAJdx525CAACAYhbobkIAAAAuu+huQgAAgPlf6W5CAACAJ/PrbkIAAADzl+xuQgAAgL487W5CAAAAiuHtbkIAAIDsz+9uQgAAALh08G5CAACAgxnxbkIAAABPvvFuQgAAgBpj8m5CAAAAfVH0bkIAAIBI9vRuQgAAABSb9W5CAACA3z/2bkIAAACr5PZuQgAAgA3T+G5CAAAA2Xf5bkIAAICkHPpuQgAAAHDB+m5CAACAO2b7bkIAAACeVP1uQgAAgGn5/W5CAAAANZ7+bkIAAIAAQ/9uQgAAAMzn/25CAACALtYBb0IAAAD6egJvQgAAgMUfA29CAAAAkcQDb0IAAIBcaQRvQgAAAL9XBm9CAACAivwGb0IAAABWoQdvQgAAgCFGCG9CAAAA7eoIb0IAAIBP2QpvQgAAABt+C29CAACA5iIMb0IAAACyxwxvQgAAgH1sDW9CAAAA4FoPb0IAAICr/w9vQgAAAHekEG9CAACAQkkRb0IAAAAO7hFvQgAAgHDcE29CAAAAPIEUb0IAAIAHJhVvQgAAANPKFW9CAACAnm8Wb0IAAAABXhhvQgAAgMwCGW9CAAAAmKcZb0IAAIBjTBpvQgAAAC/xGm9CAACAkd8cb0IAAABdhB1vQgAAgCgpHm9CAAAA9M0eb0IAAIC/ch9vQgAAACJhIW9CAACA7QUib0IAAAC5qiJvQgAAAFD0I29CAACAsuIlb0IAAAB+hyZvQgAAgEksJ29CAAAAFdEnb0IAAIDgdShvQgAAAENkKm9CAACADgkrb0IAAADarStvQgAAgKVSLG9CAAAAcfcsb0IAAIDT5S5vQgAAAJ+KL29CAACAai8wb0IAAAA21DBvQgAAgAF5MW9CAAAAZGczb0IAAIAvDDRvQgAAAPuwNG9CAAAAkvo1b0IAAID06DdvQgAAAMCNOG9CAACAizI5b0IAAIAifDpvQgAAAIVqPG9CAACAUA89b0IAAAActD1vQgAAgOdYPm9CAAAAs/0+b0IAAIAV7EBvQgAAAOGQQW9CAACArDVCb0IAAAB42kJvQgAAgEN/Q29CAACAcRJGb0IAAAA9t0ZvQgAAgAhcR29CAAAA1ABIb0IAAIA270lvQgAAAAKUSm9CAACAzThLb0IAAACZ3UtvQgAAgGSCTG9CAAAAx3BOb0IAAICSFU9vQgAAAF66T29CAACAKV9Qb0IAAAD1A1FvQgAAgFfyUm9CAAAAI5dTb0IAAIDuO1RvQgAAALrgVG9CAACAhYVVb0IAAICzGFhvQgAAAH+9WG9CAACASmJZb0IAAAAWB1pvQgAAgHj1W29CAAAARJpcb0IAAIAPP11vQgAAANvjXW9CAACApoheb0IAAAAJd2BvQgAAgNQbYW9CAAAAoMBhb0IAAIBrZWJvQgAAADcKY29CAACAmfhkb0IAAABlnWVvQgAAgDBCZm9CAAAA/OZmb0IAAIDHi2dvQgAAACp6aW9CAACA9R5qb0IAAADBw2pvQgAAgIxoa29CAAAAWA1sb0IAAIC6+21vQgAAAIagbm9CAACAUUVvb0IAAAAd6m9vQgAAgOiOcG9CAAAAS31yb0IAAIAWInNvQgAAAOLGc29CAACArWt0b0IAAAB5EHVvQgAAgNv+dm9CAAAAp6N3b0IAAIBySHhvQgAAAD7teG9CAAAAbIB7b0IAAIA3JXxvQgAAAAPKfG9CAACAzm59b0IAAACaE35vQgAAgPwBgG9CAAAAyKaAb0IAAICTS4FvQgAAAF/wgW9CAACAKpWCb0IAAACNg4RvQgAAgFgohW9CAAAAJM2Fb0IAAIDvcYZvQgAAALsWh29CAACAHQWJb0IAAADpqYlvQgAAgLROim9CAAAAgPOKb0IAAIBLmItvQgAAAK6GjW9CAACAeSuOb0IAAABF0I5vQgAAgBB1j29CAAAA3BmQb0IAAIA+CJJvQgAAAAqtkm9CAACA1VGTb0IAAACh9pNvQgAAgGyblG9CAAAAz4mWb0IAAICaLpdvQgAAAGbTl29CAACAMXiYb0IAAAD9HJlvQgAAACuwm29CAACA9lScb0IAAADC+ZxvQgAAgI2enW9CAAAA8Iyfb0IAAIC7MaBvQgAAAIfWoG9CAACAUnuhb0IAAICADqRvQgAAAEyzpG9CAACAF1ilb0IAAADj/KVvQgAAgK6hpm9CAAAAEZCob0IAAIDcNKlvQgAAAKjZqW9CAACAc36qb0IAAAA/I6tvQgAAgKERrW9CAAAAbbatb0IAAIA4W65vQgAAAAQAr29CAACAz6Svb0IAAID9N7JvQgAAAMncsm9CAACAlIGzb0IAAABgJrRvQgAAgMIUtm9CAAAAjrm2b0IAAIBZXrdvQgAAACUDuG9CAACA8Ke4b0IAAABTlrpvQgAAgB47u29CAAAA6t+7b0IAAIC1hLxvQgAAAIEpvW9CAACA4xe/b0IAAACvvL9vQgAAgHphwG9CAAAARgbBb0IAAIARq8FvQgAAAHSZw29CAACAPz7Eb0IAAAAL48RvQgAAgNaHxW9CAAAAoizGb0IAAIAEG8hvQgAAANC/yG9CAACAm2TJb0IAAABnCcpvQgAAgDKuym9CAAAAlZzMb0IAAIBgQc1vQgAAACzmzW9CAACA94rOb0IAAADDL89vQgAAgCUe0W9CAAAA8cLRb0IAAIC8Z9JvQgAAAIgM029CAACAU7HTb0IAAAC2n9VvQgAAgIFE1m9CAAAATenWb0IAAIAYjtdvQgAAAOQy2G9CAAAAEsbab0IAAIDdattvQgAAAKkP3G9CAACAdLTcb0IAAADXot5vQgAAgKJH329CAAAAbuzfb0IAAIA5keBvQgAAAAU24W9CAACAZyTjb0IAAAAzyeNvQgAAgP5t5G9CAAAAyhLlb0IAAICVt+VvQgAAAPil529CAACAw0rob0IAAACP7+hvQgAAgFqU6W9CAAAAJjnqb0IAAICIJ+xvQgAAAFTM7G9CAACAH3Htb0IAAADrFe5vQgAAgLa67m9CAAAAGanwb0IAAIDkTfFvQgAAALDy8W9CAACAe5fyb0IAAABHPPNvQgAAgKkq9W9CAAAAdc/1b0IAAIBAdPZvQgAAAAwZ929CAACA1733b0IAAAA6rPlvQgAAgAVR+m9CAAAA0fX6b0IAAICcmvtvQgAAAGg//G9CAACAyi3+b0IAAACW0v5vQgAAgGF3/29CAACAFg4AcEIAAEB8YABwQgAAgK1XAXBCAABAE6oBcEIAAAB5/AFwQgAAwN5OAnBCAACARKECcEIAAMB1mANwQgAAgNvqA3BCAABAQT0EcEIAAACnjwRwQgAAwAziBHBCAAAAPtkFcEIAAMCjKwZwQgAAgAl+BnBCAAAA1SIHcEIAAEAGGghwQgAAAGxsCHBCAADA0b4IcEIAAIA3EQlwQgAAQJ1jCXBCAACAzloKcEIAAEA0rQpwQgAAAJr/CnBCAADA/1ELcEIAAIBlpAtwQgAAwJabDHBCAACA/O0McEIAAEBiQA1wQgAAAMiSDXBCAADALeUNcEIAAABf3A5wQgAAwMQuD3BCAACAKoEPcEIAAECQ0w9wQgAAQCcdEXBCAAAAjW8RcEIAAMDywRFwQgAAgFgUEnBCAABAvmYScEIAAIDvXRNwQgAAQFWwE3BCAAAAuwIUcEIAAMAgVRRwQgAAgIanFHBCAADAt54VcEIAAIAd8RVwQgAAQINDFnBCAAAA6ZUWcEIAAMBO6BZwQgAAwOUxGHBCAACAS4QYcEIAAECx1hhwQgAAABcpGXBCAABASCAacEIAAACuchpwQgAAwBPFGnBCAACAeRcbcEIAAEDfaRtwQgAAgBBhHHBCAABAdrMccEIAAADcBR1wQgAAwEFYHXBCAACAp6odcEIAAMDYoR5wQgAAgD70HnBCAABApEYfcEIAAAAKmR9wQgAAwG/rH3BCAAAAoeIgcEIAAMAGNSFwQgAAgGyHIXBCAABA0tkhcEIAAAA4LCJwQgAAAM91I3BCAADANMgjcEIAAICaGiRwQgAAQABtJHBCAACAMWQlcEIAAECXtiVwQgAAAP0IJnBCAADAYlsmcEIAAIDIrSZwQgAAwPmkJ3BCAACAX/cncEIAAEDFSShwQgAAACucKHBCAADAkO4ocEIAAADC5SlwQgAAwCc4KnBCAACAjYoqcEIAAEDz3CpwQgAAAFkvK3BCAABAiiYscEIAAADweCxwQgAAwFXLLHBCAACAux0tcEIAAIBSZy5wQgAAQLi5LnBCAAAAHgwvcEIAAMCDXi9wQgAAgOmwL3BCAADAGqgwcEIAAICA+jBwQgAAQOZMMXBCAAAATJ8xcEIAAMCx8TFwQgAAAOPoMnBCAADASDszcEIAAICujTNwQgAAQBTgM3BCAAAAejI0cEIAAECrKTVwQgAAABF8NXBCAADAds41cEIAAIDcIDZwQgAAQEJzNnBCAACAc2o3cEIAAEDZvDdwQgAAAD8POHBCAADApGE4cEIAAIAKtDhwQgAAwDurOXBCAACAof05cEIAAEAHUDpwQgAAAG2iOnBCAADA0vQ6cEIAAAAE7DtwQgAAwGk+PHBCAACAz5A8cEIAAEA14zxwQgAAAJs1PXBCAABAzCw+cEIAAAAyfz5wQgAAwJfRPnBCAACA/SM/cEIAAEBjdj9wQgAAgJRtQHBCAABA+r9AcEIAAABgEkFwQgAAwMVkQXBCAACAK7dBcEIAAIDCAENwQgAAQChTQ3BCAAAAjqVDcEIAAMDz90NwQgAAACXvRHBCAADAikFFcEIAAIDwk0VwQgAAQFbmRXBCAAAAvDhGcEIAAEDtL0dwQgAAAFOCR3BCAADAuNRHcEIAAIAeJ0hwQgAAQIR5SHBCAACAtXBJcEIAAEAbw0lwQgAAAIEVSnBCAADA5mdKcEIAAIBMukpwQgAAwH2xS3BCAACA4wNMcEIAAEBJVkxwQgAAAK+oTHBCAADAFPtMcEIAAMCrRE5wQgAAgBGXTnBCAABAd+lOcEIAAADdO09wQgAAQA4zUHBCAAAAdIVQcEIAAMDZ11BwQgAAgD8qUXBCAABApXxRcEIAAIDWc1JwQgAAQDzGUnBCAAAAohhTcEIAAMAHa1NwQgAAgG29U3BCAADAnrRUcEIAAIAEB1VwQgAAQGpZVXBCAAAA0KtVcEIAAMA1/lVwQgAAAGf1VnBCAADAzEdXcEIAAIAymldwQgAAQJjsV3BCAAAA/j5YcEIAAEAvNllwQgAAAJWIWXBCAADA+tpZcEIAAIBgLVpwQgAAQMZ/WnBCAACA93ZbcEIAAEBdyVtwQgAAAMMbXHBCAADAKG5ccEIAAICOwFxwQgAAwL+3XXBCAACAJQpecEIAAECLXF5wQgAAAPGuXnBCAADAVgFfcEIAAACI+F9wQgAAwO1KYHBCAACAU51gcEIAAEC572BwQgAAAB9CYXBCAAAAtoticEIAAMAb3mJwQgAAgIEwY3BCAABA54JjcEIAAIAYemRwQgAAQH7MZHBCAAAA5B5lcEIAAMBJcWVwQgAAgK/DZXBCAADA4LpmcEIAAIBGDWdwQgAAQKxfZ3BCAAAAErJncEIAAMB3BGhwQgAAAKn7aHBCAADADk5pcEIAAIB0oGlwQgAAQNryaXBCAAAAQEVqcEIAAEBxPGtwQgAAANeOa3BCAADAPOFrcEIAAICiM2xwQgAAQAiGbHBCAACAOX1tcEIAAECfz21wQgAAAAUibnBCAADAanRucEIAAIDQxm5wQgAAwAG+b3BCAACAZxBwcEIAAEDNYnBwQgAAADO1cHBCAADAmAdxcEIAAADK/nFwQgAAwC9RcnBCAACAlaNycEIAAED79XJwQgAAAGFIc3BCAABAkj90cEIAAAD4kXRwQgAAwF3kdHBCAACAwzZ1cEIAAEApiXVwQgAAgFqAdnBCAABAwNJ2cEIAAAAmJXdwQgAAwIt3d3BCAACA8cl3cEIAAMAiwXhwQgAAgIgTeXBCAABA7mV5cEIAAABUuHlwQgAAwLkKenBCAAAA6wF7cEIAAMBQVHtwQgAAgLame3BCAAAAgkt8cEIAAECzQn1wQgAAABmVfXBCAADAfud9cEIAAIDkOX5wQgAAQEqMfnBCAACAe4N/cEIAAEDh1X9wQgAAAEcogHBCAADArHqAcEIAAIASzYBwQgAAwEPEgXBCAACAqRaCcEIAAEAPaYJwQgAAAHW7gnBCAADA2g2DcEIAAAAMBYRwQgAAwHFXhHBCAACA16mEcEIAAEA9/IRwQgAAAKNOhXBCAAAAOpiGcEIAAMCf6oZwQgAAgAU9h3BCAABAa4+HcEIAAEAC2YhwQgAAAGgriXBCAADAzX2JcEIAAIAz0IlwQgAAwGTHinBCAACAyhmLcEIAAEAwbItwQgAAAJa+i3BCAADA+xCMcEIAAMCSWo1wQgAAgPisjXBCAABAXv+NcEIAAADEUY5wQgAAQPVIj3BCAAAAW5uPcEIAAMDA7Y9wQgAAgCZAkHBCAABAjJKQcEIAAIC9iZFwQgAAQCPckXBCAAAAiS6ScEIAAMDugJJwQgAAgFTTknBCAADAhcqTcEIAAIDrHJRwQgAAQFFvlHBCAAAAt8GUcEIAAMAcFJVwQgAAAE4LlnBCAADAs12WcEIAAIAZsJZwQgAAQH8Cl3BCAAAA5VSXcEIAAAB8nphwQgAAwOHwmHBCAACAR0OZcEIAAECtlZlwQgAAgN6MmnBCAABARN+acEIAAACqMZtwQgAAwA+Em3BCAACAddabcEIAAMCmzZxwQgAAgAwgnXBCAABAcnKdcEIAAADYxJ1wQgAAwD0XnnBCAAAAbw6fcEIAAMDUYJ9wQgAAgDqzn3BCAABAoAWgcEIAAAAGWKBwQgAAQDdPoXBCAAAAnaGhcEIAAMAC9KFwQgAAgGhGonBCAABAzpiicEIAAID/j6NwQgAAQGXio3BCAAAAyzSkcEIAAMAwh6RwQgAAgJbZpHBCAADAx9ClcEIAAIAtI6ZwQgAAQJN1pnBCAAAA+cemcEIAAMBeGqdwQgAAAJARqHBCAADA9WOocEIAAIBbtqhwQgAAQMEIqXBCAABAWFKqcEIAAAC+pKpwQgAAwCP3qnBCAACAiUmrcEIAAEDvm6twQgAAgCCTrHBCAABAhuWscEIAAADsN61wQgAAwFGKrXBCAACAt9ytcEIAAMDo065wQgAAgE4mr3BCAABAtHivcEIAAAAay69wQgAAwH8dsHBCAAAAsRSxcEIAAMAWZ7FwQgAAgHy5sXBCAABA4guycEIAAABIXrJwQgAAQHlVs3BCAAAA36ezcEIAAMBE+rNwQgAAgKpMtHBCAABAEJ+0cEIAAIBBlrVwQgAAQKfotXBCAAAADTu2cEIAAMByjbZwQgAAgNjftnBCAACAbym4cEIAAEDVe7hwQgAAADvOuHBCAADAoCC5cEIAAADSF7pwQgAAwDdqunBCAACAnby6cEIAAEADD7twQgAAAGlhu3BCAABAmli8cEIAAAAAq7xwQgAAwGX9vHBCAACAy0+9cEIAAEAxor1wQgAAgGKZvnBCAABAyOu+cEIAAAAuPr9wQgAAwJOQv3BCAACA+eK/cEIAAMAq2sBwQgAAgJAswXBCAABA9n7BcEIAAABc0cFwQgAAwMEjwnBCAAAA8xrDcEIAAIC+v8NwQgAAQCQSxHBCAAAAimTEcEIAAEC7W8VwQgAAACGuxXBCAADAhgDGcEIAAIDsUsZwQgAAQFKlxnBCAACAg5zHcEIAAEDp7sdwQgAAAE9ByHBCAADAtJPIcEIAAIAa5shwQgAAwEvdyXBCAACAsS/KcEIAAEAXgspwQgAAAH3UynBCAADA4ibLcEIAAAAUHsxwQgAAwHlwzHBCAACA38LMcEIAAEBFFc1wQgAAAKtnzXBCAABA3F7OcEIAAABCsc5wQgAAwKcDz3BCAACADVbPcEIAAEBzqM9wQgAAgKSf0HBCAABACvLQcEIAAABwRNFwQgAAwNWW0XBCAACAO+nRcEIAAMBs4NJwQgAAgNIy03BCAABAOIXTcEIAAACe19NwQgAAwAMq1HBCAAAANSHVcEIAAMCac9VwQgAAgADG1XBCAABAZhjWcEIAAADMatZwQgAAAGO013BCAADAyAbYcEIAAIAuWdhwQgAAQJSr2HBCAACAxaLZcEIAAEAr9dlwQgAAAJFH2nBCAADA9pnacEIAAIBc7NpwQgAAwI3j23BCAACA8zXccEIAAEBZiNxwQgAAAL/a3HBCAADAJC3dcEIAAABWJN5wQgAAwLt23nBCAACAIcnecEIAAECHG99wQgAAAO1t33BCAABAHmXgcEIAAACEt+BwQgAAwOkJ4XBCAACAT1zhcEIAAEC1ruFwQgAAgOal4nBCAABATPjicEIAAACySuNwQgAAwBed43BCAACAfe/jcEIAAMCu5uRwQgAAgBQ55XBCAABAeovlcEIAAADg3eVwQgAAwEUw5nBCAAAAdyfncEIAAMDceedwQgAAgELM53BCAABAqB7ocEIAAAAOcehwQgAAQD9o6XBCAAAApbrpcEIAAMAKDepwQgAAgHBf6nBCAABA1rHqcEIAAIAHqetwQgAAQG3763BCAAAA003scEIAAMA4oOxwQgAAgJ7y7HBCAADAz+ntcEIAAIA1PO5wQgAAQJuO7nBCAAAAAeHucEIAAMBmM+9wQgAAAJgq8HBCAADA/XzwcEIAAIBjz/BwQgAAAC908XBCAABAYGvycEIAAADGvfJwQgAAwCsQ83BCAACAkWLzcEIAAED3tPNwQgAAgCis9HBCAABAjv70cEIAAAD0UPVwQgAAwFmj9XBCAACAv/X1cEIAAMDw7PZwQgAAgFY/93BCAABAvJH3cEIAAAAi5PdwQgAAwIc2+HBCAAAAuS35cEIAAMAegPlwQgAAgITS+XBCAABA6iT6cEIAAABQd/pwQgAAAOfA+3BCAADATBP8cEIAAICyZfxwQgAAQBi4/HBCAAAAFVT+cEIAAMB6pv5wQgAAgOD4/nBCAADAEfD/cEIAAIB3QgBxQgAAQN2UAHFCAAAAQ+cAcUIAAMCoOQFxQgAAwD+DAnFCAACApdUCcUIAAEALKANxQgAAAHF6A3FCAABAonEEcUIAAAAIxARxQgAAwG0WBXFCAACA02gFcUIAAEA5uwVxQgAAgGqyBnFCAABA0AQHcUIAAAA2VwdxQgAAwJupB3FCAACAAfwHcUIAAMAy8whxQgAAgJhFCXFCAABA/pcJcUIAAABk6glxQgAAwMk8CnFCAAAA+zMLcUIAAMBghgtxQgAAgMbYC3FCAABALCsMcUIAAACSfQxxQgAAACnHDXFCAADAjhkOcUIAAID0aw5xQgAAQFq+DnFCAACAi7UPcUIAAEDxBxBxQgAAAFdaEHFCAADAvKwQcUIAAIAi/xBxQgAAwFP2EXFCAACAuUgScUIAAEAfmxJxQgAAAIXtEnFCAADA6j8TcUIAAAAcNxRxQgAAwIGJFHFCAACA59sUcUIAAEBNLhVxQgAAALOAFXFCAABA5HcWcUIAAABKyhZxQgAAwK8cF3FCAACAFW8XcUIAAEB7wRdxQgAAgKy4GHFCAABAEgsZcUIAAAB4XRlxQgAAwN2vGXFCAACAQwIacUIAAMB0+RpxQgAAgNpLG3FCAABAQJ4bcUIAAACm8BtxQgAAAD06HXFCAADAoowdcUIAAIAI3x1xQgAAQG4xHnFCAAAA1IMecUIAAEAFex9xQgAAAGvNH3FCAADA0B8gcUIAAIA2ciBxQgAAQJzEIHFCAACAzbshcUIAAEAzDiJxQgAAAJlgInFCAADA/rIicUIAAIBkBSNxQgAAwJX8I3FCAACA+04kcUIAAEBhoSRxQgAAAMfzJHFCAADALEYlcUIAAABePSZxQgAAwMOPJnFCAACAKeImcUIAAECPNCdxQgAAAPWGJ3FCAABAJn4ocUIAAACM0ChxQgAAwPEiKXFCAACAV3UpcUIAAEC9xylxQgAAgO6+KnFCAABAVBErcUIAAAC6YytxQgAAwB+2K3FCAACAhQgscUIAAIAcUi1xQgAAQIKkLXFCAAAA6PYtcUIAAMBNSS5xQgAAAH9AL3FCAADA5JIvcUIAAIBK5S9xQgAAQLA3MHFCAAAAFoowcUIAAEBHgTFxQgAAAK3TMXFCAADAEiYycUIAAIB4eDJxQgAAQN7KMnFCAACAD8IzcUIAAEB1FDRxQgAAANtmNHFCAADAQLk0cUIAAICmCzVxQgAAwNcCNnFCAACAPVU2cUIAAECjpzZxQgAAAAn6NnFCAADAbkw3cUIAAACgQzhxQgAAwAWWOHFCAABA0To5cUIAAAA3jTlxQgAAQGiEOnFCAAAAztY6cUIAAMAzKTtxQgAAgJl7O3FCAABA/807cUIAAIAwxTxxQgAAQJYXPXFCAAAA/Gk9cUIAAMBhvD1xQgAAgMcOPnFCAADA+AU/cUIAAIBeWD9xQgAAQMSqP3FCAAAAKv0/cUIAAMCPT0BxQgAAAMFGQXFCAADAJplBcUIAAICM60FxQgAAQPI9QnFCAAAAWJBCcUIAAECJh0NxQgAAAO/ZQ3FCAADAVCxEcUIAAIC6fkRxQgAAQCDRRHFCAACAUchFcUIAAEC3GkZxQgAAAB1tRnFCAADAgr9GcUIAAIDoEUdxQgAAwBkJSHFCAACAf1tIcUIAAEDlrUhxQgAAAEsASXFCAADAsFJJcUIAAADiSUpxQgAAwEecSnFCAACAre5KcUIAAEATQUtxQgAAAHmTS3FCAAAAEN1McUIAAMB1L01xQgAAgNuBTXFCAABAQdRNcUIAAIByy05xQgAAQNgdT3FCAAAAPnBPcUIAAMCjwk9xQgAAgAkVUHFCAADAOgxRcUIAAICgXlFxQgAAQAaxUXFCAAAAbANScUIAAMDRVVJxQgAAAANNU3FCAADAaJ9TcUIAAIDO8VNxQgAAQDREVHFCAAAAmpZUcUIAAEDLjVVxQgAAADHgVXFCAADAljJWcUIAAID8hFZxQgAAQGLXVnFCAACAk85XcUIAAED5IFhxQgAAAF9zWHFCAADAxMVYcUIAAIAqGFlxQgAAwFsPWnFCAACAwWFacUIAAEAntFpxQgAAAI0GW3FCAADA8lhbcUIAAAAkUFxxQgAAwImiXHFCAACA7/RccUIAAEBVR11xQgAAALuZXXFCAABA7JBecUIAAABS415xQgAAwLc1X3FCAACAHYhfcUIAAECD2l9xQgAAgLTRYHFCAABAGiRhcUIAAACAdmFxQgAAwOXIYXFCAACASxticUIAAMB8EmNxQgAAgOJkY3FCAABASLdjcUIAAACuCWRxQgAAwBNcZHFCAAAARVNlcUIAAMCqpWVxQgAAgBD4ZXFCAAAA3JxmcUIAAEANlGdxQgAAAHPmZ3FCAADA2DhocUIAAIA+i2hxQgAAQKTdaHFCAACA1dRpcUIAAEA7J2pxQgAAAKF5anFCAADABsxqcUIAAIBsHmtxQgAAwJ0VbHFCAACAA2hscUIAAEBpumxxQgAAAM8MbXFCAADANF9tcUIAAABmVm5xQgAAwMuobnFCAACAMftucUIAAECXTW9xQgAAAP2fb3FCAABALpdwcUIAAMD5O3FxQgAAgF+OcXFCAABAxeBxcUIAAID213JxQgAAAMJ8c3FCAADAJ89zcUIAAICNIXRxQgAAwL4YdXFCAACAJGt1cUIAAECKvXVxQgAAAPAPdnFCAADAVWJ2cUIAAACHWXdxQgAAwOyrd3FCAACAUv53cUIAAEC4UHhxQgAAAB6jeHFCAAAAtex5cUIAAMAaP3pxQgAAgICRenFCAABA5uN6cUIAAIAX23txQgAAQH0tfHFCAAAA4398cUIAAMBI0nxxQgAAgK4kfXFCAADA3xt+cUIAAIBFbn5xQgAAQKvAfnFCAAAAERN/cUIAAMB2ZX9xQgAAAKhcgHFCAADADa+AcUIAAIBzAYFxQgAAQNlTgXFCAAAAP6aBcUIAAADW74JxQgAAwDtCg3FCAACAoZSDcUIAAEAH54NxQgAAgDjehHFCAABAnjCFcUIAAAAEg4VxQgAAwGnVhXFCAACAzyeGcUIAAMAAH4dxQgAAgGZxh3FCAABAzMOHcUIAAAAyFohxQgAAwJdoiHFCAAAAyV+JcUIAAMAusolxQgAAgJQEinFCAABA+laKcUIAAABgqYpxQgAAQJGgi3FCAAAA9/KLcUIAAMBcRYxxQgAAgMKXjHFCAACAWeGNcUIAAEC/M45xQgAAACWGjnFCAADAitiOcUIAAIDwKo9xQgAAwCEikHFCAACAh3SQcUIAAEDtxpBxQgAAAFMZkXFCAADAuGuRcUIAAADqYpJxQgAAwE+1knFCAACAtQeTcUIAAEAbWpNxQgAAAIGsk3FCAABAsqOUcUIAAAAY9pRxQgAAwH1IlXFCAACA45qVcUIAAEBJ7ZVxQgAAgHrklnFCAABA4DaXcUIAAABGiZdxQgAAwKvbl3FCAACAES6YcUIAAMBCJZlxQgAAgKh3mXFCAABADsqZcUIAAAB0HJpxQgAAwNlumnFCAAAAC2abcUIAAMBwuJtxQgAAgNYKnHFCAABAPF2ccUIAAACir5xxQgAAQNOmnXFCAAAAOfmdcUIAAMCeS55xQgAAgASennFCAABAavCecUIAAICb559xQgAAQAE6oHFCAAAAZ4ygcUIAAMDM3qBxQgAAgDIxoXFCAACAyXqicUIAAEAvzaJxQgAAAJUfo3FCAADA+nGjcUIAAAAsaaRxQgAAwJG7pHFCAACA9w2lcUIAAEBdYKVxQgAAAMOypXFCAABA9KmmcUIAAABa/KZxQgAAwL9Op3FCAACAJaGncUIAAECL86dxQgAAgLzqqHFCAABAIj2pcUIAAACIj6lxQgAAwO3hqXFCAACAUzSqcUIAAMCEK6txQgAAgOp9q3FCAABAUNCrcUIAAAC2IqxxQgAAwBt1rHFCAAAATWytcUIAAMCyvq1xQgAAgBgRrnFCAABAfmOucUIAAEAVra9xQgAAAHv/r3FCAADA4FGwcUIAAIBGpLBxQgAAQKz2sHFCAACA3e2xcUIAAEBDQLJxQgAAAKmSsnFCAADADuWycUIAAIB0N7NxQgAAwKUutHFCAACAC4G0cUIAAEBx07RxQgAAANcltXFCAADAPHi1cUIAAABub7ZxQgAAwNPBtnFCAACAORS3cUIAAECfZrdxQgAAAAW5t3FCAABANrC4cUIAAACcArlxQgAAwAFVuXFCAACAZ6e5cUIAAEDN+blxQgAAgP7wunFCAABAZEO7cUIAAADKlbtxQgAAwC/ou3FCAACAlTq8cUIAAMDGMb1xQgAAgCyEvXFCAABAkta9cUIAAAD4KL5xQgAAwF17vnFCAAAAj3K/cUIAAMD0xL9xQgAAgFoXwHFCAABAwGnAcUIAAAAmvMBxQgAAAL0FwnFCAADAIljCcUIAAICIqsJxQgAAQO78wnFCAACAH/TDcUIAAECFRsRxQgAAAOuYxHFCAADAUOvEcUIAAIC2PcVxQgAAwOc0xnFCAACATYfGcUIAAECz2cZxQgAAABksx3FCAADAfn7HcUIAAACwdchxQgAAwBXIyHFCAACAexrJcUIAAEDhbMlxQgAAAEe/yXFCAABAeLbKcUIAAADeCMtxQgAAwENby3FCAACAqa3LcUIAAEAPAMxxQgAAgED3zHFCAABApknNcUIAAAAMnM1xQgAAwHHuzXFCAACA10DOcUIAAMAIOM9xQgAAgG6Kz3FCAABA1NzPcUIAAAA6L9BxQgAAwJ+B0HFCAAAA0XjRcUIAAMA2y9FxQgAAgJwd0nFCAABAAnDScUIAAABowtJxQgAAQJm503FCAAAA/wvUcUIAAMBkXtRxQgAAgMqw1HFCAABAMAPVcUIAAIBh+tVxQgAAQMdM1nFCAAAALZ/WcUIAAMCS8dZxQgAAgPhD13FCAADAKTvYcUIAAICPjdhxQgAAQPXf2HFCAAAAWzLZcUIAAMDAhNlxQgAAAPJ72nFCAADAV87acUIAAIC9INtxQgAAQCNz23FCAAAAicXbcUIAAEC6vNxxQgAAACAP3XFCAADAhWHdcUIAAEBRBt5xQgAAgIL93nFCAABA6E/fcUIAAABOot9xQgAAwLP033FCAACAGUfgcUIAAMBKPuFxQgAAgLCQ4XFCAABAFuPhcUIAAAB8NeJxQgAAwOGH4nFCAAAAE3/jcUIAAMB40eNxQgAAgN4j5HFCAABARHbkcUIAAACqyORxQgAAQNu/5XFCAAAAQRLmcUIAAMCmZOZxQgAAQHIJ53FCAACAowDocUIAAEAJU+hxQgAAAG+l6HFCAACAOkrpcUIAAMBrQepxQgAAgNGT6nFCAABAN+bqcUIAAACdOOtxQgAAwAKL63FCAAAANILscUIAAMCZ1OxxQgAAgP8m7XFCAABAZXntcUIAAADLy+1xQgAAAGIV73FCAADAx2fvcUIAAIAtuu9xQgAAQJMM8HFCAACAxAPxcUIAAEAqVvFxQgAAAJCo8XFCAADA9frxcUIAAIBbTfJxQgAAwIxE83FCAACA8pbzcUIAAEBY6fNxQgAAAL479HFCAADAI470cUIAAABVhfVxQgAAwLrX9XFCAACAICr2cUIAAECGfPZxQgAAAOzO9nFCAAAAgxj4cUIAAMDoavhxQgAAgE69+HFCAABAtA/5cUIAAIDlBvpxQgAAQEtZ+nFCAAAAsav6cUIAAMAW/vpxQgAAgHxQ+3FCAADArUf8cUIAAIATmvxxQgAAQHns/HFCAAAA3z79cUIAAMBEkf1xQgAAAHaI/nFCAADA29r+cUIAAIBBLf9xQgAAQKd//3FCAAAADdL/cUIAAEA+yQByQgAAAKQbAXJCAADACW4BckIAAIBvwAFyQgAAQNUSAnJCAACABgoDckIAAEBsXANyQgAAANKuA3JCAADANwEEckIAAICdUwRyQgAAwM5KBXJCAACANJ0FckIAAECa7wVyQgAAAABCBnJCAADAZZQGckIAAACXiwdyQgAAwPzdB3JCAACAYjAIckIAAEDIgghyQgAAQF/MCXJCAAAAxR4KckIAAMAqcQpyQgAAgJDDCnJCAABA9hULckIAAIAnDQxyQgAAQI1fDHJCAAAA87EMckIAAMBYBA1yQgAAgL5WDXJCAADA700OckIAAIBVoA5yQgAAQLvyDnJCAAAAIUUPckIAAMCGlw9yQgAAALiOEHJCAADAHeEQckIAAICDMxFyQgAAQOmFEXJCAAAAT9gRckIAAECAzxJyQgAAAOYhE3JCAADAS3QTckIAAICxxhNyQgAAQBcZFHJCAACASBAVckIAAECuYhVyQgAAABS1FXJCAADAeQcWckIAAIDfWRZyQgAAgHajF3JCAABA3PUXckIAAABCSBhyQgAAwKeaGHJCAAAA2ZEZckIAAMA+5BlyQgAAgKQ2GnJCAABACokackIAAABw2xpyQgAAQKHSG3JCAAAAByUcckIAAMBsdxxyQgAAgNLJHHJCAABAOBwdckIAAIBpEx5yQgAAQM9lHnJCAAAANbgeckIAAMCaCh9yQgAAgABdH3JCAADAMVQgckIAAICXpiByQgAAQP34IHJCAAAAY0shckIAAMDInSFyQgAAAPqUInJCAADAX+cickIAAIDFOSNyQgAAQCuMI3JCAABAwtUkckIAAAAoKCVyQgAAwI16JXJCAACA88wlckIAAEBZHyZyQgAAgIoWJ3JCAABA8GgnckIAAABWuydyQgAAwLsNKHJCAACAIWAockIAAMBSVylyQgAAgLipKXJCAABAHvwpckIAAACETipyQgAAwOmgKnJCAAAAG5grckIAAMCA6ityQgAAgOY8LHJCAABATI8sckIAAACy4SxyQgAAQOPYLXJCAAAASSsuckIAAMCufS5yQgAAgBTQLnJCAABAeiIvckIAAICrGTByQgAAQBFsMHJCAAAAd74wckIAAMDcEDFyQgAAgEJjMXJCAADAc1oyckIAAIDZrDJyQgAAQD//MnJCAAAApVEzckIAAMAKpDNyQgAAADybNHJCAADAoe00ckIAAIAHQDVyQgAAQG2SNXJCAAAA0+Q1ckIAAEAE3DZyQgAAAGouN3JCAADAz4A3ckIAAIA10zdyQgAAQJslOHJCAABAMm85ckIAAACYwTlyQgAAwP0TOnJCAACAY2Y6ckIAAMCUXTtyQgAAgPqvO3JCAABAYAI8ckIAAADGVDxyQgAAwCunPHJCAAAAXZ49ckIAAMDC8D1yQgAAgChDPnJCAABAjpU+ckIAAAD05z5yQgAAQCXfP3JCAAAAizFAckIAAMDwg0ByQgAAgFbWQHJCAABAvChBckIAAIDtH0JyQgAAQFNyQnJCAAAAucRCckIAAMAeF0NyQgAAgIRpQ3JCAADAtWBEckIAAIAbs0RyQgAAQIEFRXJCAAAA51dFckIAAMBMqkVyQgAAAH6hRnJCAADA4/NGckIAAIBJRkdyQgAAQK+YR3JCAAAAFetHckIAAEBG4khyQgAAAKw0SXJCAADAEYdJckIAAIB32UlyQgAAQN0rSnJCAACADiNLckIAAEB0dUtyQgAAANrHS3JCAADAPxpMckIAAIClbExyQgAAwNZjTXJCAACAPLZNckIAAECiCE5yQgAAAAhbTnJCAADAba1OckIAAACfpE9yQgAAwAT3T3JCAACAaklQckIAAEDQm1ByQgAAADbuUHJCAABAZ+VRckIAAADNN1JyQgAAwDKKUnJCAABA/i5TckIAAIAvJlRyQgAAQJV4VHJCAAAA+8pUckIAAMBgHVVyQgAAgMZvVXJCAADA92ZWckIAAIBduVZyQgAAQMMLV3JCAAAAKV5XckIAAMCOsFdyQgAAAMCnWHJCAADAJfpYckIAAICLTFlyQgAAQPGeWXJCAAAAV/FZckIAAECI6FpyQgAAAO46W3JCAADAU41bckIAAIC531tyQgAAgFApXXJCAABAtntdckIAAAAczl1yQgAAwIEgXnJCAADAGGpfckIAAIB+vF9yQgAAQOQOYHJCAAAASmFgckIAAMCvs2ByQgAAAOGqYXJCAADARv1hckIAAICsT2JyQgAAQBKiYnJCAAAAePRickIAAAAPPmRyQgAAwHSQZHJCAACA2uJkckIAAEBANWVyQgAAgHEsZnJCAABA135mckIAAAA90WZyQgAAwKIjZ3JCAACACHZnckIAAMA5bWhyQgAAgJ+/aHJCAABABRJpckIAAABrZGlyQgAAwNC2aXJCAAAAAq5qckIAAMBnAGtyQgAAgM1Sa3JCAABAM6VrckIAAACZ92tyQgAAADBBbXJCAADAlZNtckIAAID75W1yQgAAQGE4bnJCAACAki9vckIAAED4gW9yQgAAAF7Ub3JCAADAwyZwckIAAIApeXByQgAAwFpwcXJCAACAwMJxckIAAEAmFXJyQgAAAIxncnJCAADA8blyckIAAAAjsXNyQgAAwIgDdHJCAACA7lV0ckIAAEBUqHRyQgAAALr6dHJCAABA6/F1ckIAAABRRHZyQgAAwLaWdnJCAACAHOl2ckIAAECCO3dyQgAAgLMyeHJCAABAGYV4ckIAAAB/13hyQgAAwOQpeXJCAACASnx5ckIAAMB7c3pyQgAAgOHFenJCAABARxh7ckIAAACtantyQgAAAES0fHJCAADAqQZ9ckIAAIAPWX1yQgAAQHWrfXJCAAAA2/19ckIAAEAM9X5yQgAAAHJHf3JCAADA15l/ckIAAIA97H9yQgAAQKM+gHJCAACA1DWBckIAAEA6iIFyQgAAAKDagXJCAADABS2CckIAAIBrf4JyQgAAwJx2g3JCAACAAsmDckIAAEBoG4RyQgAAAM5thHJCAADAM8CEckIAAABlt4VyQgAAwMoJhnJCAACAMFyGckIAAECWroZyQgAAAPwAh3JCAABALfiHckIAAACTSohyQgAAwPiciHJCAACAXu+IckIAAEDEQYlyQgAAgPU4inJCAABAW4uKckIAAADB3YpyQgAAwCYwi3JCAACAjIKLckIAAMC9eYxyQgAAgCPMjHJCAABAiR6NckIAAADvcI1yQgAAwFTDjXJCAADA6wyPckIAAIBRX49yQgAAQLexj3JCAAAAHQSQckIAAEBO+5ByQgAAALRNkXJCAADAGaCRckIAAIB/8pFyQgAAQOVEknJCAACAFjyTckIAAEB8jpNyQgAAAOLgk3JCAADARzOUckIAAICthZRyQgAAwN58lXJCAACARM+VckIAAECqIZZyQgAAABB0lnJCAADAdcaWckIAAACnvZdyQgAAwAwQmHJCAACAcmKYckIAAEDYtJhyQgAAAD4HmXJCAAAA1VCackIAAMA6o5pyQgAAgKD1mnJCAABABkibckIAAIA3P5xyQgAAQJ2RnHJCAAAAA+ScckIAAMBoNp1yQgAAgM6InXJCAADA/3+eckIAAIBl0p5yQgAAQMskn3JCAAAAMXefckIAAMCWyZ9yQgAAAMjAoHJCAADALROhckIAAICTZaFyQgAAQPm3oXJCAAAAXwqickIAAECQAaNyQgAAAPZTo3JCAADAW6ajckIAAIDB+KNyQgAAQCdLpHJCAACAWEKlckIAAEC+lKVyQgAAACTnpXJCAADAiTmmckIAAIDvi6ZyQgAAwCCDp3JCAACAhtWnckIAAEDsJ6hyQgAAAFJ6qHJCAADAt8yockIAAADpw6lyQgAAwE4WqnJCAACAtGiqckIAAEAau6pyQgAAAIANq3JCAABAsQSsckIAAAAXV6xyQgAAwHyprHJCAACA4vusckIAAEBITq1yQgAAQN+XrnJCAAAARequckIAAMCqPK9yQgAAgBCPr3JCAADAQYawckIAAICn2LByQgAAQA0rsXJCAAAAc32xckIAAMDYz7FyQgAAAArHsnJCAADAbxmzckIAAIDVa7NyQgAAQDu+s3JCAAAAoRC0ckIAAEDSB7VyQgAAADhatXJCAADAnay1ckIAAIAD/7VyQgAAQGlRtnJCAACAmki3ckIAAEAAm7dyQgAAAGbtt3JCAADAyz+4ckIAAIAxkrhyQgAAwGKJuXJCAACAyNu5ckIAAEAuLrpyQgAAAJSAunJCAADA+dK6ckIAAAAryrtyQgAAwJAcvHJCAACA9m68ckIAAEBcwbxyQgAAAMITvXJCAABA8wq+ckIAAABZXb5yQgAAwL6vvnJCAACAJAK/ckIAAECKVL9yQgAAgLtLwHJCAABAIZ7AckIAAACH8MByQgAAwOxCwXJCAACAUpXBckIAAMCDjMJyQgAAgOnewnJCAABATzHDckIAAAC1g8NyQgAAwBrWw3JCAAAATM3EckIAAMCxH8VyQgAAgBdyxXJCAABAfcTFckIAAADjFsZyQgAAQBQOx3JCAAAAemDHckIAAMDfssdyQgAAQKtXyHJCAACA3E7JckIAAEBCoclyQgAAAKjzyXJCAADADUbKckIAAIBzmMpyQgAAwKSPy3JCAACACuLLckIAAEBwNMxyQgAAANaGzHJCAADAO9nMckIAAABt0M1yQgAAwNIiznJCAACAOHXOckIAAECex85yQgAAAAQaz3JCAABANRHQckIAAACbY9ByQgAAwAC20HJCAACAZgjRckIAAID9UdJyQgAAQGOk0nJCAAAAyfbSckIAAMAuSdNyQgAAgJSb03JCAADAxZLUckIAAIAr5dRyQgAAQJE31XJCAAAA94nVckIAAMBc3NVyQgAAAI7T1nJCAADA8yXXckIAAIBZeNdyQgAAQL/K13JCAAAAJR3YckIAAAC8ZtlyQgAAwCG52XJCAACAhwvackIAAEDtXdpyQgAAgB5V23JCAABAhKfbckIAAADq+dtyQgAAwE9M3HJCAACAtZ7cckIAAMDmld1yQgAAgEzo3XJCAABAsjreckIAAAAYjd5yQgAAwH3f3nJCAAAAr9bfckIAAMAUKeByQgAAgHp74HJCAABA4M3gckIAAABGIOFyQgAAQHcX4nJCAAAA3WnickIAAMBCvOJyQgAAgKgO43JCAABADmHjckIAAEClquRyQgAAAAv95HJCAADAcE/lckIAAIDWoeVyQgAAwAeZ5nJCAACAbevmckIAAEDTPedyQgAAADmQ53JCAADAnuLnckIAAADQ2ehyQgAAwDUs6XJCAACAm37pckIAAEAB0elyQgAAAGcj6nJCAABAmBrrckIAAAD+bOtyQgAAwGO/63JCAACAyRHsckIAAEAvZOxyQgAAgGBb7XJCAABAxq3tckIAAAAsAO5yQgAAwJFS7nJCAACA96TuckIAAMAonO9yQgAAgI7u73JCAABA9EDwckIAAABak/ByQgAAwL/l8HJCAAAA8dzxckIAAMBWL/JyQgAAgLyB8nJCAABAItTyckIAAACIJvNyQgAAQLkd9HJCAAAAH3D0ckIAAMCEwvRyQgAAgOoU9XJCAABAUGf1ckIAAICBXvZyQgAAQOew9nJCAAAATQP3ckIAAMCyVfdyQgAAwEmf+HJCAACAr/H4ckIAAEAVRPlyQgAAAHuW+XJCAADA4Oj5ckIAAAAS4PpyQgAAwHcy+3JCAACA3YT7ckIAAEBD1/tyQgAAAKkp/HJCAABA2iD9ckIAAABAc/1yQgAAwKXF/XJCAACACxj+ckIAAEBxav5yQgAAgKJh/3JCAABACLT/ckIAAABuBgBzQgAAwNNYAHNCAACAOasAc0IAAMBqogFzQgAAgND0AXNCAABANkcCc0IAAACcmQJzQgAAwAHsAnNCAADAmDUEc0IAAID+hwRzQgAAQGTaBHNCAAAAyiwFc0IAAED7IwZzQgAAAGF2BnNCAADAxsgGc0IAAIAsGwdzQgAAQJJtB3NCAACAw2QIc0IAAEAptwhzQgAAAI8JCXNCAADA9FsJc0IAAIBarglzQgAAwIulCnNCAACA8fcKc0IAAEBXSgtzQgAAAL2cC3NCAADAIu8Lc0IAAABU5gxzQgAAwLk4DXNCAACAH4sNc0IAAECF3Q1zQgAAAOsvDnNCAAAAgnkPc0IAAMDnyw9zQgAAgE0eEHNCAABAs3AQc0IAAIDkZxFzQgAAQEq6EXNCAAAAsAwSc0IAAMAVXxJzQgAAgHuxEnNCAADArKgTc0IAAIAS+xNzQgAAQHhNFHNCAAAA3p8Uc0IAAMBD8hRzQgAAAHXpFXNCAADA2jsWc0IAAIBAjhZzQgAAQKbgFnNCAAAADDMXc0IAAEA9KhhzQgAAAKN8GHNCAADACM8Yc0IAAIBuIRlzQgAAQNRzGXNCAACABWsac0IAAEBrvRpzQgAAANEPG3NCAADANmIbc0IAAICctBtzQgAAwM2rHHNCAACAM/4cc0IAAECZUB1zQgAAAP+iHXNCAADAZPUdc0IAAACW7B5zQgAAwPs+H3NCAACAYZEfc0IAAEDH4x9zQgAAAC02IHNCAABAXi0hc0IAAADEfyFzQgAAwCnSIXNCAACAjyQic0IAAED1diJzQgAAQIzAI3NCAAAA8hIkc0IAAMBXZSRzQgAAgL23JHNCAADA7q4lc0IAAIBUASZzQgAAQLpTJnNCAAAAIKYmc0IAAMCF+CZzQgAAALfvJ3NCAADAHEIoc0IAAICClChzQgAAQOjmKHNCAAAATjkpc0IAAEB/MCpzQgAAAOWCKnNCAADAStUqc0IAAICwJytzQgAAQBZ6K3NCAACAR3Esc0IAAECtwyxzQgAAABMWLXNCAADAeGgtc0IAAIDeui1zQgAAwA+yLnNCAACAdQQvc0IAAEDbVi9zQgAAAEGpL3NCAADApvsvc0IAAADY8jBzQgAAwD1FMXNCAACAo5cxc0IAAEAJ6jFzQgAAAG88MnNCAABAoDMzc0IAAAAGhjNzQgAAwGvYM3NCAACA0So0c0IAAEA3fTRzQgAAgGh0NXNCAABAzsY1c0IAAAA0GTZzQgAAwJlrNnNCAACA/702c0IAAMAwtTdzQgAAgJYHOHNCAABA/Fk4c0IAAABirDhzQgAAwMf+OHNCAAAA+fU5c0IAAMBeSDpzQgAAgMSaOnNCAABAKu06c0IAAACQPztzQgAAQME2PHNCAAAAJ4k8c0IAAMCM2zxzQgAAQFiAPXNCAACAiXc+c0IAAEDvyT5zQgAAAFUcP3NCAADAum4/c0IAAIAgwT9zQgAAwFG4QHNCAACAtwpBc0IAAEAdXUFzQgAAAIOvQXNCAADA6AFCc0IAAAAa+UJzQgAAwH9LQ3NCAACA5Z1Dc0IAAEBL8ENzQgAAALFCRHNCAABA4jlFc0IAAABIjEVzQgAAwK3eRXNCAACAEzFGc0IAAEB5g0ZzQgAAQBDNR3NCAAAAdh9Ic0IAAMDbcUhzQgAAgEHESHNCAACA2A1Kc0IAAEA+YEpzQgAAAKSySnNCAADACQVLc0IAAAA7/EtzQgAAwKBOTHNCAACABqFMc0IAAEBs80xzQgAAANJFTXNCAAAAaY9Oc0IAAMDO4U5zQgAAgDQ0T3NCAABAmoZPc0IAAIDLfVBzQgAAQDHQUHNCAAAAlyJRc0IAAMD8dFFzQgAAgGLHUXNCAADAk75Sc0IAAID5EFNzQgAAQF9jU3NCAAAAxbVTc0IAAMAqCFRzQgAAAFz/VHNCAADAwVFVc0IAAIAnpFVzQgAAQI32VXNCAAAA80hWc0IAAEAkQFdzQgAAAIqSV3NCAADA7+RXc0IAAIBVN1hzQgAAQLuJWHNCAABAUtNZc0IAAAC4JVpzQgAAwB14WnNCAACAg8pac0IAAMC0wVtzQgAAgBoUXHNCAABAgGZcc0IAAADmuFxzQgAAwEsLXXNCAAAAfQJec0IAAMDiVF5zQgAAgEinXnNCAABArvlec0IAAAAUTF9zQgAAQEVDYHNCAAAAq5Vgc0IAAMAQ6GBzQgAAgHY6YXNCAABA3Ixhc0IAAIANhGJzQgAAQHPWYnNCAAAA2Shjc0IAAMA+e2NzQgAAgKTNY3NCAADA1cRkc0IAAIA7F2VzQgAAQKFpZXNCAAAAB7xlc0IAAMBsDmZzQgAAAJ4FZ3NCAADAA1hnc0IAAIBpqmdzQgAAQM/8Z3NCAABAZkZpc0IAAADMmGlzQgAAwDHraXNCAACAlz1qc0IAAED9j2pzQgAAgC6Ha3NCAABAlNlrc0IAAAD6K2xzQgAAwF9+bHNCAACAxdBsc0IAAMD2x21zQgAAgFwabnNCAABAwmxuc0IAAAAov25zQgAAwI0Rb3NCAAAAvwhwc0IAAMAkW3BzQgAAgIqtcHNCAABA8P9wc0IAAABWUnFzQgAAQIdJcnNCAAAA7Ztyc0IAAMBS7nJzQgAAgLhAc3NCAABAHpNzc0IAAIBPinRzQgAAQLXcdHNCAAAAGy91c0IAAMCAgXVzQgAAgObTdXNCAADAF8t2c0IAAIB9HXdzQgAAQONvd3NCAAAAScJ3c0IAAMCuFHhzQgAAwEVeeXNCAACAq7B5c0IAAEARA3pzQgAAAHdVenNCAABAqEx7c0IAAAAOn3tzQgAAwHPxe3NCAACA2UN8c0IAAEA/lnxzQgAAgHCNfXNCAABA1t99c0IAAAA8Mn5zQgAAwKGEfnNCAACAB9d+c0IAAMA4zn9zQgAAgJ4ggHNCAABABHOAc0IAAABqxYBzQgAAwM8XgXNCAAAAAQ+Cc0IAAMBmYYJzQgAAgMyzgnNCAABAMgaDc0IAAACYWINzQgAAQMlPhHNCAAAAL6KEc0IAAID6RoVzQgAAQGCZhXNCAACAkZCGc0IAAED34oZzQgAAAF01h3NCAADAwoeHc0IAAIAo2odzQgAAwFnRiHNCAACAvyOJc0IAAEAldolzQgAAAIvIiXNCAADA8BqKc0IAAAAiEotzQgAAwIdki3NCAACA7baLc0IAAEBTCYxzQgAAALlbjHNCAABA6lKNc0IAAABQpY1zQgAAwLX3jXNCAACAG0qOc0IAAECBnI5zQgAAgLKTj3NCAABAGOaPc0IAAAB+OJBzQgAAwOOKkHNCAACASd2Qc0IAAMB61JFzQgAAgOAmknNCAABARnmSc0IAAACsy5JzQgAAwBEek3NCAAAAQxWUc0IAAMCoZ5RzQgAAgA66lHNCAABAdAyVc0IAAADaXpVzQgAAQAtWlnNCAAAAcaiWc0IAAMDW+pZzQgAAgDxNl3NCAABAop+Xc0IAAEA56ZhzQgAAAJ87mXNCAADABI6Zc0IAAIBq4JlzQgAAwJvXmnNCAACAASqbc0IAAEBnfJtzQgAAAM3Om3NCAADAMiGcc0IAAABkGJ1zQgAAwMlqnXNCAACAL72dc0IAAECVD55zQgAAAPthnnNCAABALFmfc0IAAACSq59zQgAAwPf9n3NCAACAXVCgc0IAAEDDoqBzQgAAgPSZoXNCAABAWuyhc0IAAADAPqJzQgAAwCWRonNCAACAi+Oic0IAAMC82qNzQgAAgCItpHNCAABAiH+kc0IAAADu0aRzQgAAwFMkpXNCAAAAhRumc0IAAMDqbaZzQgAAgFDApnNCAABAthKnc0IAAAAcZadzQgAAQE1cqHNCAAAAs66oc0IAAMAYAalzQgAAgH5TqXNCAABA5KWpc0IAAADhQatzQgAAwEaUq3NCAACArOarc0IAAMDd3axzQgAAgEMwrXNCAABAqYKtc0IAAAAP1a1zQgAAwHQnrnNCAAAAph6vc0IAAMALca9zQgAAgHHDr3NCAABA1xWwc0IAAAA9aLBzQgAAQG5fsXNCAAAA1LGxc0IAAMA5BLJzQgAAQAWpsnNCAACANqCzc0IAAECc8rNzQgAAAAJFtHNCAADAZ5e0c0IAAIDN6bRzQgAAwP7gtXNCAACAZDO2c0IAAEDKhbZzQgAAADDYtnNCAADAlSq3c0IAAADHIbhzQgAAwCx0uHNCAACAksa4c0IAAED4GLlzQgAAAF5ruXNCAABAj2K6c0IAAAD1tLpzQgAAwFoHu3NCAACAwFm7c0IAAEAmrLtzQgAAgFejvHNCAAAAI0i9c0IAAMCImr1zQgAAgO7svXNCAADAH+S+c0IAAEDriL9zQgAAAFHbv3NCAADAti3Ac0IAAADoJMFzQgAAwE13wXNCAACAs8nBc0IAAEAZHMJzQgAAAH9uwnNCAABAsGXDc0IAAAAWuMNzQgAAwHsKxHNCAACA4VzEc0IAAEBHr8RzQgAAQN74xXNCAAAAREvGc0IAAMCpncZzQgAAgA/wxnNCAADAQOfHc0IAAICmOchzQgAAQAyMyHNCAAAAct7Ic0IAAMDXMMlzQgAAAAkoynNCAADAbnrKc0IAAIDUzMpzQgAAQDofy3NCAAAAoHHLc0IAAEDRaMxzQgAAADe7zHNCAADAnA3Nc0IAAIACYM1zQgAAQGiyzXNCAABA//vOc0IAAABlTs9zQgAAwMqgz3NCAACAMPPPc0IAAMBh6tBzQgAAgMc80XNCAABALY/Rc0IAAACT4dFzQgAAwPgz0nNC\",\"dtype\":\"float64\",\"shape\":[3270]},\"y\":{\"__ndarray__\":\"UrgehesRLkBinqh/IzQwQNRNYhBYWTFADQIrhxZ5MkC1yHa+n5ozQBzotIFOuzRAVlVVVVXVNUAU9W+EMto2QIcW2c738zdAiIiIiIgIOUBwPQrXoxA6QL5Y8oslHztAdQXIveYiPEBNYhBYOTQ9QGQ730+NNz5Aj8L1KFwvP0DI6G1ZqwM/QKabxCCw8j5A6pjgwTzRPkAz7AqQe80+QOLsw2fY1T5Ac9pApw3UPkCUGARWDs0+QBDmifo3wj5AXgFyr7nQPkCGpCkVZ98+QGmR7Xw/9T5A7Xw/NV76PkAyelvW6vg+QIfPsCtA7j5AmCfq3wjFPkByaJHtfH8+QKtjggfzRD5Aj3vNhaQJPkB1Bci95sI9QLwta3VMcD1A1xUg95orPUCxVscEDwY9QNzd3d3dvTxA9lPjpZuEPED/KocW2U48QMIgsHJoETxAbz0K16PQO0BLqTj78Hk7QHRM8GCeKDtAGXYFyL3mOkD5xZJfLLk6QMZLN4lBgDpA5/up8dJNOkBUnH34DPs5QOEIZfS2rDlAxiCwcmhxOUDNWh0TPDg5QPoMuwLk/jhAnjbQaQO9OEDHkl8s+YU4QBSDwMqhRThAvALkXnMBOEDK6G1Zq8M3QJduEoPAijdAz/dT46VbN0A0MzMzMzM3QCZNqTj7EDdAMsGDeaL+NkCrqqqqqgo3QM/3U+OlGzdAxK4AudccN0ClKRVnHx43QCoVZx8+IzdAawOdNtApN0BlrY4JHiw3QCbq3whlNDdAO99PjZdON0AK16NwPWo3QLQ6JngwjzdAQWDl0CK7N0BEb8taHfM3QFBx9uEzLDhAgzJ6W9ZqOEDfwTxR/6Y4QDwK16Nw3ThAjsL1KFwPOUBzaJHtfD85QL8RyuhtWTlA4+zDZ9h1OUCOwvUoXI85QJJfLPnFkjlAX3MhaUqlOUA3iUFg5bA5QJMYBFYOzTlA4uzDZ9jVOUDsUbgehes5QEPSlIqz7zlAgk4b6LThOUA2XrpJDMI5QFodEzyYpzlABA/mifqXOUDUTWIQWHk5QDWl4uzDZzlAJQaBlUNLOUAQn2FXgDw5QGZmZmZmJjlAcvbhM+wKOUDe3d3d3f04QDYXkqZU/DhAV8cED+bpOEBiV4Dca844QGwuJE2puDhAAEcoo7elOEBqvHSTGKQ4QI2XbhKDoDhAcmiR7XyfOEBsWatjgqc4QLWs1THBwzhAp38jlNHbOEC8nxov3QQ5QNzd3d3dPTlAZR8+w65gOUAEyL3mQpI5QBRnHz7DrjlARLbz/dTYOUAaoYzelvU5QJiZmZmZGTpAuwLkXnNBOkBzaJHtfF86QDfQaQOdljpAnMQgsHLIOkCkcD0K1wM7QEWLbOf7KTtAeL6fGi89O0BXVVVVVVU7QG9Zq2OCZztAOYlBYOVwO0ABRyijt4U7QENg5dAiGztAvi1rdUywOkAd6LSBTjs6QAg6baDTxjlAHC/dJAZBOUA7JngwT7Q4QIpBYOXQIjhAiYiIiIiIN0AyCKwcWuQ2QI6XbhKDQDZArBxaZDufNUD+1HjpJvE0QKnGSzeJQTRA1jHBg3miM0Awlvxiye8yQCv5xZJfTDJAYVeA3GuuMUCA3GsuJA0xQN1rLiRNaTBAPCZ4ME+UL0B/+Ay7AmQuQM7MzMzMDC1AGZKmVJy9K0CVGARWDm0qQETSlIqzTylAsitA7jVXKECC3GsuJE0nQEdvy1odUyZAFdnO91NjJUABK4cW2U4kQIqzD59hFyRA7u7u7u7uI0Dd3d3d3d0jQDHBg3miviNAca+5kDSlI0Ausp3vp4YjQKP+jVBGbyNAku18PzVeI0CjRbbz/VQjQLc6JngwTyNANTMzMzMzI0BLDAIrhxYjQNA+fIZdASNAF9nO91PjIkCujgkezNMiQPxiyS+WvCJAelvW6pigIkChjN6WtXoiQBdLfrHkVyJALSRNqTg7IkCqHFpkOx8iQDHBg3mi/iFAWfKLJb/YIUBmZmZmZqYhQEiaUnH2YSFAYCz5xZIfIUBvEoPAyuEgQMI8Uf9GqCBAN9BpA512IED/jVBGb0sgQM2FpCkVJyBA9Las1TEBIEAOLbKd76cfQFZVVVVVVR9AEhERERERH0AhsHJoke0eQE4b6LSBzh5A2c73U+OlHkA6+/AZdoUeQPyp8dJNYh5AC0lTKs4+HkCmKRVnHz4eQAQP5on6Nx5AwvUoXI9CHkClKRVnHz4eQKwcWmQ7Xx5AiYiIiIiIHkDaQKcNdNoeQPW2rNUxQR9A0PdT46WbH0DRItv5fuofQBhLfrHkFyBAakrF2YdPIEBANV66SYwgQHL24TPsyiBAkTSl4uwDIUB7FK5H4TohQDhCGb0tayFA/0Yoo7elIUAw3SQGgdUhQCNpSsXZByJAx9mHz7ArIkBjnqh/I1QiQJ/vp8ZLdyJALc4+fIadIkBwy1odE7wiQGatjgkezCJAXI/C9SjcIkB7hl0Bcu8iQK9yaJHt/CJAQtKUirMPI0Bbj8L1KBwjQIbPsCtALiNAd3d3d3c3I0BI4XoUrkcjQEA1XrpJTCNA1AY6baBTI0CM3pa1OmYjQCz5xZJfbCNA7u7u7u5uI0Cx5BdLfnEjQI97zYWkaSNAF0t+seRXI0CmVJx9+EwjQLByaJHtPCNAl7U6JngwI0AKHswT9S8jQMfZh8+wKyNAGNnO91MjI0DSItv5fiojQIv6N0IZPSNAR2/LWh1TI0AhsHJokW0jQAY6baDThiNA7cNn2BWgI0BLxdmHz7AjQHmi/o1QxiNAb4QyelvWI0D1b4QyetsjQAaBlUOL7CNALSRNqTj7I0CPNKXi7AMkQCYxCKwcGiRAUP9GKKM3JEC8dJMYBFYkQMI8Uf9GaCRAnMQgsHJoJEAyMzMzM3MkQKXi7MNnmCRA4jPsCpC7JEDqJjEIrNwkQH4/NV66CSVAAnKvuZA0JUAZS36x5FclQMODeaL+jSVADklTKs6+JUATyuhtWeslQOUXS36xJCZAp1ScffhMJkCk/o1QRm8mQE7wYJ6ofyZA/huhjN6WJkDuw2fYFaAmQPX91HjppiZAt/P91HipJkDCyqFFtrMmQEKnDXTawCZAL2t1TPDgJkDD9ShcjwInQIBqvHSTGCdA2FxImlIxJ0BXxwQP5kknQK6OCR7MUydAhaQpFWdfJ0D7qfHSTWInQNUxwYN5YidAUEZvy1pdJ0DsCpB7zUUnQARWDi2yHSdA001iEFj5JkDe3d3d3d0mQOptWatjwiZAKlyPwvWoJkCoVJx9+IwmQHUhaUrFWSZAFmcfPsMuJkDQPnyGXQEmQH4/NV66ySVAWIDcay6kJUCd76fGS3clQELSlIqzTyVAUP9GKKM3JUARyuhtWSslQHKvuZA0JSVAFWcfPsMuJUDLE/VvhDIlQJpScfbhMyVAov6NUEYvJUC5kDSl4iwlQAgezBP1LyVAGARWDi0yJUBXDi2ynS8lQCW/WPKLJSVAugLkXnMhJUCGFtnO9xMlQMKuALnXHCVAdQXIveZCJUDrUbgehWslQKtjggfzhCVAagOdNtCpJUB1TPBgnqglQPyp8dJNoiVAFK5H4XqUJUASg8DKoYUlQPAZdgXIfSVAYFeA3GtuJUD3DLsC5F4lQLErQO41VyVAmG4Sg8BKJUDLoUW28z0lQAJyr7mQNCVAcq+5kDQlJUBANV66SQwlQPKLJb9Y8iRAcfbhM+zKJECuuZA0paIkQOXQItv5fiRAwBHK6G1ZJEARWDm0yDYkQIwlv1jyCyRArBxaZDvfI0Ct1THBg7kjQFjyiyW/mCNApZvEILByI0AXS36x5FcjQHPaQKcNNCNAFpKmVJz9IkCjt2WtjskiQDm0yHa+nyJA6bSBThtoIkBpSsXZh08iQPEZdgXIPSJAZfS2rNUxIkDOhaQpFSciQLC5kDSlIiJAEJ9hV4AcIkCeqH8jlBEiQB3ME/VvBCJATWIQWDn0IUCFpCkVZ98hQE4b6LSBziFAd+kmMQisIUDMzMzMzIwhQDfQaQOddiFAGUt+seRXIUBGtvP91DghQPVvhDJ6GyFAfrHkF0v+IEAua3VM8OAgQOhtWatjwiBAJL9Y8oulIEBNG+i0gY4gQFc5tMh2fiBAOt9PjZduIEAehetRuF4gQEVvy1odUyBAuddcSJpSIEDBg3mi/k0gQHmi/o1QRiBAUI2XbhJDIEBvy1odEzwgQD0K16NwPSBACKwcWmQ7IEBc1uqY4EEgQFk5tMh2PiBAiYiIiIhIIECm4uzDZ1ggQD1R/0YoYyBAm8QgsHJoIEANuwLkXnMgQCuHFtnOdyBA9+Ez7AqQIEBbHRM8mKcgQGOCB/NEvSBAH4XrUbjeIEDdJAaBlQMhQJHtfD81HiFARbbz/dQ4IUD5fmq8dFMhQJ7vp8ZLdyFA3t3d3d2dIUDiM+wKkLshQG3n+6nx0iFAzRP1b4TyIUAeWmQ73w8iQFwdEzyYJyJAID7DrgA5IkDJveZC0lQiQPw3Qhm9bSJAw/UoXI+CIkDSlIqzD58iQMYED+aJuiJAwyCwcmjRIkBFKKO3Ze0iQIEH80T9GyNAlEOLbOc7I0A+w64AuVcjQCuHFtnOdyNAAbnXXEiaI0DHBA/mibojQNejcD0K1yNAtFbHBA/mI0DEZ9gVIPcjQJTR27JWByRAy1odEzwYJEAH80T9GyEkQHXaQKcNNCRAMk/UvxFKJEBV46WbxGAkQMVn2BUgdyRATxvotIGOJECKQWDl0KIkQAc6baDTxiRAC5B7zYXkJEDhwTxR/wYlQHASg8DKISVAbS4kTak4JUBWnH34DDslQLFyaJHtPCVAzj58hl1BJUCU0duyVkclQL7mQtKUSiVA1HjpJjFIJUA7mCfq30glQLu7u7u7OyVAwMqhRbYzJUBR/0YoozclQGSCB/NEPSVAo7dlrY5JJUCl4uzDZ1glQJB7zYWkaSVA1XjpJjGIJUAdEzyYJ6olQHmi/o1QxiVASzeJQWDlJUCA3GsuJA0mQMXZh8+wKyZAarx0kxhEJkDmifo3QlkmQLHkF0t+cSZAHcwT9W+EJkCQ7Xw/NZ4mQClcj8L1qCZA6lG4HoWrJkCwuZA0paImQAqQe82FpCZAGui0gU6bJkAwCKwcWqQmQGDl0CLbuSZAakrF2YfPJkBvhDJ6W9YmQG+EMnpb1iZABoGVQ4vsJkDhM+wKkPsmQAU6baDTBidAvxHK6G0ZJ0C/nxov3SQnQEvF2YfPMCdAJ3gwT9Q/J0Czne+nxksnQGU730+NVydA20CnDXRaJ0A3F5KmVFwnQNKUirMPXydAjlBGb8taJ0BvhDJ6W1YnQGzn+6nxUidAEBERERFRJ0AlBoGVQ0snQDLBg3miPidATWIQWDk0J0AC5F5zISknQA0tsp3vJydA22suJE0pJ0Clm8QgsDInQM0+fIZdQSdANReSplRcJ0ARyuhtWWsnQPk3Qhm9bSdAz7ArQO51J0DBg3mi/o0nQEOLbOf7qSdA6t8IZfS2J0BPjZduEsMnQH5qvHST2CdApHA9CtfjJ0BP1L8RyugnQDSl4uzD5ydALWt1TPDgJ0AMAiuHFtknQLx0kxgE1idACtejcD3KJ0A1XrpJDMInQKQpFWcfvidA6t8IZfS2J0DgCGX0tqwnQGdmZmZmpidA2kCnDXSaJ0Af95oLSZMnQI9QRm/LmidAU+Olm8SgJ0Dd3d3d3Z0nQJqZmZmZmSdAZmZmZmamJ0BYq2OCB7MnQBuhjN6WtSdAKocW2c63J0DSTWIQWLknQHPaQKcNtCdA11xImlKxJ0CZUnH24bMnQFJx9uEzrCdAyuhtWaujJ0CjRbbz/ZQnQIXrUbgehSdA50LSlIpzJ0D9qfHSTWInQK6OCR7MUydAvEkMAitHJ0Bi5dAi2zknQBjZzvdTIydAJZTR27IWJ0CHXQFyr/kmQNijcD0K1yZAGQRWDi2yJkA7JngwT5QmQLu7u7u7eyZAzYWkKRVnJkCgjN6WtTomQFc5tMh2/iVAp8ZLN4nBJUCOwvUoXI8lQP0boYzeViVAsJ3vp8YLJUBH4XoUrsckQKO3Za2OiSRAR+F6FK5HJEDgwTxR/wYkQOHsw2fY1SNAgZVDi2ynI0B46SYxCGwjQI8JHswTNSNA8Rl2Bcj9IkApo7dlrc4iQNijcD0KlyJAupA0peJsIkB2Bci95kIiQG5Zq2OCByJAldHbslbHIUD/jVBGb4shQAhl9LasVSFA92+EMnobIUAxlvxiye8gQNqHz7ArwCBAokW28/2UIECFMnpb1mogQLQPn2FXQCBAP8OuALkXIEAfzBP1bwQgQMSuALnX3B9ASCijt2WtH0AFnTbQaYMfQHtb1uqYYB9As53vp8ZLH0Deay4kTSkfQJdDi2zn+x5Au9dcSJrSHkBqke18P7UeQH7NhaQplR5A5xdLfrFkHkB5Bci95kIeQMQ8Uf9GKB5AFq5H4XoUHkDWvxHK6O0dQIV5ov6N0B1ApXA9CtejHUBAfIZdAXIdQLC5kDSlYh1A3t3d3d1dHUDbQKcNdFodQLKd76fGSx1Asp3vp8ZLHUBVnH34DDsdQAisHFpkOx1Ab8taHRM8HUBKxdmHzzAdQLdlrY4JHh1A1xUg95oLHUAZL90kBgEdQIBOG+i0AR1Aj8L1KFwPHUCtjgkezBMdQD81XrpJDB1AhOtRuB4FHUCbffgMuwIdQK9yaJHt/BxAm334DLsCHUB5FK5H4focQFJx9uEz7BxAcIQyelvWHEClKRVnH74cQAjzRP0boRxAnX34DLuCHED8qfHSTWIcQFvW6pjgQRxAPVH/RigjHEB1kxgEVg4cQB7ME/VvBBxAzz58hl0BHECCThvotAEcQGKeqH8jFBxAL90kBoEVHEBgnqh/IxQcQPl+arx0ExxASAwCK4cWHEDoJjEIrBwcQD/uNReSJhxAfIZdAXIvHEBCREREREQcQCKU0duyVhxA4noUrkdhHEDYXEiaUnEcQFbHBA/miRxAiUFg5dCiHED4U+Olm8QcQB0TPJgn6hxA9+Ez7AoQHUAmv1jyiyUdQAUP5on6Nx1AdwXIveZCHUAKZfS2rFUdQG6g0wY6bR1AKKO3Za2OHUAUZx8+w64dQOf7qfHSzR1AmsQgsHLoHUCHiIiIiAgeQPk3Qhm9LR5ALbKd76dGHkCOUEZvy1oeQPcMuwLkXh5APnyGXQFyHkDvp8ZLN4keQLArQO41lx5ACPNE/RuhHkAmv1jyi6UeQAjzRP0boR5AJ79Y8oulHkACuddcSJoeQMm95kLSlB5AMN0kBoGVHkCJiIiIiIgeQA27AuRecx5AKDEIrBxaHkBwy1odEzweQC/dJAaBFR5AyuhtWavjHUCsY4IH88QdQBVnHz7Drh1AvALkXnOhHUD0RP0boYwdQA27AuRecx1AmwtJUypOHUAzMzMzMzMdQHKvuZA0JR1A0pSKsw8fHUDHveZC0hQdQJRDi2zn+xxAyehtWavjHECaC0lTKs4cQHYFyL3mwhxASsXZh8+wHEBuEoPAyqEcQC7dJAaBlRxA8kT9G6GMHEB9seQXS34cQCbq3whldBxArrmQNKViHEAKAiuHFlkcQIyXbhKDQBxAQ4ts5/spHEA4tMh2vh8cQCEiIiIiIhxA5on6N0IZHEBaZDvfTw0cQCijt2WtDhxAe82FpCkVHEAAuddcSBocQOaJ+jdCGRxA4uzDZ9gVHEB7zYWkKRUcQE6pOPvwGRxAhqQpFWcfHECKQWDl0CIcQKLTBjptIBxAQe41F5ImHEAmv1jyiyUcQFiA3GsuJBxAE8robVkrHEAt+cWSXywcQP/UeOkmMRxAyna+nxovHEDnQtKUijMcQIv6N0IZPRxAPQrXo3A9HECrY4IH80QcQAErhxbZThxAJzEIrBxaHEDGSzeJQWAcQGkDnTbQaRxA61G4HoVrHEBLN4lBYGUcQEiaUnH2YRxAaQOdNtBpHEDa+X5qvHQcQBP1b4QyehxAAAAAAACAHEBuWatjgoccQF4Bcq+5kBxAFa5H4XqUHEAYS36x5JccQDJ6W9bqmBxAtMh2vp+aHEAb6LSBTpscQJJfLPnFkhxAsw+fYVeAHEBIUyrOPnwcQMRn2BUgdxxAILByaJFtHEC18/3UeGkcQMZLN4lBYBxAQmDl0CJbHEBs5/up8VIcQLWBThvoNBxAPVH/RigjHEBD0pSKsw8cQEa28/3U+BtALmt1TPDgG0B9PzVeuskbQAmsHFpkuxtAl7U6JniwG0CkcD0K16MbQKdUnH34jBtAF5KmVJx9G0DUvxHK6G0bQC1rdUzwYBtA1qNwPQpXG0BpSsXZh08bQJSKsw+fYRtAL90kBoGVG0BiEFg5tMgbQGq8dJMYBBxAKhVnHz5DHEA5+/AZdoUcQIR5ov6N0BxA5on6N0IZHUDe3d3d3V0dQNnO91PjpR1AY8kvlvziHUCamZmZmRkeQFK4HoXrUR5Ae82FpCmVHkAilNHbstYeQLWBThvoNB9AT42XbhKDH0DpmODBPNEfQELSlIqzDyBAwMqhRbYzIEBwhDJ6W1YgQLgehetReCBAJzEIrByaIEBGtvP91LggQFVVVVVV1SBASsXZh8/wIEClVJx9+AwhQNAi2/l+KiFAkTSl4uxDIUDwYJ6of2MhQI4JHswTdSFAw/UoXI+CIUDcslbHBI8hQAwCK4cWmSFAhaQpFWefIUAH80T9G6EhQAyQe82FpCFArKqqqqqqIUCsqqqqqqohQLmQNKXirCFAjwkezBO1IUDOPnyGXcEhQIwlv1jyyyFAwBHK6G3ZIUCqqqqqquohQFirY4IH8yFA8Bl2Bcj9IUA/NV66SQwiQBCfYVeAHCJAYVeA3GsuIkDcJAaBlUMiQPcMuwLkXiJAq9UxwYN5IkCU/GLJL5YiQHV3d3d3tyJALd0kBoHVIkATZx8+w+4iQMCDeaL+DSNAxNmHz7ArI0DZh8+wK0AjQMQgsHJoUSNAlIqzD59hI0AVZx8+w24jQJngwTxRfyNAC9ejcD2KI0DGILByaJEjQKbi7MNnmCNAHOi0gU6bI0BkyS+W/KIjQMM8Uf9GqCNA2VxImlKxI0DEZ9gVILcjQJVDi2znuyNAJXgwT9S/I0C+WPKLJb8jQIiIiIiIyCNATak4+/DZI0DVMcGDeeIjQPeaC0lT6iNAg8DKoUX2I0C2rNUxwQMkQE4b6LSBDiRAnTbQaQMdJEBVDi2ynS8kQKjGSzeJQSRA30+Nl25SJEBiyS+W/GIkQJIYBFYObSRAkKZUnH14JED3U+Olm4QkQGM730+NlyRAwTxR/0aoJEABcq+5kLQkQKQpFWcfviRA80T9G6HMJEBaHRM8mOckQBaSplSc/SRAUrgehesRJUApXI/C9SglQF1ImlJxNiVAkqZUnH04JUBYObTIdj4lQLGd76fGSyVA27JWxwRPJUBr5/up8VIlQLQ6JngwTyVAjsL1KFxPJUBAYOXQIlslQBRnHz7DbiVAmeDBPFF/JUBqSsXZh48lQIMH80T9myVA0SLb+X6qJUBsLiRNqbglQNV46SYxyCVAs53vp8bLJUDn+6nx0s0lQHcwT9S/0SVApOLsw2fYJUB2vp8aL90lQFXjpZvE4CVA6iYxCKzcJUATPJgn6t8lQDlCGb0t6yVA4Ja1Oib4JUBg5dAi2/klQCPb+X5q/CVAYHMhaUoFJkDxp8ZLNwkmQIuzD59hFyZA+zdCGb0tJkDW6pjgwTwmQIJOG+i0QSZArwC511xIJkB9zYWkKVUmQAyQe82FZCZAsbmQNKViJkANAiuHFlkmQIJOG+i0QSZAoGFXgNwrJkDfT42XbhImQKk4+/AZ9iVA9W+EMnrbJUAIrBxaZLslQL8RyuhtmSVAxpJfLPmFJUA9CtejcH0lQHyGXQFybyVAA1YOLbJdJUDQaQOdNlAlQFc5tMh2PiVAimzn+6kxJUA4tMh2vh8lQGq8dJMYBCVAfIZdAXLvJEB2vp8aL90kQC6yne+nxiRASCijt2WtJEA8JngwT5QkQAmsHFpkeyRA0pSKsw9fJEAWIPeaC0kkQFH/RiijNyRAiM+wK0AuJEDgehSuRyEkQCKU0duyFiRAe82FpCkVJEDXo3A9ChckQGp1TPBgHiRAuZA0peIsJEBVnH34DDskQJwLSVMqTiRAelvW6phgJEDByqFFtnMkQPJE/RuhjCRApg102kCnJECUQ4ts57skQAY6baDTxiRAx73mQtLUJEBImlJx9uEkQJe1OiZ48CRAYeXQItv5JED/jVBGbwslQOF6FK5HISVAS8XZh88wJUB/seQXSz4lQEZvy1odUyVAgJVDi2xnJUDhM+wKkHslQMCDeaL+jSVAhaQpFWefJUDb+X5qvLQlQMzMzMzMzCVAXyz5xZLfJUBl9Las1fElQCJpSsXZByZAXI/C9SgcJkCQe82FpCkmQPnFkl8sOSZAEeaJ+jdCJkA5+/AZdkUmQJE0peLsQyZAFfVvhDI6JkC2gU4b6DQmQG+g0wY6LSZAWYDcay4kJkBvEoPAyiEmQOxRuB6FKyZAAXKvuZA0JkBYObTIdj4mQNMGOm2gUyZA0k1iEFh5JkDi7MNn2JUmQCuHFtnOtyZAt2WtjgneJkAdzBP1bwQnQLmQNKXiLCdAgdxrLiRNJ0D3mgtJU2onQEt+seQXiydAOUIZvS2rJ0AiaUrF2ccnQCQiIiIi4idABg/mifr3J0CoVJx9+AwoQELuNReSJihANl66SQxCKECFMnpb1mooQOBPjZdukihAZvS2rNWxKEDMWh0TPNgoQMP1KFyPAilAQhm9LWs1KUCJQWDl0GIpQNR46SYxiClAILByaJGtKUAcWmQ7388pQOi0gU4b6ClAcmiR7Xz/KUBScfbhMywqQA502kCnTSpAQmDl0CJbKkC38/3UeGkqQDzfT42XbipAfIZdAXJvKkB02kCnDXQqQJi1OiZ4cCpAAnKvuZB0KkCHXQFyr3kqQFg5tMh2fipAcmiR7Xx/KkDztqzVMYEqQAKdNtBpgypAJ6O3Za2OKkA8w64AuZcqQLt0kxgElipAQtKUirOPKkDJL5b8YokqQEREREREhCpAOPvwGXaFKkCE61G4HoUqQMmhRbbzfSpA5kLSlIpzKkDBPFH/RmgqQBXZzvdTYypAObTIdr5fKkBzIWlKxVkqQLJWxwQPZipAG6GM3pZ1KkBScfbhM2wqQIhBYOXQYipAxks3iUFgKkAdEzyYJ2oqQC+W/GLJbypA3pa1OiZ4KkB8PzVeuokqQAqQe82FpCpAS/Bgnqi/KkAW2c73U+MqQL5Y8osl/ypANKXi7MMnK0DRlIqzD18rQG+EMnpblitACtejcD3KK0Bg5dAi2/krQGJXgNxrLixAeOkmMQhsLEC4Za2OCZ4sQEZvy1od0yxAwFjyiyX/LEBScfbhMywtQHe+nxovXS1AYxBYObSILUDu7u7u7q4tQCtA7jUX0i1ASCijt2XtLUDS27JWxwQuQCtA7jUXEi5Ai7MPn2EXLkDtw2fYFSAuQOAIZfS2LC5Ae82FpClVLkCYtTomeHAuQJsLSVMqji5A0CLb+X6qLkCs1THBg7kuQPdT46WbxC5AYxBYObTILkCmVJx9+MwuQO3DZ9gV4C5AbaDTBjrtLkAs+cWSX+wuQHRM8GCe6C5ABFYOLbLdLkB7zYWkKdUuQEt+seQXyy5AKocW2c63LkDP91PjpZsuQJjgwTxRfy5Ane+nxkt3LkBcukkMAmsuQAoCK4cWWS5ApFScffhMLkC95kLSlEouQFbHBA/mSS5AoUW28/1ULkCZmZmZmVkuQOzDZ9gVYC5A4aWbxCBwLkAFOm2g04YuQMjobVmroy5APnyGXQGyLkC2rNUxwcMuQC7dJAaB1S5Am8QgsHLoLkDZFSD3mgsvQAWBlUOLLC9AKkDuNRdSL0B1d3d3d3cvQPDSTWIQmC9AAHKvuZC0L0COwvUoXM8vQPeaC0lT6i9ATDeJQWAFMEAcoYzelhUwQIiIiIiIKDBAoNMGOm1AMEDOPnyGXWEwQM4+fIZdgTBAPcOuALmXMECKbOf7qbEwQHSTGARWzjBAME/UvxHqMEDUeOkmMQgxQHRM8GCeKDFA/kYoo7dFMUAYdgXIvWYxQCBpSsXZhzFAC9ejcD2qMUCIz7ArQM4xQKK3Za2O6TFAp38jlNH7MUAz7AqQew0yQAxJUyrOHjJA7TUXkqY0MkDZQKcNdFoyQBbZzvdTgzJAne+nxku3MkBI4XoUrucyQPUoXI/CFTNAiIiIiIhIM0Cm4uzDZ3gzQEOLbOf7qTNA8Bl2BcjdM0Ai2/l+ahw0QKQpFWcfXjRAPQrXo3CdNEC0yHa+n9o0QGjYFSD3GjVAlNHbslZnNUAoo7dlra41QNijcD0K9zVAsXJoke08NkCa4ME8UX82QEmaUnH2wTZAL7Kd76cGN0AIgZVDi0w3QEzF2YfPkDdAsuQXS37RN0DiCGX0tgw4QLBH4XoUTjhAJU2pOPuQOECQwvUoXO84QCmjt2WtTjlA50LSlIqzOUDS27JWxwQ6QJA0peLsYzpAhhbZzvezOkCaxCCwcgg7QCpA7jUXUjtAoP6NUEaPO0DgM+wKkNs7QC0kTak4GzxAn4zelrVaPEDmQtKUipM8QNtrLiRNyTxAdb6fGi/9PEDeT42XbjI9QDtR/0YoYz1AP3yGXQGSPUADVg4tsr09QPkMuwLk3j1AJb9Y8osFPkDo+6nx0i0+QDomeDBPVD5AtYFOG+h0PkA0elvW6pg+QMFY8oslvz5A/fAZdgXoPkB+hl0Bcg8/QL0ta3VMMD9A8DUXkqZUP0CCThvotGE/QI/C9Shcbz9Avp8aL92EP0DEZ9gVIJc/QOHBPFH/hj9AodMGOm2AP0BQ1L8Ryog/QCrOPnyGnT9AMMGDeaK+P0BUDi2ync8/QNmyVscE7z9AUirOPnwGQEAKkHvNhRRAQH8jlNHbIkBAK0DuNRcyQEDWXEiaUkFAQAKdNtBpU0BAWPKLJb9oQECSXyz5xYJAQOLsw2fYpUBAPFH/RijDQEDVMcGDeeJAQLoC5F5zAUFAgcDKoUUmQUAUrkfhekRBQNhcSJpSYUFADbsC5F6DQUBbZDvfT61BQMUgsHJo4UFANKXi7MMXQkDelrU6JkhCQHqi/o1QdkJAWh0TPJiXQkBfLPnFkr9CQCEiIiIi8kJAbOf7qfEiQ0A+NV66SUxDQB/3mgtJc0NAM6Xi7MOXQ0BWgNxrLrRDQNIGOm2g00NAkl8s+cXyQ0DelrU6JghEQM+wK0DuFURAVlVVVVUlRED/RiijtzVEQOdC0pSKQ0RAwoN5ov5NRED88Bl2BVhEQCMiIiIiYkRAbef7qfFyREDlF0t+sYREQLnXXEiakkRAG+i0gU6bREDCPFH/RqhEQJb8YskvtkRAcvbhM+y6RECoVJx9+LxEQNYxwYN5skRA/tR46SahREA5+/AZdpVEQLQ6Jngwj0RA1L8RyuiNREDXFSD3motEQHZM8GCeiERAyqFFtvN9REDIveZC0nREQF1ImlJxZkRARIts5/tJRECj/o1QRi9EQLwC5F5zEURATqk4+/D5Q0CG61G4HuVDQGatjgke3ENAHhM8mCfKQ0AGgZVDi7xDQP+NUEZvq0NAN9BpA52WQ0C2OiZ4MH9DQC7dJAaBZUNA415zIWlKQ0ARyuhtWStDQKyOCR7ME0NA/Y1QRm/7QkARg8DKoeVCQDvfT42XzkJAkqZUnH24QkC0yHa+n5pCQBvotIFOe0JAUrgehethQkBx9uEz7EpCQCZ4ME/UL0JAtYFOG+gUQkCDB/NE/ftBQP2p8dJN4kFA1E1iEFjZQUCUGARWDs1BQCJpSsXZx0FAhMDKoUXWQUCVQ4ts5+tBQIr6N0IZ/UFA415zIWkKQkB4vp8aLx1CQJ+ofyOUIUJA2RUg95orQkB0IWlKxSlCQM7MzMzMLEJAm1Jx9uEzQkCaJ+rfCDVCQDEIrBxaNEJAw/UoXI8yQkBwhDJ6WzZCQGkDnTbQOUJAeVvW6phAQkAhIiIiIkJCQOsKkHvNRUJAMcGDeaJOQkBJUyrOPlxCQBvotIFOa0JAq2OCB/N0QkA/NV66SXxCQJa1OiZ4gEJAFK5H4XqEQkDipZvEIIBCQFG4HoXrgUJA8dJNYhB4QkByaJHtfG9CQALkXnMhaUJAmgtJUypeQkAKkHvNhVRCQCejt2WtTkJAgnmi/o1QQkAFOm2g01ZCQDkmeDBPZEJAGxM8mCd6QkBiO99PjZdCQEiaUnH2sUJAPzVeuknMQkAz7AqQe+1CQCCwcmiRDUNAHoXrUbguQ0DjXnMhaUpDQPAZdgXIXUNA0GkDnTZwQ0CU0duyVodDQCCwcmiRnUNAASuHFtmuQ0AcWmQ7379DQFeA3Gsu1ENA7cNn2BXwQ0Dmifo3QglEQDJ6W9bqKERAe4ZdAXJPREDn+6nx0n1EQOOlm8QgoERAbC4kTanIREDyRP0boexEQG/LWh0TDEVANheSplQsRUD+jVBGb0tFQBP1b4QyakVAxUs3iUGARUCUirMPn5FFQMnobVmro0VAgU4b6LSxRUCsHFpkO79FQOEz7AqQy0VA0tuyVsfURUC38/3UeOlFQGJXgNxr/kVAXkiaUnEWRkAdoYzeljVGQFnHBA/mWUZACqwcWmR7RkC0VscED5ZGQIxs5/upsUZAtYFOG+jURkCmVJx9+PxGQGEQWDm0KEdASn6x5BdLR0BXObTIdm5HQO01F5KmlEdA0duyVse0R0DpJjEIrMxHQF0Bcq+54EdAjN6WtTr2R0ABcq+5kBRIQLgehetROEhAID7DrgBZSECN3pa1OnZIQAMrhxbZjkhAAXKvuZCkSEArhxbZzrdIQE3wYJ6oz0hAjlBGb8vaSECoDXTaQPdIQIuzD59hF0lAVlVVVVU1SUDxYJ6of0NJQDXsCpB7XUlAGUt+seR3SUBOqTj78IlJQL0ta3VMoElAlvxiyS+2SUCrY4IH89RJQI0lv1jy60lAt/P91Hj5SUDCg3mi/g1KQB1aZDvfH0pAqvHSTWJASkCRe82FpGlKQLXIdr6fikpAfM2FpCmlSkABAAAAAMBKQDr78Bl25UpAHxM8mCcKS0BVnH34DCtLQOi0gU4bSEtA7FG4HoVrS0C4Za2OCZ5LQCoVZx8+00tAALnXXEgKTEAHOm2g00ZMQNHbslbHhExA+Ay7AuTOTEBVDi2ynQ9NQHpb1uqYUE1APArXo3CNTUCQ7Xw/Nc5NQBbZzvdTE05ANaXi7MNXTkCFMnpb1ppOQNUxwYN54k5AB4GVQ4ssT0AW2c73U3NPQGX0tqzVwU9AFtnO91MLUECFpCkVZy9QQC/dJAaBTVBA+Qy7AuRmUEAnMQisHHpQQJTR27JWj1BABA/mifqnUEBXgNxrLsRQQBUg95oL4VBA+6nx0k36UEDzRP0boRRRQPEZdgXILVFASsXZh89AUUCxK0DuNU9RQB7ME/VvZFFAOm2g0wZ6UUAhsHJokY1RQFrW6pjgoVFAI9v5fmq0UUA6JngwT8xRQGDl0CLb6VFA+n5qvHQLUkC4HoXrUTBSQOtRuB6FS1JAAw/mifpfUkDp3whl9G5SQDhCGb0tc1JAdgXIveZ6UkDq3whl9H5SQCijt2WtflJA2FxImlJ5UkAzMzMzM3NSQMQgsHJoeVJAtx6F61GAUkDkifo3QolSQJZuEoPAilJADuaJ+jeKUkBRRm/LWn1SQPzwGXYFcFJAPN9PjZdmUkASyuhtWVNSQHCEMnpbRlJArwC511w4UkBpSsXZhy9SQHTaQKcNJFJAcfbhM+waUkDfT42XbhJSQP6NUEZvA1JAlIqzD5/5UUAehetRuOZRQLOBThvozFFA3GsuJE2xUUDn+6nx0o1RQD0K16NwbVFAoIzelrVSUUAuJE2pODtRQHKvuZA0JVFAEoPAyqENUUDotIFOG/hQQIlBYOXQ4lBAHVpkO9/PUEChjN6WtcJQQJNfLPnFslBAb1mrY4KfUECcxCCwcohQQBsv3SQGeVBAYhBYObRoUEBbZDvfT11QQBsv3SQGUVBAzoWkKRU/UEDgCGX0tjRQQAaBlUOLJFBA6LSBThsYUECK+jdCGQ1QQJDC9Shc/09AC0lTKs7eT0DIdr6fGr9PQH2x5BdLnk9AY4IH80SNT0BCYOXQIotPQFeA3GsuhE9AveZC0pR6T0CRplScfXhPQDvfT42Xbk9Anqh/I5RhT0Av3SQGgVVPQH9qvHSTWE9A4uzDZ9hVT0DBg3mi/l1PQHsUrkfhak9AL90kBoF1T0BuWatjgndPQGjYFSD3ek9ABA/mifqHT0DqmODBPKFPQP5GKKO3tU9ASzeJQWDVT0BkrY4JHvxPQIZdAXKvEVBAOm2g0wYqUECNUEZvy0JQQKWbxCCwWlBAEcrobVlzUECAlUOLbH9QQIZdAXKviVBAUXH24TOUUEAVIPeaC5lQQKfGSzeJoVBA+cWSXyyZUEAuJE2pOItQQM+wK0DufVBA1THBg3lyUEBGtvP91GhQQJtScfbhY1BA6Pup8dJdUEBrdUzwYFZQQCA+w64ASVBAcyFpSsVBUEBHKKO3ZTVQQBFYObTIJlBABsi95kIaUEDWMcGDeQpQQIPAyqFF9k9ASVMqzj7MT0DlF0t+sZRPQNCwK0DuZU9AqX8jlNErT0BeukkMAvtOQKabxCCwwk5A/0Yoo7eFTkBg5dAi20lOQDMzMzMzE05AOfvwGXblTUAMSVMqzr5NQKyqqqqqmk1ATfBgnqhvTUDbQKcNdEpNQLQPn2FXME1ALIcW2c4XTUD+YskvlvxMQCQiIiIi4kxA8mCeqH/DTEDE9Shcj6JMQKFhV4Dce0xAVpx9+AxbTEBQ1L8RyjhMQJuZmZmZGUxAWMcED+bpS0AY2c73U8NLQNrO91PjpUtAO99PjZeOS0Ausp3vp5ZLQFQqzj58lktAakrF2YefS0CIFtnO97NLQGjYFSD3yktAY8kvlvziS0DX6pjgwfxLQBlLfrHkJ0xA11xImlJRTEAEVg4tsn1MQGp1TPBgrkxAuddcSJrSTEBMN4lBYPVMQEcoo7dlDU1A6t8IZfQmTUCuALnXXEhNQLGd76fGW01Ad3d3d3d3TUCXbhKDwJpNQME8Uf9GyE1A3GsuJE35TUBsoNMGOi1OQHa+nxovXU5AAiuHFtmOTkDufD81XspOQHH24TPsCk9Az7ArQO5VT0DC9Shcj5JPQHD24TPsyk9A46WbxCAAUECKsw+fYQ9QQKL+jVBGH1BAXI/C9Sg0UECmVJx9+ERQQHJoke18V1BA5F5zIWlqUEBZ8oslv3hQQNpApw10glBAHz7DrgCRUEA4+/AZdp1QQAY6baDTplBA5F5zIWmyUED78Bl2BcBQQPUoXI/C1VBA3whl9LbsUECmDXTaQP9QQK8AuddcGFFA4Ahl9LY0UUDPPnyGXUlRQGatjgkeXFFAVg4tsp1vUUC4Za2OCX5RQA502kCnjVFA9ihcj8KdUUBMN4lBYK1RQKuqqqqqulFA/RuhjN7GUUCYJ+rfCNVRQFirY4IH41FASFMqzj70UUBGb8taHQNSQIZdAXKvEVJAbVmrY4IXUkBEtvP91CBSQAhl9LasLVJAifo3Qhk9UkBH4XoUrk9SQP3UeOkmYVJAZh8+w65wUkDXXEiaUoFSQGZmZmZmjlJAjCW/WPKbUkBKfrHkF6tSQDIzMzMzs1JAVoDcay68UkC9WPKLJcdSQI7C9Shcz1JASzeJQWDVUkBRuB6F6+FSQNajcD0K71JAsp3vp8b7UkB8hl0Bcg9TQKk4+/AZJlNA7cNn2BU4U0BdSJpScU5TQEDuNReSZlNAv1jyiyV/U0Dh7MNn2J1TQOB6FK5HwVNAJAaBlUPjU0DIL5b8YgFUQP2NUEZvI1RANKXi7MNHVEAa6LSBTmtUQLmQNKXihFRAc9pApw2cVECl4uzDZ7BUQLrXXEiawlRAAUcoo7fNVED4mgtJU9pUQNQGOm2g61RAblmrY4L3VEDy0k1iEAhVQOdC0pSKG1VACWX0tqwtVUABcq+5kDxVQATIveZCSlVAT42XbhJTVUCCB/NE/VNVQJSKsw+fUVVAgsDKoUVOVUCl4uzDZ0hVQCV4ME/UP1VAtvP91HhBVUD+Riijtz1VQFVVVVVVPVVA6m1Zq2M6VUCcUnH24TNVQIBqvHSTOFVAwcqhRbZDVUBkEFg5tFBVQEsMAiuHVlVArdUxwYNhVUC0D59hV2hVQMbZh8+wY1VAiM+wK0BeVUCmVJx9+FRVQCPb+X5qTFVAwMqhRbZLVUBpSsXZh0dVQIN5ov6NQFVA46WbxCBAVUBCpw102jhVQF26SQwCM1VAyL3mQtIsVUAW2c73UytVQGFXgNxrJlVAes2FpCklVUCQNKXi7CtVQFaA3GsuNFVAJXgwT9Q3VUAKSVMqzj5VQBRnHz7DRlVAPcOuALlHVUCuuZA0pUpVQDF6W9bqSFVAqaqqqqpKVUDjXnMhaVJVQHTaQKcNTFVA2BUg95o7VUAUrkfheixVQHqi/o1QFlVAItv5fmr8VEBz2kCnDexUQBi9LWt15FRADi2yne/fVECEMnpb1uJUQNuyVscE51RAgU4b6LTpVEBecyFpSu1UQDrfT42X9lRAxNmHz7D7VECvcmiR7QRVQLmQNKXiDFVA6d8IZfQWVUBScfbhMyRVQKNwPQrXM1VA//////9HVUDVeOkmMVhVQIGVQ4tsZ1VAqMZLN4mBVUBzaJHtfJdVQPW2rNUxqVVAnX34DLu6VUChjN6WtcpVQJ020GkD3VVA/BuhjN7uVUDIL5b8YvlVQGWtjgkeBFZAFpKmVJwNVkCs1THBgxlWQPVvhDJ6K1ZAMjMzMzM7VkBtEoPAykFWQILAyqFFTlZAMcGDeaJWVkAuJE2pOFtWQI2XbhKDYFZAJ6O3Za1mVkAcEzyYJ3JWQP3UeOkmeVZAXyz5xZKHVkBSuB6F65lWQIWkKRVnr1ZA/GLJL5bEVkDZzvdT49VWQK8Auddc6FZA1L8Ryuj1VkBlrY4JHgRXQIFOG+i0GVdAyL3mQtIsV0ALkHvNhURXQHQhaUrFYVdAPZgn6t+AV0BfukkMAqNXQDCW/GLJv1dA5F5zIWnaV0BYxwQP5vlXQH4/NV66GVhANqXi7MM/WEAwlvxiyWdYQFfHBA/mkVhAwTxR/0a4WEBR1L8RyuhYQLUPn2FXGFlAHei0gU5TWUA5Qhm9LZNZQCe/WPKLzVlACIGVQ4sMWkAYIPeaC0laQOSlm8QgiFpAwcqhRbbDWkA0elvW6vhaQGrYFSD3IltACWX0tqxNW0BRjZduEnNbQPrFkl8smVtAexSuR+HCW0BkggfzRPVbQI3elrU6HlxAoNMGOm1AXEC7u7u7u2NcQE5iEFg5hFxAoNMGOm2gXEDwGXYFyLVcQN0kBoGV01xA3LJWxwTvXED+1HjpJgldQJe1OiZ4IF1ABQ/mifo/XUAiaUrF2WddQOOlm8QgkF1AO5gn6t+4XUA5tMh2vt9dQHe+nxovBV5AsHJoke0kXkCnDXTaQEdeQOSlm8QgcF5A+FPjpZuUXkDpJjEIrLReQDfQaQOd1l5AfIZdAXL/XkCY4ME8USdfQOf7qfHSRV9ARrbz/dRoX0CIFtnO96NfQPbhM+wK2F9A+zdCGb0BYEDuNReSpghgQKXi7MNnFGBAlUOLbOcjYEDelrU6JixgQL6fGi/dOGBAOm2g0wZGYEAyelvW6lRgQByhjN6WWWBAFPVvhDJeYEBcj8L1KGRgQNajcD0KZ2BA8GCeqH9fYECwK0DuNU9gQP1iyS+WRGBAWIDcay48YEAvJE2pODdgQJXR27JWN2BATmIQWDk0YECCThvotDFgQFH/RiijK2BAS36x5BcfYEB2Bci95hpgQF66SQwCF2BAJb9Y8osRYEC9dJMYBBJgQAkezBP1E2BAlIqzD58RYECAI5TR2wJgQPT91Hjp9l9AvOZC0pTqX0CB3GsuJPVfQINOG+i0+V9ASQwCK4f+X0AwT9S/EQZgQIwlv1jyC2BA1L8RyugRYECbxCCwchhgQP0boYzeKmBA27JWxwRDYEDOPnyGXV1gQDdCGb0te2BAT42XbhKfYEBApw102sRgQCLb+X5q6GBAwIN5ov4NYUAz7AqQey1hQKg4+/AZRmFAlYqzD59lYUB9hl0BcodhQKrx0k1irGFA4+zDZ9jVYUBVnH34DPNhQLErQO41E2JA0duyVscwYkA8Uf9GKEtiQJKmVJx9cGJAoNMGOm2YYkAJkHvNhcBiQF4s+cWS52JAX56ofyMcY0DRlIqzD09jQPKLJb9YfmNAyqFFtvOtY0BrdUzwYN5jQJb8YskvDmRAca+5kDRBZECoOPvwGXJkQPh+arx0n2RAkF8s+cXGZEAEOm2g0+5kQBaSplScEWVAjsL1KFwnZUBC0pSKszNlQBov3SQGMWVAplScffg8ZUA4+/AZdkVlQOf7qfHSTWVAbOf7qfFSZUCEMnpb1k5lQBxaZDvfT2VAFpKmVJxRZUAkBoGVQ1tlQFnyiyW/YGVAv58aL91oZUAYS36x5HNlQKBhV4Dcf2VAtYFOG+iIZUCMbOf7qZFlQJrgwTxRl2VAMsGDeaKWZUAMSVMqzpplQBVnHz7DpmVA80T9G6GwZUDQaQOdNrRlQNBpA502uGVAHRM8mCe6ZUBxr7mQNL1lQBeSplScuWVAfrHkF0u2ZUBecyFpSq1lQIvelrU6rmVAzj58hl3BZUD24TPsCuRlQHH24TPsEmZAeVvW6pgwZkDcJAaBlVNmQLPIdr6fdmZAYZ6ofyOUZkDCPFH/RrRmQBhLfrHkv2ZAxSCwcmjJZkAH80T9G8lmQMxaHRM80GZA4jPsCpDTZkC3rNUxwctmQLhlrY4JxmZArwC511y4ZkCg0wY6baRmQMzMzMzMkGZAtqzVMcF3ZkBcj8L1KFRmQH8jlNHbGmZAslbHBA/eZUBUVVVVVaFlQJDtfD81YmVAyehtWasjZUAf95oLSedkQKTi7MNntGRAVFVVVVWBZECLJb9Y8ktkQA4tsp3vD2RAVlVVVVXFY0A8mCfq33RjQG0uJE2pKGNAKVyPwvXgYkA3Qhm9LZNiQA0tsp3vS2JAt2WtjgkGYkAI80T9G71hQJAJHswTgWFAapHtfD9JYUAKZfS2rBVhQHRoke1812BAWatjggebYEByaJHtfGNgQByhjN6WKWBAokW28/0AYEAdEzyYJ7pfQDF6W9bqaF9A4xdLfrEcX0Bz2kCnDdxeQGFXgNxrtl5An4zelrWaXkBccyFpSoVeQDOl4uzDf15ANBeSplR0XkDlQtKUimteQMkvlvxiWV5AiUFg5dBKXkBsoNMGOk1eQN3d3d3dTV5AZ5HtfD9lXkAyMzMzM4teQBDK6G1Zq15Auru7u7vLXkDJ6G1Zq+teQBdLfrHkB19A+cWSXywpX0DDrgC511xfQNNNYhBYkV9AXrpJDALLX0CN3pa1OgZgQPzwGXYFLGBAcIQyeltOYEAiaUrF2W9gQHZM8GCekGBA0iLb+X6iYECqOPvwGbpgQHkwT9S/1WBAFDyYJ+rzYEDXo3A9ChNhQO41F5KmPGFAwjxR/0ZsYUD8qfHSTZZhQDhCGb0tu2FAxdmHz7DnYUDWo3A9ChNiQGp1TPBgQmJAjJduEoN0YkC0OiZ4MJ9iQISkKRVn02JAP6cNdNoEY0A3tMh2vjNjQEBg5dAiY2NAL0/UvxGKY0CDeaL+jbhjQE0b6LSB4mNAw64AudcQZEAQWDm0yDpkQF66SQwCY2RARP0boYyKZEBqdUzwYK5kQMNn2BUgy2RAvxHK6G3tZEB2vp8aLwllQAqQe82FIGVAJngwT9RDZUCRNKXi7GtlQAAAAAAAlGVAjd6WtTq2ZUBzIWlKxdllQDSl4uzD82VAlYqzD58FZkBlO99PjR9mQM2FpCkVO2ZApeLsw2dMZkDb+X5qvFhmQDHBg3miZmZA+FPjpZtsZkCbUnH24WtmQIgW2c73Y2ZAP8OuALlfZkC9LWt1TFxmQO3DZ9gVVGZA95oLSVNSZkDZh8+wK0hmQC7dJAaBPWZAOW2g0wYuZkAiTak4+yBmQPqp8dJNDmZAzrArQO75ZUCgRbbz/eRlQDm0yHa+22VAUUZvy1rJZUAkTak4+8BlQNyyVscEv2VAVVVVVVW9ZUBiEFg5tLBlQM+wK0DupWVAHveaC0mXZUCdYVeA3IdlQA9YObTIdmVA9Chcj8JpZUAbWmQ731tlQKWbxCCwQmVAtMh2vp8uZUB+seQXSxplQBP1b4QyBmVA1xUg95rvZEBz2kCnDeRkQMMgsHJo0WRAs4FOG+i8ZEBD/RuhjKZkQLp0kxgEkmRAO5gn6t94ZEA+fIZdAWJkQJw20GkDVWRAVQ4tsp1LZEDgehSuRz1kQLLIdr6fPmRAjN6WtTpCZEAcWmQ730tkQGsuJE2pUGRATWIQWDlcZECyVscED2JkQPup8dJNYmRA8tJNYhBcZECCThvotF1kQCD3mgtJW2RATPBgnqhfZECDwMqhRV5kQGFXgNxrYmRAMQisHFpkZEBvhDJ6W2ZkQHUFyL3mamRAjVBGb8tqZECQNKXi7G9kQKWbxCCwamRAHFpkO99rZEDsUbgehWdkQGMQWDm0ZGRAWqtjggdfZEBpSsXZh1dkQIDcay4kTWRAy1odEzw8ZEDobVmrYy5kQDAIrBxaDGRAAeRecyHtY0CUirMPn9VjQAhl9LasrWNAc6+5kDR9Y0AIrBxaZEtjQIfPsCtAGmNA5Yn6N0LlYkBfnqh/I5xiQGi8dJMYXGJAYoIH80QZYkAilNHbssphQDvfT42XemFAHz7DrgApYUDRItv5ftJgQOxRuB6Fe2BA7nw/NV4iYECL+jdCGaVfQCgxCKwcKl9A65jgwTypXkA1XrpJDBpeQOrfCGX0nl1A4Qhl9LYcXUDday4kTaFcQCPb+X5qJFxAgzJ6W9ayW0BQuB6F60FbQL2fGi/d1FpAYBBYObRwWkDvGXYFyB1aQDPsCpB77VlADXTaQKe9WUCIiIiIiHhZQET9G6GMRllADXTaQKclWUAyelvW6vBYQM3MzMzMrFhARv0boYxuWEBLfrHkF1tYQJRDi2znM1hAD59hV4AMWEC0gU4b6ARYQB6F61G49ldAR5pScfbhV0DsUbgeheNXQEhTKs4+3FdAQWDl0CLLV0ASg8DKoa1XQHw/NV66iVdAlvxiyS9uV0Dx0k1iEGhXQKtjggfzVFdADbsC5F5DV0Dm0CLb+TZXQOSlm8QgQFdAzszMzMw0V0B46SYxCCxXQGjYFSD3MldA72CeqH9DV0AIHswT9T9XQGCeqH8jLFdAkHvNhaQRV0DhwTxR//ZWQM6FpCkV31ZAbhKDwMqxVkCZJ+rfCJVWQB0TPJgnglZAy1odEzxoVkAKkHvNhVRWQLQPn2FXQFZAi7MPn2E3VkBjyS+W/CJWQI1QRm/LGlZAnDbQaQMVVkAUZx8+wxZWQAgezBP1J1ZAR5pScfZBVkD5fmq8dFNWQGvn+6nxUlZA1jHBg3lSVkBWVVVVVUVWQFqrY4IHO1ZA5DPsCpAzVkBkEFg5tCBWQAiBlUOLBFZABeRecyHpVUBKmlJx9tFVQOltWatjulVAJzEIrByiVUC0D59hV5BVQHJoke18h1VA2KNwPQp/VUAEnTbQaXtVQKHTBjptcFVAW2Q73091VUDrJjEIrHxVQHrpJjEIhFVABsi95kKaVUDQsCtA7rVVQBkEVg4t2lVAR2/LWh3zVUC9LWt1TAhWQCsVZx8+I1ZAGEt+seQ/VkA5tMh2vkdWQJrgwTxRR1ZA7nw/NV5CVkCTXyz5xUJWQAc6baDTNlZAoBov3SQ2VkAX2c73UztWQGdmZmZmPlZALLKd76dGVkDkpZvEIFBWQO41F5KmXFZAYCz5xZJ3VkB66SYxCIRWQARWDi2yfVZAiEFg5dByVkBcAXKvuXBWQNHbslbHdFZA5on6N0J5VkCU0duyVn9WQPyp8dJNilZAMzMzMzObVkC1gU4b6KxWQAx02kCnvVZAvC1rdUzIVkBP1L8RythWQBIRERER4VZAVZx9+AzzVkCkKRVnHw5XQOPsw2fYHVdAN4lBYOUoV0ACK4cW2T5XQAJyr7mQXFdA7nw/NV6KV0DrCpB7zb1XQLpJDAIr/1dAzBP1b4QyWEAfhetRuGZYQPYoXI/CpVhA2s73U+PlWEC6kDSl4iRZQJSKsw+fYVlAm8QgsHKgWUDUeOkmMehZQPCnxks3MVpAxSCwcmiBWkAYkqZUnMVaQLHkF0t+CVtAsLmQNKVCW0BmZmZmZn5bQLHkF0t+uVtAanVM8GDuW0BFtvP91CBcQMGDeaL+VVxAaZHtfD+VXEDvp8ZLN8lcQL9Y8osl/1xAx5JfLPktXUCzVscED1ZdQHe+nxovhV1ARf0boYyuXUAs+cWSX8xdQEmaUnH26V1AqTj78Bn+XUBScfbhMxReQPwboYzeJl5APQrXo3A9XkD6N0IZvU1eQKh/I5TRU15AfD81XrppXkC4HoXrUYheQBSuR+F6rF5ABMi95kLKXkAV2c73U+teQJx9+Ay7El9AxwQP5ok6X0BrLiRNqWhfQHA9CtejkF9AOW2g0wa6X0CU0duyVt9fQPJE/RuhAGBAggfzRP0PYEDnQtKUihtgQOAIZfS2JGBA/tR46SYpYEDjpZvEICxgQFH/RiijL2BAXUiaUnE6YEDu7u7u7kJgQOZC0pSKR2BAsZ3vp8ZTYEC0gU4b6GhgQIXrUbgefWBARiijt2WRYEBzIWlKxaFgQH0/NV66sWBApeLsw2fAYECKsw+fYc9gQNXqmODB3GBA/41QRm/jYED+G6GM3uZgQNtApw106mBAbaDTBjrxYEDHSzeJQfRgQJE0peLs+2BAGnYFyL0CYUBVnH34DAthQFsdEzyYE2FA50LSlIobYUAsQO41FyphQLgehetRPGFAB/NE/RtRYUAH80T9G2lhQFK4HoXrgWFAUyrOPnyaYUCgjN6WtbZhQKYNdNpA02FAsCtA7jXvYUCaxCCwcgxiQN4IZfS2LGJAPArXo3BJYkB02kCnDWRiQLtJDAIre2JASsXZh8+QYkAHgZVDi6hiQEx+seQXw2JAAyuHFtneYkD5U+Olm/RiQAC511xIEmNAppvEILAuY0BzIWlKxU1jQJSKsw+fbWNA001iEFiJY0A07AqQe6VjQBBYObTIumNAqMZLN4nRY0ALkHvNheRjQCjq3whl9GNAI5TR27ICZED5fmq8dAtkQI2XbhKDFGRALiRNqTgfZEALkHvNhSxkQG/LWh0TOGRAERERERFFZEAQWDm0yE5kQLHkF0t+WWRARP0boYxiZED0b4QyenNkQFD/Riijh2RApsZLN4mdZEDa+X5qvLBkQOuY4ME8xWRA1eqY4MHcZEAIHswT9e9kQGFXgNxr/mRAzBP1b4QSZUBlggfzRC1lQAWdNtBpQ2VAPzVeuklUZUDkM+wKkGdlQCVNqTj7eGVAoozelrWOZUC0D59hV6RlQN2yVscEu2VAyb3mQtLQZUBwhDJ6W+ZlQCNNqTj7/GVAjCW/WPIXZkCCwMqhRTJmQH1qvHSTSGZAQKcNdNpcZkDO91PjpXdmQCOU0duymmZAAXKvuZC8ZkCnxks3id1mQAy7AuRe+2ZA415zIWkSZ0BWVVVVVR1nQJ6ofyOUKWdA9Las1TEtZ0Aoo7dlrTJnQMh2vp8aN2dA91PjpZs8Z0AyMzMzM0dnQNIGOm2gU2dAbFmrY4JjZ0BxIWlKxXVnQLIPn2FXiGdABci95kKeZ0DIBA/mibJnQJI0peLsx2dApLdlrY7ZZ0Bh5dAi2+lnQK3VMcGD9WdAmeDBPFH/Z0Dp3whl9A5oQFK4HoXrHWhAGui0gU4raECBThvotDVoQD58hl0BQmhASzeJQWBJaECXbhKDwEZoQMGDeaL+PWhAi2zn+6kxaEAnMQisHCJoQJkn6t8IFWhANOwKkHsVaECMbOf7qRloQJE0peLsF2hA4Qhl9LYgaED2KFyPwiVoQMI8Uf9GLGhAzj58hl0taEAHOm2g0y5oQIAjlNHbMmhA/kYoo7cxaEDMzMzMzDBoQAxJUyrONmhA0tuyVsdAaECbmZmZmUVoQI5QRm/LSmhArKqqqqpOaEDcslbHBFdoQMUgsHJoZWhAPZgn6t9waEB5ME/Uv3VoQCCwcmiRfWhAQtKUirODaEDHdr6fGotoQIfPsCtAlmhAN0IZvS2jaEBnke18P61oQA6fYVeAwGhA1xUg95rTaEB6hl0BcudoQFQOLbKd72hACwIrhxb1aEDp3whl9P5oQO41F5KmDGlAVJx9+AwPaUC+nxov3QxpQIJ5ov6NDGlAYRBYObQQaUBwPQrXoxRpQIzelrU6DmlA/tR46SYJaUA9mCfq3wBpQGU730+N82hAXUiaUnHiaEDTBjptoNdoQIwlv1jyy2hAsw+fYVfEaECcxCCwcrhoQAJyr7mQrGhA9f3UeOmiaEAt+cWSX5hoQDeJQWDliGhAS36x5Bd/aEB7zYWkKXloQHUFyL3mcmhAXEiaUnFyaEC28/3UeHVoQOZC0pSKb2hAUirOPnxuaEByIWlKxXloQJRDi2znj2hAeVvW6pikaEBRcfbhM7hoQFIqzj58ymhAiUFg5dDmaEAvlvxiyQdpQDbQaQOdJmlADi2yne9DaUD8qfHSTV5pQBODwMqhfWlAfvgMuwKcaUBpSsXZh79pQE6pOPvw4WlALrKd76cCakDtw2fYFSRqQF9zIWlKRWpA6t8IZfRmakB2TPBgnohqQPgMuwLkqmpADAIrhxbRakAJZfS2rPlqQAIrhxbZJmtA2hUg95pPa0A9mCfq33hrQAsezBP1n2tALrKd76fCa0A+mCfq3+hrQMyhRbbzEWxAf/gMuwI4bEB4vp8aL1VsQNH3U+Olb2xAdK+5kDSVbEAq6t8IZcBsQIOVQ4ts72xAkzSl4uwbbUBlO99PjUNtQC5A7jUXam1AxDxR/0aYbUCwR+F6FL5tQCl4ME/U621AXKtjggcPbkDH2YfPsCtuQHOvuZA0PW5AFmcfPsNGbkAfhetRuF5uQLis1THBd25A59Ai2/mSbkCyK0DuNatuQH0/NV66vW5ANV66SQzObkCV0duyVttuQJDC9Shc425ADAIrhxbhbkCQe82FpOFuQAC511xI5m5A+sWSXyzpbkBpSsXZh+duQOSlm8Qg7G5ASZpScfb1bkDMWh0TPARvQLgehetRGG9ArwC511wcb0C7AuRecxFvQErF2YfP/G5AF0t+seTnbkCyD59hV9RuQEW28/3UyG5AAuRecyG5bkAwT9S/EbJuQD1R/0Yoq25A9uEz7Aq0bkAKkHvNhcRuQMgvlvxi4W5AplScffgEb0AhsHJokRlvQIN5ov6NKG9AP8OuALkvb0As+cWSXzhvQIWkKRVnR29AvxHK6G1Jb0B/arx0k0hvQF4Bcq+5SG9AiM+wK0BSb0DMzMzMzFhvQP7UeOkmZW9ATxvotIFyb0A730+Nl4JvQCmjt2Wthm9AxSCwcmiBb0AgPsOuAHlvQHvpJjEIbG9AfaL+jVBeb0BmO99PjVNvQAiBlUOLVG9AE4PAyqFZb0A3XrpJDGpvQKZwPQrXc29A6fup8dJ5b0CEB/NE/YNvQFxkO99PhW9ApXA9Ctd7b0DqJjEIrGxvQIMH80T9X29AfIZdAXJXb0DZh8+wK0xvQML1KFyPQm9AWmQ73085b0BXgNxrLjRvQOrfCGX0Km9AW/KLJb8kb0CfNtBpAyVvQA102kCnJW9AbHVM8GAmb0Bl9Las1SlvQPvwGXYFJG9A72CeqH8bb0D+1HjpJhFvQG2g0wY6BW9AtIFOG+j4bkAhlNHbsu5uQEVvy1od425ASgwCK4fabkAW2c73U9duQJDtfD81zm5AGxM8mCfKbkBTnH34DMNuQGT0tqzVwW5AOyZ4ME/AbkDIdr6fGr9uQF9zIWlKwW5AEVg5tMjGbkAua3VM8NBuQIuzD59h125ABQ/mifrfbkCuR+F6FO5uQMhLN4lB/G5ARUREREQUb0DJdr6fGitvQBCfYVeASG9AaB8+w65wb0CbffgMu5pvQOx8PzVexm9A0pSKsw/vb0AXS36x5AlwQCqHFtnOGXBAGnYFyL0qcEDwGXYFyDlwQFyPwvUoUHBAwMqhRbZpcEA4tMh2voFwQJB7zYWknXBArNUxwYO5cED8YskvltZwQNmHz7Ar9HBAA+RecyEPcUDdJAaBlS9xQPyp8dJNTnFARm/LWh1pcUBqA5020IFxQJVDi2znmXFA1uqY4MGwcUAdzBP1b8ZxQDhCGb0t23FAppvEILDucUCjt2Wtjv1xQMOuALnXCnJAgU4b6LQVckAkTak4+yJyQMaSXyz5L3JA9Las1TE/ckDx0k1iEExyQPyp8dJNWnJA+X5qvHRpckCPwvUoXHlyQKDTBjptinJATPBgnqiXckDobVmrY6ZyQKpjggfzrHJAiUFg5dCyckDS27JWx7xyQNNNYhBYw3JAZx8+w67MckCGFtnO99FyQF8s+cWS2XJAHBM8mCfgckDlifo3QuFyQIFOG+i03XJAX3MhaUrhckAqFWcfPuVyQFFGb8ta6XJA0LArQO7vckCPUEZvy/RyQOxRuB6F+3JAgk4b6LQBc0ANdNpApwlzQKnx0k1iFHNAGXYFyL0cc0CcxCCwciJzQEW28/3UJnNANV66SQwoc0BnHz7DripzQJ+ofyOULXNAfrHkF0syc0B2vp8aLzVzQBHK6G1ZOXNAKOrfCGVCc0CfYVeA3EtzQFlkO99PV3NA1uqY4MFic0A+w64AuW1zQFk5tMh2enNAu0kMAiuFc0AjIiIiIpJzQLc6JngwnXNAwhHK6G2rc0DDPFH/RrhzQKjGSzeJyXNAIIXrUbjYc0DaQKcNdOhzQJGmVJx99HNAlPxiyS/+c0DF2YfPsAV0QO41F5KmCHRAJngwT9QRdEBwPQrXoxx0QJ8aL90kKHRAd+kmMQg0dEAS9W+EMjx0QF4s+cWSRXRACtejcD1SdECBThvotF10QIddAXKvZ3RAmG4Sg8BydEBCGb0ta4F0QGeR7Xw/kXRAUXH24TOidEBLN4lBYLF0QDvfT42XwnRA3CQGgZXVdECY4ME8UeV0QCV4ME/U9XRAHcwT9W8CdUC6SQwCKwt1QFc5tMh2DHVAgXmi/o0MdUAwMzMzMw11QEBg5dAiD3VAFCD3mgsTdUC18/3UeBN1QIGVQ4tsGXVA2ofPsCskdUCzD59hVzJ1QDMzMzMzQXVAJJTR27JKdUBdSJpScVB1QJVDi2znUXVAGr0ta3VWdUCu1THBg191QGcfPsOuYnVA+Qy7AuRadUAdWmQ731V1QGiR7Xw/T3VArNUxwYNLdUAED+aJ+kV1QAhl9LasPXVARbbz/dQ2dUCi/o1QRjV1QIslv1jyMXVAhV0Bcq8tdUCjcD0K1yd1QMZLN4lBIHVAxGfYFSAZdUBERERERBR1QONecyFpFHVAeOkmMQgSdUDmQtKUig91QFnyiyW/CHVAhetRuB79dEAxCKwcWvR0QHPaQKcN7HRABA/mifrddECJ+jdCGc10QHUFyL3mwHRAVA4tsp23dEAl6t8IZbJ0QFIqzj58tHRAmzbQaQO1dECJsw+fYbN0QCZ4ME/UtXRAjpduEoO+dEAHgZVDi8Z0QLG5kDSlznRA54n6N0LTdECamZmZmdd0QOxRuB6F23RAZ2ZmZmbcdEBwhDJ6W9p0QOLsw2fY2XRA1L8RyujXdEDDrgC519Z0QKebxCCw0nRAAyuHFtnMdEBOYhBYOcp0QJ59+Ay7ynRA/fAZdgXMdEDIBA/micp0QBP1b4QyynRAMXpb1urKdEC1OiZ4MM10QPhT46WbzHRA9Las1THPdED2KFyPwtl0QAMrhxbZ4HRAh+tRuB7ldEAPdNpAp+V0QA0CK4cW33RA0WkDnTbUdEASWDm0yMp0QMp2vp8awXRAf7HkF0u2dEAsQO41F6p0QPX91HjponRAMJb8YsmXdEDEZ9gVIIt0QMsvlvxifXRAA+RecyFtdEDiM+wKkGF0QJB7zYWkU3RA001iEFhLdEBApw102kB0QJa1OiZ4PHRAc2iR7Xw9dEBmZmZmZjx0QE5iEFg5OnRAkHvNhaQ7dECdNtBpA0N0QPvwGXYFTHRA38E8Uf9YdED3DLsC5GR0QBl2Bci9bnRA76fGSzd3dEAPn2FXgHx0QIAjlNHbgnRAdkzwYJ6MdEDufD81Xpx0QBCfYVeAsHRA6t8IZfTMdEBtWatjgul0QF8s+cWSCXVAbKDTBjovdUAQEREREVd1QATIveZCdnVAu3STGASYdUAWS36x5Ll1QCGwcmiR4XVA+jdCGb0HdkAxwYN5oip2QJgn6t8IR3ZAGi/dJAZddkApXI/C9Wp2QF4Bcq+5gHZAt/P91HiPdkD34TPsCqR2QLfz/dR4uXZAvS1rdUzOdkCm4uzDZ952QOB6FK5H7XZA3d3d3d3xdkAJHswT9e92QG2g0wY68XZAKs4+fIb7dkBt5/up8QR3QPCnxks3DXdAOIlBYOUWd0Ag95oLSR93QKo4+/AZJndAWatjggcld0DyGXYFyCF3QG4Sg8DKF3dA8dJNYhAOd0AJHswT9QN3QJ6ofyOU/3ZAX56ofyP4dkDpJjEIrPJ2QGp1TPBg7HZAfmq8dJPsdkCSXyz5xex2QJJfLPnF+HZAUyrOPnwMd0B7PzVeuit3QG1Zq2OCP3dAIPeaC0lTd0A8Uf9GKGN3QNz5fmq8cHdA698IZfR4d0Arzj58hoF3QNLbslbHhndAJJTR27KOd0A3F5KmVJh3QG4uJE2poHdAUo2XbhKjd0DH2YfPsKN3QE7wYJ6ooXdALvnFkl+kd0BAw64Aual3QDdeukkMsHdAQTVeukm8d0DoQtKUitF3QA+7AuRe6XdABp020Gn/d0CZJ+rfCAd4QAc6baDTDHhATMXZh88UeECT7Xw/NSJ4QFmrY4IHKXhA+Qy7AuQueEDl0CLb+TR4QCD3mgtJN3hAvLu7u7szeECsY4IH8yp4QBvotIFOI3hACR7ME/UjeEAiaUrF2SF4QDBP1L8RIHhAh10Bcq8jeEBP1L8RyiJ4QL10kxgEIHhAfj81XroheECgGi/dJCR4QDbQaQOdLHhAwIN5ov4veEC8dJMYBDB4QGYfPsOuMnhA5F5zIWkoeECuR+F6FBx4QOj7qfHSCXhAhHmi/o3yd0DX6pjgwdp3QJOmVJx9wndAPsOuALmtd0AZBFYOLah3QCUGgZVDpXdAVVVVVVWld0DO91PjpZ13QL9Y8oslmXdAwYN5ov6Td0DGSzeJQY53QPl+arx0h3dA+sWSXyx/d0BiEFg5tHZ3QMNn2BUgbXdAhl0Bcq9hd0B0kxgEVlh3QCz5xZJfVndA3GsuJE1Rd0DhwTxR/1J3QOltWatjXHdAtqzVMcFnd0CbUnH24XN3QDUXkqZUfHdAx73mQtKGd0CuALnXXJh3QDYXkqZUrHdA9ihcj8LFd0DiM+wKkN13QMuhRbbz+XdAdgXIveYYeEAlTak4+zB4QMWSXyz5SXhANOwKkHtdeECEeaL+jXB4QOHBPFH/hHhA3LJWxwSXeEAL16NwPaZ4QGWtjgkeunhAJb9Y8ovJeECVGARWDuV4QB7ME/VvAHlAFmcfPsMeeUDHBA/miUR5QNfqmODBbHlAeDBP1L+TeUAhsHJokbl5QLPIdr6f2nlAzvdT46X9eUCpOPvwGSJ6QN6WtTomSHpACwIrhxZ1ekAXBFYOLaR6QBh2Bci91npAr3Joke0Me0A0peLswzl7QGkDnTbQZ3tAvxHK6G2Te0CKsw+fYcN7QFnyiyW/8ntAEBEREREjfEC/nxov3VZ8QCA+w64AjXxAKFyPwvXIfEB56SYxCAZ9QB5aZDvfQX1AEFg5tMh+fUAX2c73U7l9QCmjt2Wt7n1AXNbqmOAnfkDYXEiaUll+QLbz/dR4jX5AbhKDwMrDfkBzaJHtfP9+QEkMAiuHRH9AEoPAyqGHf0Ce76fGS8t/QPeaC0lTCoBA35a1OiYvgECJQWDl0FGAQNQGOm2gcYBAOyZ4ME+MgED2KFyPwqmAQJNfLPnFxoBA5/up8dLigEBSuB6F6/+AQHvNhaQpGYFAanVM8GA3gUAQEREREVWBQHH24TPscYFAtA+fYVeQgUCfYVeA3K2BQJKmVJx9yIFAuGWtjgnggUAdWmQ73/SBQPRE/RuhBIJA5RdLfrENgkAHgZVDiyGCQG4Sg8DKNYJAjZduEoNEgkBF/RuhjEyCQMARyuhtU4JAf2q8dJNVgkBeSJpScWCCQIHcay4kZYJAi2zn+6lpgkCHz7ArQGmCQDUXkqZUZIJA3pa1OiZfgkAwlvxiyVmCQIwlv1jyUIJAkxgEVg5KgkDBg3mi/j+CQGmR7Xw/NIJAeekmMQgogkDCrgC51xyCQMRn2BUgEoJA3pa1OiYBgkDC9Shcj+uBQCIiIiIi04FAsg+fYVe4gUB1Bci95qSBQM4+fIZdkoFADi2yne+DgUCZJ+rfCHWBQFfHBA/maYFAgSOU0dtngUAua3VM8F+BQAAAAAAAWIFAYp6ofyNRgUC5kDSl4k6BQN0kBoGVTIFAUyrOPnxPgUCit2WtjkWBQPl+arx0PoFAMzMzMzM2gUD5xZJfLDSBQBuhjN6WMYFApHA9CtctgUDj7MNn2CuBQLtJDAIrMYFAqX8jlNE1gUANuwLkXjqBQEDuNReSPIFAYCz5xZI/gUC1yHa+n0CBQHKvuZA0RIFA2/l+arxJgUDlF0t+sU+BQKuqqqqqXYFAEFg5tMhtgUAIZfS2rHeBQAKdNtBphYFAXiz5xZKOgUDZh8+wK5uBQK5H4XoUp4FAYVeA3GuvgUDHBA/mibSBQNgVIPeau4FArNUxwYPHgUB+arx0k9KBQKNwPQrX3YFA6t8IZfTogUCGpCkVZ/GBQBCfYVeA94FADuaJ+jf/gUDUvxHK6P6BQDfQaQOd/4FA35a1OiYDgkA/7jUXkgiCQFOcffgMD4JArEfhehQUgkDLzMzMzBmCQIps5/upI4JAHRM8mCcugkBdj8L1KDuCQAFyr7mQR4JASVMqzj5UgkA830+Nl2KCQE5iEFg5b4JA7sNn2BV6gkAPLbKd74KCQJOmVJx9ioJAmwtJUyqWgkAzMzMzM6SCQJPR27JWsYJAjVBGb8vCgkDSlIqzD9SCQLSBThvo44JAzyLb+X72gkACK4cW2QiDQFirY4IHG4NAdUzwYJ4og0CbC0lTKjmDQM8+fIZdTINA7cNn2BVfg0AH80T9G3qDQElTKs4+loNAyHa+nxqrg0DDrgC517yDQDaJQWDlzINAAp020Gnhg0Bj9Las1feDQGFXgNxrDoRAL5b8YskjhECyyHa+nzmEQAIrhxbZToRA7FG4HoVjhECs1THBg3WEQF/l0CLbgIRAnah/I5SJhEB8PzVeupaEQBl2Bci9noRAR+F6FK6hhEBH4XoUrqCEQKebxCCwpIRA35a1OiakhECKiIiIiKGEQF+6SQwCm4RAFIPAyqGQhEANSVMqzoeEQGTJL5b8e4RAK0DuNRdzhED+1HjpJmuEQFsdEzyYZIRAcfbhM+xdhEDC9Shcj1KEQNqHz7ArQIRA5RdLfrE4hEAIrBxaZCyEQJqZmZmZHoRAtvP91HgLhED6N0IZvfSDQGlKxdmH2YNA7sNn2BW+g0C7AuRec52DQPs3Qhm9f4NAU3H24TNhg0DhehSuRz+DQEX9G6GMHINA/41QRm/+gkB/+Ay7AtuCQBzotIFOu4JAmSfq3wicgkCa4ME8UXmCQPJgnqh/VIJABCuHFtk6gkBS/0YooyOCQMovlvxiEIJAG+i0gU4AgkC0yHa+n/OBQLhlrY4J6YFAJb9Y8ovdgUBgV4Dca9KBQHmi/o1QwoFAjVBGb8uzgUClm8QgsKWBQOb7qfHSk4FA/BuhjN59gUBR/0Yoo2mBQLnXXEiaU4FA0SLb+X5CgUCR7Xw/NTKBQDm0yHa+IYFAtqzVMcELgUCEwMqhRf2AQAVWDi2y8IBAXB0TPJjigEDptIFOG9mAQD81XrpJ1IBAqA102kDNgECcxCCwcsWAQHzNhaQpvoBA+/AZdgW3gEDc+X5qvLiAQNlcSJpSvoBAYZ6ofyO4gEBERERERK+AQGp1TPBgpYBAfrHkF0uZgECzD59hV4aAQDomeDBPdoBAUrgehetlgEDgwTxR/06AQP//////NIBA9uEz7AoggEA3iUFg5QyAQDm0yHa+AoBAJAaBlUPvf0D0tqzVMeV/QMTZh8+wu39AP+41F5KGf0DUvxHK6Fd/QIiIiIiIMn9AyL3mQtIWf0AIZfS2rPV+QIts5/upy35AwMqhRbaffkDCPFH/Rn5+QOHsw2fYXX5A7cNn2BVEfkBQ/0YoozF+QB+F61G4IH5ANheSplQMfkBN8GCeqOt9QE6pOPvwwX1AmLU6JniYfUAMSVMqznZ9QDiJQWDlUH1AEVg5tMgofUC38/3UeAd9QP1iyS+W3nxA9ET9G6G6fEDy0k1iEJ58QCgxCKwciHxAIWlKxdlhfEDNzMzMzFp7QP3UeOkmVXpAHz7DrgBNeUD78Bl2BUB4QIPAyqFFVHdArUfhehRudkBnHz7DroJ1QP0boYzeknRAK4cW2c6jc0C7AuRec7VyQDFP1L8RyHFAuddcSJrgcEA6baDTBuJvQJDC9ShcA25A\",\"dtype\":\"float64\",\"shape\":[3270]}},\"selected\":{\"id\":\"3182\",\"type\":\"Selection\"},\"selection_policy\":{\"id\":\"3183\",\"type\":\"UnionRenderers\"}},\"id\":\"3033\",\"type\":\"ColumnDataSource\"}],\"root_ids\":[\"2975\"]},\"title\":\"Bokeh Application\",\"version\":\"1.2.0\"}};\n",
       "  var render_items = [{\"docid\":\"e5addeec-3b2c-4807-a6c3-5a6365c14969\",\"roots\":{\"2975\":\"e36ee49e-c4a4-4565-9a70-98ca04b4b6ff\"}}];\n",
       "  root.Bokeh.embed.embed_items_notebook(docs_json, render_items);\n",
       "\n",
       "  }\n",
       "  if (root.Bokeh !== undefined) {\n",
       "    embed_document(root);\n",
       "  } else {\n",
       "    var attempts = 0;\n",
       "    var timer = setInterval(function(root) {\n",
       "      if (root.Bokeh !== undefined) {\n",
       "        embed_document(root);\n",
       "        clearInterval(timer);\n",
       "      }\n",
       "      attempts++;\n",
       "      if (attempts > 100) {\n",
       "        console.log(\"Bokeh: ERROR: Unable to run BokehJS code because BokehJS library is missing\");\n",
       "        clearInterval(timer);\n",
       "      }\n",
       "    }, 10, root)\n",
       "  }\n",
       "})(window);"
      ],
      "application/vnd.bokehjs_exec.v0+json": ""
     },
     "metadata": {
      "application/vnd.bokehjs_exec.v0+json": {
       "id": "2975"
      }
     },
     "output_type": "display_data"
    }
   ],
   "source": [
    "# prepare some data\n",
    "aapl = np.array(AAPL['adj_close'])\n",
    "aapl_dates = np.array(AAPL['date'], dtype=np.datetime64)\n",
    "\n",
    "window_size = 30\n",
    "window = np.ones(window_size)/float(window_size)\n",
    "aapl_avg = np.convolve(aapl, window, 'same')\n",
    "\n",
    "# create a new plot with a a datetime axis type\n",
    "p = figure(width=800, height=350, x_axis_type=\"datetime\")\n",
    "\n",
    "# add renderers\n",
    "p.circle(aapl_dates, aapl, size=4, color='darkgrey', alpha=0.2, legend='close')\n",
    "p.line(aapl_dates, aapl_avg, color='red', legend='avg')\n",
    "\n",
    "# NEW: customize by setting attributes\n",
    "p.title.text = \"AAPL One-Month Average\"\n",
    "p.legend.location = \"top_left\"\n",
    "p.grid.grid_line_alpha=0\n",
    "p.xaxis.axis_label = 'Date'\n",
    "p.yaxis.axis_label = 'Price'\n",
    "\n",
    "p.ygrid.band_fill_color=\"gray\"\n",
    "p.ygrid.band_fill_alpha = 0.1\n",
    "\n",
    "p.legend.click_policy=\"hide\" # enable the click policy on the legend\n",
    "\n",
    "# show the results\n",
    "show(p)"
   ]
  },
  {
   "cell_type": "markdown",
   "metadata": {},
   "source": [
    "## Categorical axes\n",
    "To inform Bokeh that the `x-axis` is `categorical`, we pass this list of factors as the `x_range` argument to bokeh plotting figure:\n",
    "\n",
    "```python\n",
    "p = figure(x_range=fruits, ... )\n",
    "```\n",
    "\n",
    "Note that passing the list of factors is a convenient shorthand notation for creating a FactorRange. The equivalent explicit notation is:\n",
    "```python\n",
    "p = figure(x_range=FactorRange(field=fruits), ... )\n",
    "```\n",
    "This more explicit for is useful when you want to customize the FactorRange, e.g. by changing the range or category padding.\n",
    "\n",
    "Next we can call vbar with the list of fruit name factors as the x coordinate, the bar height as the top coordinate, and optionally any width or other properties that we would like to set:\n",
    "```python\n",
    "p.vbar(x=fruits, top=[5, 3, 4, 2, 4, 6], width=0.9)\n",
    "```\n",
    "\n",
    "Now putting this stuff together we will see the output:"
   ]
  },
  {
   "cell_type": "code",
   "execution_count": 21,
   "metadata": {},
   "outputs": [
    {
     "data": {
      "text/html": [
       "\n",
       "\n",
       "\n",
       "\n",
       "\n",
       "\n",
       "  <div class=\"bk-root\" id=\"c7d0a39c-4fe5-436e-864f-ddf24257f8b8\" data-root-id=\"3335\"></div>\n"
      ]
     },
     "metadata": {},
     "output_type": "display_data"
    },
    {
     "data": {
      "application/javascript": [
       "(function(root) {\n",
       "  function embed_document(root) {\n",
       "    \n",
       "  var docs_json = {\"7c59ea84-70c8-4c7b-ba11-c22567bd368b\":{\"roots\":{\"references\":[{\"attributes\":{\"below\":[{\"id\":\"3346\",\"type\":\"CategoricalAxis\"}],\"center\":[{\"id\":\"3349\",\"type\":\"Grid\"},{\"id\":\"3354\",\"type\":\"Grid\"}],\"left\":[{\"id\":\"3350\",\"type\":\"LinearAxis\"}],\"plot_height\":250,\"renderers\":[{\"id\":\"3359\",\"type\":\"GlyphRenderer\"}],\"title\":{\"id\":\"3336\",\"type\":\"Title\"},\"toolbar\":{\"id\":\"3355\",\"type\":\"Toolbar\"},\"toolbar_location\":null,\"x_range\":{\"id\":\"3338\",\"type\":\"FactorRange\"},\"x_scale\":{\"id\":\"3342\",\"type\":\"CategoricalScale\"},\"y_range\":{\"id\":\"3340\",\"type\":\"DataRange1d\"},\"y_scale\":{\"id\":\"3344\",\"type\":\"LinearScale\"}},\"id\":\"3335\",\"subtype\":\"Figure\",\"type\":\"Plot\"},{\"attributes\":{},\"id\":\"3498\",\"type\":\"BasicTickFormatter\"},{\"attributes\":{},\"id\":\"3351\",\"type\":\"BasicTicker\"},{\"attributes\":{\"dimension\":1,\"ticker\":{\"id\":\"3351\",\"type\":\"BasicTicker\"}},\"id\":\"3354\",\"type\":\"Grid\"},{\"attributes\":{\"formatter\":{\"id\":\"3498\",\"type\":\"BasicTickFormatter\"},\"ticker\":{\"id\":\"3351\",\"type\":\"BasicTicker\"}},\"id\":\"3350\",\"type\":\"LinearAxis\"},{\"attributes\":{\"grid_line_color\":null,\"ticker\":{\"id\":\"3347\",\"type\":\"CategoricalTicker\"}},\"id\":\"3349\",\"type\":\"Grid\"},{\"attributes\":{},\"id\":\"3502\",\"type\":\"Selection\"},{\"attributes\":{},\"id\":\"3347\",\"type\":\"CategoricalTicker\"},{\"attributes\":{\"formatter\":{\"id\":\"3500\",\"type\":\"CategoricalTickFormatter\"},\"ticker\":{\"id\":\"3347\",\"type\":\"CategoricalTicker\"}},\"id\":\"3346\",\"type\":\"CategoricalAxis\"},{\"attributes\":{},\"id\":\"3344\",\"type\":\"LinearScale\"},{\"attributes\":{},\"id\":\"3342\",\"type\":\"CategoricalScale\"},{\"attributes\":{\"callback\":null,\"start\":0},\"id\":\"3340\",\"type\":\"DataRange1d\"},{\"attributes\":{\"text\":\"Fruit Counts\"},\"id\":\"3336\",\"type\":\"Title\"},{\"attributes\":{\"callback\":null,\"factors\":[\"Apples\",\"Pears\",\"Nectarines\",\"Plums\",\"Grapes\",\"Strawberries\"]},\"id\":\"3338\",\"type\":\"FactorRange\"},{\"attributes\":{},\"id\":\"3503\",\"type\":\"UnionRenderers\"},{\"attributes\":{},\"id\":\"3500\",\"type\":\"CategoricalTickFormatter\"},{\"attributes\":{\"callback\":null,\"data\":{\"top\":[5,3,4,2,4,6],\"x\":[\"Apples\",\"Pears\",\"Nectarines\",\"Plums\",\"Grapes\",\"Strawberries\"]},\"selected\":{\"id\":\"3502\",\"type\":\"Selection\"},\"selection_policy\":{\"id\":\"3503\",\"type\":\"UnionRenderers\"}},\"id\":\"3356\",\"type\":\"ColumnDataSource\"},{\"attributes\":{\"active_drag\":\"auto\",\"active_inspect\":\"auto\",\"active_multi\":null,\"active_scroll\":\"auto\",\"active_tap\":\"auto\"},\"id\":\"3355\",\"type\":\"Toolbar\"},{\"attributes\":{\"source\":{\"id\":\"3356\",\"type\":\"ColumnDataSource\"}},\"id\":\"3360\",\"type\":\"CDSView\"},{\"attributes\":{\"data_source\":{\"id\":\"3356\",\"type\":\"ColumnDataSource\"},\"glyph\":{\"id\":\"3357\",\"type\":\"VBar\"},\"hover_glyph\":null,\"muted_glyph\":null,\"nonselection_glyph\":{\"id\":\"3358\",\"type\":\"VBar\"},\"selection_glyph\":null,\"view\":{\"id\":\"3360\",\"type\":\"CDSView\"}},\"id\":\"3359\",\"type\":\"GlyphRenderer\"},{\"attributes\":{\"fill_alpha\":{\"value\":0.1},\"fill_color\":{\"value\":\"#1f77b4\"},\"line_alpha\":{\"value\":0.1},\"line_color\":{\"value\":\"#1f77b4\"},\"top\":{\"field\":\"top\"},\"width\":{\"value\":0.6},\"x\":{\"field\":\"x\"}},\"id\":\"3358\",\"type\":\"VBar\"},{\"attributes\":{\"fill_color\":{\"value\":\"#1f77b4\"},\"line_color\":{\"value\":\"#1f77b4\"},\"top\":{\"field\":\"top\"},\"width\":{\"value\":0.6},\"x\":{\"field\":\"x\"}},\"id\":\"3357\",\"type\":\"VBar\"}],\"root_ids\":[\"3335\"]},\"title\":\"Bokeh Application\",\"version\":\"1.2.0\"}};\n",
       "  var render_items = [{\"docid\":\"7c59ea84-70c8-4c7b-ba11-c22567bd368b\",\"roots\":{\"3335\":\"c7d0a39c-4fe5-436e-864f-ddf24257f8b8\"}}];\n",
       "  root.Bokeh.embed.embed_items_notebook(docs_json, render_items);\n",
       "\n",
       "  }\n",
       "  if (root.Bokeh !== undefined) {\n",
       "    embed_document(root);\n",
       "  } else {\n",
       "    var attempts = 0;\n",
       "    var timer = setInterval(function(root) {\n",
       "      if (root.Bokeh !== undefined) {\n",
       "        embed_document(root);\n",
       "        clearInterval(timer);\n",
       "      }\n",
       "      attempts++;\n",
       "      if (attempts > 100) {\n",
       "        console.log(\"Bokeh: ERROR: Unable to run BokehJS code because BokehJS library is missing\");\n",
       "        clearInterval(timer);\n",
       "      }\n",
       "    }, 10, root)\n",
       "  }\n",
       "})(window);"
      ],
      "application/vnd.bokehjs_exec.v0+json": ""
     },
     "metadata": {
      "application/vnd.bokehjs_exec.v0+json": {
       "id": "3335"
      }
     },
     "output_type": "display_data"
    }
   ],
   "source": [
    "fruits = ['Apples', 'Pears', 'Nectarines', 'Plums', 'Grapes', 'Strawberries']\n",
    "\n",
    "p = figure(x_range=fruits, plot_height=250, title=\"Fruit Counts\",\n",
    "           toolbar_location=None, tools=\"\")\n",
    "\n",
    "p.vbar(x=fruits, top=[5, 3, 4, 2, 4, 6], width=0.6)\n",
    "\n",
    "p.xgrid.grid_line_color = None\n",
    "p.y_range.start = 0\n",
    "\n",
    "show(p)"
   ]
  },
  {
   "cell_type": "markdown",
   "metadata": {},
   "source": [
    "Often times we may want to have bars that are shaded some color. One way is to supply all the colors up front. This can be done by putting all the data, including the colors for each bar, in a `ColumnDataSource`. Then the name of the column containing the colors is passed to figure as the color (or line_color/fill_color) arguments. This is shown below:"
   ]
  },
  {
   "cell_type": "code",
   "execution_count": 22,
   "metadata": {},
   "outputs": [
    {
     "data": {
      "text/html": [
       "\n",
       "\n",
       "\n",
       "\n",
       "\n",
       "\n",
       "  <div class=\"bk-root\" id=\"47ede7e5-ac5e-4203-8e1d-096f8ff0a173\" data-root-id=\"3547\"></div>\n"
      ]
     },
     "metadata": {},
     "output_type": "display_data"
    },
    {
     "data": {
      "application/javascript": [
       "(function(root) {\n",
       "  function embed_document(root) {\n",
       "    \n",
       "  var docs_json = {\"4bd5b1d2-be4f-4404-af32-3ef2cf8427fb\":{\"roots\":{\"references\":[{\"attributes\":{\"below\":[{\"id\":\"3558\",\"type\":\"CategoricalAxis\"}],\"center\":[{\"id\":\"3561\",\"type\":\"Grid\"},{\"id\":\"3566\",\"type\":\"Grid\"},{\"id\":\"3578\",\"type\":\"Legend\"}],\"left\":[{\"id\":\"3562\",\"type\":\"LinearAxis\"}],\"plot_height\":250,\"renderers\":[{\"id\":\"3571\",\"type\":\"GlyphRenderer\"}],\"title\":{\"id\":\"3548\",\"type\":\"Title\"},\"toolbar\":{\"id\":\"3567\",\"type\":\"Toolbar\"},\"toolbar_location\":null,\"x_range\":{\"id\":\"3550\",\"type\":\"FactorRange\"},\"x_scale\":{\"id\":\"3554\",\"type\":\"CategoricalScale\"},\"y_range\":{\"id\":\"3552\",\"type\":\"Range1d\"},\"y_scale\":{\"id\":\"3556\",\"type\":\"LinearScale\"}},\"id\":\"3547\",\"subtype\":\"Figure\",\"type\":\"Plot\"},{\"attributes\":{\"text\":\"Fruit Counts\"},\"id\":\"3548\",\"type\":\"Title\"},{\"attributes\":{\"source\":{\"id\":\"3546\",\"type\":\"ColumnDataSource\"}},\"id\":\"3572\",\"type\":\"CDSView\"},{\"attributes\":{\"callback\":null,\"factors\":[\"Apples\",\"Pears\",\"Nectarines\",\"Plums\",\"Grapes\",\"Strawberries\"]},\"id\":\"3550\",\"type\":\"FactorRange\"},{\"attributes\":{},\"id\":\"3574\",\"type\":\"BasicTickFormatter\"},{\"attributes\":{\"callback\":null,\"end\":9},\"id\":\"3552\",\"type\":\"Range1d\"},{\"attributes\":{},\"id\":\"3554\",\"type\":\"CategoricalScale\"},{\"attributes\":{},\"id\":\"3576\",\"type\":\"CategoricalTickFormatter\"},{\"attributes\":{},\"id\":\"3556\",\"type\":\"LinearScale\"},{\"attributes\":{\"items\":[{\"id\":\"3579\",\"type\":\"LegendItem\"}],\"location\":\"top_center\",\"orientation\":\"horizontal\"},\"id\":\"3578\",\"type\":\"Legend\"},{\"attributes\":{\"formatter\":{\"id\":\"3576\",\"type\":\"CategoricalTickFormatter\"},\"ticker\":{\"id\":\"3559\",\"type\":\"CategoricalTicker\"}},\"id\":\"3558\",\"type\":\"CategoricalAxis\"},{\"attributes\":{\"label\":{\"field\":\"fruits\"},\"renderers\":[{\"id\":\"3571\",\"type\":\"GlyphRenderer\"}]},\"id\":\"3579\",\"type\":\"LegendItem\"},{\"attributes\":{},\"id\":\"3559\",\"type\":\"CategoricalTicker\"},{\"attributes\":{},\"id\":\"3729\",\"type\":\"UnionRenderers\"},{\"attributes\":{\"grid_line_color\":null,\"ticker\":{\"id\":\"3559\",\"type\":\"CategoricalTicker\"}},\"id\":\"3561\",\"type\":\"Grid\"},{\"attributes\":{\"formatter\":{\"id\":\"3574\",\"type\":\"BasicTickFormatter\"},\"ticker\":{\"id\":\"3563\",\"type\":\"BasicTicker\"}},\"id\":\"3562\",\"type\":\"LinearAxis\"},{\"attributes\":{},\"id\":\"3563\",\"type\":\"BasicTicker\"},{\"attributes\":{\"dimension\":1,\"ticker\":{\"id\":\"3563\",\"type\":\"BasicTicker\"}},\"id\":\"3566\",\"type\":\"Grid\"},{\"attributes\":{\"callback\":null,\"data\":{\"color\":[\"#3288bd\",\"#99d594\",\"#e6f598\",\"#fee08b\",\"#fc8d59\",\"#d53e4f\"],\"counts\":[5,3,4,2,4,6],\"fruits\":[\"Apples\",\"Pears\",\"Nectarines\",\"Plums\",\"Grapes\",\"Strawberries\"]},\"selected\":{\"id\":\"3728\",\"type\":\"Selection\"},\"selection_policy\":{\"id\":\"3729\",\"type\":\"UnionRenderers\"}},\"id\":\"3546\",\"type\":\"ColumnDataSource\"},{\"attributes\":{\"active_drag\":\"auto\",\"active_inspect\":\"auto\",\"active_multi\":null,\"active_scroll\":\"auto\",\"active_tap\":\"auto\"},\"id\":\"3567\",\"type\":\"Toolbar\"},{\"attributes\":{\"fill_color\":{\"field\":\"color\"},\"line_color\":{\"field\":\"color\"},\"top\":{\"field\":\"counts\"},\"width\":{\"value\":0.6},\"x\":{\"field\":\"fruits\"}},\"id\":\"3569\",\"type\":\"VBar\"},{\"attributes\":{\"fill_alpha\":{\"value\":0.1},\"fill_color\":{\"value\":\"#1f77b4\"},\"line_alpha\":{\"value\":0.1},\"line_color\":{\"value\":\"#1f77b4\"},\"top\":{\"field\":\"counts\"},\"width\":{\"value\":0.6},\"x\":{\"field\":\"fruits\"}},\"id\":\"3570\",\"type\":\"VBar\"},{\"attributes\":{},\"id\":\"3728\",\"type\":\"Selection\"},{\"attributes\":{\"data_source\":{\"id\":\"3546\",\"type\":\"ColumnDataSource\"},\"glyph\":{\"id\":\"3569\",\"type\":\"VBar\"},\"hover_glyph\":null,\"muted_glyph\":null,\"nonselection_glyph\":{\"id\":\"3570\",\"type\":\"VBar\"},\"selection_glyph\":null,\"view\":{\"id\":\"3572\",\"type\":\"CDSView\"}},\"id\":\"3571\",\"type\":\"GlyphRenderer\"}],\"root_ids\":[\"3547\"]},\"title\":\"Bokeh Application\",\"version\":\"1.2.0\"}};\n",
       "  var render_items = [{\"docid\":\"4bd5b1d2-be4f-4404-af32-3ef2cf8427fb\",\"roots\":{\"3547\":\"47ede7e5-ac5e-4203-8e1d-096f8ff0a173\"}}];\n",
       "  root.Bokeh.embed.embed_items_notebook(docs_json, render_items);\n",
       "\n",
       "  }\n",
       "  if (root.Bokeh !== undefined) {\n",
       "    embed_document(root);\n",
       "  } else {\n",
       "    var attempts = 0;\n",
       "    var timer = setInterval(function(root) {\n",
       "      if (root.Bokeh !== undefined) {\n",
       "        embed_document(root);\n",
       "        clearInterval(timer);\n",
       "      }\n",
       "      attempts++;\n",
       "      if (attempts > 100) {\n",
       "        console.log(\"Bokeh: ERROR: Unable to run BokehJS code because BokehJS library is missing\");\n",
       "        clearInterval(timer);\n",
       "      }\n",
       "    }, 10, root)\n",
       "  }\n",
       "})(window);"
      ],
      "application/vnd.bokehjs_exec.v0+json": ""
     },
     "metadata": {
      "application/vnd.bokehjs_exec.v0+json": {
       "id": "3547"
      }
     },
     "output_type": "display_data"
    }
   ],
   "source": [
    "from bokeh.models import ColumnDataSource\n",
    "from bokeh.palettes import Spectral6\n",
    "\n",
    "fruits = ['Apples', 'Pears', 'Nectarines', 'Plums', 'Grapes', 'Strawberries']\n",
    "counts = [5, 3, 4, 2, 4, 6]\n",
    "\n",
    "source = ColumnDataSource(data=dict(fruits=fruits, counts=counts, color=Spectral6))\n",
    "\n",
    "p = figure(x_range=fruits, y_range=(0,9), plot_height=250, title=\"Fruit Counts\",\n",
    "           toolbar_location=None, tools=\"\")\n",
    "\n",
    "p.vbar(x='fruits', top='counts', width=0.6, color='color', legend=\"fruits\", source=source)\n",
    "\n",
    "p.xgrid.grid_line_color = None\n",
    "p.legend.orientation = \"horizontal\"\n",
    "p.legend.location = \"top_center\"\n",
    "\n",
    "show(p)"
   ]
  },
  {
   "cell_type": "markdown",
   "metadata": {},
   "source": [
    "### Grouped\n",
    "\n",
    "When creating bar charts, it is often desirable to visually display the data according to sub-groups. There are two basic methods that can be used, depending on your use case: using nested categorical coordinates, or applying vidual dodges.\n",
    "\n",
    "### Nested Categories\n",
    "\n",
    "If the coordinates of a plot range and data have two or three levels, then Bokeh will automatically group the factors on the axis, including a hierarchical tick labeling with separators between the groups. In the case of bar charts, this results in bars grouped together by the top-level factors. This is probably the most common way to achieve grouped bars, especially if you are starting from “tidy” data.\n",
    "\n",
    "The example below shows this approach by creating a single column of coordinates that are each 2-tuples of the form (fruit, year). Accordingly, the plot groups the axes by fruit type, with a single call to vbar:"
   ]
  },
  {
   "cell_type": "code",
   "execution_count": 23,
   "metadata": {},
   "outputs": [
    {
     "data": {
      "text/html": [
       "\n",
       "\n",
       "\n",
       "\n",
       "\n",
       "\n",
       "  <div class=\"bk-root\" id=\"cc78b788-3e0d-4a98-9351-65e818648f70\" data-root-id=\"3774\"></div>\n"
      ]
     },
     "metadata": {},
     "output_type": "display_data"
    },
    {
     "data": {
      "application/javascript": [
       "(function(root) {\n",
       "  function embed_document(root) {\n",
       "    \n",
       "  var docs_json = {\"09f332c6-92ad-4c2c-a2c2-3befbc25f137\":{\"roots\":{\"references\":[{\"attributes\":{\"below\":[{\"id\":\"3784\",\"type\":\"CategoricalAxis\"}],\"center\":[{\"id\":\"3787\",\"type\":\"Grid\"},{\"id\":\"3792\",\"type\":\"Grid\"}],\"left\":[{\"id\":\"3788\",\"type\":\"LinearAxis\"}],\"plot_height\":250,\"renderers\":[{\"id\":\"3797\",\"type\":\"GlyphRenderer\"}],\"title\":{\"id\":\"3775\",\"type\":\"Title\"},\"toolbar\":{\"id\":\"3793\",\"type\":\"Toolbar\"},\"toolbar_location\":null,\"x_range\":{\"id\":\"3773\",\"type\":\"FactorRange\"},\"x_scale\":{\"id\":\"3780\",\"type\":\"CategoricalScale\"},\"y_range\":{\"id\":\"3778\",\"type\":\"DataRange1d\"},\"y_scale\":{\"id\":\"3782\",\"type\":\"LinearScale\"}},\"id\":\"3774\",\"subtype\":\"Figure\",\"type\":\"Plot\"},{\"attributes\":{},\"id\":\"3950\",\"type\":\"BasicTickFormatter\"},{\"attributes\":{\"fill_color\":{\"value\":\"#1f77b4\"},\"line_color\":{\"value\":\"#1f77b4\"},\"top\":{\"field\":\"counts\"},\"width\":{\"value\":0.9},\"x\":{\"field\":\"x\"}},\"id\":\"3795\",\"type\":\"VBar\"},{\"attributes\":{\"fill_alpha\":{\"value\":0.1},\"fill_color\":{\"value\":\"#1f77b4\"},\"line_alpha\":{\"value\":0.1},\"line_color\":{\"value\":\"#1f77b4\"},\"top\":{\"field\":\"counts\"},\"width\":{\"value\":0.9},\"x\":{\"field\":\"x\"}},\"id\":\"3796\",\"type\":\"VBar\"},{\"attributes\":{\"data_source\":{\"id\":\"3772\",\"type\":\"ColumnDataSource\"},\"glyph\":{\"id\":\"3795\",\"type\":\"VBar\"},\"hover_glyph\":null,\"muted_glyph\":null,\"nonselection_glyph\":{\"id\":\"3796\",\"type\":\"VBar\"},\"selection_glyph\":null,\"view\":{\"id\":\"3798\",\"type\":\"CDSView\"}},\"id\":\"3797\",\"type\":\"GlyphRenderer\"},{\"attributes\":{\"callback\":null,\"data\":{\"counts\":[2,5,3,1,3,2,4,3,4,3,2,4,2,4,5,4,6,3],\"x\":[[\"Apples\",\"2015\"],[\"Apples\",\"2016\"],[\"Apples\",\"2017\"],[\"Pears\",\"2015\"],[\"Pears\",\"2016\"],[\"Pears\",\"2017\"],[\"Nectarines\",\"2015\"],[\"Nectarines\",\"2016\"],[\"Nectarines\",\"2017\"],[\"Plums\",\"2015\"],[\"Plums\",\"2016\"],[\"Plums\",\"2017\"],[\"Grapes\",\"2015\"],[\"Grapes\",\"2016\"],[\"Grapes\",\"2017\"],[\"Strawberries\",\"2015\"],[\"Strawberries\",\"2016\"],[\"Strawberries\",\"2017\"]]},\"selected\":{\"id\":\"3954\",\"type\":\"Selection\"},\"selection_policy\":{\"id\":\"3955\",\"type\":\"UnionRenderers\"}},\"id\":\"3772\",\"type\":\"ColumnDataSource\"},{\"attributes\":{\"source\":{\"id\":\"3772\",\"type\":\"ColumnDataSource\"}},\"id\":\"3798\",\"type\":\"CDSView\"},{\"attributes\":{\"callback\":null,\"factors\":[[\"Apples\",\"2015\"],[\"Apples\",\"2016\"],[\"Apples\",\"2017\"],[\"Pears\",\"2015\"],[\"Pears\",\"2016\"],[\"Pears\",\"2017\"],[\"Nectarines\",\"2015\"],[\"Nectarines\",\"2016\"],[\"Nectarines\",\"2017\"],[\"Plums\",\"2015\"],[\"Plums\",\"2016\"],[\"Plums\",\"2017\"],[\"Grapes\",\"2015\"],[\"Grapes\",\"2016\"],[\"Grapes\",\"2017\"],[\"Strawberries\",\"2015\"],[\"Strawberries\",\"2016\"],[\"Strawberries\",\"2017\"]],\"range_padding\":0.1},\"id\":\"3773\",\"type\":\"FactorRange\"},{\"attributes\":{},\"id\":\"3954\",\"type\":\"Selection\"},{\"attributes\":{},\"id\":\"3955\",\"type\":\"UnionRenderers\"},{\"attributes\":{\"text\":\"Fruit Counts by Year\"},\"id\":\"3775\",\"type\":\"Title\"},{\"attributes\":{\"callback\":null,\"start\":0},\"id\":\"3778\",\"type\":\"DataRange1d\"},{\"attributes\":{},\"id\":\"3780\",\"type\":\"CategoricalScale\"},{\"attributes\":{},\"id\":\"3782\",\"type\":\"LinearScale\"},{\"attributes\":{\"formatter\":{\"id\":\"3952\",\"type\":\"CategoricalTickFormatter\"},\"major_label_orientation\":1,\"ticker\":{\"id\":\"3785\",\"type\":\"CategoricalTicker\"}},\"id\":\"3784\",\"type\":\"CategoricalAxis\"},{\"attributes\":{},\"id\":\"3952\",\"type\":\"CategoricalTickFormatter\"},{\"attributes\":{},\"id\":\"3785\",\"type\":\"CategoricalTicker\"},{\"attributes\":{\"grid_line_color\":null,\"ticker\":{\"id\":\"3785\",\"type\":\"CategoricalTicker\"}},\"id\":\"3787\",\"type\":\"Grid\"},{\"attributes\":{\"formatter\":{\"id\":\"3950\",\"type\":\"BasicTickFormatter\"},\"ticker\":{\"id\":\"3789\",\"type\":\"BasicTicker\"}},\"id\":\"3788\",\"type\":\"LinearAxis\"},{\"attributes\":{},\"id\":\"3789\",\"type\":\"BasicTicker\"},{\"attributes\":{\"dimension\":1,\"ticker\":{\"id\":\"3789\",\"type\":\"BasicTicker\"}},\"id\":\"3792\",\"type\":\"Grid\"},{\"attributes\":{\"active_drag\":\"auto\",\"active_inspect\":\"auto\",\"active_multi\":null,\"active_scroll\":\"auto\",\"active_tap\":\"auto\"},\"id\":\"3793\",\"type\":\"Toolbar\"}],\"root_ids\":[\"3774\"]},\"title\":\"Bokeh Application\",\"version\":\"1.2.0\"}};\n",
       "  var render_items = [{\"docid\":\"09f332c6-92ad-4c2c-a2c2-3befbc25f137\",\"roots\":{\"3774\":\"cc78b788-3e0d-4a98-9351-65e818648f70\"}}];\n",
       "  root.Bokeh.embed.embed_items_notebook(docs_json, render_items);\n",
       "\n",
       "  }\n",
       "  if (root.Bokeh !== undefined) {\n",
       "    embed_document(root);\n",
       "  } else {\n",
       "    var attempts = 0;\n",
       "    var timer = setInterval(function(root) {\n",
       "      if (root.Bokeh !== undefined) {\n",
       "        embed_document(root);\n",
       "        clearInterval(timer);\n",
       "      }\n",
       "      attempts++;\n",
       "      if (attempts > 100) {\n",
       "        console.log(\"Bokeh: ERROR: Unable to run BokehJS code because BokehJS library is missing\");\n",
       "        clearInterval(timer);\n",
       "      }\n",
       "    }, 10, root)\n",
       "  }\n",
       "})(window);"
      ],
      "application/vnd.bokehjs_exec.v0+json": ""
     },
     "metadata": {
      "application/vnd.bokehjs_exec.v0+json": {
       "id": "3774"
      }
     },
     "output_type": "display_data"
    }
   ],
   "source": [
    "from bokeh.models import ColumnDataSource, FactorRange\n",
    "from bokeh.plotting import figure\n",
    "\n",
    "fruits = ['Apples', 'Pears', 'Nectarines', 'Plums', 'Grapes', 'Strawberries']\n",
    "years = ['2015', '2016', '2017']\n",
    "\n",
    "data = {'fruits' : fruits,\n",
    "        '2015'   : [2, 1, 4, 3, 2, 4],\n",
    "        '2016'   : [5, 3, 3, 2, 4, 6],\n",
    "        '2017'   : [3, 2, 4, 4, 5, 3]}\n",
    "\n",
    "# this creates [ (\"Apples\", \"2015\"), (\"Apples\", \"2016\"), (\"Apples\", \"2017\"), (\"Pears\", \"2015), ... ]\n",
    "x = [ (fruit, year) for fruit in fruits for year in years ]\n",
    "counts = sum(zip(data['2015'], data['2016'], data['2017']), ()) # like an hstack in numpy\n",
    "\n",
    "source = ColumnDataSource(data=dict(x=x, counts=counts))\n",
    "\n",
    "p = figure(x_range=FactorRange(*x), plot_height=250, title=\"Fruit Counts by Year\",\n",
    "           toolbar_location=None, tools=\"\")\n",
    "\n",
    "p.vbar(x='x', top='counts', width=0.9, source=source)\n",
    "\n",
    "p.y_range.start = 0\n",
    "p.x_range.range_padding = 0.1\n",
    "p.xaxis.major_label_orientation = 1\n",
    "p.xgrid.grid_line_color = None\n",
    "\n",
    "show(p)"
   ]
  },
  {
   "cell_type": "markdown",
   "metadata": {},
   "source": [
    "We can also apply a color mapping, similar to the earlier example. To obtain same grouped bar plot of fruits data as above, except with the bars shaded by the year, changethe vbar function call to use `factor_cmap` for the fill_color:"
   ]
  },
  {
   "cell_type": "code",
   "execution_count": 24,
   "metadata": {},
   "outputs": [
    {
     "data": {
      "text/html": [
       "\n",
       "\n",
       "\n",
       "\n",
       "\n",
       "\n",
       "  <div class=\"bk-root\" id=\"318ad777-c579-4f1b-b3c5-ce7fb263d5ea\" data-root-id=\"3774\"></div>\n"
      ]
     },
     "metadata": {},
     "output_type": "display_data"
    },
    {
     "data": {
      "application/javascript": [
       "(function(root) {\n",
       "  function embed_document(root) {\n",
       "    \n",
       "  var docs_json = {\"d34fa682-d3ab-455c-ae7e-51fe2136f0ea\":{\"roots\":{\"references\":[{\"attributes\":{\"below\":[{\"id\":\"3784\",\"type\":\"CategoricalAxis\"}],\"center\":[{\"id\":\"3787\",\"type\":\"Grid\"},{\"id\":\"3792\",\"type\":\"Grid\"}],\"left\":[{\"id\":\"3788\",\"type\":\"LinearAxis\"}],\"plot_height\":250,\"renderers\":[{\"id\":\"3797\",\"type\":\"GlyphRenderer\"},{\"id\":\"4002\",\"type\":\"GlyphRenderer\"}],\"title\":{\"id\":\"3775\",\"type\":\"Title\"},\"toolbar\":{\"id\":\"3793\",\"type\":\"Toolbar\"},\"toolbar_location\":null,\"x_range\":{\"id\":\"3773\",\"type\":\"FactorRange\"},\"x_scale\":{\"id\":\"3780\",\"type\":\"CategoricalScale\"},\"y_range\":{\"id\":\"3778\",\"type\":\"DataRange1d\"},\"y_scale\":{\"id\":\"3782\",\"type\":\"LinearScale\"}},\"id\":\"3774\",\"subtype\":\"Figure\",\"type\":\"Plot\"},{\"attributes\":{},\"id\":\"3950\",\"type\":\"BasicTickFormatter\"},{\"attributes\":{\"fill_color\":{\"value\":\"#1f77b4\"},\"line_color\":{\"value\":\"#1f77b4\"},\"top\":{\"field\":\"counts\"},\"width\":{\"value\":0.9},\"x\":{\"field\":\"x\"}},\"id\":\"3795\",\"type\":\"VBar\"},{\"attributes\":{\"data_source\":{\"id\":\"3772\",\"type\":\"ColumnDataSource\"},\"glyph\":{\"id\":\"4000\",\"type\":\"VBar\"},\"hover_glyph\":null,\"muted_glyph\":null,\"nonselection_glyph\":{\"id\":\"4001\",\"type\":\"VBar\"},\"selection_glyph\":null,\"view\":{\"id\":\"4003\",\"type\":\"CDSView\"}},\"id\":\"4002\",\"type\":\"GlyphRenderer\"},{\"attributes\":{\"fill_alpha\":{\"value\":0.1},\"fill_color\":{\"value\":\"#1f77b4\"},\"line_alpha\":{\"value\":0.1},\"line_color\":{\"value\":\"#1f77b4\"},\"top\":{\"field\":\"counts\"},\"width\":{\"value\":0.9},\"x\":{\"field\":\"x\"}},\"id\":\"3796\",\"type\":\"VBar\"},{\"attributes\":{\"data_source\":{\"id\":\"3772\",\"type\":\"ColumnDataSource\"},\"glyph\":{\"id\":\"3795\",\"type\":\"VBar\"},\"hover_glyph\":null,\"muted_glyph\":null,\"nonselection_glyph\":{\"id\":\"3796\",\"type\":\"VBar\"},\"selection_glyph\":null,\"view\":{\"id\":\"3798\",\"type\":\"CDSView\"}},\"id\":\"3797\",\"type\":\"GlyphRenderer\"},{\"attributes\":{\"callback\":null,\"data\":{\"counts\":[2,5,3,1,3,2,4,3,4,3,2,4,2,4,5,4,6,3],\"x\":[[\"Apples\",\"2015\"],[\"Apples\",\"2016\"],[\"Apples\",\"2017\"],[\"Pears\",\"2015\"],[\"Pears\",\"2016\"],[\"Pears\",\"2017\"],[\"Nectarines\",\"2015\"],[\"Nectarines\",\"2016\"],[\"Nectarines\",\"2017\"],[\"Plums\",\"2015\"],[\"Plums\",\"2016\"],[\"Plums\",\"2017\"],[\"Grapes\",\"2015\"],[\"Grapes\",\"2016\"],[\"Grapes\",\"2017\"],[\"Strawberries\",\"2015\"],[\"Strawberries\",\"2016\"],[\"Strawberries\",\"2017\"]]},\"selected\":{\"id\":\"3954\",\"type\":\"Selection\"},\"selection_policy\":{\"id\":\"3955\",\"type\":\"UnionRenderers\"}},\"id\":\"3772\",\"type\":\"ColumnDataSource\"},{\"attributes\":{\"source\":{\"id\":\"3772\",\"type\":\"ColumnDataSource\"}},\"id\":\"3798\",\"type\":\"CDSView\"},{\"attributes\":{\"callback\":null,\"factors\":[[\"Apples\",\"2015\"],[\"Apples\",\"2016\"],[\"Apples\",\"2017\"],[\"Pears\",\"2015\"],[\"Pears\",\"2016\"],[\"Pears\",\"2017\"],[\"Nectarines\",\"2015\"],[\"Nectarines\",\"2016\"],[\"Nectarines\",\"2017\"],[\"Plums\",\"2015\"],[\"Plums\",\"2016\"],[\"Plums\",\"2017\"],[\"Grapes\",\"2015\"],[\"Grapes\",\"2016\"],[\"Grapes\",\"2017\"],[\"Strawberries\",\"2015\"],[\"Strawberries\",\"2016\"],[\"Strawberries\",\"2017\"]],\"range_padding\":0.1},\"id\":\"3773\",\"type\":\"FactorRange\"},{\"attributes\":{},\"id\":\"3954\",\"type\":\"Selection\"},{\"attributes\":{},\"id\":\"3955\",\"type\":\"UnionRenderers\"},{\"attributes\":{\"text\":\"Fruit Counts by Year\"},\"id\":\"3775\",\"type\":\"Title\"},{\"attributes\":{\"callback\":null,\"start\":0},\"id\":\"3778\",\"type\":\"DataRange1d\"},{\"attributes\":{\"end\":2,\"factors\":[\"2015\",\"2016\",\"2017\"],\"palette\":[\"#5e4fa2\",\"#3288bd\",\"#66c2a5\",\"#abdda4\",\"#e6f598\",\"#fee08b\",\"#fdae61\",\"#f46d43\",\"#d53e4f\",\"#9e0142\"],\"start\":1},\"id\":\"3998\",\"type\":\"CategoricalColorMapper\"},{\"attributes\":{},\"id\":\"3780\",\"type\":\"CategoricalScale\"},{\"attributes\":{},\"id\":\"3782\",\"type\":\"LinearScale\"},{\"attributes\":{\"formatter\":{\"id\":\"3952\",\"type\":\"CategoricalTickFormatter\"},\"major_label_orientation\":1,\"ticker\":{\"id\":\"3785\",\"type\":\"CategoricalTicker\"}},\"id\":\"3784\",\"type\":\"CategoricalAxis\"},{\"attributes\":{},\"id\":\"3952\",\"type\":\"CategoricalTickFormatter\"},{\"attributes\":{},\"id\":\"3785\",\"type\":\"CategoricalTicker\"},{\"attributes\":{\"grid_line_color\":null,\"ticker\":{\"id\":\"3785\",\"type\":\"CategoricalTicker\"}},\"id\":\"3787\",\"type\":\"Grid\"},{\"attributes\":{\"fill_color\":{\"field\":\"x\",\"transform\":{\"id\":\"3998\",\"type\":\"CategoricalColorMapper\"}},\"line_color\":{\"value\":\"white\"},\"top\":{\"field\":\"counts\"},\"width\":{\"value\":0.9},\"x\":{\"field\":\"x\"}},\"id\":\"4000\",\"type\":\"VBar\"},{\"attributes\":{\"formatter\":{\"id\":\"3950\",\"type\":\"BasicTickFormatter\"},\"ticker\":{\"id\":\"3789\",\"type\":\"BasicTicker\"}},\"id\":\"3788\",\"type\":\"LinearAxis\"},{\"attributes\":{\"fill_alpha\":{\"value\":0.1},\"fill_color\":{\"value\":\"#1f77b4\"},\"line_alpha\":{\"value\":0.1},\"line_color\":{\"value\":\"#1f77b4\"},\"top\":{\"field\":\"counts\"},\"width\":{\"value\":0.9},\"x\":{\"field\":\"x\"}},\"id\":\"4001\",\"type\":\"VBar\"},{\"attributes\":{},\"id\":\"3789\",\"type\":\"BasicTicker\"},{\"attributes\":{\"source\":{\"id\":\"3772\",\"type\":\"ColumnDataSource\"}},\"id\":\"4003\",\"type\":\"CDSView\"},{\"attributes\":{\"dimension\":1,\"ticker\":{\"id\":\"3789\",\"type\":\"BasicTicker\"}},\"id\":\"3792\",\"type\":\"Grid\"},{\"attributes\":{\"active_drag\":\"auto\",\"active_inspect\":\"auto\",\"active_multi\":null,\"active_scroll\":\"auto\",\"active_tap\":\"auto\"},\"id\":\"3793\",\"type\":\"Toolbar\"}],\"root_ids\":[\"3774\"]},\"title\":\"Bokeh Application\",\"version\":\"1.2.0\"}};\n",
       "  var render_items = [{\"docid\":\"d34fa682-d3ab-455c-ae7e-51fe2136f0ea\",\"roots\":{\"3774\":\"318ad777-c579-4f1b-b3c5-ce7fb263d5ea\"}}];\n",
       "  root.Bokeh.embed.embed_items_notebook(docs_json, render_items);\n",
       "\n",
       "  }\n",
       "  if (root.Bokeh !== undefined) {\n",
       "    embed_document(root);\n",
       "  } else {\n",
       "    var attempts = 0;\n",
       "    var timer = setInterval(function(root) {\n",
       "      if (root.Bokeh !== undefined) {\n",
       "        embed_document(root);\n",
       "        clearInterval(timer);\n",
       "      }\n",
       "      attempts++;\n",
       "      if (attempts > 100) {\n",
       "        console.log(\"Bokeh: ERROR: Unable to run BokehJS code because BokehJS library is missing\");\n",
       "        clearInterval(timer);\n",
       "      }\n",
       "    }, 10, root)\n",
       "  }\n",
       "})(window);"
      ],
      "application/vnd.bokehjs_exec.v0+json": ""
     },
     "metadata": {
      "application/vnd.bokehjs_exec.v0+json": {
       "id": "3774"
      }
     },
     "output_type": "display_data"
    }
   ],
   "source": [
    "from bokeh.transform import factor_cmap\n",
    "from bokeh.palettes import Spectral10\n",
    "\n",
    "# use the palette to colormap based on the the x[1:2] values\n",
    "p.vbar(x='x', top='counts', width=0.9, source=source, line_color=\"white\",\n",
    "       fill_color=factor_cmap('x', palette=Spectral10, factors=years, start=1, end=2))\n",
    "show(p)"
   ]
  },
  {
   "cell_type": "markdown",
   "metadata": {},
   "source": [
    "Another method for achieving grouped bars is to explicitly specify a visual displacement for the bars. Such a visual offset is also referred to as a dodge.\n",
    "\n",
    "In this scenario, our data is not “tidy”. Instead a single table with rows indexed by factors (fruit, year), we have separate series for each year. We can plot all the year series using separate calls to vbar but since every bar in each group has the same fruit factor, the bars would overlap visually. We can prevent this overlap and distinguish the bars visually by using the dodge() function to provide an offset for each different call to vbar:"
   ]
  },
  {
   "cell_type": "code",
   "execution_count": 25,
   "metadata": {},
   "outputs": [
    {
     "data": {
      "text/html": [
       "\n",
       "\n",
       "\n",
       "\n",
       "\n",
       "\n",
       "  <div class=\"bk-root\" id=\"4f92558c-9791-42e8-b4ef-80d14c7d1d4f\" data-root-id=\"4204\"></div>\n"
      ]
     },
     "metadata": {},
     "output_type": "display_data"
    },
    {
     "data": {
      "application/javascript": [
       "(function(root) {\n",
       "  function embed_document(root) {\n",
       "    \n",
       "  var docs_json = {\"cf7b51f1-2f5f-45d2-bf80-afcb2d995712\":{\"roots\":{\"references\":[{\"attributes\":{\"below\":[{\"id\":\"4215\",\"type\":\"CategoricalAxis\"}],\"center\":[{\"id\":\"4218\",\"type\":\"Grid\"},{\"id\":\"4223\",\"type\":\"Grid\"},{\"id\":\"4236\",\"type\":\"Legend\"}],\"left\":[{\"id\":\"4219\",\"type\":\"LinearAxis\"}],\"plot_height\":250,\"renderers\":[{\"id\":\"4229\",\"type\":\"GlyphRenderer\"},{\"id\":\"4242\",\"type\":\"GlyphRenderer\"},{\"id\":\"4256\",\"type\":\"GlyphRenderer\"}],\"title\":{\"id\":\"4205\",\"type\":\"Title\"},\"toolbar\":{\"id\":\"4224\",\"type\":\"Toolbar\"},\"toolbar_location\":null,\"x_range\":{\"id\":\"4207\",\"type\":\"FactorRange\"},\"x_scale\":{\"id\":\"4211\",\"type\":\"CategoricalScale\"},\"y_range\":{\"id\":\"4209\",\"type\":\"Range1d\"},\"y_scale\":{\"id\":\"4213\",\"type\":\"LinearScale\"}},\"id\":\"4204\",\"subtype\":\"Figure\",\"type\":\"Plot\"},{\"attributes\":{\"callback\":null,\"end\":10},\"id\":\"4209\",\"type\":\"Range1d\"},{\"attributes\":{},\"id\":\"4234\",\"type\":\"CategoricalTickFormatter\"},{\"attributes\":{},\"id\":\"4211\",\"type\":\"CategoricalScale\"},{\"attributes\":{\"items\":[{\"id\":\"4237\",\"type\":\"LegendItem\"},{\"id\":\"4251\",\"type\":\"LegendItem\"},{\"id\":\"4265\",\"type\":\"LegendItem\"}],\"location\":\"top_left\",\"orientation\":\"horizontal\"},\"id\":\"4236\",\"type\":\"Legend\"},{\"attributes\":{},\"id\":\"4213\",\"type\":\"LinearScale\"},{\"attributes\":{\"label\":{\"value\":\"2015\"},\"renderers\":[{\"id\":\"4229\",\"type\":\"GlyphRenderer\"}]},\"id\":\"4237\",\"type\":\"LegendItem\"},{\"attributes\":{\"formatter\":{\"id\":\"4234\",\"type\":\"CategoricalTickFormatter\"},\"ticker\":{\"id\":\"4216\",\"type\":\"CategoricalTicker\"}},\"id\":\"4215\",\"type\":\"CategoricalAxis\"},{\"attributes\":{\"range\":{\"id\":\"4207\",\"type\":\"FactorRange\"},\"value\":0.25},\"id\":\"4252\",\"type\":\"Dodge\"},{\"attributes\":{},\"id\":\"4216\",\"type\":\"CategoricalTicker\"},{\"attributes\":{\"label\":{\"value\":\"2016\"},\"renderers\":[{\"id\":\"4242\",\"type\":\"GlyphRenderer\"}]},\"id\":\"4251\",\"type\":\"LegendItem\"},{\"attributes\":{\"grid_line_color\":null,\"ticker\":{\"id\":\"4216\",\"type\":\"CategoricalTicker\"}},\"id\":\"4218\",\"type\":\"Grid\"},{\"attributes\":{\"fill_color\":{\"value\":\"#718dbf\"},\"line_color\":{\"value\":\"#718dbf\"},\"top\":{\"field\":\"2016\"},\"width\":{\"value\":0.2},\"x\":{\"field\":\"fruits\",\"transform\":{\"id\":\"4238\",\"type\":\"Dodge\"}}},\"id\":\"4240\",\"type\":\"VBar\"},{\"attributes\":{\"formatter\":{\"id\":\"4232\",\"type\":\"BasicTickFormatter\"},\"ticker\":{\"id\":\"4220\",\"type\":\"BasicTicker\"}},\"id\":\"4219\",\"type\":\"LinearAxis\"},{\"attributes\":{\"fill_alpha\":{\"value\":0.1},\"fill_color\":{\"value\":\"#1f77b4\"},\"line_alpha\":{\"value\":0.1},\"line_color\":{\"value\":\"#1f77b4\"},\"top\":{\"field\":\"2016\"},\"width\":{\"value\":0.2},\"x\":{\"field\":\"fruits\",\"transform\":{\"id\":\"4238\",\"type\":\"Dodge\"}}},\"id\":\"4241\",\"type\":\"VBar\"},{\"attributes\":{\"label\":{\"value\":\"2017\"},\"renderers\":[{\"id\":\"4256\",\"type\":\"GlyphRenderer\"}]},\"id\":\"4265\",\"type\":\"LegendItem\"},{\"attributes\":{},\"id\":\"4220\",\"type\":\"BasicTicker\"},{\"attributes\":{\"data_source\":{\"id\":\"4203\",\"type\":\"ColumnDataSource\"},\"glyph\":{\"id\":\"4240\",\"type\":\"VBar\"},\"hover_glyph\":null,\"muted_glyph\":null,\"nonselection_glyph\":{\"id\":\"4241\",\"type\":\"VBar\"},\"selection_glyph\":null,\"view\":{\"id\":\"4243\",\"type\":\"CDSView\"}},\"id\":\"4242\",\"type\":\"GlyphRenderer\"},{\"attributes\":{\"dimension\":1,\"ticker\":{\"id\":\"4220\",\"type\":\"BasicTicker\"}},\"id\":\"4223\",\"type\":\"Grid\"},{\"attributes\":{\"source\":{\"id\":\"4203\",\"type\":\"ColumnDataSource\"}},\"id\":\"4243\",\"type\":\"CDSView\"},{\"attributes\":{\"active_drag\":\"auto\",\"active_inspect\":\"auto\",\"active_multi\":null,\"active_scroll\":\"auto\",\"active_tap\":\"auto\"},\"id\":\"4224\",\"type\":\"Toolbar\"},{\"attributes\":{},\"id\":\"4250\",\"type\":\"UnionRenderers\"},{\"attributes\":{\"fill_color\":{\"value\":\"#e84d60\"},\"line_color\":{\"value\":\"#e84d60\"},\"top\":{\"field\":\"2017\"},\"width\":{\"value\":0.2},\"x\":{\"field\":\"fruits\",\"transform\":{\"id\":\"4252\",\"type\":\"Dodge\"}}},\"id\":\"4254\",\"type\":\"VBar\"},{\"attributes\":{\"fill_color\":{\"value\":\"#c9d9d3\"},\"line_color\":{\"value\":\"#c9d9d3\"},\"top\":{\"field\":\"2015\"},\"width\":{\"value\":0.2},\"x\":{\"field\":\"fruits\",\"transform\":{\"id\":\"4225\",\"type\":\"Dodge\"}}},\"id\":\"4227\",\"type\":\"VBar\"},{\"attributes\":{\"fill_alpha\":{\"value\":0.1},\"fill_color\":{\"value\":\"#1f77b4\"},\"line_alpha\":{\"value\":0.1},\"line_color\":{\"value\":\"#1f77b4\"},\"top\":{\"field\":\"2017\"},\"width\":{\"value\":0.2},\"x\":{\"field\":\"fruits\",\"transform\":{\"id\":\"4252\",\"type\":\"Dodge\"}}},\"id\":\"4255\",\"type\":\"VBar\"},{\"attributes\":{\"fill_alpha\":{\"value\":0.1},\"fill_color\":{\"value\":\"#1f77b4\"},\"line_alpha\":{\"value\":0.1},\"line_color\":{\"value\":\"#1f77b4\"},\"top\":{\"field\":\"2015\"},\"width\":{\"value\":0.2},\"x\":{\"field\":\"fruits\",\"transform\":{\"id\":\"4225\",\"type\":\"Dodge\"}}},\"id\":\"4228\",\"type\":\"VBar\"},{\"attributes\":{\"data_source\":{\"id\":\"4203\",\"type\":\"ColumnDataSource\"},\"glyph\":{\"id\":\"4254\",\"type\":\"VBar\"},\"hover_glyph\":null,\"muted_glyph\":null,\"nonselection_glyph\":{\"id\":\"4255\",\"type\":\"VBar\"},\"selection_glyph\":null,\"view\":{\"id\":\"4257\",\"type\":\"CDSView\"}},\"id\":\"4256\",\"type\":\"GlyphRenderer\"},{\"attributes\":{\"callback\":null,\"data\":{\"2015\":[2,1,4,3,2,4],\"2016\":[5,3,3,2,4,6],\"2017\":[3,2,4,4,5,3],\"fruits\":[\"Apples\",\"Pears\",\"Nectarines\",\"Plums\",\"Grapes\",\"Strawberries\"]},\"selected\":{\"id\":\"4249\",\"type\":\"Selection\"},\"selection_policy\":{\"id\":\"4250\",\"type\":\"UnionRenderers\"}},\"id\":\"4203\",\"type\":\"ColumnDataSource\"},{\"attributes\":{\"data_source\":{\"id\":\"4203\",\"type\":\"ColumnDataSource\"},\"glyph\":{\"id\":\"4227\",\"type\":\"VBar\"},\"hover_glyph\":null,\"muted_glyph\":null,\"nonselection_glyph\":{\"id\":\"4228\",\"type\":\"VBar\"},\"selection_glyph\":null,\"view\":{\"id\":\"4230\",\"type\":\"CDSView\"}},\"id\":\"4229\",\"type\":\"GlyphRenderer\"},{\"attributes\":{},\"id\":\"4249\",\"type\":\"Selection\"},{\"attributes\":{\"source\":{\"id\":\"4203\",\"type\":\"ColumnDataSource\"}},\"id\":\"4257\",\"type\":\"CDSView\"},{\"attributes\":{\"source\":{\"id\":\"4203\",\"type\":\"ColumnDataSource\"}},\"id\":\"4230\",\"type\":\"CDSView\"},{\"attributes\":{\"range\":{\"id\":\"4207\",\"type\":\"FactorRange\"},\"value\":-0.25},\"id\":\"4225\",\"type\":\"Dodge\"},{\"attributes\":{\"range\":{\"id\":\"4207\",\"type\":\"FactorRange\"}},\"id\":\"4238\",\"type\":\"Dodge\"},{\"attributes\":{\"text\":\"Fruit Counts by Year\"},\"id\":\"4205\",\"type\":\"Title\"},{\"attributes\":{},\"id\":\"4232\",\"type\":\"BasicTickFormatter\"},{\"attributes\":{\"callback\":null,\"factors\":[\"Apples\",\"Pears\",\"Nectarines\",\"Plums\",\"Grapes\",\"Strawberries\"],\"range_padding\":0.1},\"id\":\"4207\",\"type\":\"FactorRange\"}],\"root_ids\":[\"4204\"]},\"title\":\"Bokeh Application\",\"version\":\"1.2.0\"}};\n",
       "  var render_items = [{\"docid\":\"cf7b51f1-2f5f-45d2-bf80-afcb2d995712\",\"roots\":{\"4204\":\"4f92558c-9791-42e8-b4ef-80d14c7d1d4f\"}}];\n",
       "  root.Bokeh.embed.embed_items_notebook(docs_json, render_items);\n",
       "\n",
       "  }\n",
       "  if (root.Bokeh !== undefined) {\n",
       "    embed_document(root);\n",
       "  } else {\n",
       "    var attempts = 0;\n",
       "    var timer = setInterval(function(root) {\n",
       "      if (root.Bokeh !== undefined) {\n",
       "        embed_document(root);\n",
       "        clearInterval(timer);\n",
       "      }\n",
       "      attempts++;\n",
       "      if (attempts > 100) {\n",
       "        console.log(\"Bokeh: ERROR: Unable to run BokehJS code because BokehJS library is missing\");\n",
       "        clearInterval(timer);\n",
       "      }\n",
       "    }, 10, root)\n",
       "  }\n",
       "})(window);"
      ],
      "application/vnd.bokehjs_exec.v0+json": ""
     },
     "metadata": {
      "application/vnd.bokehjs_exec.v0+json": {
       "id": "4204"
      }
     },
     "output_type": "display_data"
    }
   ],
   "source": [
    "from bokeh.core.properties import value\n",
    "from bokeh.models import ColumnDataSource\n",
    "from bokeh.transform import dodge\n",
    "\n",
    "fruits = ['Apples', 'Pears', 'Nectarines', 'Plums', 'Grapes', 'Strawberries']\n",
    "years = ['2015', '2016', '2017']\n",
    "\n",
    "data = {'fruits' : fruits,\n",
    "        '2015'   : [2, 1, 4, 3, 2, 4],\n",
    "        '2016'   : [5, 3, 3, 2, 4, 6],\n",
    "        '2017'   : [3, 2, 4, 4, 5, 3]}\n",
    "\n",
    "source = ColumnDataSource(data=data)\n",
    "\n",
    "p = figure(x_range=fruits, y_range=(0, 10), plot_height=250, title=\"Fruit Counts by Year\",\n",
    "           toolbar_location=None, tools=\"\")\n",
    "\n",
    "p.vbar(x=dodge('fruits', -0.25, range=p.x_range), top='2015', width=0.2, source=source,\n",
    "       color=\"#c9d9d3\", legend=value(\"2015\"))\n",
    "\n",
    "p.vbar(x=dodge('fruits',  0.0,  range=p.x_range), top='2016', width=0.2, source=source,\n",
    "       color=\"#718dbf\", legend=value(\"2016\"))\n",
    "\n",
    "p.vbar(x=dodge('fruits',  0.25, range=p.x_range), top='2017', width=0.2, source=source,\n",
    "       color=\"#e84d60\", legend=value(\"2017\"))\n",
    "\n",
    "p.x_range.range_padding = 0.1\n",
    "p.xgrid.grid_line_color = None\n",
    "p.legend.location = \"top_left\"\n",
    "p.legend.orientation = \"horizontal\"\n",
    "\n",
    "show(p)"
   ]
  },
  {
   "cell_type": "markdown",
   "metadata": {},
   "source": [
    "Another common operation or bar charts is to stack bars on top of one another. Bokeh makes this easy to do with the specialized hbar_stack() and vbar_stack() functions. The example below shows the fruits data from above, but with the bars for each fruit type stacked instead of grouped:"
   ]
  },
  {
   "cell_type": "code",
   "execution_count": 26,
   "metadata": {},
   "outputs": [
    {
     "data": {
      "text/html": [
       "\n",
       "\n",
       "\n",
       "\n",
       "\n",
       "\n",
       "  <div class=\"bk-root\" id=\"81ae4621-d3d0-4ed9-a576-901872968153\" data-root-id=\"4473\"></div>\n"
      ]
     },
     "metadata": {},
     "output_type": "display_data"
    },
    {
     "data": {
      "application/javascript": [
       "(function(root) {\n",
       "  function embed_document(root) {\n",
       "    \n",
       "  var docs_json = {\"fcc9b797-8176-460e-a8a4-1bf85d924a63\":{\"roots\":{\"references\":[{\"attributes\":{\"below\":[{\"id\":\"4484\",\"type\":\"CategoricalAxis\"}],\"center\":[{\"id\":\"4487\",\"type\":\"Grid\"},{\"id\":\"4492\",\"type\":\"Grid\"},{\"id\":\"4510\",\"type\":\"Legend\"}],\"left\":[{\"id\":\"4488\",\"type\":\"LinearAxis\"}],\"outline_line_color\":{\"value\":null},\"plot_height\":250,\"renderers\":[{\"id\":\"4503\",\"type\":\"GlyphRenderer\"},{\"id\":\"4515\",\"type\":\"GlyphRenderer\"},{\"id\":\"4528\",\"type\":\"GlyphRenderer\"}],\"title\":{\"id\":\"4474\",\"type\":\"Title\"},\"toolbar\":{\"id\":\"4493\",\"type\":\"Toolbar\"},\"toolbar_location\":null,\"x_range\":{\"id\":\"4476\",\"type\":\"FactorRange\"},\"x_scale\":{\"id\":\"4480\",\"type\":\"CategoricalScale\"},\"y_range\":{\"id\":\"4478\",\"type\":\"DataRange1d\"},\"y_scale\":{\"id\":\"4482\",\"type\":\"LinearScale\"}},\"id\":\"4473\",\"subtype\":\"Figure\",\"type\":\"Plot\"},{\"attributes\":{\"text\":\"Fruit Counts by Year\"},\"id\":\"4474\",\"type\":\"Title\"},{\"attributes\":{\"data_source\":{\"id\":\"4472\",\"type\":\"ColumnDataSource\"},\"glyph\":{\"id\":\"4513\",\"type\":\"VBar\"},\"hover_glyph\":null,\"muted_glyph\":null,\"name\":\"2016\",\"nonselection_glyph\":{\"id\":\"4514\",\"type\":\"VBar\"},\"selection_glyph\":null,\"view\":{\"id\":\"4516\",\"type\":\"CDSView\"}},\"id\":\"4515\",\"type\":\"GlyphRenderer\"},{\"attributes\":{\"fields\":[\"2015\",\"2016\"]},\"id\":\"4497\",\"type\":\"Stack\"},{\"attributes\":{\"fields\":[\"2015\"]},\"id\":\"4496\",\"type\":\"Stack\"},{\"attributes\":{\"callback\":null,\"start\":0},\"id\":\"4478\",\"type\":\"DataRange1d\"},{\"attributes\":{\"callback\":null,\"factors\":[\"Apples\",\"Pears\",\"Nectarines\",\"Plums\",\"Grapes\",\"Strawberries\"],\"range_padding\":0.1},\"id\":\"4476\",\"type\":\"FactorRange\"},{\"attributes\":{},\"id\":\"4480\",\"type\":\"CategoricalScale\"},{\"attributes\":{},\"id\":\"4482\",\"type\":\"LinearScale\"},{\"attributes\":{\"bottom\":{\"expr\":{\"id\":\"4498\",\"type\":\"Stack\"}},\"fill_color\":{\"value\":\"#98F5FF\"},\"line_color\":{\"value\":\"#98F5FF\"},\"top\":{\"expr\":{\"id\":\"4499\",\"type\":\"Stack\"}},\"width\":{\"value\":0.9},\"x\":{\"field\":\"fruits\"}},\"id\":\"4526\",\"type\":\"VBar\"},{\"attributes\":{\"formatter\":{\"id\":\"4508\",\"type\":\"CategoricalTickFormatter\"},\"minor_tick_line_color\":{\"value\":null},\"ticker\":{\"id\":\"4485\",\"type\":\"CategoricalTicker\"}},\"id\":\"4484\",\"type\":\"CategoricalAxis\"},{\"attributes\":{\"bottom\":{\"expr\":{\"id\":\"4496\",\"type\":\"Stack\"}},\"fill_color\":{\"value\":\"#D3F543\"},\"line_color\":{\"value\":\"#D3F543\"},\"top\":{\"expr\":{\"id\":\"4497\",\"type\":\"Stack\"}},\"width\":{\"value\":0.9},\"x\":{\"field\":\"fruits\"}},\"id\":\"4513\",\"type\":\"VBar\"},{\"attributes\":{\"bottom\":{\"expr\":{\"id\":\"4496\",\"type\":\"Stack\"}},\"fill_alpha\":{\"value\":0.1},\"fill_color\":{\"value\":\"#1f77b4\"},\"line_alpha\":{\"value\":0.1},\"line_color\":{\"value\":\"#1f77b4\"},\"top\":{\"expr\":{\"id\":\"4497\",\"type\":\"Stack\"}},\"width\":{\"value\":0.9},\"x\":{\"field\":\"fruits\"}},\"id\":\"4514\",\"type\":\"VBar\"},{\"attributes\":{\"grid_line_color\":null,\"ticker\":{\"id\":\"4485\",\"type\":\"CategoricalTicker\"}},\"id\":\"4487\",\"type\":\"Grid\"},{\"attributes\":{\"label\":{\"value\":\"2015\"},\"renderers\":[{\"id\":\"4503\",\"type\":\"GlyphRenderer\"}]},\"id\":\"4511\",\"type\":\"LegendItem\"},{\"attributes\":{\"source\":{\"id\":\"4472\",\"type\":\"ColumnDataSource\"}},\"id\":\"4516\",\"type\":\"CDSView\"},{\"attributes\":{},\"id\":\"4485\",\"type\":\"CategoricalTicker\"},{\"attributes\":{},\"id\":\"4508\",\"type\":\"CategoricalTickFormatter\"},{\"attributes\":{\"formatter\":{\"id\":\"4506\",\"type\":\"BasicTickFormatter\"},\"minor_tick_line_color\":{\"value\":null},\"ticker\":{\"id\":\"4489\",\"type\":\"BasicTicker\"}},\"id\":\"4488\",\"type\":\"LinearAxis\"},{\"attributes\":{},\"id\":\"4489\",\"type\":\"BasicTicker\"},{\"attributes\":{\"items\":[{\"id\":\"4511\",\"type\":\"LegendItem\"},{\"id\":\"4524\",\"type\":\"LegendItem\"},{\"id\":\"4537\",\"type\":\"LegendItem\"}],\"location\":\"top_left\",\"orientation\":\"horizontal\"},\"id\":\"4510\",\"type\":\"Legend\"},{\"attributes\":{\"source\":{\"id\":\"4472\",\"type\":\"ColumnDataSource\"}},\"id\":\"4504\",\"type\":\"CDSView\"},{\"attributes\":{\"data_source\":{\"id\":\"4472\",\"type\":\"ColumnDataSource\"},\"glyph\":{\"id\":\"4526\",\"type\":\"VBar\"},\"hover_glyph\":null,\"muted_glyph\":null,\"name\":\"2017\",\"nonselection_glyph\":{\"id\":\"4527\",\"type\":\"VBar\"},\"selection_glyph\":null,\"view\":{\"id\":\"4529\",\"type\":\"CDSView\"}},\"id\":\"4528\",\"type\":\"GlyphRenderer\"},{\"attributes\":{\"dimension\":1,\"ticker\":{\"id\":\"4489\",\"type\":\"BasicTicker\"}},\"id\":\"4492\",\"type\":\"Grid\"},{\"attributes\":{},\"id\":\"4506\",\"type\":\"BasicTickFormatter\"},{\"attributes\":{\"active_drag\":\"auto\",\"active_inspect\":\"auto\",\"active_multi\":null,\"active_scroll\":\"auto\",\"active_tap\":\"auto\"},\"id\":\"4493\",\"type\":\"Toolbar\"},{\"attributes\":{\"source\":{\"id\":\"4472\",\"type\":\"ColumnDataSource\"}},\"id\":\"4529\",\"type\":\"CDSView\"},{\"attributes\":{\"data_source\":{\"id\":\"4472\",\"type\":\"ColumnDataSource\"},\"glyph\":{\"id\":\"4501\",\"type\":\"VBar\"},\"hover_glyph\":null,\"muted_glyph\":null,\"name\":\"2015\",\"nonselection_glyph\":{\"id\":\"4502\",\"type\":\"VBar\"},\"selection_glyph\":null,\"view\":{\"id\":\"4504\",\"type\":\"CDSView\"}},\"id\":\"4503\",\"type\":\"GlyphRenderer\"},{\"attributes\":{\"fields\":[]},\"id\":\"4494\",\"type\":\"Stack\"},{\"attributes\":{},\"id\":\"4522\",\"type\":\"Selection\"},{\"attributes\":{\"bottom\":{\"expr\":{\"id\":\"4494\",\"type\":\"Stack\"}},\"fill_alpha\":{\"value\":0.1},\"fill_color\":{\"value\":\"#1f77b4\"},\"line_alpha\":{\"value\":0.1},\"line_color\":{\"value\":\"#1f77b4\"},\"top\":{\"expr\":{\"id\":\"4495\",\"type\":\"Stack\"}},\"width\":{\"value\":0.9},\"x\":{\"field\":\"fruits\"}},\"id\":\"4502\",\"type\":\"VBar\"},{\"attributes\":{},\"id\":\"4523\",\"type\":\"UnionRenderers\"},{\"attributes\":{\"bottom\":{\"expr\":{\"id\":\"4494\",\"type\":\"Stack\"}},\"fill_color\":{\"value\":\"#34A212\"},\"line_color\":{\"value\":\"#34A212\"},\"top\":{\"expr\":{\"id\":\"4495\",\"type\":\"Stack\"}},\"width\":{\"value\":0.9},\"x\":{\"field\":\"fruits\"}},\"id\":\"4501\",\"type\":\"VBar\"},{\"attributes\":{\"bottom\":{\"expr\":{\"id\":\"4498\",\"type\":\"Stack\"}},\"fill_alpha\":{\"value\":0.1},\"fill_color\":{\"value\":\"#1f77b4\"},\"line_alpha\":{\"value\":0.1},\"line_color\":{\"value\":\"#1f77b4\"},\"top\":{\"expr\":{\"id\":\"4499\",\"type\":\"Stack\"}},\"width\":{\"value\":0.9},\"x\":{\"field\":\"fruits\"}},\"id\":\"4527\",\"type\":\"VBar\"},{\"attributes\":{\"label\":{\"value\":\"2016\"},\"renderers\":[{\"id\":\"4515\",\"type\":\"GlyphRenderer\"}]},\"id\":\"4524\",\"type\":\"LegendItem\"},{\"attributes\":{\"callback\":null,\"data\":{\"2015\":[2,1,4,3,2,4],\"2016\":[5,3,4,2,4,6],\"2017\":[3,2,4,4,5,3],\"fruits\":[\"Apples\",\"Pears\",\"Nectarines\",\"Plums\",\"Grapes\",\"Strawberries\"]},\"selected\":{\"id\":\"4522\",\"type\":\"Selection\"},\"selection_policy\":{\"id\":\"4523\",\"type\":\"UnionRenderers\"}},\"id\":\"4472\",\"type\":\"ColumnDataSource\"},{\"attributes\":{\"fields\":[\"2015\"]},\"id\":\"4495\",\"type\":\"Stack\"},{\"attributes\":{\"label\":{\"value\":\"2017\"},\"renderers\":[{\"id\":\"4528\",\"type\":\"GlyphRenderer\"}]},\"id\":\"4537\",\"type\":\"LegendItem\"},{\"attributes\":{\"fields\":[\"2015\",\"2016\"]},\"id\":\"4498\",\"type\":\"Stack\"},{\"attributes\":{\"fields\":[\"2015\",\"2016\",\"2017\"]},\"id\":\"4499\",\"type\":\"Stack\"}],\"root_ids\":[\"4473\"]},\"title\":\"Bokeh Application\",\"version\":\"1.2.0\"}};\n",
       "  var render_items = [{\"docid\":\"fcc9b797-8176-460e-a8a4-1bf85d924a63\",\"roots\":{\"4473\":\"81ae4621-d3d0-4ed9-a576-901872968153\"}}];\n",
       "  root.Bokeh.embed.embed_items_notebook(docs_json, render_items);\n",
       "\n",
       "  }\n",
       "  if (root.Bokeh !== undefined) {\n",
       "    embed_document(root);\n",
       "  } else {\n",
       "    var attempts = 0;\n",
       "    var timer = setInterval(function(root) {\n",
       "      if (root.Bokeh !== undefined) {\n",
       "        embed_document(root);\n",
       "        clearInterval(timer);\n",
       "      }\n",
       "      attempts++;\n",
       "      if (attempts > 100) {\n",
       "        console.log(\"Bokeh: ERROR: Unable to run BokehJS code because BokehJS library is missing\");\n",
       "        clearInterval(timer);\n",
       "      }\n",
       "    }, 10, root)\n",
       "  }\n",
       "})(window);"
      ],
      "application/vnd.bokehjs_exec.v0+json": ""
     },
     "metadata": {
      "application/vnd.bokehjs_exec.v0+json": {
       "id": "4473"
      }
     },
     "output_type": "display_data"
    }
   ],
   "source": [
    "fruits = ['Apples', 'Pears', 'Nectarines', 'Plums', 'Grapes', 'Strawberries']\n",
    "years = [\"2015\", \"2016\", \"2017\"]\n",
    "colors = [\"#34A212\", \"#D3F543\", \"#98F5FF\"]\n",
    "\n",
    "data = {'fruits' : fruits,\n",
    "        '2015'   : [2, 1, 4, 3, 2, 4],\n",
    "        '2016'   : [5, 3, 4, 2, 4, 6],\n",
    "        '2017'   : [3, 2, 4, 4, 5, 3]}\n",
    "\n",
    "source = ColumnDataSource(data=data)\n",
    "\n",
    "p = figure(x_range=fruits, plot_height=250, title=\"Fruit Counts by Year\",\n",
    "           toolbar_location=None, tools=\"\")\n",
    "\n",
    "p.vbar_stack(years, x='fruits', width=0.9, color=colors, source=source,\n",
    "             legend=[value(x) for x in years])\n",
    "\n",
    "p.y_range.start = 0\n",
    "p.x_range.range_padding = 0.1\n",
    "p.xgrid.grid_line_color = None\n",
    "p.axis.minor_tick_line_color = None\n",
    "p.outline_line_color = None\n",
    "p.legend.location = \"top_left\"\n",
    "p.legend.orientation = \"horizontal\"\n",
    "\n",
    "show(p)"
   ]
  },
  {
   "cell_type": "markdown",
   "metadata": {},
   "source": [
    "Sometimes we may want to stack bars that have both positive and negative extents. The example below shows how it is possible to create such a stacked bar chart that is split by positive and negative values:"
   ]
  },
  {
   "cell_type": "code",
   "execution_count": 27,
   "metadata": {},
   "outputs": [
    {
     "data": {
      "text/html": [
       "\n",
       "\n",
       "\n",
       "\n",
       "\n",
       "\n",
       "  <div class=\"bk-root\" id=\"417b2ece-95d8-47ec-8979-01e8d4be55ad\" data-root-id=\"4751\"></div>\n"
      ]
     },
     "metadata": {},
     "output_type": "display_data"
    },
    {
     "data": {
      "application/javascript": [
       "(function(root) {\n",
       "  function embed_document(root) {\n",
       "    \n",
       "  var docs_json = {\"53e1b77a-fccd-4d12-866f-c3e9d7145ae0\":{\"roots\":{\"references\":[{\"attributes\":{\"below\":[{\"id\":\"4762\",\"type\":\"LinearAxis\"}],\"center\":[{\"id\":\"4766\",\"type\":\"Grid\"},{\"id\":\"4770\",\"type\":\"Grid\"},{\"id\":\"4802\",\"type\":\"Legend\"}],\"left\":[{\"id\":\"4767\",\"type\":\"CategoricalAxis\"}],\"outline_line_color\":{\"value\":null},\"plot_height\":250,\"renderers\":[{\"id\":\"4794\",\"type\":\"GlyphRenderer\"},{\"id\":\"4807\",\"type\":\"GlyphRenderer\"},{\"id\":\"4821\",\"type\":\"GlyphRenderer\"},{\"id\":\"4842\",\"type\":\"GlyphRenderer\"},{\"id\":\"4856\",\"type\":\"GlyphRenderer\"},{\"id\":\"4872\",\"type\":\"GlyphRenderer\"}],\"title\":{\"id\":\"4752\",\"type\":\"Title\"},\"toolbar\":{\"id\":\"4777\",\"type\":\"Toolbar\"},\"toolbar_location\":null,\"x_range\":{\"id\":\"4754\",\"type\":\"Range1d\"},\"x_scale\":{\"id\":\"4758\",\"type\":\"LinearScale\"},\"y_range\":{\"id\":\"4756\",\"type\":\"FactorRange\"},\"y_scale\":{\"id\":\"4760\",\"type\":\"CategoricalScale\"}},\"id\":\"4751\",\"subtype\":\"Figure\",\"type\":\"Plot\"},{\"attributes\":{\"fields\":[]},\"id\":\"4785\",\"type\":\"Stack\"},{\"attributes\":{\"fill_color\":{\"value\":\"#fdbb84\"},\"height\":{\"value\":0.9},\"left\":{\"expr\":{\"id\":\"4835\",\"type\":\"Stack\"}},\"line_color\":{\"value\":\"#fdbb84\"},\"right\":{\"expr\":{\"id\":\"4836\",\"type\":\"Stack\"}},\"y\":{\"field\":\"fruits\"}},\"id\":\"4854\",\"type\":\"HBar\"},{\"attributes\":{\"fields\":[\"2015\",\"2016\"]},\"id\":\"4789\",\"type\":\"Stack\"},{\"attributes\":{\"fields\":[\"2015\"]},\"id\":\"4786\",\"type\":\"Stack\"},{\"attributes\":{},\"id\":\"4815\",\"type\":\"UnionRenderers\"},{\"attributes\":{\"text\":\"Fruit import/export, by year\"},\"id\":\"4752\",\"type\":\"Title\"},{\"attributes\":{},\"id\":\"4768\",\"type\":\"CategoricalTicker\"},{\"attributes\":{\"fill_alpha\":{\"value\":0.1},\"fill_color\":{\"value\":\"#1f77b4\"},\"height\":{\"value\":0.9},\"left\":{\"expr\":{\"id\":\"4835\",\"type\":\"Stack\"}},\"line_alpha\":{\"value\":0.1},\"line_color\":{\"value\":\"#1f77b4\"},\"right\":{\"expr\":{\"id\":\"4836\",\"type\":\"Stack\"}},\"y\":{\"field\":\"fruits\"}},\"id\":\"4855\",\"type\":\"HBar\"},{\"attributes\":{\"fields\":[\"2015\",\"2016\",\"2017\"]},\"id\":\"4790\",\"type\":\"Stack\"},{\"attributes\":{\"label\":{\"value\":\"2016 exports\"},\"renderers\":[{\"id\":\"4807\",\"type\":\"GlyphRenderer\"}]},\"id\":\"4817\",\"type\":\"LegendItem\"},{\"attributes\":{\"callback\":null,\"end\":16,\"start\":-16},\"id\":\"4754\",\"type\":\"Range1d\"},{\"attributes\":{\"data_source\":{\"id\":\"4832\",\"type\":\"ColumnDataSource\"},\"glyph\":{\"id\":\"4854\",\"type\":\"HBar\"},\"hover_glyph\":null,\"muted_glyph\":null,\"name\":\"2016\",\"nonselection_glyph\":{\"id\":\"4855\",\"type\":\"HBar\"},\"selection_glyph\":null,\"view\":{\"id\":\"4857\",\"type\":\"CDSView\"}},\"id\":\"4856\",\"type\":\"GlyphRenderer\"},{\"attributes\":{\"fill_alpha\":{\"value\":0.1},\"fill_color\":{\"value\":\"#1f77b4\"},\"height\":{\"value\":0.9},\"left\":{\"expr\":{\"id\":\"4833\",\"type\":\"Stack\"}},\"line_alpha\":{\"value\":0.1},\"line_color\":{\"value\":\"#1f77b4\"},\"right\":{\"expr\":{\"id\":\"4834\",\"type\":\"Stack\"}},\"y\":{\"field\":\"fruits\"}},\"id\":\"4841\",\"type\":\"HBar\"},{\"attributes\":{\"callback\":null,\"factors\":[\"Apples\",\"Pears\",\"Nectarines\",\"Plums\",\"Grapes\",\"Strawberries\"],\"range_padding\":0.1},\"id\":\"4756\",\"type\":\"FactorRange\"},{\"attributes\":{\"source\":{\"id\":\"4832\",\"type\":\"ColumnDataSource\"}},\"id\":\"4843\",\"type\":\"CDSView\"},{\"attributes\":{\"fill_color\":{\"value\":\"#43a2ca\"},\"height\":{\"value\":0.9},\"left\":{\"expr\":{\"id\":\"4785\",\"type\":\"Stack\"}},\"line_color\":{\"value\":\"#43a2ca\"},\"right\":{\"expr\":{\"id\":\"4786\",\"type\":\"Stack\"}},\"y\":{\"field\":\"fruits\"}},\"id\":\"4792\",\"type\":\"HBar\"},{\"attributes\":{\"source\":{\"id\":\"4832\",\"type\":\"ColumnDataSource\"}},\"id\":\"4857\",\"type\":\"CDSView\"},{\"attributes\":{\"fill_color\":{\"value\":\"#e0f3db\"},\"height\":{\"value\":0.9},\"left\":{\"expr\":{\"id\":\"4789\",\"type\":\"Stack\"}},\"line_color\":{\"value\":\"#e0f3db\"},\"right\":{\"expr\":{\"id\":\"4790\",\"type\":\"Stack\"}},\"y\":{\"field\":\"fruits\"}},\"id\":\"4819\",\"type\":\"HBar\"},{\"attributes\":{},\"id\":\"4758\",\"type\":\"LinearScale\"},{\"attributes\":{\"fill_alpha\":{\"value\":0.1},\"fill_color\":{\"value\":\"#1f77b4\"},\"height\":{\"value\":0.9},\"left\":{\"expr\":{\"id\":\"4785\",\"type\":\"Stack\"}},\"line_alpha\":{\"value\":0.1},\"line_color\":{\"value\":\"#1f77b4\"},\"right\":{\"expr\":{\"id\":\"4786\",\"type\":\"Stack\"}},\"y\":{\"field\":\"fruits\"}},\"id\":\"4793\",\"type\":\"HBar\"},{\"attributes\":{},\"id\":\"4865\",\"type\":\"Selection\"},{\"attributes\":{\"data_source\":{\"id\":\"4784\",\"type\":\"ColumnDataSource\"},\"glyph\":{\"id\":\"4819\",\"type\":\"HBar\"},\"hover_glyph\":null,\"muted_glyph\":null,\"name\":\"2017\",\"nonselection_glyph\":{\"id\":\"4820\",\"type\":\"HBar\"},\"selection_glyph\":null,\"view\":{\"id\":\"4822\",\"type\":\"CDSView\"}},\"id\":\"4821\",\"type\":\"GlyphRenderer\"},{\"attributes\":{},\"id\":\"4760\",\"type\":\"CategoricalScale\"},{\"attributes\":{\"data_source\":{\"id\":\"4784\",\"type\":\"ColumnDataSource\"},\"glyph\":{\"id\":\"4792\",\"type\":\"HBar\"},\"hover_glyph\":null,\"muted_glyph\":null,\"name\":\"2015\",\"nonselection_glyph\":{\"id\":\"4793\",\"type\":\"HBar\"},\"selection_glyph\":null,\"view\":{\"id\":\"4795\",\"type\":\"CDSView\"}},\"id\":\"4794\",\"type\":\"GlyphRenderer\"},{\"attributes\":{},\"id\":\"4866\",\"type\":\"UnionRenderers\"},{\"attributes\":{\"source\":{\"id\":\"4784\",\"type\":\"ColumnDataSource\"}},\"id\":\"4822\",\"type\":\"CDSView\"},{\"attributes\":{\"formatter\":{\"id\":\"4799\",\"type\":\"BasicTickFormatter\"},\"minor_tick_line_color\":{\"value\":null},\"ticker\":{\"id\":\"4763\",\"type\":\"BasicTicker\"}},\"id\":\"4762\",\"type\":\"LinearAxis\"},{\"attributes\":{\"source\":{\"id\":\"4784\",\"type\":\"ColumnDataSource\"}},\"id\":\"4795\",\"type\":\"CDSView\"},{\"attributes\":{\"label\":{\"value\":\"2016 imports\"},\"renderers\":[{\"id\":\"4856\",\"type\":\"GlyphRenderer\"}]},\"id\":\"4868\",\"type\":\"LegendItem\"},{\"attributes\":{},\"id\":\"4763\",\"type\":\"BasicTicker\"},{\"attributes\":{\"fields\":[]},\"id\":\"4833\",\"type\":\"Stack\"},{\"attributes\":{},\"id\":\"4814\",\"type\":\"Selection\"},{\"attributes\":{\"fill_alpha\":{\"value\":0.1},\"fill_color\":{\"value\":\"#1f77b4\"},\"height\":{\"value\":0.9},\"left\":{\"expr\":{\"id\":\"4789\",\"type\":\"Stack\"}},\"line_alpha\":{\"value\":0.1},\"line_color\":{\"value\":\"#1f77b4\"},\"right\":{\"expr\":{\"id\":\"4790\",\"type\":\"Stack\"}},\"y\":{\"field\":\"fruits\"}},\"id\":\"4820\",\"type\":\"HBar\"},{\"attributes\":{\"ticker\":{\"id\":\"4763\",\"type\":\"BasicTicker\"}},\"id\":\"4766\",\"type\":\"Grid\"},{\"attributes\":{\"fill_color\":{\"value\":\"#fee8c8\"},\"height\":{\"value\":0.9},\"left\":{\"expr\":{\"id\":\"4837\",\"type\":\"Stack\"}},\"line_color\":{\"value\":\"#fee8c8\"},\"right\":{\"expr\":{\"id\":\"4838\",\"type\":\"Stack\"}},\"y\":{\"field\":\"fruits\"}},\"id\":\"4870\",\"type\":\"HBar\"},{\"attributes\":{},\"id\":\"4799\",\"type\":\"BasicTickFormatter\"},{\"attributes\":{\"dimension\":1,\"grid_line_color\":null,\"ticker\":{\"id\":\"4768\",\"type\":\"CategoricalTicker\"}},\"id\":\"4770\",\"type\":\"Grid\"},{\"attributes\":{},\"id\":\"4771\",\"type\":\"PanTool\"},{\"attributes\":{\"fill_alpha\":{\"value\":0.1},\"fill_color\":{\"value\":\"#1f77b4\"},\"height\":{\"value\":0.9},\"left\":{\"expr\":{\"id\":\"4837\",\"type\":\"Stack\"}},\"line_alpha\":{\"value\":0.1},\"line_color\":{\"value\":\"#1f77b4\"},\"right\":{\"expr\":{\"id\":\"4838\",\"type\":\"Stack\"}},\"y\":{\"field\":\"fruits\"}},\"id\":\"4871\",\"type\":\"HBar\"},{\"attributes\":{\"bottom_units\":\"screen\",\"fill_alpha\":{\"value\":0.5},\"fill_color\":{\"value\":\"lightgrey\"},\"left_units\":\"screen\",\"level\":\"overlay\",\"line_alpha\":{\"value\":1.0},\"line_color\":{\"value\":\"black\"},\"line_dash\":[4,4],\"line_width\":{\"value\":2},\"render_mode\":\"css\",\"right_units\":\"screen\",\"top_units\":\"screen\"},\"id\":\"4801\",\"type\":\"BoxAnnotation\"},{\"attributes\":{\"formatter\":{\"id\":\"4797\",\"type\":\"CategoricalTickFormatter\"},\"minor_tick_line_color\":{\"value\":null},\"ticker\":{\"id\":\"4768\",\"type\":\"CategoricalTicker\"}},\"id\":\"4767\",\"type\":\"CategoricalAxis\"},{\"attributes\":{\"fields\":[\"2015\"]},\"id\":\"4834\",\"type\":\"Stack\"},{\"attributes\":{},\"id\":\"4772\",\"type\":\"WheelZoomTool\"},{\"attributes\":{\"data_source\":{\"id\":\"4832\",\"type\":\"ColumnDataSource\"},\"glyph\":{\"id\":\"4870\",\"type\":\"HBar\"},\"hover_glyph\":null,\"muted_glyph\":null,\"name\":\"2017\",\"nonselection_glyph\":{\"id\":\"4871\",\"type\":\"HBar\"},\"selection_glyph\":null,\"view\":{\"id\":\"4873\",\"type\":\"CDSView\"}},\"id\":\"4872\",\"type\":\"GlyphRenderer\"},{\"attributes\":{\"items\":[{\"id\":\"4803\",\"type\":\"LegendItem\"},{\"id\":\"4817\",\"type\":\"LegendItem\"},{\"id\":\"4831\",\"type\":\"LegendItem\"},{\"id\":\"4852\",\"type\":\"LegendItem\"},{\"id\":\"4868\",\"type\":\"LegendItem\"},{\"id\":\"4884\",\"type\":\"LegendItem\"}],\"location\":\"top_left\"},\"id\":\"4802\",\"type\":\"Legend\"},{\"attributes\":{\"fields\":[\"2015\"]},\"id\":\"4835\",\"type\":\"Stack\"},{\"attributes\":{\"overlay\":{\"id\":\"4801\",\"type\":\"BoxAnnotation\"}},\"id\":\"4773\",\"type\":\"BoxZoomTool\"},{\"attributes\":{\"source\":{\"id\":\"4832\",\"type\":\"ColumnDataSource\"}},\"id\":\"4873\",\"type\":\"CDSView\"},{\"attributes\":{\"label\":{\"value\":\"2015 exports\"},\"renderers\":[{\"id\":\"4794\",\"type\":\"GlyphRenderer\"}]},\"id\":\"4803\",\"type\":\"LegendItem\"},{\"attributes\":{\"label\":{\"value\":\"2015 imports\"},\"renderers\":[{\"id\":\"4842\",\"type\":\"GlyphRenderer\"}]},\"id\":\"4852\",\"type\":\"LegendItem\"},{\"attributes\":{\"fields\":[\"2015\",\"2016\"]},\"id\":\"4836\",\"type\":\"Stack\"},{\"attributes\":{},\"id\":\"4774\",\"type\":\"SaveTool\"},{\"attributes\":{},\"id\":\"4797\",\"type\":\"CategoricalTickFormatter\"},{\"attributes\":{\"fill_color\":{\"value\":\"#e34a33\"},\"height\":{\"value\":0.9},\"left\":{\"expr\":{\"id\":\"4833\",\"type\":\"Stack\"}},\"line_color\":{\"value\":\"#e34a33\"},\"right\":{\"expr\":{\"id\":\"4834\",\"type\":\"Stack\"}},\"y\":{\"field\":\"fruits\"}},\"id\":\"4840\",\"type\":\"HBar\"},{\"attributes\":{\"label\":{\"value\":\"2017 imports\"},\"renderers\":[{\"id\":\"4872\",\"type\":\"GlyphRenderer\"}]},\"id\":\"4884\",\"type\":\"LegendItem\"},{\"attributes\":{\"fields\":[\"2015\",\"2016\"]},\"id\":\"4837\",\"type\":\"Stack\"},{\"attributes\":{},\"id\":\"4775\",\"type\":\"ResetTool\"},{\"attributes\":{\"fill_color\":{\"value\":\"#a8ddb5\"},\"height\":{\"value\":0.9},\"left\":{\"expr\":{\"id\":\"4787\",\"type\":\"Stack\"}},\"line_color\":{\"value\":\"#a8ddb5\"},\"right\":{\"expr\":{\"id\":\"4788\",\"type\":\"Stack\"}},\"y\":{\"field\":\"fruits\"}},\"id\":\"4805\",\"type\":\"HBar\"},{\"attributes\":{\"fields\":[\"2015\",\"2016\",\"2017\"]},\"id\":\"4838\",\"type\":\"Stack\"},{\"attributes\":{},\"id\":\"4776\",\"type\":\"HelpTool\"},{\"attributes\":{\"fill_alpha\":{\"value\":0.1},\"fill_color\":{\"value\":\"#1f77b4\"},\"height\":{\"value\":0.9},\"left\":{\"expr\":{\"id\":\"4787\",\"type\":\"Stack\"}},\"line_alpha\":{\"value\":0.1},\"line_color\":{\"value\":\"#1f77b4\"},\"right\":{\"expr\":{\"id\":\"4788\",\"type\":\"Stack\"}},\"y\":{\"field\":\"fruits\"}},\"id\":\"4806\",\"type\":\"HBar\"},{\"attributes\":{\"callback\":null,\"data\":{\"2015\":[-1,0,-1,-3,-2,-1],\"2016\":[-2,-1,-3,-1,-2,-2],\"2017\":[-1,-2,-1,0,-2,-2],\"fruits\":[\"Apples\",\"Pears\",\"Nectarines\",\"Plums\",\"Grapes\",\"Strawberries\"]},\"selected\":{\"id\":\"4865\",\"type\":\"Selection\"},\"selection_policy\":{\"id\":\"4866\",\"type\":\"UnionRenderers\"}},\"id\":\"4832\",\"type\":\"ColumnDataSource\"},{\"attributes\":{\"active_drag\":\"auto\",\"active_inspect\":\"auto\",\"active_multi\":null,\"active_scroll\":\"auto\",\"active_tap\":\"auto\",\"tools\":[{\"id\":\"4771\",\"type\":\"PanTool\"},{\"id\":\"4772\",\"type\":\"WheelZoomTool\"},{\"id\":\"4773\",\"type\":\"BoxZoomTool\"},{\"id\":\"4774\",\"type\":\"SaveTool\"},{\"id\":\"4775\",\"type\":\"ResetTool\"},{\"id\":\"4776\",\"type\":\"HelpTool\"}]},\"id\":\"4777\",\"type\":\"Toolbar\"},{\"attributes\":{\"data_source\":{\"id\":\"4784\",\"type\":\"ColumnDataSource\"},\"glyph\":{\"id\":\"4805\",\"type\":\"HBar\"},\"hover_glyph\":null,\"muted_glyph\":null,\"name\":\"2016\",\"nonselection_glyph\":{\"id\":\"4806\",\"type\":\"HBar\"},\"selection_glyph\":null,\"view\":{\"id\":\"4808\",\"type\":\"CDSView\"}},\"id\":\"4807\",\"type\":\"GlyphRenderer\"},{\"attributes\":{\"data_source\":{\"id\":\"4832\",\"type\":\"ColumnDataSource\"},\"glyph\":{\"id\":\"4840\",\"type\":\"HBar\"},\"hover_glyph\":null,\"muted_glyph\":null,\"name\":\"2015\",\"nonselection_glyph\":{\"id\":\"4841\",\"type\":\"HBar\"},\"selection_glyph\":null,\"view\":{\"id\":\"4843\",\"type\":\"CDSView\"}},\"id\":\"4842\",\"type\":\"GlyphRenderer\"},{\"attributes\":{\"callback\":null,\"data\":{\"2015\":[2,1,4,3,2,4],\"2016\":[5,3,4,2,4,6],\"2017\":[3,2,4,4,5,3],\"fruits\":[\"Apples\",\"Pears\",\"Nectarines\",\"Plums\",\"Grapes\",\"Strawberries\"]},\"selected\":{\"id\":\"4814\",\"type\":\"Selection\"},\"selection_policy\":{\"id\":\"4815\",\"type\":\"UnionRenderers\"}},\"id\":\"4784\",\"type\":\"ColumnDataSource\"},{\"attributes\":{\"source\":{\"id\":\"4784\",\"type\":\"ColumnDataSource\"}},\"id\":\"4808\",\"type\":\"CDSView\"},{\"attributes\":{\"label\":{\"value\":\"2017 exports\"},\"renderers\":[{\"id\":\"4821\",\"type\":\"GlyphRenderer\"}]},\"id\":\"4831\",\"type\":\"LegendItem\"},{\"attributes\":{\"fields\":[\"2015\"]},\"id\":\"4787\",\"type\":\"Stack\"},{\"attributes\":{\"fields\":[\"2015\",\"2016\"]},\"id\":\"4788\",\"type\":\"Stack\"}],\"root_ids\":[\"4751\"]},\"title\":\"Bokeh Application\",\"version\":\"1.2.0\"}};\n",
       "  var render_items = [{\"docid\":\"53e1b77a-fccd-4d12-866f-c3e9d7145ae0\",\"roots\":{\"4751\":\"417b2ece-95d8-47ec-8979-01e8d4be55ad\"}}];\n",
       "  root.Bokeh.embed.embed_items_notebook(docs_json, render_items);\n",
       "\n",
       "  }\n",
       "  if (root.Bokeh !== undefined) {\n",
       "    embed_document(root);\n",
       "  } else {\n",
       "    var attempts = 0;\n",
       "    var timer = setInterval(function(root) {\n",
       "      if (root.Bokeh !== undefined) {\n",
       "        embed_document(root);\n",
       "        clearInterval(timer);\n",
       "      }\n",
       "      attempts++;\n",
       "      if (attempts > 100) {\n",
       "        console.log(\"Bokeh: ERROR: Unable to run BokehJS code because BokehJS library is missing\");\n",
       "        clearInterval(timer);\n",
       "      }\n",
       "    }, 10, root)\n",
       "  }\n",
       "})(window);"
      ],
      "application/vnd.bokehjs_exec.v0+json": ""
     },
     "metadata": {
      "application/vnd.bokehjs_exec.v0+json": {
       "id": "4751"
      }
     },
     "output_type": "display_data"
    }
   ],
   "source": [
    "from bokeh.palettes import GnBu3, OrRd3\n",
    "\n",
    "fruits = ['Apples', 'Pears', 'Nectarines', 'Plums', 'Grapes', 'Strawberries']\n",
    "years = [\"2015\", \"2016\", \"2017\"]\n",
    "\n",
    "exports = {'fruits' : fruits,\n",
    "           '2015'   : [2, 1, 4, 3, 2, 4],\n",
    "           '2016'   : [5, 3, 4, 2, 4, 6],\n",
    "           '2017'   : [3, 2, 4, 4, 5, 3]}\n",
    "imports = {'fruits' : fruits,\n",
    "           '2015'   : [-1, 0, -1, -3, -2, -1],\n",
    "           '2016'   : [-2, -1, -3, -1, -2, -2],\n",
    "           '2017'   : [-1, -2, -1, 0, -2, -2]}\n",
    "\n",
    "p = figure(y_range=fruits, plot_height=250, x_range=(-16, 16), title=\"Fruit import/export, by year\",\n",
    "           toolbar_location=None)\n",
    "\n",
    "p.hbar_stack(years, y='fruits', height=0.9, color=GnBu3, source=ColumnDataSource(exports),\n",
    "             legend=[\"%s exports\" % x for x in years])\n",
    "\n",
    "p.hbar_stack(years, y='fruits', height=0.9, color=OrRd3, source=ColumnDataSource(imports),\n",
    "             legend=[\"%s imports\" % x for x in years])\n",
    "\n",
    "p.y_range.range_padding = 0.1\n",
    "p.ygrid.grid_line_color = None\n",
    "p.legend.location = \"top_left\"\n",
    "p.axis.minor_tick_line_color = None\n",
    "p.outline_line_color = None\n",
    "\n",
    "show(p)"
   ]
  },
  {
   "cell_type": "markdown",
   "metadata": {},
   "source": [
    "## Mixing Categorical Levels\n",
    "\n",
    "If you have created a range with nested categories as above, it is possible to plot glyphs using only the \"outer\" categories, if desired. The plot below shows monthly values grouped by quarter as bars. The data for these are in the famliar format:\n",
    "\n",
    "    factors = [(\"Q1\", \"jan\"), (\"Q1\", \"feb\"), (\"Q1\", \"mar\"), ....]\n",
    "\n",
    "The plot also overlays a line representing average quarterly values, and this is accomplished by using only the \"quarter\" part of each nexted category:\n",
    "\n",
    "    p.line(x=[\"Q1\", \"Q2\", \"Q3\", \"Q4\"], y=....)"
   ]
  },
  {
   "cell_type": "code",
   "execution_count": 28,
   "metadata": {},
   "outputs": [
    {
     "data": {
      "text/html": [
       "\n",
       "\n",
       "\n",
       "\n",
       "\n",
       "\n",
       "  <div class=\"bk-root\" id=\"08895e87-58b7-4e8f-82c4-0a68348dbcd5\" data-root-id=\"5127\"></div>\n"
      ]
     },
     "metadata": {},
     "output_type": "display_data"
    },
    {
     "data": {
      "application/javascript": [
       "(function(root) {\n",
       "  function embed_document(root) {\n",
       "    \n",
       "  var docs_json = {\"8b43b842-8e98-40e2-9c34-a77415cbca23\":{\"roots\":{\"references\":[{\"attributes\":{\"below\":[{\"id\":\"5135\",\"type\":\"CategoricalAxis\"}],\"center\":[{\"id\":\"5138\",\"type\":\"Grid\"},{\"id\":\"5143\",\"type\":\"Grid\"}],\"left\":[{\"id\":\"5139\",\"type\":\"LinearAxis\"}],\"plot_height\":250,\"renderers\":[{\"id\":\"5160\",\"type\":\"GlyphRenderer\"},{\"id\":\"5165\",\"type\":\"GlyphRenderer\"},{\"id\":\"5170\",\"type\":\"GlyphRenderer\"}],\"title\":{\"id\":\"5353\",\"type\":\"Title\"},\"toolbar\":{\"id\":\"5150\",\"type\":\"Toolbar\"},\"x_range\":{\"id\":\"5126\",\"type\":\"FactorRange\"},\"x_scale\":{\"id\":\"5131\",\"type\":\"CategoricalScale\"},\"y_range\":{\"id\":\"5129\",\"type\":\"DataRange1d\"},\"y_scale\":{\"id\":\"5133\",\"type\":\"LinearScale\"}},\"id\":\"5127\",\"subtype\":\"Figure\",\"type\":\"Plot\"},{\"attributes\":{},\"id\":\"5145\",\"type\":\"WheelZoomTool\"},{\"attributes\":{},\"id\":\"5148\",\"type\":\"ResetTool\"},{\"attributes\":{},\"id\":\"5131\",\"type\":\"CategoricalScale\"},{\"attributes\":{},\"id\":\"5363\",\"type\":\"Selection\"},{\"attributes\":{},\"id\":\"5149\",\"type\":\"HelpTool\"},{\"attributes\":{},\"id\":\"5364\",\"type\":\"UnionRenderers\"},{\"attributes\":{\"callback\":null,\"data\":{\"top\":[10,12,16,9,10,8,12,13,14,14,12,16],\"x\":[[\"Q1\",\"jan\"],[\"Q1\",\"feb\"],[\"Q1\",\"mar\"],[\"Q2\",\"apr\"],[\"Q2\",\"may\"],[\"Q2\",\"jun\"],[\"Q3\",\"jul\"],[\"Q3\",\"aug\"],[\"Q3\",\"sep\"],[\"Q4\",\"oct\"],[\"Q4\",\"nov\"],[\"Q4\",\"dec\"]]},\"selected\":{\"id\":\"5359\",\"type\":\"Selection\"},\"selection_policy\":{\"id\":\"5360\",\"type\":\"UnionRenderers\"}},\"id\":\"5157\",\"type\":\"ColumnDataSource\"},{\"attributes\":{\"active_drag\":\"auto\",\"active_inspect\":\"auto\",\"active_multi\":null,\"active_scroll\":\"auto\",\"active_tap\":\"auto\",\"tools\":[{\"id\":\"5144\",\"type\":\"PanTool\"},{\"id\":\"5145\",\"type\":\"WheelZoomTool\"},{\"id\":\"5146\",\"type\":\"BoxZoomTool\"},{\"id\":\"5147\",\"type\":\"SaveTool\"},{\"id\":\"5148\",\"type\":\"ResetTool\"},{\"id\":\"5149\",\"type\":\"HelpTool\"}]},\"id\":\"5150\",\"type\":\"Toolbar\"},{\"attributes\":{\"bottom_units\":\"screen\",\"fill_alpha\":{\"value\":0.5},\"fill_color\":{\"value\":\"lightgrey\"},\"left_units\":\"screen\",\"level\":\"overlay\",\"line_alpha\":{\"value\":1.0},\"line_color\":{\"value\":\"black\"},\"line_dash\":[4,4],\"line_width\":{\"value\":2},\"render_mode\":\"css\",\"right_units\":\"screen\",\"top_units\":\"screen\"},\"id\":\"5365\",\"type\":\"BoxAnnotation\"},{\"attributes\":{\"data_source\":{\"id\":\"5157\",\"type\":\"ColumnDataSource\"},\"glyph\":{\"id\":\"5158\",\"type\":\"VBar\"},\"hover_glyph\":null,\"muted_glyph\":null,\"nonselection_glyph\":{\"id\":\"5159\",\"type\":\"VBar\"},\"selection_glyph\":null,\"view\":{\"id\":\"5161\",\"type\":\"CDSView\"}},\"id\":\"5160\",\"type\":\"GlyphRenderer\"},{\"attributes\":{\"source\":{\"id\":\"5157\",\"type\":\"ColumnDataSource\"}},\"id\":\"5161\",\"type\":\"CDSView\"},{\"attributes\":{\"formatter\":{\"id\":\"5357\",\"type\":\"CategoricalTickFormatter\"},\"ticker\":{\"id\":\"5136\",\"type\":\"CategoricalTicker\"}},\"id\":\"5135\",\"type\":\"CategoricalAxis\"},{\"attributes\":{\"text\":\"\"},\"id\":\"5353\",\"type\":\"Title\"},{\"attributes\":{\"grid_line_color\":null,\"ticker\":{\"id\":\"5136\",\"type\":\"CategoricalTicker\"}},\"id\":\"5138\",\"type\":\"Grid\"},{\"attributes\":{},\"id\":\"5136\",\"type\":\"CategoricalTicker\"},{\"attributes\":{},\"id\":\"5360\",\"type\":\"UnionRenderers\"},{\"attributes\":{\"line_color\":\"red\",\"line_width\":3,\"x\":{\"field\":\"x\"},\"y\":{\"field\":\"y\"}},\"id\":\"5163\",\"type\":\"Line\"},{\"attributes\":{},\"id\":\"5140\",\"type\":\"BasicTicker\"},{\"attributes\":{},\"id\":\"5147\",\"type\":\"SaveTool\"},{\"attributes\":{\"line_alpha\":0.1,\"line_color\":\"#1f77b4\",\"line_width\":3,\"x\":{\"field\":\"x\"},\"y\":{\"field\":\"y\"}},\"id\":\"5164\",\"type\":\"Line\"},{\"attributes\":{\"callback\":null,\"data\":{\"x\":[\"Q1\",\"Q2\",\"Q3\",\"Q4\"],\"y\":[12,9,13,14]},\"selected\":{\"id\":\"5361\",\"type\":\"Selection\"},\"selection_policy\":{\"id\":\"5362\",\"type\":\"UnionRenderers\"}},\"id\":\"5162\",\"type\":\"ColumnDataSource\"},{\"attributes\":{\"data_source\":{\"id\":\"5162\",\"type\":\"ColumnDataSource\"},\"glyph\":{\"id\":\"5163\",\"type\":\"Line\"},\"hover_glyph\":null,\"muted_glyph\":null,\"nonselection_glyph\":{\"id\":\"5164\",\"type\":\"Line\"},\"selection_glyph\":null,\"view\":{\"id\":\"5166\",\"type\":\"CDSView\"}},\"id\":\"5165\",\"type\":\"GlyphRenderer\"},{\"attributes\":{\"callback\":null,\"start\":0},\"id\":\"5129\",\"type\":\"DataRange1d\"},{\"attributes\":{},\"id\":\"5357\",\"type\":\"CategoricalTickFormatter\"},{\"attributes\":{\"source\":{\"id\":\"5162\",\"type\":\"ColumnDataSource\"}},\"id\":\"5166\",\"type\":\"CDSView\"},{\"attributes\":{\"formatter\":{\"id\":\"5355\",\"type\":\"BasicTickFormatter\"},\"ticker\":{\"id\":\"5140\",\"type\":\"BasicTicker\"}},\"id\":\"5139\",\"type\":\"LinearAxis\"},{\"attributes\":{\"callback\":null,\"factors\":[[\"Q1\",\"jan\"],[\"Q1\",\"feb\"],[\"Q1\",\"mar\"],[\"Q2\",\"apr\"],[\"Q2\",\"may\"],[\"Q2\",\"jun\"],[\"Q3\",\"jul\"],[\"Q3\",\"aug\"],[\"Q3\",\"sep\"],[\"Q4\",\"oct\"],[\"Q4\",\"nov\"],[\"Q4\",\"dec\"]],\"range_padding\":0.1},\"id\":\"5126\",\"type\":\"FactorRange\"},{\"attributes\":{\"fill_color\":{\"value\":\"white\"},\"line_color\":{\"value\":\"red\"},\"size\":{\"units\":\"screen\",\"value\":10},\"x\":{\"field\":\"x\"},\"y\":{\"field\":\"y\"}},\"id\":\"5168\",\"type\":\"Circle\"},{\"attributes\":{},\"id\":\"5359\",\"type\":\"Selection\"},{\"attributes\":{},\"id\":\"5133\",\"type\":\"LinearScale\"},{\"attributes\":{\"dimension\":1,\"ticker\":{\"id\":\"5140\",\"type\":\"BasicTicker\"}},\"id\":\"5143\",\"type\":\"Grid\"},{\"attributes\":{\"fill_alpha\":{\"value\":0.1},\"fill_color\":{\"value\":\"#1f77b4\"},\"line_alpha\":{\"value\":0.1},\"line_color\":{\"value\":\"#1f77b4\"},\"size\":{\"units\":\"screen\",\"value\":10},\"x\":{\"field\":\"x\"},\"y\":{\"field\":\"y\"}},\"id\":\"5169\",\"type\":\"Circle\"},{\"attributes\":{\"data_source\":{\"id\":\"5167\",\"type\":\"ColumnDataSource\"},\"glyph\":{\"id\":\"5168\",\"type\":\"Circle\"},\"hover_glyph\":null,\"muted_glyph\":null,\"nonselection_glyph\":{\"id\":\"5169\",\"type\":\"Circle\"},\"selection_glyph\":null,\"view\":{\"id\":\"5171\",\"type\":\"CDSView\"}},\"id\":\"5170\",\"type\":\"GlyphRenderer\"},{\"attributes\":{\"callback\":null,\"data\":{\"x\":[\"Q1\",\"Q2\",\"Q3\",\"Q4\"],\"y\":[12,9,13,14]},\"selected\":{\"id\":\"5363\",\"type\":\"Selection\"},\"selection_policy\":{\"id\":\"5364\",\"type\":\"UnionRenderers\"}},\"id\":\"5167\",\"type\":\"ColumnDataSource\"},{\"attributes\":{},\"id\":\"5355\",\"type\":\"BasicTickFormatter\"},{\"attributes\":{\"source\":{\"id\":\"5167\",\"type\":\"ColumnDataSource\"}},\"id\":\"5171\",\"type\":\"CDSView\"},{\"attributes\":{},\"id\":\"5144\",\"type\":\"PanTool\"},{\"attributes\":{\"overlay\":{\"id\":\"5365\",\"type\":\"BoxAnnotation\"}},\"id\":\"5146\",\"type\":\"BoxZoomTool\"},{\"attributes\":{\"fill_alpha\":{\"value\":0.1},\"fill_color\":{\"value\":\"#1f77b4\"},\"line_alpha\":{\"value\":0.1},\"line_color\":{\"value\":\"#1f77b4\"},\"top\":{\"field\":\"top\"},\"width\":{\"value\":0.9},\"x\":{\"field\":\"x\"}},\"id\":\"5159\",\"type\":\"VBar\"},{\"attributes\":{},\"id\":\"5361\",\"type\":\"Selection\"},{\"attributes\":{\"fill_alpha\":{\"value\":0.5},\"fill_color\":{\"value\":\"#1f77b4\"},\"line_alpha\":{\"value\":0.5},\"line_color\":{\"value\":\"#1f77b4\"},\"top\":{\"field\":\"top\"},\"width\":{\"value\":0.9},\"x\":{\"field\":\"x\"}},\"id\":\"5158\",\"type\":\"VBar\"},{\"attributes\":{},\"id\":\"5362\",\"type\":\"UnionRenderers\"}],\"root_ids\":[\"5127\"]},\"title\":\"Bokeh Application\",\"version\":\"1.2.0\"}};\n",
       "  var render_items = [{\"docid\":\"8b43b842-8e98-40e2-9c34-a77415cbca23\",\"roots\":{\"5127\":\"08895e87-58b7-4e8f-82c4-0a68348dbcd5\"}}];\n",
       "  root.Bokeh.embed.embed_items_notebook(docs_json, render_items);\n",
       "\n",
       "  }\n",
       "  if (root.Bokeh !== undefined) {\n",
       "    embed_document(root);\n",
       "  } else {\n",
       "    var attempts = 0;\n",
       "    var timer = setInterval(function(root) {\n",
       "      if (root.Bokeh !== undefined) {\n",
       "        embed_document(root);\n",
       "        clearInterval(timer);\n",
       "      }\n",
       "      attempts++;\n",
       "      if (attempts > 100) {\n",
       "        console.log(\"Bokeh: ERROR: Unable to run BokehJS code because BokehJS library is missing\");\n",
       "        clearInterval(timer);\n",
       "      }\n",
       "    }, 10, root)\n",
       "  }\n",
       "})(window);"
      ],
      "application/vnd.bokehjs_exec.v0+json": ""
     },
     "metadata": {
      "application/vnd.bokehjs_exec.v0+json": {
       "id": "5127"
      }
     },
     "output_type": "display_data"
    }
   ],
   "source": [
    "factors = [(\"Q1\", \"jan\"), (\"Q1\", \"feb\"), (\"Q1\", \"mar\"),\n",
    "           (\"Q2\", \"apr\"), (\"Q2\", \"may\"), (\"Q2\", \"jun\"),\n",
    "           (\"Q3\", \"jul\"), (\"Q3\", \"aug\"), (\"Q3\", \"sep\"),\n",
    "           (\"Q4\", \"oct\"), (\"Q4\", \"nov\"), (\"Q4\", \"dec\")]\n",
    "\n",
    "p = figure(x_range=FactorRange(*factors), plot_height=250)\n",
    "\n",
    "x = [ 10, 12, 16, 9, 10, 8, 12, 13, 14, 14, 12, 16 ]\n",
    "p.vbar(x=factors, top=x, width=0.9, alpha=0.5)\n",
    "\n",
    "qs, aves = [\"Q1\", \"Q2\", \"Q3\", \"Q4\"], [12, 9, 13, 14]\n",
    "p.line(x=qs, y=aves, color=\"red\", line_width=3)\n",
    "p.circle(x=qs, y=aves, line_color=\"red\", fill_color=\"white\", size=10)\n",
    "\n",
    "p.y_range.start = 0\n",
    "p.x_range.range_padding = 0.1\n",
    "p.xgrid.grid_line_color = None\n",
    "\n",
    "show(p)"
   ]
  },
  {
   "cell_type": "markdown",
   "metadata": {},
   "source": [
    "## Using Pandas `GroupBy`\n",
    "\n",
    "We may want to make charts based on the results of \"group by\" operations. Bokeh can utilize Pandas `GroupBy` objects directly to make this simpler. Let's take a look at how Bokeh deals with `GroupBy` objects by examining the \"cars\" data set."
   ]
  },
  {
   "cell_type": "code",
   "execution_count": 29,
   "metadata": {},
   "outputs": [
    {
     "data": {
      "text/html": [
       "<div>\n",
       "<style scoped>\n",
       "    .dataframe tbody tr th:only-of-type {\n",
       "        vertical-align: middle;\n",
       "    }\n",
       "\n",
       "    .dataframe tbody tr th {\n",
       "        vertical-align: top;\n",
       "    }\n",
       "\n",
       "    .dataframe thead th {\n",
       "        text-align: right;\n",
       "    }\n",
       "</style>\n",
       "<table border=\"1\" class=\"dataframe\">\n",
       "  <thead>\n",
       "    <tr style=\"text-align: right;\">\n",
       "      <th></th>\n",
       "      <th>mpg</th>\n",
       "      <th>cyl</th>\n",
       "      <th>displ</th>\n",
       "      <th>hp</th>\n",
       "      <th>weight</th>\n",
       "      <th>accel</th>\n",
       "      <th>yr</th>\n",
       "      <th>origin</th>\n",
       "      <th>name</th>\n",
       "      <th>mfr</th>\n",
       "    </tr>\n",
       "  </thead>\n",
       "  <tbody>\n",
       "    <tr>\n",
       "      <th>0</th>\n",
       "      <td>18.0</td>\n",
       "      <td>8</td>\n",
       "      <td>307.0</td>\n",
       "      <td>130</td>\n",
       "      <td>3504</td>\n",
       "      <td>12.0</td>\n",
       "      <td>70</td>\n",
       "      <td>North America</td>\n",
       "      <td>chevrolet chevelle malibu</td>\n",
       "      <td>chevrolet</td>\n",
       "    </tr>\n",
       "    <tr>\n",
       "      <th>1</th>\n",
       "      <td>15.0</td>\n",
       "      <td>8</td>\n",
       "      <td>350.0</td>\n",
       "      <td>165</td>\n",
       "      <td>3693</td>\n",
       "      <td>11.5</td>\n",
       "      <td>70</td>\n",
       "      <td>North America</td>\n",
       "      <td>buick skylark 320</td>\n",
       "      <td>buick</td>\n",
       "    </tr>\n",
       "    <tr>\n",
       "      <th>2</th>\n",
       "      <td>18.0</td>\n",
       "      <td>8</td>\n",
       "      <td>318.0</td>\n",
       "      <td>150</td>\n",
       "      <td>3436</td>\n",
       "      <td>11.0</td>\n",
       "      <td>70</td>\n",
       "      <td>North America</td>\n",
       "      <td>plymouth satellite</td>\n",
       "      <td>plymouth</td>\n",
       "    </tr>\n",
       "    <tr>\n",
       "      <th>3</th>\n",
       "      <td>16.0</td>\n",
       "      <td>8</td>\n",
       "      <td>304.0</td>\n",
       "      <td>150</td>\n",
       "      <td>3433</td>\n",
       "      <td>12.0</td>\n",
       "      <td>70</td>\n",
       "      <td>North America</td>\n",
       "      <td>amc rebel sst</td>\n",
       "      <td>amc</td>\n",
       "    </tr>\n",
       "    <tr>\n",
       "      <th>4</th>\n",
       "      <td>17.0</td>\n",
       "      <td>8</td>\n",
       "      <td>302.0</td>\n",
       "      <td>140</td>\n",
       "      <td>3449</td>\n",
       "      <td>10.5</td>\n",
       "      <td>70</td>\n",
       "      <td>North America</td>\n",
       "      <td>ford torino</td>\n",
       "      <td>ford</td>\n",
       "    </tr>\n",
       "  </tbody>\n",
       "</table>\n",
       "</div>"
      ],
      "text/plain": [
       "    mpg cyl  displ   hp  weight  accel  yr         origin  \\\n",
       "0  18.0   8  307.0  130    3504   12.0  70  North America   \n",
       "1  15.0   8  350.0  165    3693   11.5  70  North America   \n",
       "2  18.0   8  318.0  150    3436   11.0  70  North America   \n",
       "3  16.0   8  304.0  150    3433   12.0  70  North America   \n",
       "4  17.0   8  302.0  140    3449   10.5  70  North America   \n",
       "\n",
       "                        name        mfr  \n",
       "0  chevrolet chevelle malibu  chevrolet  \n",
       "1          buick skylark 320      buick  \n",
       "2         plymouth satellite   plymouth  \n",
       "3              amc rebel sst        amc  \n",
       "4                ford torino       ford  "
      ]
     },
     "execution_count": 29,
     "metadata": {},
     "output_type": "execute_result"
    }
   ],
   "source": [
    "from bokeh.sampledata.autompg import autompg_clean as df\n",
    "\n",
    "df.cyl = df.cyl.astype(str)\n",
    "df.head()"
   ]
  },
  {
   "cell_type": "markdown",
   "metadata": {},
   "source": [
    "Suppose we would like to display some values grouped according to `\"cyl\"`. If we create `df.groupby(('cyl'))` then call `group.describe()` we can see that Pandas automatically computes various statistics for each group. "
   ]
  },
  {
   "cell_type": "code",
   "execution_count": 30,
   "metadata": {},
   "outputs": [
    {
     "data": {
      "text/html": [
       "<div>\n",
       "<style scoped>\n",
       "    .dataframe tbody tr th:only-of-type {\n",
       "        vertical-align: middle;\n",
       "    }\n",
       "\n",
       "    .dataframe tbody tr th {\n",
       "        vertical-align: top;\n",
       "    }\n",
       "\n",
       "    .dataframe thead tr th {\n",
       "        text-align: left;\n",
       "    }\n",
       "\n",
       "    .dataframe thead tr:last-of-type th {\n",
       "        text-align: right;\n",
       "    }\n",
       "</style>\n",
       "<table border=\"1\" class=\"dataframe\">\n",
       "  <thead>\n",
       "    <tr>\n",
       "      <th></th>\n",
       "      <th colspan=\"8\" halign=\"left\">mpg</th>\n",
       "      <th colspan=\"2\" halign=\"left\">displ</th>\n",
       "      <th>...</th>\n",
       "      <th colspan=\"2\" halign=\"left\">accel</th>\n",
       "      <th colspan=\"8\" halign=\"left\">yr</th>\n",
       "    </tr>\n",
       "    <tr>\n",
       "      <th></th>\n",
       "      <th>count</th>\n",
       "      <th>mean</th>\n",
       "      <th>std</th>\n",
       "      <th>min</th>\n",
       "      <th>25%</th>\n",
       "      <th>50%</th>\n",
       "      <th>75%</th>\n",
       "      <th>max</th>\n",
       "      <th>count</th>\n",
       "      <th>mean</th>\n",
       "      <th>...</th>\n",
       "      <th>75%</th>\n",
       "      <th>max</th>\n",
       "      <th>count</th>\n",
       "      <th>mean</th>\n",
       "      <th>std</th>\n",
       "      <th>min</th>\n",
       "      <th>25%</th>\n",
       "      <th>50%</th>\n",
       "      <th>75%</th>\n",
       "      <th>max</th>\n",
       "    </tr>\n",
       "    <tr>\n",
       "      <th>cyl</th>\n",
       "      <th></th>\n",
       "      <th></th>\n",
       "      <th></th>\n",
       "      <th></th>\n",
       "      <th></th>\n",
       "      <th></th>\n",
       "      <th></th>\n",
       "      <th></th>\n",
       "      <th></th>\n",
       "      <th></th>\n",
       "      <th></th>\n",
       "      <th></th>\n",
       "      <th></th>\n",
       "      <th></th>\n",
       "      <th></th>\n",
       "      <th></th>\n",
       "      <th></th>\n",
       "      <th></th>\n",
       "      <th></th>\n",
       "      <th></th>\n",
       "      <th></th>\n",
       "    </tr>\n",
       "  </thead>\n",
       "  <tbody>\n",
       "    <tr>\n",
       "      <th>3</th>\n",
       "      <td>4.0</td>\n",
       "      <td>20.550000</td>\n",
       "      <td>2.564501</td>\n",
       "      <td>18.0</td>\n",
       "      <td>18.75</td>\n",
       "      <td>20.25</td>\n",
       "      <td>22.05</td>\n",
       "      <td>23.7</td>\n",
       "      <td>4.0</td>\n",
       "      <td>72.500000</td>\n",
       "      <td>...</td>\n",
       "      <td>13.5</td>\n",
       "      <td>13.5</td>\n",
       "      <td>4.0</td>\n",
       "      <td>75.500000</td>\n",
       "      <td>3.696846</td>\n",
       "      <td>72.0</td>\n",
       "      <td>72.75</td>\n",
       "      <td>75.0</td>\n",
       "      <td>77.75</td>\n",
       "      <td>80.0</td>\n",
       "    </tr>\n",
       "    <tr>\n",
       "      <th>4</th>\n",
       "      <td>199.0</td>\n",
       "      <td>29.283920</td>\n",
       "      <td>5.670546</td>\n",
       "      <td>18.0</td>\n",
       "      <td>25.00</td>\n",
       "      <td>28.40</td>\n",
       "      <td>32.95</td>\n",
       "      <td>46.6</td>\n",
       "      <td>199.0</td>\n",
       "      <td>109.670854</td>\n",
       "      <td>...</td>\n",
       "      <td>18.0</td>\n",
       "      <td>24.8</td>\n",
       "      <td>199.0</td>\n",
       "      <td>77.030151</td>\n",
       "      <td>3.737484</td>\n",
       "      <td>70.0</td>\n",
       "      <td>74.00</td>\n",
       "      <td>77.0</td>\n",
       "      <td>80.00</td>\n",
       "      <td>82.0</td>\n",
       "    </tr>\n",
       "    <tr>\n",
       "      <th>5</th>\n",
       "      <td>3.0</td>\n",
       "      <td>27.366667</td>\n",
       "      <td>8.228204</td>\n",
       "      <td>20.3</td>\n",
       "      <td>22.85</td>\n",
       "      <td>25.40</td>\n",
       "      <td>30.90</td>\n",
       "      <td>36.4</td>\n",
       "      <td>3.0</td>\n",
       "      <td>145.000000</td>\n",
       "      <td>...</td>\n",
       "      <td>20.0</td>\n",
       "      <td>20.1</td>\n",
       "      <td>3.0</td>\n",
       "      <td>79.000000</td>\n",
       "      <td>1.000000</td>\n",
       "      <td>78.0</td>\n",
       "      <td>78.50</td>\n",
       "      <td>79.0</td>\n",
       "      <td>79.50</td>\n",
       "      <td>80.0</td>\n",
       "    </tr>\n",
       "    <tr>\n",
       "      <th>6</th>\n",
       "      <td>83.0</td>\n",
       "      <td>19.973494</td>\n",
       "      <td>3.828809</td>\n",
       "      <td>15.0</td>\n",
       "      <td>18.00</td>\n",
       "      <td>19.00</td>\n",
       "      <td>21.00</td>\n",
       "      <td>38.0</td>\n",
       "      <td>83.0</td>\n",
       "      <td>218.361446</td>\n",
       "      <td>...</td>\n",
       "      <td>17.6</td>\n",
       "      <td>21.0</td>\n",
       "      <td>83.0</td>\n",
       "      <td>75.951807</td>\n",
       "      <td>3.264381</td>\n",
       "      <td>70.0</td>\n",
       "      <td>74.00</td>\n",
       "      <td>76.0</td>\n",
       "      <td>78.00</td>\n",
       "      <td>82.0</td>\n",
       "    </tr>\n",
       "    <tr>\n",
       "      <th>8</th>\n",
       "      <td>103.0</td>\n",
       "      <td>14.963107</td>\n",
       "      <td>2.836284</td>\n",
       "      <td>9.0</td>\n",
       "      <td>13.00</td>\n",
       "      <td>14.00</td>\n",
       "      <td>16.00</td>\n",
       "      <td>26.6</td>\n",
       "      <td>103.0</td>\n",
       "      <td>345.009709</td>\n",
       "      <td>...</td>\n",
       "      <td>14.0</td>\n",
       "      <td>22.2</td>\n",
       "      <td>103.0</td>\n",
       "      <td>73.902913</td>\n",
       "      <td>3.021214</td>\n",
       "      <td>70.0</td>\n",
       "      <td>72.00</td>\n",
       "      <td>73.0</td>\n",
       "      <td>76.00</td>\n",
       "      <td>81.0</td>\n",
       "    </tr>\n",
       "  </tbody>\n",
       "</table>\n",
       "<p>5 rows × 48 columns</p>\n",
       "</div>"
      ],
      "text/plain": [
       "       mpg                                                        displ  \\\n",
       "     count       mean       std   min    25%    50%    75%   max  count   \n",
       "cyl                                                                       \n",
       "3      4.0  20.550000  2.564501  18.0  18.75  20.25  22.05  23.7    4.0   \n",
       "4    199.0  29.283920  5.670546  18.0  25.00  28.40  32.95  46.6  199.0   \n",
       "5      3.0  27.366667  8.228204  20.3  22.85  25.40  30.90  36.4    3.0   \n",
       "6     83.0  19.973494  3.828809  15.0  18.00  19.00  21.00  38.0   83.0   \n",
       "8    103.0  14.963107  2.836284   9.0  13.00  14.00  16.00  26.6  103.0   \n",
       "\n",
       "                 ... accel           yr                                    \\\n",
       "           mean  ...   75%   max  count       mean       std   min    25%   \n",
       "cyl              ...                                                        \n",
       "3     72.500000  ...  13.5  13.5    4.0  75.500000  3.696846  72.0  72.75   \n",
       "4    109.670854  ...  18.0  24.8  199.0  77.030151  3.737484  70.0  74.00   \n",
       "5    145.000000  ...  20.0  20.1    3.0  79.000000  1.000000  78.0  78.50   \n",
       "6    218.361446  ...  17.6  21.0   83.0  75.951807  3.264381  70.0  74.00   \n",
       "8    345.009709  ...  14.0  22.2  103.0  73.902913  3.021214  70.0  72.00   \n",
       "\n",
       "                        \n",
       "      50%    75%   max  \n",
       "cyl                     \n",
       "3    75.0  77.75  80.0  \n",
       "4    77.0  80.00  82.0  \n",
       "5    79.0  79.50  80.0  \n",
       "6    76.0  78.00  82.0  \n",
       "8    73.0  76.00  81.0  \n",
       "\n",
       "[5 rows x 48 columns]"
      ]
     },
     "execution_count": 30,
     "metadata": {},
     "output_type": "execute_result"
    }
   ],
   "source": [
    "group = df.groupby(('cyl'))\n",
    "\n",
    "group.describe()"
   ]
  },
  {
   "cell_type": "markdown",
   "metadata": {},
   "source": [
    "Bokeh allows us to create a `ColumnDataSource` directly from Pandas `GroupBy` objects, and when this happens, the data source is automatically filled with the summary values from `group.desribe()`. Observe the column names below, which correspond to the output above."
   ]
  },
  {
   "cell_type": "code",
   "execution_count": 31,
   "metadata": {},
   "outputs": [
    {
     "data": {
      "text/plain": [
       "'cyl,mpg_count,mpg_mean,mpg_std,mpg_min,mpg_25%,mpg_50%,mpg_75%,mpg_max,displ_count,displ_mean,displ_std,displ_min,displ_25%,displ_50%,displ_75%,displ_max,hp_count,hp_mean,hp_std,hp_min,hp_25%,hp_50%,hp_75%,hp_max,weight_count,weight_mean,weight_std,weight_min,weight_25%,weight_50%,weight_75%,weight_max,accel_count,accel_mean,accel_std,accel_min,accel_25%,accel_50%,accel_75%,accel_max,yr_count,yr_mean,yr_std,yr_min,yr_25%,yr_50%,yr_75%,yr_max'"
      ]
     },
     "execution_count": 31,
     "metadata": {},
     "output_type": "execute_result"
    }
   ],
   "source": [
    "source = ColumnDataSource(group)\n",
    "\n",
    "\",\".join(source.column_names)"
   ]
  },
  {
   "cell_type": "markdown",
   "metadata": {},
   "source": [
    "Knowing these column names, we can immediately create bar charts based on Pandas `GroupBy` objects. The example below plots the aveage MPG per cylinder, i.e. columns `\"mpg_mean\"` vs `\"cyl\"`"
   ]
  },
  {
   "cell_type": "code",
   "execution_count": 32,
   "metadata": {},
   "outputs": [
    {
     "data": {
      "text/html": [
       "\n",
       "\n",
       "\n",
       "\n",
       "\n",
       "\n",
       "  <div class=\"bk-root\" id=\"af3deb90-524e-4042-8e26-f38540c7e303\" data-root-id=\"5446\"></div>\n"
      ]
     },
     "metadata": {},
     "output_type": "display_data"
    },
    {
     "data": {
      "application/javascript": [
       "(function(root) {\n",
       "  function embed_document(root) {\n",
       "    \n",
       "  var docs_json = {\"a30c80d5-2d87-4b49-9e28-1dc26714825c\":{\"roots\":{\"references\":[{\"attributes\":{\"below\":[{\"id\":\"5455\",\"type\":\"CategoricalAxis\"}],\"center\":[{\"id\":\"5458\",\"type\":\"Grid\"},{\"id\":\"5463\",\"type\":\"Grid\"}],\"left\":[{\"id\":\"5459\",\"type\":\"LinearAxis\"}],\"plot_height\":350,\"renderers\":[{\"id\":\"5480\",\"type\":\"GlyphRenderer\"}],\"title\":{\"id\":\"5676\",\"type\":\"Title\"},\"toolbar\":{\"id\":\"5470\",\"type\":\"Toolbar\"},\"x_range\":{\"id\":\"5447\",\"type\":\"FactorRange\"},\"x_scale\":{\"id\":\"5451\",\"type\":\"CategoricalScale\"},\"y_range\":{\"id\":\"5449\",\"type\":\"DataRange1d\"},\"y_scale\":{\"id\":\"5453\",\"type\":\"LinearScale\"}},\"id\":\"5446\",\"subtype\":\"Figure\",\"type\":\"Plot\"},{\"attributes\":{},\"id\":\"5469\",\"type\":\"HelpTool\"},{\"attributes\":{\"callback\":null,\"data\":{\"accel_25%\":{\"__ndarray__\":\"AAAAAACAKkCamZmZmZktQGZmZmZm5jFAmpmZmZkZLkAAAAAAAAAnQA==\",\"dtype\":\"float64\",\"shape\":[5]},\"accel_50%\":{\"__ndarray__\":\"AAAAAAAAK0AzMzMzMzMwQGZmZmZm5jNAAAAAAAAAMEAAAAAAAAAqQA==\",\"dtype\":\"float64\",\"shape\":[5]},\"accel_75%\":{\"__ndarray__\":\"AAAAAAAAK0AAAAAAAAAyQAAAAAAAADRAmpmZmZmZMUAAAAAAAAAsQA==\",\"dtype\":\"float64\",\"shape\":[5]},\"accel_count\":{\"__ndarray__\":\"AAAAAAAAEEAAAAAAAOBoQAAAAAAAAAhAAAAAAADAVEAAAAAAAMBZQA==\",\"dtype\":\"float64\",\"shape\":[5]},\"accel_max\":{\"__ndarray__\":\"AAAAAAAAK0DNzMzMzMw4QJqZmZmZGTRAAAAAAAAANUAzMzMzMzM2QA==\",\"dtype\":\"float64\",\"shape\":[5]},\"accel_mean\":{\"__ndarray__\":\"AAAAAACAKkCRxCwG+JQwQCIiIiIiojJA7d9LWxRBMEA+LI1MIukpQA==\",\"dtype\":\"float64\",\"shape\":[5]},\"accel_min\":{\"__ndarray__\":\"AAAAAAAAKUAzMzMzMzMnQM3MzMzMzC9AmpmZmZmZJkAAAAAAAAAgQA==\",\"dtype\":\"float64\",\"shape\":[5]},\"accel_std\":{\"__ndarray__\":\"AAAAAAAA4D+b1TA5wxADQO1jrP039AJA0StM4BRBAED/ZpysTswBQA==\",\"dtype\":\"float64\",\"shape\":[5]},\"cyl\":[\"3\",\"4\",\"5\",\"6\",\"8\"],\"displ_25%\":{\"__ndarray__\":\"AAAAAACAUUAAAAAAAMBWQAAAAAAAgF9AAAAAAADwaEAAAAAAABBzQA==\",\"dtype\":\"float64\",\"shape\":[5]},\"displ_50%\":{\"__ndarray__\":\"AAAAAACAUUAAAAAAAEBaQAAAAAAAYGBAAAAAAADgbEAAAAAAAOB1QA==\",\"dtype\":\"float64\",\"shape\":[5]},\"displ_75%\":{\"__ndarray__\":\"AAAAAAAgUkAAAAAAAEBeQAAAAAAAoGNAAAAAAABAb0AAAAAAAIB2QA==\",\"dtype\":\"float64\",\"shape\":[5]},\"displ_count\":{\"__ndarray__\":\"AAAAAAAAEEAAAAAAAOBoQAAAAAAAAAhAAAAAAADAVEAAAAAAAMBZQA==\",\"dtype\":\"float64\",\"shape\":[5]},\"displ_max\":{\"__ndarray__\":\"AAAAAAAAVEAAAAAAAIBjQAAAAAAA4GZAAAAAAABgcEAAAAAAAHB8QA==\",\"dtype\":\"float64\",\"shape\":[5]},\"displ_mean\":{\"__ndarray__\":\"AAAAAAAgUkD/9sBG72pbQAAAAAAAIGJAmjq/9pBLa0DJeVnEJ5B1QA==\",\"dtype\":\"float64\",\"shape\":[5]},\"displ_min\":{\"__ndarray__\":\"AAAAAACAUUAAAAAAAABRQAAAAAAAQF5AAAAAAAAgYkAAAAAAAEBwQA==\",\"dtype\":\"float64\",\"shape\":[5]},\"displ_std\":{\"__ndarray__\":\"AAAAAAAAFEC8furRdmA1QLmT4WuwpEBAT4BvAbA2QEDXs8ZGYGNHQA==\",\"dtype\":\"float64\",\"shape\":[5]},\"hp_25%\":{\"__ndarray__\":\"AAAAAADQV0AAAAAAAABRQAAAAAAAAFJAAAAAAAAgV0AAAAAAAIBhQA==\",\"dtype\":\"float64\",\"shape\":[5]},\"hp_50%\":{\"__ndarray__\":\"AAAAAACgWEAAAAAAAIBTQAAAAAAAQFNAAAAAAAAAWUAAAAAAAMBiQA==\",\"dtype\":\"float64\",\"shape\":[5]},\"hp_75%\":{\"__ndarray__\":\"AAAAAACgWUAAAAAAAABWQAAAAAAAgFZAAAAAAACAW0AAAAAAAOBlQA==\",\"dtype\":\"float64\",\"shape\":[5]},\"hp_count\":{\"__ndarray__\":\"AAAAAAAAEEAAAAAAAOBoQAAAAAAAAAhAAAAAAADAVEAAAAAAAMBZQA==\",\"dtype\":\"float64\",\"shape\":[5]},\"hp_max\":{\"__ndarray__\":\"AAAAAACAW0AAAAAAAMBcQAAAAAAAwFlAAAAAAACgZEAAAAAAAMBsQA==\",\"dtype\":\"float64\",\"shape\":[5]},\"hp_mean\":{\"__ndarray__\":\"AAAAAADQWEB2PKeSApJTQFVVVVVVlVRAsD3ksmJgWUDCfquNocljQA==\",\"dtype\":\"float64\",\"shape\":[5]},\"hp_min\":{\"__ndarray__\":\"AAAAAACAVkAAAAAAAABHQAAAAAAAwFBAAAAAAAAAUkAAAAAAAIBWQA==\",\"dtype\":\"float64\",\"shape\":[5]},\"hp_std\":{\"__ndarray__\":\"sTIWI2yaIECGr0Go0wstQDKsjxZJlTJAxZAwIvaeLEBQwZb3G3Q8QA==\",\"dtype\":\"float64\",\"shape\":[5]},\"mpg_25%\":{\"__ndarray__\":\"AAAAAADAMkAAAAAAAAA5QJqZmZmZ2TZAAAAAAAAAMkAAAAAAAAAqQA==\",\"dtype\":\"float64\",\"shape\":[5]},\"mpg_50%\":{\"__ndarray__\":\"AAAAAABANEBmZmZmZmY8QGZmZmZmZjlAAAAAAAAAM0AAAAAAAAAsQA==\",\"dtype\":\"float64\",\"shape\":[5]},\"mpg_75%\":{\"__ndarray__\":\"zczMzMwMNkCamZmZmXlAQGZmZmZm5j5AAAAAAAAANUAAAAAAAAAwQA==\",\"dtype\":\"float64\",\"shape\":[5]},\"mpg_count\":{\"__ndarray__\":\"AAAAAAAAEEAAAAAAAOBoQAAAAAAAAAhAAAAAAADAVEAAAAAAAMBZQA==\",\"dtype\":\"float64\",\"shape\":[5]},\"mpg_max\":{\"__ndarray__\":\"MzMzMzOzN0DNzMzMzExHQDMzMzMzM0JAAAAAAAAAQ0CamZmZmZk6QA==\",\"dtype\":\"float64\",\"shape\":[5]},\"mpg_mean\":{\"__ndarray__\":\"zczMzMyMNEBwD2z0rkg9QN3d3d3dXTtA6lu15jb5M0BgwH9VHO0tQA==\",\"dtype\":\"float64\",\"shape\":[5]},\"mpg_min\":{\"__ndarray__\":\"AAAAAAAAMkAAAAAAAAAyQM3MzMzMTDRAAAAAAAAALkAAAAAAAAAiQA==\",\"dtype\":\"float64\",\"shape\":[5]},\"mpg_std\":{\"__ndarray__\":\"ca9eOxmEBECNLXOmo64WQOWG1RfXdCBALURKf2ahDkC0cW7BtbAGQA==\",\"dtype\":\"float64\",\"shape\":[5]},\"weight_25%\":{\"__ndarray__\":\"AAAAAADNoUAAAAAAAP6fQAAAAAAAlKZAAAAAAAACp0AAAAAAAK6tQA==\",\"dtype\":\"float64\",\"shape\":[5]},\"weight_50%\":{\"__ndarray__\":\"AAAAAACOokAAAAAAAGyhQAAAAAAADKdAAAAAAAAUqUAAAAAAACywQA==\",\"dtype\":\"float64\",\"shape\":[5]},\"weight_75%\":{\"__ndarray__\":\"AAAAAAB+o0AAAAAAAAWkQAAAAAAAUKlAAAAAAADOqkAAAAAAgDOxQA==\",\"dtype\":\"float64\",\"shape\":[5]},\"weight_count\":{\"__ndarray__\":\"AAAAAAAAEEAAAAAAAOBoQAAAAAAAAAhAAAAAAADAVEAAAAAAAMBZQA==\",\"dtype\":\"float64\",\"shape\":[5]},\"weight_max\":{\"__ndarray__\":\"AAAAAABApUAAAAAAAIypQAAAAAAAlKtAAAAAAACGrkAAAAAAABS0QA==\",\"dtype\":\"float64\",\"shape\":[5]},\"weight_mean\":{\"__ndarray__\":\"AAAAAAC9okAsMl+aOAKiQKuqqqqqPqhAjqbOrz0EqUBD0x3stxKwQA==\",\"dtype\":\"float64\",\"shape\":[5]},\"weight_min\":{\"__ndarray__\":\"AAAAAACYoEAAAAAAADSZQAAAAAAAHKZAAAAAAABQo0AAAAAAAByoQA==\",\"dtype\":\"float64\",\"shape\":[5]},\"weight_std\":{\"__ndarray__\":\"udhs7B3ybkC6+VSg9G11QA9pSX6AZXdAdmeNgiLGdEC+UR6eVA18QA==\",\"dtype\":\"float64\",\"shape\":[5]},\"yr_25%\":{\"__ndarray__\":\"AAAAAAAwUkAAAAAAAIBSQAAAAAAAoFNAAAAAAACAUkAAAAAAAABSQA==\",\"dtype\":\"float64\",\"shape\":[5]},\"yr_50%\":{\"__ndarray__\":\"AAAAAADAUkAAAAAAAEBTQAAAAAAAwFNAAAAAAAAAU0AAAAAAAEBSQA==\",\"dtype\":\"float64\",\"shape\":[5]},\"yr_75%\":{\"__ndarray__\":\"AAAAAABwU0AAAAAAAABUQAAAAAAA4FNAAAAAAACAU0AAAAAAAABTQA==\",\"dtype\":\"float64\",\"shape\":[5]},\"yr_count\":{\"__ndarray__\":\"AAAAAAAAEEAAAAAAAOBoQAAAAAAAAAhAAAAAAADAVEAAAAAAAMBZQA==\",\"dtype\":\"float64\",\"shape\":[5]},\"yr_max\":{\"__ndarray__\":\"AAAAAAAAVEAAAAAAAIBUQAAAAAAAAFRAAAAAAACAVEAAAAAAAEBUQA==\",\"dtype\":\"float64\",\"shape\":[5]},\"yr_mean\":{\"__ndarray__\":\"AAAAAADgUkDEWG397UFTQAAAAAAAwFNAghLeaOr8UkCL+ARSyXlSQA==\",\"dtype\":\"float64\",\"shape\":[5]},\"yr_min\":{\"__ndarray__\":\"AAAAAAAAUkAAAAAAAIBRQAAAAAAAgFNAAAAAAACAUUAAAAAAAIBRQA==\",\"dtype\":\"float64\",\"shape\":[5]},\"yr_std\":{\"__ndarray__\":\"p1MQvCOTDUAd5PLGXeYNQAAAAAAAAPA/p0OY+nMdCkAEv1x2cisIQA==\",\"dtype\":\"float64\",\"shape\":[5]}},\"selected\":{\"id\":\"5682\",\"type\":\"Selection\"},\"selection_policy\":{\"id\":\"5683\",\"type\":\"UnionRenderers\"}},\"id\":\"5444\",\"type\":\"ColumnDataSource\"},{\"attributes\":{\"active_drag\":\"auto\",\"active_inspect\":\"auto\",\"active_multi\":null,\"active_scroll\":\"auto\",\"active_tap\":\"auto\",\"tools\":[{\"id\":\"5464\",\"type\":\"PanTool\"},{\"id\":\"5465\",\"type\":\"WheelZoomTool\"},{\"id\":\"5466\",\"type\":\"BoxZoomTool\"},{\"id\":\"5467\",\"type\":\"SaveTool\"},{\"id\":\"5468\",\"type\":\"ResetTool\"},{\"id\":\"5469\",\"type\":\"HelpTool\"}]},\"id\":\"5470\",\"type\":\"Toolbar\"},{\"attributes\":{\"callback\":null,\"start\":0},\"id\":\"5449\",\"type\":\"DataRange1d\"},{\"attributes\":{},\"id\":\"5451\",\"type\":\"CategoricalScale\"},{\"attributes\":{},\"id\":\"5683\",\"type\":\"UnionRenderers\"},{\"attributes\":{\"source\":{\"id\":\"5444\",\"type\":\"ColumnDataSource\"}},\"id\":\"5481\",\"type\":\"CDSView\"},{\"attributes\":{},\"id\":\"5453\",\"type\":\"LinearScale\"},{\"attributes\":{\"axis_label\":\"number of cylinders\",\"formatter\":{\"id\":\"5680\",\"type\":\"CategoricalTickFormatter\"},\"ticker\":{\"id\":\"5456\",\"type\":\"CategoricalTicker\"}},\"id\":\"5455\",\"type\":\"CategoricalAxis\"},{\"attributes\":{},\"id\":\"5456\",\"type\":\"CategoricalTicker\"},{\"attributes\":{\"grid_line_color\":null,\"ticker\":{\"id\":\"5456\",\"type\":\"CategoricalTicker\"}},\"id\":\"5458\",\"type\":\"Grid\"},{\"attributes\":{\"axis_label\":\"Mean MPG\",\"formatter\":{\"id\":\"5678\",\"type\":\"BasicTickFormatter\"},\"ticker\":{\"id\":\"5460\",\"type\":\"BasicTicker\"}},\"id\":\"5459\",\"type\":\"LinearAxis\"},{\"attributes\":{\"bottom_units\":\"screen\",\"fill_alpha\":{\"value\":0.5},\"fill_color\":{\"value\":\"lightgrey\"},\"left_units\":\"screen\",\"level\":\"overlay\",\"line_alpha\":{\"value\":1.0},\"line_color\":{\"value\":\"black\"},\"line_dash\":[4,4],\"line_width\":{\"value\":2},\"render_mode\":\"css\",\"right_units\":\"screen\",\"top_units\":\"screen\"},\"id\":\"5684\",\"type\":\"BoxAnnotation\"},{\"attributes\":{},\"id\":\"5460\",\"type\":\"BasicTicker\"},{\"attributes\":{},\"id\":\"5680\",\"type\":\"CategoricalTickFormatter\"},{\"attributes\":{\"dimension\":1,\"ticker\":{\"id\":\"5460\",\"type\":\"BasicTicker\"}},\"id\":\"5463\",\"type\":\"Grid\"},{\"attributes\":{\"fill_alpha\":{\"value\":0.1},\"fill_color\":{\"value\":\"#1f77b4\"},\"line_alpha\":{\"value\":0.1},\"line_color\":{\"value\":\"#1f77b4\"},\"top\":{\"field\":\"mpg_mean\"},\"width\":{\"value\":1},\"x\":{\"field\":\"cyl\"}},\"id\":\"5479\",\"type\":\"VBar\"},{\"attributes\":{},\"id\":\"5682\",\"type\":\"Selection\"},{\"attributes\":{\"fill_color\":{\"field\":\"cyl\",\"transform\":{\"id\":\"5445\",\"type\":\"CategoricalColorMapper\"}},\"line_color\":{\"value\":\"white\"},\"top\":{\"field\":\"mpg_mean\"},\"width\":{\"value\":1},\"x\":{\"field\":\"cyl\"}},\"id\":\"5478\",\"type\":\"VBar\"},{\"attributes\":{\"data_source\":{\"id\":\"5444\",\"type\":\"ColumnDataSource\"},\"glyph\":{\"id\":\"5478\",\"type\":\"VBar\"},\"hover_glyph\":null,\"muted_glyph\":null,\"nonselection_glyph\":{\"id\":\"5479\",\"type\":\"VBar\"},\"selection_glyph\":null,\"view\":{\"id\":\"5481\",\"type\":\"CDSView\"}},\"id\":\"5480\",\"type\":\"GlyphRenderer\"},{\"attributes\":{\"text\":\"\"},\"id\":\"5676\",\"type\":\"Title\"},{\"attributes\":{},\"id\":\"5464\",\"type\":\"PanTool\"},{\"attributes\":{\"factors\":[\"3\",\"4\",\"5\",\"6\",\"8\"],\"palette\":[\"#2b83ba\",\"#abdda4\",\"#ffffbf\",\"#fdae61\",\"#d7191c\"]},\"id\":\"5445\",\"type\":\"CategoricalColorMapper\"},{\"attributes\":{},\"id\":\"5465\",\"type\":\"WheelZoomTool\"},{\"attributes\":{},\"id\":\"5678\",\"type\":\"BasicTickFormatter\"},{\"attributes\":{\"overlay\":{\"id\":\"5684\",\"type\":\"BoxAnnotation\"}},\"id\":\"5466\",\"type\":\"BoxZoomTool\"},{\"attributes\":{},\"id\":\"5467\",\"type\":\"SaveTool\"},{\"attributes\":{\"callback\":null,\"factors\":[\"3\",\"4\",\"5\",\"6\",\"8\"]},\"id\":\"5447\",\"type\":\"FactorRange\"},{\"attributes\":{},\"id\":\"5468\",\"type\":\"ResetTool\"}],\"root_ids\":[\"5446\"]},\"title\":\"Bokeh Application\",\"version\":\"1.2.0\"}};\n",
       "  var render_items = [{\"docid\":\"a30c80d5-2d87-4b49-9e28-1dc26714825c\",\"roots\":{\"5446\":\"af3deb90-524e-4042-8e26-f38540c7e303\"}}];\n",
       "  root.Bokeh.embed.embed_items_notebook(docs_json, render_items);\n",
       "\n",
       "  }\n",
       "  if (root.Bokeh !== undefined) {\n",
       "    embed_document(root);\n",
       "  } else {\n",
       "    var attempts = 0;\n",
       "    var timer = setInterval(function(root) {\n",
       "      if (root.Bokeh !== undefined) {\n",
       "        embed_document(root);\n",
       "        clearInterval(timer);\n",
       "      }\n",
       "      attempts++;\n",
       "      if (attempts > 100) {\n",
       "        console.log(\"Bokeh: ERROR: Unable to run BokehJS code because BokehJS library is missing\");\n",
       "        clearInterval(timer);\n",
       "      }\n",
       "    }, 10, root)\n",
       "  }\n",
       "})(window);"
      ],
      "application/vnd.bokehjs_exec.v0+json": ""
     },
     "metadata": {
      "application/vnd.bokehjs_exec.v0+json": {
       "id": "5446"
      }
     },
     "output_type": "display_data"
    }
   ],
   "source": [
    "from bokeh.palettes import Spectral5\n",
    "\n",
    "cyl_cmap = factor_cmap('cyl', palette=Spectral5, factors=sorted(df.cyl.unique()))\n",
    "\n",
    "p = figure(plot_height=350, x_range=group)\n",
    "p.vbar(x='cyl', top='mpg_mean', width=1, line_color=\"white\", \n",
    "       fill_color=cyl_cmap, source=source)\n",
    "\n",
    "p.xgrid.grid_line_color = None\n",
    "p.xaxis.axis_label = \"number of cylinders\"\n",
    "p.yaxis.axis_label = \"Mean MPG\"\n",
    "p.y_range.start = 0\n",
    "\n",
    "show(p)"
   ]
  },
  {
   "cell_type": "markdown",
   "metadata": {},
   "source": [
    "## Label\n",
    "\n",
    "The `Label` annotation allows you to easily attach single text labels to plots. The position and text to display are configured as `x`, `y`, and `text`:\n",
    "\n",
    "```python\n",
    "Label(x=10, y=5, text=\"Some Label\")\n",
    "```\n",
    "\n",
    "By default the units are in \"data space\" but `x_units` and `y_units` maybe set to `\"screen\"` to position the label relative to the canvas. Labels can also accept `x_offset` and `y_offset` to offset the final position from `x` and `y` by a given screen space distance. \n",
    "\n",
    "`Label` objects also have standard text, line (`border_line`) and fill (`background_fill`) properties. The line and fill properties apply to a bounding box around the text:\n",
    "\n",
    "```python\n",
    "Label(x=10, y=5, text=\"Some Label\", text_font_size=\"12pt\", \n",
    "      border_line_color=\"red\", background_fill_color=\"blue\")\n",
    "```"
   ]
  },
  {
   "cell_type": "code",
   "execution_count": 33,
   "metadata": {},
   "outputs": [
    {
     "data": {
      "text/html": [
       "\n",
       "\n",
       "\n",
       "\n",
       "\n",
       "\n",
       "  <div class=\"bk-root\" id=\"d5140521-f028-436b-8ef4-0f3ab21aca32\" data-root-id=\"5739\"></div>\n"
      ]
     },
     "metadata": {},
     "output_type": "display_data"
    },
    {
     "data": {
      "application/javascript": [
       "(function(root) {\n",
       "  function embed_document(root) {\n",
       "    \n",
       "  var docs_json = {\"bfdd79b4-eb8f-4e48-93de-16f77d78a3d4\":{\"roots\":{\"references\":[{\"attributes\":{\"below\":[{\"id\":\"5748\",\"type\":\"LinearAxis\"}],\"center\":[{\"id\":\"5752\",\"type\":\"Grid\"},{\"id\":\"5757\",\"type\":\"Grid\"},{\"id\":\"5776\",\"type\":\"Label\"}],\"left\":[{\"id\":\"5753\",\"type\":\"LinearAxis\"}],\"renderers\":[{\"id\":\"5774\",\"type\":\"GlyphRenderer\"}],\"title\":{\"id\":\"5980\",\"type\":\"Title\"},\"toolbar\":{\"id\":\"5764\",\"type\":\"Toolbar\"},\"x_range\":{\"id\":\"5740\",\"type\":\"Range1d\"},\"x_scale\":{\"id\":\"5744\",\"type\":\"LinearScale\"},\"y_range\":{\"id\":\"5742\",\"type\":\"Range1d\"},\"y_scale\":{\"id\":\"5746\",\"type\":\"LinearScale\"}},\"id\":\"5739\",\"subtype\":\"Figure\",\"type\":\"Plot\"},{\"attributes\":{\"callback\":null,\"end\":10},\"id\":\"5742\",\"type\":\"Range1d\"},{\"attributes\":{},\"id\":\"5744\",\"type\":\"LinearScale\"},{\"attributes\":{},\"id\":\"5746\",\"type\":\"LinearScale\"},{\"attributes\":{\"formatter\":{\"id\":\"5984\",\"type\":\"BasicTickFormatter\"},\"ticker\":{\"id\":\"5749\",\"type\":\"BasicTicker\"}},\"id\":\"5748\",\"type\":\"LinearAxis\"},{\"attributes\":{},\"id\":\"5749\",\"type\":\"BasicTicker\"},{\"attributes\":{\"ticker\":{\"id\":\"5749\",\"type\":\"BasicTicker\"}},\"id\":\"5752\",\"type\":\"Grid\"},{\"attributes\":{\"formatter\":{\"id\":\"5982\",\"type\":\"BasicTickFormatter\"},\"ticker\":{\"id\":\"5754\",\"type\":\"BasicTicker\"}},\"id\":\"5753\",\"type\":\"LinearAxis\"},{\"attributes\":{\"bottom_units\":\"screen\",\"fill_alpha\":{\"value\":0.5},\"fill_color\":{\"value\":\"lightgrey\"},\"left_units\":\"screen\",\"level\":\"overlay\",\"line_alpha\":{\"value\":1.0},\"line_color\":{\"value\":\"black\"},\"line_dash\":[4,4],\"line_width\":{\"value\":2},\"render_mode\":\"css\",\"right_units\":\"screen\",\"top_units\":\"screen\"},\"id\":\"5988\",\"type\":\"BoxAnnotation\"},{\"attributes\":{\"source\":{\"id\":\"5771\",\"type\":\"ColumnDataSource\"}},\"id\":\"5775\",\"type\":\"CDSView\"},{\"attributes\":{\"data_source\":{\"id\":\"5771\",\"type\":\"ColumnDataSource\"},\"glyph\":{\"id\":\"5772\",\"type\":\"Circle\"},\"hover_glyph\":null,\"muted_glyph\":null,\"nonselection_glyph\":{\"id\":\"5773\",\"type\":\"Circle\"},\"selection_glyph\":null,\"view\":{\"id\":\"5775\",\"type\":\"CDSView\"}},\"id\":\"5774\",\"type\":\"GlyphRenderer\"},{\"attributes\":{\"active_drag\":\"auto\",\"active_inspect\":\"auto\",\"active_multi\":null,\"active_scroll\":\"auto\",\"active_tap\":\"auto\",\"tools\":[{\"id\":\"5758\",\"type\":\"PanTool\"},{\"id\":\"5759\",\"type\":\"WheelZoomTool\"},{\"id\":\"5760\",\"type\":\"BoxZoomTool\"},{\"id\":\"5761\",\"type\":\"SaveTool\"},{\"id\":\"5762\",\"type\":\"ResetTool\"},{\"id\":\"5763\",\"type\":\"HelpTool\"}]},\"id\":\"5764\",\"type\":\"Toolbar\"},{\"attributes\":{},\"id\":\"5982\",\"type\":\"BasicTickFormatter\"},{\"attributes\":{\"fill_alpha\":{\"value\":0.1},\"fill_color\":{\"value\":\"#1f77b4\"},\"line_alpha\":{\"value\":0.1},\"line_color\":{\"value\":\"#1f77b4\"},\"size\":{\"units\":\"screen\",\"value\":10},\"x\":{\"field\":\"x\"},\"y\":{\"field\":\"y\"}},\"id\":\"5773\",\"type\":\"Circle\"},{\"attributes\":{},\"id\":\"5987\",\"type\":\"UnionRenderers\"},{\"attributes\":{},\"id\":\"5984\",\"type\":\"BasicTickFormatter\"},{\"attributes\":{\"fill_color\":{\"value\":\"olive\"},\"line_color\":{\"value\":\"olive\"},\"size\":{\"units\":\"screen\",\"value\":10},\"x\":{\"field\":\"x\"},\"y\":{\"field\":\"y\"}},\"id\":\"5772\",\"type\":\"Circle\"},{\"attributes\":{},\"id\":\"5986\",\"type\":\"Selection\"},{\"attributes\":{},\"id\":\"5763\",\"type\":\"HelpTool\"},{\"attributes\":{\"dimension\":1,\"ticker\":{\"id\":\"5754\",\"type\":\"BasicTicker\"}},\"id\":\"5757\",\"type\":\"Grid\"},{\"attributes\":{},\"id\":\"5762\",\"type\":\"ResetTool\"},{\"attributes\":{},\"id\":\"5754\",\"type\":\"BasicTicker\"},{\"attributes\":{\"text\":\"\"},\"id\":\"5980\",\"type\":\"Title\"},{\"attributes\":{},\"id\":\"5761\",\"type\":\"SaveTool\"},{\"attributes\":{\"overlay\":{\"id\":\"5988\",\"type\":\"BoxAnnotation\"}},\"id\":\"5760\",\"type\":\"BoxZoomTool\"},{\"attributes\":{\"callback\":null,\"data\":{\"x\":[2,5,8],\"y\":[4,7,6]},\"selected\":{\"id\":\"5986\",\"type\":\"Selection\"},\"selection_policy\":{\"id\":\"5987\",\"type\":\"UnionRenderers\"}},\"id\":\"5771\",\"type\":\"ColumnDataSource\"},{\"attributes\":{},\"id\":\"5759\",\"type\":\"WheelZoomTool\"},{\"attributes\":{},\"id\":\"5758\",\"type\":\"PanTool\"},{\"attributes\":{\"callback\":null,\"end\":10},\"id\":\"5740\",\"type\":\"Range1d\"},{\"attributes\":{\"text\":\"Second Point\",\"text_baseline\":\"middle\",\"x\":5,\"x_offset\":12,\"y\":7},\"id\":\"5776\",\"type\":\"Label\"}],\"root_ids\":[\"5739\"]},\"title\":\"Bokeh Application\",\"version\":\"1.2.0\"}};\n",
       "  var render_items = [{\"docid\":\"bfdd79b4-eb8f-4e48-93de-16f77d78a3d4\",\"roots\":{\"5739\":\"d5140521-f028-436b-8ef4-0f3ab21aca32\"}}];\n",
       "  root.Bokeh.embed.embed_items_notebook(docs_json, render_items);\n",
       "\n",
       "  }\n",
       "  if (root.Bokeh !== undefined) {\n",
       "    embed_document(root);\n",
       "  } else {\n",
       "    var attempts = 0;\n",
       "    var timer = setInterval(function(root) {\n",
       "      if (root.Bokeh !== undefined) {\n",
       "        embed_document(root);\n",
       "        clearInterval(timer);\n",
       "      }\n",
       "      attempts++;\n",
       "      if (attempts > 100) {\n",
       "        console.log(\"Bokeh: ERROR: Unable to run BokehJS code because BokehJS library is missing\");\n",
       "        clearInterval(timer);\n",
       "      }\n",
       "    }, 10, root)\n",
       "  }\n",
       "})(window);"
      ],
      "application/vnd.bokehjs_exec.v0+json": ""
     },
     "metadata": {
      "application/vnd.bokehjs_exec.v0+json": {
       "id": "5739"
      }
     },
     "output_type": "display_data"
    }
   ],
   "source": [
    "from bokeh.models.annotations import Label\n",
    "from bokeh.plotting import figure\n",
    "\n",
    "p = figure(x_range=(0,10), y_range=(0,10))\n",
    "p.circle([2, 5, 8], [4, 7, 6], color=\"olive\", size=10)\n",
    "\n",
    "label = Label(x=5, y=7, x_offset=12, text=\"Second Point\", text_baseline=\"middle\")\n",
    "p.add_layout(label)\n",
    "\n",
    "show(p)"
   ]
  },
  {
   "cell_type": "markdown",
   "metadata": {},
   "source": [
    "## LabelSet\n",
    "\n",
    "The `LabelSet` annotation allows you to create many labels at once, for instance if you want to label an entire set of scatter markers. They are similar to `Label`, but they can also \n",
    "accept a `ColumnDataSource` as the `source` property, and then `x` and `y` may refer to columns in the data source, e.g. `x=\"col2\"` (but may also still be fixed values, e.g. `x=10`)."
   ]
  },
  {
   "cell_type": "code",
   "execution_count": 34,
   "metadata": {},
   "outputs": [
    {
     "data": {
      "text/html": [
       "\n",
       "\n",
       "\n",
       "\n",
       "\n",
       "\n",
       "  <div class=\"bk-root\" id=\"3908403b-6298-45dc-82ec-f75db55d3e5e\" data-root-id=\"6044\"></div>\n"
      ]
     },
     "metadata": {},
     "output_type": "display_data"
    },
    {
     "data": {
      "application/javascript": [
       "(function(root) {\n",
       "  function embed_document(root) {\n",
       "    \n",
       "  var docs_json = {\"95ab2736-9708-479a-999a-c06c3b74dc89\":{\"roots\":{\"references\":[{\"attributes\":{\"below\":[{\"id\":\"6053\",\"type\":\"LinearAxis\"}],\"center\":[{\"id\":\"6057\",\"type\":\"Grid\"},{\"id\":\"6062\",\"type\":\"Grid\"},{\"id\":\"6081\",\"type\":\"LabelSet\"}],\"left\":[{\"id\":\"6058\",\"type\":\"LinearAxis\"}],\"renderers\":[{\"id\":\"6079\",\"type\":\"GlyphRenderer\"}],\"title\":{\"id\":\"6295\",\"type\":\"Title\"},\"toolbar\":{\"id\":\"6069\",\"type\":\"Toolbar\"},\"x_range\":{\"id\":\"6045\",\"type\":\"Range1d\"},\"x_scale\":{\"id\":\"6049\",\"type\":\"LinearScale\"},\"y_range\":{\"id\":\"6047\",\"type\":\"DataRange1d\"},\"y_scale\":{\"id\":\"6051\",\"type\":\"LinearScale\"}},\"id\":\"6044\",\"subtype\":\"Figure\",\"type\":\"Plot\"},{\"attributes\":{\"overlay\":{\"id\":\"6303\",\"type\":\"BoxAnnotation\"}},\"id\":\"6065\",\"type\":\"BoxZoomTool\"},{\"attributes\":{},\"id\":\"6066\",\"type\":\"SaveTool\"},{\"attributes\":{\"callback\":null,\"data\":{\"names\":[\"A\",\"B\",\"C\",\"D\",\"E\",\"F\"],\"pressure\":[165,189,220,141,260,174],\"temp\":[166,171,172,168,174,162]},\"selected\":{\"id\":\"6301\",\"type\":\"Selection\"},\"selection_policy\":{\"id\":\"6302\",\"type\":\"UnionRenderers\"}},\"id\":\"6043\",\"type\":\"ColumnDataSource\"},{\"attributes\":{},\"id\":\"6067\",\"type\":\"ResetTool\"},{\"attributes\":{},\"id\":\"6068\",\"type\":\"HelpTool\"},{\"attributes\":{\"callback\":null,\"end\":175,\"start\":160},\"id\":\"6045\",\"type\":\"Range1d\"},{\"attributes\":{\"active_drag\":\"auto\",\"active_inspect\":\"auto\",\"active_multi\":null,\"active_scroll\":\"auto\",\"active_tap\":\"auto\",\"tools\":[{\"id\":\"6063\",\"type\":\"PanTool\"},{\"id\":\"6064\",\"type\":\"WheelZoomTool\"},{\"id\":\"6065\",\"type\":\"BoxZoomTool\"},{\"id\":\"6066\",\"type\":\"SaveTool\"},{\"id\":\"6067\",\"type\":\"ResetTool\"},{\"id\":\"6068\",\"type\":\"HelpTool\"}]},\"id\":\"6069\",\"type\":\"Toolbar\"},{\"attributes\":{\"callback\":null},\"id\":\"6047\",\"type\":\"DataRange1d\"},{\"attributes\":{},\"id\":\"6049\",\"type\":\"LinearScale\"},{\"attributes\":{\"data_source\":{\"id\":\"6043\",\"type\":\"ColumnDataSource\"},\"glyph\":{\"id\":\"6077\",\"type\":\"Scatter\"},\"hover_glyph\":null,\"muted_glyph\":null,\"nonselection_glyph\":{\"id\":\"6078\",\"type\":\"Scatter\"},\"selection_glyph\":null,\"view\":{\"id\":\"6080\",\"type\":\"CDSView\"}},\"id\":\"6079\",\"type\":\"GlyphRenderer\"},{\"attributes\":{},\"id\":\"6051\",\"type\":\"LinearScale\"},{\"attributes\":{\"source\":{\"id\":\"6043\",\"type\":\"ColumnDataSource\"}},\"id\":\"6080\",\"type\":\"CDSView\"},{\"attributes\":{\"axis_label\":\"Temperature (C)\",\"formatter\":{\"id\":\"6299\",\"type\":\"BasicTickFormatter\"},\"ticker\":{\"id\":\"6054\",\"type\":\"BasicTicker\"}},\"id\":\"6053\",\"type\":\"LinearAxis\"},{\"attributes\":{\"text\":\"\"},\"id\":\"6295\",\"type\":\"Title\"},{\"attributes\":{},\"id\":\"6054\",\"type\":\"BasicTicker\"},{\"attributes\":{\"ticker\":{\"id\":\"6054\",\"type\":\"BasicTicker\"}},\"id\":\"6057\",\"type\":\"Grid\"},{\"attributes\":{},\"id\":\"6299\",\"type\":\"BasicTickFormatter\"},{\"attributes\":{\"axis_label\":\"Pressure (lbs)\",\"formatter\":{\"id\":\"6297\",\"type\":\"BasicTickFormatter\"},\"ticker\":{\"id\":\"6059\",\"type\":\"BasicTicker\"}},\"id\":\"6058\",\"type\":\"LinearAxis\"},{\"attributes\":{},\"id\":\"6059\",\"type\":\"BasicTicker\"},{\"attributes\":{},\"id\":\"6297\",\"type\":\"BasicTickFormatter\"},{\"attributes\":{\"dimension\":1,\"ticker\":{\"id\":\"6059\",\"type\":\"BasicTicker\"}},\"id\":\"6062\",\"type\":\"Grid\"},{\"attributes\":{},\"id\":\"6301\",\"type\":\"Selection\"},{\"attributes\":{\"fill_color\":{\"value\":\"#1f77b4\"},\"line_color\":{\"value\":\"#1f77b4\"},\"size\":{\"units\":\"screen\",\"value\":8},\"x\":{\"field\":\"temp\"},\"y\":{\"field\":\"pressure\"}},\"id\":\"6077\",\"type\":\"Scatter\"},{\"attributes\":{},\"id\":\"6302\",\"type\":\"UnionRenderers\"},{\"attributes\":{\"level\":\"glyph\",\"source\":{\"id\":\"6043\",\"type\":\"ColumnDataSource\"},\"text\":{\"field\":\"names\"},\"x\":{\"field\":\"temp\"},\"x_offset\":{\"value\":5},\"y\":{\"field\":\"pressure\"},\"y_offset\":{\"value\":5}},\"id\":\"6081\",\"type\":\"LabelSet\"},{\"attributes\":{\"bottom_units\":\"screen\",\"fill_alpha\":{\"value\":0.5},\"fill_color\":{\"value\":\"lightgrey\"},\"left_units\":\"screen\",\"level\":\"overlay\",\"line_alpha\":{\"value\":1.0},\"line_color\":{\"value\":\"black\"},\"line_dash\":[4,4],\"line_width\":{\"value\":2},\"render_mode\":\"css\",\"right_units\":\"screen\",\"top_units\":\"screen\"},\"id\":\"6303\",\"type\":\"BoxAnnotation\"},{\"attributes\":{\"fill_alpha\":{\"value\":0.1},\"fill_color\":{\"value\":\"#1f77b4\"},\"line_alpha\":{\"value\":0.1},\"line_color\":{\"value\":\"#1f77b4\"},\"size\":{\"units\":\"screen\",\"value\":8},\"x\":{\"field\":\"temp\"},\"y\":{\"field\":\"pressure\"}},\"id\":\"6078\",\"type\":\"Scatter\"},{\"attributes\":{},\"id\":\"6063\",\"type\":\"PanTool\"},{\"attributes\":{},\"id\":\"6064\",\"type\":\"WheelZoomTool\"}],\"root_ids\":[\"6044\"]},\"title\":\"Bokeh Application\",\"version\":\"1.2.0\"}};\n",
       "  var render_items = [{\"docid\":\"95ab2736-9708-479a-999a-c06c3b74dc89\",\"roots\":{\"6044\":\"3908403b-6298-45dc-82ec-f75db55d3e5e\"}}];\n",
       "  root.Bokeh.embed.embed_items_notebook(docs_json, render_items);\n",
       "\n",
       "  }\n",
       "  if (root.Bokeh !== undefined) {\n",
       "    embed_document(root);\n",
       "  } else {\n",
       "    var attempts = 0;\n",
       "    var timer = setInterval(function(root) {\n",
       "      if (root.Bokeh !== undefined) {\n",
       "        embed_document(root);\n",
       "        clearInterval(timer);\n",
       "      }\n",
       "      attempts++;\n",
       "      if (attempts > 100) {\n",
       "        console.log(\"Bokeh: ERROR: Unable to run BokehJS code because BokehJS library is missing\");\n",
       "        clearInterval(timer);\n",
       "      }\n",
       "    }, 10, root)\n",
       "  }\n",
       "})(window);"
      ],
      "application/vnd.bokehjs_exec.v0+json": ""
     },
     "metadata": {
      "application/vnd.bokehjs_exec.v0+json": {
       "id": "6044"
      }
     },
     "output_type": "display_data"
    }
   ],
   "source": [
    "from bokeh.plotting import figure\n",
    "from bokeh.models import ColumnDataSource, LabelSet\n",
    "\n",
    "\n",
    "source = ColumnDataSource(data=dict(\n",
    "    temp=[166, 171, 172, 168, 174, 162],\n",
    "    pressure=[165, 189, 220, 141, 260, 174],\n",
    "    names=['A', 'B', 'C', 'D', 'E', 'F']))\n",
    "\n",
    "p = figure(x_range=(160, 175))\n",
    "p.scatter(x='temp', y='pressure', size=8, source=source)\n",
    "p.xaxis.axis_label = 'Temperature (C)'\n",
    "p.yaxis.axis_label = 'Pressure (lbs)'\n",
    "\n",
    "labels = LabelSet(x='temp', y='pressure', text='names', level='glyph',\n",
    "                  x_offset=5, y_offset=5, source=source, render_mode='canvas')\n",
    "\n",
    "\n",
    "p.add_layout(labels)\n",
    "\n",
    "show(p)"
   ]
  },
  {
   "cell_type": "markdown",
   "metadata": {},
   "source": [
    "## Legends\n",
    "\n",
    "When plots have multiple glyphs, it is desirable to include a legend to help users interpret what they see. Bokeh can generate legends easily based on the glyphs that are added. "
   ]
  },
  {
   "cell_type": "markdown",
   "metadata": {},
   "source": [
    "### Simple Legends\n",
    "\n",
    "In the simplest case, you can simply pass a string as the `legend` argument to a glyph function:\n",
    "```python\n",
    "p.circle(x, y, legend=\"sin(x)\")\n",
    "``` \n",
    "In this case Bokeh will automatically create a legend that shows a representation of that glyph, labeled by the test you provided. A full example is below."
   ]
  },
  {
   "cell_type": "code",
   "execution_count": 35,
   "metadata": {},
   "outputs": [
    {
     "data": {
      "text/html": [
       "\n",
       "\n",
       "\n",
       "\n",
       "\n",
       "\n",
       "  <div class=\"bk-root\" id=\"3c6dd1aa-97de-4d48-a02f-3a502f39146c\" data-root-id=\"6358\"></div>\n"
      ]
     },
     "metadata": {},
     "output_type": "display_data"
    },
    {
     "data": {
      "application/javascript": [
       "(function(root) {\n",
       "  function embed_document(root) {\n",
       "    \n",
       "  var docs_json = {\"aa3b5af6-5e6e-4507-98d9-683ca18edd07\":{\"roots\":{\"references\":[{\"attributes\":{\"below\":[{\"id\":\"6367\",\"type\":\"LinearAxis\"}],\"center\":[{\"id\":\"6371\",\"type\":\"Grid\"},{\"id\":\"6376\",\"type\":\"Grid\"},{\"id\":\"6402\",\"type\":\"Legend\"}],\"left\":[{\"id\":\"6372\",\"type\":\"LinearAxis\"}],\"plot_height\":400,\"renderers\":[{\"id\":\"6393\",\"type\":\"GlyphRenderer\"},{\"id\":\"6407\",\"type\":\"GlyphRenderer\"}],\"title\":{\"id\":\"6395\",\"type\":\"Title\"},\"toolbar\":{\"id\":\"6383\",\"type\":\"Toolbar\"},\"x_range\":{\"id\":\"6359\",\"type\":\"DataRange1d\"},\"x_scale\":{\"id\":\"6363\",\"type\":\"LinearScale\"},\"y_range\":{\"id\":\"6361\",\"type\":\"DataRange1d\"},\"y_scale\":{\"id\":\"6365\",\"type\":\"LinearScale\"}},\"id\":\"6358\",\"subtype\":\"Figure\",\"type\":\"Plot\"},{\"attributes\":{\"dimension\":1,\"ticker\":{\"id\":\"6373\",\"type\":\"BasicTicker\"}},\"id\":\"6376\",\"type\":\"Grid\"},{\"attributes\":{},\"id\":\"6381\",\"type\":\"ResetTool\"},{\"attributes\":{\"formatter\":{\"id\":\"6397\",\"type\":\"BasicTickFormatter\"},\"ticker\":{\"id\":\"6373\",\"type\":\"BasicTicker\"}},\"id\":\"6372\",\"type\":\"LinearAxis\"},{\"attributes\":{},\"id\":\"6399\",\"type\":\"BasicTickFormatter\"},{\"attributes\":{\"data_source\":{\"id\":\"6390\",\"type\":\"ColumnDataSource\"},\"glyph\":{\"id\":\"6391\",\"type\":\"Circle\"},\"hover_glyph\":null,\"muted_glyph\":null,\"nonselection_glyph\":{\"id\":\"6392\",\"type\":\"Circle\"},\"selection_glyph\":null,\"view\":{\"id\":\"6394\",\"type\":\"CDSView\"}},\"id\":\"6393\",\"type\":\"GlyphRenderer\"},{\"attributes\":{\"ticker\":{\"id\":\"6368\",\"type\":\"BasicTicker\"}},\"id\":\"6371\",\"type\":\"Grid\"},{\"attributes\":{\"items\":[{\"id\":\"6403\",\"type\":\"LegendItem\"},{\"id\":\"6418\",\"type\":\"LegendItem\"}]},\"id\":\"6402\",\"type\":\"Legend\"},{\"attributes\":{\"text\":\"\"},\"id\":\"6395\",\"type\":\"Title\"},{\"attributes\":{\"active_drag\":\"auto\",\"active_inspect\":\"auto\",\"active_multi\":null,\"active_scroll\":\"auto\",\"active_tap\":\"auto\",\"tools\":[{\"id\":\"6377\",\"type\":\"PanTool\"},{\"id\":\"6378\",\"type\":\"WheelZoomTool\"},{\"id\":\"6379\",\"type\":\"BoxZoomTool\"},{\"id\":\"6380\",\"type\":\"SaveTool\"},{\"id\":\"6381\",\"type\":\"ResetTool\"},{\"id\":\"6382\",\"type\":\"HelpTool\"}]},\"id\":\"6383\",\"type\":\"Toolbar\"},{\"attributes\":{\"label\":{\"value\":\"sin(x)\"},\"renderers\":[{\"id\":\"6393\",\"type\":\"GlyphRenderer\"}]},\"id\":\"6403\",\"type\":\"LegendItem\"},{\"attributes\":{},\"id\":\"6382\",\"type\":\"HelpTool\"},{\"attributes\":{},\"id\":\"6368\",\"type\":\"BasicTicker\"},{\"attributes\":{\"formatter\":{\"id\":\"6399\",\"type\":\"BasicTickFormatter\"},\"ticker\":{\"id\":\"6368\",\"type\":\"BasicTicker\"}},\"id\":\"6367\",\"type\":\"LinearAxis\"},{\"attributes\":{\"source\":{\"id\":\"6390\",\"type\":\"ColumnDataSource\"}},\"id\":\"6394\",\"type\":\"CDSView\"},{\"attributes\":{\"line_color\":\"orange\",\"line_dash\":[4,4],\"line_width\":2,\"x\":{\"field\":\"x\"},\"y\":{\"field\":\"y\"}},\"id\":\"6405\",\"type\":\"Line\"},{\"attributes\":{},\"id\":\"6365\",\"type\":\"LinearScale\"},{\"attributes\":{\"line_alpha\":0.1,\"line_color\":\"#1f77b4\",\"line_dash\":[4,4],\"line_width\":2,\"x\":{\"field\":\"x\"},\"y\":{\"field\":\"y\"}},\"id\":\"6406\",\"type\":\"Line\"},{\"attributes\":{},\"id\":\"6397\",\"type\":\"BasicTickFormatter\"},{\"attributes\":{},\"id\":\"6378\",\"type\":\"WheelZoomTool\"},{\"attributes\":{\"label\":{\"value\":\"2*sin(x)\"},\"renderers\":[{\"id\":\"6407\",\"type\":\"GlyphRenderer\"}]},\"id\":\"6418\",\"type\":\"LegendItem\"},{\"attributes\":{},\"id\":\"6363\",\"type\":\"LinearScale\"},{\"attributes\":{},\"id\":\"6648\",\"type\":\"Selection\"},{\"attributes\":{},\"id\":\"6416\",\"type\":\"UnionRenderers\"},{\"attributes\":{\"callback\":null},\"id\":\"6361\",\"type\":\"DataRange1d\"},{\"attributes\":{\"data_source\":{\"id\":\"6404\",\"type\":\"ColumnDataSource\"},\"glyph\":{\"id\":\"6405\",\"type\":\"Line\"},\"hover_glyph\":null,\"muted_glyph\":null,\"nonselection_glyph\":{\"id\":\"6406\",\"type\":\"Line\"},\"selection_glyph\":null,\"view\":{\"id\":\"6408\",\"type\":\"CDSView\"}},\"id\":\"6407\",\"type\":\"GlyphRenderer\"},{\"attributes\":{\"callback\":null},\"id\":\"6359\",\"type\":\"DataRange1d\"},{\"attributes\":{\"callback\":null,\"data\":{\"x\":{\"__ndarray__\":\"AAAAAAAAAACRGkt8Vz/AP5EaS3xXP9A/2qdwOgNf2D+RGkt8Vz/gPzXhXVstT+Q/2qdwOgNf6D9+boMZ2W7sP5EaS3xXP/A/433Ua0JH8j814V1bLU/0P4dE50oYV/Y/2qdwOgNf+D8sC/op7mb6P35ugxnZbvw/0NEMCcR2/j+RGkt8Vz8AQDrMD/RMQwFA433Ua0JHAkCML5njN0sDQDXhXVstTwRA3pIi0yJTBUCHROdKGFcGQDD2q8INWwdA2qdwOgNfCECDWTWy+GIJQCwL+inuZgpA1by+oeNqC0B+boMZ2W4MQCcgSJHOcg1A0NEMCcR2DkB5g9GAuXoPQJEaS3xXPxBAZnMtOFLBEEA6zA/0TEMRQA8l8q9HxRFA433Ua0JHEkC41rYnPckSQIwvmeM3SxNAYYh7nzLNE0A14V1bLU8UQAo6QBco0RRA3pIi0yJTFUCz6wSPHdUVQIdE50oYVxZAXJ3JBhPZFkAw9qvCDVsXQAVPjn4I3RdA2qdwOgNfGECuAFP2/eAYQINZNbL4YhlAV7IXbvPkGUAsC/op7mYaQABk3OXo6BpA1by+oeNqG0CpFaFd3uwbQH5ugxnZbhxAUsdl1dPwHEAnIEiRznIdQPt4Kk3J9B1A0NEMCcR2HkCkKu/EvvgeQHmD0YC5eh9ATdyzPLT8H0CRGkt8Vz8gQPtGPNpUgCBAZnMtOFLBIEDQnx6WTwIhQDrMD/RMQyFApPgAUkqEIUAPJfKvR8UhQHlR4w1FBiJA433Ua0JHIkBNqsXJP4giQLjWtic9ySJAIgOohToKI0CML5njN0sjQPZbikE1jCNAYYh7nzLNI0DLtGz9Lw4kQDXhXVstTyRAoA1PuSqQJEAKOkAXKNEkQHRmMXUlEiVA3pIi0yJTJUBJvxMxIJQlQLPrBI8d1SVAHRj27BoWJkCHROdKGFcmQPJw2KgVmCZAXJ3JBhPZJkDGybpkEBonQDD2q8INWydAmyKdIAucJ0AFT45+CN0nQG97f9wFHihA2qdwOgNfKEBE1GGYAKAoQK4AU/b94ChAGC1EVPshKUA=\",\"dtype\":\"float64\",\"shape\":[100]},\"y\":{\"__ndarray__\":\"AAAAAAAAAADwgwJ4LjTAP5qI2QHPEtA/+5MNU1HJ1z8ZTT7q2B3fP0aFmgwa+eI/ABg/lCAV5j+IQCEcMdboP3fOhmLzMOs/EyzujrQb7T/9Izwlj47uPxccgYyLg+8/g6xao7j27z9mZrL8O+bvP7+X94FZUu8/xVNiW3I97j9RB8Ai+6vsP5FWKYlppOo/oig6uxkv6D/Sh2bxK1blPyZGRbpaJeI/8qg+VZVT3T/4C4p0qOPVP+UppLIiM8w/3FNHxZdVuD/I23zJpD6gv+3ENsZjOcS/wo12/ecH0r/egWKM2KjZv2MTsJELcOC/83ixWvXH47+258MBZM7mv5eCD4nhdum/rExY6Hq267+TIxAn7YPtvwSssILL1+6/70I4BJ6s77/vOc8G+P7vvzTGy1KGze+/3176khQZ77/C8a4NiuTtvzGcHq/dNOy/mEFFlgER6r+EGZN4xoHnvx8WPFK3keS/Cli7+O1M4b+HQNqEwoHbv9kfIiFb+NO/gKyggGI5yL8EhrXMjDywvyCGtcyMPLA/jqyggGI5yD/gHyIhW/jTP4BA2oTCgds/Dli7+O1M4T8cFjxSt5HkP4cZk3jGgec/lEFFlgER6j8ynB6v3TTsP8Hxrg2K5O0/4F76khQZ7z80xstShs3vP+85zwb4/u8/8EI4BJ6s7z8DrLCCy9fuP5UjECftg+0/p0xY6Hq26z+Vgg+J4XbpP7fnwwFkzuY/9nixWvXH4z9cE7CRC3DgP9eBYozYqNk/w412/ecH0j/+xDbGYznEP0/bfMmkPqA/+VNHxZdVuL/UKaSyIjPMv+gLinSo49W/+Kg+VZVT3b8mRkW6WiXiv8+HZvErVuW/pig6uxkv6L+TVimJaaTqv1EHwCL7q+y/xFNiW3I97r/Al/eBWVLvv2Zmsvw75u+/g6xao7j2778YHIGMi4Pvv/sjPCWPju6/EyzujrQb7b94zoZi8zDrv4xAIRwx1ui//Bc/lCAV5r9GhZoMGvnivx5NPurYHd+/65MNU1HJ17+SiNkBzxLQv/GDAnguNMC/B1wUMyamwbw=\",\"dtype\":\"float64\",\"shape\":[100]}},\"selected\":{\"id\":\"6415\",\"type\":\"Selection\"},\"selection_policy\":{\"id\":\"6416\",\"type\":\"UnionRenderers\"}},\"id\":\"6390\",\"type\":\"ColumnDataSource\"},{\"attributes\":{\"source\":{\"id\":\"6404\",\"type\":\"ColumnDataSource\"}},\"id\":\"6408\",\"type\":\"CDSView\"},{\"attributes\":{},\"id\":\"6415\",\"type\":\"Selection\"},{\"attributes\":{\"fill_alpha\":{\"value\":0.1},\"fill_color\":{\"value\":\"#1f77b4\"},\"line_alpha\":{\"value\":0.1},\"line_color\":{\"value\":\"#1f77b4\"},\"x\":{\"field\":\"x\"},\"y\":{\"field\":\"y\"}},\"id\":\"6392\",\"type\":\"Circle\"},{\"attributes\":{\"bottom_units\":\"screen\",\"fill_alpha\":{\"value\":0.5},\"fill_color\":{\"value\":\"lightgrey\"},\"left_units\":\"screen\",\"level\":\"overlay\",\"line_alpha\":{\"value\":1.0},\"line_color\":{\"value\":\"black\"},\"line_dash\":[4,4],\"line_width\":{\"value\":2},\"render_mode\":\"css\",\"right_units\":\"screen\",\"top_units\":\"screen\"},\"id\":\"6401\",\"type\":\"BoxAnnotation\"},{\"attributes\":{\"callback\":null,\"data\":{\"x\":{\"__ndarray__\":\"AAAAAAAAAACRGkt8Vz/AP5EaS3xXP9A/2qdwOgNf2D+RGkt8Vz/gPzXhXVstT+Q/2qdwOgNf6D9+boMZ2W7sP5EaS3xXP/A/433Ua0JH8j814V1bLU/0P4dE50oYV/Y/2qdwOgNf+D8sC/op7mb6P35ugxnZbvw/0NEMCcR2/j+RGkt8Vz8AQDrMD/RMQwFA433Ua0JHAkCML5njN0sDQDXhXVstTwRA3pIi0yJTBUCHROdKGFcGQDD2q8INWwdA2qdwOgNfCECDWTWy+GIJQCwL+inuZgpA1by+oeNqC0B+boMZ2W4MQCcgSJHOcg1A0NEMCcR2DkB5g9GAuXoPQJEaS3xXPxBAZnMtOFLBEEA6zA/0TEMRQA8l8q9HxRFA433Ua0JHEkC41rYnPckSQIwvmeM3SxNAYYh7nzLNE0A14V1bLU8UQAo6QBco0RRA3pIi0yJTFUCz6wSPHdUVQIdE50oYVxZAXJ3JBhPZFkAw9qvCDVsXQAVPjn4I3RdA2qdwOgNfGECuAFP2/eAYQINZNbL4YhlAV7IXbvPkGUAsC/op7mYaQABk3OXo6BpA1by+oeNqG0CpFaFd3uwbQH5ugxnZbhxAUsdl1dPwHEAnIEiRznIdQPt4Kk3J9B1A0NEMCcR2HkCkKu/EvvgeQHmD0YC5eh9ATdyzPLT8H0CRGkt8Vz8gQPtGPNpUgCBAZnMtOFLBIEDQnx6WTwIhQDrMD/RMQyFApPgAUkqEIUAPJfKvR8UhQHlR4w1FBiJA433Ua0JHIkBNqsXJP4giQLjWtic9ySJAIgOohToKI0CML5njN0sjQPZbikE1jCNAYYh7nzLNI0DLtGz9Lw4kQDXhXVstTyRAoA1PuSqQJEAKOkAXKNEkQHRmMXUlEiVA3pIi0yJTJUBJvxMxIJQlQLPrBI8d1SVAHRj27BoWJkCHROdKGFcmQPJw2KgVmCZAXJ3JBhPZJkDGybpkEBonQDD2q8INWydAmyKdIAucJ0AFT45+CN0nQG97f9wFHihA2qdwOgNfKEBE1GGYAKAoQK4AU/b94ChAGC1EVPshKUA=\",\"dtype\":\"float64\",\"shape\":[100]},\"y\":{\"__ndarray__\":\"AAAAAAAAAADwgwJ4LjTQP5qI2QHPEuA/+5MNU1HJ5z8ZTT7q2B3vP0aFmgwa+fI/ABg/lCAV9j+IQCEcMdb4P3fOhmLzMPs/EyzujrQb/T/9Izwlj47+PxccgYyLg/8/g6xao7j2/z9mZrL8O+b/P7+X94FZUv8/xVNiW3I9/j9RB8Ai+6v8P5FWKYlppPo/oig6uxkv+D/Sh2bxK1b1PyZGRbpaJfI/8qg+VZVT7T/4C4p0qOPlP+UppLIiM9w/3FNHxZdVyD/I23zJpD6wv+3ENsZjOdS/wo12/ecH4r/egWKM2Kjpv2MTsJELcPC/83ixWvXH87+258MBZM72v5eCD4nhdvm/rExY6Hq2+7+TIxAn7YP9vwSssILL1/6/70I4BJ6s/7/vOc8G+P7/vzTGy1KGzf+/3176khQZ/7/C8a4NiuT9vzGcHq/dNPy/mEFFlgER+r+EGZN4xoH3vx8WPFK3kfS/Cli7+O1M8b+HQNqEwoHrv9kfIiFb+OO/gKyggGI52L8EhrXMjDzAvyCGtcyMPMA/jqyggGI52D/gHyIhW/jjP4BA2oTCges/Dli7+O1M8T8cFjxSt5H0P4cZk3jGgfc/lEFFlgER+j8ynB6v3TT8P8Hxrg2K5P0/4F76khQZ/z80xstShs3/P+85zwb4/v8/8EI4BJ6s/z8DrLCCy9f+P5UjECftg/0/p0xY6Hq2+z+Vgg+J4Xb5P7fnwwFkzvY/9nixWvXH8z9cE7CRC3DwP9eBYozYqOk/w412/ecH4j/+xDbGYznUP0/bfMmkPrA/+VNHxZdVyL/UKaSyIjPcv+gLinSo4+W/+Kg+VZVT7b8mRkW6WiXyv8+HZvErVvW/pig6uxkv+L+TVimJaaT6v1EHwCL7q/y/xFNiW3I9/r/Al/eBWVL/v2Zmsvw75v+/g6xao7j2/78YHIGMi4P/v/sjPCWPjv6/EyzujrQb/b94zoZi8zD7v4xAIRwx1vi//Bc/lCAV9r9GhZoMGvnyvx5NPurYHe+/65MNU1HJ57+SiNkBzxLgv/GDAnguNNC/B1wUMyam0bw=\",\"dtype\":\"float64\",\"shape\":[100]}},\"selected\":{\"id\":\"6648\",\"type\":\"Selection\"},\"selection_policy\":{\"id\":\"6649\",\"type\":\"UnionRenderers\"}},\"id\":\"6404\",\"type\":\"ColumnDataSource\"},{\"attributes\":{},\"id\":\"6377\",\"type\":\"PanTool\"},{\"attributes\":{},\"id\":\"6380\",\"type\":\"SaveTool\"},{\"attributes\":{\"overlay\":{\"id\":\"6401\",\"type\":\"BoxAnnotation\"}},\"id\":\"6379\",\"type\":\"BoxZoomTool\"},{\"attributes\":{\"fill_color\":{\"value\":\"#1f77b4\"},\"line_color\":{\"value\":\"#1f77b4\"},\"x\":{\"field\":\"x\"},\"y\":{\"field\":\"y\"}},\"id\":\"6391\",\"type\":\"Circle\"},{\"attributes\":{},\"id\":\"6649\",\"type\":\"UnionRenderers\"},{\"attributes\":{},\"id\":\"6373\",\"type\":\"BasicTicker\"}],\"root_ids\":[\"6358\"]},\"title\":\"Bokeh Application\",\"version\":\"1.2.0\"}};\n",
       "  var render_items = [{\"docid\":\"aa3b5af6-5e6e-4507-98d9-683ca18edd07\",\"roots\":{\"6358\":\"3c6dd1aa-97de-4d48-a02f-3a502f39146c\"}}];\n",
       "  root.Bokeh.embed.embed_items_notebook(docs_json, render_items);\n",
       "\n",
       "  }\n",
       "  if (root.Bokeh !== undefined) {\n",
       "    embed_document(root);\n",
       "  } else {\n",
       "    var attempts = 0;\n",
       "    var timer = setInterval(function(root) {\n",
       "      if (root.Bokeh !== undefined) {\n",
       "        embed_document(root);\n",
       "        clearInterval(timer);\n",
       "      }\n",
       "      attempts++;\n",
       "      if (attempts > 100) {\n",
       "        console.log(\"Bokeh: ERROR: Unable to run BokehJS code because BokehJS library is missing\");\n",
       "        clearInterval(timer);\n",
       "      }\n",
       "    }, 10, root)\n",
       "  }\n",
       "})(window);"
      ],
      "application/vnd.bokehjs_exec.v0+json": ""
     },
     "metadata": {
      "application/vnd.bokehjs_exec.v0+json": {
       "id": "6358"
      }
     },
     "output_type": "display_data"
    }
   ],
   "source": [
    "import numpy as np\n",
    "\n",
    "x = np.linspace(0, 4*np.pi, 100)\n",
    "y = np.sin(x)\n",
    "\n",
    "p = figure(height=400)\n",
    "\n",
    "p.circle(x, y, legend=\"sin(x)\")\n",
    "p.line(x, 2*y, legend=\"2*sin(x)\", line_dash=[4, 4], line_color=\"orange\", line_width=2)\n",
    "\n",
    "show(p)"
   ]
  },
  {
   "cell_type": "markdown",
   "metadata": {},
   "source": [
    "### Compound legends\n",
    "\n",
    "In the example above, we provided a different legend label to each glyph method. Sometimes, two (or more) different glyphs are used with a single data source. In this case, you can make compound legends by specifying the same legend argument to multiple glyph methods when creating a plot, for example, if you plot a `sin` curve with both a line and a marker, you may give them the same label to cause them to show up together in the legend:\n",
    "\n",
    "```python\n",
    "p.circle(x, y, legend=\"sin(x)\")\n",
    "p.line(x, y, legend=\"sin(x)\", line_dash=[4, 4], line_color=\"orange\", line_width=2)\n",
    "```\n"
   ]
  },
  {
   "cell_type": "markdown",
   "metadata": {},
   "source": [
    "## Color bars\n",
    "\n",
    "Color bars are especially useful if we vary the color of a glyph according to some color mapping. Bokeh color bars are configured with a color mappewr and added to plots with the `add_layout` method:\n",
    "```python\n",
    "color_mapper = LinearColorMapper(palette=\"Viridis256\", low=data_low, high=data_high)\n",
    "color_bar = ColorBar(color_mapper=color_mapper, location=(0,0))\n",
    "p.add_layout(color_bar, 'right')\n",
    "```\n",
    "The example below shows a complete example that also uses the color mapper to transform the glyph color."
   ]
  },
  {
   "cell_type": "code",
   "execution_count": 36,
   "metadata": {},
   "outputs": [
    {
     "data": {
      "text/html": [
       "\n",
       "\n",
       "\n",
       "\n",
       "\n",
       "\n",
       "  <div class=\"bk-root\" id=\"e3171e52-f85d-4542-bb0c-5fa7ce6b50b1\" data-root-id=\"6719\"></div>\n"
      ]
     },
     "metadata": {},
     "output_type": "display_data"
    },
    {
     "data": {
      "application/javascript": [
       "(function(root) {\n",
       "  function embed_document(root) {\n",
       "    \n",
       "  var docs_json = {\"13a1b3c5-4005-4c24-86da-9e11d3b828dd\":{\"roots\":{\"references\":[{\"attributes\":{\"below\":[{\"id\":\"6728\",\"type\":\"LinearAxis\"}],\"center\":[{\"id\":\"6732\",\"type\":\"Grid\"},{\"id\":\"6737\",\"type\":\"Grid\"}],\"left\":[{\"id\":\"6733\",\"type\":\"LinearAxis\"}],\"renderers\":[{\"id\":\"6743\",\"type\":\"GlyphRenderer\"}],\"right\":[{\"id\":\"6745\",\"type\":\"ColorBar\"}],\"title\":{\"id\":\"6978\",\"type\":\"Title\"},\"toolbar\":{\"id\":\"6738\",\"type\":\"Toolbar\"},\"toolbar_location\":null,\"x_range\":{\"id\":\"6720\",\"type\":\"DataRange1d\"},\"x_scale\":{\"id\":\"6724\",\"type\":\"LinearScale\"},\"y_range\":{\"id\":\"6722\",\"type\":\"DataRange1d\"},\"y_scale\":{\"id\":\"6726\",\"type\":\"LinearScale\"}},\"id\":\"6719\",\"subtype\":\"Figure\",\"type\":\"Plot\"},{\"attributes\":{\"data_source\":{\"id\":\"6739\",\"type\":\"ColumnDataSource\"},\"glyph\":{\"id\":\"6741\",\"type\":\"Circle\"},\"hover_glyph\":null,\"muted_glyph\":null,\"nonselection_glyph\":{\"id\":\"6742\",\"type\":\"Circle\"},\"selection_glyph\":null,\"view\":{\"id\":\"6744\",\"type\":\"CDSView\"}},\"id\":\"6743\",\"type\":\"GlyphRenderer\"},{\"attributes\":{\"fill_alpha\":{\"value\":0.1},\"fill_color\":{\"value\":\"#1f77b4\"},\"line_alpha\":{\"value\":0.1},\"line_color\":{\"value\":\"#1f77b4\"},\"size\":{\"units\":\"screen\",\"value\":20},\"x\":{\"field\":\"hp\"},\"y\":{\"field\":\"mpg\"}},\"id\":\"6742\",\"type\":\"Circle\"},{\"attributes\":{\"text\":\"\"},\"id\":\"6978\",\"type\":\"Title\"},{\"attributes\":{\"source\":{\"id\":\"6739\",\"type\":\"ColumnDataSource\"}},\"id\":\"6744\",\"type\":\"CDSView\"},{\"attributes\":{},\"id\":\"6724\",\"type\":\"LinearScale\"},{\"attributes\":{\"callback\":null},\"id\":\"6722\",\"type\":\"DataRange1d\"},{\"attributes\":{\"callback\":null},\"id\":\"6720\",\"type\":\"DataRange1d\"},{\"attributes\":{},\"id\":\"6981\",\"type\":\"BasicTicker\"},{\"attributes\":{\"color_mapper\":{\"id\":\"6718\",\"type\":\"LinearColorMapper\"},\"formatter\":{\"id\":\"6980\",\"type\":\"BasicTickFormatter\"},\"label_standoff\":12,\"location\":[0,0],\"ticker\":{\"id\":\"6981\",\"type\":\"BasicTicker\"},\"title\":\"Weight\"},\"id\":\"6745\",\"type\":\"ColorBar\"},{\"attributes\":{\"callback\":null,\"data\":{\"accel\":{\"__ndarray__\":\"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\",\"dtype\":\"float64\",\"shape\":[392]},\"cyl\":[8,8,8,8,8,8,8,8,8,8,8,8,8,8,4,6,6,6,4,4,4,4,4,4,6,8,8,8,8,4,4,4,6,6,6,6,6,8,8,8,8,8,8,8,6,4,6,6,4,4,4,4,4,4,4,4,4,4,4,4,4,8,8,8,8,8,8,8,8,8,3,8,8,8,8,4,4,4,4,4,4,4,4,4,8,8,8,8,8,8,8,8,8,8,8,8,6,6,6,6,6,4,8,8,8,8,6,4,4,4,3,4,6,4,8,8,4,4,4,4,8,4,6,8,6,6,6,4,4,4,4,6,6,6,8,8,8,8,8,4,4,4,4,4,4,4,4,4,4,4,6,6,6,6,8,8,8,8,6,6,6,6,6,8,8,4,4,6,4,4,4,4,6,4,6,4,4,4,4,4,4,4,4,4,4,8,8,8,8,6,6,6,6,4,4,4,4,6,6,6,6,4,4,4,4,4,8,4,6,6,8,8,8,8,4,4,4,4,4,8,8,8,8,6,6,6,6,8,8,8,8,4,4,4,4,4,4,4,4,6,4,3,4,4,4,4,4,8,8,8,6,6,6,4,6,6,6,6,6,6,8,6,8,8,4,4,4,4,4,4,4,4,5,6,4,6,4,4,6,6,4,6,6,8,8,8,8,8,8,8,8,4,4,4,4,5,8,4,8,4,4,4,4,4,6,6,4,4,4,4,4,4,4,4,6,4,4,4,4,4,4,4,4,4,4,5,4,4,4,4,6,3,4,4,4,4,4,6,4,4,4,4,4,4,4,4,4,4,4,4,4,4,4,4,4,6,6,6,6,8,6,6,4,4,4,4,4,4,4,4,4,4,4,4,4,4,4,4,4,4,6,6,4,6,4,4,4,4,4,4,4,4],\"displ\":{\"__ndarray__\":\"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\",\"dtype\":\"float64\",\"shape\":[392]},\"hp\":[130,165,150,150,140,198,220,215,225,190,170,160,150,225,95,95,97,85,88,46,87,90,95,113,90,215,200,210,193,88,90,95,100,105,100,88,100,165,175,153,150,180,170,175,110,72,100,88,86,90,70,76,65,69,60,70,95,80,54,90,86,165,175,150,153,150,208,155,160,190,97,150,130,140,150,112,76,87,69,86,92,97,80,88,175,150,145,137,150,198,150,158,150,215,225,175,105,100,100,88,95,46,150,167,170,180,100,88,72,94,90,85,107,90,145,230,49,75,91,112,150,110,122,180,95,100,100,67,80,65,75,100,110,105,140,150,150,140,150,83,67,78,52,61,75,75,75,97,93,67,95,105,72,72,170,145,150,148,110,105,110,95,110,110,129,75,83,100,78,96,71,97,97,70,90,95,88,98,115,53,86,81,92,79,83,140,150,120,152,100,105,81,90,52,60,70,53,100,78,110,95,71,70,75,72,102,150,88,108,120,180,145,130,150,68,80,58,96,70,145,110,145,130,110,105,100,98,180,170,190,149,78,88,75,89,63,83,67,78,97,110,110,48,66,52,70,60,110,140,139,105,95,85,88,100,90,105,85,110,120,145,165,139,140,68,95,97,75,95,105,85,97,103,125,115,133,71,68,115,85,88,90,110,130,129,138,135,155,142,125,150,71,65,80,80,77,125,71,90,70,70,65,69,90,115,115,90,76,60,70,65,90,88,90,90,78,90,75,92,75,65,105,65,48,48,67,67,67,67,62,132,100,88,72,84,84,92,110,84,58,64,60,67,65,62,68,63,65,65,74,75,75,100,74,80,76,116,120,110,105,88,85,88,88,88,85,84,90,92,74,68,68,63,70,88,75,70,67,67,67,110,85,92,112,96,84,90,86,52,84,79,82],\"index\":[0,1,2,3,4,5,6,7,8,9,10,11,12,13,14,15,16,17,18,19,20,21,22,23,24,25,26,27,28,29,30,31,32,33,34,35,36,37,38,39,40,41,42,43,44,45,46,47,48,49,50,51,52,53,54,55,56,57,58,59,60,61,62,63,64,65,66,67,68,69,70,71,72,73,74,75,76,77,78,79,80,81,82,83,84,85,86,87,88,89,90,91,92,93,94,95,96,97,98,99,100,101,102,103,104,105,106,107,108,109,110,111,112,113,114,115,116,117,118,119,120,121,122,123,124,125,126,127,128,129,130,131,132,133,134,135,136,137,138,139,140,141,142,143,144,145,146,147,148,149,150,151,152,153,154,155,156,157,158,159,160,161,162,163,164,165,166,167,168,169,170,171,172,173,174,175,176,177,178,179,180,181,182,183,184,185,186,187,188,189,190,191,192,193,194,195,196,197,198,199,200,201,202,203,204,205,206,207,208,209,210,211,212,213,214,215,216,217,218,219,220,221,222,223,224,225,226,227,228,229,230,231,232,233,234,235,236,237,238,239,240,241,242,243,244,245,246,247,248,249,250,251,252,253,254,255,256,257,258,259,260,261,262,263,264,265,266,267,268,269,270,271,272,273,274,275,276,277,278,279,280,281,282,283,284,285,286,287,288,289,290,291,292,293,294,295,296,297,298,299,300,301,302,303,304,305,306,307,308,309,310,311,312,313,314,315,316,317,318,319,320,321,322,323,324,325,326,327,328,329,330,331,332,333,334,335,336,337,338,339,340,341,342,343,344,345,346,347,348,349,350,351,352,353,354,355,356,357,358,359,360,361,362,363,364,365,366,367,368,369,370,371,372,373,374,375,376,377,378,379,380,381,382,383,384,385,386,387,388,389,390,391],\"mpg\":{\"__ndarray__\":\"AAAAAAAAMkAAAAAAAAAuQAAAAAAAADJAAAAAAAAAMEAAAAAAAAAxQAAAAAAAAC5AAAAAAAAALEAAAAAAAAAsQAAAAAAAACxAAAAAAAAALkAAAAAAAAAuQAAAAAAAACxAAAAAAAAALkAAAAAAAAAsQAAAAAAAADhAAAAAAAAANkAAAAAAAAAyQAAAAAAAADVAAAAAAAAAO0AAAAAAAAA6QAAAAAAAADlAAAAAAAAAOEAAAAAAAAA5QAAAAAAAADpAAAAAAAAANUAAAAAAAAAkQAAAAAAAACRAAAAAAAAAJkAAAAAAAAAiQAAAAAAAADtAAAAAAAAAPEAAAAAAAAA5QAAAAAAAADNAAAAAAAAAMEAAAAAAAAAxQAAAAAAAADNAAAAAAAAAMkAAAAAAAAAsQAAAAAAAACxAAAAAAAAALEAAAAAAAAAsQAAAAAAAAChAAAAAAAAAKkAAAAAAAAAqQAAAAAAAADJAAAAAAAAANkAAAAAAAAAzQAAAAAAAADJAAAAAAAAAN0AAAAAAAAA8QAAAAAAAAD5AAAAAAAAAPkAAAAAAAAA/QAAAAAAAgEFAAAAAAAAAO0AAAAAAAAA6QAAAAAAAADhAAAAAAAAAOUAAAAAAAAA3QAAAAAAAADRAAAAAAAAANUAAAAAAAAAqQAAAAAAAACxAAAAAAAAALkAAAAAAAAAsQAAAAAAAADFAAAAAAAAAJkAAAAAAAAAqQAAAAAAAAChAAAAAAAAAKkAAAAAAAAAzQAAAAAAAAC5AAAAAAAAAKkAAAAAAAAAqQAAAAAAAACxAAAAAAAAAMkAAAAAAAAA2QAAAAAAAADVAAAAAAAAAOkAAAAAAAAA2QAAAAAAAADxAAAAAAAAAN0AAAAAAAAA8QAAAAAAAADtAAAAAAAAAKkAAAAAAAAAsQAAAAAAAACpAAAAAAAAALEAAAAAAAAAuQAAAAAAAAChAAAAAAAAAKkAAAAAAAAAqQAAAAAAAACxAAAAAAAAAKkAAAAAAAAAoQAAAAAAAACpAAAAAAAAAMkAAAAAAAAAwQAAAAAAAADJAAAAAAAAAMkAAAAAAAAA3QAAAAAAAADpAAAAAAAAAJkAAAAAAAAAoQAAAAAAAACpAAAAAAAAAKEAAAAAAAAAyQAAAAAAAADRAAAAAAAAANUAAAAAAAAA2QAAAAAAAADJAAAAAAAAAM0AAAAAAAAA1QAAAAAAAADpAAAAAAAAALkAAAAAAAAAwQAAAAAAAAD1AAAAAAAAAOEAAAAAAAAA0QAAAAAAAADNAAAAAAAAALkAAAAAAAAA4QAAAAAAAADRAAAAAAAAAJkAAAAAAAAA0QAAAAAAAADNAAAAAAAAALkAAAAAAAAA/QAAAAAAAADpAAAAAAAAAQEAAAAAAAAA5QAAAAAAAADBAAAAAAAAAMEAAAAAAAAAyQAAAAAAAADBAAAAAAAAAKkAAAAAAAAAsQAAAAAAAACxAAAAAAAAALEAAAAAAAAA9QAAAAAAAADpAAAAAAAAAOkAAAAAAAAA/QAAAAAAAAEBAAAAAAAAAPEAAAAAAAAA4QAAAAAAAADpAAAAAAAAAOEAAAAAAAAA6QAAAAAAAAD9AAAAAAAAAM0AAAAAAAAAyQAAAAAAAAC5AAAAAAAAALkAAAAAAAAAwQAAAAAAAAC5AAAAAAAAAMEAAAAAAAAAsQAAAAAAAADFAAAAAAAAAMEAAAAAAAAAuQAAAAAAAADJAAAAAAAAANUAAAAAAAAA0QAAAAAAAACpAAAAAAAAAPUAAAAAAAAA3QAAAAAAAADRAAAAAAAAAN0AAAAAAAAA4QAAAAAAAADlAAAAAAAAAOEAAAAAAAAAyQAAAAAAAAD1AAAAAAAAAM0AAAAAAAAA3QAAAAAAAADdAAAAAAAAANkAAAAAAAAA5QAAAAAAAgEBAAAAAAAAAPEAAAAAAAAA5QAAAAAAAADlAAAAAAAAAOkAAAAAAAAA7QAAAAAAAgDFAAAAAAAAAMEAAAAAAAAAvQAAAAAAAAC1AAAAAAAAANkAAAAAAAAA2QAAAAAAAADhAAAAAAACANkAAAAAAAAA9QAAAAAAAgDhAAAAAAAAAPUAAAAAAAIBAQAAAAAAAADRAAAAAAAAAMkAAAAAAAIAyQAAAAAAAgDFAAAAAAACAPUAAAAAAAABAQAAAAAAAADxAAAAAAACAOkAAAAAAAAA0QAAAAAAAACpAAAAAAAAAM0AAAAAAAAAzQAAAAAAAgDBAAAAAAACAMEAAAAAAAAAqQAAAAAAAACpAAAAAAAAAKkAAAAAAAIA/QAAAAAAAAD5AAAAAAAAAQkAAAAAAAIA5QAAAAAAAwEBAAAAAAACAMUAAAAAAAAAxQAAAAAAAAC9AAAAAAAAALkAAAAAAAIAxQAAAAAAAgDRAAAAAAAAAM0AAAAAAAIAyQAAAAAAAADBAAAAAAAAAL0AAAAAAAAAvQAAAAAAAADBAAAAAAAAAPUAAAAAAAIA4QAAAAAAAADpAAAAAAACAOUAAAAAAAIA+QAAAAAAAwEBAAAAAAAAAPkAAAAAAAIA+QAAAAAAAADZAAAAAAACANUAAAAAAAIA1QM3MzMzMjEVAzczMzMwMQkBmZmZmZmZAQDMzMzMzs0NAzczMzMwMQkBmZmZmZuYzQGZmZmZmZjNAMzMzMzMzNEAzMzMzMzMzQAAAAAAAgDRAMzMzMzMzNECamZmZmRk5QAAAAAAAgDRAZmZmZmZmM0CamZmZmZk0QM3MzMzMzDRAmpmZmZmZMkCamZmZmRkyQDMzMzMzMzNAMzMzMzOzMUCamZmZmRkyQAAAAAAAgDFAAAAAAAAAPkAAAAAAAIA7QDMzMzMzMztAZmZmZmbmPkCamZmZmRk1QDMzMzMzMzdAzczMzMzMN0BmZmZmZuY3QM3MzMzMTDRAAAAAAAAAMUCamZmZmZk1QDMzMzMzMzBAAAAAAACAP0AAAAAAAIA9QAAAAAAAgDVAzczMzMzMM0DNzMzMzEw2QDMzMzMzMzRAmpmZmZmZNEAAAAAAAAAxQJqZmZmZmTFAAAAAAACAMEAzMzMzMzMyQGZmZmZm5jBAAAAAAAAAL0AzMzMzMzMzQAAAAAAAgDJAZmZmZmbmP0DNzMzMzAxBQJqZmZmZ2UFAZmZmZmZmO0BmZmZmZmY5QAAAAAAAADdAMzMzMzMzO0BmZmZmZuY3QJqZmZmZGUFAAAAAAABAQUDNzMzMzMw/QGZmZmZmpkJAZmZmZmZmPEDNzMzMzMw8QM3MzMzMzDpAAAAAAADAQEAAAAAAAMBEQM3MzMzMDENAzczMzMwMQECamZmZmZlCQAAAAAAAADxAZmZmZmZmOkDNzMzMzEw4QJqZmZmZGTNAZmZmZmYmQUDNzMzMzMw9QM3MzMzMTD9AAAAAAACAQkCamZmZmRlAQM3MzMzMTEdAZmZmZmbmO0BmZmZmZmZEQGZmZmZmJkZAMzMzMzOzRUAzMzMzMzNCQAAAAAAAAD5AzczMzMxMRkBmZmZmZuZAQM3MzMzMzD1AmpmZmZlZQEAzMzMzM7M3QAAAAAAAgEFAMzMzMzMzQEAzMzMzMzM7QJqZmZmZmTpAzczMzMzMOUAAAAAAAIA3QAAAAAAAAD5AzczMzMyMQ0AAAAAAAIBDQM3MzMzMjEFAZmZmZmYmQEAAAAAAAIBCQJqZmZmZ2UJAzczMzMwMQUCamZmZmVlBQDMzMzMzM0FAZmZmZmbmPUAAAAAAAIBAQJqZmZmZ2UBAMzMzMzMzQEAzMzMzM3NAQJqZmZmZmT9AmpmZmZkZPEAzMzMzM7M+QGZmZmZmZjlAMzMzMzMzOEBmZmZmZmY2QJqZmZmZmTpAMzMzMzMzNECamZmZmZkxQAAAAAAAADxAAAAAAAAAO0AAAAAAAABBQAAAAAAAAD9AAAAAAAAAPUAAAAAAAAA7QAAAAAAAADhAAAAAAAAAQkAAAAAAAIBCQAAAAAAAAD9AAAAAAAAAQ0AAAAAAAABCQAAAAAAAAEJAAAAAAAAAQkAAAAAAAABBQAAAAAAAAENAAAAAAAAAQEAAAAAAAABDQAAAAAAAADlAAAAAAAAAQ0AAAAAAAAA6QAAAAAAAADZAAAAAAAAAQEAAAAAAAABCQAAAAAAAADtAAAAAAAAAO0AAAAAAAABGQAAAAAAAAEBAAAAAAAAAPEAAAAAAAAA/QA==\",\"dtype\":\"float64\",\"shape\":[392]},\"name\":[\"chevrolet chevelle malibu\",\"buick skylark 320\",\"plymouth satellite\",\"amc rebel sst\",\"ford torino\",\"ford galaxie 500\",\"chevrolet impala\",\"plymouth fury iii\",\"pontiac catalina\",\"amc ambassador dpl\",\"dodge challenger se\",\"plymouth 'cuda 340\",\"chevrolet monte carlo\",\"buick estate wagon (sw)\",\"toyota corona mark ii\",\"plymouth duster\",\"amc hornet\",\"ford maverick\",\"datsun pl510\",\"volkswagen 1131 deluxe sedan\",\"peugeot 504\",\"audi 100 ls\",\"saab 99e\",\"bmw 2002\",\"amc gremlin\",\"ford f250\",\"chevy c20\",\"dodge d200\",\"hi 1200d\",\"datsun pl510\",\"chevrolet vega 2300\",\"toyota corona\",\"amc gremlin\",\"plymouth satellite custom\",\"chevrolet chevelle malibu\",\"ford torino 500\",\"amc matador\",\"chevrolet impala\",\"pontiac catalina brougham\",\"ford galaxie 500\",\"plymouth fury iii\",\"dodge monaco (sw)\",\"ford country squire (sw)\",\"pontiac safari (sw)\",\"amc hornet sportabout (sw)\",\"chevrolet vega (sw)\",\"pontiac firebird\",\"ford mustang\",\"mercury capri 2000\",\"opel 1900\",\"peugeot 304\",\"fiat 124b\",\"toyota corolla 1200\",\"datsun 1200\",\"volkswagen model 111\",\"plymouth cricket\",\"toyota corona hardtop\",\"dodge colt hardtop\",\"volkswagen type 3\",\"chevrolet vega\",\"ford pinto runabout\",\"chevrolet impala\",\"pontiac catalina\",\"plymouth fury iii\",\"ford galaxie 500\",\"amc ambassador sst\",\"mercury marquis\",\"buick lesabre custom\",\"oldsmobile delta 88 royale\",\"chrysler newport royal\",\"mazda rx2 coupe\",\"amc matador (sw)\",\"chevrolet chevelle concours (sw)\",\"ford gran torino (sw)\",\"plymouth satellite custom (sw)\",\"volvo 145e (sw)\",\"volkswagen 411 (sw)\",\"peugeot 504 (sw)\",\"renault 12 (sw)\",\"ford pinto (sw)\",\"datsun 510 (sw)\",\"toyouta corona mark ii (sw)\",\"dodge colt (sw)\",\"toyota corolla 1600 (sw)\",\"buick century 350\",\"amc matador\",\"chevrolet malibu\",\"ford gran torino\",\"dodge coronet custom\",\"mercury marquis brougham\",\"chevrolet caprice classic\",\"ford ltd\",\"plymouth fury gran sedan\",\"chrysler new yorker brougham\",\"buick electra 225 custom\",\"amc ambassador brougham\",\"plymouth valiant\",\"chevrolet nova custom\",\"amc hornet\",\"ford maverick\",\"plymouth duster\",\"volkswagen super beetle\",\"chevrolet impala\",\"ford country\",\"plymouth custom suburb\",\"oldsmobile vista cruiser\",\"amc gremlin\",\"toyota carina\",\"chevrolet vega\",\"datsun 610\",\"maxda rx3\",\"ford pinto\",\"mercury capri v6\",\"fiat 124 sport coupe\",\"chevrolet monte carlo s\",\"pontiac grand prix\",\"fiat 128\",\"opel manta\",\"audi 100ls\",\"volvo 144ea\",\"dodge dart custom\",\"saab 99le\",\"toyota mark ii\",\"oldsmobile omega\",\"plymouth duster\",\"amc hornet\",\"chevrolet nova\",\"datsun b210\",\"ford pinto\",\"toyota corolla 1200\",\"chevrolet vega\",\"chevrolet chevelle malibu classic\",\"amc matador\",\"plymouth satellite sebring\",\"ford gran torino\",\"buick century luxus (sw)\",\"dodge coronet custom (sw)\",\"ford gran torino (sw)\",\"amc matador (sw)\",\"audi fox\",\"volkswagen dasher\",\"opel manta\",\"toyota corona\",\"datsun 710\",\"dodge colt\",\"fiat 128\",\"fiat 124 tc\",\"honda civic\",\"subaru\",\"fiat x1.9\",\"plymouth valiant custom\",\"chevrolet nova\",\"mercury monarch\",\"ford maverick\",\"pontiac catalina\",\"chevrolet bel air\",\"plymouth grand fury\",\"ford ltd\",\"buick century\",\"chevroelt chevelle malibu\",\"amc matador\",\"plymouth fury\",\"buick skyhawk\",\"chevrolet monza 2+2\",\"ford mustang ii\",\"toyota corolla\",\"ford pinto\",\"amc gremlin\",\"pontiac astro\",\"toyota corona\",\"volkswagen dasher\",\"datsun 710\",\"ford pinto\",\"volkswagen rabbit\",\"amc pacer\",\"audi 100ls\",\"peugeot 504\",\"volvo 244dl\",\"saab 99le\",\"honda civic cvcc\",\"fiat 131\",\"opel 1900\",\"capri ii\",\"dodge colt\",\"renault 12tl\",\"chevrolet chevelle malibu classic\",\"dodge coronet brougham\",\"amc matador\",\"ford gran torino\",\"plymouth valiant\",\"chevrolet nova\",\"ford maverick\",\"amc hornet\",\"chevrolet chevette\",\"chevrolet woody\",\"vw rabbit\",\"honda civic\",\"dodge aspen se\",\"ford granada ghia\",\"pontiac ventura sj\",\"amc pacer d/l\",\"volkswagen rabbit\",\"datsun b-210\",\"toyota corolla\",\"ford pinto\",\"volvo 245\",\"plymouth volare premier v8\",\"peugeot 504\",\"toyota mark ii\",\"mercedes-benz 280s\",\"cadillac seville\",\"chevy c10\",\"ford f108\",\"dodge d100\",\"honda accord cvcc\",\"buick opel isuzu deluxe\",\"renault 5 gtl\",\"plymouth arrow gs\",\"datsun f-10 hatchback\",\"chevrolet caprice classic\",\"oldsmobile cutlass supreme\",\"dodge monaco brougham\",\"mercury cougar brougham\",\"chevrolet concours\",\"buick skylark\",\"plymouth volare custom\",\"ford granada\",\"pontiac grand prix lj\",\"chevrolet monte carlo landau\",\"chrysler cordoba\",\"ford thunderbird\",\"volkswagen rabbit custom\",\"pontiac sunbird coupe\",\"toyota corolla liftback\",\"ford mustang ii 2+2\",\"chevrolet chevette\",\"dodge colt m/m\",\"subaru dl\",\"volkswagen dasher\",\"datsun 810\",\"bmw 320i\",\"mazda rx-4\",\"volkswagen rabbit custom diesel\",\"ford fiesta\",\"mazda glc deluxe\",\"datsun b210 gx\",\"honda civic cvcc\",\"oldsmobile cutlass salon brougham\",\"dodge diplomat\",\"mercury monarch ghia\",\"pontiac phoenix lj\",\"chevrolet malibu\",\"ford fairmont (auto)\",\"ford fairmont (man)\",\"plymouth volare\",\"amc concord\",\"buick century special\",\"mercury zephyr\",\"dodge aspen\",\"amc concord d/l\",\"chevrolet monte carlo landau\",\"buick regal sport coupe (turbo)\",\"ford futura\",\"dodge magnum xe\",\"chevrolet chevette\",\"toyota corona\",\"datsun 510\",\"dodge omni\",\"toyota celica gt liftback\",\"plymouth sapporo\",\"oldsmobile starfire sx\",\"datsun 200-sx\",\"audi 5000\",\"volvo 264gl\",\"saab 99gle\",\"peugeot 604sl\",\"volkswagen scirocco\",\"honda accord lx\",\"pontiac lemans v6\",\"mercury zephyr 6\",\"ford fairmont 4\",\"amc concord dl 6\",\"dodge aspen 6\",\"chevrolet caprice classic\",\"ford ltd landau\",\"mercury grand marquis\",\"dodge st. regis\",\"buick estate wagon (sw)\",\"ford country squire (sw)\",\"chevrolet malibu classic (sw)\",\"chrysler lebaron town @ country (sw)\",\"vw rabbit custom\",\"maxda glc deluxe\",\"dodge colt hatchback custom\",\"amc spirit dl\",\"mercedes benz 300d\",\"cadillac eldorado\",\"peugeot 504\",\"oldsmobile cutlass salon brougham\",\"plymouth horizon\",\"plymouth horizon tc3\",\"datsun 210\",\"fiat strada custom\",\"buick skylark limited\",\"chevrolet citation\",\"oldsmobile omega brougham\",\"pontiac phoenix\",\"vw rabbit\",\"toyota corolla tercel\",\"chevrolet chevette\",\"datsun 310\",\"chevrolet citation\",\"ford fairmont\",\"amc concord\",\"dodge aspen\",\"audi 4000\",\"toyota corona liftback\",\"mazda 626\",\"datsun 510 hatchback\",\"toyota corolla\",\"mazda glc\",\"dodge colt\",\"datsun 210\",\"vw rabbit c (diesel)\",\"vw dasher (diesel)\",\"audi 5000s (diesel)\",\"mercedes-benz 240d\",\"honda civic 1500 gl\",\"subaru dl\",\"vokswagen rabbit\",\"datsun 280-zx\",\"mazda rx-7 gs\",\"triumph tr7 coupe\",\"honda accord\",\"plymouth reliant\",\"buick skylark\",\"dodge aries wagon (sw)\",\"chevrolet citation\",\"plymouth reliant\",\"toyota starlet\",\"plymouth champ\",\"honda civic 1300\",\"subaru\",\"datsun 210 mpg\",\"toyota tercel\",\"mazda glc 4\",\"plymouth horizon 4\",\"ford escort 4w\",\"ford escort 2h\",\"volkswagen jetta\",\"honda prelude\",\"toyota corolla\",\"datsun 200sx\",\"mazda 626\",\"peugeot 505s turbo diesel\",\"volvo diesel\",\"toyota cressida\",\"datsun 810 maxima\",\"buick century\",\"oldsmobile cutlass ls\",\"ford granada gl\",\"chrysler lebaron salon\",\"chevrolet cavalier\",\"chevrolet cavalier wagon\",\"chevrolet cavalier 2-door\",\"pontiac j2000 se hatchback\",\"dodge aries se\",\"pontiac phoenix\",\"ford fairmont futura\",\"volkswagen rabbit l\",\"mazda glc custom l\",\"mazda glc custom\",\"plymouth horizon miser\",\"mercury lynx l\",\"nissan stanza xe\",\"honda accord\",\"toyota corolla\",\"honda civic\",\"honda civic (auto)\",\"datsun 310 gx\",\"buick century limited\",\"oldsmobile cutlass ciera (diesel)\",\"chrysler lebaron medallion\",\"ford granada l\",\"toyota celica gt\",\"dodge charger 2.2\",\"chevrolet camaro\",\"ford mustang gl\",\"vw pickup\",\"dodge rampage\",\"ford ranger\",\"chevy s-10\"],\"origin\":[1,1,1,1,1,1,1,1,1,1,1,1,1,1,3,1,1,1,3,2,2,2,2,2,1,1,1,1,1,3,1,3,1,1,1,1,1,1,1,1,1,1,1,1,1,1,1,1,1,2,2,2,3,3,2,1,3,1,2,1,1,1,1,1,1,1,1,1,1,1,3,1,1,1,1,2,2,2,2,1,3,3,1,3,1,1,1,1,1,1,1,1,1,1,1,1,1,1,1,1,1,2,1,1,1,1,1,3,1,3,3,1,1,2,1,1,2,2,2,2,1,2,3,1,1,1,1,3,1,3,1,1,1,1,1,1,1,1,1,2,2,2,3,3,1,2,2,3,3,2,1,1,1,1,1,1,1,1,1,1,1,1,1,1,1,3,1,1,1,3,2,3,1,2,1,2,2,2,2,3,2,2,1,1,2,1,1,1,1,1,1,1,1,1,1,2,3,1,1,1,1,2,3,3,1,2,1,2,3,2,1,1,1,1,3,1,2,1,3,1,1,1,1,1,1,1,1,1,1,1,1,2,1,3,1,1,1,3,2,3,2,3,2,1,3,3,3,1,1,1,1,1,1,1,1,1,1,1,1,1,1,1,1,1,1,3,3,1,3,1,1,3,2,2,2,2,2,3,1,1,1,1,1,1,1,1,1,1,1,1,1,2,3,1,1,2,1,2,1,1,1,3,2,1,1,1,1,2,3,1,3,1,1,1,1,2,3,3,3,3,3,1,3,2,2,2,2,3,3,2,3,3,2,3,1,1,1,1,1,3,1,3,3,3,3,3,1,1,1,2,3,3,3,3,2,2,3,3,1,1,1,1,1,1,1,1,1,1,1,2,3,3,1,1,3,3,3,3,3,3,1,1,1,1,3,1,1,1,2,1,1,1],\"weight\":[3504,3693,3436,3433,3449,4341,4354,4312,4425,3850,3563,3609,3761,3086,2372,2833,2774,2587,2130,1835,2672,2430,2375,2234,2648,4615,4376,4382,4732,2130,2264,2228,2634,3439,3329,3302,3288,4209,4464,4154,4096,4955,4746,5140,2962,2408,3282,3139,2220,2123,2074,2065,1773,1613,1834,1955,2278,2126,2254,2408,2226,4274,4385,4135,4129,3672,4633,4502,4456,4422,2330,3892,4098,4294,4077,2933,2511,2979,2189,2395,2288,2506,2164,2100,4100,3672,3988,4042,3777,4952,4464,4363,4237,4735,4951,3821,3121,3278,2945,3021,2904,1950,4997,4906,4654,4499,2789,2279,2401,2379,2124,2310,2472,2265,4082,4278,1867,2158,2582,2868,3399,2660,2807,3664,3102,2901,3336,1950,2451,1836,2542,3781,3632,3613,4141,4699,4457,4638,4257,2219,1963,2300,1649,2003,2125,2108,2246,2489,2391,2000,3264,3459,3432,3158,4668,4440,4498,4657,3907,3897,3730,3785,3039,3221,3169,2171,2639,2914,2592,2702,2223,2545,2984,1937,3211,2694,2957,2945,2671,1795,2464,2220,2572,2255,2202,4215,4190,3962,4215,3233,3353,3012,3085,2035,2164,1937,1795,3651,3574,3645,3193,1825,1990,2155,2565,3150,3940,3270,2930,3820,4380,4055,3870,3755,2045,2155,1825,2300,1945,3880,4060,4140,4295,3520,3425,3630,3525,4220,4165,4325,4335,1940,2740,2265,2755,2051,2075,1985,2190,2815,2600,2720,1985,1800,1985,2070,1800,3365,3735,3570,3535,3155,2965,2720,3430,3210,3380,3070,3620,3410,3425,3445,3205,4080,2155,2560,2300,2230,2515,2745,2855,2405,2830,3140,2795,3410,1990,2135,3245,2990,2890,3265,3360,3840,3725,3955,3830,4360,4054,3605,3940,1925,1975,1915,2670,3530,3900,3190,3420,2200,2150,2020,2130,2670,2595,2700,2556,2144,1968,2120,2019,2678,2870,3003,3381,2188,2711,2542,2434,2265,2110,2800,2110,2085,2335,2950,3250,1850,2145,1845,2910,2420,2500,2290,2490,2635,2620,2725,2385,1755,1875,1760,2065,1975,2050,1985,2215,2045,2380,2190,2210,2350,2615,2635,3230,3160,2900,2930,3415,3725,3060,3465,2605,2640,2395,2575,2525,2735,2865,1980,2025,1970,2125,2125,2160,2205,2245,1965,1965,1995,2945,3015,2585,2835,2665,2370,2950,2790,2130,2295,2625,2720],\"yr\":[70,70,70,70,70,70,70,70,70,70,70,70,70,70,70,70,70,70,70,70,70,70,70,70,70,70,70,70,70,71,71,71,71,71,71,71,71,71,71,71,71,71,71,71,71,71,71,71,71,71,71,71,71,71,71,71,72,72,72,72,72,72,72,72,72,72,72,72,72,72,72,72,72,72,72,72,72,72,72,72,72,72,72,72,73,73,73,73,73,73,73,73,73,73,73,73,73,73,73,73,73,73,73,73,73,73,73,73,73,73,73,73,73,73,73,73,73,73,73,73,73,73,73,73,74,74,74,74,74,74,74,74,74,74,74,74,74,74,74,74,74,74,74,74,74,74,74,74,74,74,75,75,75,75,75,75,75,75,75,75,75,75,75,75,75,75,75,75,75,75,75,75,75,75,75,75,75,75,75,75,76,76,76,76,76,76,76,76,76,76,76,76,76,76,76,76,76,76,76,76,76,76,76,76,76,76,76,76,76,76,76,76,76,76,77,77,77,77,77,77,77,77,77,77,77,77,77,77,77,77,77,77,77,77,77,77,77,77,77,77,77,77,78,78,78,78,78,78,78,78,78,78,78,78,78,78,78,78,78,78,78,78,78,78,78,78,78,78,78,78,78,78,78,78,78,78,78,78,79,79,79,79,79,79,79,79,79,79,79,79,79,79,79,79,79,79,79,79,79,79,79,79,79,79,79,79,79,80,80,80,80,80,80,80,80,80,80,80,80,80,80,80,80,80,80,80,80,80,80,80,80,80,80,80,81,81,81,81,81,81,81,81,81,81,81,81,81,81,81,81,81,81,81,81,81,81,81,81,81,81,81,81,82,82,82,82,82,82,82,82,82,82,82,82,82,82,82,82,82,82,82,82,82,82,82,82,82,82,82,82,82,82]},\"selected\":{\"id\":\"6986\",\"type\":\"Selection\"},\"selection_policy\":{\"id\":\"6987\",\"type\":\"UnionRenderers\"}},\"id\":\"6739\",\"type\":\"ColumnDataSource\"},{\"attributes\":{},\"id\":\"6982\",\"type\":\"BasicTickFormatter\"},{\"attributes\":{},\"id\":\"6726\",\"type\":\"LinearScale\"},{\"attributes\":{},\"id\":\"6984\",\"type\":\"BasicTickFormatter\"},{\"attributes\":{\"axis_label\":\"Horsepower\",\"formatter\":{\"id\":\"6984\",\"type\":\"BasicTickFormatter\"},\"ticker\":{\"id\":\"6729\",\"type\":\"BasicTicker\"}},\"id\":\"6728\",\"type\":\"LinearAxis\"},{\"attributes\":{},\"id\":\"6986\",\"type\":\"Selection\"},{\"attributes\":{},\"id\":\"6729\",\"type\":\"BasicTicker\"},{\"attributes\":{},\"id\":\"6987\",\"type\":\"UnionRenderers\"},{\"attributes\":{\"ticker\":{\"id\":\"6729\",\"type\":\"BasicTicker\"}},\"id\":\"6732\",\"type\":\"Grid\"},{\"attributes\":{\"axis_label\":\"MPG\",\"formatter\":{\"id\":\"6982\",\"type\":\"BasicTickFormatter\"},\"ticker\":{\"id\":\"6734\",\"type\":\"BasicTicker\"}},\"id\":\"6733\",\"type\":\"LinearAxis\"},{\"attributes\":{},\"id\":\"6734\",\"type\":\"BasicTicker\"},{\"attributes\":{\"dimension\":1,\"ticker\":{\"id\":\"6734\",\"type\":\"BasicTicker\"}},\"id\":\"6737\",\"type\":\"Grid\"},{\"attributes\":{\"active_drag\":\"auto\",\"active_inspect\":\"auto\",\"active_multi\":null,\"active_scroll\":\"auto\",\"active_tap\":\"auto\"},\"id\":\"6738\",\"type\":\"Toolbar\"},{\"attributes\":{},\"id\":\"6980\",\"type\":\"BasicTickFormatter\"},{\"attributes\":{\"high\":5140,\"low\":1613,\"palette\":[\"#440154\",\"#440255\",\"#440357\",\"#450558\",\"#45065A\",\"#45085B\",\"#46095C\",\"#460B5E\",\"#460C5F\",\"#460E61\",\"#470F62\",\"#471163\",\"#471265\",\"#471466\",\"#471567\",\"#471669\",\"#47186A\",\"#48196B\",\"#481A6C\",\"#481C6E\",\"#481D6F\",\"#481E70\",\"#482071\",\"#482172\",\"#482273\",\"#482374\",\"#472575\",\"#472676\",\"#472777\",\"#472878\",\"#472A79\",\"#472B7A\",\"#472C7B\",\"#462D7C\",\"#462F7C\",\"#46307D\",\"#46317E\",\"#45327F\",\"#45347F\",\"#453580\",\"#453681\",\"#443781\",\"#443982\",\"#433A83\",\"#433B83\",\"#433C84\",\"#423D84\",\"#423E85\",\"#424085\",\"#414186\",\"#414286\",\"#404387\",\"#404487\",\"#3F4587\",\"#3F4788\",\"#3E4888\",\"#3E4989\",\"#3D4A89\",\"#3D4B89\",\"#3D4C89\",\"#3C4D8A\",\"#3C4E8A\",\"#3B508A\",\"#3B518A\",\"#3A528B\",\"#3A538B\",\"#39548B\",\"#39558B\",\"#38568B\",\"#38578C\",\"#37588C\",\"#37598C\",\"#365A8C\",\"#365B8C\",\"#355C8C\",\"#355D8C\",\"#345E8D\",\"#345F8D\",\"#33608D\",\"#33618D\",\"#32628D\",\"#32638D\",\"#31648D\",\"#31658D\",\"#31668D\",\"#30678D\",\"#30688D\",\"#2F698D\",\"#2F6A8D\",\"#2E6B8E\",\"#2E6C8E\",\"#2E6D8E\",\"#2D6E8E\",\"#2D6F8E\",\"#2C708E\",\"#2C718E\",\"#2C728E\",\"#2B738E\",\"#2B748E\",\"#2A758E\",\"#2A768E\",\"#2A778E\",\"#29788E\",\"#29798E\",\"#287A8E\",\"#287A8E\",\"#287B8E\",\"#277C8E\",\"#277D8E\",\"#277E8E\",\"#267F8E\",\"#26808E\",\"#26818E\",\"#25828E\",\"#25838D\",\"#24848D\",\"#24858D\",\"#24868D\",\"#23878D\",\"#23888D\",\"#23898D\",\"#22898D\",\"#228A8D\",\"#228B8D\",\"#218C8D\",\"#218D8C\",\"#218E8C\",\"#208F8C\",\"#20908C\",\"#20918C\",\"#1F928C\",\"#1F938B\",\"#1F948B\",\"#1F958B\",\"#1F968B\",\"#1E978A\",\"#1E988A\",\"#1E998A\",\"#1E998A\",\"#1E9A89\",\"#1E9B89\",\"#1E9C89\",\"#1E9D88\",\"#1E9E88\",\"#1E9F88\",\"#1EA087\",\"#1FA187\",\"#1FA286\",\"#1FA386\",\"#20A485\",\"#20A585\",\"#21A685\",\"#21A784\",\"#22A784\",\"#23A883\",\"#23A982\",\"#24AA82\",\"#25AB81\",\"#26AC81\",\"#27AD80\",\"#28AE7F\",\"#29AF7F\",\"#2AB07E\",\"#2BB17D\",\"#2CB17D\",\"#2EB27C\",\"#2FB37B\",\"#30B47A\",\"#32B57A\",\"#33B679\",\"#35B778\",\"#36B877\",\"#38B976\",\"#39B976\",\"#3BBA75\",\"#3DBB74\",\"#3EBC73\",\"#40BD72\",\"#42BE71\",\"#44BE70\",\"#45BF6F\",\"#47C06E\",\"#49C16D\",\"#4BC26C\",\"#4DC26B\",\"#4FC369\",\"#51C468\",\"#53C567\",\"#55C666\",\"#57C665\",\"#59C764\",\"#5BC862\",\"#5EC961\",\"#60C960\",\"#62CA5F\",\"#64CB5D\",\"#67CC5C\",\"#69CC5B\",\"#6BCD59\",\"#6DCE58\",\"#70CE56\",\"#72CF55\",\"#74D054\",\"#77D052\",\"#79D151\",\"#7CD24F\",\"#7ED24E\",\"#81D34C\",\"#83D34B\",\"#86D449\",\"#88D547\",\"#8BD546\",\"#8DD644\",\"#90D643\",\"#92D741\",\"#95D73F\",\"#97D83E\",\"#9AD83C\",\"#9DD93A\",\"#9FD938\",\"#A2DA37\",\"#A5DA35\",\"#A7DB33\",\"#AADB32\",\"#ADDC30\",\"#AFDC2E\",\"#B2DD2C\",\"#B5DD2B\",\"#B7DD29\",\"#BADE27\",\"#BDDE26\",\"#BFDF24\",\"#C2DF22\",\"#C5DF21\",\"#C7E01F\",\"#CAE01E\",\"#CDE01D\",\"#CFE11C\",\"#D2E11B\",\"#D4E11A\",\"#D7E219\",\"#DAE218\",\"#DCE218\",\"#DFE318\",\"#E1E318\",\"#E4E318\",\"#E7E419\",\"#E9E419\",\"#ECE41A\",\"#EEE51B\",\"#F1E51C\",\"#F3E51E\",\"#F6E61F\",\"#F8E621\",\"#FAE622\",\"#FDE724\"]},\"id\":\"6718\",\"type\":\"LinearColorMapper\"},{\"attributes\":{\"fill_alpha\":{\"value\":0.6},\"fill_color\":{\"field\":\"weight\",\"transform\":{\"id\":\"6718\",\"type\":\"LinearColorMapper\"}},\"line_alpha\":{\"value\":0.6},\"line_color\":{\"field\":\"weight\",\"transform\":{\"id\":\"6718\",\"type\":\"LinearColorMapper\"}},\"size\":{\"units\":\"screen\",\"value\":20},\"x\":{\"field\":\"hp\"},\"y\":{\"field\":\"mpg\"}},\"id\":\"6741\",\"type\":\"Circle\"}],\"root_ids\":[\"6719\"]},\"title\":\"Bokeh Application\",\"version\":\"1.2.0\"}};\n",
       "  var render_items = [{\"docid\":\"13a1b3c5-4005-4c24-86da-9e11d3b828dd\",\"roots\":{\"6719\":\"e3171e52-f85d-4542-bb0c-5fa7ce6b50b1\"}}];\n",
       "  root.Bokeh.embed.embed_items_notebook(docs_json, render_items);\n",
       "\n",
       "  }\n",
       "  if (root.Bokeh !== undefined) {\n",
       "    embed_document(root);\n",
       "  } else {\n",
       "    var attempts = 0;\n",
       "    var timer = setInterval(function(root) {\n",
       "      if (root.Bokeh !== undefined) {\n",
       "        embed_document(root);\n",
       "        clearInterval(timer);\n",
       "      }\n",
       "      attempts++;\n",
       "      if (attempts > 100) {\n",
       "        console.log(\"Bokeh: ERROR: Unable to run BokehJS code because BokehJS library is missing\");\n",
       "        clearInterval(timer);\n",
       "      }\n",
       "    }, 10, root)\n",
       "  }\n",
       "})(window);"
      ],
      "application/vnd.bokehjs_exec.v0+json": ""
     },
     "metadata": {
      "application/vnd.bokehjs_exec.v0+json": {
       "id": "6719"
      }
     },
     "output_type": "display_data"
    }
   ],
   "source": [
    "from bokeh.sampledata.autompg import autompg\n",
    "from bokeh.models import LinearColorMapper, ColorBar\n",
    "from bokeh.transform import transform\n",
    "\n",
    "source = ColumnDataSource(autompg)\n",
    "color_mapper = LinearColorMapper(palette=\"Viridis256\", low=autompg.weight.min(), high=autompg.weight.max())\n",
    "\n",
    "p = figure(x_axis_label='Horsepower', y_axis_label='MPG', tools='', toolbar_location=None)\n",
    "p.circle(x='hp', y='mpg', color=transform('weight', color_mapper), size=20, alpha=0.6, source=autompg)\n",
    "\n",
    "color_bar = ColorBar(color_mapper=color_mapper, label_standoff=12, location=(0,0), title='Weight')\n",
    "p.add_layout(color_bar, 'right')\n",
    "\n",
    "show(p)"
   ]
  },
  {
   "cell_type": "markdown",
   "metadata": {},
   "source": [
    "# Configuring tools"
   ]
  },
  {
   "cell_type": "code",
   "execution_count": 37,
   "metadata": {},
   "outputs": [
    {
     "data": {
      "text/html": [
       "\n",
       "\n",
       "\n",
       "\n",
       "\n",
       "\n",
       "  <div class=\"bk-root\" id=\"f10596cd-e0d7-4a6f-a0f2-64145745898d\" data-root-id=\"7048\"></div>\n"
      ]
     },
     "metadata": {},
     "output_type": "display_data"
    },
    {
     "data": {
      "application/javascript": [
       "(function(root) {\n",
       "  function embed_document(root) {\n",
       "    \n",
       "  var docs_json = {\"e4eeafe1-2d78-4888-b21f-0285c6153a31\":{\"roots\":{\"references\":[{\"attributes\":{\"below\":[{\"id\":\"7058\",\"type\":\"LinearAxis\"}],\"center\":[{\"id\":\"7062\",\"type\":\"Grid\"},{\"id\":\"7067\",\"type\":\"Grid\"}],\"left\":[{\"id\":\"7063\",\"type\":\"LinearAxis\"}],\"plot_height\":400,\"plot_width\":400,\"renderers\":[{\"id\":\"7084\",\"type\":\"GlyphRenderer\"}],\"title\":null,\"toolbar\":{\"id\":\"7074\",\"type\":\"Toolbar\"},\"toolbar_location\":\"below\",\"x_range\":{\"id\":\"7050\",\"type\":\"DataRange1d\"},\"x_scale\":{\"id\":\"7054\",\"type\":\"LinearScale\"},\"y_range\":{\"id\":\"7052\",\"type\":\"DataRange1d\"},\"y_scale\":{\"id\":\"7056\",\"type\":\"LinearScale\"}},\"id\":\"7048\",\"subtype\":\"Figure\",\"type\":\"Plot\"},{\"attributes\":{},\"id\":\"7056\",\"type\":\"LinearScale\"},{\"attributes\":{},\"id\":\"7334\",\"type\":\"UnionRenderers\"},{\"attributes\":{},\"id\":\"7054\",\"type\":\"LinearScale\"},{\"attributes\":{\"bottom_units\":\"screen\",\"fill_alpha\":{\"value\":0.5},\"fill_color\":{\"value\":\"lightgrey\"},\"left_units\":\"screen\",\"level\":\"overlay\",\"line_alpha\":{\"value\":1.0},\"line_color\":{\"value\":\"black\"},\"line_dash\":[4,4],\"line_width\":{\"value\":2},\"render_mode\":\"css\",\"right_units\":\"screen\",\"top_units\":\"screen\"},\"id\":\"7335\",\"type\":\"BoxAnnotation\"},{\"attributes\":{\"source\":{\"id\":\"7081\",\"type\":\"ColumnDataSource\"}},\"id\":\"7085\",\"type\":\"CDSView\"},{\"attributes\":{\"callback\":null},\"id\":\"7052\",\"type\":\"DataRange1d\"},{\"attributes\":{\"callback\":null,\"data\":{\"x\":[1,2,3,4,5],\"y\":[2,5,8,2,7]},\"selected\":{\"id\":\"7333\",\"type\":\"Selection\"},\"selection_policy\":{\"id\":\"7334\",\"type\":\"UnionRenderers\"}},\"id\":\"7081\",\"type\":\"ColumnDataSource\"},{\"attributes\":{\"callback\":null},\"id\":\"7050\",\"type\":\"DataRange1d\"},{\"attributes\":{},\"id\":\"7071\",\"type\":\"SaveTool\"},{\"attributes\":{\"overlay\":{\"id\":\"7335\",\"type\":\"BoxAnnotation\"}},\"id\":\"7070\",\"type\":\"BoxZoomTool\"},{\"attributes\":{},\"id\":\"7069\",\"type\":\"WheelZoomTool\"},{\"attributes\":{},\"id\":\"7068\",\"type\":\"PanTool\"},{\"attributes\":{\"fill_alpha\":{\"value\":0.1},\"fill_color\":{\"value\":\"#1f77b4\"},\"line_alpha\":{\"value\":0.1},\"line_color\":{\"value\":\"#1f77b4\"},\"size\":{\"units\":\"screen\",\"value\":10},\"x\":{\"field\":\"x\"},\"y\":{\"field\":\"y\"}},\"id\":\"7083\",\"type\":\"Circle\"},{\"attributes\":{\"data_source\":{\"id\":\"7081\",\"type\":\"ColumnDataSource\"},\"glyph\":{\"id\":\"7082\",\"type\":\"Circle\"},\"hover_glyph\":null,\"muted_glyph\":null,\"nonselection_glyph\":{\"id\":\"7083\",\"type\":\"Circle\"},\"selection_glyph\":null,\"view\":{\"id\":\"7085\",\"type\":\"CDSView\"}},\"id\":\"7084\",\"type\":\"GlyphRenderer\"},{\"attributes\":{\"fill_color\":{\"value\":\"#1f77b4\"},\"line_color\":{\"value\":\"#1f77b4\"},\"size\":{\"units\":\"screen\",\"value\":10},\"x\":{\"field\":\"x\"},\"y\":{\"field\":\"y\"}},\"id\":\"7082\",\"type\":\"Circle\"},{\"attributes\":{},\"id\":\"7329\",\"type\":\"BasicTickFormatter\"},{\"attributes\":{\"dimension\":1,\"ticker\":{\"id\":\"7064\",\"type\":\"BasicTicker\"}},\"id\":\"7067\",\"type\":\"Grid\"},{\"attributes\":{},\"id\":\"7064\",\"type\":\"BasicTicker\"},{\"attributes\":{},\"id\":\"7331\",\"type\":\"BasicTickFormatter\"},{\"attributes\":{},\"id\":\"7333\",\"type\":\"Selection\"},{\"attributes\":{\"formatter\":{\"id\":\"7329\",\"type\":\"BasicTickFormatter\"},\"ticker\":{\"id\":\"7064\",\"type\":\"BasicTicker\"}},\"id\":\"7063\",\"type\":\"LinearAxis\"},{\"attributes\":{\"active_drag\":\"auto\",\"active_inspect\":\"auto\",\"active_multi\":null,\"active_scroll\":\"auto\",\"active_tap\":\"auto\",\"tools\":[{\"id\":\"7068\",\"type\":\"PanTool\"},{\"id\":\"7069\",\"type\":\"WheelZoomTool\"},{\"id\":\"7070\",\"type\":\"BoxZoomTool\"},{\"id\":\"7071\",\"type\":\"SaveTool\"},{\"id\":\"7072\",\"type\":\"ResetTool\"},{\"id\":\"7073\",\"type\":\"HelpTool\"}]},\"id\":\"7074\",\"type\":\"Toolbar\"},{\"attributes\":{},\"id\":\"7073\",\"type\":\"HelpTool\"},{\"attributes\":{\"ticker\":{\"id\":\"7059\",\"type\":\"BasicTicker\"}},\"id\":\"7062\",\"type\":\"Grid\"},{\"attributes\":{},\"id\":\"7072\",\"type\":\"ResetTool\"},{\"attributes\":{},\"id\":\"7059\",\"type\":\"BasicTicker\"},{\"attributes\":{\"formatter\":{\"id\":\"7331\",\"type\":\"BasicTickFormatter\"},\"ticker\":{\"id\":\"7059\",\"type\":\"BasicTicker\"}},\"id\":\"7058\",\"type\":\"LinearAxis\"}],\"root_ids\":[\"7048\"]},\"title\":\"Bokeh Application\",\"version\":\"1.2.0\"}};\n",
       "  var render_items = [{\"docid\":\"e4eeafe1-2d78-4888-b21f-0285c6153a31\",\"roots\":{\"7048\":\"f10596cd-e0d7-4a6f-a0f2-64145745898d\"}}];\n",
       "  root.Bokeh.embed.embed_items_notebook(docs_json, render_items);\n",
       "\n",
       "  }\n",
       "  if (root.Bokeh !== undefined) {\n",
       "    embed_document(root);\n",
       "  } else {\n",
       "    var attempts = 0;\n",
       "    var timer = setInterval(function(root) {\n",
       "      if (root.Bokeh !== undefined) {\n",
       "        embed_document(root);\n",
       "        clearInterval(timer);\n",
       "      }\n",
       "      attempts++;\n",
       "      if (attempts > 100) {\n",
       "        console.log(\"Bokeh: ERROR: Unable to run BokehJS code because BokehJS library is missing\");\n",
       "        clearInterval(timer);\n",
       "      }\n",
       "    }, 10, root)\n",
       "  }\n",
       "})(window);"
      ],
      "application/vnd.bokehjs_exec.v0+json": ""
     },
     "metadata": {
      "application/vnd.bokehjs_exec.v0+json": {
       "id": "7048"
      }
     },
     "output_type": "display_data"
    }
   ],
   "source": [
    "# create a new plot with the toolbar below\n",
    "p = figure(plot_width=400, plot_height=400,\n",
    "           title=None, toolbar_location=\"below\")\n",
    "\n",
    "p.circle([1, 2, 3, 4, 5], [2, 5, 8, 2, 7], size=10)\n",
    "\n",
    "show(p)"
   ]
  },
  {
   "cell_type": "markdown",
   "metadata": {},
   "source": [
    "### Specifying tools\n",
    "In `bokeh` you can specify wich tools include within the toolbar and which one must be active at the plot render\n",
    "\n",
    "The Tools can be supplied conveniently with a comma-separate string containing tool shortcut names:\n",
    "\n",
    "```python\n",
    "tools = \"pan,wheel_zoom,box_zoom,reset\"\n",
    "```\n",
    "However, this method does not allow setting properties of the tools.\n",
    "\n",
    "Finally, it is also always possible to add new tools to a plot by passing a tool object to the add_tools method of a plot. This can also be done in conjunction with the tools keyword described above:\n",
    "```python\n",
    "from bokeh.models import BoxSelectTool\n",
    "\n",
    "plot = figure(tools=\"pan,wheel_zoom,box_zoom,reset\")\n",
    "plot.add_tools(BoxSelectTool(dimensions=[\"width\"]))\n",
    "```"
   ]
  },
  {
   "cell_type": "code",
   "execution_count": 38,
   "metadata": {},
   "outputs": [
    {
     "data": {
      "text/html": [
       "\n",
       "\n",
       "\n",
       "\n",
       "\n",
       "\n",
       "  <div class=\"bk-root\" id=\"6b274312-7086-4e75-8033-38622bdc509b\" data-root-id=\"7384\"></div>\n"
      ]
     },
     "metadata": {},
     "output_type": "display_data"
    },
    {
     "data": {
      "application/javascript": [
       "(function(root) {\n",
       "  function embed_document(root) {\n",
       "    \n",
       "  var docs_json = {\"53f35371-7447-4521-bff7-50ec41933bff\":{\"roots\":{\"references\":[{\"attributes\":{\"below\":[{\"id\":\"7394\",\"type\":\"LinearAxis\"}],\"center\":[{\"id\":\"7398\",\"type\":\"Grid\"},{\"id\":\"7403\",\"type\":\"Grid\"}],\"left\":[{\"id\":\"7399\",\"type\":\"LinearAxis\"}],\"plot_height\":400,\"plot_width\":400,\"renderers\":[{\"id\":\"7416\",\"type\":\"GlyphRenderer\"}],\"title\":null,\"toolbar\":{\"id\":\"7408\",\"type\":\"Toolbar\"},\"toolbar_location\":\"below\",\"x_range\":{\"id\":\"7386\",\"type\":\"DataRange1d\"},\"x_scale\":{\"id\":\"7390\",\"type\":\"LinearScale\"},\"y_range\":{\"id\":\"7388\",\"type\":\"DataRange1d\"},\"y_scale\":{\"id\":\"7392\",\"type\":\"LinearScale\"}},\"id\":\"7384\",\"subtype\":\"Figure\",\"type\":\"Plot\"},{\"attributes\":{},\"id\":\"7400\",\"type\":\"BasicTicker\"},{\"attributes\":{},\"id\":\"7404\",\"type\":\"PanTool\"},{\"attributes\":{\"source\":{\"id\":\"7413\",\"type\":\"ColumnDataSource\"}},\"id\":\"7417\",\"type\":\"CDSView\"},{\"attributes\":{\"callback\":null,\"dimensions\":\"height\",\"overlay\":{\"id\":\"7678\",\"type\":\"BoxAnnotation\"}},\"id\":\"7418\",\"type\":\"BoxSelectTool\"},{\"attributes\":{\"data_source\":{\"id\":\"7413\",\"type\":\"ColumnDataSource\"},\"glyph\":{\"id\":\"7414\",\"type\":\"Circle\"},\"hover_glyph\":null,\"muted_glyph\":null,\"nonselection_glyph\":{\"id\":\"7415\",\"type\":\"Circle\"},\"selection_glyph\":null,\"view\":{\"id\":\"7417\",\"type\":\"CDSView\"}},\"id\":\"7416\",\"type\":\"GlyphRenderer\"},{\"attributes\":{\"callback\":null,\"data\":{\"x\":[1,2,3,4,5],\"y\":[2,5,8,2,7]},\"selected\":{\"id\":\"7675\",\"type\":\"Selection\"},\"selection_policy\":{\"id\":\"7676\",\"type\":\"UnionRenderers\"}},\"id\":\"7413\",\"type\":\"ColumnDataSource\"},{\"attributes\":{\"dimension\":1,\"ticker\":{\"id\":\"7400\",\"type\":\"BasicTicker\"}},\"id\":\"7403\",\"type\":\"Grid\"},{\"attributes\":{},\"id\":\"7673\",\"type\":\"BasicTickFormatter\"},{\"attributes\":{},\"id\":\"7675\",\"type\":\"Selection\"},{\"attributes\":{},\"id\":\"7395\",\"type\":\"BasicTicker\"},{\"attributes\":{},\"id\":\"7676\",\"type\":\"UnionRenderers\"},{\"attributes\":{\"fill_alpha\":{\"value\":0.1},\"fill_color\":{\"value\":\"#1f77b4\"},\"line_alpha\":{\"value\":0.1},\"line_color\":{\"value\":\"#1f77b4\"},\"size\":{\"units\":\"screen\",\"value\":10},\"x\":{\"field\":\"x\"},\"y\":{\"field\":\"y\"}},\"id\":\"7415\",\"type\":\"Circle\"},{\"attributes\":{\"bottom_units\":\"screen\",\"fill_alpha\":{\"value\":0.5},\"fill_color\":{\"value\":\"lightgrey\"},\"left_units\":\"screen\",\"level\":\"overlay\",\"line_alpha\":{\"value\":1.0},\"line_color\":{\"value\":\"black\"},\"line_dash\":[4,4],\"line_width\":{\"value\":2},\"render_mode\":\"css\",\"right_units\":\"screen\",\"top_units\":\"screen\"},\"id\":\"7677\",\"type\":\"BoxAnnotation\"},{\"attributes\":{\"formatter\":{\"id\":\"7673\",\"type\":\"BasicTickFormatter\"},\"ticker\":{\"id\":\"7395\",\"type\":\"BasicTicker\"}},\"id\":\"7394\",\"type\":\"LinearAxis\"},{\"attributes\":{\"callback\":null},\"id\":\"7386\",\"type\":\"DataRange1d\"},{\"attributes\":{\"bottom_units\":\"screen\",\"fill_alpha\":{\"value\":0.5},\"fill_color\":{\"value\":\"lightgrey\"},\"left_units\":\"screen\",\"level\":\"overlay\",\"line_alpha\":{\"value\":1.0},\"line_color\":{\"value\":\"black\"},\"line_dash\":[4,4],\"line_width\":{\"value\":2},\"render_mode\":\"css\",\"right_units\":\"screen\",\"top_units\":\"screen\"},\"id\":\"7678\",\"type\":\"BoxAnnotation\"},{\"attributes\":{\"ticker\":{\"id\":\"7395\",\"type\":\"BasicTicker\"}},\"id\":\"7398\",\"type\":\"Grid\"},{\"attributes\":{\"formatter\":{\"id\":\"7671\",\"type\":\"BasicTickFormatter\"},\"ticker\":{\"id\":\"7400\",\"type\":\"BasicTicker\"}},\"id\":\"7399\",\"type\":\"LinearAxis\"},{\"attributes\":{\"fill_color\":{\"value\":\"#1f77b4\"},\"line_color\":{\"value\":\"#1f77b4\"},\"size\":{\"units\":\"screen\",\"value\":10},\"x\":{\"field\":\"x\"},\"y\":{\"field\":\"y\"}},\"id\":\"7414\",\"type\":\"Circle\"},{\"attributes\":{\"active_drag\":\"auto\",\"active_inspect\":\"auto\",\"active_multi\":null,\"active_scroll\":\"auto\",\"active_tap\":\"auto\",\"tools\":[{\"id\":\"7404\",\"type\":\"PanTool\"},{\"id\":\"7405\",\"type\":\"WheelZoomTool\"},{\"id\":\"7406\",\"type\":\"BoxZoomTool\"},{\"id\":\"7407\",\"type\":\"ResetTool\"},{\"id\":\"7418\",\"type\":\"BoxSelectTool\"}]},\"id\":\"7408\",\"type\":\"Toolbar\"},{\"attributes\":{\"overlay\":{\"id\":\"7677\",\"type\":\"BoxAnnotation\"}},\"id\":\"7406\",\"type\":\"BoxZoomTool\"},{\"attributes\":{},\"id\":\"7405\",\"type\":\"WheelZoomTool\"},{\"attributes\":{},\"id\":\"7392\",\"type\":\"LinearScale\"},{\"attributes\":{\"callback\":null},\"id\":\"7388\",\"type\":\"DataRange1d\"},{\"attributes\":{},\"id\":\"7390\",\"type\":\"LinearScale\"},{\"attributes\":{},\"id\":\"7407\",\"type\":\"ResetTool\"},{\"attributes\":{},\"id\":\"7671\",\"type\":\"BasicTickFormatter\"}],\"root_ids\":[\"7384\"]},\"title\":\"Bokeh Application\",\"version\":\"1.2.0\"}};\n",
       "  var render_items = [{\"docid\":\"53f35371-7447-4521-bff7-50ec41933bff\",\"roots\":{\"7384\":\"6b274312-7086-4e75-8033-38622bdc509b\"}}];\n",
       "  root.Bokeh.embed.embed_items_notebook(docs_json, render_items);\n",
       "\n",
       "  }\n",
       "  if (root.Bokeh !== undefined) {\n",
       "    embed_document(root);\n",
       "  } else {\n",
       "    var attempts = 0;\n",
       "    var timer = setInterval(function(root) {\n",
       "      if (root.Bokeh !== undefined) {\n",
       "        embed_document(root);\n",
       "        clearInterval(timer);\n",
       "      }\n",
       "      attempts++;\n",
       "      if (attempts > 100) {\n",
       "        console.log(\"Bokeh: ERROR: Unable to run BokehJS code because BokehJS library is missing\");\n",
       "        clearInterval(timer);\n",
       "      }\n",
       "    }, 10, root)\n",
       "  }\n",
       "})(window);"
      ],
      "application/vnd.bokehjs_exec.v0+json": ""
     },
     "metadata": {
      "application/vnd.bokehjs_exec.v0+json": {
       "id": "7384"
      }
     },
     "output_type": "display_data"
    }
   ],
   "source": [
    "from bokeh.models import BoxSelectTool\n",
    "\n",
    "tools = \"pan,wheel_zoom,box_zoom,reset\" \n",
    "p = figure(plot_width=400, plot_height=400, \n",
    "           tools=tools, title=None, \n",
    "           toolbar_location=\"below\")\n",
    "p.circle([1, 2, 3, 4, 5], [2, 5, 8, 2, 7], size=10)\n",
    "p.add_tools(BoxSelectTool(dimensions='height'))\n",
    "show(p)"
   ]
  },
  {
   "cell_type": "markdown",
   "metadata": {},
   "source": [
    "### Setting the active tool\n",
    "Bokeh toolbars can have (at most) one active tool from each kind of gesture (drag, scroll, tap). By default, Bokeh will use a default pre-defined order of preference to choose one of each kind from the set of configured tools, to be active.\n",
    "\n",
    "However it is possible to exert control over which tool is active. At the lowest bokeh.models level, this is accomplished by using the active_drag, active_inspect, active_scroll, and active_tap properties of Toolbar. These properties can take the following values:\n",
    "\n",
    "    None — there is no active tool of this kind\n",
    "    \"auto\" — Bokeh chooses a tool of this kind to be active (possibly none)\n",
    "    a Tool instance — Bokeh sets the given tool to be the active tool\n",
    "\n",
    "Additionally, the active_inspect tool may accept: * A sequence of Tool instances to be set as the active tools"
   ]
  },
  {
   "cell_type": "code",
   "execution_count": 39,
   "metadata": {},
   "outputs": [
    {
     "data": {
      "text/html": [
       "\n",
       "\n",
       "\n",
       "\n",
       "\n",
       "\n",
       "  <div class=\"bk-root\" id=\"4c00c428-8e94-483c-afbb-ef5b0d153849\" data-root-id=\"7733\"></div>\n"
      ]
     },
     "metadata": {},
     "output_type": "display_data"
    },
    {
     "data": {
      "application/javascript": [
       "(function(root) {\n",
       "  function embed_document(root) {\n",
       "    \n",
       "  var docs_json = {\"cdb1700f-dba3-4f37-9a5e-a150ea80d4e7\":{\"roots\":{\"references\":[{\"attributes\":{\"below\":[{\"id\":\"7742\",\"type\":\"LinearAxis\"}],\"center\":[{\"id\":\"7746\",\"type\":\"Grid\"},{\"id\":\"7751\",\"type\":\"Grid\"}],\"left\":[{\"id\":\"7747\",\"type\":\"LinearAxis\"}],\"plot_height\":400,\"plot_width\":400,\"renderers\":[{\"id\":\"7762\",\"type\":\"GlyphRenderer\"}],\"title\":{\"id\":\"8023\",\"type\":\"Title\"},\"toolbar\":{\"id\":\"7755\",\"type\":\"Toolbar\"},\"x_range\":{\"id\":\"7734\",\"type\":\"DataRange1d\"},\"x_scale\":{\"id\":\"7738\",\"type\":\"LinearScale\"},\"y_range\":{\"id\":\"7736\",\"type\":\"DataRange1d\"},\"y_scale\":{\"id\":\"7740\",\"type\":\"LinearScale\"}},\"id\":\"7733\",\"subtype\":\"Figure\",\"type\":\"Plot\"},{\"attributes\":{\"dimension\":1,\"ticker\":{\"id\":\"7748\",\"type\":\"BasicTicker\"}},\"id\":\"7751\",\"type\":\"Grid\"},{\"attributes\":{},\"id\":\"8029\",\"type\":\"Selection\"},{\"attributes\":{},\"id\":\"7748\",\"type\":\"BasicTicker\"},{\"attributes\":{},\"id\":\"8030\",\"type\":\"UnionRenderers\"},{\"attributes\":{\"ticker\":{\"id\":\"7743\",\"type\":\"BasicTicker\"}},\"id\":\"7746\",\"type\":\"Grid\"},{\"attributes\":{\"fill_alpha\":{\"value\":0.5},\"fill_color\":{\"value\":\"lightgrey\"},\"level\":\"overlay\",\"line_alpha\":{\"value\":1.0},\"line_color\":{\"value\":\"black\"},\"line_dash\":[4,4],\"line_width\":{\"value\":2},\"xs_units\":\"screen\",\"ys_units\":\"screen\"},\"id\":\"8031\",\"type\":\"PolyAnnotation\"},{\"attributes\":{\"formatter\":{\"id\":\"8025\",\"type\":\"BasicTickFormatter\"},\"ticker\":{\"id\":\"7748\",\"type\":\"BasicTicker\"}},\"id\":\"7747\",\"type\":\"LinearAxis\"},{\"attributes\":{},\"id\":\"7743\",\"type\":\"BasicTicker\"},{\"attributes\":{\"callback\":null,\"data\":{\"x\":[1,2,3,4,5],\"y\":[2,5,8,2,7]},\"selected\":{\"id\":\"8029\",\"type\":\"Selection\"},\"selection_policy\":{\"id\":\"8030\",\"type\":\"UnionRenderers\"}},\"id\":\"7759\",\"type\":\"ColumnDataSource\"},{\"attributes\":{\"formatter\":{\"id\":\"8027\",\"type\":\"BasicTickFormatter\"},\"ticker\":{\"id\":\"7743\",\"type\":\"BasicTicker\"}},\"id\":\"7742\",\"type\":\"LinearAxis\"},{\"attributes\":{},\"id\":\"7740\",\"type\":\"LinearScale\"},{\"attributes\":{\"callback\":null},\"id\":\"7736\",\"type\":\"DataRange1d\"},{\"attributes\":{},\"id\":\"7738\",\"type\":\"LinearScale\"},{\"attributes\":{\"callback\":null,\"overlay\":{\"id\":\"8032\",\"type\":\"BoxAnnotation\"}},\"id\":\"7754\",\"type\":\"BoxSelectTool\"},{\"attributes\":{\"fill_color\":{\"value\":\"#1f77b4\"},\"line_color\":{\"value\":\"#1f77b4\"},\"size\":{\"units\":\"screen\",\"value\":10},\"x\":{\"field\":\"x\"},\"y\":{\"field\":\"y\"}},\"id\":\"7760\",\"type\":\"Circle\"},{\"attributes\":{},\"id\":\"8027\",\"type\":\"BasicTickFormatter\"},{\"attributes\":{\"fill_alpha\":{\"value\":0.1},\"fill_color\":{\"value\":\"#1f77b4\"},\"line_alpha\":{\"value\":0.1},\"line_color\":{\"value\":\"#1f77b4\"},\"size\":{\"units\":\"screen\",\"value\":10},\"x\":{\"field\":\"x\"},\"y\":{\"field\":\"y\"}},\"id\":\"7761\",\"type\":\"Circle\"},{\"attributes\":{\"source\":{\"id\":\"7759\",\"type\":\"ColumnDataSource\"}},\"id\":\"7763\",\"type\":\"CDSView\"},{\"attributes\":{\"data_source\":{\"id\":\"7759\",\"type\":\"ColumnDataSource\"},\"glyph\":{\"id\":\"7760\",\"type\":\"Circle\"},\"hover_glyph\":null,\"muted_glyph\":null,\"nonselection_glyph\":{\"id\":\"7761\",\"type\":\"Circle\"},\"selection_glyph\":null,\"view\":{\"id\":\"7763\",\"type\":\"CDSView\"}},\"id\":\"7762\",\"type\":\"GlyphRenderer\"},{\"attributes\":{\"callback\":null,\"overlay\":{\"id\":\"8031\",\"type\":\"PolyAnnotation\"}},\"id\":\"7753\",\"type\":\"LassoSelectTool\"},{\"attributes\":{},\"id\":\"8025\",\"type\":\"BasicTickFormatter\"},{\"attributes\":{\"callback\":null},\"id\":\"7734\",\"type\":\"DataRange1d\"},{\"attributes\":{\"bottom_units\":\"screen\",\"fill_alpha\":{\"value\":0.5},\"fill_color\":{\"value\":\"lightgrey\"},\"left_units\":\"screen\",\"level\":\"overlay\",\"line_alpha\":{\"value\":1.0},\"line_color\":{\"value\":\"black\"},\"line_dash\":[4,4],\"line_width\":{\"value\":2},\"render_mode\":\"css\",\"right_units\":\"screen\",\"top_units\":\"screen\"},\"id\":\"8032\",\"type\":\"BoxAnnotation\"},{\"attributes\":{\"text\":\"\"},\"id\":\"8023\",\"type\":\"Title\"},{\"attributes\":{},\"id\":\"7752\",\"type\":\"PanTool\"},{\"attributes\":{\"active_drag\":{\"id\":\"7753\",\"type\":\"LassoSelectTool\"},\"active_inspect\":\"auto\",\"active_multi\":null,\"active_scroll\":\"auto\",\"active_tap\":\"auto\",\"tools\":[{\"id\":\"7752\",\"type\":\"PanTool\"},{\"id\":\"7753\",\"type\":\"LassoSelectTool\"},{\"id\":\"7754\",\"type\":\"BoxSelectTool\"}]},\"id\":\"7755\",\"type\":\"Toolbar\"}],\"root_ids\":[\"7733\"]},\"title\":\"Bokeh Application\",\"version\":\"1.2.0\"}};\n",
       "  var render_items = [{\"docid\":\"cdb1700f-dba3-4f37-9a5e-a150ea80d4e7\",\"roots\":{\"7733\":\"4c00c428-8e94-483c-afbb-ef5b0d153849\"}}];\n",
       "  root.Bokeh.embed.embed_items_notebook(docs_json, render_items);\n",
       "\n",
       "  }\n",
       "  if (root.Bokeh !== undefined) {\n",
       "    embed_document(root);\n",
       "  } else {\n",
       "    var attempts = 0;\n",
       "    var timer = setInterval(function(root) {\n",
       "      if (root.Bokeh !== undefined) {\n",
       "        embed_document(root);\n",
       "        clearInterval(timer);\n",
       "      }\n",
       "      attempts++;\n",
       "      if (attempts > 100) {\n",
       "        console.log(\"Bokeh: ERROR: Unable to run BokehJS code because BokehJS library is missing\");\n",
       "        clearInterval(timer);\n",
       "      }\n",
       "    }, 10, root)\n",
       "  }\n",
       "})(window);"
      ],
      "application/vnd.bokehjs_exec.v0+json": ""
     },
     "metadata": {
      "application/vnd.bokehjs_exec.v0+json": {
       "id": "7733"
      }
     },
     "output_type": "display_data"
    }
   ],
   "source": [
    "plot = figure(tools=\"pan,lasso_select,box_select\", \n",
    "              plot_width=400, plot_height=400, \n",
    "              active_drag=\"lasso_select\")\n",
    "plot.circle([1, 2, 3, 4, 5], [2, 5, 8, 2, 7], size=10)\n",
    "show(plot)"
   ]
  },
  {
   "cell_type": "markdown",
   "metadata": {},
   "source": [
    "## Tooltip"
   ]
  },
  {
   "cell_type": "markdown",
   "metadata": {},
   "source": [
    "By default, the hover tool will generate a “tabular” tooltip where each row contains a label, and its associated value. The labels and values are supplied as a list of (label, value) tuples. For instance, the tooltip below on the left was created with the accompanying tooltips definition on the right."
   ]
  },
  {
   "cell_type": "markdown",
   "metadata": {},
   "source": [
    "### Basic tooltips"
   ]
  },
  {
   "cell_type": "markdown",
   "metadata": {},
   "source": [
    "<img src=\"http://bokeh.pydata.org/en/latest/_images/hover_basic.png\">"
   ]
  },
  {
   "cell_type": "markdown",
   "metadata": {},
   "source": [
    "```python\n",
    "\t\n",
    "hover.tooltips = [\n",
    "    (\"index\", \"$index\"),\n",
    "    (\"(x,y)\", \"($x, $y)\"),\n",
    "    (\"radius\", \"@radius\"),\n",
    "    (\"fill color\", \"$color[hex, swatch]:fill_color\"),\n",
    "    (\"foo\", \"@foo\"),\n",
    "    (\"bar\", \"@bar\"),\n",
    "]\n",
    "```"
   ]
  },
  {
   "cell_type": "markdown",
   "metadata": {},
   "source": [
    "Field names that begin with $ are `special fields`. These often correspond to values that are intrinsic to the plot, such as the coordinates of the mouse in data or screen space. These special fields are listed here:\n",
    "\n",
    " - `$index`: index of selected point in the data source\n",
    " - `$name`: value of the name property of the hovered glyph renderer\n",
    " - `$x`: x-coordinate under the cursor in data space\n",
    " - `$y`: y-coordinate under the cursor in data space\n",
    " - `$sx`: x-coordinate under the cursor in screen (canvas) space\n",
    " - `$sy`: y-coordinate under the cursor in screen (canvas) space\n",
    " - `$name`: The name property of the glyph that is hovered over\n",
    " - `$color`: colors from a data source, with the syntax: $color[options]:field_name. \n",
    " \n",
    "The available options are: hex (to display the color as a hex value), and swatch to also display a small color swatch.\n",
    "Field names that begin with @ are associated with columns in a ColumnDataSource. For instance the field name \"@price\" will display values from the \"price\" column whenever a hover is triggered. If the hover is for the 17th glyph, then the hover tooltip will correspondingly display the 17th price value.\n",
    "\n",
    "Note that if a column name contains spaces, the it must be supplied by surrounding it in curly braces, e.g. @{adjusted close} will display values from a column named \"adjusted close\".\n",
    "\n",
    "Sometimes (especially with stacked charts) it is desirable to allow the name of the column be specified indirectly. The field name `@$name` is distinguished in that it will look up the name field on the hovered glyph renderer, and use that value as the column name. For instance, if a user hovers with the name \"US East\", then `@$name` is equivalent to `@{US East}`.\n",
    "\n",
    "Here is a complete example of how to configure and use the hover tool by setting the tooltips argument to figure:"
   ]
  },
  {
   "cell_type": "code",
   "execution_count": 40,
   "metadata": {},
   "outputs": [
    {
     "data": {
      "text/html": [
       "\n",
       "\n",
       "\n",
       "\n",
       "\n",
       "\n",
       "  <div class=\"bk-root\" id=\"31d76fe1-1383-4e59-9c03-fa54dbdb2705\" data-root-id=\"8094\"></div>\n"
      ]
     },
     "metadata": {},
     "output_type": "display_data"
    },
    {
     "data": {
      "application/javascript": [
       "(function(root) {\n",
       "  function embed_document(root) {\n",
       "    \n",
       "  var docs_json = {\"3982ffab-2a08-40e2-8d9e-a5d69267b734\":{\"roots\":{\"references\":[{\"attributes\":{\"below\":[{\"id\":\"8105\",\"type\":\"LinearAxis\"}],\"center\":[{\"id\":\"8109\",\"type\":\"Grid\"},{\"id\":\"8114\",\"type\":\"Grid\"}],\"left\":[{\"id\":\"8110\",\"type\":\"LinearAxis\"}],\"plot_height\":400,\"plot_width\":400,\"renderers\":[{\"id\":\"8133\",\"type\":\"GlyphRenderer\"}],\"title\":{\"id\":\"8095\",\"type\":\"Title\"},\"toolbar\":{\"id\":\"8122\",\"type\":\"Toolbar\"},\"x_range\":{\"id\":\"8097\",\"type\":\"DataRange1d\"},\"x_scale\":{\"id\":\"8101\",\"type\":\"LinearScale\"},\"y_range\":{\"id\":\"8099\",\"type\":\"DataRange1d\"},\"y_scale\":{\"id\":\"8103\",\"type\":\"LinearScale\"}},\"id\":\"8094\",\"subtype\":\"Figure\",\"type\":\"Plot\"},{\"attributes\":{\"formatter\":{\"id\":\"8407\",\"type\":\"BasicTickFormatter\"},\"ticker\":{\"id\":\"8106\",\"type\":\"BasicTicker\"}},\"id\":\"8105\",\"type\":\"LinearAxis\"},{\"attributes\":{\"callback\":null},\"id\":\"8099\",\"type\":\"DataRange1d\"},{\"attributes\":{},\"id\":\"8407\",\"type\":\"BasicTickFormatter\"},{\"attributes\":{},\"id\":\"8106\",\"type\":\"BasicTicker\"},{\"attributes\":{\"ticker\":{\"id\":\"8106\",\"type\":\"BasicTicker\"}},\"id\":\"8109\",\"type\":\"Grid\"},{\"attributes\":{\"formatter\":{\"id\":\"8405\",\"type\":\"BasicTickFormatter\"},\"ticker\":{\"id\":\"8111\",\"type\":\"BasicTicker\"}},\"id\":\"8110\",\"type\":\"LinearAxis\"},{\"attributes\":{},\"id\":\"8103\",\"type\":\"LinearScale\"},{\"attributes\":{},\"id\":\"8405\",\"type\":\"BasicTickFormatter\"},{\"attributes\":{},\"id\":\"8111\",\"type\":\"BasicTicker\"},{\"attributes\":{},\"id\":\"8409\",\"type\":\"Selection\"},{\"attributes\":{\"data_source\":{\"id\":\"8093\",\"type\":\"ColumnDataSource\"},\"glyph\":{\"id\":\"8131\",\"type\":\"Circle\"},\"hover_glyph\":null,\"muted_glyph\":null,\"nonselection_glyph\":{\"id\":\"8132\",\"type\":\"Circle\"},\"selection_glyph\":null,\"view\":{\"id\":\"8134\",\"type\":\"CDSView\"}},\"id\":\"8133\",\"type\":\"GlyphRenderer\"},{\"attributes\":{\"dimension\":1,\"ticker\":{\"id\":\"8111\",\"type\":\"BasicTicker\"}},\"id\":\"8114\",\"type\":\"Grid\"},{\"attributes\":{},\"id\":\"8410\",\"type\":\"UnionRenderers\"},{\"attributes\":{\"fill_alpha\":{\"value\":0.1},\"fill_color\":{\"value\":\"#1f77b4\"},\"line_alpha\":{\"value\":0.1},\"line_color\":{\"value\":\"#1f77b4\"},\"size\":{\"units\":\"screen\",\"value\":20},\"x\":{\"field\":\"x\"},\"y\":{\"field\":\"y\"}},\"id\":\"8132\",\"type\":\"Circle\"},{\"attributes\":{\"bottom_units\":\"screen\",\"fill_alpha\":{\"value\":0.5},\"fill_color\":{\"value\":\"lightgrey\"},\"left_units\":\"screen\",\"level\":\"overlay\",\"line_alpha\":{\"value\":1.0},\"line_color\":{\"value\":\"black\"},\"line_dash\":[4,4],\"line_width\":{\"value\":2},\"render_mode\":\"css\",\"right_units\":\"screen\",\"top_units\":\"screen\"},\"id\":\"8411\",\"type\":\"BoxAnnotation\"},{\"attributes\":{},\"id\":\"8101\",\"type\":\"LinearScale\"},{\"attributes\":{\"fill_color\":{\"value\":\"#1f77b4\"},\"line_color\":{\"value\":\"#1f77b4\"},\"size\":{\"units\":\"screen\",\"value\":20},\"x\":{\"field\":\"x\"},\"y\":{\"field\":\"y\"}},\"id\":\"8131\",\"type\":\"Circle\"},{\"attributes\":{\"active_drag\":\"auto\",\"active_inspect\":\"auto\",\"active_multi\":null,\"active_scroll\":\"auto\",\"active_tap\":\"auto\",\"tools\":[{\"id\":\"8115\",\"type\":\"PanTool\"},{\"id\":\"8116\",\"type\":\"WheelZoomTool\"},{\"id\":\"8117\",\"type\":\"BoxZoomTool\"},{\"id\":\"8118\",\"type\":\"SaveTool\"},{\"id\":\"8119\",\"type\":\"ResetTool\"},{\"id\":\"8120\",\"type\":\"HelpTool\"},{\"id\":\"8121\",\"type\":\"HoverTool\"}]},\"id\":\"8122\",\"type\":\"Toolbar\"},{\"attributes\":{},\"id\":\"8115\",\"type\":\"PanTool\"},{\"attributes\":{},\"id\":\"8116\",\"type\":\"WheelZoomTool\"},{\"attributes\":{\"callback\":null},\"id\":\"8097\",\"type\":\"DataRange1d\"},{\"attributes\":{\"overlay\":{\"id\":\"8411\",\"type\":\"BoxAnnotation\"}},\"id\":\"8117\",\"type\":\"BoxZoomTool\"},{\"attributes\":{\"text\":\"Mouse over the dots\"},\"id\":\"8095\",\"type\":\"Title\"},{\"attributes\":{},\"id\":\"8118\",\"type\":\"SaveTool\"},{\"attributes\":{},\"id\":\"8119\",\"type\":\"ResetTool\"},{\"attributes\":{},\"id\":\"8120\",\"type\":\"HelpTool\"},{\"attributes\":{\"callback\":null,\"tooltips\":[[\"index\",\"$index\"],[\"(x,y)\",\"($x, $y)\"],[\"desc\",\"@desc\"]]},\"id\":\"8121\",\"type\":\"HoverTool\"},{\"attributes\":{\"callback\":null,\"data\":{\"desc\":[\"A\",\"b\",\"C\",\"d\",\"E\"],\"x\":[1,2,3,4,5],\"y\":[2,5,8,2,7]},\"selected\":{\"id\":\"8409\",\"type\":\"Selection\"},\"selection_policy\":{\"id\":\"8410\",\"type\":\"UnionRenderers\"}},\"id\":\"8093\",\"type\":\"ColumnDataSource\"},{\"attributes\":{\"source\":{\"id\":\"8093\",\"type\":\"ColumnDataSource\"}},\"id\":\"8134\",\"type\":\"CDSView\"}],\"root_ids\":[\"8094\"]},\"title\":\"Bokeh Application\",\"version\":\"1.2.0\"}};\n",
       "  var render_items = [{\"docid\":\"3982ffab-2a08-40e2-8d9e-a5d69267b734\",\"roots\":{\"8094\":\"31d76fe1-1383-4e59-9c03-fa54dbdb2705\"}}];\n",
       "  root.Bokeh.embed.embed_items_notebook(docs_json, render_items);\n",
       "\n",
       "  }\n",
       "  if (root.Bokeh !== undefined) {\n",
       "    embed_document(root);\n",
       "  } else {\n",
       "    var attempts = 0;\n",
       "    var timer = setInterval(function(root) {\n",
       "      if (root.Bokeh !== undefined) {\n",
       "        embed_document(root);\n",
       "        clearInterval(timer);\n",
       "      }\n",
       "      attempts++;\n",
       "      if (attempts > 100) {\n",
       "        console.log(\"Bokeh: ERROR: Unable to run BokehJS code because BokehJS library is missing\");\n",
       "        clearInterval(timer);\n",
       "      }\n",
       "    }, 10, root)\n",
       "  }\n",
       "})(window);"
      ],
      "application/vnd.bokehjs_exec.v0+json": ""
     },
     "metadata": {
      "application/vnd.bokehjs_exec.v0+json": {
       "id": "8094"
      }
     },
     "output_type": "display_data"
    }
   ],
   "source": [
    "from bokeh.models import ColumnDataSource\n",
    "\n",
    "source = ColumnDataSource(data=dict(\n",
    "    x=[1, 2, 3, 4, 5],\n",
    "    y=[2, 5, 8, 2, 7],\n",
    "    desc=['A', 'b', 'C', 'd', 'E'],\n",
    "))\n",
    "\n",
    "TOOLTIPS = [\n",
    "    (\"index\", \"$index\"),\n",
    "    (\"(x,y)\", \"($x, $y)\"),\n",
    "    (\"desc\", \"@desc\"),\n",
    "]\n",
    "\n",
    "p = figure(plot_width=400, plot_height=400, tooltips=TOOLTIPS,\n",
    "           title=\"Mouse over the dots\")\n",
    "\n",
    "p.circle('x', 'y', size=20, source=source)\n",
    "\n",
    "show(p)"
   ]
  },
  {
   "cell_type": "markdown",
   "metadata": {},
   "source": [
    "### Formatting Tooltip Fields\n",
    "By default, values for fields (e.g. @foo) are displayed in a basic numeric format. However it is possible to control the formatting of values more precisely. Fields can be modified by appending a format specified to the end in curly braces. Some examples are below."
   ]
  },
  {
   "cell_type": "markdown",
   "metadata": {},
   "source": [
    "```python\n",
    "\"@foo{0,0.000}\"    # formats 10000.1234 as: 10,000.123\n",
    "\n",
    "\"@foo{(.00)}\"      # formats -10000.1234 as: (10000.123)\n",
    "\n",
    "\"@foo{($ 0.00 a)}\" # formats 1230974 as: $ 1.23 m\n",
    "```"
   ]
  },
  {
   "cell_type": "code",
   "execution_count": 41,
   "metadata": {},
   "outputs": [
    {
     "data": {
      "text/html": [
       "\n",
       "\n",
       "\n",
       "\n",
       "\n",
       "\n",
       "  <div class=\"bk-root\" id=\"0ef63f2a-affd-44fe-a5c2-4912c8ef82d2\" data-root-id=\"8461\"></div>\n"
      ]
     },
     "metadata": {},
     "output_type": "display_data"
    },
    {
     "data": {
      "application/javascript": [
       "(function(root) {\n",
       "  function embed_document(root) {\n",
       "    \n",
       "  var docs_json = {\"6944ac86-65d9-43ae-9192-6ba19ee2c3b7\":{\"roots\":{\"references\":[{\"attributes\":{\"background_fill_color\":{\"value\":\"#f5f5f5\"},\"below\":[{\"id\":\"8472\",\"type\":\"DatetimeAxis\"}],\"center\":[{\"id\":\"8476\",\"type\":\"Grid\"},{\"id\":\"8481\",\"type\":\"Grid\"}],\"left\":[{\"id\":\"8477\",\"type\":\"LinearAxis\"}],\"plot_height\":250,\"renderers\":[{\"id\":\"8486\",\"type\":\"GlyphRenderer\"}],\"sizing_mode\":\"scale_width\",\"title\":{\"id\":\"8462\",\"type\":\"Title\"},\"toolbar\":{\"id\":\"8482\",\"type\":\"Toolbar\"},\"toolbar_location\":null,\"x_range\":{\"id\":\"8464\",\"type\":\"DataRange1d\"},\"x_scale\":{\"id\":\"8468\",\"type\":\"LinearScale\"},\"y_range\":{\"id\":\"8466\",\"type\":\"DataRange1d\"},\"y_scale\":{\"id\":\"8470\",\"type\":\"LinearScale\"}},\"id\":\"8461\",\"subtype\":\"Figure\",\"type\":\"Plot\"},{\"attributes\":{\"callback\":null,\"formatters\":{\"adj close\":\"printf\",\"date\":\"datetime\"},\"mode\":\"vline\",\"tooltips\":[[\"date\",\"@date{%F}\"],[\"close\",\"$@{adj close}{%0.2f}\"],[\"volume\",\"@volume{0.00 a}\"]]},\"id\":\"8488\",\"type\":\"HoverTool\"},{\"attributes\":{\"callback\":null},\"id\":\"8464\",\"type\":\"DataRange1d\"},{\"attributes\":{\"callback\":null},\"id\":\"8466\",\"type\":\"DataRange1d\"},{\"attributes\":{\"base\":24,\"mantissas\":[1,2,4,6,8,12],\"max_interval\":43200000.0,\"min_interval\":3600000.0,\"num_minor_ticks\":0},\"id\":\"8776\",\"type\":\"AdaptiveTicker\"},{\"attributes\":{},\"id\":\"8468\",\"type\":\"LinearScale\"},{\"attributes\":{\"days\":[1,2,3,4,5,6,7,8,9,10,11,12,13,14,15,16,17,18,19,20,21,22,23,24,25,26,27,28,29,30,31]},\"id\":\"8777\",\"type\":\"DaysTicker\"},{\"attributes\":{},\"id\":\"8470\",\"type\":\"LinearScale\"},{\"attributes\":{\"days\":[1,4,7,10,13,16,19,22,25,28]},\"id\":\"8778\",\"type\":\"DaysTicker\"},{\"attributes\":{\"axis_label\":\"Date\",\"axis_line_color\":{\"value\":null},\"formatter\":{\"id\":\"8770\",\"type\":\"DatetimeTickFormatter\"},\"ticker\":{\"id\":\"8473\",\"type\":\"DatetimeTicker\"}},\"id\":\"8472\",\"type\":\"DatetimeAxis\"},{\"attributes\":{\"days\":[1,8,15,22]},\"id\":\"8779\",\"type\":\"DaysTicker\"},{\"attributes\":{\"num_minor_ticks\":5,\"tickers\":[{\"id\":\"8774\",\"type\":\"AdaptiveTicker\"},{\"id\":\"8775\",\"type\":\"AdaptiveTicker\"},{\"id\":\"8776\",\"type\":\"AdaptiveTicker\"},{\"id\":\"8777\",\"type\":\"DaysTicker\"},{\"id\":\"8778\",\"type\":\"DaysTicker\"},{\"id\":\"8779\",\"type\":\"DaysTicker\"},{\"id\":\"8780\",\"type\":\"DaysTicker\"},{\"id\":\"8781\",\"type\":\"MonthsTicker\"},{\"id\":\"8782\",\"type\":\"MonthsTicker\"},{\"id\":\"8783\",\"type\":\"MonthsTicker\"},{\"id\":\"8784\",\"type\":\"MonthsTicker\"},{\"id\":\"8785\",\"type\":\"YearsTicker\"}]},\"id\":\"8473\",\"type\":\"DatetimeTicker\"},{\"attributes\":{\"days\":[1,15]},\"id\":\"8780\",\"type\":\"DaysTicker\"},{\"attributes\":{\"grid_line_color\":\"white\",\"ticker\":{\"id\":\"8473\",\"type\":\"DatetimeTicker\"}},\"id\":\"8476\",\"type\":\"Grid\"},{\"attributes\":{\"months\":[0,1,2,3,4,5,6,7,8,9,10,11]},\"id\":\"8781\",\"type\":\"MonthsTicker\"},{\"attributes\":{},\"id\":\"8768\",\"type\":\"BasicTickFormatter\"},{\"attributes\":{\"base\":60,\"mantissas\":[1,2,5,10,15,20,30],\"max_interval\":1800000.0,\"min_interval\":1000.0,\"num_minor_ticks\":0},\"id\":\"8775\",\"type\":\"AdaptiveTicker\"},{\"attributes\":{\"months\":[0,2,4,6,8,10]},\"id\":\"8782\",\"type\":\"MonthsTicker\"},{\"attributes\":{\"axis_label\":\"Price\",\"axis_line_color\":{\"value\":null},\"formatter\":{\"id\":\"8768\",\"type\":\"BasicTickFormatter\"},\"ticker\":{\"id\":\"8478\",\"type\":\"BasicTicker\"}},\"id\":\"8477\",\"type\":\"LinearAxis\"},{\"attributes\":{\"months\":[0,4,8]},\"id\":\"8783\",\"type\":\"MonthsTicker\"},{\"attributes\":{},\"id\":\"8478\",\"type\":\"BasicTicker\"},{\"attributes\":{\"mantissas\":[1,2,5],\"max_interval\":500.0,\"num_minor_ticks\":0},\"id\":\"8774\",\"type\":\"AdaptiveTicker\"},{\"attributes\":{},\"id\":\"8772\",\"type\":\"Selection\"},{\"attributes\":{\"months\":[0,6]},\"id\":\"8784\",\"type\":\"MonthsTicker\"},{\"attributes\":{\"dimension\":1,\"grid_line_color\":\"white\",\"ticker\":{\"id\":\"8478\",\"type\":\"BasicTicker\"}},\"id\":\"8481\",\"type\":\"Grid\"},{\"attributes\":{},\"id\":\"8773\",\"type\":\"UnionRenderers\"},{\"attributes\":{},\"id\":\"8785\",\"type\":\"YearsTicker\"},{\"attributes\":{\"active_drag\":\"auto\",\"active_inspect\":\"auto\",\"active_multi\":null,\"active_scroll\":\"auto\",\"active_tap\":\"auto\",\"tools\":[{\"id\":\"8488\",\"type\":\"HoverTool\"}]},\"id\":\"8482\",\"type\":\"Toolbar\"},{\"attributes\":{},\"id\":\"8770\",\"type\":\"DatetimeTickFormatter\"},{\"attributes\":{\"line_color\":\"#ebbd5b\",\"line_width\":2,\"x\":{\"field\":\"date\"},\"y\":{\"field\":\"adj close\"}},\"id\":\"8484\",\"type\":\"Line\"},{\"attributes\":{\"line_alpha\":0.1,\"line_color\":\"#1f77b4\",\"line_width\":2,\"x\":{\"field\":\"date\"},\"y\":{\"field\":\"adj close\"}},\"id\":\"8485\",\"type\":\"Line\"},{\"attributes\":{\"callback\":null,\"data\":{\"adj close\":[31.68,28.26,33.05,26.56,30.82,25.0,21.22,23.28,25.14,27.78,23.68,23.31,24.56,30.36,29.15,10.85,9.78,9.51,9.85,8.54,7.29,7.2,8.36,10.55,9.57,9.42,9.51,11.12,10.72,12.02,11.66,11.3,10.53,10.94,10.71,9.72,9.48,8.79,9.02,7.65,7.85,8.9,9.03,9.22,10.24,10.03,11.33,10.1,12.02,11.96,11.4,12.13,11.89,12.16,11.65,11.64,11.66,9.95,8.33,8.42,7.39,7.31,7.84,6.9,7.09,6.95,6.86,7.81,7.93,7.54,7.19,6.84,7.1,7.26,7.0,7.23,7.16,7.05,6.99,6.49,8.9,8.91,8.16,9.27,9.92,10.11,9.91,9.88,11.16,10.76,10.11,12.07,11.52,10.86,10.08,10.31,10.1,11.54,11.22,11.17,11.09,13.46,12.4,13.28,13.51,12.93,12.99,14.0,15.72,15.05,15.66,15.22,15.01,16.77,17.12,18.81,19.33,24.46,26.62,31.15,31.12,31.13,33.67,34.41,38.39,41.47,39.42,41.65,41.17,34.54,36.13,34.86,38.94,36.94,35.8,40.41,41.48,44.83,44.48,49.99,52.36,48.99,55.23,58.58,63.18,72.02,70.13,72.34,74.0,69.88,68.36,63.68,62.23,60.93,64.4,69.65,63.2,58.13,56.03,54.48,50.82,61.66,62.31,65.95,70.53,71.0,72.18,77.76,76.14,83.49,88.62,83.12,83.31,86.07,82.42,82.5,83.95,88.63,91.08,87.87,96.74,104.57,115.51,114.27,118.54,130.39,141.99,122.92,127.47,128.15,140.19,157.02,165.74,182.71,161.82,173.95,179.34,189.49,155.26,131.64,123.96,121.59,123.13,139.56,143.72,167.51,183.0,181.31,180.54,168.49,169.47,161.7,159.68,171.01,156.79,130.41,97.35,99.09,107.99,93.79,90.13,95.57,84.23,85.3,91.61,94.16,86.74,93.71,106.85,116.29,120.5,125.64,119.14,139.9,133.6,131.68,147.35,161.01,159.5,160.76,176.88,180.26,186.04,187.12,197.67,198.59,191.04,203.3,204.34,200.29,190.81,195.15,218.67,223.07,233.36,259.16,239.49,231.23,248.93,266.55,240.16,238.84,254.66,240.84,235.84,260.7,278.99,290.35,299.59,307.4,300.26,312.2,316.24,324.57,317.75,336.99,340.94,345.61,329.99,331.83,322.74,338.64,326.91,336.03,317.78,324.87,347.95,381.07,363.44,363.46,367.12,393.2,359.65,382.09,389.25,364.65,382.22,371.72,402.09,416.01,442.63,488.43,530.22,569.5,583.09,564.21,567.95,542.9,556.56,560.35,556.33,587.84,559.19,602.85,653.3,660.53,682.44,651.28,617.92,571.02,555.09,565.02,523.86,531.9,493.22,445.09,454.14],\"date\":{\"__ndarray__\":\"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\",\"dtype\":\"float64\",\"shape\":[327]},\"volume\":[38478000,15845200,8568800,33618800,11678000,17852400,14530800,9020000,7320400,14211000,14720600,6697200,4803800,10669000,9706200,72795600,21495600,31649000,14611200,17586200,12327200,10910000,15121000,30562800,9795600,12451000,15840600,19422200,16334800,11813600,11603200,10037200,11613600,12190400,10818600,15878000,6644800,7443800,7746600,20375600,12238800,5956800,7043000,8238000,6470200,6204000,18910600,20246200,16730200,9291800,12464000,8603600,7108800,10691800,9724600,9486000,5347000,12482000,10757200,7388600,14521200,11909800,7229600,8077800,7355200,7782000,16760600,10565600,5061200,5122600,5885000,5537200,6673600,13323000,8167400,5512200,11980200,4371200,3825000,7332800,21013800,7382800,9284000,10977200,9169200,7086600,8908600,4774600,9601000,10335600,8432600,21789400,9538600,10714400,8754600,6540600,3703400,17412400,10966800,9119400,9867000,35963000,15293400,9111400,12306600,9412800,7010600,14254000,13936200,12463600,11562400,7558200,11536400,13448600,8309600,9768200,41536000,42624800,18167000,49671000,26482200,8783200,79551800,30058200,18730600,43546200,36480400,19693400,14815200,33754700,16006300,22740100,13356200,19559800,14942500,24560100,20074300,32715600,9323500,16171300,19520100,18125200,21776900,22815400,18275400,30608200,17111000,16050800,40527100,24718700,20571400,32595200,21622900,29135400,28387300,27559400,33455000,45749200,31362000,30382300,44639500,26251600,24920000,23399700,31997200,23754000,16677100,22836200,15424600,16658000,25340600,25770600,30259300,48731200,22197500,14281000,29960700,25462900,17928300,26854300,19018700,34089800,52801600,61476900,34810600,25164600,78093900,40192700,30958500,51092000,40674300,33695400,46135000,35789800,49391300,34338200,36596200,38542100,79065900,48059800,34074900,44838600,41308600,27430900,30181700,28114800,29234400,28210900,40728600,22212400,31992000,37920300,28264600,18105400,26549500,59866200,57477300,70732900,58503200,66217400,10634800,37184800,24500000,28514200,30764500,24106200,22495300,27444900,22009000,18955600,19313000,16713000,10642800,33273300,22675500,16485600,31242200,14136100,15398300,16751000,26929400,19270900,13411100,29228100,15852500,10230500,17488200,17888900,16508200,66682500,22603100,16448800,21293500,21349300,20463900,28336600,45923600,45818400,27082300,28022200,24780100,36588500,15287700,11372500,13688900,14576800,36965800,19948000,14033200,13698000,18551700,11497700,9497200,10729600,26942900,11494300,29144900,19504400,14621500,16431600,21782100,11191000,16154800,19810100,14257000,12590900,15376200,21215500,26498900,31119500,20171900,19509900,19123500,22187300,10793900,13283500,12757500,8411800,9286500,9347800,6671300,33734000,15418300,29481700,26108500,37528100,18076600,12593800,13589600,15549300,9876300,16761500,31332600,8739500,20190100,13971300,12020300,13240200,17022300,18897700,29404200,19895300,22345900,12605900,16202800,19267300,13990900]},\"selected\":{\"id\":\"8772\",\"type\":\"Selection\"},\"selection_policy\":{\"id\":\"8773\",\"type\":\"UnionRenderers\"}},\"id\":\"8460\",\"type\":\"ColumnDataSource\"},{\"attributes\":{\"data_source\":{\"id\":\"8460\",\"type\":\"ColumnDataSource\"},\"glyph\":{\"id\":\"8484\",\"type\":\"Line\"},\"hover_glyph\":null,\"muted_glyph\":null,\"nonselection_glyph\":{\"id\":\"8485\",\"type\":\"Line\"},\"selection_glyph\":null,\"view\":{\"id\":\"8487\",\"type\":\"CDSView\"}},\"id\":\"8486\",\"type\":\"GlyphRenderer\"},{\"attributes\":{\"source\":{\"id\":\"8460\",\"type\":\"ColumnDataSource\"}},\"id\":\"8487\",\"type\":\"CDSView\"},{\"attributes\":{\"text\":\"Hover Tooltip Formatting\"},\"id\":\"8462\",\"type\":\"Title\"}],\"root_ids\":[\"8461\"]},\"title\":\"Bokeh Application\",\"version\":\"1.2.0\"}};\n",
       "  var render_items = [{\"docid\":\"6944ac86-65d9-43ae-9192-6ba19ee2c3b7\",\"roots\":{\"8461\":\"0ef63f2a-affd-44fe-a5c2-4912c8ef82d2\"}}];\n",
       "  root.Bokeh.embed.embed_items_notebook(docs_json, render_items);\n",
       "\n",
       "  }\n",
       "  if (root.Bokeh !== undefined) {\n",
       "    embed_document(root);\n",
       "  } else {\n",
       "    var attempts = 0;\n",
       "    var timer = setInterval(function(root) {\n",
       "      if (root.Bokeh !== undefined) {\n",
       "        embed_document(root);\n",
       "        clearInterval(timer);\n",
       "      }\n",
       "      attempts++;\n",
       "      if (attempts > 100) {\n",
       "        console.log(\"Bokeh: ERROR: Unable to run BokehJS code because BokehJS library is missing\");\n",
       "        clearInterval(timer);\n",
       "      }\n",
       "    }, 10, root)\n",
       "  }\n",
       "})(window);"
      ],
      "application/vnd.bokehjs_exec.v0+json": ""
     },
     "metadata": {
      "application/vnd.bokehjs_exec.v0+json": {
       "id": "8461"
      }
     },
     "output_type": "display_data"
    }
   ],
   "source": [
    "import numpy as np\n",
    "from bokeh.models import ColumnDataSource, HoverTool\n",
    "from bokeh.plotting import figure\n",
    "from bokeh.sampledata.stocks import AAPL # Sample stock data [bokeh built-in]\n",
    "\n",
    "def datetime(x):\n",
    "    return np.array(x, dtype=np.datetime64)\n",
    "\n",
    "source = ColumnDataSource(data={\n",
    "    'date'      : datetime(AAPL['date'][::10]),\n",
    "    'adj close' : AAPL['adj_close'][::10],\n",
    "    'volume'    : AAPL['volume'][::10],\n",
    "})\n",
    "\n",
    "p = figure(plot_height=250, x_axis_type=\"datetime\", tools=\"\", toolbar_location=None,\n",
    "           title=\"Hover Tooltip Formatting\", sizing_mode=\"scale_width\")\n",
    "p.background_fill_color=\"#f5f5f5\"\n",
    "p.grid.grid_line_color=\"white\"\n",
    "p.xaxis.axis_label = 'Date'\n",
    "p.yaxis.axis_label = 'Price'\n",
    "p.axis.axis_line_color = None\n",
    "\n",
    "p.line(x='date', y='adj close', line_width=2, color='#ebbd5b', source=source)\n",
    "\n",
    "p.add_tools(HoverTool(\n",
    "    tooltips=[\n",
    "        ( 'date',   '@date{%F}'            ),\n",
    "        ( 'close',  '$@{adj close}{%0.2f}' ), # use @{ } for field names with spaces\n",
    "        ( 'volume', '@volume{0.00 a}'      ),\n",
    "    ],\n",
    "\n",
    "    formatters={\n",
    "        'date'      : 'datetime', # use 'datetime' formatter for 'date' field\n",
    "        'adj close' : 'printf',   # use 'printf' formatter for 'adj close' field\n",
    "                                  # use default 'numeral' formatter for other fields\n",
    "    },\n",
    "\n",
    "    # display a tooltip whenever the cursor is vertically in line with a glyph\n",
    "    mode='vline'\n",
    "))\n",
    "\n",
    "show(p)"
   ]
  },
  {
   "cell_type": "markdown",
   "metadata": {},
   "source": [
    "### Custom HTML Tooltip"
   ]
  },
  {
   "cell_type": "markdown",
   "metadata": {},
   "source": [
    "It is also possible to supply a custom HTML template for a tooltip. To do this, pass an HTML string, with the Bokeh tooltip field name symbols wherever substitutions are desired. Note that you can also use the {safe} format after the column name to disable the escaping of HTML in the data source. An example is shown below:"
   ]
  },
  {
   "cell_type": "code",
   "execution_count": 42,
   "metadata": {},
   "outputs": [
    {
     "data": {
      "text/html": [
       "\n",
       "\n",
       "\n",
       "\n",
       "\n",
       "\n",
       "  <div class=\"bk-root\" id=\"848c6cd5-25c6-42b3-bbd9-d2c21f31bfda\" data-root-id=\"8901\"></div>\n"
      ]
     },
     "metadata": {},
     "output_type": "display_data"
    },
    {
     "data": {
      "application/javascript": [
       "(function(root) {\n",
       "  function embed_document(root) {\n",
       "    \n",
       "  var docs_json = {\"c0fcf3be-5e1a-4808-9170-4c92950888a0\":{\"roots\":{\"references\":[{\"attributes\":{\"below\":[{\"id\":\"8912\",\"type\":\"LinearAxis\"}],\"center\":[{\"id\":\"8916\",\"type\":\"Grid\"},{\"id\":\"8921\",\"type\":\"Grid\"}],\"left\":[{\"id\":\"8917\",\"type\":\"LinearAxis\"}],\"plot_height\":400,\"plot_width\":400,\"renderers\":[{\"id\":\"8940\",\"type\":\"GlyphRenderer\"}],\"title\":{\"id\":\"8902\",\"type\":\"Title\"},\"toolbar\":{\"id\":\"8929\",\"type\":\"Toolbar\"},\"x_range\":{\"id\":\"8904\",\"type\":\"DataRange1d\"},\"x_scale\":{\"id\":\"8908\",\"type\":\"LinearScale\"},\"y_range\":{\"id\":\"8906\",\"type\":\"DataRange1d\"},\"y_scale\":{\"id\":\"8910\",\"type\":\"LinearScale\"}},\"id\":\"8901\",\"subtype\":\"Figure\",\"type\":\"Plot\"},{\"attributes\":{\"callback\":null,\"data\":{\"desc\":[\"A\",\"b\",\"C\",\"d\",\"E\"],\"fonts\":[\"<i>italics</i>\",\"<pre>pre</pre>\",\"<b>bold</b>\",\"<small>small</small>\",\"<del>del</del>\"],\"imgs\":[\"https://bokeh.pydata.org/static/snake.jpg\",\"https://bokeh.pydata.org/static/snake2.png\",\"https://bokeh.pydata.org/static/snake3D.png\",\"https://bokeh.pydata.org/static/snake4_TheRevenge.png\",\"https://bokeh.pydata.org/static/snakebite.jpg\"],\"x\":[1,2,3,4,5],\"y\":[2,5,8,2,7]},\"selected\":{\"id\":\"9243\",\"type\":\"Selection\"},\"selection_policy\":{\"id\":\"9244\",\"type\":\"UnionRenderers\"}},\"id\":\"8900\",\"type\":\"ColumnDataSource\"},{\"attributes\":{},\"id\":\"8925\",\"type\":\"SaveTool\"},{\"attributes\":{\"text\":\"Mouse over the dots\"},\"id\":\"8902\",\"type\":\"Title\"},{\"attributes\":{\"active_drag\":\"auto\",\"active_inspect\":\"auto\",\"active_multi\":null,\"active_scroll\":\"auto\",\"active_tap\":\"auto\",\"tools\":[{\"id\":\"8922\",\"type\":\"PanTool\"},{\"id\":\"8923\",\"type\":\"WheelZoomTool\"},{\"id\":\"8924\",\"type\":\"BoxZoomTool\"},{\"id\":\"8925\",\"type\":\"SaveTool\"},{\"id\":\"8926\",\"type\":\"ResetTool\"},{\"id\":\"8927\",\"type\":\"HelpTool\"},{\"id\":\"8928\",\"type\":\"HoverTool\"}]},\"id\":\"8929\",\"type\":\"Toolbar\"},{\"attributes\":{},\"id\":\"8922\",\"type\":\"PanTool\"},{\"attributes\":{\"bottom_units\":\"screen\",\"fill_alpha\":{\"value\":0.5},\"fill_color\":{\"value\":\"lightgrey\"},\"left_units\":\"screen\",\"level\":\"overlay\",\"line_alpha\":{\"value\":1.0},\"line_color\":{\"value\":\"black\"},\"line_dash\":[4,4],\"line_width\":{\"value\":2},\"render_mode\":\"css\",\"right_units\":\"screen\",\"top_units\":\"screen\"},\"id\":\"9245\",\"type\":\"BoxAnnotation\"},{\"attributes\":{},\"id\":\"8927\",\"type\":\"HelpTool\"},{\"attributes\":{\"callback\":null,\"tooltips\":\"\\n    <div>\\n        <div>\\n            <img\\n                src=\\\"@imgs\\\" height=\\\"42\\\" alt=\\\"@imgs\\\" width=\\\"42\\\"\\n                style=\\\"float: left; margin: 0px 15px 15px 0px;\\\"\\n                border=\\\"2\\\"\\n            ></img>\\n        </div>\\n        <div>\\n            <span style=\\\"font-size: 17px; font-weight: bold;\\\">@desc</span>\\n            <span style=\\\"font-size: 15px; color: #966;\\\">[$index]</span>\\n        </div>\\n        <div>\\n            <span>@fonts{safe}</span>\\n        </div>\\n        <div>\\n            <span style=\\\"font-size: 15px;\\\">Location</span>\\n            <span style=\\\"font-size: 10px; color: #696;\\\">($x, $y)</span>\\n        </div>\\n    </div>\\n\"},\"id\":\"8928\",\"type\":\"HoverTool\"},{\"attributes\":{},\"id\":\"9244\",\"type\":\"UnionRenderers\"},{\"attributes\":{\"overlay\":{\"id\":\"9245\",\"type\":\"BoxAnnotation\"}},\"id\":\"8924\",\"type\":\"BoxZoomTool\"},{\"attributes\":{\"callback\":null},\"id\":\"8904\",\"type\":\"DataRange1d\"},{\"attributes\":{},\"id\":\"8926\",\"type\":\"ResetTool\"},{\"attributes\":{},\"id\":\"8923\",\"type\":\"WheelZoomTool\"},{\"attributes\":{},\"id\":\"8918\",\"type\":\"BasicTicker\"},{\"attributes\":{},\"id\":\"8908\",\"type\":\"LinearScale\"},{\"attributes\":{},\"id\":\"9239\",\"type\":\"BasicTickFormatter\"},{\"attributes\":{\"callback\":null},\"id\":\"8906\",\"type\":\"DataRange1d\"},{\"attributes\":{},\"id\":\"8910\",\"type\":\"LinearScale\"},{\"attributes\":{\"dimension\":1,\"ticker\":{\"id\":\"8918\",\"type\":\"BasicTicker\"}},\"id\":\"8921\",\"type\":\"Grid\"},{\"attributes\":{\"formatter\":{\"id\":\"9241\",\"type\":\"BasicTickFormatter\"},\"ticker\":{\"id\":\"8913\",\"type\":\"BasicTicker\"}},\"id\":\"8912\",\"type\":\"LinearAxis\"},{\"attributes\":{\"source\":{\"id\":\"8900\",\"type\":\"ColumnDataSource\"}},\"id\":\"8941\",\"type\":\"CDSView\"},{\"attributes\":{\"fill_alpha\":{\"value\":0.1},\"fill_color\":{\"value\":\"#1f77b4\"},\"line_alpha\":{\"value\":0.1},\"line_color\":{\"value\":\"#1f77b4\"},\"size\":{\"units\":\"screen\",\"value\":20},\"x\":{\"field\":\"x\"},\"y\":{\"field\":\"y\"}},\"id\":\"8939\",\"type\":\"Circle\"},{\"attributes\":{},\"id\":\"9241\",\"type\":\"BasicTickFormatter\"},{\"attributes\":{},\"id\":\"8913\",\"type\":\"BasicTicker\"},{\"attributes\":{\"ticker\":{\"id\":\"8913\",\"type\":\"BasicTicker\"}},\"id\":\"8916\",\"type\":\"Grid\"},{\"attributes\":{\"formatter\":{\"id\":\"9239\",\"type\":\"BasicTickFormatter\"},\"ticker\":{\"id\":\"8918\",\"type\":\"BasicTicker\"}},\"id\":\"8917\",\"type\":\"LinearAxis\"},{\"attributes\":{\"fill_color\":{\"value\":\"#1f77b4\"},\"line_color\":{\"value\":\"#1f77b4\"},\"size\":{\"units\":\"screen\",\"value\":20},\"x\":{\"field\":\"x\"},\"y\":{\"field\":\"y\"}},\"id\":\"8938\",\"type\":\"Circle\"},{\"attributes\":{\"data_source\":{\"id\":\"8900\",\"type\":\"ColumnDataSource\"},\"glyph\":{\"id\":\"8938\",\"type\":\"Circle\"},\"hover_glyph\":null,\"muted_glyph\":null,\"nonselection_glyph\":{\"id\":\"8939\",\"type\":\"Circle\"},\"selection_glyph\":null,\"view\":{\"id\":\"8941\",\"type\":\"CDSView\"}},\"id\":\"8940\",\"type\":\"GlyphRenderer\"},{\"attributes\":{},\"id\":\"9243\",\"type\":\"Selection\"}],\"root_ids\":[\"8901\"]},\"title\":\"Bokeh Application\",\"version\":\"1.2.0\"}};\n",
       "  var render_items = [{\"docid\":\"c0fcf3be-5e1a-4808-9170-4c92950888a0\",\"roots\":{\"8901\":\"848c6cd5-25c6-42b3-bbd9-d2c21f31bfda\"}}];\n",
       "  root.Bokeh.embed.embed_items_notebook(docs_json, render_items);\n",
       "\n",
       "  }\n",
       "  if (root.Bokeh !== undefined) {\n",
       "    embed_document(root);\n",
       "  } else {\n",
       "    var attempts = 0;\n",
       "    var timer = setInterval(function(root) {\n",
       "      if (root.Bokeh !== undefined) {\n",
       "        embed_document(root);\n",
       "        clearInterval(timer);\n",
       "      }\n",
       "      attempts++;\n",
       "      if (attempts > 100) {\n",
       "        console.log(\"Bokeh: ERROR: Unable to run BokehJS code because BokehJS library is missing\");\n",
       "        clearInterval(timer);\n",
       "      }\n",
       "    }, 10, root)\n",
       "  }\n",
       "})(window);"
      ],
      "application/vnd.bokehjs_exec.v0+json": ""
     },
     "metadata": {
      "application/vnd.bokehjs_exec.v0+json": {
       "id": "8901"
      }
     },
     "output_type": "display_data"
    }
   ],
   "source": [
    "source = ColumnDataSource(data=dict(\n",
    "    x=[1, 2, 3, 4, 5],\n",
    "    y=[2, 5, 8, 2, 7],\n",
    "    desc=['A', 'b', 'C', 'd', 'E'],\n",
    "    imgs=[\n",
    "        'https://bokeh.pydata.org/static/snake.jpg',\n",
    "        'https://bokeh.pydata.org/static/snake2.png',\n",
    "        'https://bokeh.pydata.org/static/snake3D.png',\n",
    "        'https://bokeh.pydata.org/static/snake4_TheRevenge.png',\n",
    "        'https://bokeh.pydata.org/static/snakebite.jpg'\n",
    "    ],\n",
    "    fonts=[\n",
    "        '<i>italics</i>',\n",
    "        '<pre>pre</pre>',\n",
    "        '<b>bold</b>',\n",
    "        '<small>small</small>',\n",
    "        '<del>del</del>'\n",
    "    ]\n",
    "))\n",
    "\n",
    "TOOLTIPS = \"\"\"\n",
    "    <div>\n",
    "        <div>\n",
    "            <img\n",
    "                src=\"@imgs\" height=\"42\" alt=\"@imgs\" width=\"42\"\n",
    "                style=\"float: left; margin: 0px 15px 15px 0px;\"\n",
    "                border=\"2\"\n",
    "            ></img>\n",
    "        </div>\n",
    "        <div>\n",
    "            <span style=\"font-size: 17px; font-weight: bold;\">@desc</span>\n",
    "            <span style=\"font-size: 15px; color: #966;\">[$index]</span>\n",
    "        </div>\n",
    "        <div>\n",
    "            <span>@fonts{safe}</span>\n",
    "        </div>\n",
    "        <div>\n",
    "            <span style=\"font-size: 15px;\">Location</span>\n",
    "            <span style=\"font-size: 10px; color: #696;\">($x, $y)</span>\n",
    "        </div>\n",
    "    </div>\n",
    "\"\"\"\n",
    "\n",
    "p = figure(plot_width=400, plot_height=400, tooltips=TOOLTIPS,\n",
    "           title=\"Mouse over the dots\")\n",
    "\n",
    "p.circle('x', 'y', size=20, source=source)\n",
    "\n",
    "show(p)"
   ]
  },
  {
   "cell_type": "markdown",
   "metadata": {},
   "source": [
    "## Gridplots and linked charts\n",
    "In this notebook i will figure out some layout options for `bokeh` charts. The `gridplot()` function can be used to arrange Bokeh Plots in grid layout. Linking together various aspects of different plots can be a useful technique for data visualization. In Bokeh, such linkages are typically accomplished by sharing some plot component between plots."
   ]
  },
  {
   "cell_type": "markdown",
   "metadata": {},
   "source": [
    "### Gridplots\n",
    "gridplot() allows to create a N x M layout for visualise several plots in an ordered way. It also collects all tools into a single toolbar, and the currently active tool is the same for all plots in the grid. **It is possible to leave “empty” spaces in the grid by passing None instead of a plot object.**"
   ]
  },
  {
   "cell_type": "code",
   "execution_count": 43,
   "metadata": {},
   "outputs": [],
   "source": [
    "from bokeh.layouts import gridplot\n",
    "from bokeh.palettes import Viridis3\n",
    "from bokeh.plotting import figure\n",
    "import numpy as np"
   ]
  },
  {
   "cell_type": "code",
   "execution_count": 44,
   "metadata": {},
   "outputs": [
    {
     "data": {
      "text/html": [
       "\n",
       "\n",
       "\n",
       "\n",
       "\n",
       "\n",
       "  <div class=\"bk-root\" id=\"47dbc10b-4d94-474b-b698-7fbf5fc6ab1d\" data-root-id=\"9438\"></div>\n"
      ]
     },
     "metadata": {},
     "output_type": "display_data"
    },
    {
     "data": {
      "application/javascript": [
       "(function(root) {\n",
       "  function embed_document(root) {\n",
       "    \n",
       "  var docs_json = {\"680e8634-48ca-4ddd-9f19-4366b7c238f4\":{\"roots\":{\"references\":[{\"attributes\":{\"children\":[{\"id\":\"9437\",\"type\":\"ToolbarBox\"},{\"id\":\"9435\",\"type\":\"GridBox\"}]},\"id\":\"9438\",\"type\":\"Column\"},{\"attributes\":{},\"id\":\"9427\",\"type\":\"BasicTickFormatter\"},{\"attributes\":{},\"id\":\"9378\",\"type\":\"LinearScale\"},{\"attributes\":{},\"id\":\"9429\",\"type\":\"BasicTickFormatter\"},{\"attributes\":{},\"id\":\"9376\",\"type\":\"LinearScale\"},{\"attributes\":{\"formatter\":{\"id\":\"9429\",\"type\":\"BasicTickFormatter\"},\"ticker\":{\"id\":\"9381\",\"type\":\"BasicTicker\"}},\"id\":\"9380\",\"type\":\"LinearAxis\"},{\"attributes\":{},\"id\":\"9431\",\"type\":\"Selection\"},{\"attributes\":{},\"id\":\"9352\",\"type\":\"PanTool\"},{\"attributes\":{},\"id\":\"9432\",\"type\":\"UnionRenderers\"},{\"attributes\":{},\"id\":\"9353\",\"type\":\"WheelZoomTool\"},{\"attributes\":{\"bottom_units\":\"screen\",\"fill_alpha\":{\"value\":0.5},\"fill_color\":{\"value\":\"lightgrey\"},\"left_units\":\"screen\",\"level\":\"overlay\",\"line_alpha\":{\"value\":1.0},\"line_color\":{\"value\":\"black\"},\"line_dash\":[4,4],\"line_width\":{\"value\":2},\"render_mode\":\"css\",\"right_units\":\"screen\",\"top_units\":\"screen\"},\"id\":\"9433\",\"type\":\"BoxAnnotation\"},{\"attributes\":{\"overlay\":{\"id\":\"9424\",\"type\":\"BoxAnnotation\"}},\"id\":\"9354\",\"type\":\"BoxZoomTool\"},{\"attributes\":{\"tools\":[{\"id\":\"9314\",\"type\":\"PanTool\"},{\"id\":\"9315\",\"type\":\"WheelZoomTool\"},{\"id\":\"9316\",\"type\":\"BoxZoomTool\"},{\"id\":\"9317\",\"type\":\"SaveTool\"},{\"id\":\"9318\",\"type\":\"ResetTool\"},{\"id\":\"9319\",\"type\":\"HelpTool\"},{\"id\":\"9352\",\"type\":\"PanTool\"},{\"id\":\"9353\",\"type\":\"WheelZoomTool\"},{\"id\":\"9354\",\"type\":\"BoxZoomTool\"},{\"id\":\"9355\",\"type\":\"SaveTool\"},{\"id\":\"9356\",\"type\":\"ResetTool\"},{\"id\":\"9357\",\"type\":\"HelpTool\"},{\"id\":\"9390\",\"type\":\"PanTool\"},{\"id\":\"9391\",\"type\":\"WheelZoomTool\"},{\"id\":\"9392\",\"type\":\"BoxZoomTool\"},{\"id\":\"9393\",\"type\":\"SaveTool\"},{\"id\":\"9394\",\"type\":\"ResetTool\"},{\"id\":\"9395\",\"type\":\"HelpTool\"}]},\"id\":\"9436\",\"type\":\"ProxyToolbar\"},{\"attributes\":{\"children\":[[{\"id\":\"9294\",\"subtype\":\"Figure\",\"type\":\"Plot\"},0,0],[{\"id\":\"9332\",\"subtype\":\"Figure\",\"type\":\"Plot\"},0,1],[{\"id\":\"9370\",\"subtype\":\"Figure\",\"type\":\"Plot\"},1,1]]},\"id\":\"9435\",\"type\":\"GridBox\"},{\"attributes\":{},\"id\":\"9355\",\"type\":\"SaveTool\"},{\"attributes\":{\"toolbar\":{\"id\":\"9436\",\"type\":\"ProxyToolbar\"},\"toolbar_location\":\"above\"},\"id\":\"9437\",\"type\":\"ToolbarBox\"},{\"attributes\":{},\"id\":\"9356\",\"type\":\"ResetTool\"},{\"attributes\":{},\"id\":\"9357\",\"type\":\"HelpTool\"},{\"attributes\":{},\"id\":\"9381\",\"type\":\"BasicTicker\"},{\"attributes\":{\"ticker\":{\"id\":\"9381\",\"type\":\"BasicTicker\"}},\"id\":\"9384\",\"type\":\"Grid\"},{\"attributes\":{\"formatter\":{\"id\":\"9427\",\"type\":\"BasicTickFormatter\"},\"ticker\":{\"id\":\"9386\",\"type\":\"BasicTicker\"}},\"id\":\"9385\",\"type\":\"LinearAxis\"},{\"attributes\":{},\"id\":\"9386\",\"type\":\"BasicTicker\"},{\"attributes\":{\"dimension\":1,\"ticker\":{\"id\":\"9386\",\"type\":\"BasicTicker\"}},\"id\":\"9389\",\"type\":\"Grid\"},{\"attributes\":{\"fill_alpha\":{\"value\":0.1},\"fill_color\":{\"value\":\"#1f77b4\"},\"line_alpha\":{\"value\":0.1},\"line_color\":{\"value\":\"#1f77b4\"},\"size\":{\"units\":\"screen\",\"value\":3},\"x\":{\"field\":\"x\"},\"y\":{\"field\":\"y\"}},\"id\":\"9405\",\"type\":\"Circle\"},{\"attributes\":{\"fill_color\":{\"value\":\"#FDE724\"},\"line_color\":{\"value\":\"#FDE724\"},\"size\":{\"units\":\"screen\",\"value\":3},\"x\":{\"field\":\"x\"},\"y\":{\"field\":\"y\"}},\"id\":\"9404\",\"type\":\"Circle\"},{\"attributes\":{},\"id\":\"9390\",\"type\":\"PanTool\"},{\"attributes\":{},\"id\":\"9391\",\"type\":\"WheelZoomTool\"},{\"attributes\":{\"overlay\":{\"id\":\"9433\",\"type\":\"BoxAnnotation\"}},\"id\":\"9392\",\"type\":\"BoxZoomTool\"},{\"attributes\":{},\"id\":\"9393\",\"type\":\"SaveTool\"},{\"attributes\":{},\"id\":\"9394\",\"type\":\"ResetTool\"},{\"attributes\":{},\"id\":\"9395\",\"type\":\"HelpTool\"},{\"attributes\":{\"active_drag\":\"auto\",\"active_inspect\":\"auto\",\"active_multi\":null,\"active_scroll\":\"auto\",\"active_tap\":\"auto\",\"tools\":[{\"id\":\"9390\",\"type\":\"PanTool\"},{\"id\":\"9391\",\"type\":\"WheelZoomTool\"},{\"id\":\"9392\",\"type\":\"BoxZoomTool\"},{\"id\":\"9393\",\"type\":\"SaveTool\"},{\"id\":\"9394\",\"type\":\"ResetTool\"},{\"id\":\"9395\",\"type\":\"HelpTool\"}]},\"id\":\"9396\",\"type\":\"Toolbar\"},{\"attributes\":{\"source\":{\"id\":\"9403\",\"type\":\"ColumnDataSource\"}},\"id\":\"9407\",\"type\":\"CDSView\"},{\"attributes\":{},\"id\":\"9409\",\"type\":\"BasicTickFormatter\"},{\"attributes\":{},\"id\":\"9411\",\"type\":\"BasicTickFormatter\"},{\"attributes\":{},\"id\":\"9413\",\"type\":\"Selection\"},{\"attributes\":{},\"id\":\"9414\",\"type\":\"UnionRenderers\"},{\"attributes\":{\"bottom_units\":\"screen\",\"fill_alpha\":{\"value\":0.5},\"fill_color\":{\"value\":\"lightgrey\"},\"left_units\":\"screen\",\"level\":\"overlay\",\"line_alpha\":{\"value\":1.0},\"line_color\":{\"value\":\"black\"},\"line_dash\":[4,4],\"line_width\":{\"value\":2},\"render_mode\":\"css\",\"right_units\":\"screen\",\"top_units\":\"screen\"},\"id\":\"9415\",\"type\":\"BoxAnnotation\"},{\"attributes\":{},\"id\":\"9418\",\"type\":\"BasicTickFormatter\"},{\"attributes\":{},\"id\":\"9420\",\"type\":\"BasicTickFormatter\"},{\"attributes\":{\"callback\":null},\"id\":\"9374\",\"type\":\"DataRange1d\"},{\"attributes\":{},\"id\":\"9422\",\"type\":\"Selection\"},{\"attributes\":{},\"id\":\"9423\",\"type\":\"UnionRenderers\"},{\"attributes\":{\"data_source\":{\"id\":\"9403\",\"type\":\"ColumnDataSource\"},\"glyph\":{\"id\":\"9404\",\"type\":\"Circle\"},\"hover_glyph\":null,\"muted_glyph\":null,\"nonselection_glyph\":{\"id\":\"9405\",\"type\":\"Circle\"},\"selection_glyph\":null,\"view\":{\"id\":\"9407\",\"type\":\"CDSView\"}},\"id\":\"9406\",\"type\":\"GlyphRenderer\"},{\"attributes\":{\"callback\":null,\"data\":{\"x\":{\"__ndarray__\":\"AAAAAAAAAACRGkt8Vz/AP5EaS3xXP9A/2qdwOgNf2D+RGkt8Vz/gPzXhXVstT+Q/2qdwOgNf6D9+boMZ2W7sP5EaS3xXP/A/433Ua0JH8j814V1bLU/0P4dE50oYV/Y/2qdwOgNf+D8sC/op7mb6P35ugxnZbvw/0NEMCcR2/j+RGkt8Vz8AQDrMD/RMQwFA433Ua0JHAkCML5njN0sDQDXhXVstTwRA3pIi0yJTBUCHROdKGFcGQDD2q8INWwdA2qdwOgNfCECDWTWy+GIJQCwL+inuZgpA1by+oeNqC0B+boMZ2W4MQCcgSJHOcg1A0NEMCcR2DkB5g9GAuXoPQJEaS3xXPxBAZnMtOFLBEEA6zA/0TEMRQA8l8q9HxRFA433Ua0JHEkC41rYnPckSQIwvmeM3SxNAYYh7nzLNE0A14V1bLU8UQAo6QBco0RRA3pIi0yJTFUCz6wSPHdUVQIdE50oYVxZAXJ3JBhPZFkAw9qvCDVsXQAVPjn4I3RdA2qdwOgNfGECuAFP2/eAYQINZNbL4YhlAV7IXbvPkGUAsC/op7mYaQABk3OXo6BpA1by+oeNqG0CpFaFd3uwbQH5ugxnZbhxAUsdl1dPwHEAnIEiRznIdQPt4Kk3J9B1A0NEMCcR2HkCkKu/EvvgeQHmD0YC5eh9ATdyzPLT8H0CRGkt8Vz8gQPtGPNpUgCBAZnMtOFLBIEDQnx6WTwIhQDrMD/RMQyFApPgAUkqEIUAPJfKvR8UhQHlR4w1FBiJA433Ua0JHIkBNqsXJP4giQLjWtic9ySJAIgOohToKI0CML5njN0sjQPZbikE1jCNAYYh7nzLNI0DLtGz9Lw4kQDXhXVstTyRAoA1PuSqQJEAKOkAXKNEkQHRmMXUlEiVA3pIi0yJTJUBJvxMxIJQlQLPrBI8d1SVAHRj27BoWJkCHROdKGFcmQPJw2KgVmCZAXJ3JBhPZJkDGybpkEBonQDD2q8INWydAmyKdIAucJ0AFT45+CN0nQG97f9wFHihA2qdwOgNfKEBE1GGYAKAoQK4AU/b94ChAGC1EVPshKUA=\",\"dtype\":\"float64\",\"shape\":[100]},\"y\":{\"__ndarray__\":\"AAAAAAAAAADwgwJ4LjTAP5qI2QHPEtA/+5MNU1HJ1z8ZTT7q2B3fP0aFmgwa+eI/ABg/lCAV5j+IQCEcMdboP3fOhmLzMOs/EyzujrQb7T/9Izwlj47uPxccgYyLg+8/g6xao7j27z9mZrL8O+bvP7+X94FZUu8/xVNiW3I97j9RB8Ai+6vsP5FWKYlppOo/oig6uxkv6D/Sh2bxK1blPyZGRbpaJeI/8qg+VZVT3T/4C4p0qOPVP+UppLIiM8w/3FNHxZdVuD/I23zJpD6gv+3ENsZjOcS/wo12/ecH0r/egWKM2KjZv2MTsJELcOC/83ixWvXH47+258MBZM7mv5eCD4nhdum/rExY6Hq267+TIxAn7YPtvwSssILL1+6/70I4BJ6s77/vOc8G+P7vvzTGy1KGze+/3176khQZ77/C8a4NiuTtvzGcHq/dNOy/mEFFlgER6r+EGZN4xoHnvx8WPFK3keS/Cli7+O1M4b+HQNqEwoHbv9kfIiFb+NO/gKyggGI5yL8EhrXMjDywvyCGtcyMPLA/jqyggGI5yD/gHyIhW/jTP4BA2oTCgds/Dli7+O1M4T8cFjxSt5HkP4cZk3jGgec/lEFFlgER6j8ynB6v3TTsP8Hxrg2K5O0/4F76khQZ7z80xstShs3vP+85zwb4/u8/8EI4BJ6s7z8DrLCCy9fuP5UjECftg+0/p0xY6Hq26z+Vgg+J4XbpP7fnwwFkzuY/9nixWvXH4z9cE7CRC3DgP9eBYozYqNk/w412/ecH0j/+xDbGYznEP0/bfMmkPqA/+VNHxZdVuL/UKaSyIjPMv+gLinSo49W/+Kg+VZVT3b8mRkW6WiXiv8+HZvErVuW/pig6uxkv6L+TVimJaaTqv1EHwCL7q+y/xFNiW3I97r/Al/eBWVLvv2Zmsvw75u+/g6xao7j2778YHIGMi4Pvv/sjPCWPju6/EyzujrQb7b94zoZi8zDrv4xAIRwx1ui//Bc/lCAV5r9GhZoMGvnivx5NPurYHd+/65MNU1HJ17+SiNkBzxLQv/GDAnguNMC/B1wUMyamwbw=\",\"dtype\":\"float64\",\"shape\":[100]}},\"selected\":{\"id\":\"9413\",\"type\":\"Selection\"},\"selection_policy\":{\"id\":\"9414\",\"type\":\"UnionRenderers\"}},\"id\":\"9327\",\"type\":\"ColumnDataSource\"},{\"attributes\":{\"bottom_units\":\"screen\",\"fill_alpha\":{\"value\":0.5},\"fill_color\":{\"value\":\"lightgrey\"},\"left_units\":\"screen\",\"level\":\"overlay\",\"line_alpha\":{\"value\":1.0},\"line_color\":{\"value\":\"black\"},\"line_dash\":[4,4],\"line_width\":{\"value\":2},\"render_mode\":\"css\",\"right_units\":\"screen\",\"top_units\":\"screen\"},\"id\":\"9424\",\"type\":\"BoxAnnotation\"},{\"attributes\":{\"fill_color\":{\"value\":\"#208F8C\"},\"line_color\":{\"value\":\"#208F8C\"},\"size\":{\"units\":\"screen\",\"value\":3},\"x\":{\"field\":\"x\"},\"y\":{\"field\":\"y\"}},\"id\":\"9366\",\"type\":\"Circle\"},{\"attributes\":{\"below\":[{\"id\":\"9304\",\"type\":\"LinearAxis\"}],\"center\":[{\"id\":\"9308\",\"type\":\"Grid\"},{\"id\":\"9313\",\"type\":\"Grid\"}],\"left\":[{\"id\":\"9309\",\"type\":\"LinearAxis\"}],\"plot_height\":250,\"plot_width\":250,\"renderers\":[{\"id\":\"9330\",\"type\":\"GlyphRenderer\"}],\"title\":null,\"toolbar\":{\"id\":\"9320\",\"type\":\"Toolbar\"},\"toolbar_location\":null,\"x_range\":{\"id\":\"9296\",\"type\":\"DataRange1d\"},\"x_scale\":{\"id\":\"9300\",\"type\":\"LinearScale\"},\"y_range\":{\"id\":\"9298\",\"type\":\"DataRange1d\"},\"y_scale\":{\"id\":\"9302\",\"type\":\"LinearScale\"}},\"id\":\"9294\",\"subtype\":\"Figure\",\"type\":\"Plot\"},{\"attributes\":{\"fill_alpha\":{\"value\":0.1},\"fill_color\":{\"value\":\"#1f77b4\"},\"line_alpha\":{\"value\":0.1},\"line_color\":{\"value\":\"#1f77b4\"},\"size\":{\"units\":\"screen\",\"value\":3},\"x\":{\"field\":\"x\"},\"y\":{\"field\":\"y\"}},\"id\":\"9329\",\"type\":\"Circle\"},{\"attributes\":{\"callback\":null},\"id\":\"9296\",\"type\":\"DataRange1d\"},{\"attributes\":{\"callback\":null},\"id\":\"9298\",\"type\":\"DataRange1d\"},{\"attributes\":{},\"id\":\"9300\",\"type\":\"LinearScale\"},{\"attributes\":{},\"id\":\"9302\",\"type\":\"LinearScale\"},{\"attributes\":{\"formatter\":{\"id\":\"9411\",\"type\":\"BasicTickFormatter\"},\"ticker\":{\"id\":\"9305\",\"type\":\"BasicTicker\"}},\"id\":\"9304\",\"type\":\"LinearAxis\"},{\"attributes\":{\"callback\":null},\"id\":\"9372\",\"type\":\"DataRange1d\"},{\"attributes\":{},\"id\":\"9305\",\"type\":\"BasicTicker\"},{\"attributes\":{\"ticker\":{\"id\":\"9305\",\"type\":\"BasicTicker\"}},\"id\":\"9308\",\"type\":\"Grid\"},{\"attributes\":{\"formatter\":{\"id\":\"9409\",\"type\":\"BasicTickFormatter\"},\"ticker\":{\"id\":\"9310\",\"type\":\"BasicTicker\"}},\"id\":\"9309\",\"type\":\"LinearAxis\"},{\"attributes\":{\"active_drag\":\"auto\",\"active_inspect\":\"auto\",\"active_multi\":null,\"active_scroll\":\"auto\",\"active_tap\":\"auto\",\"tools\":[{\"id\":\"9352\",\"type\":\"PanTool\"},{\"id\":\"9353\",\"type\":\"WheelZoomTool\"},{\"id\":\"9354\",\"type\":\"BoxZoomTool\"},{\"id\":\"9355\",\"type\":\"SaveTool\"},{\"id\":\"9356\",\"type\":\"ResetTool\"},{\"id\":\"9357\",\"type\":\"HelpTool\"}]},\"id\":\"9358\",\"type\":\"Toolbar\"},{\"attributes\":{},\"id\":\"9310\",\"type\":\"BasicTicker\"},{\"attributes\":{\"dimension\":1,\"ticker\":{\"id\":\"9310\",\"type\":\"BasicTicker\"}},\"id\":\"9313\",\"type\":\"Grid\"},{\"attributes\":{\"fill_color\":{\"value\":\"#440154\"},\"line_color\":{\"value\":\"#440154\"},\"size\":{\"units\":\"screen\",\"value\":3},\"x\":{\"field\":\"x\"},\"y\":{\"field\":\"y\"}},\"id\":\"9328\",\"type\":\"Circle\"},{\"attributes\":{\"below\":[{\"id\":\"9342\",\"type\":\"LinearAxis\"}],\"center\":[{\"id\":\"9346\",\"type\":\"Grid\"},{\"id\":\"9351\",\"type\":\"Grid\"}],\"left\":[{\"id\":\"9347\",\"type\":\"LinearAxis\"}],\"plot_height\":250,\"plot_width\":250,\"renderers\":[{\"id\":\"9368\",\"type\":\"GlyphRenderer\"}],\"title\":null,\"toolbar\":{\"id\":\"9358\",\"type\":\"Toolbar\"},\"toolbar_location\":null,\"x_range\":{\"id\":\"9334\",\"type\":\"DataRange1d\"},\"x_scale\":{\"id\":\"9338\",\"type\":\"LinearScale\"},\"y_range\":{\"id\":\"9336\",\"type\":\"DataRange1d\"},\"y_scale\":{\"id\":\"9340\",\"type\":\"LinearScale\"}},\"id\":\"9332\",\"subtype\":\"Figure\",\"type\":\"Plot\"},{\"attributes\":{\"data_source\":{\"id\":\"9327\",\"type\":\"ColumnDataSource\"},\"glyph\":{\"id\":\"9328\",\"type\":\"Circle\"},\"hover_glyph\":null,\"muted_glyph\":null,\"nonselection_glyph\":{\"id\":\"9329\",\"type\":\"Circle\"},\"selection_glyph\":null,\"view\":{\"id\":\"9331\",\"type\":\"CDSView\"}},\"id\":\"9330\",\"type\":\"GlyphRenderer\"},{\"attributes\":{},\"id\":\"9314\",\"type\":\"PanTool\"},{\"attributes\":{},\"id\":\"9315\",\"type\":\"WheelZoomTool\"},{\"attributes\":{\"overlay\":{\"id\":\"9415\",\"type\":\"BoxAnnotation\"}},\"id\":\"9316\",\"type\":\"BoxZoomTool\"},{\"attributes\":{},\"id\":\"9317\",\"type\":\"SaveTool\"},{\"attributes\":{},\"id\":\"9318\",\"type\":\"ResetTool\"},{\"attributes\":{},\"id\":\"9319\",\"type\":\"HelpTool\"},{\"attributes\":{\"active_drag\":\"auto\",\"active_inspect\":\"auto\",\"active_multi\":null,\"active_scroll\":\"auto\",\"active_tap\":\"auto\",\"tools\":[{\"id\":\"9314\",\"type\":\"PanTool\"},{\"id\":\"9315\",\"type\":\"WheelZoomTool\"},{\"id\":\"9316\",\"type\":\"BoxZoomTool\"},{\"id\":\"9317\",\"type\":\"SaveTool\"},{\"id\":\"9318\",\"type\":\"ResetTool\"},{\"id\":\"9319\",\"type\":\"HelpTool\"}]},\"id\":\"9320\",\"type\":\"Toolbar\"},{\"attributes\":{\"source\":{\"id\":\"9327\",\"type\":\"ColumnDataSource\"}},\"id\":\"9331\",\"type\":\"CDSView\"},{\"attributes\":{\"callback\":null,\"data\":{\"x\":{\"__ndarray__\":\"AAAAAAAAAACRGkt8Vz/AP5EaS3xXP9A/2qdwOgNf2D+RGkt8Vz/gPzXhXVstT+Q/2qdwOgNf6D9+boMZ2W7sP5EaS3xXP/A/433Ua0JH8j814V1bLU/0P4dE50oYV/Y/2qdwOgNf+D8sC/op7mb6P35ugxnZbvw/0NEMCcR2/j+RGkt8Vz8AQDrMD/RMQwFA433Ua0JHAkCML5njN0sDQDXhXVstTwRA3pIi0yJTBUCHROdKGFcGQDD2q8INWwdA2qdwOgNfCECDWTWy+GIJQCwL+inuZgpA1by+oeNqC0B+boMZ2W4MQCcgSJHOcg1A0NEMCcR2DkB5g9GAuXoPQJEaS3xXPxBAZnMtOFLBEEA6zA/0TEMRQA8l8q9HxRFA433Ua0JHEkC41rYnPckSQIwvmeM3SxNAYYh7nzLNE0A14V1bLU8UQAo6QBco0RRA3pIi0yJTFUCz6wSPHdUVQIdE50oYVxZAXJ3JBhPZFkAw9qvCDVsXQAVPjn4I3RdA2qdwOgNfGECuAFP2/eAYQINZNbL4YhlAV7IXbvPkGUAsC/op7mYaQABk3OXo6BpA1by+oeNqG0CpFaFd3uwbQH5ugxnZbhxAUsdl1dPwHEAnIEiRznIdQPt4Kk3J9B1A0NEMCcR2HkCkKu/EvvgeQHmD0YC5eh9ATdyzPLT8H0CRGkt8Vz8gQPtGPNpUgCBAZnMtOFLBIEDQnx6WTwIhQDrMD/RMQyFApPgAUkqEIUAPJfKvR8UhQHlR4w1FBiJA433Ua0JHIkBNqsXJP4giQLjWtic9ySJAIgOohToKI0CML5njN0sjQPZbikE1jCNAYYh7nzLNI0DLtGz9Lw4kQDXhXVstTyRAoA1PuSqQJEAKOkAXKNEkQHRmMXUlEiVA3pIi0yJTJUBJvxMxIJQlQLPrBI8d1SVAHRj27BoWJkCHROdKGFcmQPJw2KgVmCZAXJ3JBhPZJkDGybpkEBonQDD2q8INWydAmyKdIAucJ0AFT45+CN0nQG97f9wFHihA2qdwOgNfKEBE1GGYAKAoQK4AU/b94ChAGC1EVPshKUA=\",\"dtype\":\"float64\",\"shape\":[100]},\"y\":{\"__ndarray__\":\"AAAAAAAA8D9o+gYFGL7vPyN/Fo5v+e4/XLHeqjC17T9foQT4kvbrP1YykSHGxOk/tDkVSdQo5z9AE3HJfC3kP10soPEH3+A/thLH2SiW2j9bQ2NRvgDTP4xzC34aOsY/cyCwKKhcqD8NyeikuUm0v0/eq9oaN8q/PSGBd67u1L+LyZhelmvcv8/m3JG2ueG/hlh3f5705L9dUsfUNNnnv10cd/2OW+q/wfLvCVdx7L8bLVJC9hHuv0PyRoe4Nu+/XjTx7ufa778HB0As4PvvvwQ9tXAZme+/V1DNmyq07r/ZTwivwlDtv4lZi6GZdOu/JeDa0Vgn6b/aPrV2e3Lmv820DJEnYeO/+v//////3783i/Tn4LnYv4yAwi7oDdG/30QPZF83wr9U+ijPKj+QvxHsuGvkX7w/k1rgSlktzj+GU4hOOdfWP1q1P3WwOd4/AasNgtOP4j+XUJVeWbblPzhQz6Jvg+g/uvBkh4zr6j99NRQyxuTsP/FJcov7Zu4/Juk3u/Vr7z+VSynBge/vP5RLKcGB7+8/Jek3u/Vr7z/vSXKL+2buP381FDLG5Ow/uPBkh4zr6j86UM+ib4PoP5VQlV5ZtuU/BasNgtOP4j9UtT91sDneP45TiE4519Y/hVrgSlktzj807Lhr5F+8P8f6KM8qP5C/zUQPZF83wr+SgMIu6A3Rvy6L9Ofgudi/BgAAAAAA4L/PtAyRJ2Hjv9k+tXZ7cua/I+Da0Vgn6b+NWYuhmXTrv9pPCK/CUO2/V1DNmyq07r8EPbVwGZnvvwgHQCzg+++/XjTx7ufa779E8kaHuDbvvx4tUkL2Ee6/wPLvCVdx7L9dHHf9jlvqv2BSx9Q02ee/gVh3f5705L/M5tyRtrnhv4zJmF6Wa9y/RiGBd67u1L8x3qvaGjfKv/DI6KS5SbS/bCCwKKhcqD90cwt+GjrGP2VDY1G+ANM/uRLH2SiW2j9aLKDxB9/gPzoTccl8LeQ/uDkVSdQo5z9WMpEhxsTpP16hBPiS9us/X7HeqjC17T8kfxaOb/nuP2j6BgUYvu8/AAAAAAAA8D8=\",\"dtype\":\"float64\",\"shape\":[100]}},\"selected\":{\"id\":\"9422\",\"type\":\"Selection\"},\"selection_policy\":{\"id\":\"9423\",\"type\":\"UnionRenderers\"}},\"id\":\"9365\",\"type\":\"ColumnDataSource\"},{\"attributes\":{\"below\":[{\"id\":\"9380\",\"type\":\"LinearAxis\"}],\"center\":[{\"id\":\"9384\",\"type\":\"Grid\"},{\"id\":\"9389\",\"type\":\"Grid\"}],\"left\":[{\"id\":\"9385\",\"type\":\"LinearAxis\"}],\"plot_height\":250,\"plot_width\":250,\"renderers\":[{\"id\":\"9406\",\"type\":\"GlyphRenderer\"}],\"title\":null,\"toolbar\":{\"id\":\"9396\",\"type\":\"Toolbar\"},\"toolbar_location\":null,\"x_range\":{\"id\":\"9372\",\"type\":\"DataRange1d\"},\"x_scale\":{\"id\":\"9376\",\"type\":\"LinearScale\"},\"y_range\":{\"id\":\"9374\",\"type\":\"DataRange1d\"},\"y_scale\":{\"id\":\"9378\",\"type\":\"LinearScale\"}},\"id\":\"9370\",\"subtype\":\"Figure\",\"type\":\"Plot\"},{\"attributes\":{\"callback\":null},\"id\":\"9334\",\"type\":\"DataRange1d\"},{\"attributes\":{\"callback\":null},\"id\":\"9336\",\"type\":\"DataRange1d\"},{\"attributes\":{},\"id\":\"9338\",\"type\":\"LinearScale\"},{\"attributes\":{},\"id\":\"9340\",\"type\":\"LinearScale\"},{\"attributes\":{\"formatter\":{\"id\":\"9420\",\"type\":\"BasicTickFormatter\"},\"ticker\":{\"id\":\"9343\",\"type\":\"BasicTicker\"}},\"id\":\"9342\",\"type\":\"LinearAxis\"},{\"attributes\":{\"data_source\":{\"id\":\"9365\",\"type\":\"ColumnDataSource\"},\"glyph\":{\"id\":\"9366\",\"type\":\"Circle\"},\"hover_glyph\":null,\"muted_glyph\":null,\"nonselection_glyph\":{\"id\":\"9367\",\"type\":\"Circle\"},\"selection_glyph\":null,\"view\":{\"id\":\"9369\",\"type\":\"CDSView\"}},\"id\":\"9368\",\"type\":\"GlyphRenderer\"},{\"attributes\":{},\"id\":\"9343\",\"type\":\"BasicTicker\"},{\"attributes\":{\"ticker\":{\"id\":\"9343\",\"type\":\"BasicTicker\"}},\"id\":\"9346\",\"type\":\"Grid\"},{\"attributes\":{\"fill_alpha\":{\"value\":0.1},\"fill_color\":{\"value\":\"#1f77b4\"},\"line_alpha\":{\"value\":0.1},\"line_color\":{\"value\":\"#1f77b4\"},\"size\":{\"units\":\"screen\",\"value\":3},\"x\":{\"field\":\"x\"},\"y\":{\"field\":\"y\"}},\"id\":\"9367\",\"type\":\"Circle\"},{\"attributes\":{\"formatter\":{\"id\":\"9418\",\"type\":\"BasicTickFormatter\"},\"ticker\":{\"id\":\"9348\",\"type\":\"BasicTicker\"}},\"id\":\"9347\",\"type\":\"LinearAxis\"},{\"attributes\":{\"source\":{\"id\":\"9365\",\"type\":\"ColumnDataSource\"}},\"id\":\"9369\",\"type\":\"CDSView\"},{\"attributes\":{},\"id\":\"9348\",\"type\":\"BasicTicker\"},{\"attributes\":{\"dimension\":1,\"ticker\":{\"id\":\"9348\",\"type\":\"BasicTicker\"}},\"id\":\"9351\",\"type\":\"Grid\"},{\"attributes\":{\"callback\":null,\"data\":{\"x\":{\"__ndarray__\":\"AAAAAAAAAACRGkt8Vz/AP5EaS3xXP9A/2qdwOgNf2D+RGkt8Vz/gPzXhXVstT+Q/2qdwOgNf6D9+boMZ2W7sP5EaS3xXP/A/433Ua0JH8j814V1bLU/0P4dE50oYV/Y/2qdwOgNf+D8sC/op7mb6P35ugxnZbvw/0NEMCcR2/j+RGkt8Vz8AQDrMD/RMQwFA433Ua0JHAkCML5njN0sDQDXhXVstTwRA3pIi0yJTBUCHROdKGFcGQDD2q8INWwdA2qdwOgNfCECDWTWy+GIJQCwL+inuZgpA1by+oeNqC0B+boMZ2W4MQCcgSJHOcg1A0NEMCcR2DkB5g9GAuXoPQJEaS3xXPxBAZnMtOFLBEEA6zA/0TEMRQA8l8q9HxRFA433Ua0JHEkC41rYnPckSQIwvmeM3SxNAYYh7nzLNE0A14V1bLU8UQAo6QBco0RRA3pIi0yJTFUCz6wSPHdUVQIdE50oYVxZAXJ3JBhPZFkAw9qvCDVsXQAVPjn4I3RdA2qdwOgNfGECuAFP2/eAYQINZNbL4YhlAV7IXbvPkGUAsC/op7mYaQABk3OXo6BpA1by+oeNqG0CpFaFd3uwbQH5ugxnZbhxAUsdl1dPwHEAnIEiRznIdQPt4Kk3J9B1A0NEMCcR2HkCkKu/EvvgeQHmD0YC5eh9ATdyzPLT8H0CRGkt8Vz8gQPtGPNpUgCBAZnMtOFLBIEDQnx6WTwIhQDrMD/RMQyFApPgAUkqEIUAPJfKvR8UhQHlR4w1FBiJA433Ua0JHIkBNqsXJP4giQLjWtic9ySJAIgOohToKI0CML5njN0sjQPZbikE1jCNAYYh7nzLNI0DLtGz9Lw4kQDXhXVstTyRAoA1PuSqQJEAKOkAXKNEkQHRmMXUlEiVA3pIi0yJTJUBJvxMxIJQlQLPrBI8d1SVAHRj27BoWJkCHROdKGFcmQPJw2KgVmCZAXJ3JBhPZJkDGybpkEBonQDD2q8INWydAmyKdIAucJ0AFT45+CN0nQG97f9wFHihA2qdwOgNfKEBE1GGYAKAoQK4AU/b94ChAGC1EVPshKUA=\",\"dtype\":\"float64\",\"shape\":[100]},\"y\":{\"__ndarray__\":\"AAAAAAAA8D+yzYPRkeXxP7ihgYdrgfM/rb0yquzM9D/245G2v8L1P87bFRfwXvY/2iiqbvqe9j/kKcny1oH2P2p9E6r9B/Y/t9rofWQz9T/V4vYmdwf0P338ARYJifI/RdfykkG+8D9ETRXIBF3tPyugTMuSxOg/JsOhHxvG4z8XRefmX+zcP4TfmO5l1dE/4IAW3tnTuT9YVAYbRxi0v26sY4ZobNC/kDyhvhiP278fJw0IIiDjv8rnndrvKei/4klI9jTQ7L9i6ms85X/wvyB3ITG5U/K/nEtETQ/c879kyJx6lxL1v3a2nZlS8vW/jCxGFqd39r9Ikzy8b6D2v7IbDo0EbPa/VCYsdD3b9b+XNIXNbvD0vyX2CM1fr/O/Ewqe7jod8r/hQKSueEDwv7KoVMWJQey/OkhCQL6N57//x2pm7XjivwiD/egKMNq/XFreULgEzr/Qjtyf0basv8jQmYTCjb8/YDFTHT090z9zKk7fyUfePwQ64frNauQ/Br4PG51d6T/UmpIn8OftPyz+X62J+/A/JAqwLSe98j/wrAGOlDH0P+CqQLrTUvU/YyQQQD0c9j8rs4V6k4r2Pw41lOsPnPY/THYpjGpQ9j9uO9/02qj1P8SNeVoTqPQ/wTrZcjVS8z/dcSFwwazxPxnyVbD+fO8/vXE0K8Ye6z+6a09r11DmP/7dFbP8JuE/Qpmw0PVs1z8YNwvg51bIP4A3qsMi+oY/tJyl3I19xb9ijLYfHAnWv+4O12hWfOC/dgkSnTaw5b/Eiyd/wIrqv1M5qN/19+6/bw/Nc81y8b9c/veZwCHzv4mZSz7lgfS/nqNH2pCN9b9CMd7bdED2vxjtFmOwl/a/lMBYHdyR9r+wHoMNEC/2vww2BinjcPW/NHKRy2Ra9L+mR1EcEPDyv8K/p5i5N/G/fKrPIO5w7r87P/7sBPXpv0iCivwvDuW/bUUVRECh3788RM3h1qPUv0i1wErRosK/wBtiTTs7oT9AtNpTsC7LP571ygVNz9g/audXAYjQ4T/buikNCPDmP2xZBmcMses//P//////7z8=\",\"dtype\":\"float64\",\"shape\":[100]}},\"selected\":{\"id\":\"9431\",\"type\":\"Selection\"},\"selection_policy\":{\"id\":\"9432\",\"type\":\"UnionRenderers\"}},\"id\":\"9403\",\"type\":\"ColumnDataSource\"}],\"root_ids\":[\"9438\"]},\"title\":\"Bokeh Application\",\"version\":\"1.2.0\"}};\n",
       "  var render_items = [{\"docid\":\"680e8634-48ca-4ddd-9f19-4366b7c238f4\",\"roots\":{\"9438\":\"47dbc10b-4d94-474b-b698-7fbf5fc6ab1d\"}}];\n",
       "  root.Bokeh.embed.embed_items_notebook(docs_json, render_items);\n",
       "\n",
       "  }\n",
       "  if (root.Bokeh !== undefined) {\n",
       "    embed_document(root);\n",
       "  } else {\n",
       "    var attempts = 0;\n",
       "    var timer = setInterval(function(root) {\n",
       "      if (root.Bokeh !== undefined) {\n",
       "        embed_document(root);\n",
       "        clearInterval(timer);\n",
       "      }\n",
       "      attempts++;\n",
       "      if (attempts > 100) {\n",
       "        console.log(\"Bokeh: ERROR: Unable to run BokehJS code because BokehJS library is missing\");\n",
       "        clearInterval(timer);\n",
       "      }\n",
       "    }, 10, root)\n",
       "  }\n",
       "})(window);"
      ],
      "application/vnd.bokehjs_exec.v0+json": ""
     },
     "metadata": {
      "application/vnd.bokehjs_exec.v0+json": {
       "id": "9438"
      }
     },
     "output_type": "display_data"
    }
   ],
   "source": [
    "N = 100\n",
    "x = np.linspace(0, 4*np.pi, N)\n",
    "y0 = np.sin(x)\n",
    "y1 = np.cos(x)\n",
    "y2 = np.sin(x) + np.cos(x)\n",
    "\n",
    "# create three plots\n",
    "p1 = figure(plot_width=250, plot_height=250, title=None)\n",
    "p1.circle(x, y0, size=3, color=Viridis3[0])\n",
    "\n",
    "p2 = figure(plot_width=250, plot_height=250, title=None)\n",
    "p2.circle(x, y1, size=3, color=Viridis3[1])\n",
    "\n",
    "p3 = figure(plot_width=250, plot_height=250, title=None)\n",
    "p3.circle(x, y2, size=3, color=Viridis3[2])\n",
    "\n",
    "# make a grid\n",
    "grid = gridplot([[p1, p2], [None, p3]])\n",
    "\n",
    "# show the results\n",
    "show(grid)"
   ]
  },
  {
   "cell_type": "markdown",
   "metadata": {},
   "source": [
    "For convenience you can also just pass a list of plots, and specify the number of columns you want in your grid. For example,\n",
    "\n",
    "`gridplot([[s1, s2], [s3, None]])`\n",
    "\n",
    "and\n",
    "\n",
    "`gridplot([s1, s2, s3], ncols=2)`\n",
    "\n",
    "Furthermore, you can specify the size of the plots in the gridplot istruction."
   ]
  },
  {
   "cell_type": "code",
   "execution_count": 45,
   "metadata": {},
   "outputs": [
    {
     "data": {
      "text/html": [
       "\n",
       "\n",
       "\n",
       "\n",
       "\n",
       "\n",
       "  <div class=\"bk-root\" id=\"177634bb-c163-40a8-b591-a745237c4327\" data-root-id=\"10055\"></div>\n"
      ]
     },
     "metadata": {},
     "output_type": "display_data"
    },
    {
     "data": {
      "application/javascript": [
       "(function(root) {\n",
       "  function embed_document(root) {\n",
       "    \n",
       "  var docs_json = {\"ef565b6d-9782-423b-b0ac-e5a314acd56d\":{\"roots\":{\"references\":[{\"attributes\":{\"children\":[{\"id\":\"10054\",\"type\":\"ToolbarBox\"},{\"id\":\"10052\",\"type\":\"GridBox\"}]},\"id\":\"10055\",\"type\":\"Column\"},{\"attributes\":{\"active_drag\":\"auto\",\"active_inspect\":\"auto\",\"active_multi\":null,\"active_scroll\":\"auto\",\"active_tap\":\"auto\",\"tools\":[{\"id\":\"10004\",\"type\":\"PanTool\"},{\"id\":\"10005\",\"type\":\"WheelZoomTool\"},{\"id\":\"10006\",\"type\":\"BoxZoomTool\"},{\"id\":\"10007\",\"type\":\"SaveTool\"},{\"id\":\"10008\",\"type\":\"ResetTool\"},{\"id\":\"10009\",\"type\":\"HelpTool\"}]},\"id\":\"10010\",\"type\":\"Toolbar\"},{\"attributes\":{\"data_source\":{\"id\":\"10017\",\"type\":\"ColumnDataSource\"},\"glyph\":{\"id\":\"10018\",\"type\":\"Circle\"},\"hover_glyph\":null,\"muted_glyph\":null,\"nonselection_glyph\":{\"id\":\"10019\",\"type\":\"Circle\"},\"selection_glyph\":null,\"view\":{\"id\":\"10021\",\"type\":\"CDSView\"}},\"id\":\"10020\",\"type\":\"GlyphRenderer\"},{\"attributes\":{\"source\":{\"id\":\"10017\",\"type\":\"ColumnDataSource\"}},\"id\":\"10021\",\"type\":\"CDSView\"},{\"attributes\":{\"text\":\"\"},\"id\":\"10022\",\"type\":\"Title\"},{\"attributes\":{\"below\":[{\"id\":\"9994\",\"type\":\"LinearAxis\"}],\"center\":[{\"id\":\"9998\",\"type\":\"Grid\"},{\"id\":\"10003\",\"type\":\"Grid\"}],\"left\":[{\"id\":\"9999\",\"type\":\"LinearAxis\"}],\"plot_height\":250,\"plot_width\":250,\"renderers\":[{\"id\":\"10020\",\"type\":\"GlyphRenderer\"}],\"title\":{\"id\":\"10042\",\"type\":\"Title\"},\"toolbar\":{\"id\":\"10010\",\"type\":\"Toolbar\"},\"toolbar_location\":null,\"x_range\":{\"id\":\"9986\",\"type\":\"DataRange1d\"},\"x_scale\":{\"id\":\"9990\",\"type\":\"LinearScale\"},\"y_range\":{\"id\":\"9988\",\"type\":\"DataRange1d\"},\"y_scale\":{\"id\":\"9992\",\"type\":\"LinearScale\"}},\"id\":\"9985\",\"subtype\":\"Figure\",\"type\":\"Plot\"},{\"attributes\":{},\"id\":\"10024\",\"type\":\"BasicTickFormatter\"},{\"attributes\":{},\"id\":\"10026\",\"type\":\"BasicTickFormatter\"},{\"attributes\":{},\"id\":\"10028\",\"type\":\"Selection\"},{\"attributes\":{\"callback\":null,\"data\":{\"x\":{\"__ndarray__\":\"AAAAAAAAAACRGkt8Vz/AP5EaS3xXP9A/2qdwOgNf2D+RGkt8Vz/gPzXhXVstT+Q/2qdwOgNf6D9+boMZ2W7sP5EaS3xXP/A/433Ua0JH8j814V1bLU/0P4dE50oYV/Y/2qdwOgNf+D8sC/op7mb6P35ugxnZbvw/0NEMCcR2/j+RGkt8Vz8AQDrMD/RMQwFA433Ua0JHAkCML5njN0sDQDXhXVstTwRA3pIi0yJTBUCHROdKGFcGQDD2q8INWwdA2qdwOgNfCECDWTWy+GIJQCwL+inuZgpA1by+oeNqC0B+boMZ2W4MQCcgSJHOcg1A0NEMCcR2DkB5g9GAuXoPQJEaS3xXPxBAZnMtOFLBEEA6zA/0TEMRQA8l8q9HxRFA433Ua0JHEkC41rYnPckSQIwvmeM3SxNAYYh7nzLNE0A14V1bLU8UQAo6QBco0RRA3pIi0yJTFUCz6wSPHdUVQIdE50oYVxZAXJ3JBhPZFkAw9qvCDVsXQAVPjn4I3RdA2qdwOgNfGECuAFP2/eAYQINZNbL4YhlAV7IXbvPkGUAsC/op7mYaQABk3OXo6BpA1by+oeNqG0CpFaFd3uwbQH5ugxnZbhxAUsdl1dPwHEAnIEiRznIdQPt4Kk3J9B1A0NEMCcR2HkCkKu/EvvgeQHmD0YC5eh9ATdyzPLT8H0CRGkt8Vz8gQPtGPNpUgCBAZnMtOFLBIEDQnx6WTwIhQDrMD/RMQyFApPgAUkqEIUAPJfKvR8UhQHlR4w1FBiJA433Ua0JHIkBNqsXJP4giQLjWtic9ySJAIgOohToKI0CML5njN0sjQPZbikE1jCNAYYh7nzLNI0DLtGz9Lw4kQDXhXVstTyRAoA1PuSqQJEAKOkAXKNEkQHRmMXUlEiVA3pIi0yJTJUBJvxMxIJQlQLPrBI8d1SVAHRj27BoWJkCHROdKGFcmQPJw2KgVmCZAXJ3JBhPZJkDGybpkEBonQDD2q8INWydAmyKdIAucJ0AFT45+CN0nQG97f9wFHihA2qdwOgNfKEBE1GGYAKAoQK4AU/b94ChAGC1EVPshKUA=\",\"dtype\":\"float64\",\"shape\":[100]},\"y\":{\"__ndarray__\":\"AAAAAAAAAADwgwJ4LjTAP5qI2QHPEtA/+5MNU1HJ1z8ZTT7q2B3fP0aFmgwa+eI/ABg/lCAV5j+IQCEcMdboP3fOhmLzMOs/EyzujrQb7T/9Izwlj47uPxccgYyLg+8/g6xao7j27z9mZrL8O+bvP7+X94FZUu8/xVNiW3I97j9RB8Ai+6vsP5FWKYlppOo/oig6uxkv6D/Sh2bxK1blPyZGRbpaJeI/8qg+VZVT3T/4C4p0qOPVP+UppLIiM8w/3FNHxZdVuD/I23zJpD6gv+3ENsZjOcS/wo12/ecH0r/egWKM2KjZv2MTsJELcOC/83ixWvXH47+258MBZM7mv5eCD4nhdum/rExY6Hq267+TIxAn7YPtvwSssILL1+6/70I4BJ6s77/vOc8G+P7vvzTGy1KGze+/3176khQZ77/C8a4NiuTtvzGcHq/dNOy/mEFFlgER6r+EGZN4xoHnvx8WPFK3keS/Cli7+O1M4b+HQNqEwoHbv9kfIiFb+NO/gKyggGI5yL8EhrXMjDywvyCGtcyMPLA/jqyggGI5yD/gHyIhW/jTP4BA2oTCgds/Dli7+O1M4T8cFjxSt5HkP4cZk3jGgec/lEFFlgER6j8ynB6v3TTsP8Hxrg2K5O0/4F76khQZ7z80xstShs3vP+85zwb4/u8/8EI4BJ6s7z8DrLCCy9fuP5UjECftg+0/p0xY6Hq26z+Vgg+J4XbpP7fnwwFkzuY/9nixWvXH4z9cE7CRC3DgP9eBYozYqNk/w412/ecH0j/+xDbGYznEP0/bfMmkPqA/+VNHxZdVuL/UKaSyIjPMv+gLinSo49W/+Kg+VZVT3b8mRkW6WiXiv8+HZvErVuW/pig6uxkv6L+TVimJaaTqv1EHwCL7q+y/xFNiW3I97r/Al/eBWVLvv2Zmsvw75u+/g6xao7j2778YHIGMi4Pvv/sjPCWPju6/EyzujrQb7b94zoZi8zDrv4xAIRwx1ui//Bc/lCAV5r9GhZoMGvnivx5NPurYHd+/65MNU1HJ17+SiNkBzxLQv/GDAnguNMC/B1wUMyamwbw=\",\"dtype\":\"float64\",\"shape\":[100]}},\"selected\":{\"id\":\"10028\",\"type\":\"Selection\"},\"selection_policy\":{\"id\":\"10029\",\"type\":\"UnionRenderers\"}},\"id\":\"9943\",\"type\":\"ColumnDataSource\"},{\"attributes\":{},\"id\":\"10029\",\"type\":\"UnionRenderers\"},{\"attributes\":{\"bottom_units\":\"screen\",\"fill_alpha\":{\"value\":0.5},\"fill_color\":{\"value\":\"lightgrey\"},\"left_units\":\"screen\",\"level\":\"overlay\",\"line_alpha\":{\"value\":1.0},\"line_color\":{\"value\":\"black\"},\"line_dash\":[4,4],\"line_width\":{\"value\":2},\"render_mode\":\"css\",\"right_units\":\"screen\",\"top_units\":\"screen\"},\"id\":\"10030\",\"type\":\"BoxAnnotation\"},{\"attributes\":{\"callback\":null},\"id\":\"9951\",\"type\":\"DataRange1d\"},{\"attributes\":{},\"id\":\"9916\",\"type\":\"LinearScale\"},{\"attributes\":{},\"id\":\"10034\",\"type\":\"BasicTickFormatter\"},{\"attributes\":{\"fill_alpha\":{\"value\":0.1},\"fill_color\":{\"value\":\"#1f77b4\"},\"line_alpha\":{\"value\":0.1},\"line_color\":{\"value\":\"#1f77b4\"},\"size\":{\"units\":\"screen\",\"value\":3},\"x\":{\"field\":\"x\"},\"y\":{\"field\":\"y\"}},\"id\":\"9945\",\"type\":\"Circle\"},{\"attributes\":{},\"id\":\"10036\",\"type\":\"BasicTickFormatter\"},{\"attributes\":{},\"id\":\"10038\",\"type\":\"Selection\"},{\"attributes\":{},\"id\":\"10039\",\"type\":\"UnionRenderers\"},{\"attributes\":{\"callback\":null},\"id\":\"9912\",\"type\":\"DataRange1d\"},{\"attributes\":{\"callback\":null},\"id\":\"9949\",\"type\":\"DataRange1d\"},{\"attributes\":{\"bottom_units\":\"screen\",\"fill_alpha\":{\"value\":0.5},\"fill_color\":{\"value\":\"lightgrey\"},\"left_units\":\"screen\",\"level\":\"overlay\",\"line_alpha\":{\"value\":1.0},\"line_color\":{\"value\":\"black\"},\"line_dash\":[4,4],\"line_width\":{\"value\":2},\"render_mode\":\"css\",\"right_units\":\"screen\",\"top_units\":\"screen\"},\"id\":\"10040\",\"type\":\"BoxAnnotation\"},{\"attributes\":{\"data_source\":{\"id\":\"9980\",\"type\":\"ColumnDataSource\"},\"glyph\":{\"id\":\"9981\",\"type\":\"Circle\"},\"hover_glyph\":null,\"muted_glyph\":null,\"nonselection_glyph\":{\"id\":\"9982\",\"type\":\"Circle\"},\"selection_glyph\":null,\"view\":{\"id\":\"9984\",\"type\":\"CDSView\"}},\"id\":\"9983\",\"type\":\"GlyphRenderer\"},{\"attributes\":{\"text\":\"\"},\"id\":\"10042\",\"type\":\"Title\"},{\"attributes\":{},\"id\":\"9921\",\"type\":\"BasicTicker\"},{\"attributes\":{\"callback\":null},\"id\":\"9914\",\"type\":\"DataRange1d\"},{\"attributes\":{},\"id\":\"10044\",\"type\":\"BasicTickFormatter\"},{\"attributes\":{},\"id\":\"9918\",\"type\":\"LinearScale\"},{\"attributes\":{},\"id\":\"10046\",\"type\":\"BasicTickFormatter\"},{\"attributes\":{\"formatter\":{\"id\":\"10026\",\"type\":\"BasicTickFormatter\"},\"ticker\":{\"id\":\"9921\",\"type\":\"BasicTicker\"}},\"id\":\"9920\",\"type\":\"LinearAxis\"},{\"attributes\":{\"ticker\":{\"id\":\"9921\",\"type\":\"BasicTicker\"}},\"id\":\"9924\",\"type\":\"Grid\"},{\"attributes\":{},\"id\":\"10048\",\"type\":\"Selection\"},{\"attributes\":{},\"id\":\"10049\",\"type\":\"UnionRenderers\"},{\"attributes\":{\"formatter\":{\"id\":\"10024\",\"type\":\"BasicTickFormatter\"},\"ticker\":{\"id\":\"9926\",\"type\":\"BasicTicker\"}},\"id\":\"9925\",\"type\":\"LinearAxis\"},{\"attributes\":{\"bottom_units\":\"screen\",\"fill_alpha\":{\"value\":0.5},\"fill_color\":{\"value\":\"lightgrey\"},\"left_units\":\"screen\",\"level\":\"overlay\",\"line_alpha\":{\"value\":1.0},\"line_color\":{\"value\":\"black\"},\"line_dash\":[4,4],\"line_width\":{\"value\":2},\"render_mode\":\"css\",\"right_units\":\"screen\",\"top_units\":\"screen\"},\"id\":\"10050\",\"type\":\"BoxAnnotation\"},{\"attributes\":{},\"id\":\"9926\",\"type\":\"BasicTicker\"},{\"attributes\":{\"tools\":[{\"id\":\"9930\",\"type\":\"PanTool\"},{\"id\":\"9931\",\"type\":\"WheelZoomTool\"},{\"id\":\"9932\",\"type\":\"BoxZoomTool\"},{\"id\":\"9933\",\"type\":\"SaveTool\"},{\"id\":\"9934\",\"type\":\"ResetTool\"},{\"id\":\"9935\",\"type\":\"HelpTool\"},{\"id\":\"9967\",\"type\":\"PanTool\"},{\"id\":\"9968\",\"type\":\"WheelZoomTool\"},{\"id\":\"9969\",\"type\":\"BoxZoomTool\"},{\"id\":\"9970\",\"type\":\"SaveTool\"},{\"id\":\"9971\",\"type\":\"ResetTool\"},{\"id\":\"9972\",\"type\":\"HelpTool\"},{\"id\":\"10004\",\"type\":\"PanTool\"},{\"id\":\"10005\",\"type\":\"WheelZoomTool\"},{\"id\":\"10006\",\"type\":\"BoxZoomTool\"},{\"id\":\"10007\",\"type\":\"SaveTool\"},{\"id\":\"10008\",\"type\":\"ResetTool\"},{\"id\":\"10009\",\"type\":\"HelpTool\"}]},\"id\":\"10053\",\"type\":\"ProxyToolbar\"},{\"attributes\":{},\"id\":\"9931\",\"type\":\"WheelZoomTool\"},{\"attributes\":{\"toolbar\":{\"id\":\"10053\",\"type\":\"ProxyToolbar\"},\"toolbar_location\":\"above\"},\"id\":\"10054\",\"type\":\"ToolbarBox\"},{\"attributes\":{},\"id\":\"9930\",\"type\":\"PanTool\"},{\"attributes\":{\"data_source\":{\"id\":\"9943\",\"type\":\"ColumnDataSource\"},\"glyph\":{\"id\":\"9944\",\"type\":\"Circle\"},\"hover_glyph\":null,\"muted_glyph\":null,\"nonselection_glyph\":{\"id\":\"9945\",\"type\":\"Circle\"},\"selection_glyph\":null,\"view\":{\"id\":\"9947\",\"type\":\"CDSView\"}},\"id\":\"9946\",\"type\":\"GlyphRenderer\"},{\"attributes\":{\"below\":[{\"id\":\"9957\",\"type\":\"LinearAxis\"}],\"center\":[{\"id\":\"9961\",\"type\":\"Grid\"},{\"id\":\"9966\",\"type\":\"Grid\"}],\"left\":[{\"id\":\"9962\",\"type\":\"LinearAxis\"}],\"plot_height\":250,\"plot_width\":250,\"renderers\":[{\"id\":\"9983\",\"type\":\"GlyphRenderer\"}],\"title\":{\"id\":\"10032\",\"type\":\"Title\"},\"toolbar\":{\"id\":\"9973\",\"type\":\"Toolbar\"},\"toolbar_location\":null,\"x_range\":{\"id\":\"9949\",\"type\":\"DataRange1d\"},\"x_scale\":{\"id\":\"9953\",\"type\":\"LinearScale\"},\"y_range\":{\"id\":\"9951\",\"type\":\"DataRange1d\"},\"y_scale\":{\"id\":\"9955\",\"type\":\"LinearScale\"}},\"id\":\"9948\",\"subtype\":\"Figure\",\"type\":\"Plot\"},{\"attributes\":{\"fill_color\":{\"value\":\"#440154\"},\"line_color\":{\"value\":\"#440154\"},\"size\":{\"units\":\"screen\",\"value\":3},\"x\":{\"field\":\"x\"},\"y\":{\"field\":\"y\"}},\"id\":\"9944\",\"type\":\"Circle\"},{\"attributes\":{},\"id\":\"9933\",\"type\":\"SaveTool\"},{\"attributes\":{\"dimension\":1,\"ticker\":{\"id\":\"9926\",\"type\":\"BasicTicker\"}},\"id\":\"9929\",\"type\":\"Grid\"},{\"attributes\":{\"overlay\":{\"id\":\"10030\",\"type\":\"BoxAnnotation\"}},\"id\":\"9932\",\"type\":\"BoxZoomTool\"},{\"attributes\":{},\"id\":\"9934\",\"type\":\"ResetTool\"},{\"attributes\":{},\"id\":\"9935\",\"type\":\"HelpTool\"},{\"attributes\":{\"active_drag\":\"auto\",\"active_inspect\":\"auto\",\"active_multi\":null,\"active_scroll\":\"auto\",\"active_tap\":\"auto\",\"tools\":[{\"id\":\"9930\",\"type\":\"PanTool\"},{\"id\":\"9931\",\"type\":\"WheelZoomTool\"},{\"id\":\"9932\",\"type\":\"BoxZoomTool\"},{\"id\":\"9933\",\"type\":\"SaveTool\"},{\"id\":\"9934\",\"type\":\"ResetTool\"},{\"id\":\"9935\",\"type\":\"HelpTool\"}]},\"id\":\"9936\",\"type\":\"Toolbar\"},{\"attributes\":{\"source\":{\"id\":\"9943\",\"type\":\"ColumnDataSource\"}},\"id\":\"9947\",\"type\":\"CDSView\"},{\"attributes\":{\"callback\":null,\"data\":{\"x\":{\"__ndarray__\":\"AAAAAAAAAACRGkt8Vz/AP5EaS3xXP9A/2qdwOgNf2D+RGkt8Vz/gPzXhXVstT+Q/2qdwOgNf6D9+boMZ2W7sP5EaS3xXP/A/433Ua0JH8j814V1bLU/0P4dE50oYV/Y/2qdwOgNf+D8sC/op7mb6P35ugxnZbvw/0NEMCcR2/j+RGkt8Vz8AQDrMD/RMQwFA433Ua0JHAkCML5njN0sDQDXhXVstTwRA3pIi0yJTBUCHROdKGFcGQDD2q8INWwdA2qdwOgNfCECDWTWy+GIJQCwL+inuZgpA1by+oeNqC0B+boMZ2W4MQCcgSJHOcg1A0NEMCcR2DkB5g9GAuXoPQJEaS3xXPxBAZnMtOFLBEEA6zA/0TEMRQA8l8q9HxRFA433Ua0JHEkC41rYnPckSQIwvmeM3SxNAYYh7nzLNE0A14V1bLU8UQAo6QBco0RRA3pIi0yJTFUCz6wSPHdUVQIdE50oYVxZAXJ3JBhPZFkAw9qvCDVsXQAVPjn4I3RdA2qdwOgNfGECuAFP2/eAYQINZNbL4YhlAV7IXbvPkGUAsC/op7mYaQABk3OXo6BpA1by+oeNqG0CpFaFd3uwbQH5ugxnZbhxAUsdl1dPwHEAnIEiRznIdQPt4Kk3J9B1A0NEMCcR2HkCkKu/EvvgeQHmD0YC5eh9ATdyzPLT8H0CRGkt8Vz8gQPtGPNpUgCBAZnMtOFLBIEDQnx6WTwIhQDrMD/RMQyFApPgAUkqEIUAPJfKvR8UhQHlR4w1FBiJA433Ua0JHIkBNqsXJP4giQLjWtic9ySJAIgOohToKI0CML5njN0sjQPZbikE1jCNAYYh7nzLNI0DLtGz9Lw4kQDXhXVstTyRAoA1PuSqQJEAKOkAXKNEkQHRmMXUlEiVA3pIi0yJTJUBJvxMxIJQlQLPrBI8d1SVAHRj27BoWJkCHROdKGFcmQPJw2KgVmCZAXJ3JBhPZJkDGybpkEBonQDD2q8INWydAmyKdIAucJ0AFT45+CN0nQG97f9wFHihA2qdwOgNfKEBE1GGYAKAoQK4AU/b94ChAGC1EVPshKUA=\",\"dtype\":\"float64\",\"shape\":[100]},\"y\":{\"__ndarray__\":\"AAAAAAAA8D9o+gYFGL7vPyN/Fo5v+e4/XLHeqjC17T9foQT4kvbrP1YykSHGxOk/tDkVSdQo5z9AE3HJfC3kP10soPEH3+A/thLH2SiW2j9bQ2NRvgDTP4xzC34aOsY/cyCwKKhcqD8NyeikuUm0v0/eq9oaN8q/PSGBd67u1L+LyZhelmvcv8/m3JG2ueG/hlh3f5705L9dUsfUNNnnv10cd/2OW+q/wfLvCVdx7L8bLVJC9hHuv0PyRoe4Nu+/XjTx7ufa778HB0As4PvvvwQ9tXAZme+/V1DNmyq07r/ZTwivwlDtv4lZi6GZdOu/JeDa0Vgn6b/aPrV2e3Lmv820DJEnYeO/+v//////3783i/Tn4LnYv4yAwi7oDdG/30QPZF83wr9U+ijPKj+QvxHsuGvkX7w/k1rgSlktzj+GU4hOOdfWP1q1P3WwOd4/AasNgtOP4j+XUJVeWbblPzhQz6Jvg+g/uvBkh4zr6j99NRQyxuTsP/FJcov7Zu4/Juk3u/Vr7z+VSynBge/vP5RLKcGB7+8/Jek3u/Vr7z/vSXKL+2buP381FDLG5Ow/uPBkh4zr6j86UM+ib4PoP5VQlV5ZtuU/BasNgtOP4j9UtT91sDneP45TiE4519Y/hVrgSlktzj807Lhr5F+8P8f6KM8qP5C/zUQPZF83wr+SgMIu6A3Rvy6L9Ofgudi/BgAAAAAA4L/PtAyRJ2Hjv9k+tXZ7cua/I+Da0Vgn6b+NWYuhmXTrv9pPCK/CUO2/V1DNmyq07r8EPbVwGZnvvwgHQCzg+++/XjTx7ufa779E8kaHuDbvvx4tUkL2Ee6/wPLvCVdx7L9dHHf9jlvqv2BSx9Q02ee/gVh3f5705L/M5tyRtrnhv4zJmF6Wa9y/RiGBd67u1L8x3qvaGjfKv/DI6KS5SbS/bCCwKKhcqD90cwt+GjrGP2VDY1G+ANM/uRLH2SiW2j9aLKDxB9/gPzoTccl8LeQ/uDkVSdQo5z9WMpEhxsTpP16hBPiS9us/X7HeqjC17T8kfxaOb/nuP2j6BgUYvu8/AAAAAAAA8D8=\",\"dtype\":\"float64\",\"shape\":[100]}},\"selected\":{\"id\":\"10038\",\"type\":\"Selection\"},\"selection_policy\":{\"id\":\"10039\",\"type\":\"UnionRenderers\"}},\"id\":\"9980\",\"type\":\"ColumnDataSource\"},{\"attributes\":{\"text\":\"\"},\"id\":\"10032\",\"type\":\"Title\"},{\"attributes\":{\"below\":[{\"id\":\"9920\",\"type\":\"LinearAxis\"}],\"center\":[{\"id\":\"9924\",\"type\":\"Grid\"},{\"id\":\"9929\",\"type\":\"Grid\"}],\"left\":[{\"id\":\"9925\",\"type\":\"LinearAxis\"}],\"plot_height\":250,\"plot_width\":250,\"renderers\":[{\"id\":\"9946\",\"type\":\"GlyphRenderer\"}],\"title\":{\"id\":\"10022\",\"type\":\"Title\"},\"toolbar\":{\"id\":\"9936\",\"type\":\"Toolbar\"},\"toolbar_location\":null,\"x_range\":{\"id\":\"9912\",\"type\":\"DataRange1d\"},\"x_scale\":{\"id\":\"9916\",\"type\":\"LinearScale\"},\"y_range\":{\"id\":\"9914\",\"type\":\"DataRange1d\"},\"y_scale\":{\"id\":\"9918\",\"type\":\"LinearScale\"}},\"id\":\"9911\",\"subtype\":\"Figure\",\"type\":\"Plot\"},{\"attributes\":{},\"id\":\"9953\",\"type\":\"LinearScale\"},{\"attributes\":{},\"id\":\"9955\",\"type\":\"LinearScale\"},{\"attributes\":{\"formatter\":{\"id\":\"10036\",\"type\":\"BasicTickFormatter\"},\"ticker\":{\"id\":\"9958\",\"type\":\"BasicTicker\"}},\"id\":\"9957\",\"type\":\"LinearAxis\"},{\"attributes\":{\"formatter\":{\"id\":\"10034\",\"type\":\"BasicTickFormatter\"},\"ticker\":{\"id\":\"9963\",\"type\":\"BasicTicker\"}},\"id\":\"9962\",\"type\":\"LinearAxis\"},{\"attributes\":{},\"id\":\"9958\",\"type\":\"BasicTicker\"},{\"attributes\":{\"ticker\":{\"id\":\"9958\",\"type\":\"BasicTicker\"}},\"id\":\"9961\",\"type\":\"Grid\"},{\"attributes\":{\"fill_alpha\":{\"value\":0.1},\"fill_color\":{\"value\":\"#1f77b4\"},\"line_alpha\":{\"value\":0.1},\"line_color\":{\"value\":\"#1f77b4\"},\"size\":{\"units\":\"screen\",\"value\":3},\"x\":{\"field\":\"x\"},\"y\":{\"field\":\"y\"}},\"id\":\"9982\",\"type\":\"Circle\"},{\"attributes\":{\"fill_color\":{\"value\":\"#208F8C\"},\"line_color\":{\"value\":\"#208F8C\"},\"size\":{\"units\":\"screen\",\"value\":3},\"x\":{\"field\":\"x\"},\"y\":{\"field\":\"y\"}},\"id\":\"9981\",\"type\":\"Circle\"},{\"attributes\":{},\"id\":\"9967\",\"type\":\"PanTool\"},{\"attributes\":{},\"id\":\"9968\",\"type\":\"WheelZoomTool\"},{\"attributes\":{\"overlay\":{\"id\":\"10040\",\"type\":\"BoxAnnotation\"}},\"id\":\"9969\",\"type\":\"BoxZoomTool\"},{\"attributes\":{},\"id\":\"9970\",\"type\":\"SaveTool\"},{\"attributes\":{},\"id\":\"9971\",\"type\":\"ResetTool\"},{\"attributes\":{},\"id\":\"9972\",\"type\":\"HelpTool\"},{\"attributes\":{\"dimension\":1,\"ticker\":{\"id\":\"9963\",\"type\":\"BasicTicker\"}},\"id\":\"9966\",\"type\":\"Grid\"},{\"attributes\":{\"active_drag\":\"auto\",\"active_inspect\":\"auto\",\"active_multi\":null,\"active_scroll\":\"auto\",\"active_tap\":\"auto\",\"tools\":[{\"id\":\"9967\",\"type\":\"PanTool\"},{\"id\":\"9968\",\"type\":\"WheelZoomTool\"},{\"id\":\"9969\",\"type\":\"BoxZoomTool\"},{\"id\":\"9970\",\"type\":\"SaveTool\"},{\"id\":\"9971\",\"type\":\"ResetTool\"},{\"id\":\"9972\",\"type\":\"HelpTool\"}]},\"id\":\"9973\",\"type\":\"Toolbar\"},{\"attributes\":{\"source\":{\"id\":\"9980\",\"type\":\"ColumnDataSource\"}},\"id\":\"9984\",\"type\":\"CDSView\"},{\"attributes\":{\"callback\":null,\"data\":{\"x\":{\"__ndarray__\":\"AAAAAAAAAACRGkt8Vz/AP5EaS3xXP9A/2qdwOgNf2D+RGkt8Vz/gPzXhXVstT+Q/2qdwOgNf6D9+boMZ2W7sP5EaS3xXP/A/433Ua0JH8j814V1bLU/0P4dE50oYV/Y/2qdwOgNf+D8sC/op7mb6P35ugxnZbvw/0NEMCcR2/j+RGkt8Vz8AQDrMD/RMQwFA433Ua0JHAkCML5njN0sDQDXhXVstTwRA3pIi0yJTBUCHROdKGFcGQDD2q8INWwdA2qdwOgNfCECDWTWy+GIJQCwL+inuZgpA1by+oeNqC0B+boMZ2W4MQCcgSJHOcg1A0NEMCcR2DkB5g9GAuXoPQJEaS3xXPxBAZnMtOFLBEEA6zA/0TEMRQA8l8q9HxRFA433Ua0JHEkC41rYnPckSQIwvmeM3SxNAYYh7nzLNE0A14V1bLU8UQAo6QBco0RRA3pIi0yJTFUCz6wSPHdUVQIdE50oYVxZAXJ3JBhPZFkAw9qvCDVsXQAVPjn4I3RdA2qdwOgNfGECuAFP2/eAYQINZNbL4YhlAV7IXbvPkGUAsC/op7mYaQABk3OXo6BpA1by+oeNqG0CpFaFd3uwbQH5ugxnZbhxAUsdl1dPwHEAnIEiRznIdQPt4Kk3J9B1A0NEMCcR2HkCkKu/EvvgeQHmD0YC5eh9ATdyzPLT8H0CRGkt8Vz8gQPtGPNpUgCBAZnMtOFLBIEDQnx6WTwIhQDrMD/RMQyFApPgAUkqEIUAPJfKvR8UhQHlR4w1FBiJA433Ua0JHIkBNqsXJP4giQLjWtic9ySJAIgOohToKI0CML5njN0sjQPZbikE1jCNAYYh7nzLNI0DLtGz9Lw4kQDXhXVstTyRAoA1PuSqQJEAKOkAXKNEkQHRmMXUlEiVA3pIi0yJTJUBJvxMxIJQlQLPrBI8d1SVAHRj27BoWJkCHROdKGFcmQPJw2KgVmCZAXJ3JBhPZJkDGybpkEBonQDD2q8INWydAmyKdIAucJ0AFT45+CN0nQG97f9wFHihA2qdwOgNfKEBE1GGYAKAoQK4AU/b94ChAGC1EVPshKUA=\",\"dtype\":\"float64\",\"shape\":[100]},\"y\":{\"__ndarray__\":\"AAAAAAAA8D+yzYPRkeXxP7ihgYdrgfM/rb0yquzM9D/245G2v8L1P87bFRfwXvY/2iiqbvqe9j/kKcny1oH2P2p9E6r9B/Y/t9rofWQz9T/V4vYmdwf0P338ARYJifI/RdfykkG+8D9ETRXIBF3tPyugTMuSxOg/JsOhHxvG4z8XRefmX+zcP4TfmO5l1dE/4IAW3tnTuT9YVAYbRxi0v26sY4ZobNC/kDyhvhiP278fJw0IIiDjv8rnndrvKei/4klI9jTQ7L9i6ms85X/wvyB3ITG5U/K/nEtETQ/c879kyJx6lxL1v3a2nZlS8vW/jCxGFqd39r9Ikzy8b6D2v7IbDo0EbPa/VCYsdD3b9b+XNIXNbvD0vyX2CM1fr/O/Ewqe7jod8r/hQKSueEDwv7KoVMWJQey/OkhCQL6N57//x2pm7XjivwiD/egKMNq/XFreULgEzr/Qjtyf0basv8jQmYTCjb8/YDFTHT090z9zKk7fyUfePwQ64frNauQ/Br4PG51d6T/UmpIn8OftPyz+X62J+/A/JAqwLSe98j/wrAGOlDH0P+CqQLrTUvU/YyQQQD0c9j8rs4V6k4r2Pw41lOsPnPY/THYpjGpQ9j9uO9/02qj1P8SNeVoTqPQ/wTrZcjVS8z/dcSFwwazxPxnyVbD+fO8/vXE0K8Ye6z+6a09r11DmP/7dFbP8JuE/Qpmw0PVs1z8YNwvg51bIP4A3qsMi+oY/tJyl3I19xb9ijLYfHAnWv+4O12hWfOC/dgkSnTaw5b/Eiyd/wIrqv1M5qN/19+6/bw/Nc81y8b9c/veZwCHzv4mZSz7lgfS/nqNH2pCN9b9CMd7bdED2vxjtFmOwl/a/lMBYHdyR9r+wHoMNEC/2vww2BinjcPW/NHKRy2Ra9L+mR1EcEPDyv8K/p5i5N/G/fKrPIO5w7r87P/7sBPXpv0iCivwvDuW/bUUVRECh3788RM3h1qPUv0i1wErRosK/wBtiTTs7oT9AtNpTsC7LP571ygVNz9g/audXAYjQ4T/buikNCPDmP2xZBmcMses//P//////7z8=\",\"dtype\":\"float64\",\"shape\":[100]}},\"selected\":{\"id\":\"10048\",\"type\":\"Selection\"},\"selection_policy\":{\"id\":\"10049\",\"type\":\"UnionRenderers\"}},\"id\":\"10017\",\"type\":\"ColumnDataSource\"},{\"attributes\":{\"fill_alpha\":{\"value\":0.1},\"fill_color\":{\"value\":\"#1f77b4\"},\"line_alpha\":{\"value\":0.1},\"line_color\":{\"value\":\"#1f77b4\"},\"size\":{\"units\":\"screen\",\"value\":3},\"x\":{\"field\":\"x\"},\"y\":{\"field\":\"y\"}},\"id\":\"10019\",\"type\":\"Circle\"},{\"attributes\":{\"callback\":null},\"id\":\"9986\",\"type\":\"DataRange1d\"},{\"attributes\":{\"callback\":null},\"id\":\"9988\",\"type\":\"DataRange1d\"},{\"attributes\":{},\"id\":\"9963\",\"type\":\"BasicTicker\"},{\"attributes\":{},\"id\":\"9990\",\"type\":\"LinearScale\"},{\"attributes\":{},\"id\":\"9992\",\"type\":\"LinearScale\"},{\"attributes\":{\"formatter\":{\"id\":\"10046\",\"type\":\"BasicTickFormatter\"},\"ticker\":{\"id\":\"9995\",\"type\":\"BasicTicker\"}},\"id\":\"9994\",\"type\":\"LinearAxis\"},{\"attributes\":{},\"id\":\"9995\",\"type\":\"BasicTicker\"},{\"attributes\":{\"ticker\":{\"id\":\"9995\",\"type\":\"BasicTicker\"}},\"id\":\"9998\",\"type\":\"Grid\"},{\"attributes\":{\"formatter\":{\"id\":\"10044\",\"type\":\"BasicTickFormatter\"},\"ticker\":{\"id\":\"10000\",\"type\":\"BasicTicker\"}},\"id\":\"9999\",\"type\":\"LinearAxis\"},{\"attributes\":{},\"id\":\"10000\",\"type\":\"BasicTicker\"},{\"attributes\":{\"dimension\":1,\"ticker\":{\"id\":\"10000\",\"type\":\"BasicTicker\"}},\"id\":\"10003\",\"type\":\"Grid\"},{\"attributes\":{\"fill_color\":{\"value\":\"#FDE724\"},\"line_color\":{\"value\":\"#FDE724\"},\"size\":{\"units\":\"screen\",\"value\":3},\"x\":{\"field\":\"x\"},\"y\":{\"field\":\"y\"}},\"id\":\"10018\",\"type\":\"Circle\"},{\"attributes\":{\"children\":[[{\"id\":\"9911\",\"subtype\":\"Figure\",\"type\":\"Plot\"},0,0],[{\"id\":\"9948\",\"subtype\":\"Figure\",\"type\":\"Plot\"},0,1],[{\"id\":\"9985\",\"subtype\":\"Figure\",\"type\":\"Plot\"},1,0]]},\"id\":\"10052\",\"type\":\"GridBox\"},{\"attributes\":{},\"id\":\"10004\",\"type\":\"PanTool\"},{\"attributes\":{},\"id\":\"10005\",\"type\":\"WheelZoomTool\"},{\"attributes\":{\"overlay\":{\"id\":\"10050\",\"type\":\"BoxAnnotation\"}},\"id\":\"10006\",\"type\":\"BoxZoomTool\"},{\"attributes\":{},\"id\":\"10007\",\"type\":\"SaveTool\"},{\"attributes\":{},\"id\":\"10008\",\"type\":\"ResetTool\"},{\"attributes\":{},\"id\":\"10009\",\"type\":\"HelpTool\"}],\"root_ids\":[\"10055\"]},\"title\":\"Bokeh Application\",\"version\":\"1.2.0\"}};\n",
       "  var render_items = [{\"docid\":\"ef565b6d-9782-423b-b0ac-e5a314acd56d\",\"roots\":{\"10055\":\"177634bb-c163-40a8-b591-a745237c4327\"}}];\n",
       "  root.Bokeh.embed.embed_items_notebook(docs_json, render_items);\n",
       "\n",
       "  }\n",
       "  if (root.Bokeh !== undefined) {\n",
       "    embed_document(root);\n",
       "  } else {\n",
       "    var attempts = 0;\n",
       "    var timer = setInterval(function(root) {\n",
       "      if (root.Bokeh !== undefined) {\n",
       "        embed_document(root);\n",
       "        clearInterval(timer);\n",
       "      }\n",
       "      attempts++;\n",
       "      if (attempts > 100) {\n",
       "        console.log(\"Bokeh: ERROR: Unable to run BokehJS code because BokehJS library is missing\");\n",
       "        clearInterval(timer);\n",
       "      }\n",
       "    }, 10, root)\n",
       "  }\n",
       "})(window);"
      ],
      "application/vnd.bokehjs_exec.v0+json": ""
     },
     "metadata": {
      "application/vnd.bokehjs_exec.v0+json": {
       "id": "10055"
      }
     },
     "output_type": "display_data"
    }
   ],
   "source": [
    "N = 100\n",
    "x = np.linspace(0, 4*np.pi, N)\n",
    "y0 = np.sin(x)\n",
    "y1 = np.cos(x)\n",
    "y2 = np.sin(x) + np.cos(x)\n",
    "\n",
    "# create three plots\n",
    "s1 = figure()\n",
    "s1.circle(x, y0, size=3, color=Viridis3[0])\n",
    "s2 = figure()\n",
    "s2.circle(x, y1, size=3, color=Viridis3[1])\n",
    "s3 = figure()\n",
    "s3.circle(x, y2, size=3, color=Viridis3[2])\n",
    "\n",
    "# make a grid\n",
    "grid = gridplot([s1, s2, s3], ncols=2, plot_width=250, plot_height=250)\n",
    "\n",
    "# show the results\n",
    "show(grid)"
   ]
  },
  {
   "cell_type": "markdown",
   "metadata": {},
   "source": [
    "### Linked panning and brushing\n",
    "\n",
    "Linking together various aspects of different plots can be a useful technique for data visualization. In Bokeh, such linkages are typically accomplished by sharing some plot component between plots. Below is an example that demonstrates linked panning (where changing the range of one plot causes others to update) by sharing range objects between the plots. Some other things to look out for in this example:\n",
    "\n",
    "- calling `figure()` multiple times to create multiple plots\n",
    "- using `gridplot()` to arrange several plots in an array\n",
    "- showing new glyphs using new glyph methods Figure.triangle and Figure.square\n",
    "- hiding the toolbar by setting toolbar_location to None\n",
    "- setting convenience arguments color (sets both line_color and fill_color) and alpha (sets both line_alpha and fill_alpha)\n"
   ]
  },
  {
   "cell_type": "code",
   "execution_count": 46,
   "metadata": {},
   "outputs": [
    {
     "data": {
      "text/html": [
       "\n",
       "\n",
       "\n",
       "\n",
       "\n",
       "\n",
       "  <div class=\"bk-root\" id=\"594bbf47-0700-43b1-8e1d-ef86b228b3c9\" data-root-id=\"10711\"></div>\n"
      ]
     },
     "metadata": {},
     "output_type": "display_data"
    },
    {
     "data": {
      "application/javascript": [
       "(function(root) {\n",
       "  function embed_document(root) {\n",
       "    \n",
       "  var docs_json = {\"606bb764-3f31-4624-9600-7bb48dc34ee1\":{\"roots\":{\"references\":[{\"attributes\":{\"children\":[[{\"id\":\"10573\",\"subtype\":\"Figure\",\"type\":\"Plot\"},0,0],[{\"id\":\"10611\",\"subtype\":\"Figure\",\"type\":\"Plot\"},0,1],[{\"id\":\"10647\",\"subtype\":\"Figure\",\"type\":\"Plot\"},0,2]]},\"id\":\"10711\",\"type\":\"GridBox\"},{\"attributes\":{\"fill_alpha\":{\"value\":0.1},\"fill_color\":{\"value\":\"#1f77b4\"},\"line_alpha\":{\"value\":0.1},\"line_color\":{\"value\":\"#1f77b4\"},\"size\":{\"units\":\"screen\",\"value\":3},\"x\":{\"field\":\"x\"},\"y\":{\"field\":\"y\"}},\"id\":\"10608\",\"type\":\"Circle\"},{\"attributes\":{},\"id\":\"10625\",\"type\":\"BasicTicker\"},{\"attributes\":{\"dimension\":1,\"ticker\":{\"id\":\"10625\",\"type\":\"BasicTicker\"}},\"id\":\"10628\",\"type\":\"Grid\"},{\"attributes\":{},\"id\":\"10593\",\"type\":\"PanTool\"},{\"attributes\":{\"fill_alpha\":{\"value\":0.1},\"fill_color\":{\"value\":\"#1f77b4\"},\"line_alpha\":{\"value\":0.1},\"line_color\":{\"value\":\"#1f77b4\"},\"size\":{\"units\":\"screen\",\"value\":3},\"x\":{\"field\":\"x\"},\"y\":{\"field\":\"y\"}},\"id\":\"10644\",\"type\":\"Circle\"},{\"attributes\":{\"below\":[{\"id\":\"10619\",\"type\":\"LinearAxis\"}],\"center\":[{\"id\":\"10623\",\"type\":\"Grid\"},{\"id\":\"10628\",\"type\":\"Grid\"}],\"left\":[{\"id\":\"10624\",\"type\":\"LinearAxis\"}],\"plot_height\":250,\"plot_width\":250,\"renderers\":[{\"id\":\"10645\",\"type\":\"GlyphRenderer\"}],\"title\":null,\"toolbar\":{\"id\":\"10635\",\"type\":\"Toolbar\"},\"toolbar_location\":null,\"x_range\":{\"id\":\"10575\",\"type\":\"DataRange1d\"},\"x_scale\":{\"id\":\"10615\",\"type\":\"LinearScale\"},\"y_range\":{\"id\":\"10577\",\"type\":\"DataRange1d\"},\"y_scale\":{\"id\":\"10617\",\"type\":\"LinearScale\"}},\"id\":\"10611\",\"subtype\":\"Figure\",\"type\":\"Plot\"},{\"attributes\":{\"fill_alpha\":{\"value\":0.5},\"fill_color\":{\"value\":\"firebrick\"},\"line_alpha\":{\"value\":0.5},\"line_color\":{\"value\":\"firebrick\"},\"size\":{\"units\":\"screen\",\"value\":3},\"x\":{\"field\":\"x\"},\"y\":{\"field\":\"y\"}},\"id\":\"10643\",\"type\":\"Circle\"},{\"attributes\":{},\"id\":\"10629\",\"type\":\"PanTool\"},{\"attributes\":{},\"id\":\"10630\",\"type\":\"WheelZoomTool\"},{\"attributes\":{\"fill_alpha\":{\"value\":0.5},\"fill_color\":{\"value\":\"navy\"},\"line_alpha\":{\"value\":0.5},\"line_color\":{\"value\":\"navy\"},\"size\":{\"units\":\"screen\",\"value\":3},\"x\":{\"field\":\"x\"},\"y\":{\"field\":\"y\"}},\"id\":\"10607\",\"type\":\"Circle\"},{\"attributes\":{\"overlay\":{\"id\":\"10700\",\"type\":\"BoxAnnotation\"}},\"id\":\"10631\",\"type\":\"BoxZoomTool\"},{\"attributes\":{},\"id\":\"10632\",\"type\":\"SaveTool\"},{\"attributes\":{},\"id\":\"10633\",\"type\":\"ResetTool\"},{\"attributes\":{},\"id\":\"10634\",\"type\":\"HelpTool\"},{\"attributes\":{\"callback\":null,\"data\":{\"x\":{\"__ndarray__\":\"AAAAAAAAAACRGkt8Vz/AP5EaS3xXP9A/2qdwOgNf2D+RGkt8Vz/gPzXhXVstT+Q/2qdwOgNf6D9+boMZ2W7sP5EaS3xXP/A/433Ua0JH8j814V1bLU/0P4dE50oYV/Y/2qdwOgNf+D8sC/op7mb6P35ugxnZbvw/0NEMCcR2/j+RGkt8Vz8AQDrMD/RMQwFA433Ua0JHAkCML5njN0sDQDXhXVstTwRA3pIi0yJTBUCHROdKGFcGQDD2q8INWwdA2qdwOgNfCECDWTWy+GIJQCwL+inuZgpA1by+oeNqC0B+boMZ2W4MQCcgSJHOcg1A0NEMCcR2DkB5g9GAuXoPQJEaS3xXPxBAZnMtOFLBEEA6zA/0TEMRQA8l8q9HxRFA433Ua0JHEkC41rYnPckSQIwvmeM3SxNAYYh7nzLNE0A14V1bLU8UQAo6QBco0RRA3pIi0yJTFUCz6wSPHdUVQIdE50oYVxZAXJ3JBhPZFkAw9qvCDVsXQAVPjn4I3RdA2qdwOgNfGECuAFP2/eAYQINZNbL4YhlAV7IXbvPkGUAsC/op7mYaQABk3OXo6BpA1by+oeNqG0CpFaFd3uwbQH5ugxnZbhxAUsdl1dPwHEAnIEiRznIdQPt4Kk3J9B1A0NEMCcR2HkCkKu/EvvgeQHmD0YC5eh9ATdyzPLT8H0CRGkt8Vz8gQPtGPNpUgCBAZnMtOFLBIEDQnx6WTwIhQDrMD/RMQyFApPgAUkqEIUAPJfKvR8UhQHlR4w1FBiJA433Ua0JHIkBNqsXJP4giQLjWtic9ySJAIgOohToKI0CML5njN0sjQPZbikE1jCNAYYh7nzLNI0DLtGz9Lw4kQDXhXVstTyRAoA1PuSqQJEAKOkAXKNEkQHRmMXUlEiVA3pIi0yJTJUBJvxMxIJQlQLPrBI8d1SVAHRj27BoWJkCHROdKGFcmQPJw2KgVmCZAXJ3JBhPZJkDGybpkEBonQDD2q8INWydAmyKdIAucJ0AFT45+CN0nQG97f9wFHihA2qdwOgNfKEBE1GGYAKAoQK4AU/b94ChAGC1EVPshKUA=\",\"dtype\":\"float64\",\"shape\":[100]},\"y\":{\"__ndarray__\":\"AAAAAAAAAADwgwJ4LjTAP5qI2QHPEtA/+5MNU1HJ1z8ZTT7q2B3fP0aFmgwa+eI/ABg/lCAV5j+IQCEcMdboP3fOhmLzMOs/EyzujrQb7T/9Izwlj47uPxccgYyLg+8/g6xao7j27z9mZrL8O+bvP7+X94FZUu8/xVNiW3I97j9RB8Ai+6vsP5FWKYlppOo/oig6uxkv6D/Sh2bxK1blPyZGRbpaJeI/8qg+VZVT3T/4C4p0qOPVP+UppLIiM8w/3FNHxZdVuD/I23zJpD6gv+3ENsZjOcS/wo12/ecH0r/egWKM2KjZv2MTsJELcOC/83ixWvXH47+258MBZM7mv5eCD4nhdum/rExY6Hq267+TIxAn7YPtvwSssILL1+6/70I4BJ6s77/vOc8G+P7vvzTGy1KGze+/3176khQZ77/C8a4NiuTtvzGcHq/dNOy/mEFFlgER6r+EGZN4xoHnvx8WPFK3keS/Cli7+O1M4b+HQNqEwoHbv9kfIiFb+NO/gKyggGI5yL8EhrXMjDywvyCGtcyMPLA/jqyggGI5yD/gHyIhW/jTP4BA2oTCgds/Dli7+O1M4T8cFjxSt5HkP4cZk3jGgec/lEFFlgER6j8ynB6v3TTsP8Hxrg2K5O0/4F76khQZ7z80xstShs3vP+85zwb4/u8/8EI4BJ6s7z8DrLCCy9fuP5UjECftg+0/p0xY6Hq26z+Vgg+J4XbpP7fnwwFkzuY/9nixWvXH4z9cE7CRC3DgP9eBYozYqNk/w412/ecH0j/+xDbGYznEP0/bfMmkPqA/+VNHxZdVuL/UKaSyIjPMv+gLinSo49W/+Kg+VZVT3b8mRkW6WiXiv8+HZvErVuW/pig6uxkv6L+TVimJaaTqv1EHwCL7q+y/xFNiW3I97r/Al/eBWVLvv2Zmsvw75u+/g6xao7j2778YHIGMi4Pvv/sjPCWPju6/EyzujrQb7b94zoZi8zDrv4xAIRwx1ui//Bc/lCAV5r9GhZoMGvnivx5NPurYHd+/65MNU1HJ17+SiNkBzxLQv/GDAnguNMC/B1wUMyamwbw=\",\"dtype\":\"float64\",\"shape\":[100]}},\"selected\":{\"id\":\"10689\",\"type\":\"Selection\"},\"selection_policy\":{\"id\":\"10690\",\"type\":\"UnionRenderers\"}},\"id\":\"10606\",\"type\":\"ColumnDataSource\"},{\"attributes\":{\"fill_alpha\":{\"value\":0.1},\"fill_color\":{\"value\":\"#1f77b4\"},\"line_alpha\":{\"value\":0.1},\"line_color\":{\"value\":\"#1f77b4\"},\"size\":{\"units\":\"screen\",\"value\":3},\"x\":{\"field\":\"x\"},\"y\":{\"field\":\"y\"}},\"id\":\"10681\",\"type\":\"Circle\"},{\"attributes\":{\"active_drag\":\"auto\",\"active_inspect\":\"auto\",\"active_multi\":null,\"active_scroll\":\"auto\",\"active_tap\":\"auto\",\"tools\":[{\"id\":\"10629\",\"type\":\"PanTool\"},{\"id\":\"10630\",\"type\":\"WheelZoomTool\"},{\"id\":\"10631\",\"type\":\"BoxZoomTool\"},{\"id\":\"10632\",\"type\":\"SaveTool\"},{\"id\":\"10633\",\"type\":\"ResetTool\"},{\"id\":\"10634\",\"type\":\"HelpTool\"}]},\"id\":\"10635\",\"type\":\"Toolbar\"},{\"attributes\":{\"data_source\":{\"id\":\"10642\",\"type\":\"ColumnDataSource\"},\"glyph\":{\"id\":\"10643\",\"type\":\"Circle\"},\"hover_glyph\":null,\"muted_glyph\":null,\"nonselection_glyph\":{\"id\":\"10644\",\"type\":\"Circle\"},\"selection_glyph\":null,\"view\":{\"id\":\"10646\",\"type\":\"CDSView\"}},\"id\":\"10645\",\"type\":\"GlyphRenderer\"},{\"attributes\":{\"source\":{\"id\":\"10642\",\"type\":\"ColumnDataSource\"}},\"id\":\"10646\",\"type\":\"CDSView\"},{\"attributes\":{\"callback\":null,\"data\":{\"x\":{\"__ndarray__\":\"AAAAAAAAAACRGkt8Vz/AP5EaS3xXP9A/2qdwOgNf2D+RGkt8Vz/gPzXhXVstT+Q/2qdwOgNf6D9+boMZ2W7sP5EaS3xXP/A/433Ua0JH8j814V1bLU/0P4dE50oYV/Y/2qdwOgNf+D8sC/op7mb6P35ugxnZbvw/0NEMCcR2/j+RGkt8Vz8AQDrMD/RMQwFA433Ua0JHAkCML5njN0sDQDXhXVstTwRA3pIi0yJTBUCHROdKGFcGQDD2q8INWwdA2qdwOgNfCECDWTWy+GIJQCwL+inuZgpA1by+oeNqC0B+boMZ2W4MQCcgSJHOcg1A0NEMCcR2DkB5g9GAuXoPQJEaS3xXPxBAZnMtOFLBEEA6zA/0TEMRQA8l8q9HxRFA433Ua0JHEkC41rYnPckSQIwvmeM3SxNAYYh7nzLNE0A14V1bLU8UQAo6QBco0RRA3pIi0yJTFUCz6wSPHdUVQIdE50oYVxZAXJ3JBhPZFkAw9qvCDVsXQAVPjn4I3RdA2qdwOgNfGECuAFP2/eAYQINZNbL4YhlAV7IXbvPkGUAsC/op7mYaQABk3OXo6BpA1by+oeNqG0CpFaFd3uwbQH5ugxnZbhxAUsdl1dPwHEAnIEiRznIdQPt4Kk3J9B1A0NEMCcR2HkCkKu/EvvgeQHmD0YC5eh9ATdyzPLT8H0CRGkt8Vz8gQPtGPNpUgCBAZnMtOFLBIEDQnx6WTwIhQDrMD/RMQyFApPgAUkqEIUAPJfKvR8UhQHlR4w1FBiJA433Ua0JHIkBNqsXJP4giQLjWtic9ySJAIgOohToKI0CML5njN0sjQPZbikE1jCNAYYh7nzLNI0DLtGz9Lw4kQDXhXVstTyRAoA1PuSqQJEAKOkAXKNEkQHRmMXUlEiVA3pIi0yJTJUBJvxMxIJQlQLPrBI8d1SVAHRj27BoWJkCHROdKGFcmQPJw2KgVmCZAXJ3JBhPZJkDGybpkEBonQDD2q8INWydAmyKdIAucJ0AFT45+CN0nQG97f9wFHihA2qdwOgNfKEBE1GGYAKAoQK4AU/b94ChAGC1EVPshKUA=\",\"dtype\":\"float64\",\"shape\":[100]},\"y\":{\"__ndarray__\":\"AAAAAAAA8D+yzYPRkeXxP7ihgYdrgfM/rb0yquzM9D/245G2v8L1P87bFRfwXvY/2iiqbvqe9j/kKcny1oH2P2p9E6r9B/Y/t9rofWQz9T/V4vYmdwf0P338ARYJifI/RdfykkG+8D9ETRXIBF3tPyugTMuSxOg/JsOhHxvG4z8XRefmX+zcP4TfmO5l1dE/4IAW3tnTuT9YVAYbRxi0v26sY4ZobNC/kDyhvhiP278fJw0IIiDjv8rnndrvKei/4klI9jTQ7L9i6ms85X/wvyB3ITG5U/K/nEtETQ/c879kyJx6lxL1v3a2nZlS8vW/jCxGFqd39r9Ikzy8b6D2v7IbDo0EbPa/VCYsdD3b9b+XNIXNbvD0vyX2CM1fr/O/Ewqe7jod8r/hQKSueEDwv7KoVMWJQey/OkhCQL6N57//x2pm7XjivwiD/egKMNq/XFreULgEzr/Qjtyf0basv8jQmYTCjb8/YDFTHT090z9zKk7fyUfePwQ64frNauQ/Br4PG51d6T/UmpIn8OftPyz+X62J+/A/JAqwLSe98j/wrAGOlDH0P+CqQLrTUvU/YyQQQD0c9j8rs4V6k4r2Pw41lOsPnPY/THYpjGpQ9j9uO9/02qj1P8SNeVoTqPQ/wTrZcjVS8z/dcSFwwazxPxnyVbD+fO8/vXE0K8Ye6z+6a09r11DmP/7dFbP8JuE/Qpmw0PVs1z8YNwvg51bIP4A3qsMi+oY/tJyl3I19xb9ijLYfHAnWv+4O12hWfOC/dgkSnTaw5b/Eiyd/wIrqv1M5qN/19+6/bw/Nc81y8b9c/veZwCHzv4mZSz7lgfS/nqNH2pCN9b9CMd7bdED2vxjtFmOwl/a/lMBYHdyR9r+wHoMNEC/2vww2BinjcPW/NHKRy2Ra9L+mR1EcEPDyv8K/p5i5N/G/fKrPIO5w7r87P/7sBPXpv0iCivwvDuW/bUUVRECh3788RM3h1qPUv0i1wErRosK/wBtiTTs7oT9AtNpTsC7LP571ygVNz9g/audXAYjQ4T/buikNCPDmP2xZBmcMses//P//////7z8=\",\"dtype\":\"float64\",\"shape\":[100]}},\"selected\":{\"id\":\"10707\",\"type\":\"Selection\"},\"selection_policy\":{\"id\":\"10708\",\"type\":\"UnionRenderers\"}},\"id\":\"10679\",\"type\":\"ColumnDataSource\"},{\"attributes\":{\"callback\":null},\"id\":\"10650\",\"type\":\"DataRange1d\"},{\"attributes\":{},\"id\":\"10652\",\"type\":\"LinearScale\"},{\"attributes\":{},\"id\":\"10654\",\"type\":\"LinearScale\"},{\"attributes\":{\"formatter\":{\"id\":\"10705\",\"type\":\"BasicTickFormatter\"},\"ticker\":{\"id\":\"10657\",\"type\":\"BasicTicker\"}},\"id\":\"10656\",\"type\":\"LinearAxis\"},{\"attributes\":{},\"id\":\"10657\",\"type\":\"BasicTicker\"},{\"attributes\":{\"ticker\":{\"id\":\"10657\",\"type\":\"BasicTicker\"}},\"id\":\"10660\",\"type\":\"Grid\"},{\"attributes\":{\"formatter\":{\"id\":\"10703\",\"type\":\"BasicTickFormatter\"},\"ticker\":{\"id\":\"10662\",\"type\":\"BasicTicker\"}},\"id\":\"10661\",\"type\":\"LinearAxis\"},{\"attributes\":{},\"id\":\"10662\",\"type\":\"BasicTicker\"},{\"attributes\":{\"dimension\":1,\"ticker\":{\"id\":\"10662\",\"type\":\"BasicTicker\"}},\"id\":\"10665\",\"type\":\"Grid\"},{\"attributes\":{\"data_source\":{\"id\":\"10679\",\"type\":\"ColumnDataSource\"},\"glyph\":{\"id\":\"10680\",\"type\":\"Circle\"},\"hover_glyph\":null,\"muted_glyph\":null,\"nonselection_glyph\":{\"id\":\"10681\",\"type\":\"Circle\"},\"selection_glyph\":null,\"view\":{\"id\":\"10683\",\"type\":\"CDSView\"}},\"id\":\"10682\",\"type\":\"GlyphRenderer\"},{\"attributes\":{\"fill_alpha\":{\"value\":0.5},\"fill_color\":{\"value\":\"olive\"},\"line_alpha\":{\"value\":0.5},\"line_color\":{\"value\":\"olive\"},\"size\":{\"units\":\"screen\",\"value\":3},\"x\":{\"field\":\"x\"},\"y\":{\"field\":\"y\"}},\"id\":\"10680\",\"type\":\"Circle\"},{\"attributes\":{},\"id\":\"10666\",\"type\":\"PanTool\"},{\"attributes\":{},\"id\":\"10667\",\"type\":\"WheelZoomTool\"},{\"attributes\":{\"overlay\":{\"id\":\"10709\",\"type\":\"BoxAnnotation\"}},\"id\":\"10668\",\"type\":\"BoxZoomTool\"},{\"attributes\":{},\"id\":\"10669\",\"type\":\"SaveTool\"},{\"attributes\":{\"below\":[{\"id\":\"10583\",\"type\":\"LinearAxis\"}],\"center\":[{\"id\":\"10587\",\"type\":\"Grid\"},{\"id\":\"10592\",\"type\":\"Grid\"}],\"left\":[{\"id\":\"10588\",\"type\":\"LinearAxis\"}],\"plot_height\":250,\"plot_width\":250,\"renderers\":[{\"id\":\"10609\",\"type\":\"GlyphRenderer\"}],\"title\":null,\"toolbar\":{\"id\":\"10599\",\"type\":\"Toolbar\"},\"toolbar_location\":null,\"x_range\":{\"id\":\"10575\",\"type\":\"DataRange1d\"},\"x_scale\":{\"id\":\"10579\",\"type\":\"LinearScale\"},\"y_range\":{\"id\":\"10577\",\"type\":\"DataRange1d\"},\"y_scale\":{\"id\":\"10581\",\"type\":\"LinearScale\"}},\"id\":\"10573\",\"subtype\":\"Figure\",\"type\":\"Plot\"},{\"attributes\":{},\"id\":\"10670\",\"type\":\"ResetTool\"},{\"attributes\":{},\"id\":\"10671\",\"type\":\"HelpTool\"},{\"attributes\":{\"active_drag\":\"auto\",\"active_inspect\":\"auto\",\"active_multi\":null,\"active_scroll\":\"auto\",\"active_tap\":\"auto\",\"tools\":[{\"id\":\"10666\",\"type\":\"PanTool\"},{\"id\":\"10667\",\"type\":\"WheelZoomTool\"},{\"id\":\"10668\",\"type\":\"BoxZoomTool\"},{\"id\":\"10669\",\"type\":\"SaveTool\"},{\"id\":\"10670\",\"type\":\"ResetTool\"},{\"id\":\"10671\",\"type\":\"HelpTool\"}]},\"id\":\"10672\",\"type\":\"Toolbar\"},{\"attributes\":{\"source\":{\"id\":\"10679\",\"type\":\"ColumnDataSource\"}},\"id\":\"10683\",\"type\":\"CDSView\"},{\"attributes\":{},\"id\":\"10685\",\"type\":\"BasicTickFormatter\"},{\"attributes\":{},\"id\":\"10689\",\"type\":\"Selection\"},{\"attributes\":{},\"id\":\"10687\",\"type\":\"BasicTickFormatter\"},{\"attributes\":{},\"id\":\"10690\",\"type\":\"UnionRenderers\"},{\"attributes\":{\"bottom_units\":\"screen\",\"fill_alpha\":{\"value\":0.5},\"fill_color\":{\"value\":\"lightgrey\"},\"left_units\":\"screen\",\"level\":\"overlay\",\"line_alpha\":{\"value\":1.0},\"line_color\":{\"value\":\"black\"},\"line_dash\":[4,4],\"line_width\":{\"value\":2},\"render_mode\":\"css\",\"right_units\":\"screen\",\"top_units\":\"screen\"},\"id\":\"10691\",\"type\":\"BoxAnnotation\"},{\"attributes\":{},\"id\":\"10694\",\"type\":\"BasicTickFormatter\"},{\"attributes\":{},\"id\":\"10696\",\"type\":\"BasicTickFormatter\"},{\"attributes\":{},\"id\":\"10698\",\"type\":\"Selection\"},{\"attributes\":{},\"id\":\"10699\",\"type\":\"UnionRenderers\"},{\"attributes\":{\"bottom_units\":\"screen\",\"fill_alpha\":{\"value\":0.5},\"fill_color\":{\"value\":\"lightgrey\"},\"left_units\":\"screen\",\"level\":\"overlay\",\"line_alpha\":{\"value\":1.0},\"line_color\":{\"value\":\"black\"},\"line_dash\":[4,4],\"line_width\":{\"value\":2},\"render_mode\":\"css\",\"right_units\":\"screen\",\"top_units\":\"screen\"},\"id\":\"10700\",\"type\":\"BoxAnnotation\"},{\"attributes\":{\"callback\":null},\"id\":\"10575\",\"type\":\"DataRange1d\"},{\"attributes\":{},\"id\":\"10703\",\"type\":\"BasicTickFormatter\"},{\"attributes\":{\"callback\":null},\"id\":\"10577\",\"type\":\"DataRange1d\"},{\"attributes\":{},\"id\":\"10705\",\"type\":\"BasicTickFormatter\"},{\"attributes\":{},\"id\":\"10579\",\"type\":\"LinearScale\"},{\"attributes\":{},\"id\":\"10707\",\"type\":\"Selection\"},{\"attributes\":{},\"id\":\"10581\",\"type\":\"LinearScale\"},{\"attributes\":{},\"id\":\"10708\",\"type\":\"UnionRenderers\"},{\"attributes\":{\"formatter\":{\"id\":\"10687\",\"type\":\"BasicTickFormatter\"},\"ticker\":{\"id\":\"10584\",\"type\":\"BasicTicker\"}},\"id\":\"10583\",\"type\":\"LinearAxis\"},{\"attributes\":{\"bottom_units\":\"screen\",\"fill_alpha\":{\"value\":0.5},\"fill_color\":{\"value\":\"lightgrey\"},\"left_units\":\"screen\",\"level\":\"overlay\",\"line_alpha\":{\"value\":1.0},\"line_color\":{\"value\":\"black\"},\"line_dash\":[4,4],\"line_width\":{\"value\":2},\"render_mode\":\"css\",\"right_units\":\"screen\",\"top_units\":\"screen\"},\"id\":\"10709\",\"type\":\"BoxAnnotation\"},{\"attributes\":{},\"id\":\"10584\",\"type\":\"BasicTicker\"},{\"attributes\":{\"ticker\":{\"id\":\"10584\",\"type\":\"BasicTicker\"}},\"id\":\"10587\",\"type\":\"Grid\"},{\"attributes\":{\"formatter\":{\"id\":\"10685\",\"type\":\"BasicTickFormatter\"},\"ticker\":{\"id\":\"10589\",\"type\":\"BasicTicker\"}},\"id\":\"10588\",\"type\":\"LinearAxis\"},{\"attributes\":{},\"id\":\"10589\",\"type\":\"BasicTicker\"},{\"attributes\":{\"dimension\":1,\"ticker\":{\"id\":\"10589\",\"type\":\"BasicTicker\"}},\"id\":\"10592\",\"type\":\"Grid\"},{\"attributes\":{},\"id\":\"10594\",\"type\":\"WheelZoomTool\"},{\"attributes\":{\"overlay\":{\"id\":\"10691\",\"type\":\"BoxAnnotation\"}},\"id\":\"10595\",\"type\":\"BoxZoomTool\"},{\"attributes\":{},\"id\":\"10596\",\"type\":\"SaveTool\"},{\"attributes\":{},\"id\":\"10597\",\"type\":\"ResetTool\"},{\"attributes\":{},\"id\":\"10598\",\"type\":\"HelpTool\"},{\"attributes\":{\"active_drag\":\"auto\",\"active_inspect\":\"auto\",\"active_multi\":null,\"active_scroll\":\"auto\",\"active_tap\":\"auto\",\"tools\":[{\"id\":\"10593\",\"type\":\"PanTool\"},{\"id\":\"10594\",\"type\":\"WheelZoomTool\"},{\"id\":\"10595\",\"type\":\"BoxZoomTool\"},{\"id\":\"10596\",\"type\":\"SaveTool\"},{\"id\":\"10597\",\"type\":\"ResetTool\"},{\"id\":\"10598\",\"type\":\"HelpTool\"}]},\"id\":\"10599\",\"type\":\"Toolbar\"},{\"attributes\":{\"data_source\":{\"id\":\"10606\",\"type\":\"ColumnDataSource\"},\"glyph\":{\"id\":\"10607\",\"type\":\"Circle\"},\"hover_glyph\":null,\"muted_glyph\":null,\"nonselection_glyph\":{\"id\":\"10608\",\"type\":\"Circle\"},\"selection_glyph\":null,\"view\":{\"id\":\"10610\",\"type\":\"CDSView\"}},\"id\":\"10609\",\"type\":\"GlyphRenderer\"},{\"attributes\":{\"source\":{\"id\":\"10606\",\"type\":\"ColumnDataSource\"}},\"id\":\"10610\",\"type\":\"CDSView\"},{\"attributes\":{\"callback\":null,\"data\":{\"x\":{\"__ndarray__\":\"AAAAAAAAAACRGkt8Vz/AP5EaS3xXP9A/2qdwOgNf2D+RGkt8Vz/gPzXhXVstT+Q/2qdwOgNf6D9+boMZ2W7sP5EaS3xXP/A/433Ua0JH8j814V1bLU/0P4dE50oYV/Y/2qdwOgNf+D8sC/op7mb6P35ugxnZbvw/0NEMCcR2/j+RGkt8Vz8AQDrMD/RMQwFA433Ua0JHAkCML5njN0sDQDXhXVstTwRA3pIi0yJTBUCHROdKGFcGQDD2q8INWwdA2qdwOgNfCECDWTWy+GIJQCwL+inuZgpA1by+oeNqC0B+boMZ2W4MQCcgSJHOcg1A0NEMCcR2DkB5g9GAuXoPQJEaS3xXPxBAZnMtOFLBEEA6zA/0TEMRQA8l8q9HxRFA433Ua0JHEkC41rYnPckSQIwvmeM3SxNAYYh7nzLNE0A14V1bLU8UQAo6QBco0RRA3pIi0yJTFUCz6wSPHdUVQIdE50oYVxZAXJ3JBhPZFkAw9qvCDVsXQAVPjn4I3RdA2qdwOgNfGECuAFP2/eAYQINZNbL4YhlAV7IXbvPkGUAsC/op7mYaQABk3OXo6BpA1by+oeNqG0CpFaFd3uwbQH5ugxnZbhxAUsdl1dPwHEAnIEiRznIdQPt4Kk3J9B1A0NEMCcR2HkCkKu/EvvgeQHmD0YC5eh9ATdyzPLT8H0CRGkt8Vz8gQPtGPNpUgCBAZnMtOFLBIEDQnx6WTwIhQDrMD/RMQyFApPgAUkqEIUAPJfKvR8UhQHlR4w1FBiJA433Ua0JHIkBNqsXJP4giQLjWtic9ySJAIgOohToKI0CML5njN0sjQPZbikE1jCNAYYh7nzLNI0DLtGz9Lw4kQDXhXVstTyRAoA1PuSqQJEAKOkAXKNEkQHRmMXUlEiVA3pIi0yJTJUBJvxMxIJQlQLPrBI8d1SVAHRj27BoWJkCHROdKGFcmQPJw2KgVmCZAXJ3JBhPZJkDGybpkEBonQDD2q8INWydAmyKdIAucJ0AFT45+CN0nQG97f9wFHihA2qdwOgNfKEBE1GGYAKAoQK4AU/b94ChAGC1EVPshKUA=\",\"dtype\":\"float64\",\"shape\":[100]},\"y\":{\"__ndarray__\":\"AAAAAAAA8D9o+gYFGL7vPyN/Fo5v+e4/XLHeqjC17T9foQT4kvbrP1YykSHGxOk/tDkVSdQo5z9AE3HJfC3kP10soPEH3+A/thLH2SiW2j9bQ2NRvgDTP4xzC34aOsY/cyCwKKhcqD8NyeikuUm0v0/eq9oaN8q/PSGBd67u1L+LyZhelmvcv8/m3JG2ueG/hlh3f5705L9dUsfUNNnnv10cd/2OW+q/wfLvCVdx7L8bLVJC9hHuv0PyRoe4Nu+/XjTx7ufa778HB0As4PvvvwQ9tXAZme+/V1DNmyq07r/ZTwivwlDtv4lZi6GZdOu/JeDa0Vgn6b/aPrV2e3Lmv820DJEnYeO/+v//////3783i/Tn4LnYv4yAwi7oDdG/30QPZF83wr9U+ijPKj+QvxHsuGvkX7w/k1rgSlktzj+GU4hOOdfWP1q1P3WwOd4/AasNgtOP4j+XUJVeWbblPzhQz6Jvg+g/uvBkh4zr6j99NRQyxuTsP/FJcov7Zu4/Juk3u/Vr7z+VSynBge/vP5RLKcGB7+8/Jek3u/Vr7z/vSXKL+2buP381FDLG5Ow/uPBkh4zr6j86UM+ib4PoP5VQlV5ZtuU/BasNgtOP4j9UtT91sDneP45TiE4519Y/hVrgSlktzj807Lhr5F+8P8f6KM8qP5C/zUQPZF83wr+SgMIu6A3Rvy6L9Ofgudi/BgAAAAAA4L/PtAyRJ2Hjv9k+tXZ7cua/I+Da0Vgn6b+NWYuhmXTrv9pPCK/CUO2/V1DNmyq07r8EPbVwGZnvvwgHQCzg+++/XjTx7ufa779E8kaHuDbvvx4tUkL2Ee6/wPLvCVdx7L9dHHf9jlvqv2BSx9Q02ee/gVh3f5705L/M5tyRtrnhv4zJmF6Wa9y/RiGBd67u1L8x3qvaGjfKv/DI6KS5SbS/bCCwKKhcqD90cwt+GjrGP2VDY1G+ANM/uRLH2SiW2j9aLKDxB9/gPzoTccl8LeQ/uDkVSdQo5z9WMpEhxsTpP16hBPiS9us/X7HeqjC17T8kfxaOb/nuP2j6BgUYvu8/AAAAAAAA8D8=\",\"dtype\":\"float64\",\"shape\":[100]}},\"selected\":{\"id\":\"10698\",\"type\":\"Selection\"},\"selection_policy\":{\"id\":\"10699\",\"type\":\"UnionRenderers\"}},\"id\":\"10642\",\"type\":\"ColumnDataSource\"},{\"attributes\":{\"below\":[{\"id\":\"10656\",\"type\":\"LinearAxis\"}],\"center\":[{\"id\":\"10660\",\"type\":\"Grid\"},{\"id\":\"10665\",\"type\":\"Grid\"}],\"left\":[{\"id\":\"10661\",\"type\":\"LinearAxis\"}],\"plot_height\":250,\"plot_width\":250,\"renderers\":[{\"id\":\"10682\",\"type\":\"GlyphRenderer\"}],\"title\":null,\"toolbar\":{\"id\":\"10672\",\"type\":\"Toolbar\"},\"toolbar_location\":null,\"x_range\":{\"id\":\"10575\",\"type\":\"DataRange1d\"},\"x_scale\":{\"id\":\"10652\",\"type\":\"LinearScale\"},\"y_range\":{\"id\":\"10650\",\"type\":\"DataRange1d\"},\"y_scale\":{\"id\":\"10654\",\"type\":\"LinearScale\"}},\"id\":\"10647\",\"subtype\":\"Figure\",\"type\":\"Plot\"},{\"attributes\":{},\"id\":\"10615\",\"type\":\"LinearScale\"},{\"attributes\":{},\"id\":\"10617\",\"type\":\"LinearScale\"},{\"attributes\":{\"formatter\":{\"id\":\"10696\",\"type\":\"BasicTickFormatter\"},\"ticker\":{\"id\":\"10620\",\"type\":\"BasicTicker\"}},\"id\":\"10619\",\"type\":\"LinearAxis\"},{\"attributes\":{},\"id\":\"10620\",\"type\":\"BasicTicker\"},{\"attributes\":{\"ticker\":{\"id\":\"10620\",\"type\":\"BasicTicker\"}},\"id\":\"10623\",\"type\":\"Grid\"},{\"attributes\":{\"formatter\":{\"id\":\"10694\",\"type\":\"BasicTickFormatter\"},\"ticker\":{\"id\":\"10625\",\"type\":\"BasicTicker\"}},\"id\":\"10624\",\"type\":\"LinearAxis\"}],\"root_ids\":[\"10711\"]},\"title\":\"Bokeh Application\",\"version\":\"1.2.0\"}};\n",
       "  var render_items = [{\"docid\":\"606bb764-3f31-4624-9600-7bb48dc34ee1\",\"roots\":{\"10711\":\"594bbf47-0700-43b1-8e1d-ef86b228b3c9\"}}];\n",
       "  root.Bokeh.embed.embed_items_notebook(docs_json, render_items);\n",
       "\n",
       "  }\n",
       "  if (root.Bokeh !== undefined) {\n",
       "    embed_document(root);\n",
       "  } else {\n",
       "    var attempts = 0;\n",
       "    var timer = setInterval(function(root) {\n",
       "      if (root.Bokeh !== undefined) {\n",
       "        embed_document(root);\n",
       "        clearInterval(timer);\n",
       "      }\n",
       "      attempts++;\n",
       "      if (attempts > 100) {\n",
       "        console.log(\"Bokeh: ERROR: Unable to run BokehJS code because BokehJS library is missing\");\n",
       "        clearInterval(timer);\n",
       "      }\n",
       "    }, 10, root)\n",
       "  }\n",
       "})(window);"
      ],
      "application/vnd.bokehjs_exec.v0+json": ""
     },
     "metadata": {
      "application/vnd.bokehjs_exec.v0+json": {
       "id": "10711"
      }
     },
     "output_type": "display_data"
    }
   ],
   "source": [
    "# prepare some data\n",
    "N = 100\n",
    "x = np.linspace(0, 4*np.pi, N)\n",
    "y0 = np.sin(x)\n",
    "y1 = np.cos(x)\n",
    "y2 = np.sin(x) + np.cos(x)\n",
    "\n",
    "# create a new plot\n",
    "s1 = figure(title=None)\n",
    "s1.circle(x, y0, size=3, color=\"navy\", alpha=0.5)\n",
    "\n",
    "# NEW: create a new plot and share both ranges\n",
    "s2 = figure(x_range=s1.x_range, y_range=s1.y_range, title=None)\n",
    "s2.circle(x, y1, size=3, color=\"firebrick\", alpha=0.5)\n",
    "\n",
    "# NEW: create a new plot and share only one range\n",
    "s3 = figure(x_range=s1.x_range, title=None)\n",
    "s3.circle(x, y2, size=3, color=\"olive\", alpha=0.5)\n",
    "\n",
    "# NEW: put the subplots in a gridplot\n",
    "p = gridplot([[s1, s2, s3]], toolbar_location=None, plot_width=250, plot_height=250)\n",
    "\n",
    "# show the results\n",
    "show(p)"
   ]
  },
  {
   "cell_type": "markdown",
   "metadata": {},
   "source": [
    "Another linkage that is often useful is linked brushing (where a selection on one plot causes a selection to update on other plots). Below is an example that demonstrates linked brushing by sharing a [ColumnDataSource](https://bokeh.pydata.org/en/latest/docs/reference/models/sources.html#bokeh.models.sources.ColumnDataSource) between two plots:"
   ]
  },
  {
   "cell_type": "code",
   "execution_count": 47,
   "metadata": {},
   "outputs": [
    {
     "data": {
      "text/html": [
       "\n",
       "\n",
       "\n",
       "\n",
       "\n",
       "\n",
       "  <div class=\"bk-root\" id=\"eafc9a44-5ea8-4ebd-a962-2be93db2a3e2\" data-root-id=\"11341\"></div>\n"
      ]
     },
     "metadata": {},
     "output_type": "display_data"
    },
    {
     "data": {
      "application/javascript": [
       "(function(root) {\n",
       "  function embed_document(root) {\n",
       "    \n",
       "  var docs_json = {\"6832c853-653f-41ab-bcb7-7dd40b77909d\":{\"roots\":{\"references\":[{\"attributes\":{\"children\":[{\"id\":\"11340\",\"type\":\"ToolbarBox\"},{\"id\":\"11338\",\"type\":\"GridBox\"}]},\"id\":\"11341\",\"type\":\"Column\"},{\"attributes\":{\"dimension\":1,\"ticker\":{\"id\":\"11252\",\"type\":\"BasicTicker\"}},\"id\":\"11255\",\"type\":\"Grid\"},{\"attributes\":{\"active_drag\":\"auto\",\"active_inspect\":\"auto\",\"active_multi\":null,\"active_scroll\":\"auto\",\"active_tap\":\"auto\",\"tools\":[{\"id\":\"11296\",\"type\":\"PanTool\"},{\"id\":\"11297\",\"type\":\"WheelZoomTool\"},{\"id\":\"11298\",\"type\":\"BoxZoomTool\"},{\"id\":\"11299\",\"type\":\"ResetTool\"},{\"id\":\"11300\",\"type\":\"SaveTool\"},{\"id\":\"11301\",\"type\":\"BoxSelectTool\"},{\"id\":\"11302\",\"type\":\"LassoSelectTool\"}]},\"id\":\"11303\",\"type\":\"Toolbar\"},{\"attributes\":{\"active_drag\":\"auto\",\"active_inspect\":\"auto\",\"active_multi\":null,\"active_scroll\":\"auto\",\"active_tap\":\"auto\",\"tools\":[{\"id\":\"11256\",\"type\":\"PanTool\"},{\"id\":\"11257\",\"type\":\"WheelZoomTool\"},{\"id\":\"11258\",\"type\":\"BoxZoomTool\"},{\"id\":\"11259\",\"type\":\"ResetTool\"},{\"id\":\"11260\",\"type\":\"SaveTool\"},{\"id\":\"11261\",\"type\":\"BoxSelectTool\"},{\"id\":\"11262\",\"type\":\"LassoSelectTool\"}]},\"id\":\"11263\",\"type\":\"Toolbar\"},{\"attributes\":{\"data_source\":{\"id\":\"11235\",\"type\":\"ColumnDataSource\"},\"glyph\":{\"id\":\"11312\",\"type\":\"Circle\"},\"hover_glyph\":null,\"muted_glyph\":null,\"nonselection_glyph\":{\"id\":\"11313\",\"type\":\"Circle\"},\"selection_glyph\":null,\"view\":{\"id\":\"11315\",\"type\":\"CDSView\"}},\"id\":\"11314\",\"type\":\"GlyphRenderer\"},{\"attributes\":{\"data_source\":{\"id\":\"11235\",\"type\":\"ColumnDataSource\"},\"glyph\":{\"id\":\"11272\",\"type\":\"Circle\"},\"hover_glyph\":null,\"muted_glyph\":null,\"nonselection_glyph\":{\"id\":\"11273\",\"type\":\"Circle\"},\"selection_glyph\":null,\"view\":{\"id\":\"11275\",\"type\":\"CDSView\"}},\"id\":\"11274\",\"type\":\"GlyphRenderer\"},{\"attributes\":{\"source\":{\"id\":\"11235\",\"type\":\"ColumnDataSource\"}},\"id\":\"11315\",\"type\":\"CDSView\"},{\"attributes\":{\"callback\":null,\"overlay\":{\"id\":\"11324\",\"type\":\"BoxAnnotation\"}},\"id\":\"11261\",\"type\":\"BoxSelectTool\"},{\"attributes\":{\"source\":{\"id\":\"11235\",\"type\":\"ColumnDataSource\"}},\"id\":\"11275\",\"type\":\"CDSView\"},{\"attributes\":{\"callback\":null,\"data\":{\"x\":{\"__ndarray__\":\"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\",\"dtype\":\"float64\",\"shape\":[300]},\"y0\":{\"__ndarray__\":\"AAAAAAAAAAAK5tpjEoOlP2szXHY1frU/PGJUCZUYwD9kzXNYyGrFP+eq4sdMs8o/Aqu2177vzz+juZ4+4I7SP86+fhp9HdU/2q/hCI6i1z9GdyBk7xzaP2mfYluCi9w/WiNLdC3t3j/Ktx2FbqDgP16EeeXBwuE/J8ApmA3d4j/g1Ij70e7jPxszD0mT9+Q/nWxJzdn25T8EtvYdMuzmP+dXN04t1+c/vnezIGG36D/7i6M3aIzpP9LDpELiVeo/PKpEKnQT6z8nVDA5yMTrPwl79EKOaew/yv48yHsB7T+Fa4MYTIztP8xIHXHACe4/0CecGaB57j9gnHJ9uNvuP2iI0kLdL+8/RGO6Xuh17z/taygmuq3vP0r/a1w51+8/cZmOPlPy7z8+Wc+L+/7vP2swLYss/e8/+z79Defs7z+PLoxvMs7vP1e4ypEcoe8/qdYG17ll7z+3eLQYJRzvPwLjSZt/xO4/pzk1//Be7j9HAfIup+vtP1GwRkrWau0/U7Ozjrjc7D8AjB49jkHsP6TyxHydmes/RxyFOzLl6j+qfIkLniTqP3mJZ/43WOk/KSvCfVyA6D/lp4EhbZ3nP07ss4PQr+Y/SSUpEvK35T+xo+HdQbbkP9z/Ymg0q+M/JGULb0KX4j9l1nq06HrhP2QZK8inVuA/EpSfmAdW3j9guTF0CPHbP7Ek5Uhnf9k/Tx+98j4C1z/C1ASEr3rUP9gsEcPd6dE/u43ES+Whzj943sCXNWLJP/GF4usLF8Q//9OJ9JmFvT+YL6Egw8+yP0K9c//VIqA/cs+2kJeEhb8TwRIls+Kqv+naFkwMLLi/BE9WpOhtwb+dyZDR6b3Gv+vbN8uiA8y/2zhtqlie0L+d3P91XDPTv1ZWu+yxv9W/xJ/JHzJC2L8wgG+Surnav0tOYr0tJd2/ecHfj3OD37/Buib3vOngv0lwE5caCuK/89mAR1Ai47/w9zhY3zHkv4UvTAJNOOW/TdaTnyI15r9u8lbg7Sfnv9Tu+P5AEOi/ueWa8bLt6L8REZmZ37/pvzfozvBnhuq/vnONNPJA67+6ajAOKu/rv3nAP7nAkOy/NWUMJ20l7b/7H7gf7Kztv4eSmWAAJ+6/3qnut3KT7r+q9dAdEvLuvzaeYMqzQu+/MPMbSTOF77+J1FqJcrnvv8SB5utZ3++/cKqnTdj277+T62UP4//vv245lRp2+u+/jgkv45Pm779pZ5ZmRcTvv8hzhyeak++/eCUUJ6hU77/odrHaiwfvvz2AWR9orO6/9E7IKWZD7r+Zm9pztcztv8nJFqeLSO2/4OZphCS37L+DnyPJwRjsv9tiPRGrbeu/jiP6ti226r/4We2vnPLpvygXeWdQI+m/FB7UlqZI6L/ZFaoaAmPnv5v9aMbKcua/YxdQNW145b8Fg1WZWnTkv768+IcIZ+O/fyIZxfBQ4r9fiegLkTLhv/zGEtZqDOC/eMRnQga+3b+6xW5lxFXbv0Ded7Qm4di/7iQuZUlh1r9XTyvDTdfTv2jkK61ZRNG/DOJjIC5Tzb+doKTBZhDIv8bb0iW+wsK/NYXUPzTZur/5d0exyCCwvwFWn7lJhJW/c1WfuUmElT/Vd0exyCCwPxGF1D802bo/1NvSJb7Cwj+roKTBZhDIP/vhYyAuU80/YOQrrVlE0T9PTyvDTdfTP+ckLmVJYdY/Od53tCbh2D/BxW5lxFXbP4DEZ0IGvt0/+MYS1moM4D9biegLkTLhP3siGcXwUOI/u7z4hwhn4z8Cg1WZWnTkP2AXUDVteOU/nv1oxspy5j/cFaoaAmPnPxEe1JamSOg/JRd5Z1Aj6T/1We2vnPLpP4sj+rYttuo/2GI9Eatt6z+FnyPJwRjsP+LmaYQkt+w/yMkWp4tI7T+Ym9pztcztP/JOyClmQ+4/PIBZH2is7j/ndrHaiwfvP3clFCeoVO8/yHOHJ5qT7z9pZ5ZmRcTvP40JL+OT5u8/bTmVGnb67z+T62UP4//vP3Cqp03Y9u8/xYHm61nf7z+J1FqJcrnvPzHzG0kzhe8/N55gyrNC7z+r9dAdEvLuP9+p7rdyk+4/iZKZYAAn7j/9H7gf7KztPzdlDCdtJe0/eMA/ucCQ7D+4ajAOKu/rP7xzjTTyQOs/NujO8GeG6j8PEZmZ37/pP7blmvGy7eg/2u74/kAQ6D908lbg7SfnP1LWk58iNeY/iC9MAk045T/z9zhY3zHkP/bZgEdQIuM/THATlxoK4j/Buib3vOngP3nB349zg98/TE5ivS0l3T8xgG+SurnaP76fyR8yQtg/UFa77LG/1T+W3P91XDPTP9U4bapYntA/C9w3y6IDzD++yZDR6b3GPyRPVqTobcE/DNsWTAwsuD9awRIls+KqP43QtpCXhIU/+7xz/9UioL+VL6Egw8+yv/zTifSZhb2/8IXi6wsXxL933sCXNWLJv8qNxEvloc6/3ywRw93p0b/J1ASEr3rUv1YfvfI+Ate/oSTlSGd/2b9QuTF0CPHbvwOUn5gHVt6/YRkryKdW4L9h1nq06HrhvyFlC29Cl+K/2f9iaDSr47+xo+HdQbbkv0klKRLyt+W/Tuyzg9Cv5r/kp4EhbZ3nvysrwn1cgOi/e4ln/jdY6b+sfIkLniTqv0kchTsy5eq/oPLEfJ2Z67/8ix49jkHsv0+zs4643Oy/TrBGStZq7b9FAfIup+vtv6Y5Nf/wXu6/AuNJm3/E7r+2eLQYJRzvv6nWBte5Ze+/V7jKkRyh77+QLoxvMs7vv/w+/Q3n7O+/azAtiyz9778+Wc+L+/7vv3GZjj5T8u+/S/9rXDnX77/uaygmuq3vv0Vjul7ode+/aYjSQt0v779hnHJ9uNvuv9InnBmgee6/zUgdccAJ7r+Ga4MYTIztv8r+PMh7Ae2/CXv0Qo5p7L8nVDA5yMTrvzyqRCp0E+u/0cOkQuJV6r/4i6M3aIzpv7p3syBht+i/7lc3Ti3X578KtvYdMuzmv6JsSc3Z9uW/IDMPSZP35L/k1Ij70e7jvyvAKZgN3eK/YIR55cHC4b/Mtx2FbqDgv1wjS3Qt7d6/aZ9iW4KL3L9EdyBk7xzav9av4QiOote/yL5+Gn0d1b+cuZ4+4I7Sv++qtte+78+/Davix0yzyr+GzXNYyGrFv1tiVAmVGMC/nzNcdjV+tb9i5tpjEoOlvwdcFDMmpsG8\",\"dtype\":\"float64\",\"shape\":[300]},\"y1\":{\"__ndarray__\":\"AAAAAAAA8D/RvC0exPjvPyGp/L0T4+8/a1rDrfi+7z+lTHpAg4zvPyx9WkbKS+8/CvCMAuv87j9Xye8dCaDuPxT29pZONe4/bK6vruu87T8EZ+/SFjftP10OuIUMpOw/mbbcQQ8E7D/uCfNcZ1frP6ggn+Zinuo/9oFIhVXZ6T9iREhQmAjpP09noaeJLOg/pptVCY1F5z84xmnkClTmP0CSrmlwWOU/Am1iWi9T5D9dPMPUvUTjPxkRpx6WLeI/AfozbjYO4T9o7J9hQc7fP8imxaC0cd0/ug0J7tcH2z8BjmaiwpHYPzypWp2RENY/wAIWxGaF0z+MIWx+aPHQP5dTcGOCq8w/PHfncz1nxz+27HnCYxjCP49RJVi3grk/cWYdAj2SrT+AX0JZWSOQP4DA6y4T5Zq/s/OZtVV4sb9JrKuXgC+8vyI6QZr2bMO/PjXQiGS5yL/fnczSpPrNvyMvp6Arl9G/SuYb3xAp1L+iXTay2LHWvzSXZMZdMNm/5w2va3+j278iJT4YIgrev5jSRfSXMeC/iSeDjsxW4b/5XHdKKnTiv7r2GiMwieO/rsMT2WCV5L+OVlUrQ5jlv6FK8w1ikea/BIsM30yA57/Mr7eZl2Tov8tq2QbbPem/hO/O67QL6r/wPNc2yM3qvwQ1Jym9g+u/gXuVfkEt7L+DLMySCMrsv7yZ74PLWe2/4GOqUknc7b/ncpD/RlHuv9yDy6WPuO6/AD0Fk/QR779C+INcTV3vv3K4cPF3mu+/NAY+qljJ778QvihV2unvv3MozT/u+++/igbMPYz/77/sknyssvTvv1LKqXNm2++/zaZaA7Oz7783TqZOqn3vv1CKlsNkOe+/7jUcQAHn7r+EnRoEpYbuv2UikKB7GO6/7L3j47ac7b9dTGDDjhPtv9PN50FBfey/kg3qUxLa67+bXKvASyrrv71D6QA9buq/u0HsGjum6b9v1BZ8oNLovwwuA9DM8+e/mhJC1SQK578CbM4vEhbmv6QsSjkDGOW/gxgaz2oQ5L+JA3cewP/iv/r/i25+5uG/L9m56CTF4L/fGzK+bDjfvzyRqCJy2Ny/Gybs32xr2r/zbYq8dfLXv3rHl+WqbtW/O5ZMbS/h0r+r6mvHKkvQv+wvXoeQW8u/CDnlDG0Uxr/7F8P/TcPAv+dfdYc11ba/gDMDp/gyqL82FZcGq4R1vxYt1TcF06I/zlsxhQ4ntD/kPqrrfdu+P6jKE+f8wMQ/cCgevdgKyj8tzMdc7kjPP+mU1n5vPNI/cBxFHinM1D/0dFaVe1LXP4xaBK1Cztk/Fge58l4+3D82I0U6tqHeP0CWuQ6ae+A/glF/POWe4T/bPlvzOLriPzvXSRoVzeM/wu5GbP3W5D/3/nywedflP5z2n/AVzuY/xvtarWK65z9RbLkQ9ZvoP5FRdB5ncuk/IHEO4lc96j+eIaqaa/zqP9YRheRLr+s/6kAH4KdV7D/DflNWNO/sP7LsSNure+0/aR7m7M767T8/qv8PZGzuP7stPeo30O4/IwZRWR0m7z/5PWCH7W3vP3p1kfyHp+8/7NW6rdLS7z+obCgIuu/vPwmbdfow/u8/CZt1+jD+7z+pbCgIuu/vP+3Vuq3S0u8/enWR/Ien7z/4PWCH7W3vPyQGUVkdJu8/vC096jfQ7j9Bqv8PZGzuP2oe5uzO+u0/tOxI26t77T/BflNWNO/sP+hAB+CnVew/1xGF5Euv6z+gIaqaa/zqPyJxDuJXPeo/k1F0Hmdy6T9UbLkQ9ZvoP8n7Wq1iuuc/mPaf8BXO5j/1/nywedflP8XuRmz91uQ/P9dJGhXN4z/fPlvzOLriP4ZRfzzlnuE/RJa5Dpp74D8wI0U6tqHePxAHufJePtw/lVoErULO2T/8dFaVe1LXP3kcRR4pzNQ/8ZTWfm880j8+zMdc7kjPP4IoHr3YCso/m8oT5/zAxD/HPqrrfdu+P/BbMYUOJ7Q/XC3VNwXToj8BE5cGq4R1vzozA6f4Mqi/xF91hzXVtr8JGMP/TcPAv/Y45QxtFMa/2i9eh5Bby7+i6mvHKkvQvzOWTG0v4dK/cceX5apu1b/rbYq8dfLXvxMm7N9sa9q/QpGoInLY3L/kGzK+bDjfvzHZuegkxeC//P+Lbn7m4b+LA3cewP/iv4UYGs9qEOS/nixKOQMY5b/7a84vEhbmv5QSQtUkCue/CC4D0Mzz579t1BZ8oNLov7lB7Bo7pum/u0PpAD1u6r+bXKvASyrrv5IN6lMS2uu/083nQUF97L9dTGDDjhPtv+294+O2nO2/ZiKQoHsY7r+FnRoEpYbuv+81HEAB5+6/T4qWw2Q57781TqZOqn3vv8ymWgOzs++/Ucqpc2bb77/sknyssvTvv4oGzD2M/++/cyjNP+77778QvihV2unvvzQGPqpYye+/crhw8Xea779C+INcTV3vv/88BZP0Ee+/24PLpY+47r/mcpD/RlHuv99jqlJJ3O2/wJnvg8tZ7b+GLMySCMrsv4V7lX5BLey/BjUnKb2D67/yPNc2yM3qv4bvzuu0C+q/zmrZBts96b/Mr7eZl2TovwSLDN9MgOe/okrzDWKR5r+PVlUrQ5jlv6vDE9lgleS/uPYaIzCJ47/3XHdKKnTiv4Yng47MVuG/n9JF9Jcx4L8xJT4YIgrev/YNr2t/o9u/QJdkxl0w2b+rXTay2LHWv1LmG98QKdS/KC+noCuX0b/onczSpPrNvz810Ihkuci/IzpBmvZsw788rKuXgC+8v6bzmbVVeLG/DsDrLhPlmr/yX0JZWSOQP8pmHQI9kq0/PVElWLeCuT+W7HnCYxjCPxx353M9Z8c/f1NwY4KrzD+DIWx+aPHQP7gCFsRmhdM/N6lanZEQ1j/9jWaiwpHYP7kNCe7XB9s/yKbFoLRx3T9q7J9hQc7fPwL6M242DuE/HBGnHpYt4j9gPMPUvUTjPwZtYlovU+Q/OZKuaXBY5T8yxmnkClTmP6KbVQmNRec/S2ehp4ks6D9eREhQmAjpP/SBSIVV2ek/piCf5mKe6j/tCfNcZ1frP5m23EEPBOw/XQ64hQyk7D8EZ+/SFjftP22ur67rvO0/Ffb2lk417j9Yye8dCaDuPwvwjALr/O4/Kn1aRspL7z+kTHpAg4zvP2paw634vu8/IKn8vRPj7z/RvC0exPjvPwAAAAAAAPA/\",\"dtype\":\"float64\",\"shape\":[300]}},\"selected\":{\"id\":\"11321\",\"type\":\"Selection\"},\"selection_policy\":{\"id\":\"11322\",\"type\":\"UnionRenderers\"}},\"id\":\"11235\",\"type\":\"ColumnDataSource\"},{\"attributes\":{},\"id\":\"11252\",\"type\":\"BasicTicker\"},{\"attributes\":{\"ticker\":{\"id\":\"11247\",\"type\":\"BasicTicker\"}},\"id\":\"11250\",\"type\":\"Grid\"},{\"attributes\":{},\"id\":\"11319\",\"type\":\"BasicTickFormatter\"},{\"attributes\":{\"fill_color\":{\"value\":\"#1f77b4\"},\"line_color\":{\"value\":\"#1f77b4\"},\"x\":{\"field\":\"x\"},\"y\":{\"field\":\"y1\"}},\"id\":\"11312\",\"type\":\"Circle\"},{\"attributes\":{\"fill_alpha\":{\"value\":0.1},\"fill_color\":{\"value\":\"#1f77b4\"},\"line_alpha\":{\"value\":0.1},\"line_color\":{\"value\":\"#1f77b4\"},\"x\":{\"field\":\"x\"},\"y\":{\"field\":\"y1\"}},\"id\":\"11313\",\"type\":\"Circle\"},{\"attributes\":{\"formatter\":{\"id\":\"11319\",\"type\":\"BasicTickFormatter\"},\"ticker\":{\"id\":\"11247\",\"type\":\"BasicTicker\"}},\"id\":\"11246\",\"type\":\"LinearAxis\"},{\"attributes\":{\"toolbar\":{\"id\":\"11339\",\"type\":\"ProxyToolbar\"},\"toolbar_location\":\"above\"},\"id\":\"11340\",\"type\":\"ToolbarBox\"},{\"attributes\":{\"callback\":null},\"id\":\"11278\",\"type\":\"DataRange1d\"},{\"attributes\":{},\"id\":\"11321\",\"type\":\"Selection\"},{\"attributes\":{},\"id\":\"11322\",\"type\":\"UnionRenderers\"},{\"attributes\":{\"callback\":null},\"id\":\"11280\",\"type\":\"DataRange1d\"},{\"attributes\":{\"children\":[[{\"id\":\"11236\",\"subtype\":\"Figure\",\"type\":\"Plot\"},0,0],[{\"id\":\"11276\",\"subtype\":\"Figure\",\"type\":\"Plot\"},0,1]]},\"id\":\"11338\",\"type\":\"GridBox\"},{\"attributes\":{\"formatter\":{\"id\":\"11328\",\"type\":\"BasicTickFormatter\"},\"ticker\":{\"id\":\"11292\",\"type\":\"BasicTicker\"}},\"id\":\"11291\",\"type\":\"LinearAxis\"},{\"attributes\":{},\"id\":\"11296\",\"type\":\"PanTool\"},{\"attributes\":{\"callback\":null,\"overlay\":{\"id\":\"11325\",\"type\":\"PolyAnnotation\"}},\"id\":\"11262\",\"type\":\"LassoSelectTool\"},{\"attributes\":{},\"id\":\"11282\",\"type\":\"LinearScale\"},{\"attributes\":{\"bottom_units\":\"screen\",\"fill_alpha\":{\"value\":0.5},\"fill_color\":{\"value\":\"lightgrey\"},\"left_units\":\"screen\",\"level\":\"overlay\",\"line_alpha\":{\"value\":1.0},\"line_color\":{\"value\":\"black\"},\"line_dash\":[4,4],\"line_width\":{\"value\":2},\"render_mode\":\"css\",\"right_units\":\"screen\",\"top_units\":\"screen\"},\"id\":\"11323\",\"type\":\"BoxAnnotation\"},{\"attributes\":{\"below\":[{\"id\":\"11246\",\"type\":\"LinearAxis\"}],\"center\":[{\"id\":\"11250\",\"type\":\"Grid\"},{\"id\":\"11255\",\"type\":\"Grid\"}],\"left\":[{\"id\":\"11251\",\"type\":\"LinearAxis\"}],\"plot_height\":350,\"plot_width\":350,\"renderers\":[{\"id\":\"11274\",\"type\":\"GlyphRenderer\"}],\"title\":null,\"toolbar\":{\"id\":\"11263\",\"type\":\"Toolbar\"},\"toolbar_location\":null,\"x_range\":{\"id\":\"11238\",\"type\":\"DataRange1d\"},\"x_scale\":{\"id\":\"11242\",\"type\":\"LinearScale\"},\"y_range\":{\"id\":\"11240\",\"type\":\"DataRange1d\"},\"y_scale\":{\"id\":\"11244\",\"type\":\"LinearScale\"}},\"id\":\"11236\",\"subtype\":\"Figure\",\"type\":\"Plot\"},{\"attributes\":{\"bottom_units\":\"screen\",\"fill_alpha\":{\"value\":0.5},\"fill_color\":{\"value\":\"lightgrey\"},\"left_units\":\"screen\",\"level\":\"overlay\",\"line_alpha\":{\"value\":1.0},\"line_color\":{\"value\":\"black\"},\"line_dash\":[4,4],\"line_width\":{\"value\":2},\"render_mode\":\"css\",\"right_units\":\"screen\",\"top_units\":\"screen\"},\"id\":\"11324\",\"type\":\"BoxAnnotation\"},{\"attributes\":{},\"id\":\"11297\",\"type\":\"WheelZoomTool\"},{\"attributes\":{},\"id\":\"11284\",\"type\":\"LinearScale\"},{\"attributes\":{\"callback\":null},\"id\":\"11240\",\"type\":\"DataRange1d\"},{\"attributes\":{\"fill_alpha\":{\"value\":0.5},\"fill_color\":{\"value\":\"lightgrey\"},\"level\":\"overlay\",\"line_alpha\":{\"value\":1.0},\"line_color\":{\"value\":\"black\"},\"line_dash\":[4,4],\"line_width\":{\"value\":2},\"xs_units\":\"screen\",\"ys_units\":\"screen\"},\"id\":\"11325\",\"type\":\"PolyAnnotation\"},{\"attributes\":{\"formatter\":{\"id\":\"11330\",\"type\":\"BasicTickFormatter\"},\"ticker\":{\"id\":\"11287\",\"type\":\"BasicTicker\"}},\"id\":\"11286\",\"type\":\"LinearAxis\"},{\"attributes\":{},\"id\":\"11292\",\"type\":\"BasicTicker\"},{\"attributes\":{\"fill_color\":{\"value\":\"#1f77b4\"},\"line_color\":{\"value\":\"#1f77b4\"},\"x\":{\"field\":\"x\"},\"y\":{\"field\":\"y0\"}},\"id\":\"11272\",\"type\":\"Circle\"},{\"attributes\":{},\"id\":\"11242\",\"type\":\"LinearScale\"},{\"attributes\":{\"fill_alpha\":{\"value\":0.1},\"fill_color\":{\"value\":\"#1f77b4\"},\"line_alpha\":{\"value\":0.1},\"line_color\":{\"value\":\"#1f77b4\"},\"x\":{\"field\":\"x\"},\"y\":{\"field\":\"y0\"}},\"id\":\"11273\",\"type\":\"Circle\"},{\"attributes\":{},\"id\":\"11328\",\"type\":\"BasicTickFormatter\"},{\"attributes\":{},\"id\":\"11287\",\"type\":\"BasicTicker\"},{\"attributes\":{\"below\":[{\"id\":\"11286\",\"type\":\"LinearAxis\"}],\"center\":[{\"id\":\"11290\",\"type\":\"Grid\"},{\"id\":\"11295\",\"type\":\"Grid\"}],\"left\":[{\"id\":\"11291\",\"type\":\"LinearAxis\"}],\"plot_height\":350,\"plot_width\":350,\"renderers\":[{\"id\":\"11314\",\"type\":\"GlyphRenderer\"}],\"title\":null,\"toolbar\":{\"id\":\"11303\",\"type\":\"Toolbar\"},\"toolbar_location\":null,\"x_range\":{\"id\":\"11278\",\"type\":\"DataRange1d\"},\"x_scale\":{\"id\":\"11282\",\"type\":\"LinearScale\"},\"y_range\":{\"id\":\"11280\",\"type\":\"DataRange1d\"},\"y_scale\":{\"id\":\"11284\",\"type\":\"LinearScale\"}},\"id\":\"11276\",\"subtype\":\"Figure\",\"type\":\"Plot\"},{\"attributes\":{},\"id\":\"11330\",\"type\":\"BasicTickFormatter\"},{\"attributes\":{\"ticker\":{\"id\":\"11287\",\"type\":\"BasicTicker\"}},\"id\":\"11290\",\"type\":\"Grid\"},{\"attributes\":{\"callback\":null},\"id\":\"11238\",\"type\":\"DataRange1d\"},{\"attributes\":{\"bottom_units\":\"screen\",\"fill_alpha\":{\"value\":0.5},\"fill_color\":{\"value\":\"lightgrey\"},\"left_units\":\"screen\",\"level\":\"overlay\",\"line_alpha\":{\"value\":1.0},\"line_color\":{\"value\":\"black\"},\"line_dash\":[4,4],\"line_width\":{\"value\":2},\"render_mode\":\"css\",\"right_units\":\"screen\",\"top_units\":\"screen\"},\"id\":\"11334\",\"type\":\"BoxAnnotation\"},{\"attributes\":{\"overlay\":{\"id\":\"11334\",\"type\":\"BoxAnnotation\"}},\"id\":\"11298\",\"type\":\"BoxZoomTool\"},{\"attributes\":{},\"id\":\"11259\",\"type\":\"ResetTool\"},{\"attributes\":{\"bottom_units\":\"screen\",\"fill_alpha\":{\"value\":0.5},\"fill_color\":{\"value\":\"lightgrey\"},\"left_units\":\"screen\",\"level\":\"overlay\",\"line_alpha\":{\"value\":1.0},\"line_color\":{\"value\":\"black\"},\"line_dash\":[4,4],\"line_width\":{\"value\":2},\"render_mode\":\"css\",\"right_units\":\"screen\",\"top_units\":\"screen\"},\"id\":\"11335\",\"type\":\"BoxAnnotation\"},{\"attributes\":{\"overlay\":{\"id\":\"11323\",\"type\":\"BoxAnnotation\"}},\"id\":\"11258\",\"type\":\"BoxZoomTool\"},{\"attributes\":{},\"id\":\"11299\",\"type\":\"ResetTool\"},{\"attributes\":{},\"id\":\"11244\",\"type\":\"LinearScale\"},{\"attributes\":{\"fill_alpha\":{\"value\":0.5},\"fill_color\":{\"value\":\"lightgrey\"},\"level\":\"overlay\",\"line_alpha\":{\"value\":1.0},\"line_color\":{\"value\":\"black\"},\"line_dash\":[4,4],\"line_width\":{\"value\":2},\"xs_units\":\"screen\",\"ys_units\":\"screen\"},\"id\":\"11336\",\"type\":\"PolyAnnotation\"},{\"attributes\":{},\"id\":\"11256\",\"type\":\"PanTool\"},{\"attributes\":{\"formatter\":{\"id\":\"11317\",\"type\":\"BasicTickFormatter\"},\"ticker\":{\"id\":\"11252\",\"type\":\"BasicTicker\"}},\"id\":\"11251\",\"type\":\"LinearAxis\"},{\"attributes\":{},\"id\":\"11300\",\"type\":\"SaveTool\"},{\"attributes\":{\"tools\":[{\"id\":\"11256\",\"type\":\"PanTool\"},{\"id\":\"11257\",\"type\":\"WheelZoomTool\"},{\"id\":\"11258\",\"type\":\"BoxZoomTool\"},{\"id\":\"11259\",\"type\":\"ResetTool\"},{\"id\":\"11260\",\"type\":\"SaveTool\"},{\"id\":\"11261\",\"type\":\"BoxSelectTool\"},{\"id\":\"11262\",\"type\":\"LassoSelectTool\"},{\"id\":\"11296\",\"type\":\"PanTool\"},{\"id\":\"11297\",\"type\":\"WheelZoomTool\"},{\"id\":\"11298\",\"type\":\"BoxZoomTool\"},{\"id\":\"11299\",\"type\":\"ResetTool\"},{\"id\":\"11300\",\"type\":\"SaveTool\"},{\"id\":\"11301\",\"type\":\"BoxSelectTool\"},{\"id\":\"11302\",\"type\":\"LassoSelectTool\"}]},\"id\":\"11339\",\"type\":\"ProxyToolbar\"},{\"attributes\":{},\"id\":\"11317\",\"type\":\"BasicTickFormatter\"},{\"attributes\":{},\"id\":\"11247\",\"type\":\"BasicTicker\"},{\"attributes\":{\"callback\":null,\"overlay\":{\"id\":\"11335\",\"type\":\"BoxAnnotation\"}},\"id\":\"11301\",\"type\":\"BoxSelectTool\"},{\"attributes\":{},\"id\":\"11257\",\"type\":\"WheelZoomTool\"},{\"attributes\":{\"dimension\":1,\"ticker\":{\"id\":\"11292\",\"type\":\"BasicTicker\"}},\"id\":\"11295\",\"type\":\"Grid\"},{\"attributes\":{},\"id\":\"11260\",\"type\":\"SaveTool\"},{\"attributes\":{\"callback\":null,\"overlay\":{\"id\":\"11336\",\"type\":\"PolyAnnotation\"}},\"id\":\"11302\",\"type\":\"LassoSelectTool\"}],\"root_ids\":[\"11341\"]},\"title\":\"Bokeh Application\",\"version\":\"1.2.0\"}};\n",
       "  var render_items = [{\"docid\":\"6832c853-653f-41ab-bcb7-7dd40b77909d\",\"roots\":{\"11341\":\"eafc9a44-5ea8-4ebd-a962-2be93db2a3e2\"}}];\n",
       "  root.Bokeh.embed.embed_items_notebook(docs_json, render_items);\n",
       "\n",
       "  }\n",
       "  if (root.Bokeh !== undefined) {\n",
       "    embed_document(root);\n",
       "  } else {\n",
       "    var attempts = 0;\n",
       "    var timer = setInterval(function(root) {\n",
       "      if (root.Bokeh !== undefined) {\n",
       "        embed_document(root);\n",
       "        clearInterval(timer);\n",
       "      }\n",
       "      attempts++;\n",
       "      if (attempts > 100) {\n",
       "        console.log(\"Bokeh: ERROR: Unable to run BokehJS code because BokehJS library is missing\");\n",
       "        clearInterval(timer);\n",
       "      }\n",
       "    }, 10, root)\n",
       "  }\n",
       "})(window);"
      ],
      "application/vnd.bokehjs_exec.v0+json": ""
     },
     "metadata": {
      "application/vnd.bokehjs_exec.v0+json": {
       "id": "11341"
      }
     },
     "output_type": "display_data"
    }
   ],
   "source": [
    "from bokeh.models import ColumnDataSource\n",
    "# prepare some date\n",
    "N = 300\n",
    "x = np.linspace(0, 4*np.pi, N)\n",
    "y0 = np.sin(x)\n",
    "y1 = np.cos(x)\n",
    "\n",
    "# NEW: create a column data source for the plots to share\n",
    "source = ColumnDataSource(data=dict(x=x, y0=y0, y1=y1))\n",
    "\n",
    "TOOLS = \"pan,wheel_zoom,box_zoom,reset,save,box_select,lasso_select\"\n",
    "\n",
    "# create a new plot and add a renderer\n",
    "left = figure(tools=TOOLS, width=350, height=350, title=None)\n",
    "left.circle('x', 'y0', source=source)\n",
    "\n",
    "# create another new plot and add a renderer\n",
    "right = figure(tools=TOOLS, width=350, height=350, title=None)\n",
    "right.circle('x', 'y1', source=source)\n",
    "\n",
    "# put the subplots in a gridplot\n",
    "p = gridplot([[left, right]])\n",
    "\n",
    "# show the results\n",
    "show(p)"
   ]
  },
  {
   "cell_type": "markdown",
   "metadata": {},
   "source": [
    "### Linked Selection"
   ]
  },
  {
   "cell_type": "code",
   "execution_count": 48,
   "metadata": {},
   "outputs": [
    {
     "data": {
      "text/html": [
       "\n",
       "\n",
       "\n",
       "\n",
       "\n",
       "\n",
       "  <div class=\"bk-root\" id=\"c486bf20-5682-4224-9161-c084660d6358\" data-root-id=\"11937\"></div>\n"
      ]
     },
     "metadata": {},
     "output_type": "display_data"
    },
    {
     "data": {
      "application/javascript": [
       "(function(root) {\n",
       "  function embed_document(root) {\n",
       "    \n",
       "  var docs_json = {\"3a802b13-9a95-4e24-a382-156019bb92ec\":{\"roots\":{\"references\":[{\"attributes\":{\"children\":[{\"id\":\"11936\",\"type\":\"ToolbarBox\"},{\"id\":\"11934\",\"type\":\"GridBox\"}]},\"id\":\"11937\",\"type\":\"Column\"},{\"attributes\":{\"fill_alpha\":{\"value\":0.1},\"fill_color\":{\"value\":\"#1f77b4\"},\"line_alpha\":{\"value\":0.1},\"line_color\":{\"value\":\"#1f77b4\"},\"x\":{\"field\":\"x\"},\"y\":{\"field\":\"y0\"}},\"id\":\"11879\",\"type\":\"Circle\"},{\"attributes\":{},\"id\":\"11915\",\"type\":\"BasicTickFormatter\"},{\"attributes\":{\"data_source\":{\"id\":\"11849\",\"type\":\"ColumnDataSource\"},\"glyph\":{\"id\":\"11878\",\"type\":\"Circle\"},\"hover_glyph\":null,\"muted_glyph\":null,\"nonselection_glyph\":{\"id\":\"11879\",\"type\":\"Circle\"},\"selection_glyph\":null,\"view\":{\"id\":\"11881\",\"type\":\"CDSView\"}},\"id\":\"11880\",\"type\":\"GlyphRenderer\"},{\"attributes\":{},\"id\":\"11917\",\"type\":\"BasicTickFormatter\"},{\"attributes\":{\"source\":{\"id\":\"11849\",\"type\":\"ColumnDataSource\"}},\"id\":\"11881\",\"type\":\"CDSView\"},{\"attributes\":{},\"id\":\"11919\",\"type\":\"Selection\"},{\"attributes\":{},\"id\":\"11920\",\"type\":\"UnionRenderers\"},{\"attributes\":{\"callback\":null,\"overlay\":{\"id\":\"11921\",\"type\":\"BoxAnnotation\"}},\"id\":\"11870\",\"type\":\"BoxSelectTool\"},{\"attributes\":{\"fill_color\":{\"value\":\"#1f77b4\"},\"line_color\":{\"value\":\"#1f77b4\"},\"x\":{\"field\":\"x\"},\"y\":{\"field\":\"y1\"}},\"id\":\"11910\",\"type\":\"Circle\"},{\"attributes\":{\"bottom_units\":\"screen\",\"fill_alpha\":{\"value\":0.5},\"fill_color\":{\"value\":\"lightgrey\"},\"left_units\":\"screen\",\"level\":\"overlay\",\"line_alpha\":{\"value\":1.0},\"line_color\":{\"value\":\"black\"},\"line_dash\":[4,4],\"line_width\":{\"value\":2},\"render_mode\":\"css\",\"right_units\":\"screen\",\"top_units\":\"screen\"},\"id\":\"11921\",\"type\":\"BoxAnnotation\"},{\"attributes\":{\"callback\":null},\"id\":\"11884\",\"type\":\"DataRange1d\"},{\"attributes\":{\"fill_alpha\":{\"value\":0.5},\"fill_color\":{\"value\":\"lightgrey\"},\"level\":\"overlay\",\"line_alpha\":{\"value\":1.0},\"line_color\":{\"value\":\"black\"},\"line_dash\":[4,4],\"line_width\":{\"value\":2},\"xs_units\":\"screen\",\"ys_units\":\"screen\"},\"id\":\"11922\",\"type\":\"PolyAnnotation\"},{\"attributes\":{},\"id\":\"11866\",\"type\":\"BasicTicker\"},{\"attributes\":{\"callback\":null},\"id\":\"11852\",\"type\":\"DataRange1d\"},{\"attributes\":{\"formatter\":{\"id\":\"11925\",\"type\":\"BasicTickFormatter\"},\"ticker\":{\"id\":\"11898\",\"type\":\"BasicTicker\"}},\"id\":\"11897\",\"type\":\"LinearAxis\"},{\"attributes\":{},\"id\":\"11925\",\"type\":\"BasicTickFormatter\"},{\"attributes\":{\"callback\":null},\"id\":\"11886\",\"type\":\"DataRange1d\"},{\"attributes\":{},\"id\":\"11898\",\"type\":\"BasicTicker\"},{\"attributes\":{},\"id\":\"11927\",\"type\":\"BasicTickFormatter\"},{\"attributes\":{\"dimension\":1,\"ticker\":{\"id\":\"11866\",\"type\":\"BasicTicker\"}},\"id\":\"11869\",\"type\":\"Grid\"},{\"attributes\":{\"ticker\":{\"id\":\"11861\",\"type\":\"BasicTicker\"}},\"id\":\"11864\",\"type\":\"Grid\"},{\"attributes\":{\"ticker\":{\"id\":\"11893\",\"type\":\"BasicTicker\"}},\"id\":\"11896\",\"type\":\"Grid\"},{\"attributes\":{\"active_drag\":\"auto\",\"active_inspect\":\"auto\",\"active_multi\":null,\"active_scroll\":\"auto\",\"active_tap\":\"auto\",\"tools\":[{\"id\":\"11870\",\"type\":\"BoxSelectTool\"},{\"id\":\"11871\",\"type\":\"LassoSelectTool\"},{\"id\":\"11872\",\"type\":\"HelpTool\"}]},\"id\":\"11873\",\"type\":\"Toolbar\"},{\"attributes\":{\"dimension\":1,\"ticker\":{\"id\":\"11898\",\"type\":\"BasicTicker\"}},\"id\":\"11901\",\"type\":\"Grid\"},{\"attributes\":{},\"id\":\"11856\",\"type\":\"LinearScale\"},{\"attributes\":{\"bottom_units\":\"screen\",\"fill_alpha\":{\"value\":0.5},\"fill_color\":{\"value\":\"lightgrey\"},\"left_units\":\"screen\",\"level\":\"overlay\",\"line_alpha\":{\"value\":1.0},\"line_color\":{\"value\":\"black\"},\"line_dash\":[4,4],\"line_width\":{\"value\":2},\"render_mode\":\"css\",\"right_units\":\"screen\",\"top_units\":\"screen\"},\"id\":\"11931\",\"type\":\"BoxAnnotation\"},{\"attributes\":{},\"id\":\"11893\",\"type\":\"BasicTicker\"},{\"attributes\":{},\"id\":\"11861\",\"type\":\"BasicTicker\"},{\"attributes\":{\"fill_alpha\":{\"value\":0.5},\"fill_color\":{\"value\":\"lightgrey\"},\"level\":\"overlay\",\"line_alpha\":{\"value\":1.0},\"line_color\":{\"value\":\"black\"},\"line_dash\":[4,4],\"line_width\":{\"value\":2},\"xs_units\":\"screen\",\"ys_units\":\"screen\"},\"id\":\"11932\",\"type\":\"PolyAnnotation\"},{\"attributes\":{\"callback\":null,\"data\":{\"x\":[-20,-19,-18,-17,-16,-15,-14,-13,-12,-11,-10,-9,-8,-7,-6,-5,-4,-3,-2,-1,0,1,2,3,4,5,6,7,8,9,10,11,12,13,14,15,16,17,18,19,20],\"y0\":[20,19,18,17,16,15,14,13,12,11,10,9,8,7,6,5,4,3,2,1,0,1,2,3,4,5,6,7,8,9,10,11,12,13,14,15,16,17,18,19,20],\"y1\":[400,361,324,289,256,225,196,169,144,121,100,81,64,49,36,25,16,9,4,1,0,1,4,9,16,25,36,49,64,81,100,121,144,169,196,225,256,289,324,361,400]},\"selected\":{\"id\":\"11919\",\"type\":\"Selection\"},\"selection_policy\":{\"id\":\"11920\",\"type\":\"UnionRenderers\"}},\"id\":\"11849\",\"type\":\"ColumnDataSource\"},{\"attributes\":{},\"id\":\"11872\",\"type\":\"HelpTool\"},{\"attributes\":{},\"id\":\"11890\",\"type\":\"LinearScale\"},{\"attributes\":{\"active_drag\":\"auto\",\"active_inspect\":\"auto\",\"active_multi\":null,\"active_scroll\":\"auto\",\"active_tap\":\"auto\",\"tools\":[{\"id\":\"11902\",\"type\":\"BoxSelectTool\"},{\"id\":\"11903\",\"type\":\"LassoSelectTool\"},{\"id\":\"11904\",\"type\":\"HelpTool\"}]},\"id\":\"11905\",\"type\":\"Toolbar\"},{\"attributes\":{\"callback\":null,\"overlay\":{\"id\":\"11931\",\"type\":\"BoxAnnotation\"}},\"id\":\"11902\",\"type\":\"BoxSelectTool\"},{\"attributes\":{\"tools\":[{\"id\":\"11870\",\"type\":\"BoxSelectTool\"},{\"id\":\"11871\",\"type\":\"LassoSelectTool\"},{\"id\":\"11872\",\"type\":\"HelpTool\"},{\"id\":\"11902\",\"type\":\"BoxSelectTool\"},{\"id\":\"11903\",\"type\":\"LassoSelectTool\"},{\"id\":\"11904\",\"type\":\"HelpTool\"}]},\"id\":\"11935\",\"type\":\"ProxyToolbar\"},{\"attributes\":{\"fill_color\":{\"value\":\"#1f77b4\"},\"line_color\":{\"value\":\"#1f77b4\"},\"x\":{\"field\":\"x\"},\"y\":{\"field\":\"y0\"}},\"id\":\"11878\",\"type\":\"Circle\"},{\"attributes\":{\"below\":[{\"id\":\"11860\",\"type\":\"LinearAxis\"}],\"center\":[{\"id\":\"11864\",\"type\":\"Grid\"},{\"id\":\"11869\",\"type\":\"Grid\"}],\"left\":[{\"id\":\"11865\",\"type\":\"LinearAxis\"}],\"plot_height\":300,\"plot_width\":300,\"renderers\":[{\"id\":\"11880\",\"type\":\"GlyphRenderer\"}],\"title\":null,\"toolbar\":{\"id\":\"11873\",\"type\":\"Toolbar\"},\"toolbar_location\":null,\"x_range\":{\"id\":\"11852\",\"type\":\"DataRange1d\"},\"x_scale\":{\"id\":\"11856\",\"type\":\"LinearScale\"},\"y_range\":{\"id\":\"11854\",\"type\":\"DataRange1d\"},\"y_scale\":{\"id\":\"11858\",\"type\":\"LinearScale\"}},\"id\":\"11850\",\"subtype\":\"Figure\",\"type\":\"Plot\"},{\"attributes\":{\"callback\":null,\"overlay\":{\"id\":\"11932\",\"type\":\"PolyAnnotation\"}},\"id\":\"11903\",\"type\":\"LassoSelectTool\"},{\"attributes\":{\"toolbar\":{\"id\":\"11935\",\"type\":\"ProxyToolbar\"},\"toolbar_location\":\"above\"},\"id\":\"11936\",\"type\":\"ToolbarBox\"},{\"attributes\":{},\"id\":\"11858\",\"type\":\"LinearScale\"},{\"attributes\":{},\"id\":\"11904\",\"type\":\"HelpTool\"},{\"attributes\":{\"callback\":null},\"id\":\"11854\",\"type\":\"DataRange1d\"},{\"attributes\":{\"children\":[[{\"id\":\"11850\",\"subtype\":\"Figure\",\"type\":\"Plot\"},0,0],[{\"id\":\"11882\",\"subtype\":\"Figure\",\"type\":\"Plot\"},0,1]]},\"id\":\"11934\",\"type\":\"GridBox\"},{\"attributes\":{\"formatter\":{\"id\":\"11927\",\"type\":\"BasicTickFormatter\"},\"ticker\":{\"id\":\"11893\",\"type\":\"BasicTicker\"}},\"id\":\"11892\",\"type\":\"LinearAxis\"},{\"attributes\":{\"formatter\":{\"id\":\"11915\",\"type\":\"BasicTickFormatter\"},\"ticker\":{\"id\":\"11866\",\"type\":\"BasicTicker\"}},\"id\":\"11865\",\"type\":\"LinearAxis\"},{\"attributes\":{\"formatter\":{\"id\":\"11917\",\"type\":\"BasicTickFormatter\"},\"ticker\":{\"id\":\"11861\",\"type\":\"BasicTicker\"}},\"id\":\"11860\",\"type\":\"LinearAxis\"},{\"attributes\":{\"fill_alpha\":{\"value\":0.1},\"fill_color\":{\"value\":\"#1f77b4\"},\"line_alpha\":{\"value\":0.1},\"line_color\":{\"value\":\"#1f77b4\"},\"x\":{\"field\":\"x\"},\"y\":{\"field\":\"y1\"}},\"id\":\"11911\",\"type\":\"Circle\"},{\"attributes\":{\"data_source\":{\"id\":\"11849\",\"type\":\"ColumnDataSource\"},\"glyph\":{\"id\":\"11910\",\"type\":\"Circle\"},\"hover_glyph\":null,\"muted_glyph\":null,\"nonselection_glyph\":{\"id\":\"11911\",\"type\":\"Circle\"},\"selection_glyph\":null,\"view\":{\"id\":\"11913\",\"type\":\"CDSView\"}},\"id\":\"11912\",\"type\":\"GlyphRenderer\"},{\"attributes\":{},\"id\":\"11888\",\"type\":\"LinearScale\"},{\"attributes\":{\"below\":[{\"id\":\"11892\",\"type\":\"LinearAxis\"}],\"center\":[{\"id\":\"11896\",\"type\":\"Grid\"},{\"id\":\"11901\",\"type\":\"Grid\"}],\"left\":[{\"id\":\"11897\",\"type\":\"LinearAxis\"}],\"plot_height\":300,\"plot_width\":300,\"renderers\":[{\"id\":\"11912\",\"type\":\"GlyphRenderer\"}],\"title\":null,\"toolbar\":{\"id\":\"11905\",\"type\":\"Toolbar\"},\"toolbar_location\":null,\"x_range\":{\"id\":\"11884\",\"type\":\"DataRange1d\"},\"x_scale\":{\"id\":\"11888\",\"type\":\"LinearScale\"},\"y_range\":{\"id\":\"11886\",\"type\":\"DataRange1d\"},\"y_scale\":{\"id\":\"11890\",\"type\":\"LinearScale\"}},\"id\":\"11882\",\"subtype\":\"Figure\",\"type\":\"Plot\"},{\"attributes\":{\"callback\":null,\"overlay\":{\"id\":\"11922\",\"type\":\"PolyAnnotation\"}},\"id\":\"11871\",\"type\":\"LassoSelectTool\"},{\"attributes\":{\"source\":{\"id\":\"11849\",\"type\":\"ColumnDataSource\"}},\"id\":\"11913\",\"type\":\"CDSView\"}],\"root_ids\":[\"11937\"]},\"title\":\"Bokeh Application\",\"version\":\"1.2.0\"}};\n",
       "  var render_items = [{\"docid\":\"3a802b13-9a95-4e24-a382-156019bb92ec\",\"roots\":{\"11937\":\"c486bf20-5682-4224-9161-c084660d6358\"}}];\n",
       "  root.Bokeh.embed.embed_items_notebook(docs_json, render_items);\n",
       "\n",
       "  }\n",
       "  if (root.Bokeh !== undefined) {\n",
       "    embed_document(root);\n",
       "  } else {\n",
       "    var attempts = 0;\n",
       "    var timer = setInterval(function(root) {\n",
       "      if (root.Bokeh !== undefined) {\n",
       "        embed_document(root);\n",
       "        clearInterval(timer);\n",
       "      }\n",
       "      attempts++;\n",
       "      if (attempts > 100) {\n",
       "        console.log(\"Bokeh: ERROR: Unable to run BokehJS code because BokehJS library is missing\");\n",
       "        clearInterval(timer);\n",
       "      }\n",
       "    }, 10, root)\n",
       "  }\n",
       "})(window);"
      ],
      "application/vnd.bokehjs_exec.v0+json": ""
     },
     "metadata": {
      "application/vnd.bokehjs_exec.v0+json": {
       "id": "11937"
      }
     },
     "output_type": "display_data"
    }
   ],
   "source": [
    "from bokeh.io import output_file, show\n",
    "from bokeh.layouts import gridplot\n",
    "from bokeh.models import ColumnDataSource\n",
    "from bokeh.plotting import figure\n",
    "\n",
    "x = list(range(-20, 21))\n",
    "y0 = [abs(xx) for xx in x]\n",
    "y1 = [xx**2 for xx in x]\n",
    "\n",
    "# create a column data source for the plots to share\n",
    "source = ColumnDataSource(data=dict(x=x, y0=y0, y1=y1))\n",
    "\n",
    "TOOLS = \"box_select,lasso_select,help\"\n",
    "\n",
    "# create a new plot and add a renderer\n",
    "left = figure(tools=TOOLS, plot_width=300, plot_height=300, title=None)\n",
    "left.circle('x', 'y0', source=source)\n",
    "\n",
    "# create another new plot and add a renderer\n",
    "right = figure(tools=TOOLS, plot_width=300, plot_height=300, title=None)\n",
    "right.circle('x', 'y1', source=source)\n",
    "\n",
    "p = gridplot([[left, right]])\n",
    "\n",
    "show(p)"
   ]
  },
  {
   "cell_type": "markdown",
   "metadata": {},
   "source": [
    "### Linked selection with filtered data"
   ]
  },
  {
   "cell_type": "code",
   "execution_count": 49,
   "metadata": {},
   "outputs": [
    {
     "data": {
      "text/html": [
       "\n",
       "\n",
       "\n",
       "\n",
       "\n",
       "\n",
       "  <div class=\"bk-root\" id=\"c8e0693a-4831-4124-a629-a4f43f5f20ce\" data-root-id=\"12536\"></div>\n"
      ]
     },
     "metadata": {},
     "output_type": "display_data"
    },
    {
     "data": {
      "application/javascript": [
       "(function(root) {\n",
       "  function embed_document(root) {\n",
       "    \n",
       "  var docs_json = {\"82049a2b-1d7b-4ccd-ac83-6d9def638231\":{\"roots\":{\"references\":[{\"attributes\":{\"children\":[{\"id\":\"12535\",\"type\":\"ToolbarBox\"},{\"id\":\"12533\",\"type\":\"GridBox\"}]},\"id\":\"12536\",\"type\":\"Column\"},{\"attributes\":{\"data_source\":{\"id\":\"12449\",\"type\":\"ColumnDataSource\"},\"glyph\":{\"id\":\"12478\",\"type\":\"Circle\"},\"hover_glyph\":{\"id\":\"12480\",\"type\":\"Circle\"},\"muted_glyph\":null,\"nonselection_glyph\":{\"id\":\"12479\",\"type\":\"Circle\"},\"selection_glyph\":null,\"view\":{\"id\":\"12482\",\"type\":\"CDSView\"}},\"id\":\"12481\",\"type\":\"GlyphRenderer\"},{\"attributes\":{\"data_source\":{\"id\":\"12449\",\"type\":\"ColumnDataSource\"},\"glyph\":{\"id\":\"12509\",\"type\":\"Circle\"},\"hover_glyph\":{\"id\":\"12511\",\"type\":\"Circle\"},\"muted_glyph\":null,\"nonselection_glyph\":{\"id\":\"12510\",\"type\":\"Circle\"},\"selection_glyph\":null,\"view\":{\"id\":\"12451\",\"type\":\"CDSView\"}},\"id\":\"12512\",\"type\":\"GlyphRenderer\"},{\"attributes\":{\"callback\":null},\"id\":\"12454\",\"type\":\"DataRange1d\"},{\"attributes\":{},\"id\":\"12514\",\"type\":\"BasicTickFormatter\"},{\"attributes\":{\"callback\":null},\"id\":\"12456\",\"type\":\"DataRange1d\"},{\"attributes\":{\"children\":[[{\"id\":\"12452\",\"subtype\":\"Figure\",\"type\":\"Plot\"},0,0],[{\"id\":\"12483\",\"subtype\":\"Figure\",\"type\":\"Plot\"},0,1]]},\"id\":\"12533\",\"type\":\"GridBox\"},{\"attributes\":{\"callback\":null},\"id\":\"12485\",\"type\":\"DataRange1d\"},{\"attributes\":{},\"id\":\"12458\",\"type\":\"LinearScale\"},{\"attributes\":{\"fill_alpha\":{\"value\":0.1},\"fill_color\":{\"value\":\"#1f77b4\"},\"line_alpha\":{\"value\":0.1},\"line_color\":{\"value\":\"#1f77b4\"},\"size\":{\"units\":\"screen\",\"value\":10},\"x\":{\"field\":\"x\"},\"y\":{\"field\":\"y0\"}},\"id\":\"12479\",\"type\":\"Circle\"},{\"attributes\":{},\"id\":\"12516\",\"type\":\"BasicTickFormatter\"},{\"attributes\":{\"callback\":null},\"id\":\"12487\",\"type\":\"DataRange1d\"},{\"attributes\":{},\"id\":\"12460\",\"type\":\"LinearScale\"},{\"attributes\":{\"fill_color\":{\"value\":\"firebrick\"},\"line_color\":{\"value\":\"firebrick\"},\"size\":{\"units\":\"screen\",\"value\":10},\"x\":{\"field\":\"x\"},\"y\":{\"field\":\"y1\"}},\"id\":\"12511\",\"type\":\"Circle\"},{\"attributes\":{},\"id\":\"12518\",\"type\":\"Selection\"},{\"attributes\":{},\"id\":\"12489\",\"type\":\"LinearScale\"},{\"attributes\":{},\"id\":\"12524\",\"type\":\"BasicTickFormatter\"},{\"attributes\":{},\"id\":\"12519\",\"type\":\"UnionRenderers\"},{\"attributes\":{},\"id\":\"12491\",\"type\":\"LinearScale\"},{\"attributes\":{\"fill_color\":{\"value\":\"#1f77b4\"},\"line_color\":{\"value\":\"#1f77b4\"},\"size\":{\"units\":\"screen\",\"value\":10},\"x\":{\"field\":\"x\"},\"y\":{\"field\":\"y0\"}},\"id\":\"12478\",\"type\":\"Circle\"},{\"attributes\":{\"bottom_units\":\"screen\",\"fill_alpha\":{\"value\":0.5},\"fill_color\":{\"value\":\"lightgrey\"},\"left_units\":\"screen\",\"level\":\"overlay\",\"line_alpha\":{\"value\":1.0},\"line_color\":{\"value\":\"black\"},\"line_dash\":[4,4],\"line_width\":{\"value\":2},\"render_mode\":\"css\",\"right_units\":\"screen\",\"top_units\":\"screen\"},\"id\":\"12520\",\"type\":\"BoxAnnotation\"},{\"attributes\":{\"formatter\":{\"id\":\"12526\",\"type\":\"BasicTickFormatter\"},\"ticker\":{\"id\":\"12494\",\"type\":\"BasicTicker\"}},\"id\":\"12493\",\"type\":\"LinearAxis\"},{\"attributes\":{\"formatter\":{\"id\":\"12516\",\"type\":\"BasicTickFormatter\"},\"ticker\":{\"id\":\"12463\",\"type\":\"BasicTicker\"}},\"id\":\"12462\",\"type\":\"LinearAxis\"},{\"attributes\":{\"below\":[{\"id\":\"12493\",\"type\":\"LinearAxis\"}],\"center\":[{\"id\":\"12497\",\"type\":\"Grid\"},{\"id\":\"12502\",\"type\":\"Grid\"}],\"left\":[{\"id\":\"12498\",\"type\":\"LinearAxis\"}],\"plot_height\":300,\"plot_width\":300,\"renderers\":[{\"id\":\"12512\",\"type\":\"GlyphRenderer\"}],\"title\":null,\"toolbar\":{\"id\":\"12505\",\"type\":\"Toolbar\"},\"toolbar_location\":null,\"x_range\":{\"id\":\"12485\",\"type\":\"DataRange1d\"},\"x_scale\":{\"id\":\"12489\",\"type\":\"LinearScale\"},\"y_range\":{\"id\":\"12487\",\"type\":\"DataRange1d\"},\"y_scale\":{\"id\":\"12491\",\"type\":\"LinearScale\"}},\"id\":\"12483\",\"subtype\":\"Figure\",\"type\":\"Plot\"},{\"attributes\":{\"fill_alpha\":{\"value\":0.5},\"fill_color\":{\"value\":\"lightgrey\"},\"level\":\"overlay\",\"line_alpha\":{\"value\":1.0},\"line_color\":{\"value\":\"black\"},\"line_dash\":[4,4],\"line_width\":{\"value\":2},\"xs_units\":\"screen\",\"ys_units\":\"screen\"},\"id\":\"12521\",\"type\":\"PolyAnnotation\"},{\"attributes\":{},\"id\":\"12494\",\"type\":\"BasicTicker\"},{\"attributes\":{},\"id\":\"12463\",\"type\":\"BasicTicker\"},{\"attributes\":{\"ticker\":{\"id\":\"12494\",\"type\":\"BasicTicker\"}},\"id\":\"12497\",\"type\":\"Grid\"},{\"attributes\":{\"ticker\":{\"id\":\"12463\",\"type\":\"BasicTicker\"}},\"id\":\"12466\",\"type\":\"Grid\"},{\"attributes\":{},\"id\":\"12526\",\"type\":\"BasicTickFormatter\"},{\"attributes\":{\"formatter\":{\"id\":\"12524\",\"type\":\"BasicTickFormatter\"},\"ticker\":{\"id\":\"12499\",\"type\":\"BasicTicker\"}},\"id\":\"12498\",\"type\":\"LinearAxis\"},{\"attributes\":{\"bottom_units\":\"screen\",\"fill_alpha\":{\"value\":0.5},\"fill_color\":{\"value\":\"lightgrey\"},\"left_units\":\"screen\",\"level\":\"overlay\",\"line_alpha\":{\"value\":1.0},\"line_color\":{\"value\":\"black\"},\"line_dash\":[4,4],\"line_width\":{\"value\":2},\"render_mode\":\"css\",\"right_units\":\"screen\",\"top_units\":\"screen\"},\"id\":\"12530\",\"type\":\"BoxAnnotation\"},{\"attributes\":{},\"id\":\"12499\",\"type\":\"BasicTicker\"},{\"attributes\":{\"formatter\":{\"id\":\"12514\",\"type\":\"BasicTickFormatter\"},\"ticker\":{\"id\":\"12468\",\"type\":\"BasicTicker\"}},\"id\":\"12467\",\"type\":\"LinearAxis\"},{\"attributes\":{\"fill_alpha\":{\"value\":0.5},\"fill_color\":{\"value\":\"lightgrey\"},\"level\":\"overlay\",\"line_alpha\":{\"value\":1.0},\"line_color\":{\"value\":\"black\"},\"line_dash\":[4,4],\"line_width\":{\"value\":2},\"xs_units\":\"screen\",\"ys_units\":\"screen\"},\"id\":\"12531\",\"type\":\"PolyAnnotation\"},{\"attributes\":{\"dimension\":1,\"ticker\":{\"id\":\"12499\",\"type\":\"BasicTicker\"}},\"id\":\"12502\",\"type\":\"Grid\"},{\"attributes\":{},\"id\":\"12468\",\"type\":\"BasicTicker\"},{\"attributes\":{\"tools\":[{\"id\":\"12472\",\"type\":\"BoxSelectTool\"},{\"id\":\"12473\",\"type\":\"LassoSelectTool\"},{\"id\":\"12503\",\"type\":\"BoxSelectTool\"},{\"id\":\"12504\",\"type\":\"LassoSelectTool\"}]},\"id\":\"12534\",\"type\":\"ProxyToolbar\"},{\"attributes\":{\"active_drag\":\"auto\",\"active_inspect\":\"auto\",\"active_multi\":null,\"active_scroll\":\"auto\",\"active_tap\":\"auto\",\"tools\":[{\"id\":\"12503\",\"type\":\"BoxSelectTool\"},{\"id\":\"12504\",\"type\":\"LassoSelectTool\"}]},\"id\":\"12505\",\"type\":\"Toolbar\"},{\"attributes\":{\"dimension\":1,\"ticker\":{\"id\":\"12468\",\"type\":\"BasicTicker\"}},\"id\":\"12471\",\"type\":\"Grid\"},{\"attributes\":{\"callback\":null,\"overlay\":{\"id\":\"12530\",\"type\":\"BoxAnnotation\"}},\"id\":\"12503\",\"type\":\"BoxSelectTool\"},{\"attributes\":{\"toolbar\":{\"id\":\"12534\",\"type\":\"ProxyToolbar\"},\"toolbar_location\":\"above\"},\"id\":\"12535\",\"type\":\"ToolbarBox\"},{\"attributes\":{\"filters\":[{\"id\":\"12450\",\"type\":\"BooleanFilter\"}],\"source\":{\"id\":\"12449\",\"type\":\"ColumnDataSource\"}},\"id\":\"12451\",\"type\":\"CDSView\"},{\"attributes\":{\"active_drag\":\"auto\",\"active_inspect\":\"auto\",\"active_multi\":null,\"active_scroll\":\"auto\",\"active_tap\":\"auto\",\"tools\":[{\"id\":\"12472\",\"type\":\"BoxSelectTool\"},{\"id\":\"12473\",\"type\":\"LassoSelectTool\"}]},\"id\":\"12474\",\"type\":\"Toolbar\"},{\"attributes\":{\"callback\":null,\"overlay\":{\"id\":\"12531\",\"type\":\"PolyAnnotation\"}},\"id\":\"12504\",\"type\":\"LassoSelectTool\"},{\"attributes\":{\"callback\":null,\"overlay\":{\"id\":\"12520\",\"type\":\"BoxAnnotation\"}},\"id\":\"12472\",\"type\":\"BoxSelectTool\"},{\"attributes\":{\"callback\":null,\"data\":{\"x\":[-20,-19,-18,-17,-16,-15,-14,-13,-12,-11,-10,-9,-8,-7,-6,-5,-4,-3,-2,-1,0,1,2,3,4,5,6,7,8,9,10,11,12,13,14,15,16,17,18,19,20],\"y0\":[20,19,18,17,16,15,14,13,12,11,10,9,8,7,6,5,4,3,2,1,0,1,2,3,4,5,6,7,8,9,10,11,12,13,14,15,16,17,18,19,20],\"y1\":[400,361,324,289,256,225,196,169,144,121,100,81,64,49,36,25,16,9,4,1,0,1,4,9,16,25,36,49,64,81,100,121,144,169,196,225,256,289,324,361,400]},\"selected\":{\"id\":\"12518\",\"type\":\"Selection\"},\"selection_policy\":{\"id\":\"12519\",\"type\":\"UnionRenderers\"}},\"id\":\"12449\",\"type\":\"ColumnDataSource\"},{\"attributes\":{\"callback\":null,\"overlay\":{\"id\":\"12521\",\"type\":\"PolyAnnotation\"}},\"id\":\"12473\",\"type\":\"LassoSelectTool\"},{\"attributes\":{\"fill_color\":{\"value\":\"#1f77b4\"},\"line_color\":{\"value\":\"#1f77b4\"},\"size\":{\"units\":\"screen\",\"value\":10},\"x\":{\"field\":\"x\"},\"y\":{\"field\":\"y1\"}},\"id\":\"12509\",\"type\":\"Circle\"},{\"attributes\":{\"booleans\":[true,true,true,true,true,false,false,false,false,false,false,true,true,true,true,true,true,true,true,true,true,true,true,true,true,true,true,true,true,true,false,false,false,false,false,false,true,true,true,true,true]},\"id\":\"12450\",\"type\":\"BooleanFilter\"},{\"attributes\":{\"fill_alpha\":{\"value\":0.1},\"fill_color\":{\"value\":\"#1f77b4\"},\"line_alpha\":{\"value\":0.1},\"line_color\":{\"value\":\"#1f77b4\"},\"size\":{\"units\":\"screen\",\"value\":10},\"x\":{\"field\":\"x\"},\"y\":{\"field\":\"y1\"}},\"id\":\"12510\",\"type\":\"Circle\"},{\"attributes\":{\"below\":[{\"id\":\"12462\",\"type\":\"LinearAxis\"}],\"center\":[{\"id\":\"12466\",\"type\":\"Grid\"},{\"id\":\"12471\",\"type\":\"Grid\"}],\"left\":[{\"id\":\"12467\",\"type\":\"LinearAxis\"}],\"plot_height\":300,\"plot_width\":300,\"renderers\":[{\"id\":\"12481\",\"type\":\"GlyphRenderer\"}],\"title\":null,\"toolbar\":{\"id\":\"12474\",\"type\":\"Toolbar\"},\"toolbar_location\":null,\"x_range\":{\"id\":\"12454\",\"type\":\"DataRange1d\"},\"x_scale\":{\"id\":\"12458\",\"type\":\"LinearScale\"},\"y_range\":{\"id\":\"12456\",\"type\":\"DataRange1d\"},\"y_scale\":{\"id\":\"12460\",\"type\":\"LinearScale\"}},\"id\":\"12452\",\"subtype\":\"Figure\",\"type\":\"Plot\"},{\"attributes\":{\"source\":{\"id\":\"12449\",\"type\":\"ColumnDataSource\"}},\"id\":\"12482\",\"type\":\"CDSView\"},{\"attributes\":{\"fill_color\":{\"value\":\"firebrick\"},\"line_color\":{\"value\":\"firebrick\"},\"size\":{\"units\":\"screen\",\"value\":10},\"x\":{\"field\":\"x\"},\"y\":{\"field\":\"y0\"}},\"id\":\"12480\",\"type\":\"Circle\"}],\"root_ids\":[\"12536\"]},\"title\":\"Bokeh Application\",\"version\":\"1.2.0\"}};\n",
       "  var render_items = [{\"docid\":\"82049a2b-1d7b-4ccd-ac83-6d9def638231\",\"roots\":{\"12536\":\"c8e0693a-4831-4124-a629-a4f43f5f20ce\"}}];\n",
       "  root.Bokeh.embed.embed_items_notebook(docs_json, render_items);\n",
       "\n",
       "  }\n",
       "  if (root.Bokeh !== undefined) {\n",
       "    embed_document(root);\n",
       "  } else {\n",
       "    var attempts = 0;\n",
       "    var timer = setInterval(function(root) {\n",
       "      if (root.Bokeh !== undefined) {\n",
       "        embed_document(root);\n",
       "        clearInterval(timer);\n",
       "      }\n",
       "      attempts++;\n",
       "      if (attempts > 100) {\n",
       "        console.log(\"Bokeh: ERROR: Unable to run BokehJS code because BokehJS library is missing\");\n",
       "        clearInterval(timer);\n",
       "      }\n",
       "    }, 10, root)\n",
       "  }\n",
       "})(window);"
      ],
      "application/vnd.bokehjs_exec.v0+json": ""
     },
     "metadata": {
      "application/vnd.bokehjs_exec.v0+json": {
       "id": "12536"
      }
     },
     "output_type": "display_data"
    }
   ],
   "source": [
    "from bokeh.models import ColumnDataSource, CDSView, BooleanFilter\n",
    "\n",
    "x = list(range(-20, 21))\n",
    "y0 = [abs(xx) for xx in x]\n",
    "y1 = [xx**2 for xx in x]\n",
    "\n",
    "# create a column data source for the plots to share\n",
    "source = ColumnDataSource(data=dict(x=x, y0=y0, y1=y1))\n",
    "\n",
    "# create a view of the source for one plot to use\n",
    "view = CDSView(source=source, filters=[BooleanFilter([True if y > 250 or y < 100 else False for y in y1])])\n",
    "\n",
    "TOOLS = \"box_select,lasso_select\"\n",
    "\n",
    "# create a new plot and add a renderer\n",
    "left = figure(tools=TOOLS, plot_width=300, plot_height=300, title=None)\n",
    "left.circle('x', 'y0', size=10, hover_color=\"firebrick\", source=source)\n",
    "\n",
    "# create another new plot, add a renderer that uses the view of the data source\n",
    "right = figure(tools=TOOLS, plot_width=300, plot_height=300, title=None)\n",
    "right.circle('x', 'y1', size=10, hover_color=\"firebrick\", source=source, view=view)\n",
    "\n",
    "p = gridplot([[left, right]])\n",
    "\n",
    "show(p)"
   ]
  },
  {
   "cell_type": "markdown",
   "metadata": {},
   "source": [
    "# Interaction with widgets and JS CallBacks"
   ]
  },
  {
   "cell_type": "markdown",
   "metadata": {},
   "source": [
    "## Adding Widgets"
   ]
  },
  {
   "cell_type": "markdown",
   "metadata": {},
   "source": [
    "Widgets are interactive controls that can be added to Bokeh applications to provide a front end user interface to a visualization. They can drive new computations, update plots, and connect to other programmatic functionality.\n",
    "Widgets can be added directly to the document root or nested inside a layout. There are two ways to program a widget’s functionality:\n",
    "\n",
    "- Use the `CustomJS` callback. This will work in standalone HTML documents.\n",
    "- Use `bokeh serve` to start the Bokeh server and set up event handlers. *[DESCRIBED IN OTHER NOTEBOOKS]*"
   ]
  },
  {
   "cell_type": "markdown",
   "metadata": {},
   "source": [
    "### Buttons"
   ]
  },
  {
   "cell_type": "code",
   "execution_count": 50,
   "metadata": {},
   "outputs": [],
   "source": [
    "from bokeh.layouts import widgetbox"
   ]
  },
  {
   "cell_type": "code",
   "execution_count": 51,
   "metadata": {},
   "outputs": [
    {
     "data": {
      "text/html": [
       "\n",
       "\n",
       "\n",
       "\n",
       "\n",
       "\n",
       "  <div class=\"bk-root\" id=\"22af39c9-a97e-4e1f-8a49-9466d47bdf52\" data-root-id=\"13066\"></div>\n"
      ]
     },
     "metadata": {},
     "output_type": "display_data"
    },
    {
     "data": {
      "application/javascript": [
       "(function(root) {\n",
       "  function embed_document(root) {\n",
       "    \n",
       "  var docs_json = {\"5ececb91-be9a-45d8-9ef2-04ce8031b0b5\":{\"roots\":{\"references\":[{\"attributes\":{\"children\":[{\"id\":\"13064\",\"type\":\"Button\"},{\"id\":\"13065\",\"type\":\"Button\"}]},\"id\":\"13066\",\"type\":\"WidgetBox\"},{\"attributes\":{\"button_type\":\"success\",\"callback\":null,\"icon\":null,\"label\":\"Foo Success\"},\"id\":\"13065\",\"type\":\"Button\"},{\"attributes\":{\"button_type\":\"warning\",\"callback\":null,\"icon\":null,\"label\":\"Foo Warning\"},\"id\":\"13064\",\"type\":\"Button\"}],\"root_ids\":[\"13066\"]},\"title\":\"Bokeh Application\",\"version\":\"1.2.0\"}};\n",
       "  var render_items = [{\"docid\":\"5ececb91-be9a-45d8-9ef2-04ce8031b0b5\",\"roots\":{\"13066\":\"22af39c9-a97e-4e1f-8a49-9466d47bdf52\"}}];\n",
       "  root.Bokeh.embed.embed_items_notebook(docs_json, render_items);\n",
       "\n",
       "  }\n",
       "  if (root.Bokeh !== undefined) {\n",
       "    embed_document(root);\n",
       "  } else {\n",
       "    var attempts = 0;\n",
       "    var timer = setInterval(function(root) {\n",
       "      if (root.Bokeh !== undefined) {\n",
       "        embed_document(root);\n",
       "        clearInterval(timer);\n",
       "      }\n",
       "      attempts++;\n",
       "      if (attempts > 100) {\n",
       "        console.log(\"Bokeh: ERROR: Unable to run BokehJS code because BokehJS library is missing\");\n",
       "        clearInterval(timer);\n",
       "      }\n",
       "    }, 10, root)\n",
       "  }\n",
       "})(window);"
      ],
      "application/vnd.bokehjs_exec.v0+json": ""
     },
     "metadata": {
      "application/vnd.bokehjs_exec.v0+json": {
       "id": "13066"
      }
     },
     "output_type": "display_data"
    }
   ],
   "source": [
    "from bokeh.models.widgets import Button\n",
    "\n",
    "button_warning = Button(label=\"Foo Warning\", button_type=\"warning\")\n",
    "button_success = Button(label=\"Foo Success\", button_type=\"success\")\n",
    "\n",
    "show(widgetbox(button_warning, button_success))"
   ]
  },
  {
   "cell_type": "markdown",
   "metadata": {},
   "source": [
    "### Checkbox button group"
   ]
  },
  {
   "cell_type": "code",
   "execution_count": 52,
   "metadata": {},
   "outputs": [
    {
     "data": {
      "text/html": [
       "\n",
       "\n",
       "\n",
       "\n",
       "\n",
       "\n",
       "  <div class=\"bk-root\" id=\"382dcbec-38e1-45c6-9930-5a36dd1ad335\" data-root-id=\"13497\"></div>\n"
      ]
     },
     "metadata": {},
     "output_type": "display_data"
    },
    {
     "data": {
      "application/javascript": [
       "(function(root) {\n",
       "  function embed_document(root) {\n",
       "    \n",
       "  var docs_json = {\"8d672d08-78b7-4efd-bb50-081c68773570\":{\"roots\":{\"references\":[{\"attributes\":{\"children\":[{\"id\":\"13496\",\"type\":\"CheckboxButtonGroup\"}]},\"id\":\"13497\",\"type\":\"WidgetBox\"},{\"attributes\":{\"active\":[1,2],\"callback\":null,\"labels\":[\"Option 1\",\"Option 2\",\"Option 3\"]},\"id\":\"13496\",\"type\":\"CheckboxButtonGroup\"}],\"root_ids\":[\"13497\"]},\"title\":\"Bokeh Application\",\"version\":\"1.2.0\"}};\n",
       "  var render_items = [{\"docid\":\"8d672d08-78b7-4efd-bb50-081c68773570\",\"roots\":{\"13497\":\"382dcbec-38e1-45c6-9930-5a36dd1ad335\"}}];\n",
       "  root.Bokeh.embed.embed_items_notebook(docs_json, render_items);\n",
       "\n",
       "  }\n",
       "  if (root.Bokeh !== undefined) {\n",
       "    embed_document(root);\n",
       "  } else {\n",
       "    var attempts = 0;\n",
       "    var timer = setInterval(function(root) {\n",
       "      if (root.Bokeh !== undefined) {\n",
       "        embed_document(root);\n",
       "        clearInterval(timer);\n",
       "      }\n",
       "      attempts++;\n",
       "      if (attempts > 100) {\n",
       "        console.log(\"Bokeh: ERROR: Unable to run BokehJS code because BokehJS library is missing\");\n",
       "        clearInterval(timer);\n",
       "      }\n",
       "    }, 10, root)\n",
       "  }\n",
       "})(window);"
      ],
      "application/vnd.bokehjs_exec.v0+json": ""
     },
     "metadata": {
      "application/vnd.bokehjs_exec.v0+json": {
       "id": "13497"
      }
     },
     "output_type": "display_data"
    }
   ],
   "source": [
    "from bokeh.models.widgets import CheckboxButtonGroup\n",
    "\n",
    "checkbox_button_group = CheckboxButtonGroup(\n",
    "        labels=[\"Option 1\", \"Option 2\", \"Option 3\"], \n",
    "        active=[1, 2]) # active param show selected the slice you specify\n",
    "\n",
    "show(widgetbox(checkbox_button_group))"
   ]
  },
  {
   "cell_type": "markdown",
   "metadata": {},
   "source": [
    "### Checkbox group"
   ]
  },
  {
   "cell_type": "code",
   "execution_count": 53,
   "metadata": {},
   "outputs": [
    {
     "data": {
      "text/html": [
       "\n",
       "\n",
       "\n",
       "\n",
       "\n",
       "\n",
       "  <div class=\"bk-root\" id=\"14bdbad5-58c6-4eda-866c-757312fe545c\" data-root-id=\"13928\"></div>\n"
      ]
     },
     "metadata": {},
     "output_type": "display_data"
    },
    {
     "data": {
      "application/javascript": [
       "(function(root) {\n",
       "  function embed_document(root) {\n",
       "    \n",
       "  var docs_json = {\"a9c8fab5-071a-46d2-b105-bc1a2492609d\":{\"roots\":{\"references\":[{\"attributes\":{\"children\":[{\"id\":\"13927\",\"type\":\"CheckboxGroup\"}]},\"id\":\"13928\",\"type\":\"WidgetBox\"},{\"attributes\":{\"active\":[0,1],\"callback\":null,\"labels\":[\"Option 1\",\"Option 2\",\"Option 3\"]},\"id\":\"13927\",\"type\":\"CheckboxGroup\"}],\"root_ids\":[\"13928\"]},\"title\":\"Bokeh Application\",\"version\":\"1.2.0\"}};\n",
       "  var render_items = [{\"docid\":\"a9c8fab5-071a-46d2-b105-bc1a2492609d\",\"roots\":{\"13928\":\"14bdbad5-58c6-4eda-866c-757312fe545c\"}}];\n",
       "  root.Bokeh.embed.embed_items_notebook(docs_json, render_items);\n",
       "\n",
       "  }\n",
       "  if (root.Bokeh !== undefined) {\n",
       "    embed_document(root);\n",
       "  } else {\n",
       "    var attempts = 0;\n",
       "    var timer = setInterval(function(root) {\n",
       "      if (root.Bokeh !== undefined) {\n",
       "        embed_document(root);\n",
       "        clearInterval(timer);\n",
       "      }\n",
       "      attempts++;\n",
       "      if (attempts > 100) {\n",
       "        console.log(\"Bokeh: ERROR: Unable to run BokehJS code because BokehJS library is missing\");\n",
       "        clearInterval(timer);\n",
       "      }\n",
       "    }, 10, root)\n",
       "  }\n",
       "})(window);"
      ],
      "application/vnd.bokehjs_exec.v0+json": ""
     },
     "metadata": {
      "application/vnd.bokehjs_exec.v0+json": {
       "id": "13928"
      }
     },
     "output_type": "display_data"
    }
   ],
   "source": [
    "from bokeh.models.widgets import CheckboxGroup\n",
    "\n",
    "checkbox_group = CheckboxGroup(\n",
    "        labels=[\"Option 1\", \"Option 2\", \"Option 3\"], active=[0, 1])\n",
    "\n",
    "show(widgetbox(checkbox_group))"
   ]
  },
  {
   "cell_type": "markdown",
   "metadata": {},
   "source": [
    "## Data Table\n",
    "Bokeh provides a sophisticated data table widget based on SlickGrid. Note that since the table is configured with a data source object, any plots that share this data source will automatically have selections linked between the plot and the table (even in static HTML documents). \n",
    "\n",
    "*The data table is sortable by clicking on the column name*"
   ]
  },
  {
   "cell_type": "code",
   "execution_count": 54,
   "metadata": {},
   "outputs": [
    {
     "data": {
      "text/html": [
       "\n",
       "\n",
       "\n",
       "\n",
       "\n",
       "\n",
       "  <div class=\"bk-root\" id=\"0449ff9d-0ad0-4964-96b3-63052446cef6\" data-root-id=\"14365\"></div>\n"
      ]
     },
     "metadata": {},
     "output_type": "display_data"
    },
    {
     "data": {
      "application/javascript": [
       "(function(root) {\n",
       "  function embed_document(root) {\n",
       "    \n",
       "  var docs_json = {\"d96b3b28-28f8-4524-9f55-e23338fc8c7b\":{\"roots\":{\"references\":[{\"attributes\":{\"children\":[{\"id\":\"14363\",\"type\":\"DataTable\"}]},\"id\":\"14365\",\"type\":\"WidgetBox\"},{\"attributes\":{},\"id\":\"14798\",\"type\":\"Selection\"},{\"attributes\":{\"editor\":{\"id\":\"14796\",\"type\":\"StringEditor\"},\"field\":\"downloads\",\"formatter\":{\"id\":\"14797\",\"type\":\"StringFormatter\"},\"title\":\"Downloads\"},\"id\":\"14362\",\"type\":\"TableColumn\"},{\"attributes\":{},\"id\":\"14797\",\"type\":\"StringFormatter\"},{\"attributes\":{},\"id\":\"14795\",\"type\":\"StringEditor\"},{\"attributes\":{},\"id\":\"14799\",\"type\":\"UnionRenderers\"},{\"attributes\":{},\"id\":\"14359\",\"type\":\"DateFormatter\"},{\"attributes\":{\"columns\":[{\"id\":\"14360\",\"type\":\"TableColumn\"},{\"id\":\"14362\",\"type\":\"TableColumn\"}],\"height\":280,\"source\":{\"id\":\"14358\",\"type\":\"ColumnDataSource\"},\"view\":{\"id\":\"14364\",\"type\":\"CDSView\"},\"width\":400},\"id\":\"14363\",\"type\":\"DataTable\"},{\"attributes\":{},\"id\":\"14796\",\"type\":\"StringEditor\"},{\"attributes\":{\"callback\":null,\"data\":{\"dates\":[1488326400000.0,1488412800000.0,1488499200000.0,1488585600000.0,1488672000000.0,1488758400000.0,1488844800000.0,1488931200000.0,1489017600000.0,1489104000000.0],\"downloads\":[99,22,7,49,79,8,72,17,41,62]},\"selected\":{\"id\":\"14798\",\"type\":\"Selection\"},\"selection_policy\":{\"id\":\"14799\",\"type\":\"UnionRenderers\"}},\"id\":\"14358\",\"type\":\"ColumnDataSource\"},{\"attributes\":{\"editor\":{\"id\":\"14795\",\"type\":\"StringEditor\"},\"field\":\"dates\",\"formatter\":{\"id\":\"14359\",\"type\":\"DateFormatter\"},\"title\":\"Date\"},\"id\":\"14360\",\"type\":\"TableColumn\"},{\"attributes\":{\"source\":{\"id\":\"14358\",\"type\":\"ColumnDataSource\"}},\"id\":\"14364\",\"type\":\"CDSView\"}],\"root_ids\":[\"14365\"]},\"title\":\"Bokeh Application\",\"version\":\"1.2.0\"}};\n",
       "  var render_items = [{\"docid\":\"d96b3b28-28f8-4524-9f55-e23338fc8c7b\",\"roots\":{\"14365\":\"0449ff9d-0ad0-4964-96b3-63052446cef6\"}}];\n",
       "  root.Bokeh.embed.embed_items_notebook(docs_json, render_items);\n",
       "\n",
       "  }\n",
       "  if (root.Bokeh !== undefined) {\n",
       "    embed_document(root);\n",
       "  } else {\n",
       "    var attempts = 0;\n",
       "    var timer = setInterval(function(root) {\n",
       "      if (root.Bokeh !== undefined) {\n",
       "        embed_document(root);\n",
       "        clearInterval(timer);\n",
       "      }\n",
       "      attempts++;\n",
       "      if (attempts > 100) {\n",
       "        console.log(\"Bokeh: ERROR: Unable to run BokehJS code because BokehJS library is missing\");\n",
       "        clearInterval(timer);\n",
       "      }\n",
       "    }, 10, root)\n",
       "  }\n",
       "})(window);"
      ],
      "application/vnd.bokehjs_exec.v0+json": ""
     },
     "metadata": {
      "application/vnd.bokehjs_exec.v0+json": {
       "id": "14365"
      }
     },
     "output_type": "display_data"
    }
   ],
   "source": [
    "from datetime import date\n",
    "from random import randint\n",
    "from bokeh.models import ColumnDataSource\n",
    "from bokeh.models.widgets import DataTable, DateFormatter, TableColumn\n",
    "\n",
    "data = dict(\n",
    "        dates=[date(2017, 3, i+1) for i in range(10)],\n",
    "        downloads=[randint(0, 100) for i in range(10)],\n",
    "    )\n",
    "source = ColumnDataSource(data)\n",
    "\n",
    "columns = [\n",
    "        TableColumn(field=\"dates\", title=\"Date\", formatter=DateFormatter()),\n",
    "        TableColumn(field=\"downloads\", title=\"Downloads\"),\n",
    "    ]\n",
    "data_table = DataTable(source=source, columns=columns, width=400, height=280)\n",
    "\n",
    "show(widgetbox(data_table))"
   ]
  },
  {
   "cell_type": "markdown",
   "metadata": {},
   "source": [
    "## Sliders"
   ]
  },
  {
   "cell_type": "code",
   "execution_count": 55,
   "metadata": {},
   "outputs": [
    {
     "data": {
      "text/html": [
       "\n",
       "\n",
       "\n",
       "\n",
       "\n",
       "\n",
       "  <div class=\"bk-root\" id=\"2090d022-3fda-4fa0-ad3b-b93797bfa61d\" data-root-id=\"14827\"></div>\n"
      ]
     },
     "metadata": {},
     "output_type": "display_data"
    },
    {
     "data": {
      "application/javascript": [
       "(function(root) {\n",
       "  function embed_document(root) {\n",
       "    \n",
       "  var docs_json = {\"c6861e74-b5fd-4fc1-99ea-1be5af126f71\":{\"roots\":{\"references\":[{\"attributes\":{\"children\":[{\"id\":\"14825\",\"type\":\"Slider\"},{\"id\":\"14826\",\"type\":\"RangeSlider\"}]},\"id\":\"14827\",\"type\":\"WidgetBox\"},{\"attributes\":{\"callback\":null,\"end\":10,\"start\":0,\"step\":0.1,\"title\":\"Range Slider\",\"value\":[5,9]},\"id\":\"14826\",\"type\":\"RangeSlider\"},{\"attributes\":{\"callback\":null,\"end\":10,\"start\":0,\"step\":0.1,\"title\":\"Slider\",\"value\":3},\"id\":\"14825\",\"type\":\"Slider\"}],\"root_ids\":[\"14827\"]},\"title\":\"Bokeh Application\",\"version\":\"1.2.0\"}};\n",
       "  var render_items = [{\"docid\":\"c6861e74-b5fd-4fc1-99ea-1be5af126f71\",\"roots\":{\"14827\":\"2090d022-3fda-4fa0-ad3b-b93797bfa61d\"}}];\n",
       "  root.Bokeh.embed.embed_items_notebook(docs_json, render_items);\n",
       "\n",
       "  }\n",
       "  if (root.Bokeh !== undefined) {\n",
       "    embed_document(root);\n",
       "  } else {\n",
       "    var attempts = 0;\n",
       "    var timer = setInterval(function(root) {\n",
       "      if (root.Bokeh !== undefined) {\n",
       "        embed_document(root);\n",
       "        clearInterval(timer);\n",
       "      }\n",
       "      attempts++;\n",
       "      if (attempts > 100) {\n",
       "        console.log(\"Bokeh: ERROR: Unable to run BokehJS code because BokehJS library is missing\");\n",
       "        clearInterval(timer);\n",
       "      }\n",
       "    }, 10, root)\n",
       "  }\n",
       "})(window);"
      ],
      "application/vnd.bokehjs_exec.v0+json": ""
     },
     "metadata": {
      "application/vnd.bokehjs_exec.v0+json": {
       "id": "14827"
      }
     },
     "output_type": "display_data"
    }
   ],
   "source": [
    "from bokeh.models.widgets import Slider, RangeSlider\n",
    "\n",
    "slider = Slider(start=0, end=10, value=3, step=.1, title=\"Slider\")\n",
    "range_slider = RangeSlider(start=0, end=10, value=(5,9), step=.1, title=\"Range Slider\")\n",
    "\n",
    "show(widgetbox(slider, range_slider))"
   ]
  },
  {
   "cell_type": "markdown",
   "metadata": {},
   "source": [
    "## Tab panes"
   ]
  },
  {
   "cell_type": "code",
   "execution_count": 56,
   "metadata": {},
   "outputs": [
    {
     "data": {
      "text/html": [
       "\n",
       "\n",
       "\n",
       "\n",
       "\n",
       "\n",
       "  <div class=\"bk-root\" id=\"c7caf31d-e77a-409b-b5e6-6bb547237abe\" data-root-id=\"15338\"></div>\n"
      ]
     },
     "metadata": {},
     "output_type": "display_data"
    },
    {
     "data": {
      "application/javascript": [
       "(function(root) {\n",
       "  function embed_document(root) {\n",
       "    \n",
       "  var docs_json = {\"f4ae29b8-558f-4db9-bf1c-f3e9ebe6f5f6\":{\"roots\":{\"references\":[{\"attributes\":{\"callback\":null,\"tabs\":[{\"id\":\"15299\",\"type\":\"Panel\"},{\"id\":\"15337\",\"type\":\"Panel\"}]},\"id\":\"15338\",\"type\":\"Tabs\"},{\"attributes\":{},\"id\":\"15320\",\"type\":\"WheelZoomTool\"},{\"attributes\":{},\"id\":\"15777\",\"type\":\"BasicTickFormatter\"},{\"attributes\":{\"overlay\":{\"id\":\"15790\",\"type\":\"BoxAnnotation\"}},\"id\":\"15321\",\"type\":\"BoxZoomTool\"},{\"attributes\":{\"data_source\":{\"id\":\"15332\",\"type\":\"ColumnDataSource\"},\"glyph\":{\"id\":\"15333\",\"type\":\"Line\"},\"hover_glyph\":null,\"muted_glyph\":null,\"nonselection_glyph\":{\"id\":\"15334\",\"type\":\"Line\"},\"selection_glyph\":null,\"view\":{\"id\":\"15336\",\"type\":\"CDSView\"}},\"id\":\"15335\",\"type\":\"GlyphRenderer\"},{\"attributes\":{},\"id\":\"15779\",\"type\":\"BasicTickFormatter\"},{\"attributes\":{\"callback\":null},\"id\":\"15301\",\"type\":\"DataRange1d\"},{\"attributes\":{\"fill_alpha\":{\"value\":0.5},\"fill_color\":{\"value\":\"red\"},\"line_alpha\":{\"value\":0.5},\"line_color\":{\"value\":\"red\"},\"size\":{\"units\":\"screen\",\"value\":20},\"x\":{\"field\":\"x\"},\"y\":{\"field\":\"y\"}},\"id\":\"15295\",\"type\":\"Circle\"},{\"attributes\":{},\"id\":\"15781\",\"type\":\"BasicTickFormatter\"},{\"attributes\":{\"callback\":null},\"id\":\"15303\",\"type\":\"DataRange1d\"},{\"attributes\":{},\"id\":\"15322\",\"type\":\"SaveTool\"},{\"attributes\":{\"source\":{\"id\":\"15294\",\"type\":\"ColumnDataSource\"}},\"id\":\"15298\",\"type\":\"CDSView\"},{\"attributes\":{},\"id\":\"15783\",\"type\":\"BasicTickFormatter\"},{\"attributes\":{},\"id\":\"15305\",\"type\":\"LinearScale\"},{\"attributes\":{},\"id\":\"15272\",\"type\":\"BasicTicker\"},{\"attributes\":{\"formatter\":{\"id\":\"15777\",\"type\":\"BasicTickFormatter\"},\"ticker\":{\"id\":\"15277\",\"type\":\"BasicTicker\"}},\"id\":\"15276\",\"type\":\"LinearAxis\"},{\"attributes\":{},\"id\":\"15785\",\"type\":\"Selection\"},{\"attributes\":{},\"id\":\"15307\",\"type\":\"LinearScale\"},{\"attributes\":{\"data_source\":{\"id\":\"15294\",\"type\":\"ColumnDataSource\"},\"glyph\":{\"id\":\"15295\",\"type\":\"Circle\"},\"hover_glyph\":null,\"muted_glyph\":null,\"nonselection_glyph\":{\"id\":\"15296\",\"type\":\"Circle\"},\"selection_glyph\":null,\"view\":{\"id\":\"15298\",\"type\":\"CDSView\"}},\"id\":\"15297\",\"type\":\"GlyphRenderer\"},{\"attributes\":{},\"id\":\"15786\",\"type\":\"UnionRenderers\"},{\"attributes\":{\"formatter\":{\"id\":\"15783\",\"type\":\"BasicTickFormatter\"},\"ticker\":{\"id\":\"15310\",\"type\":\"BasicTicker\"}},\"id\":\"15309\",\"type\":\"LinearAxis\"},{\"attributes\":{\"callback\":null,\"data\":{\"x\":[1,2,3,4,5],\"y\":[6,7,2,4,5]},\"selected\":{\"id\":\"15785\",\"type\":\"Selection\"},\"selection_policy\":{\"id\":\"15786\",\"type\":\"UnionRenderers\"}},\"id\":\"15294\",\"type\":\"ColumnDataSource\"},{\"attributes\":{\"callback\":null,\"data\":{\"x\":[1,2,3,4,5],\"y\":[6,7,2,4,5]},\"selected\":{\"id\":\"15788\",\"type\":\"Selection\"},\"selection_policy\":{\"id\":\"15789\",\"type\":\"UnionRenderers\"}},\"id\":\"15332\",\"type\":\"ColumnDataSource\"},{\"attributes\":{\"ticker\":{\"id\":\"15272\",\"type\":\"BasicTicker\"}},\"id\":\"15275\",\"type\":\"Grid\"},{\"attributes\":{\"bottom_units\":\"screen\",\"fill_alpha\":{\"value\":0.5},\"fill_color\":{\"value\":\"lightgrey\"},\"left_units\":\"screen\",\"level\":\"overlay\",\"line_alpha\":{\"value\":1.0},\"line_color\":{\"value\":\"black\"},\"line_dash\":[4,4],\"line_width\":{\"value\":2},\"render_mode\":\"css\",\"right_units\":\"screen\",\"top_units\":\"screen\"},\"id\":\"15787\",\"type\":\"BoxAnnotation\"},{\"attributes\":{},\"id\":\"15310\",\"type\":\"BasicTicker\"},{\"attributes\":{\"below\":[{\"id\":\"15309\",\"type\":\"LinearAxis\"}],\"center\":[{\"id\":\"15313\",\"type\":\"Grid\"},{\"id\":\"15318\",\"type\":\"Grid\"}],\"left\":[{\"id\":\"15314\",\"type\":\"LinearAxis\"}],\"plot_height\":300,\"plot_width\":300,\"renderers\":[{\"id\":\"15335\",\"type\":\"GlyphRenderer\"}],\"title\":{\"id\":\"15775\",\"type\":\"Title\"},\"toolbar\":{\"id\":\"15325\",\"type\":\"Toolbar\"},\"x_range\":{\"id\":\"15301\",\"type\":\"DataRange1d\"},\"x_scale\":{\"id\":\"15305\",\"type\":\"LinearScale\"},\"y_range\":{\"id\":\"15303\",\"type\":\"DataRange1d\"},\"y_scale\":{\"id\":\"15307\",\"type\":\"LinearScale\"}},\"id\":\"15300\",\"subtype\":\"Figure\",\"type\":\"Plot\"},{\"attributes\":{},\"id\":\"15277\",\"type\":\"BasicTicker\"},{\"attributes\":{},\"id\":\"15788\",\"type\":\"Selection\"},{\"attributes\":{\"ticker\":{\"id\":\"15310\",\"type\":\"BasicTicker\"}},\"id\":\"15313\",\"type\":\"Grid\"},{\"attributes\":{\"callback\":null},\"id\":\"15265\",\"type\":\"DataRange1d\"},{\"attributes\":{\"dimension\":1,\"ticker\":{\"id\":\"15277\",\"type\":\"BasicTicker\"}},\"id\":\"15280\",\"type\":\"Grid\"},{\"attributes\":{\"line_alpha\":0.1,\"line_color\":\"#1f77b4\",\"line_width\":3,\"x\":{\"field\":\"x\"},\"y\":{\"field\":\"y\"}},\"id\":\"15334\",\"type\":\"Line\"},{\"attributes\":{\"formatter\":{\"id\":\"15781\",\"type\":\"BasicTickFormatter\"},\"ticker\":{\"id\":\"15315\",\"type\":\"BasicTicker\"}},\"id\":\"15314\",\"type\":\"LinearAxis\"},{\"attributes\":{},\"id\":\"15789\",\"type\":\"UnionRenderers\"},{\"attributes\":{\"bottom_units\":\"screen\",\"fill_alpha\":{\"value\":0.5},\"fill_color\":{\"value\":\"lightgrey\"},\"left_units\":\"screen\",\"level\":\"overlay\",\"line_alpha\":{\"value\":1.0},\"line_color\":{\"value\":\"black\"},\"line_dash\":[4,4],\"line_width\":{\"value\":2},\"render_mode\":\"css\",\"right_units\":\"screen\",\"top_units\":\"screen\"},\"id\":\"15790\",\"type\":\"BoxAnnotation\"},{\"attributes\":{},\"id\":\"15315\",\"type\":\"BasicTicker\"},{\"attributes\":{},\"id\":\"15319\",\"type\":\"PanTool\"},{\"attributes\":{\"child\":{\"id\":\"15262\",\"subtype\":\"Figure\",\"type\":\"Plot\"},\"title\":\"circle\"},\"id\":\"15299\",\"type\":\"Panel\"},{\"attributes\":{\"fill_alpha\":{\"value\":0.1},\"fill_color\":{\"value\":\"#1f77b4\"},\"line_alpha\":{\"value\":0.1},\"line_color\":{\"value\":\"#1f77b4\"},\"size\":{\"units\":\"screen\",\"value\":20},\"x\":{\"field\":\"x\"},\"y\":{\"field\":\"y\"}},\"id\":\"15296\",\"type\":\"Circle\"},{\"attributes\":{},\"id\":\"15282\",\"type\":\"WheelZoomTool\"},{\"attributes\":{\"active_drag\":\"auto\",\"active_inspect\":\"auto\",\"active_multi\":null,\"active_scroll\":\"auto\",\"active_tap\":\"auto\",\"tools\":[{\"id\":\"15319\",\"type\":\"PanTool\"},{\"id\":\"15320\",\"type\":\"WheelZoomTool\"},{\"id\":\"15321\",\"type\":\"BoxZoomTool\"},{\"id\":\"15322\",\"type\":\"SaveTool\"},{\"id\":\"15323\",\"type\":\"ResetTool\"},{\"id\":\"15324\",\"type\":\"HelpTool\"}]},\"id\":\"15325\",\"type\":\"Toolbar\"},{\"attributes\":{},\"id\":\"15323\",\"type\":\"ResetTool\"},{\"attributes\":{\"overlay\":{\"id\":\"15787\",\"type\":\"BoxAnnotation\"}},\"id\":\"15283\",\"type\":\"BoxZoomTool\"},{\"attributes\":{\"below\":[{\"id\":\"15271\",\"type\":\"LinearAxis\"}],\"center\":[{\"id\":\"15275\",\"type\":\"Grid\"},{\"id\":\"15280\",\"type\":\"Grid\"}],\"left\":[{\"id\":\"15276\",\"type\":\"LinearAxis\"}],\"plot_height\":300,\"plot_width\":300,\"renderers\":[{\"id\":\"15297\",\"type\":\"GlyphRenderer\"}],\"title\":{\"id\":\"15773\",\"type\":\"Title\"},\"toolbar\":{\"id\":\"15287\",\"type\":\"Toolbar\"},\"x_range\":{\"id\":\"15263\",\"type\":\"DataRange1d\"},\"x_scale\":{\"id\":\"15267\",\"type\":\"LinearScale\"},\"y_range\":{\"id\":\"15265\",\"type\":\"DataRange1d\"},\"y_scale\":{\"id\":\"15269\",\"type\":\"LinearScale\"}},\"id\":\"15262\",\"subtype\":\"Figure\",\"type\":\"Plot\"},{\"attributes\":{\"line_alpha\":0.5,\"line_color\":\"blue\",\"line_width\":3,\"x\":{\"field\":\"x\"},\"y\":{\"field\":\"y\"}},\"id\":\"15333\",\"type\":\"Line\"},{\"attributes\":{},\"id\":\"15281\",\"type\":\"PanTool\"},{\"attributes\":{\"callback\":null},\"id\":\"15263\",\"type\":\"DataRange1d\"},{\"attributes\":{\"text\":\"\"},\"id\":\"15773\",\"type\":\"Title\"},{\"attributes\":{},\"id\":\"15267\",\"type\":\"LinearScale\"},{\"attributes\":{\"source\":{\"id\":\"15332\",\"type\":\"ColumnDataSource\"}},\"id\":\"15336\",\"type\":\"CDSView\"},{\"attributes\":{\"dimension\":1,\"ticker\":{\"id\":\"15315\",\"type\":\"BasicTicker\"}},\"id\":\"15318\",\"type\":\"Grid\"},{\"attributes\":{\"child\":{\"id\":\"15300\",\"subtype\":\"Figure\",\"type\":\"Plot\"},\"title\":\"line\"},\"id\":\"15337\",\"type\":\"Panel\"},{\"attributes\":{},\"id\":\"15284\",\"type\":\"SaveTool\"},{\"attributes\":{},\"id\":\"15269\",\"type\":\"LinearScale\"},{\"attributes\":{},\"id\":\"15324\",\"type\":\"HelpTool\"},{\"attributes\":{},\"id\":\"15285\",\"type\":\"ResetTool\"},{\"attributes\":{},\"id\":\"15286\",\"type\":\"HelpTool\"},{\"attributes\":{\"text\":\"\"},\"id\":\"15775\",\"type\":\"Title\"},{\"attributes\":{\"active_drag\":\"auto\",\"active_inspect\":\"auto\",\"active_multi\":null,\"active_scroll\":\"auto\",\"active_tap\":\"auto\",\"tools\":[{\"id\":\"15281\",\"type\":\"PanTool\"},{\"id\":\"15282\",\"type\":\"WheelZoomTool\"},{\"id\":\"15283\",\"type\":\"BoxZoomTool\"},{\"id\":\"15284\",\"type\":\"SaveTool\"},{\"id\":\"15285\",\"type\":\"ResetTool\"},{\"id\":\"15286\",\"type\":\"HelpTool\"}]},\"id\":\"15287\",\"type\":\"Toolbar\"},{\"attributes\":{\"formatter\":{\"id\":\"15779\",\"type\":\"BasicTickFormatter\"},\"ticker\":{\"id\":\"15272\",\"type\":\"BasicTicker\"}},\"id\":\"15271\",\"type\":\"LinearAxis\"}],\"root_ids\":[\"15338\"]},\"title\":\"Bokeh Application\",\"version\":\"1.2.0\"}};\n",
       "  var render_items = [{\"docid\":\"f4ae29b8-558f-4db9-bf1c-f3e9ebe6f5f6\",\"roots\":{\"15338\":\"c7caf31d-e77a-409b-b5e6-6bb547237abe\"}}];\n",
       "  root.Bokeh.embed.embed_items_notebook(docs_json, render_items);\n",
       "\n",
       "  }\n",
       "  if (root.Bokeh !== undefined) {\n",
       "    embed_document(root);\n",
       "  } else {\n",
       "    var attempts = 0;\n",
       "    var timer = setInterval(function(root) {\n",
       "      if (root.Bokeh !== undefined) {\n",
       "        embed_document(root);\n",
       "        clearInterval(timer);\n",
       "      }\n",
       "      attempts++;\n",
       "      if (attempts > 100) {\n",
       "        console.log(\"Bokeh: ERROR: Unable to run BokehJS code because BokehJS library is missing\");\n",
       "        clearInterval(timer);\n",
       "      }\n",
       "    }, 10, root)\n",
       "  }\n",
       "})(window);"
      ],
      "application/vnd.bokehjs_exec.v0+json": ""
     },
     "metadata": {
      "application/vnd.bokehjs_exec.v0+json": {
       "id": "15338"
      }
     },
     "output_type": "display_data"
    }
   ],
   "source": [
    "from bokeh.models.widgets import Panel, Tabs\n",
    "from bokeh.plotting import figure\n",
    "\n",
    "p1 = figure(plot_width=300, plot_height=300)\n",
    "p1.circle([1, 2, 3, 4, 5], [6, 7, 2, 4, 5], size=20, color=\"red\", alpha=0.5)\n",
    "tab1 = Panel(child=p1, title=\"circle\")\n",
    "\n",
    "p2 = figure(plot_width=300, plot_height=300)\n",
    "p2.line([1, 2, 3, 4, 5], [6, 7, 2, 4, 5], line_width=3, color=\"blue\", alpha=0.5)\n",
    "tab2 = Panel(child=p2, title=\"line\")\n",
    "\n",
    "tabs = Tabs(tabs=[ tab1, tab2 ])\n",
    "\n",
    "show(tabs)"
   ]
  },
  {
   "cell_type": "code",
   "execution_count": 57,
   "metadata": {},
   "outputs": [
    {
     "data": {
      "text/html": [
       "\n",
       "\n",
       "\n",
       "\n",
       "\n",
       "\n",
       "  <div class=\"bk-root\" id=\"660acc82-128a-42a8-9de5-86f793f98d87\" data-root-id=\"15939\"></div>\n"
      ]
     },
     "metadata": {},
     "output_type": "display_data"
    },
    {
     "data": {
      "application/javascript": [
       "(function(root) {\n",
       "  function embed_document(root) {\n",
       "    \n",
       "  var docs_json = {\"5af87648-39c1-455d-ac3a-532af91c415d\":{\"roots\":{\"references\":[{\"attributes\":{\"children\":[{\"id\":\"15938\",\"type\":\"Slider\"},{\"id\":\"15900\",\"subtype\":\"Figure\",\"type\":\"Plot\"}]},\"id\":\"15939\",\"type\":\"Column\"},{\"attributes\":{\"dimension\":1,\"ticker\":{\"id\":\"15915\",\"type\":\"BasicTicker\"}},\"id\":\"15918\",\"type\":\"Grid\"},{\"attributes\":{},\"id\":\"16399\",\"type\":\"UnionRenderers\"},{\"attributes\":{\"line_alpha\":0.1,\"line_color\":\"#1f77b4\",\"line_width\":3,\"x\":{\"field\":\"x\"},\"y\":{\"field\":\"y\"}},\"id\":\"15934\",\"type\":\"Line\"},{\"attributes\":{\"line_alpha\":0.6,\"line_color\":\"#1f77b4\",\"line_width\":3,\"x\":{\"field\":\"x\"},\"y\":{\"field\":\"y\"}},\"id\":\"15933\",\"type\":\"Line\"},{\"attributes\":{\"args\":{\"source\":{\"id\":\"15899\",\"type\":\"ColumnDataSource\"}},\"code\":\"\\n    var data = source.data;\\n    var f = cb_obj.value\\n    x = data['x']\\n    y = data['y']\\n    for (i = 0; i < x.length; i++) {\\n        y[i] = Math.pow(x[i], f)\\n    }\\n    source.change.emit();\\n\"},\"id\":\"15937\",\"type\":\"CustomJS\"},{\"attributes\":{},\"id\":\"15919\",\"type\":\"PanTool\"},{\"attributes\":{},\"id\":\"15920\",\"type\":\"WheelZoomTool\"},{\"attributes\":{\"overlay\":{\"id\":\"16400\",\"type\":\"BoxAnnotation\"}},\"id\":\"15921\",\"type\":\"BoxZoomTool\"},{\"attributes\":{\"callback\":null,\"data\":{\"x\":[0.0,0.005,0.01,0.015,0.02,0.025,0.03,0.035,0.04,0.045,0.05,0.055,0.06,0.065,0.07,0.075,0.08,0.085,0.09,0.095,0.1,0.105,0.11,0.115,0.12,0.125,0.13,0.135,0.14,0.145,0.15,0.155,0.16,0.165,0.17,0.17500000000000002,0.18,0.185,0.19,0.195,0.2,0.20500000000000002,0.21,0.215,0.22,0.225,0.23,0.23500000000000001,0.24,0.245,0.25,0.255,0.26,0.265,0.27,0.275,0.28,0.28500000000000003,0.29,0.295,0.3,0.305,0.31,0.315,0.32,0.325,0.33,0.335,0.34,0.34500000000000003,0.35000000000000003,0.355,0.36,0.365,0.37,0.375,0.38,0.385,0.39,0.395,0.4,0.405,0.41000000000000003,0.41500000000000004,0.42,0.425,0.43,0.435,0.44,0.445,0.45,0.455,0.46,0.465,0.47000000000000003,0.47500000000000003,0.48,0.485,0.49,0.495,0.5,0.505,0.51,0.515,0.52,0.525,0.53,0.535,0.54,0.545,0.55,0.555,0.56,0.5650000000000001,0.5700000000000001,0.5750000000000001,0.58,0.585,0.59,0.595,0.6,0.605,0.61,0.615,0.62,0.625,0.63,0.635,0.64,0.645,0.65,0.655,0.66,0.665,0.67,0.675,0.68,0.685,0.6900000000000001,0.6950000000000001,0.7000000000000001,0.705,0.71,0.715,0.72,0.725,0.73,0.735,0.74,0.745,0.75,0.755,0.76,0.765,0.77,0.775,0.78,0.785,0.79,0.795,0.8,0.805,0.81,0.8150000000000001,0.8200000000000001,0.8250000000000001,0.8300000000000001,0.835,0.84,0.845,0.85,0.855,0.86,0.865,0.87,0.875,0.88,0.885,0.89,0.895,0.9,0.905,0.91,0.915,0.92,0.925,0.93,0.935,0.9400000000000001,0.9450000000000001,0.9500000000000001,0.9550000000000001,0.96,0.965,0.97,0.975,0.98,0.985,0.99,0.995],\"y\":[0.0,0.005,0.01,0.015,0.02,0.025,0.03,0.035,0.04,0.045,0.05,0.055,0.06,0.065,0.07,0.075,0.08,0.085,0.09,0.095,0.1,0.105,0.11,0.115,0.12,0.125,0.13,0.135,0.14,0.145,0.15,0.155,0.16,0.165,0.17,0.17500000000000002,0.18,0.185,0.19,0.195,0.2,0.20500000000000002,0.21,0.215,0.22,0.225,0.23,0.23500000000000001,0.24,0.245,0.25,0.255,0.26,0.265,0.27,0.275,0.28,0.28500000000000003,0.29,0.295,0.3,0.305,0.31,0.315,0.32,0.325,0.33,0.335,0.34,0.34500000000000003,0.35000000000000003,0.355,0.36,0.365,0.37,0.375,0.38,0.385,0.39,0.395,0.4,0.405,0.41000000000000003,0.41500000000000004,0.42,0.425,0.43,0.435,0.44,0.445,0.45,0.455,0.46,0.465,0.47000000000000003,0.47500000000000003,0.48,0.485,0.49,0.495,0.5,0.505,0.51,0.515,0.52,0.525,0.53,0.535,0.54,0.545,0.55,0.555,0.56,0.5650000000000001,0.5700000000000001,0.5750000000000001,0.58,0.585,0.59,0.595,0.6,0.605,0.61,0.615,0.62,0.625,0.63,0.635,0.64,0.645,0.65,0.655,0.66,0.665,0.67,0.675,0.68,0.685,0.6900000000000001,0.6950000000000001,0.7000000000000001,0.705,0.71,0.715,0.72,0.725,0.73,0.735,0.74,0.745,0.75,0.755,0.76,0.765,0.77,0.775,0.78,0.785,0.79,0.795,0.8,0.805,0.81,0.8150000000000001,0.8200000000000001,0.8250000000000001,0.8300000000000001,0.835,0.84,0.845,0.85,0.855,0.86,0.865,0.87,0.875,0.88,0.885,0.89,0.895,0.9,0.905,0.91,0.915,0.92,0.925,0.93,0.935,0.9400000000000001,0.9450000000000001,0.9500000000000001,0.9550000000000001,0.96,0.965,0.97,0.975,0.98,0.985,0.99,0.995]},\"selected\":{\"id\":\"16398\",\"type\":\"Selection\"},\"selection_policy\":{\"id\":\"16399\",\"type\":\"UnionRenderers\"}},\"id\":\"15899\",\"type\":\"ColumnDataSource\"},{\"attributes\":{\"below\":[{\"id\":\"15909\",\"type\":\"LinearAxis\"}],\"center\":[{\"id\":\"15913\",\"type\":\"Grid\"},{\"id\":\"15918\",\"type\":\"Grid\"}],\"left\":[{\"id\":\"15914\",\"type\":\"LinearAxis\"}],\"plot_height\":400,\"plot_width\":400,\"renderers\":[{\"id\":\"15935\",\"type\":\"GlyphRenderer\"}],\"title\":{\"id\":\"16392\",\"type\":\"Title\"},\"toolbar\":{\"id\":\"15925\",\"type\":\"Toolbar\"},\"x_range\":{\"id\":\"15901\",\"type\":\"DataRange1d\"},\"x_scale\":{\"id\":\"15905\",\"type\":\"LinearScale\"},\"y_range\":{\"id\":\"15903\",\"type\":\"DataRange1d\"},\"y_scale\":{\"id\":\"15907\",\"type\":\"LinearScale\"}},\"id\":\"15900\",\"subtype\":\"Figure\",\"type\":\"Plot\"},{\"attributes\":{},\"id\":\"15922\",\"type\":\"SaveTool\"},{\"attributes\":{\"bottom_units\":\"screen\",\"fill_alpha\":{\"value\":0.5},\"fill_color\":{\"value\":\"lightgrey\"},\"left_units\":\"screen\",\"level\":\"overlay\",\"line_alpha\":{\"value\":1.0},\"line_color\":{\"value\":\"black\"},\"line_dash\":[4,4],\"line_width\":{\"value\":2},\"render_mode\":\"css\",\"right_units\":\"screen\",\"top_units\":\"screen\"},\"id\":\"16400\",\"type\":\"BoxAnnotation\"},{\"attributes\":{},\"id\":\"15923\",\"type\":\"ResetTool\"},{\"attributes\":{},\"id\":\"16398\",\"type\":\"Selection\"},{\"attributes\":{},\"id\":\"15924\",\"type\":\"HelpTool\"},{\"attributes\":{\"callback\":null},\"id\":\"15901\",\"type\":\"DataRange1d\"},{\"attributes\":{\"active_drag\":\"auto\",\"active_inspect\":\"auto\",\"active_multi\":null,\"active_scroll\":\"auto\",\"active_tap\":\"auto\",\"tools\":[{\"id\":\"15919\",\"type\":\"PanTool\"},{\"id\":\"15920\",\"type\":\"WheelZoomTool\"},{\"id\":\"15921\",\"type\":\"BoxZoomTool\"},{\"id\":\"15922\",\"type\":\"SaveTool\"},{\"id\":\"15923\",\"type\":\"ResetTool\"},{\"id\":\"15924\",\"type\":\"HelpTool\"}]},\"id\":\"15925\",\"type\":\"Toolbar\"},{\"attributes\":{\"data_source\":{\"id\":\"15899\",\"type\":\"ColumnDataSource\"},\"glyph\":{\"id\":\"15933\",\"type\":\"Line\"},\"hover_glyph\":null,\"muted_glyph\":null,\"nonselection_glyph\":{\"id\":\"15934\",\"type\":\"Line\"},\"selection_glyph\":null,\"view\":{\"id\":\"15936\",\"type\":\"CDSView\"}},\"id\":\"15935\",\"type\":\"GlyphRenderer\"},{\"attributes\":{\"callback\":null},\"id\":\"15903\",\"type\":\"DataRange1d\"},{\"attributes\":{},\"id\":\"15905\",\"type\":\"LinearScale\"},{\"attributes\":{\"source\":{\"id\":\"15899\",\"type\":\"ColumnDataSource\"}},\"id\":\"15936\",\"type\":\"CDSView\"},{\"attributes\":{},\"id\":\"15907\",\"type\":\"LinearScale\"},{\"attributes\":{\"callback\":null,\"end\":4,\"js_property_callbacks\":{\"change:value\":[{\"id\":\"15937\",\"type\":\"CustomJS\"}]},\"start\":0.1,\"step\":0.1,\"title\":\"power\",\"value\":1},\"id\":\"15938\",\"type\":\"Slider\"},{\"attributes\":{\"formatter\":{\"id\":\"16396\",\"type\":\"BasicTickFormatter\"},\"ticker\":{\"id\":\"15910\",\"type\":\"BasicTicker\"}},\"id\":\"15909\",\"type\":\"LinearAxis\"},{\"attributes\":{\"text\":\"\"},\"id\":\"16392\",\"type\":\"Title\"},{\"attributes\":{},\"id\":\"15910\",\"type\":\"BasicTicker\"},{\"attributes\":{\"ticker\":{\"id\":\"15910\",\"type\":\"BasicTicker\"}},\"id\":\"15913\",\"type\":\"Grid\"},{\"attributes\":{\"formatter\":{\"id\":\"16394\",\"type\":\"BasicTickFormatter\"},\"ticker\":{\"id\":\"15915\",\"type\":\"BasicTicker\"}},\"id\":\"15914\",\"type\":\"LinearAxis\"},{\"attributes\":{},\"id\":\"16396\",\"type\":\"BasicTickFormatter\"},{\"attributes\":{},\"id\":\"15915\",\"type\":\"BasicTicker\"},{\"attributes\":{},\"id\":\"16394\",\"type\":\"BasicTickFormatter\"}],\"root_ids\":[\"15939\"]},\"title\":\"Bokeh Application\",\"version\":\"1.2.0\"}};\n",
       "  var render_items = [{\"docid\":\"5af87648-39c1-455d-ac3a-532af91c415d\",\"roots\":{\"15939\":\"660acc82-128a-42a8-9de5-86f793f98d87\"}}];\n",
       "  root.Bokeh.embed.embed_items_notebook(docs_json, render_items);\n",
       "\n",
       "  }\n",
       "  if (root.Bokeh !== undefined) {\n",
       "    embed_document(root);\n",
       "  } else {\n",
       "    var attempts = 0;\n",
       "    var timer = setInterval(function(root) {\n",
       "      if (root.Bokeh !== undefined) {\n",
       "        embed_document(root);\n",
       "        clearInterval(timer);\n",
       "      }\n",
       "      attempts++;\n",
       "      if (attempts > 100) {\n",
       "        console.log(\"Bokeh: ERROR: Unable to run BokehJS code because BokehJS library is missing\");\n",
       "        clearInterval(timer);\n",
       "      }\n",
       "    }, 10, root)\n",
       "  }\n",
       "})(window);"
      ],
      "application/vnd.bokehjs_exec.v0+json": ""
     },
     "metadata": {
      "application/vnd.bokehjs_exec.v0+json": {
       "id": "15939"
      }
     },
     "output_type": "display_data"
    }
   ],
   "source": [
    "from bokeh.layouts import column\n",
    "from bokeh.models import CustomJS, ColumnDataSource, Slider\n",
    "from bokeh.plotting import figure\n",
    "\n",
    "x = [x*0.005 for x in range(0, 200)]\n",
    "y = x\n",
    "\n",
    "source = ColumnDataSource(data=dict(x=x, y=y))\n",
    "\n",
    "plot = figure(plot_width=400, plot_height=400)\n",
    "plot.line('x', 'y', source=source, line_width=3, line_alpha=0.6)\n",
    "\n",
    "callback = CustomJS(args=dict(source=source), code=\"\"\"\n",
    "    var data = source.data;\n",
    "    var f = cb_obj.value\n",
    "    x = data['x']\n",
    "    y = data['y']\n",
    "    for (i = 0; i < x.length; i++) {\n",
    "        y[i] = Math.pow(x[i], f)\n",
    "    }\n",
    "    source.change.emit();\n",
    "\"\"\")\n",
    "\n",
    "slider = Slider(start=0.1, end=4, value=1, step=.1, title=\"power\")\n",
    "slider.js_on_change('value', callback)\n",
    "\n",
    "layout = column(slider, plot)\n",
    "\n",
    "show(layout)"
   ]
  },
  {
   "cell_type": "markdown",
   "metadata": {},
   "source": [
    "The above example shows how to attach a CustomJS callback to a Slider widget, so that whenever the slider value updates, the callback is executed to update some data."
   ]
  },
  {
   "cell_type": "markdown",
   "metadata": {},
   "source": [
    "# Additional Resources and Further Readings"
   ]
  },
  {
   "cell_type": "markdown",
   "metadata": {},
   "source": [
    "## Doumentation\n",
    "\n",
    "\n",
    "##### Main Page - https://bokeh.pydata.org/en/latest \n",
    "\n",
    "The main documentation front page, with links to many other resources\n",
    "\n",
    "---\n",
    "\n",
    "##### User's Guide - https://bokeh.pydata.org/en/latest/docs/user_guide.html\n",
    "\n",
    "The user's guide has many top-oriented subsections, for example \"Plotting with Basic Glyphs\", \"Configuring Plot Tools\", or \"Adding Interactions\". Each user's guide section typically example code and corresponding live plots that demonstrate how to accomplish various tasks. \n",
    "\n",
    "---\n",
    "\n",
    "##### Gallery - https://bokeh.pydata.org/en/latest/docs/gallery.html\n",
    "\n",
    "One of the best ways to learn is to find an existing example similar to what you want, and to study it and then use it as a starting place. Starting from a known working example can often save time and effort when getting started by allowing you to make small, incremental changes and observing the outcome. The Bokeh docs have a large thumbnail gallery that links to live plots and apps with corresponding code.  \n",
    "\n",
    "\n",
    "---\n",
    "\n",
    "##### Reference Guide - https://bokeh.pydata.org/en/latest/docs/reference.html\n",
    "\n",
    "If you are already familiar with Bokeh and have questions about specific details of the obejcts you are already using, the reference guide is a good resource for finding information. The reference guide is automatically generated from the project source code and is a complete resources for all bokeh models and their properties. \n",
    "\n",
    "---\n",
    "\n",
    "\n",
    "\n",
    "##### Issue tracker - https://github.com/bokeh/bokeh/issues\n",
    "\n",
    "The GitHub issue tracker is the place to go to submit ***bug reports*** and ***feature requests***. It it NOT the right place for general support questions (see the *General Community Support* links below).\n",
    "\n"
   ]
  },
  {
   "cell_type": "markdown",
   "metadata": {},
   "source": [
    "## Example apps and Scripts\n",
    "\n",
    "In addition to all the live gallery examples, Bokeh has many additional scripts and apps that can be instructive to study and emulate. \n",
    "\n",
    "##### Examples folder - https://github.com/bokeh/bokeh/tree/master/examples/\n",
    "\n",
    "The `examples` directory has many subfolders dedicated to different kinds of topics. Some of the hightlights are:\n",
    "\n",
    "* `app` - example Bokeh apps, run with \"`bokeh serve`\"\n",
    "* `howto` - some examples arranged around specific topics such as layout or notebook comms\n",
    "* `models` - examples that demonstrate the low-level `bokeh.models` API\n",
    "* `plotting` - a large collections of examples using the `bokeh.plotting` interface\n",
    "* `webgl` - some examples demonstrating WebGL usage\n",
    "\n",
    "---\n",
    "\n",
    "##### Example zipfile\n",
    "\n",
    "To make the things easier to obtain, a zip file of just the examples is also available at\n",
    "\n",
    "`https://cdn.pydata.org/bokeh/examples/examples-<x.y.z>.zip`\n",
    "\n",
    "For example, the examples zipfile for the `0.13.0` release can be found at:\n",
    "\n",
    "https://cdn.pydata.org/bokeh/examples/examples-0.13.0.zip\n",
    "\n",
    "\n"
   ]
  },
  {
   "cell_type": "markdown",
   "metadata": {},
   "source": [
    "## General Community Support\n",
    "\n",
    "Bokeh has a large and growing community. The best place to go for general support questions (either to ask, or to answer!) is one of the community support resources listed below. \n",
    "\n",
    "* Mailing list - https://groups.google.com/a/anaconda.com/forum/#!forum/bokeh\n",
    "* Gitter chat channel - https://gitter.im/bokeh/bokeh\n",
    "* StackOverflow (use `#bokeh` tag): http://stackoverflow.com/questions/tagged/bokeh\n",
    "\n"
   ]
  },
  {
   "cell_type": "markdown",
   "metadata": {},
   "source": [
    "## Contributor Resources\n",
    "\n",
    "Bokeh has a small but growinf developer community. We are always looking to have new contributors. Below are some resources for people involved in working on Bokeh itself.\n",
    "\n",
    "##### Source code - https://github.com/bokeh/bokeh\n",
    "\n",
    "Go here to clone the GitHub repo (in order to contribute or get the examples), or to submit issues to the issue tracker \n",
    "\n",
    "---\n",
    "\n",
    "##### Issue tracker - https://github.com/bokeh/bokeh/issues\n",
    "\n",
    "The GitHub issue tracker is the place to go to submit ***bug reports*** and ***feature requests***. For general support questions, see the *General Community Support* links above.\n",
    "\n",
    "---\n",
    "\n",
    "#### Developer's Guide - https://bokeh.pydata.org/en/latest/docs/dev_guide.html\n",
    "\n",
    "If you are interesting in becoming a contributor to Bokeh, the developer's guide is the place to start. It has information about getting a development environment set up, the library architecture, writing and running tests, \n",
    "\n",
    "---\n",
    "\n",
    "#### Dev Chat Channel - https://gitter.im/bokeh/bokeh-dev\n",
    "\n",
    "Come here for assistance with any questions about developing Bokeh itself. \n"
   ]
  }
 ],
 "metadata": {
  "kernelspec": {
   "display_name": "Python 3.7 (WebValley2019)",
   "language": "python",
   "name": "webvalley19"
  },
  "language_info": {
   "codemirror_mode": {
    "name": "ipython",
    "version": 3
   },
   "file_extension": ".py",
   "mimetype": "text/x-python",
   "name": "python",
   "nbconvert_exporter": "python",
   "pygments_lexer": "ipython3",
   "version": "3.7.3"
  }
 },
 "nbformat": 4,
 "nbformat_minor": 2
}
